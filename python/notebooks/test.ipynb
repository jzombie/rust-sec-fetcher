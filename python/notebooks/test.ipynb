{
 "cells": [
  {
   "cell_type": "code",
   "execution_count": null,
   "metadata": {},
   "outputs": [],
   "source": [
    "import os\n",
    "\n",
    "print(os.getcwd())"
   ]
  },
  {
   "cell_type": "code",
   "execution_count": null,
   "metadata": {},
   "outputs": [],
   "source": [
    "import os\n",
    "\n",
    "# Define the starting directory\n",
    "start_dir = \"../data/fund-holdings\"\n",
    "\n",
    "# Count CSV files\n",
    "csv_count = sum(\n",
    "    len(files) for root, _, files in os.walk(start_dir) if any(f.endswith(\".csv\") for f in files)\n",
    ")\n",
    "\n",
    "print(f\"Total CSV files found: {csv_count}\")\n"
   ]
  },
  {
   "cell_type": "code",
   "execution_count": null,
   "metadata": {},
   "outputs": [],
   "source": [
    "import os\n",
    "import pandas as pd\n",
    "\n",
    "# Define the starting directory\n",
    "start_dir = \"../data/fund-holdings\"\n",
    "\n",
    "# List to store unique entries without mapped company CIK number\n",
    "unique_entries = []\n",
    "\n",
    "# Initialize counter for iteration\n",
    "file_count = 0\n",
    "\n",
    "# Iterate through CSV files\n",
    "for root, _, files in os.walk(start_dir):\n",
    "    for file in files:\n",
    "        if file.endswith(\".csv\"):\n",
    "            file_path = os.path.join(root, file)\n",
    "            df = pd.read_csv(file_path, dtype=str)  # Read CSV as string to avoid conversion issues\n",
    "            \n",
    "            # Filter rows where mapped_company_cik_number is NaN or empty\n",
    "            filtered_df = df[df[\"mapped_company_cik_number\"].fillna(\"\").str.strip() == \"\"]\n",
    "\n",
    "            # Append unique rows to the list\n",
    "            unique_entries.extend(filtered_df.drop_duplicates().to_dict(orient=\"records\"))\n",
    "            \n",
    "            # Increment file counter and print progress\n",
    "            file_count += 1\n",
    "            print(f\"Processed {file_count} files...\")\n",
    "\n",
    "# Convert to DataFrame\n",
    "unique_df = pd.DataFrame(unique_entries)"
   ]
  },
  {
   "cell_type": "code",
   "execution_count": null,
   "metadata": {},
   "outputs": [],
   "source": [
    "unique_df.to_csv(\"unmapped.csv\")"
   ]
  },
  {
   "cell_type": "code",
   "execution_count": null,
   "metadata": {},
   "outputs": [],
   "source": []
  }
 ],
 "metadata": {
  "kernelspec": {
   "display_name": "Python 3 (ipykernel)",
   "language": "python",
   "name": "python3"
  },
  "language_info": {
   "codemirror_mode": {
    "name": "ipython",
    "version": 3
   },
   "file_extension": ".py",
   "mimetype": "text/x-python",
   "name": "python",
   "nbconvert_exporter": "python",
   "pygments_lexer": "ipython3",
   "version": "3.12.5"
  }
 },
 "nbformat": 4,
 "nbformat_minor": 2
}
