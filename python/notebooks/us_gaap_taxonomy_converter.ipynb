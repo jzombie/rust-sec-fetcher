{
 "cells": [
  {
   "cell_type": "code",
   "execution_count": null,
   "id": "7df0a506",
   "metadata": {},
   "outputs": [],
   "source": [
    "from utils.csv import excel_to_csv\n",
    "\n",
    "# TODO: Ensure year is updated as needed\n",
    "\n",
    "excel_to_csv(\"data/2025_GAAP_Taxonomy.xlsx\", \"Concepts\", \"data/2025_GAAP_Concepts.csv\")"
   ]
  }
 ],
 "metadata": {
  "kernelspec": {
   "display_name": "Python 3 (ipykernel)",
   "language": "python",
   "name": "python3"
  },
  "language_info": {
   "codemirror_mode": {
    "name": "ipython",
    "version": 3
   },
   "file_extension": ".py",
   "mimetype": "text/x-python",
   "name": "python",
   "nbconvert_exporter": "python",
   "pygments_lexer": "ipython3",
   "version": "3.12.3"
  }
 },
 "nbformat": 4,
 "nbformat_minor": 5
}
