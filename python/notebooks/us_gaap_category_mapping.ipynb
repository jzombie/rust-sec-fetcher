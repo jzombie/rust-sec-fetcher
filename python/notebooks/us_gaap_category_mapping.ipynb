{
 "cells": [
  {
   "cell_type": "code",
   "execution_count": 5,
   "metadata": {},
   "outputs": [
    {
     "data": {
      "text/plain": [
       "'/Volumes/2TB Storage Vault/rust-sec-fetcher/python/data/us_gaap_multilabel_training_data.json'"
      ]
     },
     "execution_count": 5,
     "metadata": {},
     "output_type": "execute_result"
    }
   ],
   "source": [
    "import csv\n",
    "import json\n",
    "\n",
    "# Define mappings with fallback to \"unknown\" (0)\n",
    "statement_map = {\n",
    "    \"Balance Sheet\": 0,\n",
    "    \"Income Statement\": 1,\n",
    "    \"Cash Flow Statement\": 2,\n",
    "    \"Equity Statement\": 0,  # mapped to Balance Sheet\n",
    "    \"Comprehensive Income\": 1,             # mapped to Income Statement\n",
    "}\n",
    "\n",
    "balance_map = {\n",
    "    \"debit\": 0,\n",
    "    \"credit\": 1,\n",
    "    \"unknown\": 2\n",
    "}\n",
    "\n",
    "period_map = {\n",
    "    \"duration\": 0,\n",
    "    \"instant\": 1,\n",
    "    \"unknown\": 2\n",
    "}\n",
    "\n",
    "input_csv = \"data/us_gaap_2025_verified_subcategory_path.csv\"\n",
    "output_json = \"data/us_gaap_multilabel_training_data.json\"\n",
    "\n",
    "dataset = []\n",
    "\n",
    "with open(input_csv, \"r\") as f:\n",
    "    reader = csv.DictReader(f)\n",
    "    for i, row in enumerate(reader):\n",
    "        desc = row.get(\"description\", \"\").strip()\n",
    "        if not desc:\n",
    "            print(f\"[Row {i}] Skipped: Missing description\")\n",
    "            continue\n",
    "\n",
    "        statement_type = row.get(\"statement_type\", \"\").strip()\n",
    "        balance = row.get(\"balance\", \"\").strip().lower()\n",
    "        period = row.get(\"period_type\", \"\").strip().lower()\n",
    "\n",
    "        statement_label = statement_map.get(statement_type, -1)\n",
    "        if statement_label == -1:\n",
    "            print(f\"[Row {i}] Skipped: Unmapped statement_type: '{statement_type}'\")\n",
    "            continue  # skip anything unmapped\n",
    "\n",
    "        balance_label = balance_map.get(balance, balance_map[\"unknown\"])\n",
    "        period_label = period_map.get(period, period_map[\"unknown\"])\n",
    "\n",
    "        dataset.append({\n",
    "            \"text\": desc,\n",
    "            \"labels\": {\n",
    "                \"statement_type\": statement_label,\n",
    "                \"balance\": balance_label,\n",
    "                \"period_type\": period_label\n",
    "            }\n",
    "        })\n",
    "\n",
    "\n",
    "with open(output_json, \"w\") as f:\n",
    "    json.dump(dataset, f, indent=2)\n",
    "\n",
    "import os\n",
    "os.path.abspath(output_json)\n"
   ]
  },
  {
   "cell_type": "code",
   "execution_count": null,
   "metadata": {},
   "outputs": [],
   "source": []
  }
 ],
 "metadata": {
  "kernelspec": {
   "display_name": "Python 3 (ipykernel)",
   "language": "python",
   "name": "python3"
  },
  "language_info": {
   "codemirror_mode": {
    "name": "ipython",
    "version": 3
   },
   "file_extension": ".py",
   "mimetype": "text/x-python",
   "name": "python",
   "nbconvert_exporter": "python",
   "pygments_lexer": "ipython3",
   "version": "3.12.5"
  }
 },
 "nbformat": 4,
 "nbformat_minor": 2
}
