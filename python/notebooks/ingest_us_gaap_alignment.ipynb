{
 "cells": [
  {
   "cell_type": "code",
   "execution_count": null,
   "metadata": {},
   "outputs": [],
   "source": [
    "import logging\n",
    "from db import DB\n",
    "from utils.os import load_csv, load_json\n",
    "from utils.pytorch import seed_everything\n",
    "from models.pytorch.us_gaap_alignment.ingest import upsert_us_gaap_concepts, insert_ofss_data, upsert_ofss_concept_mappings, upsert_us_gaap_description_variations\n",
    "\n",
    "\n",
    "db = DB()"
   ]
  },
  {
   "cell_type": "code",
   "execution_count": null,
   "metadata": {},
   "outputs": [],
   "source": [
    "import mysql.connector\n",
    "\n",
    "# IMPORTANT: This script will drop and recreate the given schema and will DELETE ALL DATA!\n",
    "def reset_schema(db, schema_name: str) -> None:\n",
    "    \"\"\"\n",
    "    Drops and recreates the given schema. WARNING: This will delete all data.\n",
    "\n",
    "    Parameters:\n",
    "        schema_name (str): The name of the schema (database) to reset.\n",
    "    \"\"\"\n",
    "    try:\n",
    "        cursor = db.conn.cursor()\n",
    "\n",
    "        # Drop the schema\n",
    "        cursor.execute(f\"DROP DATABASE IF EXISTS `{schema_name}`\")\n",
    "\n",
    "        # Recreate the schema\n",
    "        cursor.execute(f\"CREATE DATABASE `{schema_name}`\")\n",
    "\n",
    "        logging.info(\"Schema '%s' has been reset successfully.\", schema_name)\n",
    "\n",
    "        cursor.close()\n",
    "    except mysql.connector.Error as e:\n",
    "        logging.error(\"Failed to reset schema '%s': %s\", schema_name, e)\n",
    "        raise\n",
    "\n",
    "confirm = input(\"⚠️ This will DROP and RECREATE the schema 'us_gaap'. Type 'yes' to proceed: \")\n",
    "\n",
    "if confirm.strip().lower() == \"yes\":\n",
    "    reset_schema(db, \"us_gaap\")\n",
    "\n",
    "    # Recreate the database connection\n",
    "    db = DB()\n",
    "else:\n",
    "    print(\"❌ Cancelled.\")"
   ]
  },
  {
   "cell_type": "code",
   "execution_count": null,
   "metadata": {},
   "outputs": [],
   "source": [
    "logging.info(\"Ingesting US GAAP concepts\")\n",
    "\n",
    "csv_file = 'data/2025_GAAP_Concepts.csv'\n",
    "\n",
    "csv_data = load_csv(csv_file)\n",
    "upsert_us_gaap_concepts(db, csv_data)"
   ]
  },
  {
   "cell_type": "code",
   "execution_count": null,
   "metadata": {},
   "outputs": [],
   "source": [
    "logging.info(\"Ingesting OFSS schema\")\n",
    "\n",
    "schema_file = '../shared/open_financial_statement_schema.json'\n",
    "\n",
    "schema_data = load_json(schema_file)\n",
    "insert_ofss_data(db, schema_data)"
   ]
  },
  {
   "cell_type": "code",
   "execution_count": null,
   "metadata": {},
   "outputs": [],
   "source": [
    "logging.info(\"Ingesting OFSS concept mappings\")\n",
    "\n",
    "csv_file = 'data/with_ofss_ids.csv'\n",
    "\n",
    "csv_data = load_csv(csv_file)\n",
    "upsert_ofss_concept_mappings(db, csv_data)"
   ]
  },
  {
   "cell_type": "code",
   "execution_count": null,
   "metadata": {},
   "outputs": [],
   "source": [
    "logging.info(\"Ingesting US GAAP description variations\")\n",
    "\n",
    "csv_file = 'data/us_gaap_2025_description_variations.csv'\n",
    "\n",
    "csv_data = load_csv(csv_file)\n",
    "upsert_us_gaap_description_variations(db, csv_data)"
   ]
  }
 ],
 "metadata": {
  "kernelspec": {
   "display_name": "Python 3 (ipykernel)",
   "language": "python",
   "name": "python3"
  },
  "language_info": {
   "codemirror_mode": {
    "name": "ipython",
    "version": 3
   },
   "file_extension": ".py",
   "mimetype": "text/x-python",
   "name": "python",
   "nbconvert_exporter": "python",
   "pygments_lexer": "ipython3",
   "version": "3.12.9"
  }
 },
 "nbformat": 4,
 "nbformat_minor": 2
}
