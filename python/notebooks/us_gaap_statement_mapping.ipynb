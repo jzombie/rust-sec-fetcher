{
 "cells": [
  {
   "cell_type": "code",
   "execution_count": 1,
   "metadata": {},
   "outputs": [],
   "source": [
    "import os\n",
    "import re\n",
    "import csv\n",
    "import xml.etree.ElementTree as ET\n",
    "from collections import defaultdict\n",
    "\n",
    "# https://www.fasb.org/page/detail?pageId=/projects/FASB-Taxonomies/2025-gaap-financial-reporting-taxonomy.html\n",
    "# 2025 Taxonomy downloads: https://xbrl.fasb.org/us-gaap/2025/us-gaap-2025.zip\n",
    "\n",
    "# === CONFIG ===\n",
    "TAXONOMY_DIR = \"data/us-gaap-2025/\"\n",
    "ELTS_XSD = os.path.join(TAXONOMY_DIR, \"elts\", \"us-gaap-2025.xsd\")\n",
    "STM_DIR = os.path.join(TAXONOMY_DIR, \"stm\")\n",
    "\n",
    "OUTPUT_PATH = \"data/WITH_TAXONOMY_HIERARCHY_us_gaap_2025_with_all_statements_and_hierarchy.csv\"\n",
    "\n",
    "FILENAME_STATEMENT_MAP = {\n",
    "    \"scf\": \"Cash Flow Statement\",\n",
    "    \"soi\": \"Income Statement\",\n",
    "    \"sfp\": \"Balance Sheet\",\n",
    "    \"sheci\": \"Equity Statement\",\n",
    "    \"soc\": \"Comprehensive Income\"\n",
    "}\n",
    "\n",
    "XBRLI_NS = \"http://www.xbrl.org/2003/instance\"\n",
    "BALANCE_KEY = f\"{{{XBRLI_NS}}}balance\"\n",
    "PERIOD_TYPE_KEY = f\"{{{XBRLI_NS}}}periodType\"\n",
    "\n",
    "\n",
    "def generate_description(tag_name):\n",
    "    return re.sub(\n",
    "        r'(?<=[a-z])(?=[A-Z])|(?<=[A-Z])(?=[A-Z][a-z])',\n",
    "        ' ',\n",
    "        tag_name\n",
    "    ).lower()\n",
    "\n",
    "\n",
    "# === STEP 1: TAG METADATA ===\n",
    "tag_metadata = {}\n",
    "tree = ET.parse(ELTS_XSD)\n",
    "root = tree.getroot()\n",
    "for el in root.findall(\".//{http://www.w3.org/2001/XMLSchema}element\"):\n",
    "    name = el.attrib.get(\"name\")\n",
    "    if not name or el.attrib.get(\"abstract\") == \"true\":\n",
    "        continue\n",
    "    tag_metadata[name] = {\n",
    "        \"balance\": el.attrib.get(BALANCE_KEY, \"\"),\n",
    "        \"period_type\": el.attrib.get(PERIOD_TYPE_KEY, \"\"),\n",
    "        \"statements\": set()\n",
    "    }\n",
    "\n",
    "# === STEP 2: STATEMENT TYPE MAPPING ===\n",
    "for file in os.listdir(STM_DIR):\n",
    "    if not file.endswith(\".xml\") or \"-pre-\" not in file:\n",
    "        continue\n",
    "    parts = file.split(\"-\")\n",
    "    if len(parts) < 4:\n",
    "        continue\n",
    "    stmt_key = parts[3]\n",
    "    inferred_statement = FILENAME_STATEMENT_MAP.get(stmt_key)\n",
    "    if not inferred_statement:\n",
    "        continue\n",
    "\n",
    "    tree = ET.parse(os.path.join(STM_DIR, file))\n",
    "    root = tree.getroot()\n",
    "    for loc in root.findall(\".//{http://www.xbrl.org/2003/linkbase}loc\"):\n",
    "        href = loc.attrib.get(\"{http://www.w3.org/1999/xlink}href\", \"\")\n",
    "        tag = href.split(\"#\")[-1]\n",
    "        if tag.startswith(\"us-gaap_\"):\n",
    "            tag = tag.replace(\"us-gaap_\", \"\")\n",
    "        if tag in tag_metadata:\n",
    "            tag_metadata[tag][\"statements\"].add(inferred_statement)\n",
    "\n",
    "# === STEP 3: BUILD BASE OUTPUT ===\n",
    "final_output = []\n",
    "for tag, meta in tag_metadata.items():\n",
    "    for stmt in meta[\"statements\"]:\n",
    "        final_output.append({\n",
    "            \"tag\": tag,\n",
    "            \"statement_type\": stmt,\n",
    "            \"balance\": meta[\"balance\"],\n",
    "            \"period_type\": meta[\"period_type\"],\n",
    "            \"description\": generate_description(tag),\n",
    "            \"subcategory_path\": \"\"\n",
    "        })\n",
    "\n",
    "# === STEP 4: EXTRACT TAXONOMY HIERARCHY PATHS ===\n",
    "def extract_tag_hierarchy_paths(pre_files):\n",
    "    tag_paths = defaultdict(set)\n",
    "\n",
    "    for path in pre_files:\n",
    "        try:\n",
    "            tree = ET.parse(path)\n",
    "            root = tree.getroot()\n",
    "\n",
    "            loc_map = {}\n",
    "            arcs_by_from = defaultdict(list)\n",
    "\n",
    "            for loc in root.findall(\".//{http://www.xbrl.org/2003/linkbase}loc\"):\n",
    "                loc_id = loc.attrib.get(\"{http://www.w3.org/1999/xlink}label\")\n",
    "                href = loc.attrib.get(\"{http://www.w3.org/1999/xlink}href\", \"\")\n",
    "                if loc_id and \"us-gaap_\" in href:\n",
    "                    tag = href.split(\"#\")[-1]\n",
    "                    loc_map[loc_id] = tag\n",
    "\n",
    "            for arc in root.findall(\".//{http://www.xbrl.org/2003/linkbase}presentationArc\"):\n",
    "                from_id = arc.attrib.get(\"{http://www.w3.org/1999/xlink}from\")\n",
    "                to_id = arc.attrib.get(\"{http://www.w3.org/1999/xlink}to\")\n",
    "                arcs_by_from[from_id].append(to_id)\n",
    "\n",
    "            all_from = set(arcs_by_from.keys())\n",
    "            all_to = {to for children in arcs_by_from.values() for to in children}\n",
    "            root_ids = all_from - all_to\n",
    "\n",
    "            def walk(current_id, path):\n",
    "                tag = loc_map.get(current_id)\n",
    "                current_path = path + [tag] if tag else path\n",
    "                for child_id in arcs_by_from.get(current_id, []):\n",
    "                    child_tag = loc_map.get(child_id)\n",
    "                    if child_tag and child_tag.startswith(\"us-gaap_\"):\n",
    "                        clean_tag = child_tag.replace(\"us-gaap_\", \"\")\n",
    "                        tag_paths[clean_tag].add(\" > \".join(current_path + [clean_tag]))\n",
    "                    walk(child_id, current_path)\n",
    "\n",
    "            for root_id in root_ids:\n",
    "                walk(root_id, [])\n",
    "\n",
    "        except ET.ParseError:\n",
    "            continue\n",
    "\n",
    "    return tag_paths\n",
    "\n",
    "\n",
    "# Gather all presentation files (stm + dis + others)\n",
    "pre_files = []\n",
    "for root, _, files in os.walk(TAXONOMY_DIR):\n",
    "    for file in files:\n",
    "        if \"-pre-\" in file and file.endswith(\".xml\"):\n",
    "            pre_files.append(os.path.join(root, file))\n",
    "\n",
    "tag_hierarchy = extract_tag_hierarchy_paths(pre_files)\n",
    "\n",
    "# === STEP 5: ATTACH HIERARCHY TO TAGS ===\n",
    "ALL_STATEMENTS = {\n",
    "    \"Cash Flow Statement\",\n",
    "    \"Income Statement\",\n",
    "    \"Balance Sheet\",\n",
    "    \"Equity Statement\",\n",
    "    \"Comprehensive Income\"\n",
    "}\n",
    "\n",
    "final_filtered = []\n",
    "for row in final_output:\n",
    "    if row[\"statement_type\"] in ALL_STATEMENTS:\n",
    "        tag = row[\"tag\"]\n",
    "        row[\"taxonomy_hierarchy\"] = (\n",
    "            list(tag_hierarchy.get(tag))[0] if tag in tag_hierarchy else \"\"\n",
    "        )\n",
    "        final_filtered.append(row)\n",
    "\n",
    "# === STEP 6: WRITE OUTPUT CSV ===\n",
    "# os.makedirs(\"output\", exist_ok=True)\n",
    "with open(OUTPUT_PATH, \"w\", newline=\"\") as f:\n",
    "    writer = csv.DictWriter(f, fieldnames=[\n",
    "        \"tag\", \"statement_type\", \"balance\", \"period_type\",\n",
    "        \"description\", \"subcategory_path\", \"taxonomy_hierarchy\"\n",
    "    ])\n",
    "    writer.writeheader()\n",
    "    writer.writerows(final_filtered)\n"
   ]
  },
  {
   "cell_type": "markdown",
   "metadata": {},
   "source": [
    "# Append OFSS IDs"
   ]
  },
  {
   "cell_type": "code",
   "execution_count": null,
   "metadata": {},
   "outputs": [
    {
     "name": "stderr",
     "output_type": "stream",
     "text": [
      "Processing rows: 3it [00:00, 13.09it/s]"
     ]
    },
    {
     "name": "stdout",
     "output_type": "stream",
     "text": [
      "AccountsNotesAndLoansReceivableNetCurrent | [mapped.1 (0.88)] Balance Sheet > accounts notes and loans receivable net current → balance sheet > assets > notes receivable - current\n",
      "ReceivablesLongTermContractsOrPrograms | [mapped.1 (0.87)] Balance Sheet > receivables long term contracts or programs → balance sheet > assets > notes receivable - long term\n",
      "AccountsReceivableGrossNoncurrent | [mapped.1 (0.81)] Balance Sheet > accounts receivable gross noncurrent → balance sheet > assets > accounts receivable\n"
     ]
    },
    {
     "name": "stderr",
     "output_type": "stream",
     "text": [
      "Processing rows: 5it [00:00, 11.95it/s]"
     ]
    },
    {
     "name": "stdout",
     "output_type": "stream",
     "text": [
      "AccountsReceivableNet | [mapped.1 (0.89)] Balance Sheet > accounts receivable net → balance sheet > assets > accounts receivable\n",
      "AccountsReceivableNetCurrent | [mapped.1 (0.85)] Balance Sheet > accounts receivable net current → balance sheet > assets > notes receivable - current\n",
      "AccountsReceivableNetNoncurrent | [mapped.1 (0.82)] Balance Sheet > accounts receivable net noncurrent → balance sheet > assets > accounts receivable\n"
     ]
    },
    {
     "name": "stderr",
     "output_type": "stream",
     "text": [
      "Processing rows: 9it [00:00, 13.64it/s]"
     ]
    },
    {
     "name": "stdout",
     "output_type": "stream",
     "text": [
      "AccretionAmortizationOfDiscountsAndPremiumsInvestments | [mapped.1 (0.77)] Cash Flow Statement > accretion amortization of discounts and premiums investments → cash flow > investing activities > purchase of investments\n",
      "AccretionExpense | [mapped.1 (0.80)] Cash Flow Statement > accretion expense → cash flow > operating activities > depreciation > amortization\n",
      "AccretionExpense | [mapped.1 (0.81)] Income Statement > accretion expense → income statement > interest expense - operating\n"
     ]
    },
    {
     "name": "stderr",
     "output_type": "stream",
     "text": [
      "Processing rows: 11it [00:00, 13.65it/s]"
     ]
    },
    {
     "name": "stdout",
     "output_type": "stream",
     "text": [
      "AccountsPayableAndAccruedLiabilitiesNoncurrent | [mapped.1 (0.87)] Balance Sheet > accounts payable and accrued liabilities noncurrent → balance sheet > liabilities > accrued expenses\n",
      "AccruedFeesAndOtherRevenueReceivable | [mapped.1 (0.81)] Balance Sheet > accrued fees and other revenue receivable → balance sheet > assets > accounts receivable\n",
      "AccruedInvestmentIncomeReceivable | [mapped.1 (0.82)] Balance Sheet > accrued investment income receivable → balance sheet > assets > accounts receivable\n"
     ]
    },
    {
     "name": "stderr",
     "output_type": "stream",
     "text": [
      "Processing rows: 15it [00:01, 13.14it/s]"
     ]
    },
    {
     "name": "stdout",
     "output_type": "stream",
     "text": [
      "AccruedReclamationCostsCurrent | [mapped.1 (0.81)] Balance Sheet > accrued reclamation costs current → balance sheet > liabilities > accrued expenses\n",
      "OilAndGasReclamationLiabilityNoncurrent | [mapped.1 (0.74)] Balance Sheet > oil and gas reclamation liability noncurrent → balance sheet > liabilities > other current liabilities\n",
      "FiniteLivedIntangibleAssetsAccumulatedAmortization | [mapped.1 (0.75)] Balance Sheet > finite lived intangible assets accumulated amortization → balance sheet > shareholders' equity > accumulated other comprehensive income\n"
     ]
    },
    {
     "name": "stderr",
     "output_type": "stream",
     "text": [
      "Processing rows: 19it [00:01, 13.78it/s]"
     ]
    },
    {
     "name": "stdout",
     "output_type": "stream",
     "text": [
      "AccumulatedOtherComprehensiveIncomeLossNetOfTax | [mapped.1 (0.82)] Balance Sheet > accumulated other comprehensive income loss net of tax → balance sheet > shareholders' equity > accumulated other comprehensive income\n",
      "AccumulatedDepreciationDepletionAndAmortizationPropertyPlantAndEquipment | [mapped.1 (0.74)] Balance Sheet > accumulated depreciation depletion and amortization property plant and equipment → balance sheet > shareholders' equity > retained earnings (accumulated deficit)\n",
      "RealEstateInvestmentPropertyAccumulatedDepreciation | [mapped.1 (0.76)] Balance Sheet > real estate investment property accumulated depreciation → balance sheet > shareholders' equity > retained earnings (accumulated deficit)\n",
      "PaymentsToAcquireBusinessesAndInterestInAffiliates | [mapped.1 (0.84)] Cash Flow Statement > payments to acquire businesses and interest in affiliates → cash flow > investing activities > acquisitions\n"
     ]
    },
    {
     "name": "stderr",
     "output_type": "stream",
     "text": [
      "Processing rows: 24it [00:01, 17.22it/s]"
     ]
    },
    {
     "name": "stdout",
     "output_type": "stream",
     "text": [
      "PaymentsToAcquireBusinessesNetOfCashAcquired | [mapped.1 (0.82)] Cash Flow Statement > payments to acquire businesses net of cash acquired → cash flow > investing activities > acquisitions\n",
      "PaymentsForProceedsFromBusinessesAndInterestInAffiliates | [mapped.1 (0.82)] Cash Flow Statement > payments for proceeds from businesses and interest in affiliates → cash flow > cash interest paid\n",
      "OtherPaymentsToAcquireBusinesses | [mapped.1 (0.84)] Cash Flow Statement > other payments to acquire businesses → cash flow > investing activities > acquisitions\n",
      "PaymentsForProceedsFromRealEstatePartnershipInvestmentNet | [mapped.1 (0.76)] Cash Flow Statement > payments for proceeds from real estate partnership investment net → cash flow > investing activities > proceeds from sale > maturity of investments\n",
      "PaymentsToAcquirePartnersInterestInRealEstatePartnershipNetOfCashAcquired | [mapped.1 (0.78)] Cash Flow Statement > payments to acquire partners interest in real estate partnership net of cash acquired → cash flow > investing activities > acquisitions\n"
     ]
    },
    {
     "name": "stderr",
     "output_type": "stream",
     "text": [
      "Processing rows: 28it [00:01, 16.47it/s]"
     ]
    },
    {
     "name": "stdout",
     "output_type": "stream",
     "text": [
      "NoncashOrPartNoncashAcquisitionNoncashFinancialOrEquityInstrumentConsiderationDueDateDayMonthAndYear | [mapped.1 (0.79)] Cash Flow Statement > noncash or part noncash acquisition noncash financial or equity instrument consideration due date day month and year → cash flow > operating activities > other non-cash items\n",
      "NoncashOrPartNoncashAcquisitionNoncashFinancialOrEquityInstrumentConsiderationDueDateMonthAndYear | [mapped.1 (0.79)] Cash Flow Statement > noncash or part noncash acquisition noncash financial or equity instrument consideration due date month and year → cash flow > operating activities > other non-cash items\n",
      "NoncashOrPartNoncashAcquisitionNoncashFinancialOrEquityInstrumentConsiderationRate | [mapped.1 (0.79)] Cash Flow Statement > noncash or part noncash acquisition noncash financial or equity instrument consideration rate → cash flow > operating activities > other non-cash items\n",
      "AdditionsToContractHoldersFunds | [mapped.1 (0.77)] Cash Flow Statement > additions to contract holders funds → cash flow > investing activities > acquisitions\n"
     ]
    },
    {
     "name": "stderr",
     "output_type": "stream",
     "text": [
      "Processing rows: 32it [00:02, 16.82it/s]"
     ]
    },
    {
     "name": "stdout",
     "output_type": "stream",
     "text": [
      "AdditionalPaidInCapital | [mapped.1 (0.93)] Balance Sheet > additional paid in capital → balance sheet > shareholders' equity > additional paid-in capital\n",
      "AdditionalPaidInCapitalCommonStock | [mapped.1 (0.91)] Balance Sheet > additional paid in capital common stock → balance sheet > shareholders' equity > additional paid-in capital\n",
      "AdditionalPaidInCapitalPreferredStock | [mapped.1 (0.88)] Balance Sheet > additional paid in capital preferred stock → balance sheet > shareholders' equity > additional paid-in capital\n",
      "AdjustmentsToAdditionalPaidInCapitalMarkToMarket | [mapped.1 (0.87)] Equity Statement > adjustments to additional paid in capital mark to market → equity statement > other equity adjustments\n"
     ]
    },
    {
     "name": "stderr",
     "output_type": "stream",
     "text": [
      "Processing rows: 34it [00:02, 17.07it/s]"
     ]
    },
    {
     "name": "stdout",
     "output_type": "stream",
     "text": [
      "PaymentsToAcquireProductiveAssets | [mapped.1 (0.83)] Cash Flow Statement > payments to acquire productive assets → cash flow > investing activities > acquisitions\n",
      "IncreaseDecreaseInAllowanceForEquityFundsUsedDuringConstruction | [mapped.1 (0.73)] Cash Flow Statement > increase decrease in allowance for equity funds used during construction → cash flow > investing activities > capital expenditures\n",
      "AdjustmentForAmortization | [mapped.1 (0.82)] Cash Flow Statement > adjustment for amortization → cash flow > operating activities > depreciation > amortization\n",
      "AmortizationOfAdvanceRoyalty | [mapped.1 (0.80)] Income Statement > amortization of advance royalty → income statement > depreciation > amortization\n"
     ]
    },
    {
     "name": "stderr",
     "output_type": "stream",
     "text": [
      "Processing rows: 40it [00:02, 19.39it/s]"
     ]
    },
    {
     "name": "stdout",
     "output_type": "stream",
     "text": [
      "AmortizationOfAdvanceRoyalty | [mapped.1 (0.73)] Cash Flow Statement > amortization of advance royalty → cash flow > investing activities > proceeds from sale > maturity of investments\n",
      "AmortizationOfFinancingCostsAndDiscounts | [mapped.1 (0.79)] Cash Flow Statement > amortization of financing costs and discounts → cash flow > financing activities > other financing activities\n",
      "AmortizationOfDeferredHedgeGains | [mapped.1 (0.81)] Income Statement > amortization of deferred hedge gains → income statement > depreciation > amortization\n",
      "AmortizationOfDeferredHedgeGains | [mapped.1 (0.77)] Cash Flow Statement > amortization of deferred hedge gains → cash flow > operating activities > depreciation > amortization\n",
      "AmortizationOfDeferredPropertyTaxes | [mapped.1 (0.81)] Income Statement > amortization of deferred property taxes → income statement > depreciation > amortization\n"
     ]
    },
    {
     "name": "stderr",
     "output_type": "stream",
     "text": [
      "Processing rows: 46it [00:02, 21.02it/s]"
     ]
    },
    {
     "name": "stdout",
     "output_type": "stream",
     "text": [
      "AmortizationOfDeferredPropertyTaxes | [mapped.1 (0.76)] Cash Flow Statement > amortization of deferred property taxes → cash flow > cash taxes paid\n",
      "AmortizationOfNuclearFuelLease | [mapped.1 (0.78)] Cash Flow Statement > amortization of nuclear fuel lease → cash flow > operating activities > depreciation > amortization\n",
      "AmortizationOfNuclearFuelLease | [mapped.1 (0.77)] Income Statement > amortization of nuclear fuel lease → income statement > depreciation > amortization\n",
      "AmortizationOfPowerContractsEmissionCredits | [mapped.1 (0.75)] Cash Flow Statement > amortization of power contracts emission credits → cash flow > operating activities > depreciation > amortization\n",
      "AmortizationOfPowerContractsEmissionCredits | [mapped.1 (0.73)] Income Statement > amortization of power contracts emission credits → income statement > depreciation > amortization\n"
     ]
    },
    {
     "name": "stderr",
     "output_type": "stream",
     "text": [
      "Processing rows: 49it [00:02, 21.03it/s]"
     ]
    },
    {
     "name": "stdout",
     "output_type": "stream",
     "text": [
      "AmortizationOfRateDeferral | [mapped.1 (0.78)] Cash Flow Statement > amortization of rate deferral → cash flow > cash interest paid\n",
      "AmortizationOfRateDeferral | [mapped.1 (0.81)] Income Statement > amortization of rate deferral → income statement > depreciation > amortization\n",
      "RestrictedStockExpense | [mapped.1 (0.78)] Cash Flow Statement > restricted stock expense → cash flow > operating activities > changes in other assets\n",
      "GainLossOnSaleOfCommodityContracts | [mapped.1 (0.76)] Cash Flow Statement > gain loss on sale of commodity contracts → cash flow > investing activities > proceeds from sale > maturity of investments\n",
      "IncreaseDecreaseInDeferredGasCost | [mapped.1 (0.74)] Cash Flow Statement > increase decrease in deferred gas cost → cash flow > operating activities > deferred revenue\n"
     ]
    },
    {
     "name": "stderr",
     "output_type": "stream",
     "text": [
      "Processing rows: 55it [00:03, 21.34it/s]"
     ]
    },
    {
     "name": "stdout",
     "output_type": "stream",
     "text": [
      "InvestmentTaxCredit | [mapped.1 (0.79)] Cash Flow Statement > investment tax credit → cash flow > cash taxes paid\n",
      "DeferredPurchasedPowerCosts | [mapped.1 (0.76)] Cash Flow Statement > deferred purchased power costs → cash flow > cash interest paid\n",
      "DepletionOfOilAndGasProperties | [mapped.1 (0.76)] Cash Flow Statement > depletion of oil and gas properties → cash flow > operating activities > depreciation > amortization\n",
      "DepletionOfOilAndGasProperties | [mapped.1 (0.75)] Income Statement > depletion of oil and gas properties → income statement > discontinued operations\n",
      "Depreciation | [mapped.1 (0.86)] Cash Flow Statement > depreciation → cash flow > operating activities > depreciation > amortization\n"
     ]
    },
    {
     "name": "stderr",
     "output_type": "stream",
     "text": [
      "Processing rows: 61it [00:03, 22.20it/s]"
     ]
    },
    {
     "name": "stdout",
     "output_type": "stream",
     "text": [
      "GainLossOnSaleOfDerivatives | [mapped.1 (0.76)] Cash Flow Statement > gain loss on sale of derivatives → cash flow > investing activities > proceeds from sale > maturity of investments\n",
      "GainLossOnSaleOfDerivatives | [mapped.1 (0.88)] Income Statement > gain loss on sale of derivatives → income statement > gain (loss) on sale of assets\n",
      "EquityMethodInvestmentDividendsOrDistributions | [mapped.1 (0.79)] Cash Flow Statement > equity method investment dividends or distributions → cash flow > investing activities > proceeds from sale > maturity of investments\n",
      "ImpairmentOfLeasehold | [mapped.1 (0.75)] Income Statement > impairment of leasehold → income statement > depreciation > amortization\n",
      "ImpairmentOfLeasehold | [mapped.1 (0.76)] Cash Flow Statement > impairment of leasehold → cash flow > operating activities > changes in other liabilities\n"
     ]
    },
    {
     "name": "stderr",
     "output_type": "stream",
     "text": [
      "Processing rows: 64it [00:03, 21.72it/s]"
     ]
    },
    {
     "name": "stdout",
     "output_type": "stream",
     "text": [
      "IssuanceOfStockAndWarrantsForServicesOrClaims | [mapped.1 (0.83)] Cash Flow Statement > issuance of stock and warrants for services or claims → cash flow > financing activities > issuance of common stock\n",
      "NoncashMergerRelatedCosts | [mapped.1 (0.77)] Cash Flow Statement > noncash merger related costs → cash flow > investing activities > acquisitions\n",
      "IncreaseDecreaseInGasImbalanceReceivable | [mapped.1 (0.78)] Cash Flow Statement > increase decrease in gas imbalance receivable → cash flow > operating activities > changes in accounts receivable\n",
      "NoncashProjectAbandonmentCosts | [mapped.1 (0.75)] Cash Flow Statement > noncash project abandonment costs → cash flow > operating activities > other non-cash items\n",
      "GainLossOnSaleOfProperty | [mapped.1 (0.78)] Cash Flow Statement > gain loss on sale of property → cash flow > investing activities > proceeds from sale > maturity of investments\n"
     ]
    },
    {
     "name": "stderr",
     "output_type": "stream",
     "text": [
      "Processing rows: 70it [00:03, 21.79it/s]"
     ]
    },
    {
     "name": "stdout",
     "output_type": "stream",
     "text": [
      "GainLossOnSaleOfProperty | [mapped.1 (0.92)] Income Statement > gain loss on sale of property → income statement > gain (loss) on sale of assets\n",
      "GainLossOnSaleOfOtherAssets | [mapped.1 (0.81)] Cash Flow Statement > gain loss on sale of other assets → cash flow > operating activities > changes in other assets\n",
      "GainLossOnSaleOfOtherAssets | [mapped.1 (0.93)] Income Statement > gain loss on sale of other assets → income statement > gain (loss) on sale of assets\n",
      "GainLossOnSaleOfOtherInvestments | [mapped.1 (0.80)] Cash Flow Statement > gain loss on sale of other investments → cash flow > investing activities > proceeds from sale > maturity of investments\n",
      "GainLossOnSaleOfProject | [mapped.1 (0.77)] Cash Flow Statement > gain loss on sale of project → cash flow > investing activities > proceeds from sale > maturity of investments\n"
     ]
    },
    {
     "name": "stderr",
     "output_type": "stream",
     "text": [
      "Processing rows: 76it [00:04, 21.63it/s]"
     ]
    },
    {
     "name": "stdout",
     "output_type": "stream",
     "text": [
      "GainLossOnSaleOfProperties | [mapped.1 (0.79)] Cash Flow Statement > gain loss on sale of properties → cash flow > investing activities > proceeds from sale > maturity of investments\n",
      "ReclamationAndMineShutdownProvision | [mapped.1 (0.74)] Cash Flow Statement > reclamation and mine shutdown provision → cash flow > operating activities > depreciation > amortization\n",
      "ReimbursementFromLimitedPartnershipInvestment | [mapped.1 (0.74)] Cash Flow Statement > reimbursement from limited partnership investment → cash flow > cash interest paid\n",
      "StockOptionPlanExpense | [mapped.1 (0.78)] Cash Flow Statement > stock option plan expense → cash flow > cash interest paid\n",
      "StormDamageProvision | [mapped.1 (0.72)] Cash Flow Statement > storm damage provision → cash flow > cash interest paid\n"
     ]
    },
    {
     "name": "stderr",
     "output_type": "stream",
     "text": [
      "Processing rows: 79it [00:04, 21.23it/s]"
     ]
    },
    {
     "name": "stdout",
     "output_type": "stream",
     "text": [
      "UnrealizedGainLossOnDerivatives | [mapped.1 (0.74)] Cash Flow Statement > unrealized gain loss on derivatives → cash flow > operating activities > changes in other liabilities\n",
      "UnrealizedGainLossOnEnergyContracts | [mapped.1 (0.75)] Cash Flow Statement > unrealized gain loss on energy contracts → cash flow > operating activities > depreciation > amortization\n",
      "UnrealizedGainLossOnCommodityContracts | [mapped.1 (0.74)] Cash Flow Statement > unrealized gain loss on commodity contracts → cash flow > investing activities > proceeds from sale > maturity of investments\n",
      "AdjustmentOfWarrantsGrantedForServices | [mapped.1 (0.76)] Cash Flow Statement > adjustment of warrants granted for services → cash flow > operating activities > changes in accounts payable\n"
     ]
    },
    {
     "name": "stderr",
     "output_type": "stream",
     "text": [
      "Processing rows: 82it [00:04, 18.77it/s]"
     ]
    },
    {
     "name": "stdout",
     "output_type": "stream",
     "text": [
      "AdvancePaymentsByBorrowersForTaxesAndInsurance | [mapped.1 (0.78)] Balance Sheet > advance payments by borrowers for taxes and insurance → balance sheet > liabilities > customer advances\n",
      "AdvanceRent | [mapped.1 (0.80)] Balance Sheet > advance rent → balance sheet > liabilities > customer advances\n",
      "AdvancesToAffiliate | [mapped.1 (0.73)] Balance Sheet > advances to affiliate → balance sheet > shareholders' equity > accumulated other comprehensive income\n"
     ]
    },
    {
     "name": "stderr",
     "output_type": "stream",
     "text": [
      "Processing rows: 86it [00:04, 17.06it/s]"
     ]
    },
    {
     "name": "stdout",
     "output_type": "stream",
     "text": [
      "AdvertisingExpense | [mapped.1 (0.83)] Income Statement > advertising expense → income statement > other operating expenses\n",
      "AllowanceForDoubtfulAccountsReceivableNoncurrent | [mapped.1 (0.71)] Balance Sheet > allowance for doubtful accounts receivable noncurrent → balance sheet > shareholders' equity > retained earnings (accumulated deficit)\n",
      "AllowanceForDoubtfulAccountsReceivableCurrent | [mapped.1 (0.71)] Balance Sheet > allowance for doubtful accounts receivable current → balance sheet > shareholders' equity > retained earnings (accumulated deficit)\n",
      "AllowanceForNotesAndLoansReceivableCurrent | [unmapped] Balance Sheet > allowance for notes and loans receivable current\n"
     ]
    },
    {
     "name": "stderr",
     "output_type": "stream",
     "text": [
      "Processing rows: 91it [00:05, 15.52it/s]"
     ]
    },
    {
     "name": "stdout",
     "output_type": "stream",
     "text": [
      "AllowanceForNotesAndLoansReceivableCurrent | [mapped.2 (0.70)] Balance Sheet > LoansNotesTradeAndOtherReceivablesDisclosureTextBlock > ScheduleOfAccountsNotesLoansAndFinancingReceivableTextBlock > ScheduleOfAccountsNotesLoansAndFinancingReceivableTable > AccountsNotesAndLoansReceivableLineItems > AllowanceForNotesAndLoansReceivableCurrent → balance sheet > shareholders' equity > preferred stock\n",
      "AmortizationOfDeferredCharges | [mapped.1 (0.82)] Income Statement > amortization of deferred charges → income statement > depreciation > amortization\n",
      "AmortizationOfAcquisitionCosts | [mapped.1 (0.80)] Cash Flow Statement > amortization of acquisition costs → cash flow > investing activities > acquisitions\n",
      "AmortizationOfAcquisitionCosts | [mapped.1 (0.81)] Income Statement > amortization of acquisition costs → income statement > depreciation > amortization\n",
      "AmortizationOfDeferredLoanOriginationFeesNet | [mapped.1 (0.74)] Cash Flow Statement > amortization of deferred loan origination fees net → cash flow > financing activities > long term debt, net\n"
     ]
    },
    {
     "name": "stderr",
     "output_type": "stream",
     "text": [
      "Processing rows: 94it [00:05, 17.60it/s]"
     ]
    },
    {
     "name": "stdout",
     "output_type": "stream",
     "text": [
      "AmortizationOfDeferredLoanOriginationFeesNet | [mapped.1 (0.74)] Income Statement > amortization of deferred loan origination fees net → income statement > depreciation > amortization\n",
      "AmortizationOfDeferredSalesCommissions | [mapped.1 (0.78)] Cash Flow Statement > amortization of deferred sales commissions → cash flow > operating activities > deferred revenue\n",
      "AmortizationOfDeferredSalesCommissions | [mapped.1 (0.79)] Income Statement > amortization of deferred sales commissions → income statement > depreciation > amortization\n",
      "AmortizationOfFinancingCosts | [mapped.1 (0.80)] Cash Flow Statement > amortization of financing costs → cash flow > financing activities > other financing activities\n",
      "AmortizationOfFinancingCosts | [mapped.1 (0.83)] Income Statement > amortization of financing costs → income statement > depreciation > amortization\n"
     ]
    },
    {
     "name": "stderr",
     "output_type": "stream",
     "text": [
      "Processing rows: 100it [00:05, 19.72it/s]"
     ]
    },
    {
     "name": "stdout",
     "output_type": "stream",
     "text": [
      "AmortizationOfIntangibleAssets | [mapped.1 (0.82)] Cash Flow Statement > amortization of intangible assets → cash flow > operating activities > depreciation > amortization\n",
      "AmortizationOfIntangibleAssets | [mapped.1 (0.84)] Income Statement > amortization of intangible assets → income statement > depreciation > amortization\n",
      "AmortizationOfMortgageServicingRightsMSRs | [mapped.1 (0.74)] Cash Flow Statement > amortization of mortgage servicing rights ms rs → cash flow > operating activities > depreciation > amortization\n",
      "AmortizationOfMortgageServicingRightsMSRs | [mapped.1 (0.75)] Income Statement > amortization of mortgage servicing rights ms rs → income statement > depreciation > amortization\n",
      "OtherAmortizationOfDeferredCharges | [mapped.1 (0.81)] Cash Flow Statement > other amortization of deferred charges → cash flow > operating activities > deferred revenue\n"
     ]
    },
    {
     "name": "stderr",
     "output_type": "stream",
     "text": [
      "Processing rows: 106it [00:05, 20.89it/s]"
     ]
    },
    {
     "name": "stdout",
     "output_type": "stream",
     "text": [
      "OtherAmortizationOfDeferredCharges | [mapped.1 (0.81)] Income Statement > other amortization of deferred charges → income statement > depreciation > amortization\n",
      "AmortizationOfRegulatoryAsset | [mapped.1 (0.81)] Cash Flow Statement > amortization of regulatory asset → cash flow > operating activities > depreciation > amortization\n",
      "AmortizationOfRegulatoryAsset | [mapped.1 (0.83)] Income Statement > amortization of regulatory asset → income statement > depreciation > amortization\n",
      "AmortizationOfValueOfBusinessAcquiredVOBA | [mapped.1 (0.74)] Income Statement > amortization of value of business acquired voba → income statement > depreciation > amortization\n",
      "AmortizationOfValueOfBusinessAcquiredVOBA | [mapped.1 (0.74)] Cash Flow Statement > amortization of value of business acquired voba → cash flow > investing activities > acquisitions\n"
     ]
    },
    {
     "name": "stderr",
     "output_type": "stream",
     "text": [
      "Processing rows: 109it [00:06, 20.80it/s]"
     ]
    },
    {
     "name": "stdout",
     "output_type": "stream",
     "text": [
      "ReceivableFromShareholdersOrAffiliatesForIssuanceOfCapitalStock | [mapped.1 (0.82)] Balance Sheet > receivable from shareholders or affiliates for issuance of capital stock → balance sheet > shareholders' equity > preferred stock\n",
      "AssetImpairmentCharges | [mapped.1 (0.79)] Cash Flow Statement > asset impairment charges → cash flow > operating activities > changes in other assets\n",
      "AssetImpairmentCharges | [mapped.1 (0.78)] Income Statement > asset impairment charges → income statement > gain (loss) on sale of assets\n",
      "OtherAssetImpairmentCharges | [mapped.1 (0.81)] Cash Flow Statement > other asset impairment charges → cash flow > operating activities > changes in other assets\n",
      "OtherAssetImpairmentCharges | [mapped.1 (0.80)] Income Statement > other asset impairment charges → income statement > other operating expenses\n"
     ]
    },
    {
     "name": "stderr",
     "output_type": "stream",
     "text": [
      "Processing rows: 115it [00:06, 20.32it/s]"
     ]
    },
    {
     "name": "stdout",
     "output_type": "stream",
     "text": [
      "AssetRetirementObligation | [mapped.1 (0.76)] Balance Sheet > asset retirement obligation → balance sheet > liabilities > deferred income tax\n",
      "AssetRetirementObligationCashPaidToSettle | [mapped.1 (0.77)] Cash Flow Statement > asset retirement obligation cash paid to settle → cash flow > cash interest paid\n",
      "AssetRetirementObligationCurrent | [mapped.1 (0.79)] Balance Sheet > asset retirement obligation current → balance sheet > liabilities > other current liabilities\n",
      "AssetRetirementObligationAccretionExpense | [mapped.1 (0.78)] Cash Flow Statement > asset retirement obligation accretion expense → cash flow > operating activities > depreciation > amortization\n",
      "AssetRetirementObligationAccretionExpense | [mapped.1 (0.77)] Income Statement > asset retirement obligation accretion expense → income statement > depreciation > amortization\n"
     ]
    },
    {
     "name": "stderr",
     "output_type": "stream",
     "text": [
      "Processing rows: 120it [00:06, 18.86it/s]"
     ]
    },
    {
     "name": "stdout",
     "output_type": "stream",
     "text": [
      "AssetRetirementObligationsNoncurrent | [mapped.1 (0.79)] Balance Sheet > asset retirement obligations noncurrent → balance sheet > liabilities > other current liabilities\n",
      "AssetsOfDisposalGroupIncludingDiscontinuedOperationCurrent | [mapped.1 (0.80)] Balance Sheet > assets of disposal group including discontinued operation current → balance sheet > assets > other current assets\n",
      "EnergyMarketingContractsAssetsCurrent | [mapped.1 (0.79)] Balance Sheet > energy marketing contracts assets current → balance sheet > assets > other current assets\n",
      "AssetsOfDisposalGroupIncludingDiscontinuedOperation | [mapped.1 (0.80)] Balance Sheet > assets of disposal group including discontinued operation → balance sheet > assets > goodwill\n"
     ]
    },
    {
     "name": "stderr",
     "output_type": "stream",
     "text": [
      "Processing rows: 124it [00:06, 18.01it/s]"
     ]
    },
    {
     "name": "stdout",
     "output_type": "stream",
     "text": [
      "AssumedPremiumsWritten | [mapped.1 (0.77)] Income Statement > assumed premiums written → income statement > depreciation > amortization\n",
      "BankAcceptancesExecutedAndOutstanding | [mapped.1 (0.74)] Balance Sheet > bank acceptances executed and outstanding → balance sheet > liabilities > customer advances\n",
      "BankOverdrafts | [mapped.1 (0.75)] Balance Sheet > bank overdrafts → balance sheet > liabilities > customer advances\n",
      "BankOwnedLifeInsurance | [mapped.1 (0.71)] Balance Sheet > bank owned life insurance → balance sheet > shareholders' equity > treasury stock\n"
     ]
    },
    {
     "name": "stderr",
     "output_type": "stream",
     "text": [
      "Processing rows: 128it [00:07, 18.43it/s]"
     ]
    },
    {
     "name": "stdout",
     "output_type": "stream",
     "text": [
      "FinancialInstrumentsSoldNotYetPurchasedMortgagesMortgageBackedAndAssetBackedSecurities | [mapped.1 (0.74)] Balance Sheet > financial instruments sold not yet purchased mortgages mortgage backed and asset backed securities → balance sheet > liabilities > notes payable > short term debt\n",
      "EarningsPerShareBasic | [mapped.1 (0.81)] Income Statement > earnings per share basic → income statement > net income available to common\n",
      "BeneficialInterest | [mapped.1 (0.80)] Balance Sheet > beneficial interest → balance sheet > liabilities > minority interest\n",
      "InterestExpenseBeneficialInterestsIssuedByConsolidatedVariableInterestEntities | [mapped.1 (0.77)] Income Statement > interest expense beneficial interests issued by consolidated variable interest entities → income statement > interest expense - operating\n",
      "AmortizationOfDebtDiscountPremium | [mapped.1 (0.75)] Cash Flow Statement > amortization of debt discount premium → cash flow > financing activities > short term debt, net\n"
     ]
    },
    {
     "name": "stderr",
     "output_type": "stream",
     "text": [
      "Processing rows: 132it [00:07, 19.02it/s]"
     ]
    },
    {
     "name": "stdout",
     "output_type": "stream",
     "text": [
      "BorrowingsUnderGuaranteedInvestmentAgreements | [mapped.1 (0.75)] Balance Sheet > borrowings under guaranteed investment agreements → balance sheet > liabilities > capital lease obligations\n",
      "BridgeLoan | [mapped.1 (0.76)] Balance Sheet > bridge loan → balance sheet > liabilities > notes payable > short term debt\n",
      "BrokerageCommissionsRevenue | [mapped.1 (0.81)] Income Statement > brokerage commissions revenue → income statement > cost of revenue\n",
      "PaymentsForBrokerageFees | [mapped.1 (0.77)] Cash Flow Statement > payments for brokerage fees → cash flow > cash interest paid\n"
     ]
    },
    {
     "name": "stderr",
     "output_type": "stream",
     "text": [
      "Processing rows: 137it [00:07, 20.11it/s]"
     ]
    },
    {
     "name": "stdout",
     "output_type": "stream",
     "text": [
      "BuildingsAndImprovementsGross | [mapped.1 (0.75)] Balance Sheet > buildings and improvements gross → balance sheet > assets > inventories\n",
      "PaymentsForProceedsFromProductiveAssets | [mapped.1 (0.82)] Cash Flow Statement > payments for proceeds from productive assets → cash flow > investing activities > proceeds from sale > maturity of investments\n",
      "PaymentsOfCapitalDistribution | [mapped.1 (0.78)] Cash Flow Statement > payments of capital distribution → cash flow > investing activities > capital expenditures\n",
      "InterestExpenseCapitalSecurities | [mapped.1 (0.84)] Income Statement > interest expense capital securities → income statement > interest expense - operating\n",
      "CapitalizedComputerSoftwareGross | [mapped.1 (0.70)] Balance Sheet > capitalized computer software gross → balance sheet > assets > intangibles\n"
     ]
    },
    {
     "name": "stderr",
     "output_type": "stream",
     "text": [
      "Processing rows: 142it [00:07, 20.64it/s]"
     ]
    },
    {
     "name": "stdout",
     "output_type": "stream",
     "text": [
      "CarryingCostsPropertyAndExplorationRights | [mapped.1 (0.75)] Cash Flow Statement > carrying costs property and exploration rights → cash flow > investing activities > capital expenditures\n",
      "CarryingCostsPropertyAndExplorationRights | [mapped.1 (0.76)] Income Statement > carrying costs property and exploration rights → income statement > cost of revenue\n",
      "CashAcquiredFromAcquisition | [mapped.1 (0.86)] Cash Flow Statement > cash acquired from acquisition → cash flow > investing activities > acquisitions\n",
      "CashAndCashEquivalentsAtCarryingValue | [mapped.1 (0.79)] Cash Flow Statement > cash and cash equivalents at carrying value → cash flow > cash interest paid\n",
      "CashAndCashEquivalentsAtCarryingValue | [mapped.1 (0.89)] Balance Sheet > cash and cash equivalents at carrying value → balance sheet > assets > cash & equivalents\n"
     ]
    },
    {
     "name": "stderr",
     "output_type": "stream",
     "text": [
      "Processing rows: 147it [00:08, 18.67it/s]"
     ]
    },
    {
     "name": "stdout",
     "output_type": "stream",
     "text": [
      "CashAndDueFromBanks | [mapped.1 (0.84)] Balance Sheet > cash and due from banks → balance sheet > assets > cash & equivalents\n",
      "CashCashEquivalentsAndFederalFundsSold | [mapped.1 (0.85)] Balance Sheet > cash cash equivalents and federal funds sold → balance sheet > assets > cash & equivalents\n",
      "CashCashEquivalentsAndShortTermInvestments | [mapped.1 (0.88)] Balance Sheet > cash cash equivalents and short term investments → balance sheet > assets > cash & equivalents\n",
      "CashDivestedFromDeconsolidation | [mapped.1 (0.77)] Cash Flow Statement > cash divested from deconsolidation → cash flow > investing activities > proceeds from sale > maturity of investments\n"
     ]
    },
    {
     "name": "stderr",
     "output_type": "stream",
     "text": [
      "Processing rows: 152it [00:08, 19.65it/s]"
     ]
    },
    {
     "name": "stdout",
     "output_type": "stream",
     "text": [
      "CashEquivalentsAtCarryingValue | [mapped.1 (0.88)] Balance Sheet > cash equivalents at carrying value → balance sheet > assets > cash & equivalents\n",
      "InterestPaid | [mapped.1 (0.93)] Cash Flow Statement > interest paid → cash flow > cash interest paid\n",
      "PaymentsToEmployees | [mapped.1 (0.81)] Cash Flow Statement > payments to employees → cash flow > cash taxes paid\n",
      "PaymentsToSuppliers | [mapped.1 (0.78)] Cash Flow Statement > payments to suppliers → cash flow > cash interest paid\n",
      "PaymentsToSuppliersAndEmployees | [mapped.1 (0.77)] Cash Flow Statement > payments to suppliers and employees → cash flow > cash taxes paid\n"
     ]
    },
    {
     "name": "stderr",
     "output_type": "stream",
     "text": [
      "Processing rows: 155it [00:08, 20.23it/s]"
     ]
    },
    {
     "name": "stdout",
     "output_type": "stream",
     "text": [
      "PaymentsForUnderwritingExpense | [mapped.1 (0.78)] Cash Flow Statement > payments for underwriting expense → cash flow > cash interest paid\n",
      "PaymentsForPurchaseOfSecuritiesOperatingActivities | [mapped.1 (0.82)] Cash Flow Statement > payments for purchase of securities operating activities → cash flow > investing activities > purchase of investments\n",
      "PaymentsForRestructuring | [mapped.1 (0.79)] Cash Flow Statement > payments for restructuring → cash flow > operating activities > changes in other liabilities\n",
      "PaymentsToAcquireBusinessesGross | [mapped.1 (0.82)] Cash Flow Statement > payments to acquire businesses gross → cash flow > investing activities > acquisitions\n",
      "ProceedsFromDepositsWithOtherInstitutions | [mapped.1 (0.78)] Cash Flow Statement > proceeds from deposits with other institutions → cash flow > investing activities > proceeds from sale > maturity of investments\n"
     ]
    },
    {
     "name": "stderr",
     "output_type": "stream",
     "text": [
      "Processing rows: 161it [00:08, 20.80it/s]"
     ]
    },
    {
     "name": "stdout",
     "output_type": "stream",
     "text": [
      "ProceedsFromLoans | [mapped.1 (0.81)] Cash Flow Statement > proceeds from loans → cash flow > cash interest paid\n",
      "ProceedsFromDepositsFromCustomers | [mapped.1 (0.76)] Cash Flow Statement > proceeds from deposits from customers → cash flow > investing activities > proceeds from sale > maturity of investments\n",
      "ProceedsFromTimeDepositsAccepted | [mapped.1 (0.76)] Cash Flow Statement > proceeds from time deposits accepted → cash flow > investing activities > proceeds from sale > maturity of investments\n",
      "ProceedsFromSaleOfSecuritiesOperatingActivities | [mapped.1 (0.85)] Cash Flow Statement > proceeds from sale of securities operating activities → cash flow > investing activities > proceeds from sale > maturity of investments\n",
      "ProceedsFromCollaborators | [mapped.1 (0.76)] Cash Flow Statement > proceeds from collaborators → cash flow > investing activities > proceeds from sale > maturity of investments\n"
     ]
    },
    {
     "name": "stderr",
     "output_type": "stream",
     "text": [
      "Processing rows: 164it [00:08, 21.21it/s]"
     ]
    },
    {
     "name": "stdout",
     "output_type": "stream",
     "text": [
      "ProceedsFromGrantors | [mapped.1 (0.79)] Cash Flow Statement > proceeds from grantors → cash flow > investing activities > proceeds from sale > maturity of investments\n",
      "ProceedsFromLegalSettlements | [mapped.1 (0.79)] Cash Flow Statement > proceeds from legal settlements → cash flow > investing activities > proceeds from sale > maturity of investments\n",
      "ProceedsFromCustomers | [mapped.1 (0.79)] Cash Flow Statement > proceeds from customers → cash flow > investing activities > proceeds from sale > maturity of investments\n",
      "CashAndSecuritiesSegregatedUnderFederalAndOtherRegulations | [mapped.1 (0.77)] Balance Sheet > cash and securities segregated under federal and other regulations → balance sheet > assets > restricted cash - current\n"
     ]
    },
    {
     "name": "stderr",
     "output_type": "stream",
     "text": [
      "Processing rows: 170it [00:09, 20.37it/s]"
     ]
    },
    {
     "name": "stdout",
     "output_type": "stream",
     "text": [
      "CashSurrenderValueOfLifeInsurance | [mapped.1 (0.72)] Balance Sheet > cash surrender value of life insurance → balance sheet > assets > cash & equivalents\n",
      "InterestPaidNet | [mapped.1 (0.89)] Cash Flow Statement > interest paid net → cash flow > cash interest paid\n",
      "CededPremiumsWritten | [mapped.1 (0.74)] Income Statement > ceded premiums written → income statement > preferred dividends\n",
      "IncreaseDecreaseInAccountsAndNotesReceivable | [mapped.1 (0.83)] Cash Flow Statement > increase decrease in accounts and notes receivable → cash flow > operating activities > changes in accounts receivable\n",
      "IncreaseDecreaseInAccountsPayableAndAccruedLiabilities | [mapped.1 (0.82)] Cash Flow Statement > increase decrease in accounts payable and accrued liabilities → cash flow > operating activities > changes in other liabilities\n"
     ]
    },
    {
     "name": "stderr",
     "output_type": "stream",
     "text": [
      "Processing rows: 176it [00:09, 21.06it/s]"
     ]
    },
    {
     "name": "stdout",
     "output_type": "stream",
     "text": [
      "IncreaseDecreaseInAccountsReceivable | [mapped.1 (0.83)] Cash Flow Statement > increase decrease in accounts receivable → cash flow > operating activities > changes in accounts receivable\n",
      "IncreaseDecreaseInDueToEmployeesCurrent | [mapped.1 (0.77)] Cash Flow Statement > increase decrease in due to employees current → cash flow > operating activities > changes in accounts payable\n",
      "IncreaseDecreaseInAssetRetirementObligations | [mapped.1 (0.78)] Cash Flow Statement > increase decrease in asset retirement obligations → cash flow > operating activities > changes in other assets\n",
      "IncreaseDecreaseInAssetsHeldForSale | [mapped.1 (0.80)] Cash Flow Statement > increase decrease in assets held for sale → cash flow > operating activities > changes in other assets\n",
      "IncreaseDecreaseInBalancingAccountUtility | [mapped.1 (0.78)] Cash Flow Statement > increase decrease in balancing account utility → cash flow > operating activities > changes in accounts receivable\n"
     ]
    },
    {
     "name": "stderr",
     "output_type": "stream",
     "text": [
      "Processing rows: 179it [00:09, 21.08it/s]"
     ]
    },
    {
     "name": "stdout",
     "output_type": "stream",
     "text": [
      "ProceedsFromRepaymentsOfBankOverdrafts | [mapped.1 (0.77)] Cash Flow Statement > proceeds from repayments of bank overdrafts → cash flow > cash interest paid\n",
      "IncreaseDecreaseInClientFundsHeld | [mapped.1 (0.72)] Cash Flow Statement > increase decrease in client funds held → cash flow > cash interest paid\n",
      "IncreaseDecreaseInCoalInventories | [mapped.1 (0.82)] Cash Flow Statement > increase decrease in coal inventories → cash flow > operating activities > changes in inventories\n",
      "IncreaseDecreaseInCommodityContractAssetsAndLiabilities | [mapped.1 (0.78)] Cash Flow Statement > increase decrease in commodity contract assets and liabilities → cash flow > operating activities > changes in other liabilities\n",
      "IncreaseDecreaseInLongTermReceivablesCurrent | [mapped.1 (0.77)] Cash Flow Statement > increase decrease in long term receivables current → cash flow > operating activities > changes in accounts receivable\n"
     ]
    },
    {
     "name": "stderr",
     "output_type": "stream",
     "text": [
      "Processing rows: 185it [00:09, 21.31it/s]"
     ]
    },
    {
     "name": "stdout",
     "output_type": "stream",
     "text": [
      "IncreaseDecreaseInDeferredCharges | [mapped.1 (0.78)] Cash Flow Statement > increase decrease in deferred charges → cash flow > operating activities > deferred revenue\n",
      "IncreaseDecreaseInDeferredCompensation | [mapped.1 (0.74)] Cash Flow Statement > increase decrease in deferred compensation → cash flow > operating activities > deferred revenue\n",
      "IncreaseDecreaseInDeferredFuelCosts | [mapped.1 (0.77)] Cash Flow Statement > increase decrease in deferred fuel costs → cash flow > operating activities > deferred revenue\n",
      "IncreaseDecreaseInDepositOtherAssets | [mapped.1 (0.75)] Cash Flow Statement > increase decrease in deposit other assets → cash flow > investing activities > other investing activities\n",
      "IncreaseDecreaseInEmployeeRelatedLiabilities | [mapped.1 (0.81)] Cash Flow Statement > increase decrease in employee related liabilities → cash flow > operating activities > changes in other liabilities\n"
     ]
    },
    {
     "name": "stderr",
     "output_type": "stream",
     "text": [
      "Processing rows: 191it [00:10, 21.26it/s]"
     ]
    },
    {
     "name": "stdout",
     "output_type": "stream",
     "text": [
      "IncreaseDecreaseInEnergyTradingActivity | [mapped.1 (0.77)] Cash Flow Statement > increase decrease in energy trading activity → cash flow > operating activities > changes in other assets\n",
      "EnvironmentalExpenseAndLiabilities | [mapped.1 (0.80)] Cash Flow Statement > environmental expense and liabilities → cash flow > operating activities > changes in other liabilities\n",
      "OtherIncreaseDecreaseInEnvironmentalLiabilities | [mapped.1 (0.81)] Cash Flow Statement > other increase decrease in environmental liabilities → cash flow > operating activities > changes in other liabilities\n",
      "IncreaseDecreaseInFossilFuelInventories | [mapped.1 (0.80)] Cash Flow Statement > increase decrease in fossil fuel inventories → cash flow > operating activities > changes in inventories\n",
      "IncreaseDecreaseInFuelInventories | [mapped.1 (0.82)] Cash Flow Statement > increase decrease in fuel inventories → cash flow > operating activities > changes in inventories\n"
     ]
    },
    {
     "name": "stderr",
     "output_type": "stream",
     "text": [
      "Processing rows: 194it [00:10, 21.46it/s]"
     ]
    },
    {
     "name": "stdout",
     "output_type": "stream",
     "text": [
      "IncreaseDecreaseInHealthCareInsuranceLiabilities | [mapped.1 (0.74)] Cash Flow Statement > increase decrease in health care insurance liabilities → cash flow > operating activities > changes in other liabilities\n",
      "IncreaseDecreaseInAccruedIncomeTaxesPayable | [mapped.1 (0.78)] Cash Flow Statement > increase decrease in accrued income taxes payable → cash flow > cash taxes paid\n",
      "IncreaseDecreaseInIncomeTaxesReceivable | [mapped.1 (0.76)] Cash Flow Statement > increase decrease in income taxes receivable → cash flow > operating activities > changes in accounts receivable\n",
      "IncreaseDecreaseInInsuranceLiabilities | [mapped.1 (0.78)] Cash Flow Statement > increase decrease in insurance liabilities → cash flow > operating activities > changes in other liabilities\n",
      "IncreaseDecreaseInIntangibleAssetsCurrent | [mapped.1 (0.79)] Cash Flow Statement > increase decrease in intangible assets current → cash flow > operating activities > changes in other assets\n"
     ]
    },
    {
     "name": "stderr",
     "output_type": "stream",
     "text": [
      "Processing rows: 200it [00:10, 21.55it/s]"
     ]
    },
    {
     "name": "stdout",
     "output_type": "stream",
     "text": [
      "IncreaseDecreaseInInterestPayableNet | [mapped.1 (0.78)] Cash Flow Statement > increase decrease in interest payable net → cash flow > cash interest paid\n",
      "IncreaseDecreaseInAccruedInterestReceivableNet | [mapped.1 (0.77)] Cash Flow Statement > increase decrease in accrued interest receivable net → cash flow > operating activities > changes in accounts receivable\n",
      "IncreaseDecreaseInInventories | [mapped.1 (0.86)] Cash Flow Statement > increase decrease in inventories → cash flow > operating activities > changes in inventories\n",
      "IncreaseDecreaseInRawMaterialsPackagingMaterialsAndSuppliesInventories | [mapped.1 (0.82)] Cash Flow Statement > increase decrease in raw materials packaging materials and supplies inventories → cash flow > operating activities > changes in inventories\n",
      "IncreaseDecreaseInFinancialInstrumentsUsedInOperatingActivities | [mapped.1 (0.82)] Cash Flow Statement > increase decrease in financial instruments used in operating activities → cash flow > operating activities > changes in other assets\n"
     ]
    },
    {
     "name": "stderr",
     "output_type": "stream",
     "text": [
      "Processing rows: 206it [00:10, 21.01it/s]"
     ]
    },
    {
     "name": "stdout",
     "output_type": "stream",
     "text": [
      "IncreaseDecreaseInLeasingReceivables | [mapped.1 (0.79)] Cash Flow Statement > increase decrease in leasing receivables → cash flow > operating activities > changes in accounts receivable\n",
      "IncreaseDecreaseInLifeInsuranceLiabilities | [mapped.1 (0.76)] Cash Flow Statement > increase decrease in life insurance liabilities → cash flow > operating activities > changes in other liabilities\n",
      "IncreaseDecreaseInLoansDeferredIncome | [mapped.1 (0.74)] Cash Flow Statement > increase decrease in loans deferred income → cash flow > operating activities > deferred revenue\n",
      "PaymentsForProceedsFromMortgageServicingRights | [mapped.1 (0.76)] Cash Flow Statement > payments for proceeds from mortgage servicing rights → cash flow > financing activities > other financing activities\n",
      "IncreaseDecreaseInNotesReceivables | [mapped.1 (0.80)] Cash Flow Statement > increase decrease in notes receivables → cash flow > operating activities > changes in accounts receivable\n"
     ]
    },
    {
     "name": "stderr",
     "output_type": "stream",
     "text": [
      "Processing rows: 209it [00:10, 21.82it/s]"
     ]
    },
    {
     "name": "stdout",
     "output_type": "stream",
     "text": [
      "IncreaseDecreaseInOperatingAssets | [mapped.1 (0.85)] Cash Flow Statement > increase decrease in operating assets → cash flow > operating activities > changes in other assets\n",
      "IncreaseDecreaseInOperatingLiabilities | [mapped.1 (0.85)] Cash Flow Statement > increase decrease in operating liabilities → cash flow > operating activities > changes in other liabilities\n",
      "IncreaseDecreaseInOtherAccountsPayableAndAccruedLiabilities | [mapped.1 (0.83)] Cash Flow Statement > increase decrease in other accounts payable and accrued liabilities → cash flow > operating activities > changes in other liabilities\n",
      "IncreaseDecreaseInOtherAccruedLiabilities | [mapped.1 (0.83)] Cash Flow Statement > increase decrease in other accrued liabilities → cash flow > operating activities > changes in other liabilities\n",
      "IncreaseDecreaseInOtherDeferredLiability | [mapped.1 (0.79)] Cash Flow Statement > increase decrease in other deferred liability → cash flow > operating activities > changes in other liabilities\n"
     ]
    },
    {
     "name": "stderr",
     "output_type": "stream",
     "text": [
      "Processing rows: 215it [00:11, 21.63it/s]"
     ]
    },
    {
     "name": "stdout",
     "output_type": "stream",
     "text": [
      "IncreaseDecreaseInOtherInsuranceLiabilities | [mapped.1 (0.79)] Cash Flow Statement > increase decrease in other insurance liabilities → cash flow > operating activities > changes in other liabilities\n",
      "IncreaseDecreaseInOtherLoans | [mapped.1 (0.76)] Cash Flow Statement > increase decrease in other loans → cash flow > financing activities > other financing activities\n",
      "IncreaseDecreaseInOtherReceivables | [mapped.1 (0.80)] Cash Flow Statement > increase decrease in other receivables → cash flow > operating activities > changes in accounts receivable\n",
      "IncreaseDecreaseInOtherRegulatoryAssets | [mapped.1 (0.82)] Cash Flow Statement > increase decrease in other regulatory assets → cash flow > operating activities > changes in other assets\n",
      "IncreaseDecreaseInOverEnergyRecovery | [mapped.1 (0.77)] Cash Flow Statement > increase decrease in over energy recovery → cash flow > operating activities > changes in other assets\n"
     ]
    },
    {
     "name": "stderr",
     "output_type": "stream",
     "text": [
      "Processing rows: 218it [00:11, 21.48it/s]"
     ]
    },
    {
     "name": "stdout",
     "output_type": "stream",
     "text": [
      "IncreaseDecreaseInOverUnderEnergyRecovery | [mapped.1 (0.78)] Cash Flow Statement > increase decrease in over under energy recovery → cash flow > operating activities > changes in other assets\n",
      "IncreaseDecreaseInReinsurancePayables | [mapped.1 (0.74)] Cash Flow Statement > increase decrease in reinsurance payables → cash flow > operating activities > changes in other liabilities\n",
      "IncreaseDecreaseInPensionPlanObligations | [mapped.1 (0.75)] Cash Flow Statement > increase decrease in pension plan obligations → cash flow > operating activities > changes in other liabilities\n",
      "IncreaseDecreaseInPneumoconiosisBenefitObligationsNoncurrent | [mapped.1 (0.75)] Cash Flow Statement > increase decrease in pneumoconiosis benefit obligations noncurrent → cash flow > operating activities > changes in other liabilities\n"
     ]
    },
    {
     "name": "stderr",
     "output_type": "stream",
     "text": [
      "Processing rows: 224it [00:11, 20.81it/s]"
     ]
    },
    {
     "name": "stdout",
     "output_type": "stream",
     "text": [
      "IncreaseDecreaseInPostretirementObligations | [mapped.1 (0.76)] Cash Flow Statement > increase decrease in postretirement obligations → cash flow > operating activities > changes in other liabilities\n",
      "IncreaseDecreaseInPrepaidExpense | [mapped.1 (0.75)] Cash Flow Statement > increase decrease in prepaid expense → cash flow > operating activities > changes in other liabilities\n",
      "IncreaseDecreaseInPrepaidDeferredExpenseAndOtherAssets | [mapped.1 (0.80)] Cash Flow Statement > increase decrease in prepaid deferred expense and other assets → cash flow > operating activities > changes in other assets\n",
      "IncreaseDecreaseInPrepaidRent | [mapped.1 (0.74)] Cash Flow Statement > increase decrease in prepaid rent → cash flow > cash interest paid\n",
      "IncreaseDecreaseInProductionParticipationPlanLiability | [mapped.1 (0.76)] Cash Flow Statement > increase decrease in production participation plan liability → cash flow > operating activities > changes in other liabilities\n"
     ]
    },
    {
     "name": "stderr",
     "output_type": "stream",
     "text": [
      "Processing rows: 230it [00:11, 20.93it/s]"
     ]
    },
    {
     "name": "stdout",
     "output_type": "stream",
     "text": [
      "IncreaseDecreaseInPropertyAndCasualtyInsuranceLiabilities | [mapped.1 (0.71)] Cash Flow Statement > increase decrease in property and casualty insurance liabilities → cash flow > financing activities > other financing activities\n",
      "IncreaseDecreaseInPropertyAndOtherTaxesPayable | [mapped.1 (0.78)] Cash Flow Statement > increase decrease in property and other taxes payable → cash flow > cash taxes paid\n",
      "IncreaseDecreaseInReceivables | [mapped.1 (0.80)] Cash Flow Statement > increase decrease in receivables → cash flow > operating activities > changes in accounts receivable\n",
      "IncreaseDecreaseInRecoverablePropertyDamageCosts | [mapped.1 (0.70)] Cash Flow Statement > increase decrease in recoverable property damage costs → cash flow > cash interest paid\n",
      "IncreaseDecreaseInRecoverableRefundableGasCosts | [mapped.1 (0.71)] Cash Flow Statement > increase decrease in recoverable refundable gas costs → cash flow > financing activities > repurchase > retirement of common stock\n"
     ]
    },
    {
     "name": "stderr",
     "output_type": "stream",
     "text": [
      "Processing rows: 233it [00:12, 20.92it/s]"
     ]
    },
    {
     "name": "stdout",
     "output_type": "stream",
     "text": [
      "IncreaseDecreaseInRegulatoryAssetsAndLiabilities | [mapped.1 (0.80)] Cash Flow Statement > increase decrease in regulatory assets and liabilities → cash flow > operating activities > changes in other assets\n",
      "IncreaseDecreaseInRegulatoryClauseRevenue | [mapped.1 (0.76)] Cash Flow Statement > increase decrease in regulatory clause revenue → cash flow > operating activities > changes in other liabilities\n",
      "IncreaseDecreaseInRegulatoryLiabilities | [mapped.1 (0.81)] Cash Flow Statement > increase decrease in regulatory liabilities → cash flow > operating activities > changes in other liabilities\n",
      "IncreaseDecreaseInRiskManagementAssetsAndLiabilities | [mapped.1 (0.80)] Cash Flow Statement > increase decrease in risk management assets and liabilities → cash flow > operating activities > changes in other assets\n",
      "IncreaseDecreaseInRoyaltiesPayable | [mapped.1 (0.75)] Cash Flow Statement > increase decrease in royalties payable → cash flow > operating activities > changes in accounts payable\n"
     ]
    },
    {
     "name": "stderr",
     "output_type": "stream",
     "text": [
      "Processing rows: 239it [00:12, 20.71it/s]"
     ]
    },
    {
     "name": "stdout",
     "output_type": "stream",
     "text": [
      "IncreaseDecreaseInSecurityDeposits | [mapped.1 (0.70)] Cash Flow Statement > increase decrease in security deposits → cash flow > foreign exchange effects\n",
      "ProceedsFromRepaymentsOfShortTermDebt | [mapped.1 (0.80)] Cash Flow Statement > proceeds from repayments of short term debt → cash flow > financing activities > long term debt, net\n",
      "PaymentsForProceedsFromShortTermInvestments | [mapped.1 (0.82)] Cash Flow Statement > payments for proceeds from short term investments → cash flow > financing activities > short term debt, net\n",
      "IncreaseDecreaseInAccountsPayableTrade | [mapped.1 (0.79)] Cash Flow Statement > increase decrease in accounts payable trade → cash flow > operating activities > changes in accounts receivable\n",
      "IncreaseDecreaseInTradingLiabilities | [mapped.1 (0.80)] Cash Flow Statement > increase decrease in trading liabilities → cash flow > operating activities > changes in other liabilities\n"
     ]
    },
    {
     "name": "stderr",
     "output_type": "stream",
     "text": [
      "Processing rows: 245it [00:12, 20.63it/s]"
     ]
    },
    {
     "name": "stdout",
     "output_type": "stream",
     "text": [
      "IncreaseDecreaseInUnderEnergyRecovery | [mapped.1 (0.77)] Cash Flow Statement > increase decrease in under energy recovery → cash flow > operating activities > changes in other assets\n",
      "IncreaseDecreaseInUnprovedOilAndGasProperty | [mapped.1 (0.73)] Cash Flow Statement > increase decrease in unproved oil and gas property → cash flow > investing activities > proceeds from sale > maturity of investments\n",
      "IncreaseDecreaseInWorkersCompensationLiabilities | [mapped.1 (0.76)] Cash Flow Statement > increase decrease in workers compensation liabilities → cash flow > operating activities > changes in other liabilities\n",
      "IncreaseDecreaseInOperatingCapital | [mapped.1 (0.81)] Cash Flow Statement > increase decrease in operating capital → cash flow > operating activities > changes in other assets\n",
      "IncreaseDecreaseInAccountsPayable | [mapped.1 (0.82)] Cash Flow Statement > increase decrease in accounts payable → cash flow > operating activities > changes in accounts payable\n"
     ]
    },
    {
     "name": "stderr",
     "output_type": "stream",
     "text": [
      "Processing rows: 248it [00:12, 20.73it/s]"
     ]
    },
    {
     "name": "stdout",
     "output_type": "stream",
     "text": [
      "IncreaseDecreaseInAccountsPayableRelatedParties | [mapped.1 (0.80)] Cash Flow Statement > increase decrease in accounts payable related parties → cash flow > operating activities > changes in accounts payable\n",
      "IncreaseDecreaseInAccruedLiabilities | [mapped.1 (0.82)] Cash Flow Statement > increase decrease in accrued liabilities → cash flow > operating activities > changes in other liabilities\n",
      "IncreaseDecreaseInAccruedCostOfOilAndGasReclamation | [mapped.1 (0.73)] Cash Flow Statement > increase decrease in accrued cost of oil and gas reclamation → cash flow > operating activities > changes in other assets\n",
      "IncreaseDecreaseDueFromAffiliates | [mapped.1 (0.76)] Cash Flow Statement > increase decrease due from affiliates → cash flow > operating activities > changes in other liabilities\n",
      "IncreaseDecreaseInDueFromOtherRelatedPartiesCurrent | [mapped.1 (0.78)] Cash Flow Statement > increase decrease in due from other related parties current → cash flow > operating activities > changes in other liabilities\n"
     ]
    },
    {
     "name": "stderr",
     "output_type": "stream",
     "text": [
      "Processing rows: 254it [00:13, 21.16it/s]"
     ]
    },
    {
     "name": "stdout",
     "output_type": "stream",
     "text": [
      "IncreaseDecreaseDueFromOtherRelatedParties | [mapped.1 (0.78)] Cash Flow Statement > increase decrease due from other related parties → cash flow > operating activities > changes in other liabilities\n",
      "IncreaseDecreaseInDueToAffiliatesCurrent | [mapped.1 (0.76)] Cash Flow Statement > increase decrease in due to affiliates current → cash flow > operating activities > changes in other liabilities\n",
      "IncreaseDecreaseInDueToAffiliates | [mapped.1 (0.76)] Cash Flow Statement > increase decrease in due to affiliates → cash flow > operating activities > changes in other assets\n",
      "IncreaseDecreaseInDueToOfficersAndStockholders | [mapped.1 (0.78)] Cash Flow Statement > increase decrease in due to officers and stockholders → cash flow > operating activities > changes in other liabilities\n",
      "IncreaseDecreaseInDueToOtherRelatedPartiesCurrent | [mapped.1 (0.78)] Cash Flow Statement > increase decrease in due to other related parties current → cash flow > operating activities > changes in other liabilities\n"
     ]
    },
    {
     "name": "stderr",
     "output_type": "stream",
     "text": [
      "Processing rows: 260it [00:13, 20.55it/s]"
     ]
    },
    {
     "name": "stdout",
     "output_type": "stream",
     "text": [
      "IncreaseDecreaseInDueToOtherRelatedParties | [mapped.1 (0.78)] Cash Flow Statement > increase decrease in due to other related parties → cash flow > operating activities > changes in other liabilities\n",
      "IncreaseDecreaseInDueToRelatedPartiesCurrent | [mapped.1 (0.77)] Cash Flow Statement > increase decrease in due to related parties current → cash flow > operating activities > changes in other liabilities\n",
      "IncreaseDecreaseInDueToRelatedParties | [mapped.1 (0.77)] Cash Flow Statement > increase decrease in due to related parties → cash flow > operating activities > changes in other liabilities\n",
      "IncreaseDecreaseInDepositsOutstanding | [mapped.1 (0.71)] Cash Flow Statement > increase decrease in deposits outstanding → cash flow > financing activities > other financing activities\n",
      "IncreaseDecreaseInEarnestMoneyDepositsOutstanding | [mapped.1 (0.71)] Cash Flow Statement > increase decrease in earnest money deposits outstanding → cash flow > investing activities > proceeds from sale > maturity of investments\n"
     ]
    },
    {
     "name": "stderr",
     "output_type": "stream",
     "text": [
      "Processing rows: 263it [00:13, 20.57it/s]"
     ]
    },
    {
     "name": "stdout",
     "output_type": "stream",
     "text": [
      "IncreaseDecreaseInMarginDepositsOutstanding | [mapped.1 (0.71)] Cash Flow Statement > increase decrease in margin deposits outstanding → cash flow > financing activities > other financing activities\n",
      "IncreaseDecreaseInNotesPayableCurrent | [mapped.1 (0.78)] Cash Flow Statement > increase decrease in notes payable current → cash flow > operating activities > changes in accounts payable\n",
      "IncreaseDecreaseInNotesPayableRelatedPartiesCurrent | [mapped.1 (0.79)] Cash Flow Statement > increase decrease in notes payable related parties current → cash flow > operating activities > changes in accounts payable\n",
      "IncreaseDecreaseInNotesPayableRelatedParties | [mapped.1 (0.79)] Cash Flow Statement > increase decrease in notes payable related parties → cash flow > operating activities > changes in accounts payable\n",
      "IncreaseDecreaseInOtherAccountsPayable | [mapped.1 (0.79)] Cash Flow Statement > increase decrease in other accounts payable → cash flow > operating activities > changes in accounts payable\n"
     ]
    },
    {
     "name": "stderr",
     "output_type": "stream",
     "text": [
      "Processing rows: 269it [00:13, 20.67it/s]"
     ]
    },
    {
     "name": "stdout",
     "output_type": "stream",
     "text": [
      "IncreaseDecreaseInAccountsReceivableRelatedParties | [mapped.1 (0.82)] Cash Flow Statement > increase decrease in accounts receivable related parties → cash flow > operating activities > changes in accounts receivable\n",
      "IncreaseDecreaseInNotesReceivableRelatedPartiesCurrent | [mapped.1 (0.80)] Cash Flow Statement > increase decrease in notes receivable related parties current → cash flow > operating activities > changes in accounts receivable\n",
      "IncreaseDecreaseInNotesReceivableRelatedParties | [mapped.1 (0.79)] Cash Flow Statement > increase decrease in notes receivable related parties → cash flow > operating activities > changes in accounts receivable\n",
      "IncreaseDecreaseInDueFromRelatedPartiesCurrent | [mapped.1 (0.77)] Cash Flow Statement > increase decrease in due from related parties current → cash flow > operating activities > changes in other liabilities\n",
      "IncreaseDecreaseInDueFromRelatedParties | [mapped.1 (0.77)] Cash Flow Statement > increase decrease in due from related parties → cash flow > operating activities > changes in other liabilities\n"
     ]
    },
    {
     "name": "stderr",
     "output_type": "stream",
     "text": [
      "Processing rows: 275it [00:14, 19.90it/s]"
     ]
    },
    {
     "name": "stdout",
     "output_type": "stream",
     "text": [
      "LiabilityForClaimsAndClaimsAdjustmentExpense | [mapped.1 (0.82)] Balance Sheet > liability for claims and claims adjustment expense → balance sheet > liabilities > accrued expenses\n",
      "ClearanceFees | [mapped.1 (0.78)] Income Statement > clearance fees → income statement > cost of revenue\n",
      "CashCollateralForBorrowedSecurities | [mapped.1 (0.78)] Balance Sheet > cash collateral for borrowed securities → balance sheet > assets > cash & equivalents\n",
      "IncreaseDecreaseInCashCollateralForBorrowedSecurities | [mapped.1 (0.75)] Cash Flow Statement > increase decrease in cash collateral for borrowed securities → cash flow > operating activities > changes in other assets\n",
      "IncreaseDecreaseInCashCollateralForLoanedSecurities | [mapped.1 (0.74)] Cash Flow Statement > increase decrease in cash collateral for loaned securities → cash flow > operating activities > changes in other assets\n"
     ]
    },
    {
     "name": "stderr",
     "output_type": "stream",
     "text": [
      "Processing rows: 277it [00:14, 19.22it/s]"
     ]
    },
    {
     "name": "stdout",
     "output_type": "stream",
     "text": [
      "CommercialPaper | [mapped.1 (0.79)] Balance Sheet > commercial paper → balance sheet > shareholders' equity > common stock\n",
      "CommercialPaperNoncurrent | [mapped.1 (0.79)] Balance Sheet > commercial paper noncurrent → balance sheet > liabilities > other current liabilities\n",
      "PaymentsForCommissions | [mapped.1 (0.79)] Cash Flow Statement > payments for commissions → cash flow > cash interest paid\n",
      "ProceedsFromCommissionsReceived | [mapped.1 (0.82)] Cash Flow Statement > proceeds from commissions received → cash flow > investing activities > proceeds from sale > maturity of investments\n"
     ]
    },
    {
     "name": "stderr",
     "output_type": "stream",
     "text": [
      "Processing rows: 282it [00:14, 18.52it/s]"
     ]
    },
    {
     "name": "stdout",
     "output_type": "stream",
     "text": [
      "CommodityContractAssetCurrent | [mapped.1 (0.81)] Balance Sheet > commodity contract asset current → balance sheet > assets > other current assets\n",
      "CommodityContractAssetNoncurrent | [mapped.1 (0.80)] Balance Sheet > commodity contract asset noncurrent → balance sheet > assets > other current assets\n",
      "CommonStockHeldBySubsidiary | [mapped.1 (0.83)] Balance Sheet > common stock held by subsidiary → balance sheet > shareholders' equity > preferred stock\n",
      "CommonStockIssuedEmployeeStockTrust | [mapped.1 (0.81)] Balance Sheet > common stock issued employee stock trust → balance sheet > shareholders' equity > treasury stock\n"
     ]
    },
    {
     "name": "stderr",
     "output_type": "stream",
     "text": [
      "Processing rows: 286it [00:14, 17.37it/s]"
     ]
    },
    {
     "name": "stdout",
     "output_type": "stream",
     "text": [
      "CommonStockSharesSubscriptions | [mapped.1 (0.83)] Balance Sheet > common stock shares subscriptions → balance sheet > shareholders' equity > common stock\n",
      "CommonStockShareSubscribedButUnissuedSubscriptionsReceivable | [mapped.1 (0.77)] Balance Sheet > common stock share subscribed but unissued subscriptions receivable → balance sheet > shareholders' equity > redeemable preferred stock\n",
      "CommonStockSharesAuthorized | [mapped.1 (0.85)] Balance Sheet > common stock shares authorized → balance sheet > shareholders' equity > common stock\n",
      "CommonStockSharesIssued | [mapped.1 (0.88)] Balance Sheet > common stock shares issued → balance sheet > shareholders' equity > common stock\n"
     ]
    },
    {
     "name": "stderr",
     "output_type": "stream",
     "text": [
      "Processing rows: 291it [00:15, 17.62it/s]"
     ]
    },
    {
     "name": "stdout",
     "output_type": "stream",
     "text": [
      "CommonStockSharesOutstanding | [mapped.1 (0.90)] Equity Statement > common stock shares outstanding → equity statement > issuance of common stock\n",
      "CommonStockSharesOutstanding | [mapped.1 (0.89)] Balance Sheet > common stock shares outstanding → balance sheet > shareholders' equity > common stock\n",
      "CommonStockValue | [mapped.1 (0.90)] Balance Sheet > common stock value → balance sheet > shareholders' equity > common stock\n",
      "CommonStockHeldInTrust | [mapped.1 (0.82)] Balance Sheet > common stock held in trust → balance sheet > shareholders' equity > preferred stock\n"
     ]
    },
    {
     "name": "stderr",
     "output_type": "stream",
     "text": [
      "Processing rows: 296it [00:15, 19.50it/s]"
     ]
    },
    {
     "name": "stdout",
     "output_type": "stream",
     "text": [
      "ComprehensiveIncomeNetOfTax | [mapped.1 (0.83)] Comprehensive Income > comprehensive income net of tax → comprehensive income > other comprehensive income\n",
      "ConstructionInProgressGross | [mapped.1 (0.75)] Balance Sheet > construction in progress gross → balance sheet > assets > inventories\n",
      "ProceedsFromContributedCapital | [mapped.1 (0.82)] Cash Flow Statement > proceeds from contributed capital → cash flow > investing activities > capital expenditures\n",
      "ProceedsFromContributionsFromAffiliates | [mapped.1 (0.78)] Cash Flow Statement > proceeds from contributions from affiliates → cash flow > investing activities > proceeds from sale > maturity of investments\n",
      "ConversionOfStockNewIssuance | [mapped.1 (0.82)] Cash Flow Statement > conversion of stock new issuance → cash flow > financing activities > issuance of common stock\n"
     ]
    },
    {
     "name": "stderr",
     "output_type": "stream",
     "text": [
      "Processing rows: 298it [00:15, 15.22it/s]"
     ]
    },
    {
     "name": "stdout",
     "output_type": "stream",
     "text": [
      "ConversionOfStockTypeOfStockConverted | [mapped.1 (0.78)] Cash Flow Statement > conversion of stock type of stock converted → cash flow > financing activities > issuance of common stock\n",
      "ConvertibleDebtCurrent | [unmapped] Balance Sheet > convertible debt current\n"
     ]
    },
    {
     "name": "stderr",
     "output_type": "stream",
     "text": [
      "Processing rows: 300it [00:15, 11.91it/s]"
     ]
    },
    {
     "name": "stdout",
     "output_type": "stream",
     "text": [
      "ConvertibleNotesPayableCurrent | [unmapped] Balance Sheet > convertible notes payable current\n",
      "ConvertibleNotesPayable | [unmapped] Balance Sheet > convertible notes payable\n"
     ]
    },
    {
     "name": "stderr",
     "output_type": "stream",
     "text": [
      "Processing rows: 302it [00:15, 11.80it/s]"
     ]
    },
    {
     "name": "stdout",
     "output_type": "stream",
     "text": [
      "ConvertibleLongTermNotesPayable | [unmapped] Balance Sheet > convertible long term notes payable\n",
      "ConvertiblePreferredStockConvertedToOtherSecurities | [mapped.1 (0.81)] Income Statement > convertible preferred stock converted to other securities → income statement > preferred dividends\n",
      "ConvertibleSubordinatedDebtCurrent | [unmapped] Balance Sheet > convertible subordinated debt current\n"
     ]
    },
    {
     "name": "stderr",
     "output_type": "stream",
     "text": [
      "Processing rows: 304it [00:16,  9.66it/s]"
     ]
    },
    {
     "name": "stdout",
     "output_type": "stream",
     "text": [
      "ConvertibleSubordinatedDebt | [unmapped] Balance Sheet > convertible subordinated debt\n",
      "ConvertibleSubordinatedDebtNoncurrent | [unmapped] Balance Sheet > convertible subordinated debt noncurrent\n"
     ]
    },
    {
     "name": "stderr",
     "output_type": "stream",
     "text": [
      "Processing rows: 308it [00:16, 11.10it/s]"
     ]
    },
    {
     "name": "stdout",
     "output_type": "stream",
     "text": [
      "FinancialInstrumentsSoldNotYetPurchasedCorporateDebt | [mapped.1 (0.78)] Balance Sheet > financial instruments sold not yet purchased corporate debt → balance sheet > liabilities > notes payable > short term debt\n",
      "FinancialInstrumentsSoldNotYetPurchasedCorporateEquities | [mapped.1 (0.78)] Balance Sheet > financial instruments sold not yet purchased corporate equities → balance sheet > shareholders' equity > common stock\n",
      "AffiliateCosts | [mapped.1 (0.84)] Income Statement > affiliate costs → income statement > equity in affiliates\n",
      "DirectOperatingCosts | [mapped.1 (0.87)] Income Statement > direct operating costs → income statement > other operating expenses\n",
      "DirectOperatingCommunicationsCosts | [mapped.1 (0.80)] Income Statement > direct operating communications costs → income statement > cost of revenue\n"
     ]
    },
    {
     "name": "stderr",
     "output_type": "stream",
     "text": [
      "Processing rows: 314it [00:16, 16.61it/s]"
     ]
    },
    {
     "name": "stdout",
     "output_type": "stream",
     "text": [
      "DirectCommunicationsAndUtilitiesCosts | [mapped.1 (0.78)] Income Statement > direct communications and utilities costs → income statement > cost of revenue\n",
      "OperatingInsuranceAndClaimsCostsProduction | [mapped.1 (0.82)] Income Statement > operating insurance and claims costs production → income statement > other operating expenses\n",
      "DirectOperatingMaintenanceSuppliesCosts | [mapped.1 (0.77)] Income Statement > direct operating maintenance supplies costs → income statement > other operating expenses\n",
      "DirectTaxesAndLicensesCosts | [mapped.1 (0.79)] Income Statement > direct taxes and licenses costs → income statement > cost of revenue\n",
      "FuelCosts | [mapped.1 (0.84)] Income Statement > fuel costs → income statement > cost of revenue\n",
      "CostOfGoodsAndServicesSold | [mapped.1 (0.85)] Income Statement > cost of goods and services sold → income statement > cost of revenue\n"
     ]
    },
    {
     "name": "stderr",
     "output_type": "stream",
     "text": [
      "Processing rows: 320it [00:17, 19.29it/s]"
     ]
    },
    {
     "name": "stdout",
     "output_type": "stream",
     "text": [
      "CostOfGoodsAndServicesSoldAmortization | [mapped.1 (0.84)] Income Statement > cost of goods and services sold amortization → income statement > depreciation > amortization\n",
      "CostOfGoodsAndServicesSoldAmortization | [mapped.1 (0.81)] Cash Flow Statement > cost of goods and services sold amortization → cash flow > operating activities > depreciation > amortization\n",
      "CostOfGoodsAndServicesSoldDepreciation | [mapped.1 (0.84)] Income Statement > cost of goods and services sold depreciation → income statement > depreciation > amortization\n",
      "CostOfGoodsAndServicesSoldDepreciation | [mapped.1 (0.81)] Cash Flow Statement > cost of goods and services sold depreciation → cash flow > operating activities > depreciation > amortization\n",
      "CostOfGoodsAndServicesSoldDepreciationAndAmortization | [mapped.1 (0.87)] Income Statement > cost of goods and services sold depreciation and amortization → income statement > depreciation > amortization\n"
     ]
    },
    {
     "name": "stderr",
     "output_type": "stream",
     "text": [
      "Processing rows: 326it [00:17, 21.30it/s]"
     ]
    },
    {
     "name": "stdout",
     "output_type": "stream",
     "text": [
      "CostOfGoodsAndServicesSoldOverhead | [mapped.1 (0.81)] Income Statement > cost of goods and services sold overhead → income statement > selling > general > admin expenses\n",
      "InventoryWriteDown | [mapped.1 (0.81)] Income Statement > inventory write down → income statement > discontinued operations\n",
      "InventoryWriteDown | [mapped.1 (0.84)] Cash Flow Statement > inventory write down → cash flow > operating activities > changes in inventories\n",
      "DirectCostsOfLeasedAndRentedPropertyOrEquipment | [mapped.1 (0.79)] Income Statement > direct costs of leased and rented property or equipment → income statement > selling > general > admin expenses\n",
      "ManufacturingCosts | [mapped.1 (0.83)] Income Statement > manufacturing costs → income statement > cost of revenue\n"
     ]
    },
    {
     "name": "stderr",
     "output_type": "stream",
     "text": [
      "Processing rows: 329it [00:17, 22.47it/s]"
     ]
    },
    {
     "name": "stdout",
     "output_type": "stream",
     "text": [
      "OtherCostOfOperatingRevenue | [mapped.1 (0.89)] Income Statement > other cost of operating revenue → income statement > other operating expenses\n",
      "CostOfPurchasedWater | [mapped.1 (0.82)] Income Statement > cost of purchased water → income statement > cost of revenue\n",
      "RealEstateInsurance | [mapped.1 (0.78)] Income Statement > real estate insurance → income statement > net sales\n",
      "RealEstateTaxExpense | [mapped.1 (0.80)] Income Statement > real estate tax expense → income statement > selling > general > admin expenses\n",
      "AircraftRentalAndLandingFees | [mapped.1 (0.76)] Income Statement > aircraft rental and landing fees → income statement > cost of revenue\n"
     ]
    },
    {
     "name": "stderr",
     "output_type": "stream",
     "text": [
      "Processing rows: 335it [00:17, 23.28it/s]"
     ]
    },
    {
     "name": "stdout",
     "output_type": "stream",
     "text": [
      "CostOfPropertyRepairsAndMaintenance | [mapped.1 (0.76)] Income Statement > cost of property repairs and maintenance → income statement > cost of revenue\n",
      "CostOfRevenue | [mapped.1 (0.97)] Income Statement > cost of revenue → income statement > cost of revenue\n",
      "WaterProductionCosts | [mapped.1 (0.81)] Income Statement > water production costs → income statement > cost of revenue\n",
      "CostOfOtherPropertyOperatingExpense | [mapped.1 (0.89)] Income Statement > cost of other property operating expense → income statement > other operating expenses\n",
      "AccumulatedOtherComprehensiveIncomeLossForeignCurrencyTranslationAdjustmentNetOfTax | [mapped.1 (0.75)] Balance Sheet > accumulated other comprehensive income loss foreign currency translation adjustment net of tax → balance sheet > shareholders' equity > accumulated other comprehensive income\n"
     ]
    },
    {
     "name": "stderr",
     "output_type": "stream",
     "text": [
      "Processing rows: 338it [00:17, 20.92it/s]"
     ]
    },
    {
     "name": "stdout",
     "output_type": "stream",
     "text": [
      "LiabilitiesCurrent | [mapped.1 (0.94)] Balance Sheet > liabilities current → balance sheet > liabilities > other current liabilities\n",
      "LongTermDebtAndCapitalLeaseObligationsCurrent | [mapped.1 (0.89)] Balance Sheet > long term debt and capital lease obligations current → balance sheet > liabilities > capital lease obligations\n",
      "OtherLongTermDebtCurrent | [mapped.1 (0.90)] Balance Sheet > other long term debt current → balance sheet > liabilities > current portion of long term debt\n",
      "CustodyFees | [mapped.1 (0.78)] Income Statement > custody fees → income statement > cost of revenue\n"
     ]
    },
    {
     "name": "stderr",
     "output_type": "stream",
     "text": [
      "Processing rows: 344it [00:18, 19.31it/s]"
     ]
    },
    {
     "name": "stdout",
     "output_type": "stream",
     "text": [
      "CustomerRefundLiabilityNoncurrent | [mapped.1 (0.81)] Balance Sheet > customer refund liability noncurrent → balance sheet > liabilities > customer advances\n",
      "DueFromCustomerAcceptances | [mapped.1 (0.74)] Balance Sheet > due from customer acceptances → balance sheet > assets > accounts receivable\n",
      "DebtAndCapitalLeaseObligations | [mapped.1 (0.95)] Balance Sheet > debt and capital lease obligations → balance sheet > liabilities > capital lease obligations\n",
      "DebtCurrent | [mapped.1 (0.88)] Balance Sheet > debt current → balance sheet > liabilities > other current liabilities\n"
     ]
    },
    {
     "name": "stderr",
     "output_type": "stream",
     "text": [
      "Processing rows: 349it [00:18, 20.44it/s]"
     ]
    },
    {
     "name": "stdout",
     "output_type": "stream",
     "text": [
      "LongTermDebtAndCapitalLeaseObligations | [mapped.1 (0.91)] Balance Sheet > long term debt and capital lease obligations → balance sheet > liabilities > capital lease obligations\n",
      "DebtConversionConvertedInstrumentExpirationOrDueDateDayMonthAndYear | [mapped.1 (0.74)] Cash Flow Statement > debt conversion converted instrument expiration or due date day month and year → cash flow > financing activities > short term debt, net\n",
      "DebtConversionConvertedInstrumentExpirationOrDueDateMonthAndYear | [mapped.1 (0.74)] Cash Flow Statement > debt conversion converted instrument expiration or due date month and year → cash flow > financing activities > short term debt, net\n",
      "DebtConversionConvertedInstrumentIssuanceDateDayMonthAndYear | [mapped.1 (0.74)] Cash Flow Statement > debt conversion converted instrument issuance date day month and year → cash flow > financing activities > short term debt, net\n",
      "DebtConversionConvertedInstrumentIssuanceDateMonthAndYear | [mapped.1 (0.75)] Cash Flow Statement > debt conversion converted instrument issuance date month and year → cash flow > financing activities > short term debt, net\n"
     ]
    },
    {
     "name": "stderr",
     "output_type": "stream",
     "text": [
      "Processing rows: 352it [00:18, 21.18it/s]"
     ]
    },
    {
     "name": "stdout",
     "output_type": "stream",
     "text": [
      "DebtConversionConvertedInstrumentRate | [mapped.1 (0.79)] Cash Flow Statement > debt conversion converted instrument rate → cash flow > financing activities > short term debt, net\n",
      "DebtConversionConvertedInstrumentType | [mapped.1 (0.78)] Cash Flow Statement > debt conversion converted instrument type → cash flow > financing activities > short term debt, net\n",
      "DebtConversionOriginalDebtDueDateOfDebtDayMonthAndYear | [mapped.1 (0.76)] Cash Flow Statement > debt conversion original debt due date of debt day month and year → cash flow > financing activities > short term debt, net\n",
      "DebtConversionOriginalDebtDueDateOfDebtMonthAndYear | [mapped.1 (0.77)] Cash Flow Statement > debt conversion original debt due date of debt month and year → cash flow > financing activities > short term debt, net\n",
      "DebtConversionOriginalDebtInterestRateOfDebt | [mapped.1 (0.79)] Cash Flow Statement > debt conversion original debt interest rate of debt → cash flow > cash interest paid\n"
     ]
    },
    {
     "name": "stderr",
     "output_type": "stream",
     "text": [
      "Processing rows: 358it [00:18, 21.54it/s]"
     ]
    },
    {
     "name": "stdout",
     "output_type": "stream",
     "text": [
      "DebtConversionOriginalDebtIssuanceDateOfDebtDayMonthAndYear | [mapped.1 (0.75)] Cash Flow Statement > debt conversion original debt issuance date of debt day month and year → cash flow > financing activities > short term debt, net\n",
      "DebtConversionOriginalDebtIssuanceDateOfDebtMonthAndYear | [mapped.1 (0.76)] Cash Flow Statement > debt conversion original debt issuance date of debt month and year → cash flow > financing activities > short term debt, net\n",
      "DebtConversionOriginalDebtTypeOfDebt | [mapped.1 (0.78)] Cash Flow Statement > debt conversion original debt type of debt → cash flow > financing activities > short term debt, net\n",
      "PaymentsOfDebtIssuanceCosts | [mapped.1 (0.78)] Cash Flow Statement > payments of debt issuance costs → cash flow > financing activities > issuance of common stock\n",
      "DebtRelatedCommitmentFeesAndDebtIssuanceCosts | [mapped.1 (0.73)] Income Statement > debt related commitment fees and debt issuance costs → income statement > cost of revenue\n"
     ]
    },
    {
     "name": "stderr",
     "output_type": "stream",
     "text": [
      "Processing rows: 361it [00:19, 21.06it/s]"
     ]
    },
    {
     "name": "stdout",
     "output_type": "stream",
     "text": [
      "PaymentsOfDebtRestructuringCosts | [mapped.1 (0.77)] Cash Flow Statement > payments of debt restructuring costs → cash flow > financing activities > long term debt, net\n",
      "DecommissioningFundInvestments | [mapped.1 (0.74)] Balance Sheet > decommissioning fund investments → balance sheet > assets > goodwill\n",
      "DecommissioningLiabilityNoncurrent | [mapped.1 (0.79)] Balance Sheet > decommissioning liability noncurrent → balance sheet > liabilities > other current liabilities\n",
      "DeferredCompensationLiabilityCurrent | [mapped.1 (0.81)] Balance Sheet > deferred compensation liability current → balance sheet > liabilities > deferred income tax\n"
     ]
    },
    {
     "name": "stderr",
     "output_type": "stream",
     "text": [
      "Processing rows: 366it [00:19, 19.00it/s]"
     ]
    },
    {
     "name": "stdout",
     "output_type": "stream",
     "text": [
      "DeferredCompensationEquity | [mapped.1 (0.81)] Balance Sheet > deferred compensation equity → balance sheet > shareholders' equity > redeemable preferred stock\n",
      "IncreaseDecreaseInDeferredChargesInvesting | [mapped.1 (0.77)] Cash Flow Statement > increase decrease in deferred charges investing → cash flow > operating activities > deferred revenue\n",
      "PostemploymentBenefitsLiabilityNoncurrent | [mapped.1 (0.77)] Balance Sheet > postemployment benefits liability noncurrent → balance sheet > liabilities > other current liabilities\n",
      "DeferredFuelCost | [mapped.1 (0.75)] Balance Sheet > deferred fuel cost → balance sheet > assets > prepaid expenses\n"
     ]
    },
    {
     "name": "stderr",
     "output_type": "stream",
     "text": [
      "Processing rows: 370it [00:19, 18.33it/s]"
     ]
    },
    {
     "name": "stdout",
     "output_type": "stream",
     "text": [
      "DeferredGasCost | [mapped.1 (0.74)] Balance Sheet > deferred gas cost → balance sheet > assets > prepaid expenses\n",
      "DeferredGasPurchasesCurrent | [mapped.1 (0.76)] Balance Sheet > deferred gas purchases current → balance sheet > liabilities > other current liabilities\n",
      "DeferredIncomeTaxExpenseBenefit | [mapped.1 (0.81)] Cash Flow Statement > deferred income tax expense benefit → cash flow > operating activities > deferred taxes\n",
      "DeferredCosts | [mapped.1 (0.78)] Balance Sheet > deferred costs → balance sheet > assets > prepaid expenses\n"
     ]
    },
    {
     "name": "stderr",
     "output_type": "stream",
     "text": [
      "Processing rows: 372it [00:19, 17.78it/s]"
     ]
    },
    {
     "name": "stdout",
     "output_type": "stream",
     "text": [
      "DeferredLongTermLiabilityCharges | [mapped.1 (0.86)] Balance Sheet > deferred long term liability charges → balance sheet > liabilities > other long term liabilities\n",
      "DeferredPolicyAcquisitionCosts | [unmapped] Balance Sheet > deferred policy acquisition costs\n"
     ]
    },
    {
     "name": "stderr",
     "output_type": "stream",
     "text": [
      "Processing rows: 377it [00:20, 15.64it/s]"
     ]
    },
    {
     "name": "stdout",
     "output_type": "stream",
     "text": [
      "DeferredPolicyAcquisitionCostAmortizationExpense | [mapped.1 (0.75)] Income Statement > deferred policy acquisition cost amortization expense → income statement > depreciation > amortization\n",
      "DeferredPolicyAcquisitionCostAmortizationExpense | [mapped.1 (0.75)] Cash Flow Statement > deferred policy acquisition cost amortization expense → cash flow > operating activities > deferred revenue\n",
      "IncreaseDecreaseInDeferredPolicyAcquisitionCosts | [mapped.1 (0.72)] Cash Flow Statement > increase decrease in deferred policy acquisition costs → cash flow > investing activities > acquisitions\n",
      "DeferredRentReceivablesNet | [mapped.1 (0.77)] Balance Sheet > deferred rent receivables net → balance sheet > assets > accounts receivable\n"
     ]
    },
    {
     "name": "stderr",
     "output_type": "stream",
     "text": [
      "Processing rows: 379it [00:20, 16.35it/s]"
     ]
    },
    {
     "name": "stdout",
     "output_type": "stream",
     "text": [
      "DeferredRentReceivablesNetNoncurrent | [mapped.1 (0.78)] Balance Sheet > deferred rent receivables net noncurrent → balance sheet > assets > notes receivable - current\n",
      "DeferredSalesInducementsAmortizationExpense | [mapped.1 (0.81)] Income Statement > deferred sales inducements amortization expense → income statement > depreciation > amortization\n",
      "DeferredSalesInducementsAmortizationExpense | [mapped.1 (0.82)] Cash Flow Statement > deferred sales inducements amortization expense → cash flow > operating activities > deferred revenue\n",
      "DeferredCostsCurrent | [mapped.1 (0.79)] Balance Sheet > deferred costs current → balance sheet > assets > notes receivable - current\n"
     ]
    },
    {
     "name": "stderr",
     "output_type": "stream",
     "text": [
      "Processing rows: 384it [00:20, 16.86it/s]"
     ]
    },
    {
     "name": "stdout",
     "output_type": "stream",
     "text": [
      "DeferredStormAndPropertyReserveDeficiencyCurrent | [mapped.1 (0.74)] Balance Sheet > deferred storm and property reserve deficiency current → balance sheet > assets > notes receivable - current\n",
      "DeferredStormAndPropertyReserveDeficiencyNoncurrent | [mapped.1 (0.74)] Balance Sheet > deferred storm and property reserve deficiency noncurrent → balance sheet > assets > allowance for doubtful accounts\n",
      "DeferredGainOnSaleOfProperty | [mapped.1 (0.79)] Balance Sheet > deferred gain on sale of property → balance sheet > liabilities > deferred income tax\n",
      "DeferredRevenueCurrent | [mapped.1 (0.82)] Balance Sheet > deferred revenue current → balance sheet > liabilities > deferred income tax\n"
     ]
    },
    {
     "name": "stderr",
     "output_type": "stream",
     "text": [
      "Processing rows: 388it [00:20, 16.49it/s]"
     ]
    },
    {
     "name": "stdout",
     "output_type": "stream",
     "text": [
      "DeferredRevenueNoncurrent | [mapped.1 (0.81)] Balance Sheet > deferred revenue noncurrent → balance sheet > liabilities > deferred income tax\n",
      "DemandSideManagementProgramCostsNoncurrent | [mapped.1 (0.71)] Balance Sheet > demand side management program costs noncurrent → balance sheet > assets > other current assets\n",
      "DepositContractsLiabilities | [mapped.1 (0.81)] Balance Sheet > deposit contracts liabilities → balance sheet > liabilities > other current liabilities\n"
     ]
    },
    {
     "name": "stderr",
     "output_type": "stream",
     "text": [
      "Processing rows: 392it [00:20, 15.97it/s]"
     ]
    },
    {
     "name": "stdout",
     "output_type": "stream",
     "text": [
      "Deposits | [mapped.1 (0.79)] Balance Sheet > deposits → balance sheet > liabilities > accounts payable\n",
      "DepositsAssetsNoncurrent | [mapped.1 (0.84)] Balance Sheet > deposits assets noncurrent → balance sheet > assets > other current assets\n",
      "DemandDepositAccounts | [mapped.1 (0.78)] Balance Sheet > demand deposit accounts → balance sheet > liabilities > accounts payable\n",
      "InterestBearingDepositLiabilities | [mapped.1 (0.80)] Balance Sheet > interest bearing deposit liabilities → balance sheet > liabilities > minority interest\n"
     ]
    },
    {
     "name": "stderr",
     "output_type": "stream",
     "text": [
      "Processing rows: 394it [00:21, 13.22it/s]"
     ]
    },
    {
     "name": "stdout",
     "output_type": "stream",
     "text": [
      "NoninterestBearingDepositLiabilities | [mapped.1 (0.79)] Balance Sheet > noninterest bearing deposit liabilities → balance sheet > liabilities > minority interest\n",
      "DepositsMoneyMarketDeposits | [unmapped] Balance Sheet > deposits money market deposits\n",
      "DepositsMoneyMarketDeposits | [mapped.2 (0.76)] Balance Sheet > BankingAndThriftDisclosureTextBlock > DepositLiabilitiesDisclosuresTextBlock > DepositsMoneyMarketDeposits → balance sheet > shareholders' equity > treasury stock\n"
     ]
    },
    {
     "name": "stderr",
     "output_type": "stream",
     "text": [
      "Processing rows: 396it [00:21, 12.01it/s]"
     ]
    },
    {
     "name": "stdout",
     "output_type": "stream",
     "text": [
      "DepositsNegotiableOrderOfWithdrawalNOW | [unmapped] Balance Sheet > deposits negotiable order of withdrawal now\n",
      "DepositsNegotiableOrderOfWithdrawalNOW | [mapped.2 (0.71)] Balance Sheet > BankingAndThriftDisclosureTextBlock > DepositLiabilitiesDisclosuresTextBlock > DepositsNegotiableOrderOfWithdrawalNOW → balance sheet > liabilities > other current liabilities\n",
      "PaymentsForDeposits | [mapped.1 (0.76)] Cash Flow Statement > payments for deposits → cash flow > cash taxes paid\n",
      "DepositsPaidForSecuritiesBorrowedAtCarryingValue | [mapped.1 (0.75)] Balance Sheet > deposits paid for securities borrowed at carrying value → balance sheet > shareholders' equity > treasury stock\n"
     ]
    },
    {
     "name": "stderr",
     "output_type": "stream",
     "text": [
      "Processing rows: 400it [00:21, 12.45it/s]"
     ]
    },
    {
     "name": "stdout",
     "output_type": "stream",
     "text": [
      "PolicyholderContractDeposits | [mapped.1 (0.72)] Balance Sheet > policyholder contract deposits → balance sheet > liabilities > capital lease obligations\n",
      "DepositsReceivedForSecuritiesLoanedAtCarryingValue | [mapped.1 (0.74)] Balance Sheet > deposits received for securities loaned at carrying value → balance sheet > shareholders' equity > treasury stock\n",
      "DepositsSavingsDeposits | [unmapped] Balance Sheet > deposits savings deposits\n"
     ]
    },
    {
     "name": "stderr",
     "output_type": "stream",
     "text": [
      "Processing rows: 405it [00:21, 15.87it/s]"
     ]
    },
    {
     "name": "stdout",
     "output_type": "stream",
     "text": [
      "DepreciationAndAmortization | [mapped.1 (0.95)] Income Statement > depreciation and amortization → income statement > depreciation > amortization\n",
      "DepreciationAmortizationAndAccretionNet | [mapped.1 (0.88)] Cash Flow Statement > depreciation amortization and accretion net → cash flow > operating activities > depreciation > amortization\n",
      "OtherDepreciationAndAmortization | [mapped.1 (0.88)] Cash Flow Statement > other depreciation and amortization → cash flow > operating activities > depreciation > amortization\n",
      "OtherDepreciationAndAmortization | [mapped.1 (0.92)] Income Statement > other depreciation and amortization → income statement > depreciation > amortization\n",
      "DerivativeAssetsCurrent | [mapped.1 (0.88)] Balance Sheet > derivative assets current → balance sheet > assets > other current assets\n"
     ]
    },
    {
     "name": "stderr",
     "output_type": "stream",
     "text": [
      "Processing rows: 409it [00:22, 16.18it/s]"
     ]
    },
    {
     "name": "stdout",
     "output_type": "stream",
     "text": [
      "DerivativeAssets | [mapped.1 (0.85)] Balance Sheet > derivative assets → balance sheet > assets > other current assets\n",
      "DerivativeAssetsNoncurrent | [mapped.1 (0.85)] Balance Sheet > derivative assets noncurrent → balance sheet > assets > other current assets\n",
      "DerivativeInstrumentsAndHedges | [mapped.1 (0.76)] Balance Sheet > derivative instruments and hedges → balance sheet > shareholders' equity > preferred stock\n",
      "DerivativeInstrumentsAndHedgesNoncurrent | [mapped.1 (0.78)] Balance Sheet > derivative instruments and hedges noncurrent → balance sheet > assets > other current assets\n"
     ]
    },
    {
     "name": "stderr",
     "output_type": "stream",
     "text": [
      "Processing rows: 412it [00:22, 16.99it/s]"
     ]
    },
    {
     "name": "stdout",
     "output_type": "stream",
     "text": [
      "DerivativeInstrumentsNotDesignatedAsHedgingInstrumentsGainLossNet | [mapped.1 (0.77)] Income Statement > derivative instruments not designated as hedging instruments gain loss net → income statement > gain (loss) on sale of assets\n",
      "DerivativeLiabilitiesCurrent | [mapped.1 (0.88)] Balance Sheet > derivative liabilities current → balance sheet > liabilities > other current liabilities\n",
      "DerivativeLiabilitiesNoncurrent | [mapped.1 (0.84)] Balance Sheet > derivative liabilities noncurrent → balance sheet > liabilities > other current liabilities\n",
      "DevelopmentInProcess | [mapped.1 (0.77)] Balance Sheet > development in process → balance sheet > assets > intangibles\n"
     ]
    },
    {
     "name": "stderr",
     "output_type": "stream",
     "text": [
      "Processing rows: 418it [00:22, 20.14it/s]"
     ]
    },
    {
     "name": "stdout",
     "output_type": "stream",
     "text": [
      "DevelopmentProfitsNonoperating | [mapped.1 (0.76)] Income Statement > development profits nonoperating → income statement > interest income - non-operating\n",
      "PaymentsToDevelopRealEstateAssets | [mapped.1 (0.76)] Cash Flow Statement > payments to develop real estate assets → cash flow > cash interest paid\n",
      "EarningsPerShareDiluted | [mapped.1 (0.78)] Income Statement > earnings per share diluted → income statement > preferred dividends\n",
      "DirectPremiumsWritten | [mapped.1 (0.74)] Income Statement > direct premiums written → income statement > preferred dividends\n",
      "DiscontinuedOperationAmountOfAdjustmentToPriorPeriodGainLossOnDisposalBeforeIncomeTax | [mapped.1 (0.80)] Income Statement > discontinued operation amount of adjustment to prior period gain loss on disposal before income tax → income statement > discontinued operations\n"
     ]
    },
    {
     "name": "stderr",
     "output_type": "stream",
     "text": [
      "Processing rows: 424it [00:22, 22.67it/s]"
     ]
    },
    {
     "name": "stdout",
     "output_type": "stream",
     "text": [
      "DiscontinuedOperationGainLossFromDisposalOfDiscontinuedOperationBeforeIncomeTax | [mapped.1 (0.83)] Income Statement > discontinued operation gain loss from disposal of discontinued operation before income tax → income statement > discontinued operations\n",
      "DiscontinuedOperationNatureOfAdjustmentToPriorPeriodGainLossOnDisposal | [mapped.1 (0.84)] Income Statement > discontinued operation nature of adjustment to prior period gain loss on disposal → income statement > discontinued operations\n",
      "DiscontinuedOperationTaxEffectOfIncomeLossFromDiscontinuedOperationDuringPhaseOutPeriod | [mapped.1 (0.80)] Income Statement > discontinued operation tax effect of income loss from discontinued operation during phase out period → income statement > discontinued operations\n",
      "DiscontinuedOperationTaxEffectOfIncomeLossFromDisposalOfDiscontinuedOperation | [mapped.1 (0.81)] Income Statement > discontinued operation tax effect of income loss from disposal of discontinued operation → income statement > discontinued operations\n",
      "DiscontinuedOperationAmountOfAdjustmentToPriorPeriodGainLossOnDisposalNetOfTax | [mapped.1 (0.81)] Income Statement > discontinued operation amount of adjustment to prior period gain loss on disposal net of tax → income statement > discontinued operations\n",
      "DiscontinuedOperationGainLossOnDisposalOfDiscontinuedOperationNetOfTax | [mapped.1 (0.82)] Income Statement > discontinued operation gain loss on disposal of discontinued operation net of tax → income statement > discontinued operations\n"
     ]
    },
    {
     "name": "stderr",
     "output_type": "stream",
     "text": [
      "Processing rows: 427it [00:22, 23.71it/s]"
     ]
    },
    {
     "name": "stdout",
     "output_type": "stream",
     "text": [
      "DiscontinuedOperationIncomeLossFromDiscontinuedOperationDuringPhaseOutPeriodNetOfTax | [mapped.1 (0.83)] Income Statement > discontinued operation income loss from discontinued operation during phase out period net of tax → income statement > discontinued operations\n",
      "DiscontinuedOperationProvisionForLossGainOnDisposalNetOfTax | [mapped.1 (0.82)] Income Statement > discontinued operation provision for loss gain on disposal net of tax → income statement > discontinued operations\n",
      "DiscontinuedOperationTaxExpenseBenefitFromProvisionForGainLossOnDisposal | [mapped.1 (0.80)] Income Statement > discontinued operation tax expense benefit from provision for gain loss on disposal → income statement > discontinued operations\n",
      "DiscontinuedOperationTaxEffectOfAdjustmentToPriorPeriodGainLossOnDisposal | [mapped.1 (0.77)] Income Statement > discontinued operation tax effect of adjustment to prior period gain loss on disposal → income statement > discontinued operations\n",
      "ProceedsFromDivestitureOfBusinessesAndInterestsInAffiliates | [mapped.1 (0.82)] Cash Flow Statement > proceeds from divestiture of businesses and interests in affiliates → cash flow > investing activities > proceeds from sale > maturity of investments\n"
     ]
    },
    {
     "name": "stderr",
     "output_type": "stream",
     "text": [
      "Processing rows: 433it [00:23, 23.22it/s]"
     ]
    },
    {
     "name": "stdout",
     "output_type": "stream",
     "text": [
      "DistributionsPayableToRealEstatePartnerships | [mapped.1 (0.73)] Cash Flow Statement > distributions payable to real estate partnerships → cash flow > cash taxes paid\n",
      "ProceedsFromDistributionsReceivedFromRealEstatePartnerships | [mapped.1 (0.78)] Cash Flow Statement > proceeds from distributions received from real estate partnerships → cash flow > investing activities > proceeds from sale > maturity of investments\n",
      "DistributionsOnMandatorilyRedeemableSecurities | [mapped.1 (0.76)] Cash Flow Statement > distributions on mandatorily redeemable securities → cash flow > investing activities > proceeds from sale > maturity of investments\n",
      "PaymentsOfDistributionsToAffiliates | [mapped.1 (0.76)] Cash Flow Statement > payments of distributions to affiliates → cash flow > cash interest paid\n",
      "NoncashOrPartNoncashDivestitureDescription | [mapped.1 (0.79)] Cash Flow Statement > noncash or part noncash divestiture description → cash flow > operating activities > other non-cash items\n"
     ]
    },
    {
     "name": "stderr",
     "output_type": "stream",
     "text": [
      "Processing rows: 439it [00:23, 22.86it/s]"
     ]
    },
    {
     "name": "stdout",
     "output_type": "stream",
     "text": [
      "PaymentsOfOrdinaryDividends | [mapped.1 (0.83)] Cash Flow Statement > payments of ordinary dividends → cash flow > financing activities > dividends paid - common\n",
      "ProceedsFromDividendsReceived | [mapped.1 (0.81)] Cash Flow Statement > proceeds from dividends received → cash flow > investing activities > proceeds from sale > maturity of investments\n",
      "InterestExpenseTrustPreferredSecurities | [mapped.1 (0.83)] Income Statement > interest expense trust preferred securities → income statement > preferred dividends\n",
      "EarlyRepaymentOfSeniorDebt | [mapped.1 (0.75)] Cash Flow Statement > early repayment of senior debt → cash flow > financing activities > long term debt, net\n",
      "EarlyRepaymentOfSubordinatedDebt | [mapped.1 (0.75)] Cash Flow Statement > early repayment of subordinated debt → cash flow > financing activities > long term debt, net\n"
     ]
    },
    {
     "name": "stderr",
     "output_type": "stream",
     "text": [
      "Processing rows: 442it [00:23, 22.18it/s]"
     ]
    },
    {
     "name": "stdout",
     "output_type": "stream",
     "text": [
      "EarnestMoneyDeposits | [mapped.1 (0.77)] Balance Sheet > earnest money deposits → balance sheet > assets > goodwill\n",
      "IncomeLossFromEquityMethodInvestments | [mapped.1 (0.81)] Income Statement > income loss from equity method investments → income statement > gain (loss) on sale of assets\n",
      "IncomeLossFromEquityMethodInvestments | [mapped.1 (0.78)] Cash Flow Statement > income loss from equity method investments → cash flow > investing activities > proceeds from sale > maturity of investments\n",
      "EffectOfLIFOInventoryLiquidationOnIncome | [mapped.1 (0.76)] Cash Flow Statement > effect of lifo inventory liquidation on income → cash flow > operating activities > changes in inventories\n",
      "ShareBasedCompensation | [mapped.1 (0.76)] Cash Flow Statement > share based compensation → cash flow > cash interest paid\n"
     ]
    },
    {
     "name": "stderr",
     "output_type": "stream",
     "text": [
      "Processing rows: 448it [00:23, 20.46it/s]"
     ]
    },
    {
     "name": "stdout",
     "output_type": "stream",
     "text": [
      "EnergyMarketingContractsAssetsNoncurrent | [mapped.1 (0.77)] Balance Sheet > energy marketing contracts assets noncurrent → balance sheet > assets > other current assets\n",
      "EnergyMarketingContractLiabilitiesCurrent | [mapped.1 (0.78)] Balance Sheet > energy marketing contract liabilities current → balance sheet > liabilities > other current liabilities\n",
      "PaymentsForEnvironmentalLiabilities | [mapped.1 (0.78)] Cash Flow Statement > payments for environmental liabilities → cash flow > operating activities > changes in other liabilities\n",
      "AccruedEnvironmentalLossContingenciesNoncurrent | [mapped.1 (0.79)] Balance Sheet > accrued environmental loss contingencies noncurrent → balance sheet > liabilities > accrued expenses\n"
     ]
    },
    {
     "name": "stderr",
     "output_type": "stream",
     "text": [
      "Processing rows: 451it [00:24, 20.34it/s]"
     ]
    },
    {
     "name": "stdout",
     "output_type": "stream",
     "text": [
      "AccruedEnvironmentalLossContingenciesCurrent | [mapped.1 (0.79)] Balance Sheet > accrued environmental loss contingencies current → balance sheet > liabilities > accrued expenses\n",
      "EnvironmentalRemediationExpense | [mapped.1 (0.76)] Income Statement > environmental remediation expense → income statement > other operating expenses\n",
      "EnvironmentalRemediationExpense | [mapped.1 (0.76)] Cash Flow Statement > environmental remediation expense → cash flow > operating activities > depreciation > amortization\n",
      "EquityMethodInvestments | [mapped.1 (0.80)] Balance Sheet > equity method investments → balance sheet > assets > short term investments\n",
      "EscrowDeposit | [mapped.1 (0.74)] Balance Sheet > escrow deposit → balance sheet > assets > goodwill\n"
     ]
    },
    {
     "name": "stderr",
     "output_type": "stream",
     "text": [
      "Processing rows: 457it [00:24, 20.60it/s]"
     ]
    },
    {
     "name": "stdout",
     "output_type": "stream",
     "text": [
      "ExchangeFees | [mapped.1 (0.77)] Income Statement > exchange fees → income statement > cost of revenue\n",
      "ExciseAndSalesTaxes | [mapped.1 (0.82)] Income Statement > excise and sales taxes → income statement > net sales\n",
      "PaymentsToAcquireEquipmentOnLease | [mapped.1 (0.76)] Cash Flow Statement > payments to acquire equipment on lease → cash flow > investing activities > acquisitions\n",
      "LiabilityForFuturePolicyBenefitsPeriodExpense | [mapped.1 (0.75)] Income Statement > liability for future policy benefits period expense → income statement > other operating expenses\n",
      "DemutualizationCostAndExpense | [mapped.1 (0.79)] Income Statement > demutualization cost and expense → income statement > cost of revenue\n"
     ]
    },
    {
     "name": "stderr",
     "output_type": "stream",
     "text": [
      "Processing rows: 463it [00:24, 22.21it/s]"
     ]
    },
    {
     "name": "stdout",
     "output_type": "stream",
     "text": [
      "PolicyholderBenefitsAndClaimsIncurredNet | [mapped.1 (0.75)] Income Statement > policyholder benefits and claims incurred net → income statement > net sales\n",
      "PolicyholderBenefitsAndClaimsIncurredGross | [mapped.1 (0.74)] Income Statement > policyholder benefits and claims incurred gross → income statement > selling > general > admin expenses\n",
      "PolicyholderDividends | [mapped.1 (0.85)] Income Statement > policyholder dividends → income statement > preferred dividends\n",
      "InterestCreditedToPolicyholdersAccountBalances | [mapped.1 (0.80)] Income Statement > interest credited to policyholders account balances → income statement > interest expense - operating\n",
      "OtherUnderwritingExpense | [mapped.1 (0.86)] Income Statement > other underwriting expense → income statement > other operating expenses\n"
     ]
    },
    {
     "name": "stderr",
     "output_type": "stream",
     "text": [
      "Processing rows: 466it [00:24, 22.41it/s]"
     ]
    },
    {
     "name": "stdout",
     "output_type": "stream",
     "text": [
      "ExplorationAbandonmentAndImpairmentExpense | [mapped.1 (0.77)] Cash Flow Statement > exploration abandonment and impairment expense → cash flow > operating activities > depreciation > amortization\n",
      "ExplorationAbandonmentAndImpairmentExpense | [mapped.1 (0.79)] Income Statement > exploration abandonment and impairment expense → income statement > discontinued operations\n",
      "ExplorationExpense | [mapped.1 (0.82)] Income Statement > exploration expense → income statement > interest expense - operating\n",
      "FairValueOfAssetsAcquired | [mapped.1 (0.82)] Cash Flow Statement > fair value of assets acquired → cash flow > investing activities > acquisitions\n",
      "FederalFundsPurchasedAndSecuritiesSoldUnderAgreementsToRepurchase | [mapped.1 (0.72)] Balance Sheet > federal funds purchased and securities sold under agreements to repurchase → balance sheet > shareholders' equity > treasury stock\n"
     ]
    },
    {
     "name": "stderr",
     "output_type": "stream",
     "text": [
      "Processing rows: 472it [00:25, 19.77it/s]"
     ]
    },
    {
     "name": "stdout",
     "output_type": "stream",
     "text": [
      "FederalFundsPurchased | [mapped.1 (0.71)] Balance Sheet > federal funds purchased → balance sheet > liabilities > accrued expenses\n",
      "FederalFundsSoldAndSecuritiesPurchasedUnderAgreementsToResell | [mapped.1 (0.73)] Balance Sheet > federal funds sold and securities purchased under agreements to resell → balance sheet > assets > goodwill\n",
      "FederalFundsSold | [mapped.1 (0.73)] Balance Sheet > federal funds sold → balance sheet > assets > goodwill\n",
      "SecuritiesPurchasedUnderAgreementsToResell | [mapped.1 (0.74)] Balance Sheet > securities purchased under agreements to resell → balance sheet > assets > goodwill\n"
     ]
    },
    {
     "name": "stderr",
     "output_type": "stream",
     "text": [
      "Processing rows: 475it [00:25, 18.48it/s]"
     ]
    },
    {
     "name": "stdout",
     "output_type": "stream",
     "text": [
      "FederalHomeLoanBankAdvancesLongTerm | [mapped.1 (0.74)] Balance Sheet > federal home loan bank advances long term → balance sheet > liabilities > long term debt\n",
      "FederalHomeLoanBankAdvancesMaturitiesSummaryDueWithinOneYearOfBalanceSheetDate | [mapped.1 (0.76)] Balance Sheet > federal home loan bank advances maturities summary due within one year of balance sheet date → balance sheet > liabilities > customer advances\n",
      "FederalHomeLoanBankStock | [mapped.1 (0.77)] Balance Sheet > federal home loan bank stock → balance sheet > shareholders' equity > treasury stock\n",
      "PaymentsForFees | [mapped.1 (0.79)] Cash Flow Statement > payments for fees → cash flow > cash interest paid\n"
     ]
    },
    {
     "name": "stderr",
     "output_type": "stream",
     "text": [
      "Processing rows: 481it [00:25, 19.84it/s]"
     ]
    },
    {
     "name": "stdout",
     "output_type": "stream",
     "text": [
      "ProceedsFromFeesReceived | [mapped.1 (0.81)] Cash Flow Statement > proceeds from fees received → cash flow > cash interest paid\n",
      "PaymentsOfFinancingCosts | [mapped.1 (0.84)] Cash Flow Statement > payments of financing costs → cash flow > financing activities > other financing activities\n",
      "FinancingInterestExpense | [mapped.1 (0.89)] Income Statement > financing interest expense → income statement > interest expense - operating\n",
      "InventoryFinishedGoodsAndWorkInProcess | [mapped.1 (0.87)] Balance Sheet > inventory finished goods and work in process → balance sheet > assets > inventories\n",
      "FloorBrokerage | [mapped.1 (0.80)] Income Statement > floor brokerage → income statement > net sales\n"
     ]
    },
    {
     "name": "stderr",
     "output_type": "stream",
     "text": [
      "Processing rows: 484it [00:25, 19.13it/s]"
     ]
    },
    {
     "name": "stdout",
     "output_type": "stream",
     "text": [
      "FloorBrokerageExchangeAndClearanceFees | [mapped.1 (0.74)] Income Statement > floor brokerage exchange and clearance fees → income statement > selling > general > admin expenses\n",
      "AssetsHeldInTrustNoncurrent | [mapped.1 (0.83)] Balance Sheet > assets held in trust noncurrent → balance sheet > assets > other current assets\n",
      "FurnitureAndFixturesGross | [mapped.1 (0.79)] Balance Sheet > furniture and fixtures gross → balance sheet > assets > inventories\n",
      "IncreaseDecreaseInFuturePolicyBenefitReserves | [mapped.1 (0.71)] Cash Flow Statement > increase decrease in future policy benefit reserves → cash flow > operating activities > changes in other liabilities\n"
     ]
    },
    {
     "name": "stderr",
     "output_type": "stream",
     "text": [
      "Processing rows: 490it [00:25, 20.16it/s]"
     ]
    },
    {
     "name": "stdout",
     "output_type": "stream",
     "text": [
      "LiabilityForFuturePolicyBenefitsAndUnpaidClaimsAndClaimsAdjustmentExpense | [mapped.1 (0.78)] Balance Sheet > liability for future policy benefits and unpaid claims and claims adjustment expense → balance sheet > liabilities > other current liabilities\n",
      "GainLossOnCondemnation | [mapped.1 (0.83)] Income Statement > gain loss on condemnation → income statement > gain (loss) on sale of assets\n",
      "GainLossOnCondemnation | [mapped.1 (0.76)] Cash Flow Statement > gain loss on condemnation → cash flow > investing activities > proceeds from sale > maturity of investments\n",
      "GainLossOnDerivativeInstrumentsNetPretax | [mapped.1 (0.81)] Income Statement > gain loss on derivative instruments net pretax → income statement > gain (loss) on sale of assets\n",
      "GainLossOnDispositionOfAssets | [mapped.1 (0.80)] Cash Flow Statement > gain loss on disposition of assets → cash flow > operating activities > changes in other assets\n"
     ]
    },
    {
     "name": "stderr",
     "output_type": "stream",
     "text": [
      "Processing rows: 493it [00:26, 20.83it/s]"
     ]
    },
    {
     "name": "stdout",
     "output_type": "stream",
     "text": [
      "GainLossOnDispositionOfAssets | [mapped.1 (0.91)] Income Statement > gain loss on disposition of assets → income statement > gain (loss) on sale of assets\n",
      "GainLossOnDispositionOfIntangibleAssets | [mapped.1 (0.77)] Cash Flow Statement > gain loss on disposition of intangible assets → cash flow > operating activities > changes in other assets\n",
      "GainLossOnDispositionOfIntangibleAssets | [mapped.1 (0.86)] Income Statement > gain loss on disposition of intangible assets → income statement > gain (loss) on sale of assets\n",
      "GainLossOnInvestments | [mapped.1 (0.87)] Income Statement > gain loss on investments → income statement > gain (loss) on sale of assets\n",
      "GainLossOnInvestments | [mapped.1 (0.81)] Cash Flow Statement > gain loss on investments → cash flow > investing activities > other investing activities\n"
     ]
    },
    {
     "name": "stderr",
     "output_type": "stream",
     "text": [
      "Processing rows: 499it [00:26, 21.95it/s]"
     ]
    },
    {
     "name": "stdout",
     "output_type": "stream",
     "text": [
      "GainLossOnOilAndGasHedgingActivity | [mapped.1 (0.81)] Income Statement > gain loss on oil and gas hedging activity → income statement > gain (loss) on sale of assets\n",
      "GainLossOnSaleOfInterestInProjects | [mapped.1 (0.85)] Income Statement > gain loss on sale of interest in projects → income statement > gain (loss) on sale of assets\n",
      "GainLossFromPriceRiskManagementActivity | [mapped.1 (0.82)] Income Statement > gain loss from price risk management activity → income statement > gain (loss) on sale of assets\n",
      "GainLossRelatedToLitigationSettlement | [mapped.1 (0.82)] Income Statement > gain loss related to litigation settlement → income statement > gain (loss) on sale of assets\n",
      "GainLossOnSaleOfPropertyPlantEquipment | [mapped.1 (0.77)] Cash Flow Statement > gain loss on sale of property plant equipment → cash flow > investing activities > proceeds from sale > maturity of investments\n"
     ]
    },
    {
     "name": "stderr",
     "output_type": "stream",
     "text": [
      "Processing rows: 505it [00:26, 22.02it/s]"
     ]
    },
    {
     "name": "stdout",
     "output_type": "stream",
     "text": [
      "GainLossOnSaleOfPropertyPlantEquipment | [mapped.1 (0.88)] Income Statement > gain loss on sale of property plant equipment → income statement > gain (loss) on sale of assets\n",
      "DisposalGroupNotDiscontinuedOperationGainLossOnDisposal | [mapped.1 (0.75)] Cash Flow Statement > disposal group not discontinued operation gain loss on disposal → cash flow > operating activities > depreciation > amortization\n",
      "DisposalGroupNotDiscontinuedOperationGainLossOnDisposal | [mapped.1 (0.79)] Income Statement > disposal group not discontinued operation gain loss on disposal → income statement > discontinued operations\n",
      "GainLossOnSecuritizationOfFinancialAssets | [mapped.1 (0.85)] Income Statement > gain loss on securitization of financial assets → income statement > gain (loss) on sale of assets\n",
      "GainLossOnSecuritizationOfFinancialAssets | [mapped.1 (0.76)] Cash Flow Statement > gain loss on securitization of financial assets → cash flow > operating activities > changes in other assets\n"
     ]
    },
    {
     "name": "stderr",
     "output_type": "stream",
     "text": [
      "Processing rows: 508it [00:26, 21.88it/s]"
     ]
    },
    {
     "name": "stdout",
     "output_type": "stream",
     "text": [
      "GainsLossesOnExtinguishmentOfDebt | [mapped.1 (0.78)] Cash Flow Statement > gains losses on extinguishment of debt → cash flow > financing activities > long term debt, net\n",
      "GainsLossesOnExtinguishmentOfDebt | [mapped.1 (0.81)] Income Statement > gains losses on extinguishment of debt → income statement > gain (loss) on sale of assets\n",
      "GeneralAndAdministrativeExpense | [mapped.1 (0.89)] Income Statement > general and administrative expense → income statement > selling > general > admin expenses\n",
      "GeneralPartnerDistributions | [mapped.1 (0.75)] Income Statement > general partner distributions → income statement > selling > general > admin expenses\n",
      "GeneralPartnersCapitalAccountUnitsOutstanding | [mapped.1 (0.74)] Balance Sheet > general partners capital account units outstanding → balance sheet > shareholders' equity > additional paid-in capital\n"
     ]
    },
    {
     "name": "stderr",
     "output_type": "stream",
     "text": [
      "Processing rows: 514it [00:27, 20.01it/s]"
     ]
    },
    {
     "name": "stdout",
     "output_type": "stream",
     "text": [
      "GeneralPartnersCapitalAccount | [mapped.1 (0.75)] Balance Sheet > general partners capital account → balance sheet > liabilities > capital lease obligations\n",
      "GrossProfit | [mapped.1 (0.84)] Income Statement > gross profit → income statement > net sales\n",
      "GuaranteedInterestContracts | [mapped.1 (0.77)] Balance Sheet > guaranteed interest contracts → balance sheet > liabilities > minority interest\n",
      "HedgingAssetsCurrent | [mapped.1 (0.85)] Balance Sheet > hedging assets current → balance sheet > assets > other current assets\n"
     ]
    },
    {
     "name": "stderr",
     "output_type": "stream",
     "text": [
      "Processing rows: 517it [00:27, 20.02it/s]"
     ]
    },
    {
     "name": "stdout",
     "output_type": "stream",
     "text": [
      "HedgingAssetsNoncurrent | [mapped.1 (0.81)] Balance Sheet > hedging assets noncurrent → balance sheet > assets > other current assets\n",
      "ImpairmentOfLongLivedAssetsHeldForUse | [mapped.1 (0.78)] Cash Flow Statement > impairment of long lived assets held for use → cash flow > operating activities > changes in other assets\n",
      "ImpairmentOfLongLivedAssetsHeldForUse | [mapped.1 (0.78)] Income Statement > impairment of long lived assets held for use → income statement > depreciation > amortization\n",
      "ImpairmentLossesRelatedToRealEstatePartnerships | [mapped.1 (0.76)] Income Statement > impairment losses related to real estate partnerships → income statement > gain (loss) on sale of assets\n",
      "ImpairmentLossesRelatedToRealEstatePartnerships | [mapped.1 (0.73)] Cash Flow Statement > impairment losses related to real estate partnerships → cash flow > operating activities > depreciation > amortization\n"
     ]
    },
    {
     "name": "stderr",
     "output_type": "stream",
     "text": [
      "Processing rows: 523it [00:27, 20.92it/s]"
     ]
    },
    {
     "name": "stdout",
     "output_type": "stream",
     "text": [
      "GoodwillImpairmentLoss | [mapped.1 (0.77)] Cash Flow Statement > goodwill impairment loss → cash flow > operating activities > changes in other liabilities\n",
      "GoodwillImpairmentLoss | [mapped.1 (0.82)] Income Statement > goodwill impairment loss → income statement > gain (loss) on sale of assets\n",
      "ImpairmentOfIntangibleAssetsExcludingGoodwill | [mapped.1 (0.78)] Income Statement > impairment of intangible assets excluding goodwill → income statement > other non-operating income (expense)\n",
      "ImpairmentOfLongLivedAssetsToBeDisposedOf | [mapped.1 (0.76)] Cash Flow Statement > impairment of long lived assets to be disposed of → cash flow > financing activities > long term debt, net\n",
      "ImpairmentOfLongLivedAssetsToBeDisposedOf | [mapped.1 (0.76)] Income Statement > impairment of long lived assets to be disposed of → income statement > depreciation > amortization\n"
     ]
    },
    {
     "name": "stderr",
     "output_type": "stream",
     "text": [
      "Processing rows: 529it [00:27, 21.96it/s]"
     ]
    },
    {
     "name": "stdout",
     "output_type": "stream",
     "text": [
      "ImpairmentOfRealEstate | [mapped.1 (0.77)] Cash Flow Statement > impairment of real estate → cash flow > operating activities > changes in other assets\n",
      "ImpairmentOfRealEstate | [mapped.1 (0.78)] Income Statement > impairment of real estate → income statement > gain (loss) on sale of assets\n",
      "IncomeLossFromContinuingOperations | [mapped.1 (0.83)] Income Statement > income loss from continuing operations → income statement > discontinued operations\n",
      "IncomeLossFromContinuingOperationsPerDilutedShare | [mapped.1 (0.77)] Income Statement > income loss from continuing operations per diluted share → income statement > gain (loss) on sale of assets\n",
      "IncomeLossFromContinuingOperationsPerBasicShare | [mapped.1 (0.79)] Income Statement > income loss from continuing operations per basic share → income statement > gain (loss) on sale of assets\n"
     ]
    },
    {
     "name": "stderr",
     "output_type": "stream",
     "text": [
      "Processing rows: 535it [00:28, 22.91it/s]"
     ]
    },
    {
     "name": "stdout",
     "output_type": "stream",
     "text": [
      "IncomeLossFromDiscontinuedOperationsNetOfTax | [mapped.1 (0.78)] Cash Flow Statement > income loss from discontinued operations net of tax → cash flow > operating activities > deferred taxes\n",
      "IncomeLossFromDiscontinuedOperationsNetOfTax | [mapped.1 (0.87)] Income Statement > income loss from discontinued operations net of tax → income statement > discontinued operations\n",
      "IncomeLossFromDiscontinuedOperationsNetOfTaxPerDilutedShare | [mapped.1 (0.81)] Income Statement > income loss from discontinued operations net of tax per diluted share → income statement > discontinued operations\n",
      "IncomeLossFromDiscontinuedOperationsNetOfTaxPerBasicShare | [mapped.1 (0.83)] Income Statement > income loss from discontinued operations net of tax per basic share → income statement > discontinued operations\n",
      "DiscontinuedOperationIncomeLossFromDiscontinuedOperationBeforeIncomeTax | [mapped.1 (0.86)] Income Statement > discontinued operation income loss from discontinued operation before income tax → income statement > discontinued operations\n",
      "DiscontinuedOperationIncomeLossFromDiscontinuedOperationBeforeIncomeTax | [mapped.1 (0.76)] Cash Flow Statement > discontinued operation income loss from discontinued operation before income tax → cash flow > operating activities > deferred taxes\n"
     ]
    },
    {
     "name": "stderr",
     "output_type": "stream",
     "text": [
      "Processing rows: 538it [00:28, 22.95it/s]"
     ]
    },
    {
     "name": "stdout",
     "output_type": "stream",
     "text": [
      "DiscontinuedOperationIncomeLossFromDiscontinuedOperationDuringPhaseOutPeriodBeforeIncomeTax | [mapped.1 (0.85)] Income Statement > discontinued operation income loss from discontinued operation during phase out period before income tax → income statement > discontinued operations\n",
      "ReinsuranceCostsAndRecoveriesNet | [mapped.1 (0.74)] Income Statement > reinsurance costs and recoveries net → income statement > cost of revenue\n",
      "IncomeTaxCreditsAndAdjustments | [mapped.1 (0.81)] Cash Flow Statement > income tax credits and adjustments → cash flow > cash taxes paid\n",
      "DiscontinuedOperationTaxEffectOfDiscontinuedOperation | [mapped.1 (0.85)] Income Statement > discontinued operation tax effect of discontinued operation → income statement > discontinued operations\n",
      "DiscontinuedOperationTaxEffectOfDiscontinuedOperation | [mapped.1 (0.76)] Cash Flow Statement > discontinued operation tax effect of discontinued operation → cash flow > operating activities > deferred taxes\n"
     ]
    },
    {
     "name": "stderr",
     "output_type": "stream",
     "text": [
      "Processing rows: 544it [00:28, 21.47it/s]"
     ]
    },
    {
     "name": "stdout",
     "output_type": "stream",
     "text": [
      "UnrecognizedTaxBenefitsIncomeTaxPenaltiesAndInterestAccrued | [mapped.1 (0.78)] Balance Sheet > unrecognized tax benefits income tax penalties and interest accrued → balance sheet > liabilities > deferred income tax\n",
      "IncomeTaxReceivable | [mapped.1 (0.83)] Balance Sheet > income tax receivable → balance sheet > assets > accounts receivable\n",
      "IncomeTaxesPaidNet | [mapped.1 (0.87)] Cash Flow Statement > income taxes paid net → cash flow > cash taxes paid\n",
      "ProceedsFromIncomeTaxRefunds | [mapped.1 (0.81)] Cash Flow Statement > proceeds from income tax refunds → cash flow > cash taxes paid\n",
      "IncreaseDecreaseInAccountsReceivableFromSecuritization | [mapped.1 (0.79)] Cash Flow Statement > increase decrease in accounts receivable from securitization → cash flow > operating activities > changes in accounts receivable\n"
     ]
    },
    {
     "name": "stderr",
     "output_type": "stream",
     "text": [
      "Processing rows: 550it [00:28, 21.99it/s]"
     ]
    },
    {
     "name": "stdout",
     "output_type": "stream",
     "text": [
      "IncreaseDecreaseInAccruedInvestmentIncomeReceivable | [mapped.1 (0.74)] Cash Flow Statement > increase decrease in accrued investment income receivable → cash flow > cash interest paid\n",
      "PaymentsForProceedsFromPreviousAcquisition | [mapped.1 (0.82)] Cash Flow Statement > payments for proceeds from previous acquisition → cash flow > investing activities > acquisitions\n",
      "IncreaseDecreaseInDueFromAffiliatesCurrent | [mapped.1 (0.77)] Cash Flow Statement > increase decrease in due from affiliates current → cash flow > operating activities > changes in other liabilities\n",
      "IncreaseDecreaseDueFromOfficersAndStockholders | [mapped.1 (0.78)] Cash Flow Statement > increase decrease due from officers and stockholders → cash flow > operating activities > changes in other liabilities\n",
      "IncreaseDecreaseInDueFromOfficersAndStockholdersCurrent | [mapped.1 (0.78)] Cash Flow Statement > increase decrease in due from officers and stockholders current → cash flow > operating activities > changes in other liabilities\n"
     ]
    },
    {
     "name": "stderr",
     "output_type": "stream",
     "text": [
      "Processing rows: 553it [00:28, 21.68it/s]"
     ]
    },
    {
     "name": "stdout",
     "output_type": "stream",
     "text": [
      "IncreaseDecreaseInDueToOfficersAndStockholdersCurrent | [mapped.1 (0.78)] Cash Flow Statement > increase decrease in due to officers and stockholders current → cash flow > operating activities > changes in other liabilities\n",
      "IncreaseDecreaseInDeferredElectricCost | [mapped.1 (0.75)] Cash Flow Statement > increase decrease in deferred electric cost → cash flow > operating activities > deferred revenue\n",
      "PaymentsForProceedsFromDelayedTaxExemptExchange | [mapped.1 (0.78)] Cash Flow Statement > payments for proceeds from delayed tax exempt exchange → cash flow > cash taxes paid\n",
      "PaymentsForProceedsFromDepositsOnRealEstateAcquisitions | [mapped.1 (0.79)] Cash Flow Statement > payments for proceeds from deposits on real estate acquisitions → cash flow > investing activities > acquisitions\n",
      "IncreaseDecreaseInDividendsReceivable | [mapped.1 (0.73)] Cash Flow Statement > increase decrease in dividends receivable → cash flow > financing activities > dividends paid - common\n"
     ]
    },
    {
     "name": "stderr",
     "output_type": "stream",
     "text": [
      "Processing rows: 559it [00:29, 21.24it/s]"
     ]
    },
    {
     "name": "stdout",
     "output_type": "stream",
     "text": [
      "PaymentsForProceedsFromFederalHomeLoanBankStock | [mapped.1 (0.76)] Cash Flow Statement > payments for proceeds from federal home loan bank stock → cash flow > cash interest paid\n",
      "PaymentsForProceedsFromHedgeInvestingActivities | [mapped.1 (0.83)] Cash Flow Statement > payments for proceeds from hedge investing activities → cash flow > investing activities > proceeds from sale > maturity of investments\n",
      "IncreaseDecreaseInAccruedSalaries | [mapped.1 (0.75)] Cash Flow Statement > increase decrease in accrued salaries → cash flow > operating activities > changes in accounts payable\n",
      "IncreaseDecreaseInDueFromEmployeeCurrent | [mapped.1 (0.78)] Cash Flow Statement > increase decrease in due from employee current → cash flow > operating activities > changes in accounts payable\n",
      "IncreaseDecreaseInDeferredLiabilities | [mapped.1 (0.78)] Cash Flow Statement > increase decrease in deferred liabilities → cash flow > operating activities > changes in other liabilities\n"
     ]
    },
    {
     "name": "stderr",
     "output_type": "stream",
     "text": [
      "Processing rows: 565it [00:29, 21.41it/s]"
     ]
    },
    {
     "name": "stdout",
     "output_type": "stream",
     "text": [
      "IncreaseDecreaseInInsuranceSettlementsReceivable | [mapped.1 (0.75)] Cash Flow Statement > increase decrease in insurance settlements receivable → cash flow > operating activities > changes in accounts receivable\n",
      "IncreaseDecreaseInNotesReceivableCurrent | [mapped.1 (0.80)] Cash Flow Statement > increase decrease in notes receivable current → cash flow > operating activities > changes in accounts receivable\n",
      "IncreaseDecreaseInOtherEmployeeRelatedLiabilities | [mapped.1 (0.82)] Cash Flow Statement > increase decrease in other employee related liabilities → cash flow > operating activities > changes in other liabilities\n",
      "IncreaseDecreaseInOtherOperatingAssets | [mapped.1 (0.87)] Cash Flow Statement > increase decrease in other operating assets → cash flow > operating activities > changes in other assets\n",
      "IncreaseDecreaseInLeaseAcquisitionCosts | [mapped.1 (0.76)] Cash Flow Statement > increase decrease in lease acquisition costs → cash flow > investing activities > acquisitions\n"
     ]
    },
    {
     "name": "stderr",
     "output_type": "stream",
     "text": [
      "Processing rows: 568it [00:29, 21.88it/s]"
     ]
    },
    {
     "name": "stdout",
     "output_type": "stream",
     "text": [
      "PaymentsForProceedsFromLifeInsurancePolicies | [mapped.1 (0.76)] Cash Flow Statement > payments for proceeds from life insurance policies → cash flow > cash interest paid\n",
      "PaymentsForProceedsFromLimitedPartnership | [mapped.1 (0.77)] Cash Flow Statement > payments for proceeds from limited partnership → cash flow > cash taxes paid\n",
      "ProceedsFromPaymentsForLongTermLoansForRelatedParties | [mapped.1 (0.81)] Cash Flow Statement > proceeds from payments for long term loans for related parties → cash flow > financing activities > long term debt, net\n",
      "PaymentsToAcquireRoyaltyInterestsInMiningProperties | [mapped.1 (0.76)] Cash Flow Statement > payments to acquire royalty interests in mining properties → cash flow > investing activities > acquisitions\n",
      "PaymentsForProceedsFromMortgageDeposits | [mapped.1 (0.76)] Cash Flow Statement > payments for proceeds from mortgage deposits → cash flow > financing activities > other financing activities\n"
     ]
    },
    {
     "name": "stderr",
     "output_type": "stream",
     "text": [
      "Processing rows: 574it [00:29, 21.54it/s]"
     ]
    },
    {
     "name": "stdout",
     "output_type": "stream",
     "text": [
      "PaymentsForProceedsFromNuclearFuel | [mapped.1 (0.75)] Cash Flow Statement > payments for proceeds from nuclear fuel → cash flow > cash taxes paid\n",
      "PaymentsForProceedsFromOtherInterestEarningAssets | [mapped.1 (0.84)] Cash Flow Statement > payments for proceeds from other interest earning assets → cash flow > cash interest paid\n",
      "PaymentsForProceedsFromOtherRealEstatePartnerships | [mapped.1 (0.77)] Cash Flow Statement > payments for proceeds from other real estate partnerships → cash flow > financing activities > other financing activities\n",
      "RestructuringCosts | [mapped.1 (0.79)] Cash Flow Statement > restructuring costs → cash flow > operating activities > changes in other liabilities\n",
      "PaymentsForProceedsFromRemovalCosts | [mapped.1 (0.78)] Cash Flow Statement > payments for proceeds from removal costs → cash flow > cash taxes paid\n"
     ]
    },
    {
     "name": "stderr",
     "output_type": "stream",
     "text": [
      "Processing rows: 580it [00:30, 21.39it/s]"
     ]
    },
    {
     "name": "stdout",
     "output_type": "stream",
     "text": [
      "IncreaseDecreaseOfRestrictedInvestments | [mapped.1 (0.78)] Cash Flow Statement > increase decrease of restricted investments → cash flow > investing activities > purchase of investments\n",
      "PaymentsForProceedsFromTenantAllowance | [mapped.1 (0.79)] Cash Flow Statement > payments for proceeds from tenant allowance → cash flow > cash interest paid\n",
      "IncreaseDecreaseInTradingSecurities | [mapped.1 (0.77)] Cash Flow Statement > increase decrease in trading securities → cash flow > operating activities > changes in other assets\n",
      "IncreaseDecreaseInFinanceReceivables | [mapped.1 (0.79)] Cash Flow Statement > increase decrease in finance receivables → cash flow > operating activities > changes in accounts receivable\n",
      "PaymentsToAcquireMortgageServicingRightsMSR | [mapped.1 (0.72)] Cash Flow Statement > payments to acquire mortgage servicing rights msr → cash flow > financing activities > other financing activities\n"
     ]
    },
    {
     "name": "stderr",
     "output_type": "stream",
     "text": [
      "Processing rows: 583it [00:30, 21.14it/s]"
     ]
    },
    {
     "name": "stdout",
     "output_type": "stream",
     "text": [
      "InsuranceCommissions | [mapped.1 (0.76)] Income Statement > insurance commissions → income statement > equity in affiliates\n",
      "ProceedsFromInsurancePremiumsCollected | [mapped.1 (0.73)] Cash Flow Statement > proceeds from insurance premiums collected → cash flow > cash interest paid\n",
      "InsuranceReceivableForMalpracticeNoncurrent | [mapped.1 (0.77)] Balance Sheet > insurance receivable for malpractice noncurrent → balance sheet > assets > notes receivable - current\n",
      "InsuranceTax | [mapped.1 (0.81)] Income Statement > insurance tax → income statement > provision for income taxes\n"
     ]
    },
    {
     "name": "stderr",
     "output_type": "stream",
     "text": [
      "Processing rows: 586it [00:30, 20.24it/s]"
     ]
    },
    {
     "name": "stdout",
     "output_type": "stream",
     "text": [
      "IntangibleAssetsNetExcludingGoodwill | [mapped.1 (0.85)] Balance Sheet > intangible assets net excluding goodwill → balance sheet > assets > intangibles\n",
      "FiniteLivedIntangibleAssetsGross | [mapped.1 (0.82)] Balance Sheet > finite lived intangible assets gross → balance sheet > assets > intangibles\n",
      "FiniteLivedIntangibleAssetsNet | [mapped.1 (0.83)] Balance Sheet > finite lived intangible assets net → balance sheet > assets > intangibles\n",
      "Goodwill | [mapped.1 (0.95)] Balance Sheet > goodwill → balance sheet > assets > goodwill\n"
     ]
    },
    {
     "name": "stderr",
     "output_type": "stream",
     "text": [
      "Processing rows: 591it [00:30, 18.49it/s]"
     ]
    },
    {
     "name": "stdout",
     "output_type": "stream",
     "text": [
      "IndefiniteLivedIntangibleAssetsExcludingGoodwill | [mapped.1 (0.83)] Balance Sheet > indefinite lived intangible assets excluding goodwill → balance sheet > assets > intangibles\n",
      "InterestBearingDepositLiabilitiesDomestic | [mapped.1 (0.75)] Balance Sheet > interest bearing deposit liabilities domestic → balance sheet > liabilities > minority interest\n",
      "InterestBearingDepositLiabilitiesForeign | [mapped.1 (0.75)] Balance Sheet > interest bearing deposit liabilities foreign → balance sheet > liabilities > minority interest\n",
      "InterestBearingDepositsInBanks | [mapped.1 (0.71)] Balance Sheet > interest bearing deposits in banks → balance sheet > assets > long term investments\n"
     ]
    },
    {
     "name": "stderr",
     "output_type": "stream",
     "text": [
      "Processing rows: 596it [00:31, 19.99it/s]"
     ]
    },
    {
     "name": "stdout",
     "output_type": "stream",
     "text": [
      "ProceedsFromInterestAndDividendsReceived | [mapped.1 (0.85)] Cash Flow Statement > proceeds from interest and dividends received → cash flow > cash interest paid\n",
      "InterestExpense | [mapped.1 (0.92)] Income Statement > interest expense → income statement > interest expense - operating\n",
      "InterestExpenseBorrowings | [mapped.1 (0.89)] Income Statement > interest expense borrowings → income statement > interest expense - operating\n",
      "InterestExpenseTimeDeposits100000OrMore | [mapped.1 (0.82)] Income Statement > interest expense time deposits100000or more → income statement > interest expense - operating\n",
      "InterestExpenseTimeDepositsLessThan100000 | [mapped.1 (0.79)] Income Statement > interest expense time deposits less than100000 → income statement > interest expense - non-operating\n"
     ]
    },
    {
     "name": "stderr",
     "output_type": "stream",
     "text": [
      "Processing rows: 602it [00:31, 22.76it/s]"
     ]
    },
    {
     "name": "stdout",
     "output_type": "stream",
     "text": [
      "InterestExpenseTimeDeposits | [mapped.1 (0.84)] Income Statement > interest expense time deposits → income statement > interest expense - operating\n",
      "InterestExpenseCommercialPaper | [mapped.1 (0.86)] Income Statement > interest expense commercial paper → income statement > interest expense - operating\n",
      "InterestExpenseCustomerDeposits | [mapped.1 (0.86)] Income Statement > interest expense customer deposits → income statement > interest expense - operating\n",
      "InterestExpenseDebt | [mapped.1 (0.87)] Income Statement > interest expense debt → income statement > interest expense - operating\n",
      "InterestExpenseDeposits | [mapped.1 (0.87)] Income Statement > interest expense deposits → income statement > interest expense - operating\n",
      "InterestExpenseDemandDepositAccounts | [mapped.1 (0.83)] Income Statement > interest expense demand deposit accounts → income statement > interest expense - operating\n"
     ]
    },
    {
     "name": "stderr",
     "output_type": "stream",
     "text": [
      "Processing rows: 608it [00:31, 24.09it/s]"
     ]
    },
    {
     "name": "stdout",
     "output_type": "stream",
     "text": [
      "InterestExpenseMoneyMarketDeposits | [mapped.1 (0.84)] Income Statement > interest expense money market deposits → income statement > interest expense - operating\n",
      "InterestExpenseNegotiableOrderOfWithdrawalNOWDeposits | [mapped.1 (0.81)] Income Statement > interest expense negotiable order of withdrawal now deposits → income statement > interest expense - operating\n",
      "InterestExpenseSavingsDeposits | [mapped.1 (0.85)] Income Statement > interest expense savings deposits → income statement > interest expense - operating\n",
      "InterestExpenseDomesticDeposits | [mapped.1 (0.83)] Income Statement > interest expense domestic deposits → income statement > interest expense - operating\n",
      "InterestExpenseFederalFundsPurchasedAndSecuritiesSoldUnderAgreementsToRepurchase | [mapped.1 (0.77)] Income Statement > interest expense federal funds purchased and securities sold under agreements to repurchase → income statement > interest expense - operating\n",
      "InterestExpenseFederalFundsPurchased | [mapped.1 (0.81)] Income Statement > interest expense federal funds purchased → income statement > interest expense - operating\n"
     ]
    },
    {
     "name": "stderr",
     "output_type": "stream",
     "text": [
      "Processing rows: 614it [00:31, 24.68it/s]"
     ]
    },
    {
     "name": "stdout",
     "output_type": "stream",
     "text": [
      "InterestExpenseSecuritiesSoldUnderAgreementsToRepurchase | [mapped.1 (0.77)] Income Statement > interest expense securities sold under agreements to repurchase → income statement > gain (loss) on sale of assets\n",
      "InterestExpenseFederalHomeLoanBankAndFederalReserveBankAdvancesLongTerm | [mapped.1 (0.78)] Income Statement > interest expense federal home loan bank and federal reserve bank advances long term → income statement > interest expense - operating\n",
      "InterestExpenseFederalHomeLoanBankAndFederalReserveBankAdvancesShortTerm | [mapped.1 (0.79)] Income Statement > interest expense federal home loan bank and federal reserve bank advances short term → income statement > interest expense - operating\n",
      "InterestExpenseForeignDeposits | [mapped.1 (0.83)] Income Statement > interest expense foreign deposits → income statement > interest expense - operating\n",
      "InterestExpenseLongTermDebt | [mapped.1 (0.83)] Income Statement > interest expense long term debt → income statement > interest expense - operating\n",
      "InterestExpenseNOWAccountsMoneyMarketAccountsAndSavingsDeposits | [mapped.1 (0.80)] Income Statement > interest expense now accounts money market accounts and savings deposits → income statement > interest expense - operating\n"
     ]
    },
    {
     "name": "stderr",
     "output_type": "stream",
     "text": [
      "Processing rows: 620it [00:31, 24.79it/s]"
     ]
    },
    {
     "name": "stdout",
     "output_type": "stream",
     "text": [
      "InterestExpenseOtherDomesticDeposits | [mapped.1 (0.83)] Income Statement > interest expense other domestic deposits → income statement > interest expense - operating\n",
      "InterestExpenseOtherLongTermDebt | [mapped.1 (0.83)] Income Statement > interest expense other long term debt → income statement > interest expense - non-operating\n",
      "InterestExpenseOtherShortTermBorrowings | [mapped.1 (0.82)] Income Statement > interest expense other short term borrowings → income statement > interest expense - operating\n",
      "InterestExpenseOther | [mapped.1 (0.89)] Income Statement > interest expense other → income statement > interest expense - operating\n",
      "InterestExpenseShortTermBorrowings | [mapped.1 (0.83)] Income Statement > interest expense short term borrowings → income statement > interest expense - operating\n"
     ]
    },
    {
     "name": "stderr",
     "output_type": "stream",
     "text": [
      "Processing rows: 626it [00:32, 23.97it/s]"
     ]
    },
    {
     "name": "stdout",
     "output_type": "stream",
     "text": [
      "InterestExpenseShortTermBorrowingsExcludingFederalFundsAndSecuritiesSoldUnderAgreementsToRepurchase | [mapped.1 (0.79)] Income Statement > interest expense short term borrowings excluding federal funds and securities sold under agreements to repurchase → income statement > interest expense - non-operating\n",
      "InterestExpenseSubordinatedNotesAndDebentures | [mapped.1 (0.83)] Income Statement > interest expense subordinated notes and debentures → income statement > interest expense - operating\n",
      "InterestExpenseTradingLiabilities | [mapped.1 (0.86)] Income Statement > interest expense trading liabilities → income statement > interest expense - operating\n",
      "InterestIncomeAndFeesBankersAcceptancesCertificatesOfDepositAndCommercialPaper | [mapped.1 (0.77)] Income Statement > interest income and fees bankers acceptances certificates of deposit and commercial paper → income statement > interest income - non-operating\n",
      "InterestIncomeExpenseAfterProvisionForLoanLoss | [mapped.1 (0.81)] Income Statement > interest income expense after provision for loan loss → income statement > interest expense - operating\n",
      "InterestIncomeFederalFundsSoldAndSecuritiesPurchasedUnderAgreementsToResell | [mapped.1 (0.76)] Income Statement > interest income federal funds sold and securities purchased under agreements to resell → income statement > interest > investment income - operating\n"
     ]
    },
    {
     "name": "stderr",
     "output_type": "stream",
     "text": [
      "Processing rows: 629it [00:32, 23.37it/s]"
     ]
    },
    {
     "name": "stdout",
     "output_type": "stream",
     "text": [
      "InterestIncomeFederalFundsSold | [mapped.1 (0.77)] Income Statement > interest income federal funds sold → income statement > interest > investment income - operating\n",
      "InterestIncomeSecuritiesPurchasedUnderAgreementsToResell | [mapped.1 (0.77)] Income Statement > interest income securities purchased under agreements to resell → income statement > interest > investment income - operating\n",
      "InterestAndDividendIncomeSecuritiesHeldToMaturity | [mapped.1 (0.79)] Income Statement > interest and dividend income securities held to maturity → income statement > preferred dividends\n",
      "InterestIncomeDomesticDeposits | [mapped.1 (0.81)] Income Statement > interest income domestic deposits → income statement > interest income - non-operating\n",
      "InterestIncomeDepositsWithFinancialInstitutions | [mapped.1 (0.83)] Income Statement > interest income deposits with financial institutions → income statement > interest > investment income - operating\n"
     ]
    },
    {
     "name": "stderr",
     "output_type": "stream",
     "text": [
      "Processing rows: 635it [00:32, 24.42it/s]"
     ]
    },
    {
     "name": "stdout",
     "output_type": "stream",
     "text": [
      "InterestIncomeForeignDeposits | [mapped.1 (0.81)] Income Statement > interest income foreign deposits → income statement > interest > investment income - operating\n",
      "InterestIncomeMoneyMarketDeposits | [mapped.1 (0.81)] Income Statement > interest income money market deposits → income statement > interest > investment income - operating\n",
      "InterestIncomeOtherDomesticDeposits | [mapped.1 (0.82)] Income Statement > interest income other domestic deposits → income statement > interest income - non-operating\n",
      "InterestIncomeSecuritiesTaxAdvantaged | [mapped.1 (0.77)] Income Statement > interest income securities tax advantaged → income statement > minority interest\n",
      "InterestIncomeSecuritiesTaxExempt | [mapped.1 (0.81)] Income Statement > interest income securities tax exempt → income statement > interest income - non-operating\n",
      "InterestIncomeSecuritiesTaxable | [mapped.1 (0.80)] Income Statement > interest income securities taxable → income statement > interest > investment income - operating\n"
     ]
    },
    {
     "name": "stderr",
     "output_type": "stream",
     "text": [
      "Processing rows: 641it [00:32, 24.18it/s]"
     ]
    },
    {
     "name": "stdout",
     "output_type": "stream",
     "text": [
      "InterestAndFeeIncomeLoansCommercialIndustrialAndAgriculturalLoans | [mapped.1 (0.73)] Income Statement > interest and fee income loans commercial industrial and agricultural loans → income statement > interest > investment income - operating\n",
      "InterestAndFeeIncomeLoansCommercial | [mapped.1 (0.78)] Income Statement > interest and fee income loans commercial → income statement > interest expense - operating\n",
      "InterestAndFeeIncomeLoansCommercialRealEstate | [mapped.1 (0.76)] Income Statement > interest and fee income loans commercial real estate → income statement > interest > investment income - operating\n",
      "InterestAndFeeIncomeLoansCommercialAndResidentialRealEstate | [mapped.1 (0.77)] Income Statement > interest and fee income loans commercial and residential real estate → income statement > interest > investment income - operating\n",
      "InterestAndFeeIncomeLoansConsumerInstallmentAutomobilesMarineAndOtherVehicles | [mapped.1 (0.76)] Income Statement > interest and fee income loans consumer installment automobiles marine and other vehicles → income statement > interest expense - operating\n"
     ]
    },
    {
     "name": "stderr",
     "output_type": "stream",
     "text": [
      "Processing rows: 647it [00:33, 24.14it/s]"
     ]
    },
    {
     "name": "stdout",
     "output_type": "stream",
     "text": [
      "InterestAndFeeIncomeLoansConsumerInstallmentCreditCard | [mapped.1 (0.72)] Income Statement > interest and fee income loans consumer installment credit card → income statement > interest expense - operating\n",
      "InterestAndFeeIncomeLoansConsumer | [mapped.1 (0.76)] Income Statement > interest and fee income loans consumer → income statement > interest expense - operating\n",
      "InterestAndFeeIncomeLoansForeign | [mapped.1 (0.76)] Income Statement > interest and fee income loans foreign → income statement > interest expense - operating\n",
      "InterestAndFeeIncomeLoansConsumerHomeEquity | [mapped.1 (0.77)] Income Statement > interest and fee income loans consumer home equity → income statement > minority interest\n",
      "InterestAndFeeIncomeLoansLeaseFinancing | [mapped.1 (0.75)] Income Statement > interest and fee income loans lease financing → income statement > interest > investment income - operating\n"
     ]
    },
    {
     "name": "stderr",
     "output_type": "stream",
     "text": [
      "Processing rows: 653it [00:33, 24.51it/s]"
     ]
    },
    {
     "name": "stdout",
     "output_type": "stream",
     "text": [
      "InterestAndFeeIncomeLoansAndLeasesHeldInPortfolio | [mapped.1 (0.80)] Income Statement > interest and fee income loans and leases held in portfolio → income statement > interest > investment income - operating\n",
      "InterestAndFeeIncomeLoansOtherConsumer | [mapped.1 (0.77)] Income Statement > interest and fee income loans other consumer → income statement > minority interest\n",
      "InterestAndFeeIncomeOtherLoans | [mapped.1 (0.80)] Income Statement > interest and fee income other loans → income statement > minority interest\n",
      "InterestAndFeeIncomeLoansRealEstateConstruction | [mapped.1 (0.74)] Income Statement > interest and fee income loans real estate construction → income statement > interest > investment income - operating\n",
      "InterestAndFeeIncomeLoansConsumerRealEstate | [mapped.1 (0.73)] Income Statement > interest and fee income loans consumer real estate → income statement > interest > investment income - operating\n",
      "InterestAndFeeIncomeLoansTradeFinancing | [mapped.1 (0.76)] Income Statement > interest and fee income loans trade financing → income statement > interest > investment income - operating\n"
     ]
    },
    {
     "name": "stderr",
     "output_type": "stream",
     "text": [
      "Processing rows: 656it [00:33, 23.45it/s]"
     ]
    },
    {
     "name": "stdout",
     "output_type": "stream",
     "text": [
      "InterestAndFeeIncomeLoansAndLeasesHeldForSale | [mapped.1 (0.79)] Income Statement > interest and fee income loans and leases held for sale → income statement > interest > investment income - operating\n",
      "InterestIncomeSecuritiesMortgageBacked | [mapped.1 (0.79)] Income Statement > interest income securities mortgage backed → income statement > interest > investment income - operating\n",
      "InterestAndFeeIncomeLoansHeldForSaleMortgages | [mapped.1 (0.78)] Income Statement > interest and fee income loans held for sale mortgages → income statement > interest > investment income - operating\n",
      "InterestIncomeOperating | [mapped.1 (0.95)] Income Statement > interest income operating → income statement > interest > investment income - operating\n",
      "OtherInterestAndDividendIncome | [mapped.1 (0.85)] Income Statement > other interest and dividend income → income statement > minority interest\n"
     ]
    },
    {
     "name": "stderr",
     "output_type": "stream",
     "text": [
      "Processing rows: 662it [00:33, 23.86it/s]"
     ]
    },
    {
     "name": "stdout",
     "output_type": "stream",
     "text": [
      "InterestAndDividendIncomeSecuritiesOther | [mapped.1 (0.82)] Income Statement > interest and dividend income securities other → income statement > minority interest\n",
      "InterestAndFeeIncomeOtherLoansHeldForSale | [mapped.1 (0.79)] Income Statement > interest and fee income other loans held for sale → income statement > interest income - non-operating\n",
      "InterestIncomeSecuritiesOtherUSGovernment | [mapped.1 (0.80)] Income Statement > interest income securities other us government → income statement > interest income - non-operating\n",
      "InterestAndDividendIncomeSecurities | [mapped.1 (0.83)] Income Statement > interest and dividend income securities → income statement > preferred dividends\n",
      "InterestIncomeSecuritiesStateAndMunicipal | [mapped.1 (0.79)] Income Statement > interest income securities state and municipal → income statement > interest > investment income - operating\n"
     ]
    },
    {
     "name": "stderr",
     "output_type": "stream",
     "text": [
      "Processing rows: 665it [00:33, 24.09it/s]"
     ]
    },
    {
     "name": "stdout",
     "output_type": "stream",
     "text": [
      "InterestIncomeSecuritiesUSTreasuryAndOtherUSGovernment | [mapped.1 (0.78)] Income Statement > interest income securities us treasury and other us government → income statement > interest > investment income - operating\n",
      "InterestIncomeSecuritiesUSTreasury | [mapped.1 (0.79)] Income Statement > interest income securities us treasury → income statement > interest > investment income - operating\n",
      "InterestReceivable | [mapped.1 (0.87)] Balance Sheet > interest receivable → balance sheet > assets > accounts receivable\n",
      "ProceedsFromInterestReceived | [mapped.1 (0.88)] Cash Flow Statement > proceeds from interest received → cash flow > cash interest paid\n"
     ]
    },
    {
     "name": "stderr",
     "output_type": "stream",
     "text": [
      "Processing rows: 671it [00:34, 19.96it/s]"
     ]
    },
    {
     "name": "stdout",
     "output_type": "stream",
     "text": [
      "AdvancesOnInventoryPurchases | [mapped.1 (0.81)] Balance Sheet > advances on inventory purchases → balance sheet > assets > inventories\n",
      "InventoryDrillingNoncurrent | [mapped.1 (0.80)] Balance Sheet > inventory drilling noncurrent → balance sheet > assets > inventories\n",
      "InventoryFinishedGoods | [mapped.1 (0.89)] Balance Sheet > inventory finished goods → balance sheet > assets > inventories\n",
      "InventoryGasInStorageUndergroundNoncurrent | [mapped.1 (0.77)] Balance Sheet > inventory gas in storage underground noncurrent → balance sheet > assets > inventories\n"
     ]
    },
    {
     "name": "stderr",
     "output_type": "stream",
     "text": [
      "Processing rows: 674it [00:34, 18.86it/s]"
     ]
    },
    {
     "name": "stdout",
     "output_type": "stream",
     "text": [
      "InventoryLIFOReserve | [mapped.1 (0.73)] Balance Sheet > inventory lifo reserve → balance sheet > shareholders' equity > treasury stock\n",
      "InventoryRealEstateMortgageLoansHeldInInventory | [mapped.1 (0.77)] Balance Sheet > inventory real estate mortgage loans held in inventory → balance sheet > assets > inventories\n",
      "InventoryNet | [mapped.1 (0.87)] Balance Sheet > inventory net → balance sheet > assets > inventories\n",
      "InventoryRealEstateOther | [mapped.1 (0.87)] Balance Sheet > inventory real estate other → balance sheet > assets > inventories\n"
     ]
    },
    {
     "name": "stderr",
     "output_type": "stream",
     "text": [
      "Processing rows: 678it [00:34, 17.88it/s]"
     ]
    },
    {
     "name": "stdout",
     "output_type": "stream",
     "text": [
      "InventoryRealEstate | [mapped.1 (0.88)] Balance Sheet > inventory real estate → balance sheet > assets > inventories\n",
      "InventoryRealEstateConstructionInProcess | [mapped.1 (0.81)] Balance Sheet > inventory real estate construction in process → balance sheet > assets > inventories\n",
      "InventoryRealEstateHeldForSale | [mapped.1 (0.85)] Balance Sheet > inventory real estate held for sale → balance sheet > assets > inventories\n",
      "InventoryRealEstateImprovements | [mapped.1 (0.83)] Balance Sheet > inventory real estate improvements → balance sheet > assets > inventories\n"
     ]
    },
    {
     "name": "stderr",
     "output_type": "stream",
     "text": [
      "Processing rows: 682it [00:34, 17.11it/s]"
     ]
    },
    {
     "name": "stdout",
     "output_type": "stream",
     "text": [
      "InventoryWorkInProcess | [mapped.1 (0.87)] Balance Sheet > inventory work in process → balance sheet > assets > inventories\n",
      "InventoryForLongTermContractsOrPrograms | [mapped.1 (0.85)] Balance Sheet > inventory for long term contracts or programs → balance sheet > assets > other long term assets\n",
      "InventoryValuationReserves | [mapped.1 (0.78)] Balance Sheet > inventory valuation reserves → balance sheet > shareholders' equity > redeemable preferred stock\n",
      "InventoryRecallExpense | [mapped.1 (0.78)] Income Statement > inventory recall expense → income statement > unusual expense (income)\n",
      "InvestmentBankingRevenue | [mapped.1 (0.82)] Income Statement > investment banking revenue → income statement > interest > investment income - operating\n"
     ]
    },
    {
     "name": "stderr",
     "output_type": "stream",
     "text": [
      "Processing rows: 688it [00:35, 19.75it/s]"
     ]
    },
    {
     "name": "stdout",
     "output_type": "stream",
     "text": [
      "InvestmentBuildingAndBuildingImprovements | [mapped.1 (0.77)] Balance Sheet > investment building and building improvements → balance sheet > assets > long term investments\n",
      "PaymentsToInvestInDecommissioningFund | [mapped.1 (0.74)] Cash Flow Statement > payments to invest in decommissioning fund → cash flow > investing activities > capital expenditures\n",
      "RealEstateInvestmentsUnconsolidatedRealEstateAndOtherJointVentures | [mapped.1 (0.74)] Balance Sheet > real estate investments unconsolidated real estate and other joint ventures → balance sheet > assets > other current assets\n",
      "InvestmentIncomeInvestmentExpense | [mapped.1 (0.85)] Income Statement > investment income investment expense → income statement > interest > investment income - operating\n",
      "InvestmentIncomeNet | [mapped.1 (0.85)] Income Statement > investment income net → income statement > net sales\n"
     ]
    },
    {
     "name": "stderr",
     "output_type": "stream",
     "text": [
      "Processing rows: 693it [00:35, 18.98it/s]"
     ]
    },
    {
     "name": "stdout",
     "output_type": "stream",
     "text": [
      "Investments | [mapped.1 (0.88)] Balance Sheet > investments → balance sheet > assets > long term investments\n",
      "InvestmentsInAffiliatesSubsidiariesAssociatesAndJointVentures | [mapped.1 (0.73)] Balance Sheet > investments in affiliates subsidiaries associates and joint ventures → balance sheet > shareholders' equity > preferred stock\n",
      "InvestmentInPhysicalCommodities | [mapped.1 (0.80)] Balance Sheet > investment in physical commodities → balance sheet > assets > intangibles\n",
      "PaymentsToAcquireRealEstateHeldForInvestment | [mapped.1 (0.81)] Cash Flow Statement > payments to acquire real estate held for investment → cash flow > investing activities > purchase of investments\n"
     ]
    },
    {
     "name": "stderr",
     "output_type": "stream",
     "text": [
      "Processing rows: 696it [00:35, 18.96it/s]"
     ]
    },
    {
     "name": "stdout",
     "output_type": "stream",
     "text": [
      "ProceedsFromIssuanceOfSeniorLongTermDebt | [mapped.1 (0.83)] Cash Flow Statement > proceeds from issuance of senior long term debt → cash flow > financing activities > long term debt, net\n",
      "ProceedsFromIssuanceOfSubordinatedLongTermDebt | [mapped.1 (0.82)] Cash Flow Statement > proceeds from issuance of subordinated long term debt → cash flow > financing activities > long term debt, net\n",
      "JuniorSubordinatedNotes | [mapped.1 (0.80)] Balance Sheet > junior subordinated notes → balance sheet > liabilities > minority interest\n",
      "JuniorSubordinatedNotesCurrent | [mapped.1 (0.79)] Balance Sheet > junior subordinated notes current → balance sheet > liabilities > notes payable > short term debt\n"
     ]
    },
    {
     "name": "stderr",
     "output_type": "stream",
     "text": [
      "Processing rows: 700it [00:35, 18.77it/s]"
     ]
    },
    {
     "name": "stdout",
     "output_type": "stream",
     "text": [
      "JuniorSubordinatedLongTermNotes | [mapped.1 (0.80)] Balance Sheet > junior subordinated long term notes → balance sheet > liabilities > other long term liabilities\n",
      "LaborAndRelatedExpense | [mapped.1 (0.84)] Income Statement > labor and related expense → income statement > other operating expenses\n",
      "Land | [mapped.1 (0.82)] Balance Sheet > land → balance sheet > assets > property > plant > equipment\n",
      "LandAvailableForDevelopment | [mapped.1 (0.77)] Balance Sheet > land available for development → balance sheet > assets > property > plant > equipment\n"
     ]
    },
    {
     "name": "stderr",
     "output_type": "stream",
     "text": [
      "Processing rows: 704it [00:36, 18.10it/s]"
     ]
    },
    {
     "name": "stdout",
     "output_type": "stream",
     "text": [
      "LandAvailableForSale | [mapped.1 (0.79)] Balance Sheet > land available for sale → balance sheet > assets > property > plant > equipment\n",
      "LeaseholdImprovementsGross | [mapped.1 (0.72)] Balance Sheet > leasehold improvements gross → balance sheet > assets > accumulated depreciation\n",
      "LeveragedLeasesIncomeStatementNetIncomeFromLeveragedLeases | [mapped.1 (0.78)] Cash Flow Statement > leveraged leases income statement net income from leveraged leases → cash flow > operating activities > net income > starting line\n",
      "LeveragedLeasesIncomeStatementNetIncomeFromLeveragedLeases | [mapped.1 (0.76)] Income Statement > leveraged leases income statement net income from leveraged leases → income statement > net sales\n"
     ]
    },
    {
     "name": "stderr",
     "output_type": "stream",
     "text": [
      "Processing rows: 709it [00:36, 17.91it/s]"
     ]
    },
    {
     "name": "stdout",
     "output_type": "stream",
     "text": [
      "LeveragedLeasesNetInvestmentInLeveragedLeasesDisclosureInvestmentInLeveragedLeasesNet | [mapped.1 (0.71)] Balance Sheet > leveraged leases net investment in leveraged leases disclosure investment in leveraged leases net → balance sheet > assets > long term investments\n",
      "Liabilities | [mapped.1 (0.91)] Balance Sheet > liabilities → balance sheet > liabilities > other current liabilities\n",
      "LiabilitiesOfDisposalGroupIncludingDiscontinuedOperationCurrent | [mapped.1 (0.78)] Balance Sheet > liabilities of disposal group including discontinued operation current → balance sheet > liabilities > other current liabilities\n",
      "LiabilitiesOfDisposalGroupIncludingDiscontinuedOperationNoncurrent | [mapped.1 (0.76)] Balance Sheet > liabilities of disposal group including discontinued operation noncurrent → balance sheet > liabilities > other current liabilities\n"
     ]
    },
    {
     "name": "stderr",
     "output_type": "stream",
     "text": [
      "Processing rows: 711it [00:36, 17.26it/s]"
     ]
    },
    {
     "name": "stdout",
     "output_type": "stream",
     "text": [
      "LiabilitiesOfDisposalGroupIncludingDiscontinuedOperation | [mapped.1 (0.75)] Balance Sheet > liabilities of disposal group including discontinued operation → balance sheet > liabilities > minority interest\n",
      "LiabilitiesAndStockholdersEquity | [mapped.1 (0.88)] Balance Sheet > liabilities and stockholders equity → balance sheet > shareholders' equity > common stock\n",
      "TaxesOther | [mapped.1 (0.87)] Income Statement > taxes other → income statement > provision for income taxes\n",
      "LimitedPartnersCapitalAccountUnitsAuthorized | [mapped.1 (0.72)] Balance Sheet > limited partners capital account units authorized → balance sheet > shareholders' equity > additional paid-in capital\n"
     ]
    },
    {
     "name": "stderr",
     "output_type": "stream",
     "text": [
      "Processing rows: 716it [00:36, 17.43it/s]"
     ]
    },
    {
     "name": "stdout",
     "output_type": "stream",
     "text": [
      "LimitedPartnersCapitalAccountUnitsIssued | [mapped.1 (0.72)] Balance Sheet > limited partners capital account units issued → balance sheet > shareholders' equity > common stock\n",
      "LimitedPartnersCapitalAccountUnitsOutstanding | [mapped.1 (0.75)] Balance Sheet > limited partners capital account units outstanding → balance sheet > shareholders' equity > common stock\n",
      "LimitedPartnersCapitalAccount | [mapped.1 (0.76)] Balance Sheet > limited partners capital account → balance sheet > shareholders' equity > common stock\n",
      "LinesOfCreditCurrent | [mapped.1 (0.84)] Balance Sheet > lines of credit current → balance sheet > liabilities > other current liabilities\n"
     ]
    },
    {
     "name": "stderr",
     "output_type": "stream",
     "text": [
      "Processing rows: 721it [00:36, 18.23it/s]"
     ]
    },
    {
     "name": "stdout",
     "output_type": "stream",
     "text": [
      "LongTermLineOfCredit | [mapped.1 (0.88)] Balance Sheet > long term line of credit → balance sheet > liabilities > long term debt\n",
      "LineOfCredit | [mapped.1 (0.81)] Balance Sheet > line of credit → balance sheet > liabilities > other current liabilities\n",
      "LegalFees | [mapped.1 (0.81)] Income Statement > legal fees → income statement > cost of revenue\n",
      "LitigationReserve | [mapped.1 (0.76)] Balance Sheet > litigation reserve → balance sheet > shareholders' equity > treasury stock\n",
      "PaymentsOfLoanCosts | [mapped.1 (0.79)] Cash Flow Statement > payments of loan costs → cash flow > cash interest paid\n"
     ]
    },
    {
     "name": "stderr",
     "output_type": "stream",
     "text": [
      "Processing rows: 724it [00:37, 19.58it/s]"
     ]
    },
    {
     "name": "stdout",
     "output_type": "stream",
     "text": [
      "LoanPortfolioExpense | [mapped.1 (0.81)] Income Statement > loan portfolio expense → income statement > interest expense - operating\n",
      "ProceedsFromRepaymentOfLoansByEmployeeStockOwnershipPlans | [mapped.1 (0.78)] Cash Flow Statement > proceeds from repayment of loans by employee stock ownership plans → cash flow > financing activities > issuance of common stock\n",
      "InterestAndFeeIncomeLoansAndLeases | [mapped.1 (0.80)] Income Statement > interest and fee income loans and leases → income statement > interest > investment income - operating\n",
      "InterestAndFeeIncomeNonmortgageLoansAndLeasesHeldForSale | [mapped.1 (0.83)] Income Statement > interest and fee income nonmortgage loans and leases held for sale → income statement > interest income - non-operating\n",
      "LoansInsurancePolicy | [unmapped] Balance Sheet > loans insurance policy\n"
     ]
    },
    {
     "name": "stderr",
     "output_type": "stream",
     "text": [
      "Processing rows: 731it [00:37, 17.31it/s]"
     ]
    },
    {
     "name": "stdout",
     "output_type": "stream",
     "text": [
      "LongTermLoansPayable | [mapped.1 (0.86)] Balance Sheet > long term loans payable → balance sheet > liabilities > long term debt\n",
      "LoansPayable | [mapped.1 (0.85)] Balance Sheet > loans payable → balance sheet > liabilities > accounts payable\n",
      "LoansPayableToBankCurrent | [mapped.1 (0.80)] Balance Sheet > loans payable to bank current → balance sheet > liabilities > other current liabilities\n",
      "LongTermLoansFromBank | [mapped.1 (0.85)] Balance Sheet > long term loans from bank → balance sheet > liabilities > long term debt\n"
     ]
    },
    {
     "name": "stderr",
     "output_type": "stream",
     "text": [
      "Processing rows: 735it [00:37, 17.77it/s]"
     ]
    },
    {
     "name": "stdout",
     "output_type": "stream",
     "text": [
      "LoansPayableCurrent | [mapped.1 (0.82)] Balance Sheet > loans payable current → balance sheet > liabilities > accounts payable\n",
      "LoansPayableToBank | [mapped.1 (0.82)] Balance Sheet > loans payable to bank → balance sheet > liabilities > accounts payable\n",
      "OriginationOfLoansToEmployeeStockOwnershipPlans | [mapped.1 (0.77)] Cash Flow Statement > origination of loans to employee stock ownership plans → cash flow > financing activities > issuance of common stock\n",
      "InterestExpenseLongTermDebtAndCapitalSecurities | [mapped.1 (0.81)] Income Statement > interest expense long term debt and capital securities → income statement > interest expense - operating\n"
     ]
    },
    {
     "name": "stderr",
     "output_type": "stream",
     "text": [
      "Processing rows: 739it [00:37, 17.30it/s]"
     ]
    },
    {
     "name": "stdout",
     "output_type": "stream",
     "text": [
      "LongTermDebtCurrent | [mapped.1 (0.94)] Balance Sheet > long term debt current → balance sheet > liabilities > current portion of long term debt\n",
      "LongTermDebtNoncurrent | [mapped.1 (0.88)] Balance Sheet > long term debt noncurrent → balance sheet > liabilities > current portion of long term debt\n",
      "LongTermDebt | [mapped.1 (0.93)] Balance Sheet > long term debt → balance sheet > liabilities > long term debt\n",
      "LongTermInvestments | [mapped.1 (0.94)] Balance Sheet > long term investments → balance sheet > assets > long term investments\n"
     ]
    },
    {
     "name": "stderr",
     "output_type": "stream",
     "text": [
      "Processing rows: 744it [00:38, 19.18it/s]"
     ]
    },
    {
     "name": "stdout",
     "output_type": "stream",
     "text": [
      "LongTermInvestmentsAndReceivablesNet | [mapped.1 (0.89)] Balance Sheet > long term investments and receivables net → balance sheet > assets > long term investments\n",
      "PaymentsForLossesAndLossAdjustmentExpense | [mapped.1 (0.78)] Cash Flow Statement > payments for losses and loss adjustment expense → cash flow > operating activities > changes in other liabilities\n",
      "MortgageServicingRightsMSRImpairmentRecovery | [mapped.1 (0.72)] Cash Flow Statement > mortgage servicing rights msr impairment recovery → cash flow > financing activities > short term debt, net\n",
      "MortgageServicingRightsMSRImpairmentRecovery | [mapped.1 (0.72)] Income Statement > mortgage servicing rights msr impairment recovery → income statement > discontinued operations\n",
      "MalpracticeLossContingencyClaimsIncurredNet | [mapped.1 (0.77)] Income Statement > malpractice loss contingency claims incurred net → income statement > net sales\n"
     ]
    },
    {
     "name": "stderr",
     "output_type": "stream",
     "text": [
      "Processing rows: 748it [00:38, 17.60it/s]"
     ]
    },
    {
     "name": "stdout",
     "output_type": "stream",
     "text": [
      "MarketableSecuritiesCurrent | [mapped.1 (0.81)] Balance Sheet > marketable securities current → balance sheet > assets > other current assets\n",
      "HeldToMaturitySecuritiesCurrent | [mapped.1 (0.79)] Balance Sheet > held to maturity securities current → balance sheet > shareholders' equity > treasury stock\n",
      "MarketableSecurities | [mapped.1 (0.81)] Balance Sheet > marketable securities → balance sheet > shareholders' equity > redeemable preferred stock\n",
      "HeldToMaturitySecurities | [mapped.1 (0.79)] Balance Sheet > held to maturity securities → balance sheet > shareholders' equity > treasury stock\n"
     ]
    },
    {
     "name": "stderr",
     "output_type": "stream",
     "text": [
      "Processing rows: 753it [00:38, 18.99it/s]"
     ]
    },
    {
     "name": "stdout",
     "output_type": "stream",
     "text": [
      "HeldToMaturitySecuritiesNoncurrent | [mapped.1 (0.77)] Balance Sheet > held to maturity securities noncurrent → balance sheet > shareholders' equity > treasury stock\n",
      "MarketableSecuritiesNoncurrent | [mapped.1 (0.81)] Balance Sheet > marketable securities noncurrent → balance sheet > assets > other current assets\n",
      "MarketingExpense | [mapped.1 (0.84)] Income Statement > marketing expense → income statement > interest expense - operating\n",
      "MaturitiesOfSeniorDebt | [mapped.1 (0.79)] Cash Flow Statement > maturities of senior debt → cash flow > financing activities > long term debt, net\n",
      "MaturitiesOfSubordinatedDebt | [mapped.1 (0.78)] Cash Flow Statement > maturities of subordinated debt → cash flow > financing activities > short term debt, net\n"
     ]
    },
    {
     "name": "stderr",
     "output_type": "stream",
     "text": [
      "Processing rows: 757it [00:38, 18.57it/s]"
     ]
    },
    {
     "name": "stdout",
     "output_type": "stream",
     "text": [
      "InterestExpenseMediumTermNotes | [mapped.1 (0.81)] Income Statement > interest expense medium term notes → income statement > interest expense - operating\n",
      "MediumTermNotes | [mapped.1 (0.80)] Balance Sheet > medium term notes → balance sheet > liabilities > notes payable > short term debt\n",
      "MembershipsInExchangesOwned | [mapped.1 (0.75)] Balance Sheet > memberships in exchanges owned → balance sheet > shareholders' equity > treasury stock\n",
      "PaymentsOfMergerRelatedCostsFinancingActivities | [mapped.1 (0.83)] Cash Flow Statement > payments of merger related costs financing activities → cash flow > financing activities > other financing activities\n"
     ]
    },
    {
     "name": "stderr",
     "output_type": "stream",
     "text": [
      "Processing rows: 762it [00:39, 19.91it/s]"
     ]
    },
    {
     "name": "stdout",
     "output_type": "stream",
     "text": [
      "MineReclamationAndClosingLiabilityNoncurrent | [mapped.1 (0.75)] Balance Sheet > mine reclamation and closing liability noncurrent → balance sheet > liabilities > other current liabilities\n",
      "MinorityInterest | [mapped.1 (0.95)] Balance Sheet > minority interest → balance sheet > liabilities > minority interest\n",
      "MinorityInterestDecreaseFromDistributionsToNoncontrollingInterestHolders | [mapped.1 (0.84)] Equity Statement > minority interest decrease from distributions to noncontrolling interest holders → equity statement > noncontrolling interest changes\n",
      "NetCashProvidedByUsedInOperatingActivitiesContinuingOperations | [mapped.1 (0.83)] Cash Flow Statement > net cash provided by used in operating activities continuing operations → cash flow > operating activities > net income > starting line\n",
      "NetCashProvidedByUsedInDiscontinuedOperations | [mapped.1 (0.78)] Cash Flow Statement > net cash provided by used in discontinued operations → cash flow > operating activities > depreciation > amortization\n"
     ]
    },
    {
     "name": "stderr",
     "output_type": "stream",
     "text": [
      "Processing rows: 765it [00:39, 20.73it/s]"
     ]
    },
    {
     "name": "stdout",
     "output_type": "stream",
     "text": [
      "NetCashProvidedByUsedInFinancingActivities | [mapped.1 (0.85)] Cash Flow Statement > net cash provided by used in financing activities → cash flow > financing activities > other financing activities\n",
      "NetCashProvidedByUsedInInvestingActivities | [mapped.1 (0.84)] Cash Flow Statement > net cash provided by used in investing activities → cash flow > investing activities > purchase of investments\n",
      "NetCashProvidedByUsedInOperatingActivities | [mapped.1 (0.84)] Cash Flow Statement > net cash provided by used in operating activities → cash flow > operating activities > net income > starting line\n",
      "NetChangeAnnuitiesAndInvestmentCertificates | [mapped.1 (0.77)] Cash Flow Statement > net change annuities and investment certificates → cash flow > investing activities > purchase of investments\n",
      "PaymentsForProceedsFromDepositOnLoan | [mapped.1 (0.77)] Cash Flow Statement > payments for proceeds from deposit on loan → cash flow > financing activities > other financing activities\n"
     ]
    },
    {
     "name": "stderr",
     "output_type": "stream",
     "text": [
      "Processing rows: 771it [00:39, 20.92it/s]"
     ]
    },
    {
     "name": "stdout",
     "output_type": "stream",
     "text": [
      "IncreaseDecreaseInTimeDepositsOf100000OrMore | [mapped.1 (0.73)] Cash Flow Statement > increase decrease in time deposits of100000or more → cash flow > foreign exchange effects\n",
      "IncreaseDecreaseInTimeDepositsOfLessThan100000 | [mapped.1 (0.71)] Cash Flow Statement > increase decrease in time deposits of less than100000 → cash flow > foreign exchange effects\n",
      "IncreaseDecreaseInOtherTimeDeposits | [mapped.1 (0.73)] Cash Flow Statement > increase decrease in other time deposits → cash flow > foreign exchange effects\n",
      "NetChangeContractHoldersFunds | [mapped.1 (0.77)] Cash Flow Statement > net change contract holders funds → cash flow > financing activities > short term debt, net\n",
      "ProceedsFromRepaymentsOfDebt | [mapped.1 (0.80)] Cash Flow Statement > proceeds from repayments of debt → cash flow > financing activities > long term debt, net\n"
     ]
    },
    {
     "name": "stderr",
     "output_type": "stream",
     "text": [
      "Processing rows: 774it [00:39, 21.73it/s]"
     ]
    },
    {
     "name": "stdout",
     "output_type": "stream",
     "text": [
      "IncreaseDecreaseInDeposits | [mapped.1 (0.72)] Cash Flow Statement > increase decrease in deposits → cash flow > foreign exchange effects\n",
      "ProceedsFromPaymentsForDepositsAppliedToDebtRetirements | [mapped.1 (0.74)] Cash Flow Statement > proceeds from payments for deposits applied to debt retirements → cash flow > investing activities > proceeds from sale > maturity of investments\n",
      "ProceedsFromRepurchaseOfEquity | [mapped.1 (0.83)] Cash Flow Statement > proceeds from repurchase of equity → cash flow > financing activities > repurchase > retirement of common stock\n",
      "IncreaseDecreaseInFederalFundsPurchased | [mapped.1 (0.73)] Cash Flow Statement > increase decrease in federal funds purchased → cash flow > investing activities > purchase of investments\n"
     ]
    },
    {
     "name": "stderr",
     "output_type": "stream",
     "text": [
      "Processing rows: 780it [00:40, 20.67it/s]"
     ]
    },
    {
     "name": "stdout",
     "output_type": "stream",
     "text": [
      "IncreaseDecreaseInFederalFundsPurchasedAndSecuritiesSoldUnderAgreementsToRepurchaseNet | [mapped.1 (0.75)] Cash Flow Statement > increase decrease in federal funds purchased and securities sold under agreements to repurchase net → cash flow > financing activities > repurchase > retirement of common stock\n",
      "IncreaseDecreaseInFederalFundsSold | [mapped.1 (0.70)] Cash Flow Statement > increase decrease in federal funds sold → cash flow > financing activities > other financing activities\n",
      "ProceedsFromPaymentsForFederalFundsSoldAndSecuritiesPurchasedUnderAgreementsToResellNet | [mapped.1 (0.79)] Cash Flow Statement > proceeds from payments for federal funds sold and securities purchased under agreements to resell net → cash flow > investing activities > proceeds from sale > maturity of investments\n",
      "ProceedsFromRepaymentsOfFirstMortgageBond | [mapped.1 (0.76)] Cash Flow Statement > proceeds from repayments of first mortgage bond → cash flow > cash interest paid\n",
      "PaymentsForProceedsFromHedgeFinancingActivities | [mapped.1 (0.80)] Cash Flow Statement > payments for proceeds from hedge financing activities → cash flow > financing activities > other financing activities\n"
     ]
    },
    {
     "name": "stderr",
     "output_type": "stream",
     "text": [
      "Processing rows: 786it [00:40, 21.13it/s]"
     ]
    },
    {
     "name": "stdout",
     "output_type": "stream",
     "text": [
      "ProceedsFromPaymentsForInInterestBearingDepositsInBanks | [mapped.1 (0.77)] Cash Flow Statement > proceeds from payments for in interest bearing deposits in banks → cash flow > financing activities > other financing activities\n",
      "NetChangeInterestBearingDepositsDomestic | [mapped.1 (0.74)] Cash Flow Statement > net change interest bearing deposits domestic → cash flow > financing activities > long term debt, net\n",
      "NetChangeInterestBearingDepositsForeign | [mapped.1 (0.79)] Cash Flow Statement > net change interest bearing deposits foreign → cash flow > foreign exchange effects\n",
      "IncreaseDecreaseInInterestAndDividendsReceivable | [mapped.1 (0.77)] Cash Flow Statement > increase decrease in interest and dividends receivable → cash flow > cash interest paid\n",
      "NetChangeInterestAndNoninterestBearingDepositsDomestic | [mapped.1 (0.75)] Cash Flow Statement > net change interest and noninterest bearing deposits domestic → cash flow > financing activities > long term debt, net\n"
     ]
    },
    {
     "name": "stderr",
     "output_type": "stream",
     "text": [
      "Processing rows: 789it [00:40, 21.37it/s]"
     ]
    },
    {
     "name": "stdout",
     "output_type": "stream",
     "text": [
      "NetChangeInterestAndNoninterestBearingDepositsForeign | [mapped.1 (0.79)] Cash Flow Statement > net change interest and noninterest bearing deposits foreign → cash flow > foreign exchange effects\n",
      "IncreaseDecreaseInOutstandingChecksOperatingActivities | [mapped.1 (0.81)] Cash Flow Statement > increase decrease in outstanding checks operating activities → cash flow > operating activities > changes in accounts payable\n",
      "IncreaseDecreaseInLoansHeldForSale | [mapped.1 (0.74)] Cash Flow Statement > increase decrease in loans held for sale → cash flow > operating activities > changes in other assets\n",
      "PaymentsForProceedsFromLoansAndLeases | [mapped.1 (0.81)] Cash Flow Statement > payments for proceeds from loans and leases → cash flow > financing activities > other financing activities\n",
      "ProceedsFromRepaymentsOfLongTermDebtAndCapitalSecurities | [mapped.1 (0.84)] Cash Flow Statement > proceeds from repayments of long term debt and capital securities → cash flow > financing activities > long term debt, net\n"
     ]
    },
    {
     "name": "stderr",
     "output_type": "stream",
     "text": [
      "Processing rows: 795it [00:40, 21.56it/s]"
     ]
    },
    {
     "name": "stdout",
     "output_type": "stream",
     "text": [
      "IncreaseDecreaseInDemandDeposits | [mapped.1 (0.72)] Cash Flow Statement > increase decrease in demand deposits → cash flow > foreign exchange effects\n",
      "NetChangeNoninterestBearingDepositsDomestic | [mapped.1 (0.75)] Cash Flow Statement > net change noninterest bearing deposits domestic → cash flow > financing activities > long term debt, net\n",
      "NetChangeNoninterestBearingDepositsForeign | [mapped.1 (0.78)] Cash Flow Statement > net change noninterest bearing deposits foreign → cash flow > foreign exchange effects\n",
      "ProceedsFromRepaymentsOfNotesPayable | [mapped.1 (0.81)] Cash Flow Statement > proceeds from repayments of notes payable → cash flow > cash interest paid\n",
      "ProceedsFromRepaymentsOfOtherDebt | [mapped.1 (0.81)] Cash Flow Statement > proceeds from repayments of other debt → cash flow > financing activities > other financing activities\n"
     ]
    },
    {
     "name": "stderr",
     "output_type": "stream",
     "text": [
      "Processing rows: 798it [00:40, 21.07it/s]"
     ]
    },
    {
     "name": "stdout",
     "output_type": "stream",
     "text": [
      "IncreaseDecreaseInOtherDeposits | [mapped.1 (0.72)] Cash Flow Statement > increase decrease in other deposits → cash flow > foreign exchange effects\n",
      "ProceedsFromRepaymentsOfOtherLongTermDebt | [mapped.1 (0.85)] Cash Flow Statement > proceeds from repayments of other long term debt → cash flow > financing activities > long term debt, net\n",
      "IncreaseDecreaseInOutstandingChecksFinancingActivities | [mapped.1 (0.79)] Cash Flow Statement > increase decrease in outstanding checks financing activities → cash flow > financing activities > other financing activities\n",
      "ProceedsFromRepaymentsOfPollutionControlBond | [mapped.1 (0.75)] Cash Flow Statement > proceeds from repayments of pollution control bond → cash flow > cash interest paid\n"
     ]
    },
    {
     "name": "stderr",
     "output_type": "stream",
     "text": [
      "Processing rows: 801it [00:41, 20.75it/s]"
     ]
    },
    {
     "name": "stdout",
     "output_type": "stream",
     "text": [
      "ProceedsFromRepaymentsOfRelatedPartyDebt | [mapped.1 (0.79)] Cash Flow Statement > proceeds from repayments of related party debt → cash flow > financing activities > other financing activities\n",
      "IncreaseDecreaseInSavingsDeposits | [unmapped] Cash Flow Statement > increase decrease in savings deposits\n",
      "IncreaseDecreaseInSavingsDeposits | [mapped.2 (0.72)] Cash Flow Statement > StatementTable > StatementLineItems > IncreaseDecreaseInSavingsDeposits → cash flow > financing activities > other financing activities\n",
      "ProceedsFromRepaymentsOfSecuredDebt | [mapped.1 (0.78)] Cash Flow Statement > proceeds from repayments of secured debt → cash flow > financing activities > other financing activities\n"
     ]
    },
    {
     "name": "stderr",
     "output_type": "stream",
     "text": [
      "Processing rows: 807it [00:41, 19.52it/s]"
     ]
    },
    {
     "name": "stdout",
     "output_type": "stream",
     "text": [
      "ProceedsFromPaymentsForSecuritiesPurchasedUnderAgreementsToResell | [mapped.1 (0.81)] Cash Flow Statement > proceeds from payments for securities purchased under agreements to resell → cash flow > investing activities > proceeds from sale > maturity of investments\n",
      "ProceedsFromPaymentsForInSecuritiesSoldUnderAgreementsToRepurchase | [mapped.1 (0.80)] Cash Flow Statement > proceeds from payments for in securities sold under agreements to repurchase → cash flow > financing activities > repurchase > retirement of common stock\n",
      "IncreaseDecreaseInTimeDeposits | [mapped.1 (0.72)] Cash Flow Statement > increase decrease in time deposits → cash flow > foreign exchange effects\n",
      "IncreaseDecreaseInUndisbursedLoanFunds | [mapped.1 (0.75)] Cash Flow Statement > increase decrease in undisbursed loan funds → cash flow > cash interest paid\n",
      "ForeclosedAssets | [mapped.1 (0.86)] Balance Sheet > foreclosed assets → balance sheet > assets > goodwill\n"
     ]
    },
    {
     "name": "stderr",
     "output_type": "stream",
     "text": [
      "Processing rows: 813it [00:41, 19.97it/s]"
     ]
    },
    {
     "name": "stdout",
     "output_type": "stream",
     "text": [
      "GainLossOnSaleOfMortgageLoans | [mapped.1 (0.75)] Cash Flow Statement > gain loss on sale of mortgage loans → cash flow > investing activities > proceeds from sale > maturity of investments\n",
      "GainLossOnSaleOfMortgageLoans | [mapped.1 (0.86)] Income Statement > gain loss on sale of mortgage loans → income statement > gain (loss) on sale of assets\n",
      "GainLossOnSalesOfConsumerLoans | [mapped.1 (0.74)] Cash Flow Statement > gain loss on sales of consumer loans → cash flow > financing activities > short term debt, net\n",
      "GainLossOnSalesOfConsumerLoans | [mapped.1 (0.83)] Income Statement > gain loss on sales of consumer loans → income statement > gain (loss) on sale of assets\n",
      "GainLossOnSaleOfLoansAndLeases | [mapped.1 (0.77)] Cash Flow Statement > gain loss on sale of loans and leases → cash flow > investing activities > proceeds from sale > maturity of investments\n"
     ]
    },
    {
     "name": "stderr",
     "output_type": "stream",
     "text": [
      "Processing rows: 816it [00:41, 21.59it/s]"
     ]
    },
    {
     "name": "stdout",
     "output_type": "stream",
     "text": [
      "NetIncomeLoss | [mapped.1 (0.85)] Income Statement > net income loss → income statement > net sales\n",
      "NetIncomeLoss | [mapped.1 (0.84)] Comprehensive Income > net income loss → comprehensive income > unrealized derivative gains (losses)\n",
      "NetIncomeLossAvailableToCommonStockholdersBasic | [mapped.1 (0.84)] Income Statement > net income loss available to common stockholders basic → income statement > net income available to common\n",
      "InterestIncomeExpenseNet | [mapped.1 (0.88)] Income Statement > interest income expense net → income statement > interest expense - operating\n",
      "NetInvestmentIncome | [mapped.1 (0.86)] Income Statement > net investment income → income statement > net sales\n"
     ]
    },
    {
     "name": "stderr",
     "output_type": "stream",
     "text": [
      "Processing rows: 821it [00:42, 18.56it/s]"
     ]
    },
    {
     "name": "stdout",
     "output_type": "stream",
     "text": [
      "AllowanceForLoanAndLeaseLossesRealEstate | [unmapped] Balance Sheet > allowance for loan and lease losses real estate\n",
      "AllowanceForLoanAndLeaseLossesRealEstate | [mapped.2 (0.71)] Balance Sheet > StatementTable > StatementLineItems > AllowanceForLoanAndLeaseLossesRealEstate → balance sheet > shareholders' equity > accumulated other comprehensive income\n",
      "MortgageLoansOnRealEstateCommercialAndConsumerNet | [mapped.1 (0.71)] Balance Sheet > mortgage loans on real estate commercial and consumer net → balance sheet > assets > other current assets\n",
      "ProceedsFromSaleOfMortgageServicingRightsMSR | [mapped.1 (0.75)] Cash Flow Statement > proceeds from sale of mortgage servicing rights msr → cash flow > investing activities > proceeds from sale > maturity of investments\n"
     ]
    },
    {
     "name": "stderr",
     "output_type": "stream",
     "text": [
      "Processing rows: 824it [00:42, 19.05it/s]"
     ]
    },
    {
     "name": "stdout",
     "output_type": "stream",
     "text": [
      "ProceedsFromStockPlans | [mapped.1 (0.81)] Cash Flow Statement > proceeds from stock plans → cash flow > investing activities > proceeds from sale > maturity of investments\n",
      "PremiumsWrittenNet | [mapped.1 (0.80)] Income Statement > premiums written net → income statement > net sales\n",
      "NoninterestBearingDepositLiabilitiesDomestic | [mapped.1 (0.76)] Balance Sheet > noninterest bearing deposit liabilities domestic → balance sheet > liabilities > minority interest\n",
      "NoninterestBearingDepositLiabilitiesForeign | [mapped.1 (0.76)] Balance Sheet > noninterest bearing deposit liabilities foreign → balance sheet > liabilities > minority interest\n"
     ]
    },
    {
     "name": "stderr",
     "output_type": "stream",
     "text": [
      "Processing rows: 830it [00:42, 20.81it/s]"
     ]
    },
    {
     "name": "stdout",
     "output_type": "stream",
     "text": [
      "BusinessDevelopment | [mapped.1 (0.85)] Income Statement > business development → income statement > research & development\n",
      "CommunicationsAndInformationTechnology | [mapped.1 (0.79)] Income Statement > communications and information technology → income statement > net sales\n",
      "CommunicationsInformationTechnologyAndOccupancy | [mapped.1 (0.75)] Income Statement > communications information technology and occupancy → income statement > research & development\n",
      "FederalDepositInsuranceCorporationPremiumExpense | [mapped.1 (0.77)] Income Statement > federal deposit insurance corporation premium expense → income statement > interest expense - operating\n",
      "LoanProcessingFee | [mapped.1 (0.74)] Income Statement > loan processing fee → income statement > cost of revenue\n"
     ]
    },
    {
     "name": "stderr",
     "output_type": "stream",
     "text": [
      "Processing rows: 836it [00:42, 22.73it/s]"
     ]
    },
    {
     "name": "stdout",
     "output_type": "stream",
     "text": [
      "OccupancyNet | [mapped.1 (0.83)] Income Statement > occupancy net → income statement > net sales\n",
      "OtherNoninterestExpense | [mapped.1 (0.92)] Income Statement > other noninterest expense → income statement > other non-operating income (expense)\n",
      "PostageExpense | [mapped.1 (0.80)] Income Statement > postage expense → income statement > unusual expense (income)\n",
      "SuppliesExpense | [mapped.1 (0.82)] Income Statement > supplies expense → income statement > other operating expenses\n",
      "SuppliesAndPostageExpense | [mapped.1 (0.78)] Income Statement > supplies and postage expense → income statement > other operating expenses\n",
      "NoninterestIncome | [mapped.1 (0.87)] Income Statement > noninterest income → income statement > interest income - non-operating\n"
     ]
    },
    {
     "name": "stderr",
     "output_type": "stream",
     "text": [
      "Processing rows: 842it [00:42, 23.58it/s]"
     ]
    },
    {
     "name": "stdout",
     "output_type": "stream",
     "text": [
      "BankOwnedLifeInsuranceIncome | [mapped.1 (0.75)] Income Statement > bank owned life insurance income → income statement > net sales\n",
      "ConversionGainsAndLossesOnForeignInvestments | [mapped.1 (0.82)] Income Statement > conversion gains and losses on foreign investments → income statement > gain (loss) on sale of assets\n",
      "GainsLossesOnSalesOfAssets | [mapped.1 (0.94)] Income Statement > gains losses on sales of assets → income statement > gain (loss) on sale of assets\n",
      "GainsLossesOnSalesOfCreditCardPortfolio | [mapped.1 (0.85)] Income Statement > gains losses on sales of credit card portfolio → income statement > gain (loss) on sale of assets\n",
      "GainsLossesOnSalesOfOtherRealEstate | [mapped.1 (0.87)] Income Statement > gains losses on sales of other real estate → income statement > gain (loss) on sale of assets\n",
      "InvestmentBankingAdvisoryBrokerageAndUnderwritingFeesAndCommissions | [mapped.1 (0.77)] Income Statement > investment banking advisory brokerage and underwriting fees and commissions → income statement > interest > investment income - operating\n"
     ]
    },
    {
     "name": "stderr",
     "output_type": "stream",
     "text": [
      "Processing rows: 845it [00:43, 22.96it/s]"
     ]
    },
    {
     "name": "stdout",
     "output_type": "stream",
     "text": [
      "GainLossOnSalesOfLoansNet | [mapped.1 (0.78)] Cash Flow Statement > gain loss on sales of loans net → cash flow > financing activities > short term debt, net\n",
      "GainLossOnSalesOfLoansNet | [mapped.1 (0.85)] Income Statement > gain loss on sales of loans net → income statement > gain (loss) on sale of assets\n",
      "GainLossOnSaleOfLeasedAssetsNetOperatingLeases | [mapped.1 (0.85)] Income Statement > gain loss on sale of leased assets net operating leases → income statement > gain (loss) on sale of assets\n",
      "VentureCapitalGainsLossesNet | [mapped.1 (0.79)] Income Statement > venture capital gains losses net → income statement > gain (loss) on sale of assets\n",
      "NoninterestIncomeOther | [mapped.1 (0.88)] Income Statement > noninterest income other → income statement > other non-operating income (expense)\n"
     ]
    },
    {
     "name": "stderr",
     "output_type": "stream",
     "text": [
      "Processing rows: 851it [00:43, 24.03it/s]"
     ]
    },
    {
     "name": "stdout",
     "output_type": "stream",
     "text": [
      "NoninterestIncomeOtherOperatingIncome | [mapped.1 (0.90)] Income Statement > noninterest income other operating income → income statement > other non-operating income (expense)\n",
      "ProfitLossFromRealEstateOperations | [mapped.1 (0.85)] Income Statement > profit loss from real estate operations → income statement > gain (loss) on sale of assets\n",
      "PrincipalTransactionsRevenue | [mapped.1 (0.82)] Income Statement > principal transactions revenue → income statement > cost of revenue\n",
      "NonoperatingIncomeExpense | [mapped.1 (0.93)] Income Statement > nonoperating income expense → income statement > other non-operating income (expense)\n",
      "InterestAndDebtExpense | [mapped.1 (0.88)] Income Statement > interest and debt expense → income statement > interest expense - operating\n"
     ]
    },
    {
     "name": "stderr",
     "output_type": "stream",
     "text": [
      "Processing rows: 854it [00:43, 23.59it/s]"
     ]
    },
    {
     "name": "stdout",
     "output_type": "stream",
     "text": [
      "InvestmentIncomeNonoperating | [mapped.1 (0.83)] Income Statement > investment income nonoperating → income statement > interest income - non-operating\n",
      "NoncashInvestingAndFinancingActivitiesRelatedText | [mapped.1 (0.84)] Cash Flow Statement > noncash investing and financing activities related text → cash flow > financing activities > other financing activities\n",
      "OtherNoncashExpense | [mapped.1 (0.85)] Cash Flow Statement > other noncash expense → cash flow > operating activities > other non-cash items\n",
      "AssetsNoncurrent | [mapped.1 (0.89)] Balance Sheet > assets noncurrent → balance sheet > assets > other current assets\n"
     ]
    },
    {
     "name": "stderr",
     "output_type": "stream",
     "text": [
      "Processing rows: 860it [00:43, 21.38it/s]"
     ]
    },
    {
     "name": "stdout",
     "output_type": "stream",
     "text": [
      "InventoryNoncurrent | [mapped.1 (0.84)] Balance Sheet > inventory noncurrent → balance sheet > assets > inventories\n",
      "LiabilitiesNoncurrent | [mapped.1 (0.89)] Balance Sheet > liabilities noncurrent → balance sheet > liabilities > other current liabilities\n",
      "NoninterestExpenseCommissionExpense | [mapped.1 (0.85)] Income Statement > noninterest expense commission expense → income statement > other non-operating income (expense)\n",
      "NoninterestExpenseDirectorsFees | [mapped.1 (0.80)] Income Statement > noninterest expense directors fees → income statement > interest expense - non-operating\n",
      "ExpenseRelatedToDistributionOrServicingAndUnderwritingFees | [mapped.1 (0.81)] Income Statement > expense related to distribution or servicing and underwriting fees → income statement > other operating expenses\n"
     ]
    },
    {
     "name": "stderr",
     "output_type": "stream",
     "text": [
      "Processing rows: 866it [00:44, 22.60it/s]"
     ]
    },
    {
     "name": "stdout",
     "output_type": "stream",
     "text": [
      "ForeclosedRealEstateExpense | [mapped.1 (0.76)] Income Statement > foreclosed real estate expense → income statement > interest expense - non-operating\n",
      "NoninterestExpenseInvestmentAdvisoryFees | [mapped.1 (0.80)] Income Statement > noninterest expense investment advisory fees → income statement > interest expense - non-operating\n",
      "MarketingAndAdvertisingExpense | [mapped.1 (0.80)] Income Statement > marketing and advertising expense → income statement > other operating expenses\n",
      "NoninterestExpenseOfferingCost | [mapped.1 (0.82)] Income Statement > noninterest expense offering cost → income statement > interest expense - non-operating\n",
      "NoninterestExpenseRelatedToPerformanceFees | [mapped.1 (0.81)] Income Statement > noninterest expense related to performance fees → income statement > other non-operating income (expense)\n"
     ]
    },
    {
     "name": "stderr",
     "output_type": "stream",
     "text": [
      "Processing rows: 872it [00:44, 23.50it/s]"
     ]
    },
    {
     "name": "stdout",
     "output_type": "stream",
     "text": [
      "NoninterestExpensePrintingAndFulfillment | [mapped.1 (0.83)] Income Statement > noninterest expense printing and fulfillment → income statement > other non-operating income (expense)\n",
      "ProfessionalFees | [mapped.1 (0.79)] Income Statement > professional fees → income statement > cost of revenue\n",
      "NoninterestExpenseTransferAgentAndCustodianFees | [mapped.1 (0.80)] Income Statement > noninterest expense transfer agent and custodian fees → income statement > interest expense - non-operating\n",
      "SubadvisoryFeesForMutualFunds | [mapped.1 (0.72)] Income Statement > subadvisory fees for mutual funds → income statement > preferred dividends\n",
      "OtherNonoperatingAssetRelatedIncome | [mapped.1 (0.91)] Income Statement > other nonoperating asset related income → income statement > other non-operating income (expense)\n",
      "NonoperatingGainsLosses | [mapped.1 (0.87)] Income Statement > nonoperating gains losses → income statement > gain (loss) on sale of assets\n"
     ]
    },
    {
     "name": "stderr",
     "output_type": "stream",
     "text": [
      "Processing rows: 875it [00:44, 22.18it/s]"
     ]
    },
    {
     "name": "stdout",
     "output_type": "stream",
     "text": [
      "OtherNonoperatingGainsLosses | [mapped.1 (0.85)] Income Statement > other nonoperating gains losses → income statement > gain (loss) on sale of assets\n",
      "GainLossOnSaleOfPreviouslyUnissuedStockBySubsidiaryOrEquityInvesteeNonoperatingIncome | [mapped.1 (0.78)] Cash Flow Statement > gain loss on sale of previously unissued stock by subsidiary or equity investee nonoperating income → cash flow > investing activities > proceeds from sale > maturity of investments\n",
      "GainLossOnSaleOfPreviouslyUnissuedStockBySubsidiaryOrEquityInvesteeNonoperatingIncome | [mapped.1 (0.83)] Income Statement > gain loss on sale of previously unissued stock by subsidiary or equity investee nonoperating income → income statement > gain (loss) on sale of assets\n",
      "OtherNonrecurringExpense | [mapped.1 (0.91)] Income Statement > other nonrecurring expense → income statement > other non-operating income (expense)\n",
      "OtherNonrecurringIncomeExpense | [mapped.1 (0.91)] Income Statement > other nonrecurring income expense → income statement > other non-operating income (expense)\n"
     ]
    },
    {
     "name": "stderr",
     "output_type": "stream",
     "text": [
      "Processing rows: 881it [00:44, 20.41it/s]"
     ]
    },
    {
     "name": "stdout",
     "output_type": "stream",
     "text": [
      "OtherNonrecurringIncome | [mapped.1 (0.87)] Income Statement > other nonrecurring income → income statement > other non-operating income (expense)\n",
      "NotesAndLoansPayable | [mapped.1 (0.87)] Balance Sheet > notes and loans payable → balance sheet > liabilities > notes payable > short term debt\n",
      "LongTermNotesAndLoans | [mapped.1 (0.88)] Balance Sheet > long term notes and loans → balance sheet > liabilities > long term debt\n",
      "NotesAndLoansPayableCurrent | [mapped.1 (0.85)] Balance Sheet > notes and loans payable current → balance sheet > liabilities > notes payable > short term debt\n"
     ]
    },
    {
     "name": "stderr",
     "output_type": "stream",
     "text": [
      "Processing rows: 884it [00:44, 18.92it/s]"
     ]
    },
    {
     "name": "stdout",
     "output_type": "stream",
     "text": [
      "NotesPayableToBank | [mapped.1 (0.84)] Balance Sheet > notes payable to bank → balance sheet > liabilities > notes payable > short term debt\n",
      "NotesPayableToBankCurrent | [mapped.1 (0.83)] Balance Sheet > notes payable to bank current → balance sheet > liabilities > notes payable > short term debt\n",
      "NotesPayableToBankNoncurrent | [mapped.1 (0.81)] Balance Sheet > notes payable to bank noncurrent → balance sheet > liabilities > notes payable > short term debt\n",
      "NotesPayableCurrent | [mapped.1 (0.85)] Balance Sheet > notes payable current → balance sheet > liabilities > notes payable > short term debt\n"
     ]
    },
    {
     "name": "stderr",
     "output_type": "stream",
     "text": [
      "Processing rows: 888it [00:45, 18.16it/s]"
     ]
    },
    {
     "name": "stdout",
     "output_type": "stream",
     "text": [
      "LongTermNotesPayable | [mapped.1 (0.86)] Balance Sheet > long term notes payable → balance sheet > liabilities > long term debt\n",
      "NotesPayable | [mapped.1 (0.87)] Balance Sheet > notes payable → balance sheet > liabilities > notes payable > short term debt\n",
      "NotesAndLoansReceivableGrossNoncurrent | [mapped.1 (0.83)] Balance Sheet > notes and loans receivable gross noncurrent → balance sheet > assets > notes receivable - current\n",
      "NotesReceivableNet | [mapped.1 (0.89)] Balance Sheet > notes receivable net → balance sheet > assets > notes receivable - current\n"
     ]
    },
    {
     "name": "stderr",
     "output_type": "stream",
     "text": [
      "Processing rows: 892it [00:45, 17.26it/s]"
     ]
    },
    {
     "name": "stdout",
     "output_type": "stream",
     "text": [
      "NotesAndLoansReceivableNetNoncurrent | [mapped.1 (0.84)] Balance Sheet > notes and loans receivable net noncurrent → balance sheet > assets > notes receivable - current\n",
      "NotesAndLoansReceivableGrossCurrent | [mapped.1 (0.87)] Balance Sheet > notes and loans receivable gross current → balance sheet > assets > notes receivable - current\n",
      "OfferingCostsPartnershipInterests | [mapped.1 (0.73)] Balance Sheet > offering costs partnership interests → balance sheet > shareholders' equity > preferred stock\n",
      "ImpairmentOfOilAndGasProperties | [mapped.1 (0.76)] Cash Flow Statement > impairment of oil and gas properties → cash flow > operating activities > changes in other assets\n"
     ]
    },
    {
     "name": "stderr",
     "output_type": "stream",
     "text": [
      "Processing rows: 898it [00:45, 20.07it/s]"
     ]
    },
    {
     "name": "stdout",
     "output_type": "stream",
     "text": [
      "ImpairmentOfOilAndGasProperties | [mapped.1 (0.75)] Income Statement > impairment of oil and gas properties → income statement > gain (loss) on sale of assets\n",
      "OilAndGasPropertySuccessfulEffortMethodNet | [mapped.1 (0.75)] Balance Sheet > oil and gas property successful effort method net → balance sheet > assets > property > plant > equipment\n",
      "DividendIncomeOperating | [mapped.1 (0.86)] Income Statement > dividend income operating → income statement > interest > investment income - operating\n",
      "InterestAndDividendIncomeOperating | [mapped.1 (0.91)] Income Statement > interest and dividend income operating → income statement > interest > investment income - operating\n",
      "OperatingIncomeLoss | [mapped.1 (0.84)] Income Statement > operating income loss → income statement > gain (loss) on sale of assets\n"
     ]
    },
    {
     "name": "stderr",
     "output_type": "stream",
     "text": [
      "Processing rows: 901it [00:45, 21.65it/s]"
     ]
    },
    {
     "name": "stdout",
     "output_type": "stream",
     "text": [
      "Revenues | [mapped.1 (0.88)] Income Statement > revenues → income statement > cost of revenue\n",
      "OrderFlowFees | [mapped.1 (0.78)] Income Statement > order flow fees → income statement > cost of revenue\n",
      "OriginationOfNotesReceivableFromRelatedParties | [mapped.1 (0.76)] Cash Flow Statement > origination of notes receivable from related parties → cash flow > cash interest paid\n",
      "OriginationOfLoanToPurchaseCommonStock | [mapped.1 (0.83)] Cash Flow Statement > origination of loan to purchase common stock → cash flow > financing activities > issuance of common stock\n",
      "PaymentsForOriginationAndPurchasesOfLoansHeldForSale | [mapped.1 (0.80)] Cash Flow Statement > payments for origination and purchases of loans held for sale → cash flow > investing activities > purchase of investments\n"
     ]
    },
    {
     "name": "stderr",
     "output_type": "stream",
     "text": [
      "Processing rows: 907it [00:46, 21.25it/s]"
     ]
    },
    {
     "name": "stdout",
     "output_type": "stream",
     "text": [
      "OtherBorrowings | [mapped.1 (0.83)] Balance Sheet > other borrowings → balance sheet > liabilities > other current liabilities\n",
      "PaymentsForOtherOperatingActivities | [mapped.1 (0.86)] Cash Flow Statement > payments for other operating activities → cash flow > operating activities > other non-cash items\n",
      "ProceedsFromOtherOperatingActivities | [mapped.1 (0.84)] Cash Flow Statement > proceeds from other operating activities → cash flow > financing activities > other financing activities\n",
      "PaymentsForProceedsFromOtherLoansAndLeases | [mapped.1 (0.83)] Cash Flow Statement > payments for proceeds from other loans and leases → cash flow > financing activities > other financing activities\n",
      "IncreaseDecreaseInOtherOperatingCapitalNet | [mapped.1 (0.82)] Cash Flow Statement > increase decrease in other operating capital net → cash flow > operating activities > changes in other assets\n"
     ]
    },
    {
     "name": "stderr",
     "output_type": "stream",
     "text": [
      "Processing rows: 915it [00:46, 27.39it/s]"
     ]
    },
    {
     "name": "stdout",
     "output_type": "stream",
     "text": [
      "OtherComprehensiveIncomeDefinedBenefitPlansNetUnamortizedGainLossArisingDuringPeriodNetOfTax | [mapped.1 (0.82)] Comprehensive Income > other comprehensive income defined benefit plans net unamortized gain loss arising during period net of tax → comprehensive income > unrealized derivative gains (losses)\n",
      "OtherComprehensiveIncomeDefinedBenefitPlansNetUnamortizedGainLossArisingDuringPeriodTax | [mapped.1 (0.82)] Comprehensive Income > other comprehensive income defined benefit plans net unamortized gain loss arising during period tax → comprehensive income > unrealized derivative gains (losses)\n",
      "OtherComprehensiveIncomeDefinedBenefitPlanNetPriorServiceCostsCreditArisingDuringPeriodNetOfTax | [mapped.1 (0.77)] Comprehensive Income > other comprehensive income defined benefit plan net prior service costs credit arising during period net of tax → comprehensive income > other comprehensive income\n",
      "OtherComprehensiveIncomeLossTax | [mapped.1 (0.86)] Comprehensive Income > other comprehensive income loss tax → comprehensive income > other comprehensive income\n",
      "OtherComprehensiveIncomeUnrealizedHoldingGainLossOnSecuritiesArisingDuringPeriodBeforeTax | [mapped.1 (0.89)] Comprehensive Income > other comprehensive income unrealized holding gain loss on securities arising during period before tax → comprehensive income > unrealized gain (loss) on securities\n",
      "OtherComprehensiveIncomeUnrealizedHoldingGainLossOnSecuritiesArisingDuringPeriodNetOfTax | [mapped.1 (0.87)] Comprehensive Income > other comprehensive income unrealized holding gain loss on securities arising during period net of tax → comprehensive income > unrealized gain (loss) on securities\n",
      "OtherComprehensiveIncomeUnrealizedHoldingGainLossOnSecuritiesArisingDuringPeriodTax | [mapped.1 (0.88)] Comprehensive Income > other comprehensive income unrealized holding gain loss on securities arising during period tax → comprehensive income > unrealized gain (loss) on securities\n"
     ]
    },
    {
     "name": "stderr",
     "output_type": "stream",
     "text": [
      "Processing rows: 918it [00:46, 23.61it/s]"
     ]
    },
    {
     "name": "stdout",
     "output_type": "stream",
     "text": [
      "OtherAssetsCurrent | [mapped.1 (0.96)] Balance Sheet > other assets current → balance sheet > assets > other current assets\n",
      "OtherDeferredCostsNet | [mapped.1 (0.75)] Balance Sheet > other deferred costs net → balance sheet > shareholders' equity > additional paid-in capital\n",
      "OtherForeclosedAssets | [mapped.1 (0.84)] Balance Sheet > other foreclosed assets → balance sheet > assets > goodwill\n",
      "OtherGeneralAndAdministrativeExpense | [mapped.1 (0.88)] Income Statement > other general and administrative expense → income statement > other operating expenses\n"
     ]
    },
    {
     "name": "stderr",
     "output_type": "stream",
     "text": [
      "Processing rows: 921it [00:46, 22.17it/s]"
     ]
    },
    {
     "name": "stdout",
     "output_type": "stream",
     "text": [
      "OtherInterestEarningAssets | [mapped.1 (0.86)] Balance Sheet > other interest earning assets → balance sheet > assets > other current assets\n",
      "OtherInventory | [mapped.1 (0.88)] Balance Sheet > other inventory → balance sheet > assets > inventories\n",
      "PaymentsForProceedsFromOtherInvestingActivities | [mapped.1 (0.86)] Cash Flow Statement > payments for proceeds from other investing activities → cash flow > investing activities > other investing activities\n",
      "RealEstateInvestmentsOther | [mapped.1 (0.82)] Balance Sheet > real estate investments other → balance sheet > assets > other current assets\n"
     ]
    },
    {
     "name": "stderr",
     "output_type": "stream",
     "text": [
      "Processing rows: 927it [00:47, 19.21it/s]"
     ]
    },
    {
     "name": "stdout",
     "output_type": "stream",
     "text": [
      "OtherLiabilities | [mapped.1 (0.92)] Balance Sheet > other liabilities → balance sheet > liabilities > other current liabilities\n",
      "OtherLoansPayable | [mapped.1 (0.81)] Balance Sheet > other loans payable → balance sheet > liabilities > accounts payable\n",
      "OtherLoansPayableCurrent | [mapped.1 (0.83)] Balance Sheet > other loans payable current → balance sheet > liabilities > other current liabilities\n",
      "OtherLoansPayableLongTerm | [mapped.1 (0.86)] Balance Sheet > other loans payable long term → balance sheet > liabilities > other long term liabilities\n"
     ]
    },
    {
     "name": "stderr",
     "output_type": "stream",
     "text": [
      "Processing rows: 932it [00:47, 20.63it/s]"
     ]
    },
    {
     "name": "stdout",
     "output_type": "stream",
     "text": [
      "OtherLongTermInvestments | [mapped.1 (0.91)] Balance Sheet > other long term investments → balance sheet > assets > long term investments\n",
      "ProceedsFromPaymentsForOtherFinancingActivities | [mapped.1 (0.89)] Cash Flow Statement > proceeds from payments for other financing activities → cash flow > financing activities > other financing activities\n",
      "OtherNonoperatingExpense | [mapped.1 (0.94)] Income Statement > other nonoperating expense → income statement > other non-operating income (expense)\n",
      "OtherNonoperatingIncome | [mapped.1 (0.92)] Income Statement > other nonoperating income → income statement > other non-operating income (expense)\n",
      "OtherNonoperatingIncomeExpense | [mapped.1 (0.94)] Income Statement > other nonoperating income expense → income statement > other non-operating income (expense)\n"
     ]
    },
    {
     "name": "stderr",
     "output_type": "stream",
     "text": [
      "Processing rows: 935it [00:47, 19.48it/s]"
     ]
    },
    {
     "name": "stdout",
     "output_type": "stream",
     "text": [
      "OtherNoncashIncome | [mapped.1 (0.83)] Cash Flow Statement > other noncash income → cash flow > operating activities > other non-cash items\n",
      "OtherInventoryNoncurrent | [mapped.1 (0.85)] Balance Sheet > other inventory noncurrent → balance sheet > assets > other current assets\n",
      "OtherNotesPayable | [mapped.1 (0.84)] Balance Sheet > other notes payable → balance sheet > liabilities > notes payable > short term debt\n",
      "OtherNotesPayableCurrent | [mapped.1 (0.84)] Balance Sheet > other notes payable current → balance sheet > liabilities > other current liabilities\n"
     ]
    },
    {
     "name": "stderr",
     "output_type": "stream",
     "text": [
      "Processing rows: 940it [00:47, 17.86it/s]"
     ]
    },
    {
     "name": "stdout",
     "output_type": "stream",
     "text": [
      "OtherLongTermNotesPayable | [mapped.1 (0.87)] Balance Sheet > other long term notes payable → balance sheet > liabilities > other long term liabilities\n",
      "OtherOwnershipInterestsCapitalAccount | [mapped.1 (0.82)] Balance Sheet > other ownership interests capital account → balance sheet > shareholders' equity > additional paid-in capital\n",
      "OtherOwnershipInterestsUnitsAuthorized | [mapped.1 (0.80)] Balance Sheet > other ownership interests units authorized → balance sheet > shareholders' equity > additional paid-in capital\n",
      "OtherOwnershipInterestsUnitsIssued | [mapped.1 (0.80)] Balance Sheet > other ownership interests units issued → balance sheet > shareholders' equity > common stock\n"
     ]
    },
    {
     "name": "stderr",
     "output_type": "stream",
     "text": [
      "Processing rows: 942it [00:47, 17.51it/s]"
     ]
    },
    {
     "name": "stdout",
     "output_type": "stream",
     "text": [
      "OtherOwnershipInterestsUnitsOutstanding | [mapped.1 (0.83)] Balance Sheet > other ownership interests units outstanding → balance sheet > shareholders' equity > common stock\n",
      "OtherPolicyholderFunds | [mapped.1 (0.76)] Balance Sheet > other policyholder funds → balance sheet > shareholders' equity > accumulated other comprehensive income\n",
      "IncreaseDecreaseInOtherPolicyholderFunds | [mapped.1 (0.72)] Cash Flow Statement > increase decrease in other policyholder funds → cash flow > investing activities > other investing activities\n",
      "OtherPostretirementBenefitsPayments | [mapped.1 (0.75)] Cash Flow Statement > other postretirement benefits payments → cash flow > cash interest paid\n"
     ]
    },
    {
     "name": "stderr",
     "output_type": "stream",
     "text": [
      "Processing rows: 947it [00:48, 18.11it/s]"
     ]
    },
    {
     "name": "stdout",
     "output_type": "stream",
     "text": [
      "OtherPrepaidExpenseCurrent | [mapped.1 (0.87)] Balance Sheet > other prepaid expense current → balance sheet > assets > prepaid expenses\n",
      "PaymentsToAcquireOtherPropertyPlantAndEquipment | [mapped.1 (0.79)] Cash Flow Statement > payments to acquire other property plant and equipment → cash flow > investing activities > acquisitions\n",
      "OtherRealEstate | [mapped.1 (0.83)] Balance Sheet > other real estate → balance sheet > assets > other current assets\n",
      "ResearchAndDevelopmentExpenseSoftwareExcludingAcquiredInProcessCost | [mapped.1 (0.84)] Income Statement > research and development expense software excluding acquired in process cost → income statement > research & development\n"
     ]
    },
    {
     "name": "stderr",
     "output_type": "stream",
     "text": [
      "Processing rows: 952it [00:48, 19.48it/s]"
     ]
    },
    {
     "name": "stdout",
     "output_type": "stream",
     "text": [
      "OtherRestrictedAssetsCurrent | [mapped.1 (0.92)] Balance Sheet > other restricted assets current → balance sheet > assets > restricted cash - current\n",
      "OtherRestructuringCosts | [mapped.1 (0.80)] Cash Flow Statement > other restructuring costs → cash flow > operating activities > changes in other liabilities\n",
      "OtherRestructuringCosts | [mapped.1 (0.79)] Income Statement > other restructuring costs → income statement > other operating expenses\n",
      "OtherSellingGeneralAndAdministrativeExpense | [mapped.1 (0.90)] Income Statement > other selling general and administrative expense → income statement > selling > general > admin expenses\n",
      "OtherShortTermBorrowings | [mapped.1 (0.83)] Balance Sheet > other short term borrowings → balance sheet > liabilities > notes payable > short term debt\n"
     ]
    },
    {
     "name": "stderr",
     "output_type": "stream",
     "text": [
      "Processing rows: 956it [00:48, 18.94it/s]"
     ]
    },
    {
     "name": "stdout",
     "output_type": "stream",
     "text": [
      "OtherShortTermInvestments | [mapped.1 (0.91)] Balance Sheet > other short term investments → balance sheet > assets > short term investments\n",
      "OtherSignificantNoncashTransactionConsiderationGiven | [mapped.1 (0.84)] Cash Flow Statement > other significant noncash transaction consideration given → cash flow > operating activities > other non-cash items\n",
      "OtherSignificantNoncashTransactionConsiderationReceived | [mapped.1 (0.83)] Cash Flow Statement > other significant noncash transaction consideration received → cash flow > operating activities > other non-cash items\n",
      "PartnersCapital | [mapped.1 (0.76)] Balance Sheet > partners capital → balance sheet > shareholders' equity > preferred stock\n"
     ]
    },
    {
     "name": "stderr",
     "output_type": "stream",
     "text": [
      "Processing rows: 960it [00:48, 18.45it/s]"
     ]
    },
    {
     "name": "stdout",
     "output_type": "stream",
     "text": [
      "PartnersCapitalAllocatedForIncomeTaxAndOtherWithdrawals | [mapped.1 (0.76)] Balance Sheet > partners capital allocated for income tax and other withdrawals → balance sheet > shareholders' equity > additional paid-in capital\n",
      "OtherPartnersCapital | [mapped.1 (0.83)] Balance Sheet > other partners capital → balance sheet > shareholders' equity > additional paid-in capital\n",
      "ProceedsFromPartnershipContribution | [mapped.1 (0.76)] Cash Flow Statement > proceeds from partnership contribution → cash flow > investing activities > proceeds from sale > maturity of investments\n",
      "PolicyholderDividendsPayable | [mapped.1 (0.78)] Balance Sheet > policyholder dividends payable → balance sheet > shareholders' equity > redeemable preferred stock\n"
     ]
    },
    {
     "name": "stderr",
     "output_type": "stream",
     "text": [
      "Processing rows: 965it [00:49, 19.27it/s]"
     ]
    },
    {
     "name": "stdout",
     "output_type": "stream",
     "text": [
      "PaymentsOfDividendsCommonStock | [mapped.1 (0.85)] Cash Flow Statement > payments of dividends common stock → cash flow > financing activities > dividends paid - common\n",
      "PaymentsOfDividends | [mapped.1 (0.83)] Cash Flow Statement > payments of dividends → cash flow > financing activities > dividends paid - common\n",
      "PaymentsOfDividendsMinorityInterest | [mapped.1 (0.80)] Cash Flow Statement > payments of dividends minority interest → cash flow > financing activities > dividends paid - common\n",
      "PaymentsOfDividendsPreferredStockAndPreferenceStock | [mapped.1 (0.80)] Cash Flow Statement > payments of dividends preferred stock and preference stock → cash flow > financing activities > dividends paid - common\n",
      "PaymentsForRepurchaseOfEquity | [mapped.1 (0.84)] Cash Flow Statement > payments for repurchase of equity → cash flow > financing activities > repurchase > retirement of common stock\n"
     ]
    },
    {
     "name": "stderr",
     "output_type": "stream",
     "text": [
      "Processing rows: 971it [00:49, 21.14it/s]"
     ]
    },
    {
     "name": "stdout",
     "output_type": "stream",
     "text": [
      "RepaymentsOfFederalHomeLoanBankBorrowings | [mapped.1 (0.75)] Cash Flow Statement > repayments of federal home loan bank borrowings → cash flow > financing activities > other financing activities\n",
      "PaymentsForAdvanceToAffiliate | [mapped.1 (0.75)] Cash Flow Statement > payments for advance to affiliate → cash flow > financing activities > other financing activities\n",
      "PaymentsForOriginationOfMortgageLoansHeldForSale | [mapped.1 (0.77)] Cash Flow Statement > payments for origination of mortgage loans held for sale → cash flow > investing activities > proceeds from sale > maturity of investments\n",
      "PaymentsForLegalSettlements | [mapped.1 (0.78)] Cash Flow Statement > payments for legal settlements → cash flow > cash interest paid\n",
      "RepaymentsOfMediumTermNotes | [mapped.1 (0.75)] Cash Flow Statement > repayments of medium term notes → cash flow > financing activities > long term debt, net\n"
     ]
    },
    {
     "name": "stderr",
     "output_type": "stream",
     "text": [
      "Processing rows: 974it [00:49, 20.98it/s]"
     ]
    },
    {
     "name": "stdout",
     "output_type": "stream",
     "text": [
      "PaymentsToExploreAndDevelopOilAndGasProperties | [mapped.1 (0.75)] Cash Flow Statement > payments to explore and develop oil and gas properties → cash flow > investing activities > purchase of investments\n",
      "PaymentsForRepurchaseOfOtherEquity | [mapped.1 (0.83)] Cash Flow Statement > payments for repurchase of other equity → cash flow > financing activities > repurchase > retirement of common stock\n",
      "PensionContributions | [mapped.1 (0.76)] Cash Flow Statement > pension contributions → cash flow > investing activities > capital expenditures\n",
      "FinancialInstrumentsSoldNotYetPurchasedPhysicalCommoditiesSold | [mapped.1 (0.74)] Balance Sheet > financial instruments sold not yet purchased physical commodities sold → balance sheet > liabilities > accounts payable\n"
     ]
    },
    {
     "name": "stderr",
     "output_type": "stream",
     "text": [
      "Processing rows: 977it [00:49, 19.17it/s]"
     ]
    },
    {
     "name": "stdout",
     "output_type": "stream",
     "text": [
      "LongTermPollutionControlBond | [mapped.1 (0.76)] Balance Sheet > long term pollution control bond → balance sheet > liabilities > long term debt\n",
      "InvestmentsInPowerAndDistributionProjects | [mapped.1 (0.71)] Balance Sheet > investments in power and distribution projects → balance sheet > assets > property > plant > equipment\n",
      "PreOpeningCosts | [mapped.1 (0.80)] Income Statement > pre opening costs → income statement > cost of revenue\n",
      "PreferredStockShareSubscriptions | [mapped.1 (0.85)] Balance Sheet > preferred stock share subscriptions → balance sheet > shareholders' equity > preferred stock\n"
     ]
    },
    {
     "name": "stderr",
     "output_type": "stream",
     "text": [
      "Processing rows: 982it [00:49, 19.23it/s]"
     ]
    },
    {
     "name": "stdout",
     "output_type": "stream",
     "text": [
      "PreferredStockSharesAuthorized | [mapped.1 (0.87)] Balance Sheet > preferred stock shares authorized → balance sheet > shareholders' equity > redeemable preferred stock\n",
      "PreferredStockSharesIssued | [mapped.1 (0.88)] Balance Sheet > preferred stock shares issued → balance sheet > shareholders' equity > preferred stock\n",
      "PreferredStockSharesOutstanding | [mapped.1 (0.89)] Equity Statement > preferred stock shares outstanding → equity statement > preferred dividends\n",
      "PreferredStockSharesOutstanding | [mapped.1 (0.89)] Balance Sheet > preferred stock shares outstanding → balance sheet > shareholders' equity > redeemable preferred stock\n"
     ]
    },
    {
     "name": "stderr",
     "output_type": "stream",
     "text": [
      "Processing rows: 986it [00:50, 19.22it/s]"
     ]
    },
    {
     "name": "stdout",
     "output_type": "stream",
     "text": [
      "OtherPreferredStockDividendsAndAdjustments | [mapped.1 (0.90)] Income Statement > other preferred stock dividends and adjustments → income statement > preferred dividends\n",
      "PreferredStockDividendsAndOtherAdjustments | [mapped.1 (0.91)] Income Statement > preferred stock dividends and other adjustments → income statement > preferred dividends\n",
      "PreferredStockParOrStatedValuePerShare | [mapped.1 (0.87)] Balance Sheet > preferred stock par or stated value per share → balance sheet > shareholders' equity > preferred stock\n",
      "PreferredUnitsPreferredPartnersCapitalAccounts | [mapped.1 (0.81)] Balance Sheet > preferred units preferred partners capital accounts → balance sheet > shareholders' equity > preferred stock\n"
     ]
    },
    {
     "name": "stderr",
     "output_type": "stream",
     "text": [
      "Processing rows: 990it [00:50, 17.92it/s]"
     ]
    },
    {
     "name": "stdout",
     "output_type": "stream",
     "text": [
      "PreferredUnitsAuthorized | [mapped.1 (0.80)] Balance Sheet > preferred units authorized → balance sheet > shareholders' equity > redeemable preferred stock\n",
      "PreferredUnitsIssued | [mapped.1 (0.83)] Balance Sheet > preferred units issued → balance sheet > shareholders' equity > redeemable preferred stock\n",
      "PreferredUnitsOutstanding | [mapped.1 (0.83)] Balance Sheet > preferred units outstanding → balance sheet > shareholders' equity > redeemable preferred stock\n",
      "AllowanceForDoubtfulAccountsPremiumsAndOtherReceivables | [mapped.1 (0.74)] Balance Sheet > allowance for doubtful accounts premiums and other receivables → balance sheet > shareholders' equity > other equity adjustments\n"
     ]
    },
    {
     "name": "stderr",
     "output_type": "stream",
     "text": [
      "Processing rows: 994it [00:50, 15.15it/s]"
     ]
    },
    {
     "name": "stdout",
     "output_type": "stream",
     "text": [
      "PremiumsReceivableAllowanceForDoubtfulAccounts | [unmapped] Balance Sheet > premiums receivable allowance for doubtful accounts\n",
      "PremiumsReceivableAllowanceForDoubtfulAccounts | [mapped.2 (0.72)] Balance Sheet > InsuranceDisclosureTextBlock > PremiumsReceivableNote > PremiumsReceivableAllowanceForDoubtfulAccountsRollForward > PremiumsReceivableAllowanceForDoubtfulAccounts → balance sheet > shareholders' equity > accumulated other comprehensive income\n",
      "PremiumsReceivableAtCarryingValue | [mapped.1 (0.77)] Balance Sheet > premiums receivable at carrying value → balance sheet > assets > accounts receivable\n",
      "IncreaseDecreaseInPremiumsReceivable | [mapped.1 (0.78)] Cash Flow Statement > increase decrease in premiums receivable → cash flow > operating activities > changes in accounts receivable\n"
     ]
    },
    {
     "name": "stderr",
     "output_type": "stream",
     "text": [
      "Processing rows: 998it [00:50, 15.71it/s]"
     ]
    },
    {
     "name": "stdout",
     "output_type": "stream",
     "text": [
      "PremiumsReceivableGross | [mapped.1 (0.78)] Balance Sheet > premiums receivable gross → balance sheet > assets > accounts receivable\n",
      "PrepaidAdvertising | [mapped.1 (0.83)] Balance Sheet > prepaid advertising → balance sheet > assets > prepaid expenses\n",
      "PrepaidExpenseOtherNoncurrent | [mapped.1 (0.87)] Balance Sheet > prepaid expense other noncurrent → balance sheet > assets > prepaid expenses\n",
      "PrepaidExpenseCurrent | [mapped.1 (0.88)] Balance Sheet > prepaid expense current → balance sheet > assets > prepaid expenses\n"
     ]
    },
    {
     "name": "stderr",
     "output_type": "stream",
     "text": [
      "Processing rows: 1002it [00:51, 16.01it/s]"
     ]
    },
    {
     "name": "stdout",
     "output_type": "stream",
     "text": [
      "PrepaidExpenseNoncurrent | [mapped.1 (0.86)] Balance Sheet > prepaid expense noncurrent → balance sheet > assets > prepaid expenses\n",
      "PrepaidTaxes | [mapped.1 (0.85)] Balance Sheet > prepaid taxes → balance sheet > assets > prepaid expenses\n",
      "PrepaidInsurance | [mapped.1 (0.84)] Balance Sheet > prepaid insurance → balance sheet > assets > prepaid expenses\n",
      "PrepaidRoyalties | [mapped.1 (0.82)] Balance Sheet > prepaid royalties → balance sheet > assets > prepaid expenses\n"
     ]
    },
    {
     "name": "stderr",
     "output_type": "stream",
     "text": [
      "Processing rows: 1004it [00:51, 16.16it/s]"
     ]
    },
    {
     "name": "stdout",
     "output_type": "stream",
     "text": [
      "PrepaidMineralRoyaltiesNoncurrent | [mapped.1 (0.76)] Balance Sheet > prepaid mineral royalties noncurrent → balance sheet > assets > prepaid expenses\n",
      "PrepaidReinsurancePremiums | [mapped.1 (0.77)] Balance Sheet > prepaid reinsurance premiums → balance sheet > assets > prepaid expenses\n",
      "IncreaseDecreaseInPrepaidReinsurancePremiums | [unmapped] Cash Flow Statement > increase decrease in prepaid reinsurance premiums\n",
      "IncreaseDecreaseInPrepaidReinsurancePremiums | [mapped.2 (0.73)] Cash Flow Statement > StatementTable > StatementLineItems > IncreaseDecreaseInPrepaidReinsurancePremiums → cash flow > operating activities > changes in other liabilities\n"
     ]
    },
    {
     "name": "stderr",
     "output_type": "stream",
     "text": [
      "Processing rows: 1009it [00:51, 17.46it/s]"
     ]
    },
    {
     "name": "stdout",
     "output_type": "stream",
     "text": [
      "PrepaidRent | [mapped.1 (0.84)] Balance Sheet > prepaid rent → balance sheet > assets > prepaid expenses\n",
      "ProceedsFromPrincipalRepaymentsOnLoansAndLeasesHeldForInvestment | [mapped.1 (0.80)] Cash Flow Statement > proceeds from principal repayments on loans and leases held for investment → cash flow > investing activities > proceeds from sale > maturity of investments\n",
      "ProceedsFromAdvancesForConstruction | [mapped.1 (0.78)] Cash Flow Statement > proceeds from advances for construction → cash flow > financing activities > other financing activities\n",
      "ProceedsFromSaleAndMaturityOfAvailableForSaleSecurities | [mapped.1 (0.88)] Cash Flow Statement > proceeds from sale and maturity of available for sale securities → cash flow > investing activities > proceeds from sale > maturity of investments\n",
      "ProceedsFromBankDebt | [mapped.1 (0.80)] Cash Flow Statement > proceeds from bank debt → cash flow > financing activities > short term debt, net\n"
     ]
    },
    {
     "name": "stderr",
     "output_type": "stream",
     "text": [
      "Processing rows: 1015it [00:51, 19.75it/s]"
     ]
    },
    {
     "name": "stdout",
     "output_type": "stream",
     "text": [
      "ProceedsFromDivestitureOfInterestInConsolidatedSubsidiaries | [mapped.1 (0.78)] Cash Flow Statement > proceeds from divestiture of interest in consolidated subsidiaries → cash flow > investing activities > proceeds from sale > maturity of investments\n",
      "ProceedsFromConstructionLoansPayable | [mapped.1 (0.80)] Cash Flow Statement > proceeds from construction loans payable → cash flow > cash interest paid\n",
      "ProceedsFromContributionInAidOfConstruction | [mapped.1 (0.76)] Cash Flow Statement > proceeds from contribution in aid of construction → cash flow > financing activities > other financing activities\n",
      "ProceedsFromConvertibleDebt | [mapped.1 (0.79)] Cash Flow Statement > proceeds from convertible debt → cash flow > financing activities > short term debt, net\n",
      "ProceedsFromFederalHomeLoanBankBorrowings | [mapped.1 (0.78)] Cash Flow Statement > proceeds from federal home loan bank borrowings → cash flow > financing activities > other financing activities\n"
     ]
    },
    {
     "name": "stderr",
     "output_type": "stream",
     "text": [
      "Processing rows: 1020it [00:52, 20.84it/s]"
     ]
    },
    {
     "name": "stdout",
     "output_type": "stream",
     "text": [
      "ProceedsFromIssuanceOfFirstMortgageBond | [mapped.1 (0.78)] Cash Flow Statement > proceeds from issuance of first mortgage bond → cash flow > financing activities > issuance of common stock\n",
      "ProceedsFromCollectionOfAdvanceToAffiliate | [mapped.1 (0.76)] Cash Flow Statement > proceeds from collection of advance to affiliate → cash flow > investing activities > acquisitions\n",
      "ProceedsFromContributionsFromParent | [mapped.1 (0.79)] Cash Flow Statement > proceeds from contributions from parent → cash flow > investing activities > proceeds from sale > maturity of investments\n",
      "ProceedsFromDivestitureOfBusinessesNetOfCashDivested | [mapped.1 (0.78)] Cash Flow Statement > proceeds from divestiture of businesses net of cash divested → cash flow > investing activities > proceeds from sale > maturity of investments\n",
      "ProceedsFromDivestitureOfInterestInSubsidiariesAndAffiliates | [mapped.1 (0.79)] Cash Flow Statement > proceeds from divestiture of interest in subsidiaries and affiliates → cash flow > investing activities > proceeds from sale > maturity of investments\n"
     ]
    },
    {
     "name": "stderr",
     "output_type": "stream",
     "text": [
      "Processing rows: 1023it [00:52, 21.68it/s]"
     ]
    },
    {
     "name": "stdout",
     "output_type": "stream",
     "text": [
      "ProceedsFromOtherEquity | [mapped.1 (0.82)] Cash Flow Statement > proceeds from other equity → cash flow > investing activities > proceeds from sale > maturity of investments\n",
      "ProceedsFromRepaymentOfLoansToPurchaseCommonStock | [mapped.1 (0.85)] Cash Flow Statement > proceeds from repayment of loans to purchase common stock → cash flow > financing activities > issuance of common stock\n",
      "ProceedsFromSaleAndMaturityOfHeldToMaturitySecurities | [mapped.1 (0.89)] Cash Flow Statement > proceeds from sale and maturity of held to maturity securities → cash flow > investing activities > proceeds from sale > maturity of investments\n",
      "ProceedsFromInsuranceSettlementInvestingActivities | [mapped.1 (0.80)] Cash Flow Statement > proceeds from insurance settlement investing activities → cash flow > investing activities > proceeds from sale > maturity of investments\n",
      "ProceedsFromAnnuitiesAndInvestmentCertificates | [mapped.1 (0.80)] Cash Flow Statement > proceeds from annuities and investment certificates → cash flow > investing activities > proceeds from sale > maturity of investments\n"
     ]
    },
    {
     "name": "stderr",
     "output_type": "stream",
     "text": [
      "Processing rows: 1029it [00:52, 21.24it/s]"
     ]
    },
    {
     "name": "stdout",
     "output_type": "stream",
     "text": [
      "ProceedsFromIssuanceOfCommonLimitedPartnersUnits | [mapped.1 (0.84)] Cash Flow Statement > proceeds from issuance of common limited partners units → cash flow > financing activities > issuance of common stock\n",
      "ProceedsFromIssuanceOfCommonStock | [mapped.1 (0.89)] Cash Flow Statement > proceeds from issuance of common stock → cash flow > financing activities > issuance of common stock\n",
      "ProceedsFromIssuanceOfMandatoryRedeemableCapitalSecurities | [mapped.1 (0.79)] Cash Flow Statement > proceeds from issuance of mandatory redeemable capital securities → cash flow > financing activities > issuance of common stock\n",
      "ProceedsFromIssuanceOfConvertiblePreferredStock | [mapped.1 (0.81)] Cash Flow Statement > proceeds from issuance of convertible preferred stock → cash flow > financing activities > issuance of common stock\n",
      "ProceedsFromIssuanceOrSaleOfEquity | [mapped.1 (0.85)] Cash Flow Statement > proceeds from issuance or sale of equity → cash flow > investing activities > proceeds from sale > maturity of investments\n"
     ]
    },
    {
     "name": "stderr",
     "output_type": "stream",
     "text": [
      "Processing rows: 1035it [00:52, 21.56it/s]"
     ]
    },
    {
     "name": "stdout",
     "output_type": "stream",
     "text": [
      "ProceedsFromIssuanceOfFinancialServicesObligations | [mapped.1 (0.81)] Cash Flow Statement > proceeds from issuance of financial services obligations → cash flow > investing activities > proceeds from sale > maturity of investments\n",
      "ProceedsFromIssuanceInitialPublicOffering | [mapped.1 (0.80)] Cash Flow Statement > proceeds from issuance initial public offering → cash flow > financing activities > issuance of common stock\n",
      "ProceedsFromIssuanceOfMediumTermNotes | [mapped.1 (0.78)] Cash Flow Statement > proceeds from issuance of medium term notes → cash flow > investing activities > proceeds from sale > maturity of investments\n",
      "ProceedsFromMinorityShareholders | [mapped.1 (0.78)] Cash Flow Statement > proceeds from minority shareholders → cash flow > investing activities > proceeds from sale > maturity of investments\n",
      "ProceedsFromIssuanceOfCommercialPaper | [mapped.1 (0.80)] Cash Flow Statement > proceeds from issuance of commercial paper → cash flow > financing activities > issuance of common stock\n"
     ]
    },
    {
     "name": "stderr",
     "output_type": "stream",
     "text": [
      "Processing rows: 1038it [00:52, 21.08it/s]"
     ]
    },
    {
     "name": "stdout",
     "output_type": "stream",
     "text": [
      "ProceedsFromIssuanceOfOtherLongTermDebt | [mapped.1 (0.85)] Cash Flow Statement > proceeds from issuance of other long term debt → cash flow > financing activities > long term debt, net\n",
      "ProceedsFromIssuanceOfPreferredLimitedPartnersUnits | [mapped.1 (0.80)] Cash Flow Statement > proceeds from issuance of preferred limited partners units → cash flow > financing activities > issuance of common stock\n",
      "ProceedsFromIssuanceOfPreferredStockAndPreferenceStock | [mapped.1 (0.83)] Cash Flow Statement > proceeds from issuance of preferred stock and preference stock → cash flow > financing activities > issuance of common stock\n",
      "ProceedsFromIssuanceOfPrivatePlacement | [mapped.1 (0.81)] Cash Flow Statement > proceeds from issuance of private placement → cash flow > investing activities > proceeds from sale > maturity of investments\n",
      "ProceedsFromIssuanceOfRedeemableConvertiblePreferredStock | [mapped.1 (0.80)] Cash Flow Statement > proceeds from issuance of redeemable convertible preferred stock → cash flow > financing activities > issuance of common stock\n"
     ]
    },
    {
     "name": "stderr",
     "output_type": "stream",
     "text": [
      "Processing rows: 1044it [00:53, 21.87it/s]"
     ]
    },
    {
     "name": "stdout",
     "output_type": "stream",
     "text": [
      "ProceedsFromIssuanceOfRedeemablePreferredStock | [mapped.1 (0.82)] Cash Flow Statement > proceeds from issuance of redeemable preferred stock → cash flow > financing activities > issuance of common stock\n",
      "ProceedsFromSaleOfTreasuryStock | [mapped.1 (0.81)] Cash Flow Statement > proceeds from sale of treasury stock → cash flow > investing activities > proceeds from sale > maturity of investments\n",
      "ProceedsFromIssuanceOfWarrants | [mapped.1 (0.79)] Cash Flow Statement > proceeds from issuance of warrants → cash flow > financing activities > issuance of common stock\n",
      "ProceedsFromLifeInsurancePolicies | [mapped.1 (0.77)] Cash Flow Statement > proceeds from life insurance policies → cash flow > investing activities > proceeds from sale > maturity of investments\n",
      "ProceedsFromLinesOfCredit | [mapped.1 (0.81)] Cash Flow Statement > proceeds from lines of credit → cash flow > financing activities > other financing activities\n"
     ]
    },
    {
     "name": "stderr",
     "output_type": "stream",
     "text": [
      "Processing rows: 1047it [00:53, 21.20it/s]"
     ]
    },
    {
     "name": "stdout",
     "output_type": "stream",
     "text": [
      "ProceedsFromLongTermLinesOfCredit | [mapped.1 (0.86)] Cash Flow Statement > proceeds from long term lines of credit → cash flow > financing activities > long term debt, net\n",
      "ProceedsOfOtherLoansAndLeasesHeldForInvestment | [mapped.1 (0.82)] Cash Flow Statement > proceeds of other loans and leases held for investment → cash flow > financing activities > other financing activities\n",
      "ProceedsFromIssuanceOfLongTermDebt | [mapped.1 (0.86)] Cash Flow Statement > proceeds from issuance of long term debt → cash flow > financing activities > long term debt, net\n",
      "ProceedsFromIssuanceOfLongTermDebtAndCapitalSecuritiesNet | [mapped.1 (0.86)] Cash Flow Statement > proceeds from issuance of long term debt and capital securities net → cash flow > financing activities > long term debt, net\n"
     ]
    },
    {
     "name": "stderr",
     "output_type": "stream",
     "text": [
      "Processing rows: 1053it [00:53, 21.69it/s]"
     ]
    },
    {
     "name": "stdout",
     "output_type": "stream",
     "text": [
      "ProceedsFromSaleAndMaturityOfMarketableSecurities | [mapped.1 (0.88)] Cash Flow Statement > proceeds from sale and maturity of marketable securities → cash flow > investing activities > proceeds from sale > maturity of investments\n",
      "ProceedsFromMaturitiesPrepaymentsAndCallsOfAvailableForSaleSecurities | [mapped.1 (0.83)] Cash Flow Statement > proceeds from maturities prepayments and calls of available for sale securities → cash flow > investing activities > proceeds from sale > maturity of investments\n",
      "ProceedsFromMaturitiesPrepaymentsAndCallsOfHeldToMaturitySecurities | [mapped.1 (0.85)] Cash Flow Statement > proceeds from maturities prepayments and calls of held to maturity securities → cash flow > investing activities > proceeds from sale > maturity of investments\n",
      "ProceedsFromMaturitiesPrepaymentsAndCallsOfMortgageBackedSecuritiesMBS | [mapped.1 (0.78)] Cash Flow Statement > proceeds from maturities prepayments and calls of mortgage backed securities mbs → cash flow > investing activities > proceeds from sale > maturity of investments\n",
      "ProceedsFromNotesPayable | [mapped.1 (0.82)] Cash Flow Statement > proceeds from notes payable → cash flow > cash interest paid\n"
     ]
    },
    {
     "name": "stderr",
     "output_type": "stream",
     "text": [
      "Processing rows: 1059it [00:53, 21.65it/s]"
     ]
    },
    {
     "name": "stdout",
     "output_type": "stream",
     "text": [
      "ProceedsFromOtherDebt | [mapped.1 (0.81)] Cash Flow Statement > proceeds from other debt → cash flow > financing activities > other financing activities\n",
      "ProceedsFromSaleAndMaturityOfOtherInvestments | [mapped.1 (0.92)] Cash Flow Statement > proceeds from sale and maturity of other investments → cash flow > investing activities > proceeds from sale > maturity of investments\n",
      "ProceedsFromPaymentsToMinorityShareholders | [mapped.1 (0.78)] Cash Flow Statement > proceeds from payments to minority shareholders → cash flow > investing activities > proceeds from sale > maturity of investments\n",
      "ProceedsFromRepurchaseOfTrustPreferredSecurities | [mapped.1 (0.81)] Cash Flow Statement > proceeds from repurchase of trust preferred securities → cash flow > financing activities > repurchase > retirement of common stock\n",
      "ProceedsFromPollutionControlBond | [mapped.1 (0.76)] Cash Flow Statement > proceeds from pollution control bond → cash flow > cash interest paid\n"
     ]
    },
    {
     "name": "stderr",
     "output_type": "stream",
     "text": [
      "Processing rows: 1062it [00:54, 21.90it/s]"
     ]
    },
    {
     "name": "stdout",
     "output_type": "stream",
     "text": [
      "ProceedsFromMaturitiesPrepaymentsAndCallsOfOtherInvestments | [mapped.1 (0.84)] Cash Flow Statement > proceeds from maturities prepayments and calls of other investments → cash flow > investing activities > proceeds from sale > maturity of investments\n",
      "ProceedsFromCollectionOfNotesReceivable | [mapped.1 (0.77)] Cash Flow Statement > proceeds from collection of notes receivable → cash flow > investing activities > proceeds from sale > maturity of investments\n",
      "ProceedsFromRelatedPartyDebt | [mapped.1 (0.79)] Cash Flow Statement > proceeds from related party debt → cash flow > financing activities > long term debt, net\n",
      "ProceedsFromRepurchaseOfRedeemablePreferredStock | [mapped.1 (0.84)] Cash Flow Statement > proceeds from repurchase of redeemable preferred stock → cash flow > financing activities > repurchase > retirement of common stock\n",
      "ProceedsFromDivestitureOfBusinesses | [mapped.1 (0.81)] Cash Flow Statement > proceeds from divestiture of businesses → cash flow > investing activities > proceeds from sale > maturity of investments\n"
     ]
    },
    {
     "name": "stderr",
     "output_type": "stream",
     "text": [
      "Processing rows: 1068it [00:54, 22.02it/s]"
     ]
    },
    {
     "name": "stdout",
     "output_type": "stream",
     "text": [
      "ProceedsFromDecommissioningFund | [mapped.1 (0.79)] Cash Flow Statement > proceeds from decommissioning fund → cash flow > investing activities > proceeds from sale > maturity of investments\n",
      "ProceedsFromSaleOfProductiveAssets | [mapped.1 (0.85)] Cash Flow Statement > proceeds from sale of productive assets → cash flow > investing activities > proceeds from sale > maturity of investments\n",
      "ProceedsFromSaleOfEquityMethodInvestments | [mapped.1 (0.85)] Cash Flow Statement > proceeds from sale of equity method investments → cash flow > investing activities > proceeds from sale > maturity of investments\n",
      "ProceedsFromSaleOfInsuranceInvestments | [mapped.1 (0.82)] Cash Flow Statement > proceeds from sale of insurance investments → cash flow > investing activities > proceeds from sale > maturity of investments\n",
      "ProceedsFromSaleOfHeldToMaturitySecurities | [mapped.1 (0.87)] Cash Flow Statement > proceeds from sale of held to maturity securities → cash flow > investing activities > proceeds from sale > maturity of investments\n"
     ]
    },
    {
     "name": "stderr",
     "output_type": "stream",
     "text": [
      "Processing rows: 1074it [00:54, 21.68it/s]"
     ]
    },
    {
     "name": "stdout",
     "output_type": "stream",
     "text": [
      "ProceedsFromSaleOfIntangibleAssets | [mapped.1 (0.82)] Cash Flow Statement > proceeds from sale of intangible assets → cash flow > investing activities > proceeds from sale > maturity of investments\n",
      "ProceedsFromDivestitureOfInterestInJointVenture | [mapped.1 (0.79)] Cash Flow Statement > proceeds from divestiture of interest in joint venture → cash flow > investing activities > proceeds from sale > maturity of investments\n",
      "ProceedsFromSaleOfLeaseReceivables | [mapped.1 (0.80)] Cash Flow Statement > proceeds from sale of lease receivables → cash flow > investing activities > proceeds from sale > maturity of investments\n",
      "ProceedsFromSaleOfLoansReceivable | [mapped.1 (0.80)] Cash Flow Statement > proceeds from sale of loans receivable → cash flow > investing activities > proceeds from sale > maturity of investments\n",
      "ProceedsFromSaleAndCollectionOfMortgageNotesReceivable | [mapped.1 (0.80)] Cash Flow Statement > proceeds from sale and collection of mortgage notes receivable → cash flow > investing activities > proceeds from sale > maturity of investments\n"
     ]
    },
    {
     "name": "stderr",
     "output_type": "stream",
     "text": [
      "Processing rows: 1077it [00:54, 21.54it/s]"
     ]
    },
    {
     "name": "stdout",
     "output_type": "stream",
     "text": [
      "ProceedsFromSaleOfOilAndGasPropertyAndEquipment | [mapped.1 (0.82)] Cash Flow Statement > proceeds from sale of oil and gas property and equipment → cash flow > investing activities > proceeds from sale > maturity of investments\n",
      "ProceedsFromSaleOfOtherProductiveAssets | [mapped.1 (0.85)] Cash Flow Statement > proceeds from sale of other productive assets → cash flow > investing activities > proceeds from sale > maturity of investments\n",
      "ProceedsFromSaleOfOtherReceivables | [mapped.1 (0.81)] Cash Flow Statement > proceeds from sale of other receivables → cash flow > investing activities > proceeds from sale > maturity of investments\n",
      "ProceedsFromSaleOfOtherInvestments | [mapped.1 (0.87)] Cash Flow Statement > proceeds from sale of other investments → cash flow > investing activities > proceeds from sale > maturity of investments\n",
      "ProceedsFromSaleOfInvestmentProjects | [mapped.1 (0.85)] Cash Flow Statement > proceeds from sale of investment projects → cash flow > investing activities > proceeds from sale > maturity of investments\n"
     ]
    },
    {
     "name": "stderr",
     "output_type": "stream",
     "text": [
      "Processing rows: 1083it [00:55, 21.04it/s]"
     ]
    },
    {
     "name": "stdout",
     "output_type": "stream",
     "text": [
      "ProceedsFromSaleOfPropertyHeldForSale | [mapped.1 (0.83)] Cash Flow Statement > proceeds from sale of property held for sale → cash flow > investing activities > proceeds from sale > maturity of investments\n",
      "ProceedsFromSaleOfPropertyPlantAndEquipment | [mapped.1 (0.82)] Cash Flow Statement > proceeds from sale of property plant and equipment → cash flow > investing activities > proceeds from sale > maturity of investments\n",
      "ProceedsFromSaleOfRealEstate | [mapped.1 (0.83)] Cash Flow Statement > proceeds from sale of real estate → cash flow > investing activities > proceeds from sale > maturity of investments\n",
      "ProceedsFromDivestitureOfRealEstatePartnership | [mapped.1 (0.78)] Cash Flow Statement > proceeds from divestiture of real estate partnership → cash flow > investing activities > proceeds from sale > maturity of investments\n",
      "ProceedsFromSaleAndCollectionOfReceivables | [mapped.1 (0.83)] Cash Flow Statement > proceeds from sale and collection of receivables → cash flow > investing activities > proceeds from sale > maturity of investments\n"
     ]
    },
    {
     "name": "stderr",
     "output_type": "stream",
     "text": [
      "Processing rows: 1089it [00:55, 21.33it/s]"
     ]
    },
    {
     "name": "stdout",
     "output_type": "stream",
     "text": [
      "ProceedsFromSaleOfRestrictedInvestments | [mapped.1 (0.84)] Cash Flow Statement > proceeds from sale of restricted investments → cash flow > investing activities > proceeds from sale > maturity of investments\n",
      "ProceedsFromCollectionOfRetainedInterestInSecuritizedReceivables | [mapped.1 (0.76)] Cash Flow Statement > proceeds from collection of retained interest in securitized receivables → cash flow > cash interest paid\n",
      "ProceedsFromSaleOfShortTermInvestments | [mapped.1 (0.85)] Cash Flow Statement > proceeds from sale of short term investments → cash flow > investing activities > proceeds from sale > maturity of investments\n",
      "ProceedsFromIssuanceOfTrustPreferredSecurities | [mapped.1 (0.79)] Cash Flow Statement > proceeds from issuance of trust preferred securities → cash flow > financing activities > issuance of common stock\n",
      "ProceedsFromSaleOfWaterSystems | [mapped.1 (0.78)] Cash Flow Statement > proceeds from sale of water systems → cash flow > investing activities > proceeds from sale > maturity of investments\n"
     ]
    },
    {
     "name": "stderr",
     "output_type": "stream",
     "text": [
      "Processing rows: 1092it [00:55, 21.49it/s]"
     ]
    },
    {
     "name": "stdout",
     "output_type": "stream",
     "text": [
      "ProceedsFromSaleOfForeclosedAssets | [mapped.1 (0.81)] Cash Flow Statement > proceeds from sale of foreclosed assets → cash flow > investing activities > proceeds from sale > maturity of investments\n",
      "ProceedsFromLeasesHeldForInvestment | [mapped.1 (0.82)] Cash Flow Statement > proceeds from leases held for investment → cash flow > investing activities > proceeds from sale > maturity of investments\n",
      "ProceedsFromSaleOfLoansHeldForInvestment | [mapped.1 (0.84)] Cash Flow Statement > proceeds from sale of loans held for investment → cash flow > investing activities > proceeds from sale > maturity of investments\n",
      "ProceedsFromSaleOfLoansHeldForSale | [mapped.1 (0.81)] Cash Flow Statement > proceeds from sale of loans held for sale → cash flow > investing activities > proceeds from sale > maturity of investments\n",
      "ProceedsFromSaleOfLoansAndLeasesHeldForInvestment | [mapped.1 (0.85)] Cash Flow Statement > proceeds from sale of loans and leases held for investment → cash flow > investing activities > proceeds from sale > maturity of investments\n"
     ]
    },
    {
     "name": "stderr",
     "output_type": "stream",
     "text": [
      "Processing rows: 1098it [00:55, 22.03it/s]"
     ]
    },
    {
     "name": "stdout",
     "output_type": "stream",
     "text": [
      "ProceedsFromSaleOfMortgageBackedSecuritiesMBSCategorizedAsAvailableForSale | [mapped.1 (0.76)] Cash Flow Statement > proceeds from sale of mortgage backed securities mbs categorized as available for sale → cash flow > investing activities > proceeds from sale > maturity of investments\n",
      "ProceedsFromSaleOfOtherRealEstate | [mapped.1 (0.82)] Cash Flow Statement > proceeds from sale of other real estate → cash flow > investing activities > proceeds from sale > maturity of investments\n",
      "ProceedsFromSaleOfWhollyOwnedRealEstateAndRealEstateAcquiredInSettlementOfLoans | [mapped.1 (0.81)] Cash Flow Statement > proceeds from sale of wholly owned real estate and real estate acquired in settlement of loans → cash flow > investing activities > proceeds from sale > maturity of investments\n",
      "ProceedsFromIssuanceOfSecuredDebt | [mapped.1 (0.80)] Cash Flow Statement > proceeds from issuance of secured debt → cash flow > financing activities > issuance of common stock\n",
      "ProceedsFromSecuredLinesOfCredit | [mapped.1 (0.79)] Cash Flow Statement > proceeds from secured lines of credit → cash flow > financing activities > other financing activities\n"
     ]
    },
    {
     "name": "stderr",
     "output_type": "stream",
     "text": [
      "Processing rows: 1104it [00:55, 22.10it/s]"
     ]
    },
    {
     "name": "stdout",
     "output_type": "stream",
     "text": [
      "ProceedsFromSecuredNotesPayable | [mapped.1 (0.79)] Cash Flow Statement > proceeds from secured notes payable → cash flow > cash interest paid\n",
      "ProceedsFromIssuanceOfSecuredTaxExemptDebt | [mapped.1 (0.79)] Cash Flow Statement > proceeds from issuance of secured tax exempt debt → cash flow > financing activities > issuance of common stock\n",
      "ProceedsFromSecuritizationsOfConsumerLoans | [mapped.1 (0.76)] Cash Flow Statement > proceeds from securitizations of consumer loans → cash flow > financing activities > other financing activities\n",
      "ProceedsFromSecuritizationsOfCreditCards | [mapped.1 (0.78)] Cash Flow Statement > proceeds from securitizations of credit cards → cash flow > investing activities > proceeds from sale > maturity of investments\n",
      "ProceedsFromSecuritizationsOfLoansHeldForInvestment | [mapped.1 (0.80)] Cash Flow Statement > proceeds from securitizations of loans held for investment → cash flow > investing activities > proceeds from sale > maturity of investments\n"
     ]
    },
    {
     "name": "stderr",
     "output_type": "stream",
     "text": [
      "Processing rows: 1107it [00:56, 22.04it/s]"
     ]
    },
    {
     "name": "stdout",
     "output_type": "stream",
     "text": [
      "ProceedsFromShortTermDebt | [mapped.1 (0.88)] Cash Flow Statement > proceeds from short term debt → cash flow > financing activities > short term debt, net\n",
      "ProceedsFromOtherShortTermDebt | [mapped.1 (0.87)] Cash Flow Statement > proceeds from other short term debt → cash flow > financing activities > short term debt, net\n",
      "ProceedsFromStockOptionsExercised | [mapped.1 (0.79)] Cash Flow Statement > proceeds from stock options exercised → cash flow > investing activities > proceeds from sale > maturity of investments\n",
      "ProceedsFromSubordinatedShortTermDebt | [mapped.1 (0.85)] Cash Flow Statement > proceeds from subordinated short term debt → cash flow > financing activities > short term debt, net\n",
      "ProceedsFromIssuanceOfUnsecuredDebt | [mapped.1 (0.78)] Cash Flow Statement > proceeds from issuance of unsecured debt → cash flow > financing activities > issuance of common stock\n"
     ]
    },
    {
     "name": "stderr",
     "output_type": "stream",
     "text": [
      "Processing rows: 1113it [00:56, 21.39it/s]"
     ]
    },
    {
     "name": "stdout",
     "output_type": "stream",
     "text": [
      "ProceedsFromUnsecuredLinesOfCredit | [mapped.1 (0.77)] Cash Flow Statement > proceeds from unsecured lines of credit → cash flow > financing activities > short term debt, net\n",
      "ProceedsFromUnsecuredNotesPayable | [mapped.1 (0.79)] Cash Flow Statement > proceeds from unsecured notes payable → cash flow > cash interest paid\n",
      "ProductionRelatedImpairmentsOrCharges | [mapped.1 (0.82)] Income Statement > production related impairments or charges → income statement > other operating expenses\n",
      "ProceedsFromCustomersForProgressPayments | [mapped.1 (0.76)] Cash Flow Statement > proceeds from customers for progress payments → cash flow > investing activities > proceeds from sale > maturity of investments\n",
      "PropertyPlantAndEquipmentGross | [mapped.1 (0.91)] Balance Sheet > property plant and equipment gross → balance sheet > assets > property > plant > equipment\n"
     ]
    },
    {
     "name": "stderr",
     "output_type": "stream",
     "text": [
      "Processing rows: 1119it [00:56, 20.58it/s]"
     ]
    },
    {
     "name": "stdout",
     "output_type": "stream",
     "text": [
      "PropertyPlantAndEquipmentNet | [mapped.1 (0.91)] Balance Sheet > property plant and equipment net → balance sheet > assets > property > plant > equipment\n",
      "DiscontinuedOperationProvisionForLossGainOnDisposalBeforeIncomeTax | [mapped.1 (0.82)] Income Statement > discontinued operation provision for loss gain on disposal before income tax → income statement > discontinued operations\n",
      "ProvisionForDoubtfulAccounts | [mapped.1 (0.80)] Income Statement > provision for doubtful accounts → income statement > provision for income taxes\n",
      "ProvisionForDoubtfulAccounts | [mapped.1 (0.74)] Cash Flow Statement > provision for doubtful accounts → cash flow > operating activities > changes in accounts payable\n",
      "ProvisionForLossOnContracts | [mapped.1 (0.73)] Balance Sheet > provision for loss on contracts → balance sheet > liabilities > other long term liabilities\n"
     ]
    },
    {
     "name": "stderr",
     "output_type": "stream",
     "text": [
      "Processing rows: 1122it [00:56, 21.00it/s]"
     ]
    },
    {
     "name": "stdout",
     "output_type": "stream",
     "text": [
      "ProvisionForLoanLeaseAndOtherLosses | [mapped.1 (0.79)] Cash Flow Statement > provision for loan lease and other losses → cash flow > financing activities > other financing activities\n",
      "ProvisionForLoanLeaseAndOtherLosses | [mapped.1 (0.79)] Income Statement > provision for loan lease and other losses → income statement > provision for income taxes\n",
      "ProvisionForLoanLossesExpensed | [mapped.1 (0.78)] Income Statement > provision for loan losses expensed → income statement > provision for income taxes\n",
      "ProvisionForOtherCreditLosses | [mapped.1 (0.79)] Cash Flow Statement > provision for other credit losses → cash flow > financing activities > other financing activities\n",
      "ProvisionForOtherCreditLosses | [mapped.1 (0.79)] Income Statement > provision for other credit losses → income statement > provision for income taxes\n"
     ]
    },
    {
     "name": "stderr",
     "output_type": "stream",
     "text": [
      "Processing rows: 1125it [00:56, 21.63it/s]"
     ]
    },
    {
     "name": "stdout",
     "output_type": "stream",
     "text": [
      "ProvisionForOtherLosses | [mapped.1 (0.80)] Cash Flow Statement > provision for other losses → cash flow > operating activities > changes in other liabilities\n",
      "ProvisionForOtherLosses | [mapped.1 (0.83)] Income Statement > provision for other losses → income statement > provision for income taxes\n",
      "PhaseInPlanAmountOfCostsDeferredForRateMakingPurposes | [unmapped] Balance Sheet > phase in plan amount of costs deferred for rate making purposes\n",
      "PhaseInPlanAmountOfCostsDeferredForRateMakingPurposes | [mapped.2 (0.72)] Balance Sheet > StatementTable > StatementLineItems > PhaseInPlanAmountOfCostsDeferredForRateMakingPurposes → balance sheet > assets > inventories\n"
     ]
    },
    {
     "name": "stderr",
     "output_type": "stream",
     "text": [
      "Processing rows: 1131it [00:57, 19.19it/s]"
     ]
    },
    {
     "name": "stdout",
     "output_type": "stream",
     "text": [
      "PumpTaxes | [mapped.1 (0.83)] Income Statement > pump taxes → income statement > provision for income taxes\n",
      "PaymentsToAcquireCommercialRealEstate | [mapped.1 (0.79)] Cash Flow Statement > payments to acquire commercial real estate → cash flow > investing activities > acquisitions\n",
      "PaymentsForConstructionInProcess | [mapped.1 (0.79)] Cash Flow Statement > payments for construction in process → cash flow > cash interest paid\n",
      "PaymentsToAcquireAndDevelopRealEstate | [mapped.1 (0.80)] Cash Flow Statement > payments to acquire and develop real estate → cash flow > investing activities > acquisitions\n",
      "PaymentsToAcquireEquityMethodInvestments | [mapped.1 (0.81)] Cash Flow Statement > payments to acquire equity method investments → cash flow > investing activities > acquisitions\n"
     ]
    },
    {
     "name": "stderr",
     "output_type": "stream",
     "text": [
      "Processing rows: 1137it [00:57, 20.13it/s]"
     ]
    },
    {
     "name": "stdout",
     "output_type": "stream",
     "text": [
      "PaymentsToAcquireFederalReserveStock | [mapped.1 (0.76)] Cash Flow Statement > payments to acquire federal reserve stock → cash flow > investing activities > acquisitions\n",
      "PaymentsToAcquireFinanceReceivables | [mapped.1 (0.79)] Cash Flow Statement > payments to acquire finance receivables → cash flow > investing activities > acquisitions\n",
      "PaymentsToAcquireHeldToMaturitySecurities | [mapped.1 (0.81)] Cash Flow Statement > payments to acquire held to maturity securities → cash flow > investing activities > proceeds from sale > maturity of investments\n",
      "PaymentsToAcquireHeldForSaleRealEstate | [mapped.1 (0.79)] Cash Flow Statement > payments to acquire held for sale real estate → cash flow > investing activities > purchase of investments\n",
      "PaymentsToAcquireInProcessResearchAndDevelopment | [mapped.1 (0.77)] Cash Flow Statement > payments to acquire in process research and development → cash flow > investing activities > acquisitions\n"
     ]
    },
    {
     "name": "stderr",
     "output_type": "stream",
     "text": [
      "Processing rows: 1140it [00:57, 20.21it/s]"
     ]
    },
    {
     "name": "stdout",
     "output_type": "stream",
     "text": [
      "PaymentsToAcquireIntangibleAssets | [mapped.1 (0.80)] Cash Flow Statement > payments to acquire intangible assets → cash flow > investing activities > acquisitions\n",
      "PaymentsToAcquireInterestInJointVenture | [mapped.1 (0.79)] Cash Flow Statement > payments to acquire interest in joint venture → cash flow > cash interest paid\n",
      "PaymentsToAcquireInterestInSubsidiariesAndAffiliates | [mapped.1 (0.81)] Cash Flow Statement > payments to acquire interest in subsidiaries and affiliates → cash flow > investing activities > acquisitions\n",
      "PaymentsToAcquireInvestments | [mapped.1 (0.87)] Cash Flow Statement > payments to acquire investments → cash flow > investing activities > acquisitions\n",
      "PaymentsToAcquireLand | [mapped.1 (0.77)] Cash Flow Statement > payments to acquire land → cash flow > investing activities > purchase of investments\n"
     ]
    },
    {
     "name": "stderr",
     "output_type": "stream",
     "text": [
      "Processing rows: 1146it [00:58, 21.29it/s]"
     ]
    },
    {
     "name": "stdout",
     "output_type": "stream",
     "text": [
      "PaymentsToAcquireLeaseReceivables | [mapped.1 (0.77)] Cash Flow Statement > payments to acquire lease receivables → cash flow > investing activities > acquisitions\n",
      "PaymentsToAcquireLeasesHeldForInvestment | [mapped.1 (0.82)] Cash Flow Statement > payments to acquire leases held for investment → cash flow > investing activities > acquisitions\n",
      "PaymentsToAcquireLifeInsurancePolicies | [mapped.1 (0.74)] Cash Flow Statement > payments to acquire life insurance policies → cash flow > investing activities > acquisitions\n",
      "PaymentsToAcquireLoansHeldForInvestment | [mapped.1 (0.81)] Cash Flow Statement > payments to acquire loans held for investment → cash flow > investing activities > acquisitions\n",
      "PaymentsToPurchaseLoansHeldForSale | [mapped.1 (0.78)] Cash Flow Statement > payments to purchase loans held for sale → cash flow > investing activities > purchase of investments\n"
     ]
    },
    {
     "name": "stderr",
     "output_type": "stream",
     "text": [
      "Processing rows: 1152it [00:58, 21.31it/s]"
     ]
    },
    {
     "name": "stdout",
     "output_type": "stream",
     "text": [
      "PaymentsToAcquireLoansAndLeasesHeldForInvestment | [mapped.1 (0.82)] Cash Flow Statement > payments to acquire loans and leases held for investment → cash flow > investing activities > acquisitions\n",
      "PaymentsToAcquireOtherLoansAndLeasesHeldForInvestment | [mapped.1 (0.81)] Cash Flow Statement > payments to acquire other loans and leases held for investment → cash flow > investing activities > acquisitions\n",
      "PaymentsToAcquireLoansReceivable | [mapped.1 (0.78)] Cash Flow Statement > payments to acquire loans receivable → cash flow > investing activities > acquisitions\n",
      "PaymentsToAcquireManagementContractRights | [mapped.1 (0.76)] Cash Flow Statement > payments to acquire management contract rights → cash flow > investing activities > acquisitions\n",
      "PaymentsToAcquireMarketableSecurities | [mapped.1 (0.80)] Cash Flow Statement > payments to acquire marketable securities → cash flow > investing activities > acquisitions\n"
     ]
    },
    {
     "name": "stderr",
     "output_type": "stream",
     "text": [
      "Processing rows: 1155it [00:58, 21.01it/s]"
     ]
    },
    {
     "name": "stdout",
     "output_type": "stream",
     "text": [
      "PaymentsToAcquireMineralRights | [mapped.1 (0.77)] Cash Flow Statement > payments to acquire mineral rights → cash flow > investing activities > acquisitions\n",
      "PaymentsToAcquireMiningAssets | [mapped.1 (0.80)] Cash Flow Statement > payments to acquire mining assets → cash flow > investing activities > acquisitions\n",
      "PaymentsToAcquireAdditionalInterestInSubsidiaries | [mapped.1 (0.80)] Cash Flow Statement > payments to acquire additional interest in subsidiaries → cash flow > investing activities > acquisitions\n",
      "PaymentsToAcquireMortgageBackedSecuritiesMBSCategorizedAsAvailableForSale | [mapped.1 (0.71)] Cash Flow Statement > payments to acquire mortgage backed securities mbs categorized as available for sale → cash flow > financing activities > repurchase > retirement of common stock\n",
      "PaymentsToPurchaseMortgageLoansHeldForSale | [mapped.1 (0.76)] Cash Flow Statement > payments to purchase mortgage loans held for sale → cash flow > investing activities > purchase of investments\n"
     ]
    },
    {
     "name": "stderr",
     "output_type": "stream",
     "text": [
      "Processing rows: 1161it [00:58, 20.83it/s]"
     ]
    },
    {
     "name": "stdout",
     "output_type": "stream",
     "text": [
      "PaymentsToAcquireMortgageNotesReceivable | [mapped.1 (0.75)] Cash Flow Statement > payments to acquire mortgage notes receivable → cash flow > investing activities > purchase of investments\n",
      "PaymentsToAcquireNotesReceivable | [mapped.1 (0.78)] Cash Flow Statement > payments to acquire notes receivable → cash flow > investing activities > acquisitions\n",
      "PaymentsToAcquireOilAndGasEquipment | [mapped.1 (0.77)] Cash Flow Statement > payments to acquire oil and gas equipment → cash flow > investing activities > acquisitions\n",
      "PaymentsToAcquireOilAndGasProperty | [mapped.1 (0.78)] Cash Flow Statement > payments to acquire oil and gas property → cash flow > investing activities > purchase of investments\n",
      "PaymentsToAcquireOilAndGasPropertyAndEquipment | [mapped.1 (0.76)] Cash Flow Statement > payments to acquire oil and gas property and equipment → cash flow > investing activities > purchase of investments\n"
     ]
    },
    {
     "name": "stderr",
     "output_type": "stream",
     "text": [
      "Processing rows: 1167it [00:59, 20.43it/s]"
     ]
    },
    {
     "name": "stdout",
     "output_type": "stream",
     "text": [
      "PaymentsToAcquireOtherProductiveAssets | [mapped.1 (0.84)] Cash Flow Statement > payments to acquire other productive assets → cash flow > investing activities > acquisitions\n",
      "PaymentsToPurchaseOtherLoansHeldForSale | [mapped.1 (0.78)] Cash Flow Statement > payments to purchase other loans held for sale → cash flow > financing activities > other financing activities\n",
      "PaymentsToAcquireOtherRealEstate | [mapped.1 (0.81)] Cash Flow Statement > payments to acquire other real estate → cash flow > investing activities > acquisitions\n",
      "PaymentsToAcquireOtherReceivables | [mapped.1 (0.80)] Cash Flow Statement > payments to acquire other receivables → cash flow > investing activities > acquisitions\n",
      "PaymentsToAcquireOtherInvestments | [mapped.1 (0.86)] Cash Flow Statement > payments to acquire other investments → cash flow > investing activities > acquisitions\n"
     ]
    },
    {
     "name": "stderr",
     "output_type": "stream",
     "text": [
      "Processing rows: 1170it [00:59, 20.72it/s]"
     ]
    },
    {
     "name": "stdout",
     "output_type": "stream",
     "text": [
      "PaymentsToAcquireProjects | [mapped.1 (0.81)] Cash Flow Statement > payments to acquire projects → cash flow > investing activities > acquisitions\n",
      "PaymentsToAcquirePropertyPlantAndEquipment | [mapped.1 (0.77)] Cash Flow Statement > payments to acquire property plant and equipment → cash flow > investing activities > acquisitions\n",
      "PaymentsToAcquireRealEstate | [mapped.1 (0.81)] Cash Flow Statement > payments to acquire real estate → cash flow > investing activities > acquisitions\n",
      "PaymentsToAcquireReceivables | [mapped.1 (0.80)] Cash Flow Statement > payments to acquire receivables → cash flow > investing activities > acquisitions\n",
      "PaymentsToAcquireResidentialRealEstate | [mapped.1 (0.79)] Cash Flow Statement > payments to acquire residential real estate → cash flow > investing activities > purchase of investments\n"
     ]
    },
    {
     "name": "stderr",
     "output_type": "stream",
     "text": [
      "Processing rows: 1176it [00:59, 21.57it/s]"
     ]
    },
    {
     "name": "stdout",
     "output_type": "stream",
     "text": [
      "PaymentsToAcquireRestrictedCertificatesOfDeposit | [mapped.1 (0.71)] Cash Flow Statement > payments to acquire restricted certificates of deposit → cash flow > investing activities > purchase of investments\n",
      "PaymentsToAcquireRestrictedInvestments | [mapped.1 (0.82)] Cash Flow Statement > payments to acquire restricted investments → cash flow > investing activities > acquisitions\n",
      "PaymentsToAcquireRetainedInterestInSecuritizedReceivables | [mapped.1 (0.75)] Cash Flow Statement > payments to acquire retained interest in securitized receivables → cash flow > financing activities > repurchase > retirement of common stock\n",
      "PaymentsToAcquireLoansAndLeasesHeldForInvestmentCreditCardSecuritizations | [mapped.1 (0.77)] Cash Flow Statement > payments to acquire loans and leases held for investment credit card securitizations → cash flow > investing activities > acquisitions\n",
      "PaymentsToAcquireShortTermInvestments | [mapped.1 (0.82)] Cash Flow Statement > payments to acquire short term investments → cash flow > investing activities > acquisitions\n"
     ]
    },
    {
     "name": "stderr",
     "output_type": "stream",
     "text": [
      "Processing rows: 1182it [00:59, 21.27it/s]"
     ]
    },
    {
     "name": "stdout",
     "output_type": "stream",
     "text": [
      "PaymentsToAcquireSoftware | [mapped.1 (0.81)] Cash Flow Statement > payments to acquire software → cash flow > investing activities > acquisitions\n",
      "PaymentsToAcquireTrustPreferredInvestments | [mapped.1 (0.77)] Cash Flow Statement > payments to acquire trust preferred investments → cash flow > investing activities > acquisitions\n",
      "PaymentsToAcquireWasteWaterSystems | [mapped.1 (0.75)] Cash Flow Statement > payments to acquire waste water systems → cash flow > investing activities > acquisitions\n",
      "PaymentsToAcquireWaterSystems | [mapped.1 (0.76)] Cash Flow Statement > payments to acquire water systems → cash flow > investing activities > acquisitions\n",
      "PaymentsToAcquireWaterAndWasteWaterSystems | [mapped.1 (0.76)] Cash Flow Statement > payments to acquire water and waste water systems → cash flow > investing activities > acquisitions\n"
     ]
    },
    {
     "name": "stderr",
     "output_type": "stream",
     "text": [
      "Processing rows: 1185it [00:59, 20.74it/s]"
     ]
    },
    {
     "name": "stdout",
     "output_type": "stream",
     "text": [
      "InterestIncomePurchasedReceivables | [mapped.1 (0.81)] Income Statement > interest income purchased receivables → income statement > interest expense - operating\n",
      "PaymentsForProceedsFromInvestments | [mapped.1 (0.85)] Cash Flow Statement > payments for proceeds from investments → cash flow > investing activities > proceeds from sale > maturity of investments\n",
      "InventoryRawMaterialsAndSupplies | [mapped.1 (0.85)] Balance Sheet > inventory raw materials and supplies → balance sheet > assets > inventories\n",
      "RealEstateAcquiredThroughForeclosure | [mapped.1 (0.76)] Balance Sheet > real estate acquired through foreclosure → balance sheet > assets > goodwill\n"
     ]
    },
    {
     "name": "stderr",
     "output_type": "stream",
     "text": [
      "Processing rows: 1188it [01:00, 20.87it/s]"
     ]
    },
    {
     "name": "stdout",
     "output_type": "stream",
     "text": [
      "RealEstateInvestmentPartnershipCostOfSales | [mapped.1 (0.82)] Income Statement > real estate investment partnership cost of sales → income statement > cost of revenue\n",
      "RealEstateInvestmentPartnershipRevenue | [mapped.1 (0.78)] Income Statement > real estate investment partnership revenue → income statement > cost of revenue\n",
      "RealEstateInvestments | [mapped.1 (0.82)] Balance Sheet > real estate investments → balance sheet > assets > long term investments\n",
      "RealEstateInvestmentsJointVentures | [mapped.1 (0.72)] Balance Sheet > real estate investments joint ventures → balance sheet > assets > long term investments\n"
     ]
    },
    {
     "name": "stderr",
     "output_type": "stream",
     "text": [
      "Processing rows: 1193it [01:00, 19.49it/s]"
     ]
    },
    {
     "name": "stdout",
     "output_type": "stream",
     "text": [
      "RealEstateInvestmentPropertyAtCost | [mapped.1 (0.77)] Balance Sheet > real estate investment property at cost → balance sheet > assets > long term investments\n",
      "RealEstateInvestmentPropertyNet | [mapped.1 (0.78)] Balance Sheet > real estate investment property net → balance sheet > assets > property > plant > equipment\n",
      "RecapitalizationCosts | [mapped.1 (0.78)] Cash Flow Statement > recapitalization costs → cash flow > financing activities > repurchase > retirement of common stock\n",
      "RecapitalizationCosts | [mapped.1 (0.77)] Income Statement > recapitalization costs → income statement > cost of revenue\n"
     ]
    },
    {
     "name": "stderr",
     "output_type": "stream",
     "text": [
      "Processing rows: 1197it [01:00, 19.44it/s]"
     ]
    },
    {
     "name": "stdout",
     "output_type": "stream",
     "text": [
      "ReceivablesFromCustomers | [mapped.1 (0.85)] Balance Sheet > receivables from customers → balance sheet > assets > accounts receivable\n",
      "ReceivablesNetCurrent | [mapped.1 (0.86)] Balance Sheet > receivables net current → balance sheet > assets > notes receivable - current\n",
      "RecoveryOfDirectCosts | [mapped.1 (0.79)] Income Statement > recovery of direct costs → income statement > cost of revenue\n",
      "RecoveryStrandedCosts | [mapped.1 (0.77)] Income Statement > recovery stranded costs → income statement > cost of revenue\n",
      "RedeemablePreferredStockDividends | [mapped.1 (0.90)] Income Statement > redeemable preferred stock dividends → income statement > preferred dividends\n"
     ]
    },
    {
     "name": "stderr",
     "output_type": "stream",
     "text": [
      "Processing rows: 1203it [01:00, 18.78it/s]"
     ]
    },
    {
     "name": "stdout",
     "output_type": "stream",
     "text": [
      "RegulatoryAssetsCurrent | [mapped.1 (0.86)] Balance Sheet > regulatory assets current → balance sheet > assets > other current assets\n",
      "RegulatoryAssetsNoncurrent | [mapped.1 (0.84)] Balance Sheet > regulatory assets noncurrent → balance sheet > assets > other current assets\n",
      "RegulatoryLiabilityCurrent | [mapped.1 (0.84)] Balance Sheet > regulatory liability current → balance sheet > liabilities > other current liabilities\n",
      "RegulatoryLiabilityNoncurrent | [mapped.1 (0.82)] Balance Sheet > regulatory liability noncurrent → balance sheet > liabilities > other current liabilities\n"
     ]
    },
    {
     "name": "stderr",
     "output_type": "stream",
     "text": [
      "Processing rows: 1205it [01:01, 15.09it/s]"
     ]
    },
    {
     "name": "stdout",
     "output_type": "stream",
     "text": [
      "ReinsuranceEffectOnClaimsAndBenefitsIncurredAmountAssumed | [unmapped] Income Statement > reinsurance effect on claims and benefits incurred amount assumed\n",
      "ReinsuranceEffectOnClaimsAndBenefitsIncurredAmountCeded | [unmapped] Income Statement > reinsurance effect on claims and benefits incurred amount ceded\n",
      "ReinsuranceEffectOnClaimsAndBenefitsIncurredAmountCeded | [mapped.2 (0.70)] Income Statement > StatementTable > StatementLineItems > ReinsuranceEffectOnClaimsAndBenefitsIncurredAmountCeded → income statement > preferred dividends\n"
     ]
    },
    {
     "name": "stderr",
     "output_type": "stream",
     "text": [
      "Processing rows: 1209it [01:01, 16.68it/s]"
     ]
    },
    {
     "name": "stdout",
     "output_type": "stream",
     "text": [
      "ReinsuranceRecoverables | [mapped.1 (0.75)] Balance Sheet > reinsurance recoverables → balance sheet > assets > other current assets\n",
      "IncreaseDecreaseInReinsuranceRecoverable | [mapped.1 (0.72)] Cash Flow Statement > increase decrease in reinsurance recoverable → cash flow > operating activities > changes in other liabilities\n",
      "RentalIncomeNonoperating | [mapped.1 (0.83)] Income Statement > rental income nonoperating → income statement > interest income - non-operating\n",
      "RentalProperties | [mapped.1 (0.81)] Balance Sheet > rental properties → balance sheet > assets > property > plant > equipment\n",
      "ProceedsFromRentsReceived | [mapped.1 (0.81)] Cash Flow Statement > proceeds from rents received → cash flow > investing activities > proceeds from sale > maturity of investments\n"
     ]
    },
    {
     "name": "stderr",
     "output_type": "stream",
     "text": [
      "Processing rows: 1215it [01:01, 19.28it/s]"
     ]
    },
    {
     "name": "stdout",
     "output_type": "stream",
     "text": [
      "RepaymentOfNotesReceivableFromRelatedParties | [mapped.1 (0.78)] Cash Flow Statement > repayment of notes receivable from related parties → cash flow > cash interest paid\n",
      "RepaymentsOfAnnuitiesAndInvestmentCertificates | [mapped.1 (0.76)] Cash Flow Statement > repayments of annuities and investment certificates → cash flow > investing activities > purchase of investments\n",
      "RepaymentsOfAssumedDebt | [mapped.1 (0.79)] Cash Flow Statement > repayments of assumed debt → cash flow > cash interest paid\n",
      "RepaymentsOfBankDebt | [mapped.1 (0.80)] Cash Flow Statement > repayments of bank debt → cash flow > financing activities > long term debt, net\n",
      "RepaymentsOfCommercialPaper | [mapped.1 (0.79)] Cash Flow Statement > repayments of commercial paper → cash flow > cash interest paid\n"
     ]
    },
    {
     "name": "stderr",
     "output_type": "stream",
     "text": [
      "Processing rows: 1218it [01:01, 19.65it/s]"
     ]
    },
    {
     "name": "stdout",
     "output_type": "stream",
     "text": [
      "RepaymentsOfMandatoryRedeemableCapitalSecurities | [mapped.1 (0.76)] Cash Flow Statement > repayments of mandatory redeemable capital securities → cash flow > financing activities > issuance of common stock\n",
      "RepaymentsOfConstructionLoansPayable | [mapped.1 (0.77)] Cash Flow Statement > repayments of construction loans payable → cash flow > cash interest paid\n",
      "RepaymentsOfFirstMortgageBond | [mapped.1 (0.75)] Cash Flow Statement > repayments of first mortgage bond → cash flow > cash interest paid\n",
      "RepaymentsOfLinesOfCredit | [mapped.1 (0.79)] Cash Flow Statement > repayments of lines of credit → cash flow > financing activities > other financing activities\n",
      "RepaymentsOfLongTermLinesOfCredit | [mapped.1 (0.85)] Cash Flow Statement > repayments of long term lines of credit → cash flow > financing activities > long term debt, net\n"
     ]
    },
    {
     "name": "stderr",
     "output_type": "stream",
     "text": [
      "Processing rows: 1224it [01:01, 19.84it/s]"
     ]
    },
    {
     "name": "stdout",
     "output_type": "stream",
     "text": [
      "RepaymentsOfLongTermDebt | [mapped.1 (0.88)] Cash Flow Statement > repayments of long term debt → cash flow > financing activities > long term debt, net\n",
      "RepaymentsOfLongTermDebtAndCapitalSecurities | [mapped.1 (0.85)] Cash Flow Statement > repayments of long term debt and capital securities → cash flow > financing activities > long term debt, net\n",
      "RepaymentsOfNotesPayable | [mapped.1 (0.81)] Cash Flow Statement > repayments of notes payable → cash flow > cash interest paid\n",
      "RepaymentsOfAdvancesForConstruction | [mapped.1 (0.76)] Cash Flow Statement > repayments of advances for construction → cash flow > financing activities > other financing activities\n",
      "RepaymentsOfSubordinatedDebt | [mapped.1 (0.77)] Cash Flow Statement > repayments of subordinated debt → cash flow > financing activities > long term debt, net\n"
     ]
    },
    {
     "name": "stderr",
     "output_type": "stream",
     "text": [
      "Processing rows: 1230it [01:02, 20.11it/s]"
     ]
    },
    {
     "name": "stdout",
     "output_type": "stream",
     "text": [
      "RepaymentsOfOtherDebt | [mapped.1 (0.81)] Cash Flow Statement > repayments of other debt → cash flow > financing activities > other financing activities\n",
      "RepaymentsOfOtherLongTermDebt | [mapped.1 (0.86)] Cash Flow Statement > repayments of other long term debt → cash flow > financing activities > long term debt, net\n",
      "RepaymentsOfPollutionControlBond | [mapped.1 (0.74)] Cash Flow Statement > repayments of pollution control bond → cash flow > cash interest paid\n",
      "RepaymentsOfRelatedPartyDebt | [mapped.1 (0.79)] Cash Flow Statement > repayments of related party debt → cash flow > financing activities > long term debt, net\n",
      "RepaymentsOfSecuredDebt | [mapped.1 (0.78)] Cash Flow Statement > repayments of secured debt → cash flow > financing activities > long term debt, net\n"
     ]
    },
    {
     "name": "stderr",
     "output_type": "stream",
     "text": [
      "Processing rows: 1233it [01:02, 20.37it/s]"
     ]
    },
    {
     "name": "stdout",
     "output_type": "stream",
     "text": [
      "RepaymentsOfSeniorDebt | [mapped.1 (0.78)] Cash Flow Statement > repayments of senior debt → cash flow > financing activities > long term debt, net\n",
      "RepaymentsOfShortTermDebt | [mapped.1 (0.80)] Cash Flow Statement > repayments of short term debt → cash flow > financing activities > long term debt, net\n",
      "RepaymentsOfOtherShortTermDebt | [mapped.1 (0.79)] Cash Flow Statement > repayments of other short term debt → cash flow > financing activities > other financing activities\n",
      "RepaymentsOfSubordinatedShortTermDebt | [mapped.1 (0.77)] Cash Flow Statement > repayments of subordinated short term debt → cash flow > financing activities > long term debt, net\n"
     ]
    },
    {
     "name": "stderr",
     "output_type": "stream",
     "text": [
      "Processing rows: 1239it [01:02, 19.86it/s]"
     ]
    },
    {
     "name": "stdout",
     "output_type": "stream",
     "text": [
      "RepaymentsOfUnsecuredTaxExemptDebt | [mapped.1 (0.76)] Cash Flow Statement > repayments of unsecured tax exempt debt → cash flow > financing activities > long term debt, net\n",
      "RepaymentsOfUnsecuredDebt | [mapped.1 (0.79)] Cash Flow Statement > repayments of unsecured debt → cash flow > financing activities > long term debt, net\n",
      "PaymentsForRepurchaseOfCommonStock | [mapped.1 (0.88)] Cash Flow Statement > payments for repurchase of common stock → cash flow > financing activities > repurchase > retirement of common stock\n",
      "RepaymentsOfConvertibleDebt | [mapped.1 (0.77)] Cash Flow Statement > repayments of convertible debt → cash flow > financing activities > long term debt, net\n",
      "PaymentsForRepurchaseOfConvertiblePreferredStock | [mapped.1 (0.82)] Cash Flow Statement > payments for repurchase of convertible preferred stock → cash flow > financing activities > repurchase > retirement of common stock\n"
     ]
    },
    {
     "name": "stderr",
     "output_type": "stream",
     "text": [
      "Processing rows: 1242it [01:02, 20.67it/s]"
     ]
    },
    {
     "name": "stdout",
     "output_type": "stream",
     "text": [
      "PaymentsForRepurchaseOfInitialPublicOffering | [mapped.1 (0.80)] Cash Flow Statement > payments for repurchase of initial public offering → cash flow > financing activities > repurchase > retirement of common stock\n",
      "PaymentsToMinorityShareholders | [mapped.1 (0.76)] Cash Flow Statement > payments to minority shareholders → cash flow > financing activities > dividends paid - common\n",
      "PaymentsForRepurchaseOfPreferredStockAndPreferenceStock | [mapped.1 (0.84)] Cash Flow Statement > payments for repurchase of preferred stock and preference stock → cash flow > financing activities > repurchase > retirement of common stock\n",
      "PaymentsForRepurchaseOfPrivatePlacement | [mapped.1 (0.81)] Cash Flow Statement > payments for repurchase of private placement → cash flow > financing activities > repurchase > retirement of common stock\n",
      "PaymentsForRepurchaseOfRedeemableConvertiblePreferredStock | [mapped.1 (0.82)] Cash Flow Statement > payments for repurchase of redeemable convertible preferred stock → cash flow > financing activities > repurchase > retirement of common stock\n"
     ]
    },
    {
     "name": "stderr",
     "output_type": "stream",
     "text": [
      "Processing rows: 1248it [01:03, 21.19it/s]"
     ]
    },
    {
     "name": "stdout",
     "output_type": "stream",
     "text": [
      "PaymentsForRepurchaseOfRedeemablePreferredStock | [mapped.1 (0.84)] Cash Flow Statement > payments for repurchase of redeemable preferred stock → cash flow > financing activities > repurchase > retirement of common stock\n",
      "PaymentsForRepurchaseOfTrustPreferredSecurities | [mapped.1 (0.80)] Cash Flow Statement > payments for repurchase of trust preferred securities → cash flow > financing activities > repurchase > retirement of common stock\n",
      "PaymentsForRepurchaseOfWarrants | [mapped.1 (0.79)] Cash Flow Statement > payments for repurchase of warrants → cash flow > financing activities > repurchase > retirement of common stock\n",
      "ResearchAndDevelopmentAssetAcquiredOtherThanThroughBusinessCombinationWrittenOff | [mapped.1 (0.80)] Income Statement > research and development asset acquired other than through business combination written off → income statement > research & development\n",
      "ResearchAndDevelopmentExpenseExcludingAcquiredInProcessCost | [mapped.1 (0.83)] Income Statement > research and development expense excluding acquired in process cost → income statement > research & development\n"
     ]
    },
    {
     "name": "stderr",
     "output_type": "stream",
     "text": [
      "Processing rows: 1251it [01:03, 20.00it/s]"
     ]
    },
    {
     "name": "stdout",
     "output_type": "stream",
     "text": [
      "IncreaseDecreaseInReserveForCommissionsExpenseAndTaxes | [mapped.1 (0.76)] Cash Flow Statement > increase decrease in reserve for commissions expense and taxes → cash flow > operating activities > changes in other assets\n",
      "LiabilityForUnpaidClaimsAndClaimsAdjustmentExpenseNet | [mapped.1 (0.79)] Balance Sheet > liability for unpaid claims and claims adjustment expense net → balance sheet > liabilities > accrued expenses\n",
      "OtherRestrictedAssets | [mapped.1 (0.88)] Balance Sheet > other restricted assets → balance sheet > assets > restricted cash - current\n",
      "RestrictedCashAndCashEquivalentItemDescription | [mapped.1 (0.77)] Cash Flow Statement > restricted cash and cash equivalent item description → cash flow > operating activities > other non-cash items\n"
     ]
    },
    {
     "name": "stderr",
     "output_type": "stream",
     "text": [
      "Processing rows: 1256it [01:03, 18.35it/s]"
     ]
    },
    {
     "name": "stdout",
     "output_type": "stream",
     "text": [
      "RestrictedCashAndCashEquivalentsAtCarryingValue | [mapped.1 (0.78)] Cash Flow Statement > restricted cash and cash equivalents at carrying value → cash flow > cash interest paid\n",
      "RestrictedCashAndCashEquivalentsAtCarryingValue | [mapped.1 (0.88)] Balance Sheet > restricted cash and cash equivalents at carrying value → balance sheet > assets > restricted cash - current\n",
      "RestrictedCashAndInvestmentsCurrent | [mapped.1 (0.94)] Balance Sheet > restricted cash and investments current → balance sheet > assets > restricted cash - current\n",
      "RestrictedCashAndInvestments | [mapped.1 (0.91)] Balance Sheet > restricted cash and investments → balance sheet > assets > restricted cash - current\n"
     ]
    },
    {
     "name": "stderr",
     "output_type": "stream",
     "text": [
      "Processing rows: 1260it [01:03, 18.07it/s]"
     ]
    },
    {
     "name": "stdout",
     "output_type": "stream",
     "text": [
      "RestrictedInvestments | [mapped.1 (0.86)] Balance Sheet > restricted investments → balance sheet > assets > restricted cash - current\n",
      "RestrictedInvestmentsCurrent | [mapped.1 (0.90)] Balance Sheet > restricted investments current → balance sheet > assets > restricted cash - current\n",
      "RestructuringCharges | [mapped.1 (0.80)] Cash Flow Statement > restructuring charges → cash flow > operating activities > changes in other liabilities\n",
      "RestructuringCharges | [mapped.1 (0.77)] Income Statement > restructuring charges → income statement > cost of revenue\n",
      "RestructuringReserve | [mapped.1 (0.75)] Balance Sheet > restructuring reserve → balance sheet > shareholders' equity > treasury stock\n"
     ]
    },
    {
     "name": "stderr",
     "output_type": "stream",
     "text": [
      "Processing rows: 1265it [01:04, 18.35it/s]"
     ]
    },
    {
     "name": "stdout",
     "output_type": "stream",
     "text": [
      "RestructuringSettlementAndImpairmentProvisions | [mapped.1 (0.74)] Income Statement > restructuring settlement and impairment provisions → income statement > provision for income taxes\n",
      "RestructuringReserveNoncurrent | [mapped.1 (0.75)] Balance Sheet > restructuring reserve noncurrent → balance sheet > shareholders' equity > treasury stock\n",
      "DepositsRetail | [mapped.1 (0.74)] Balance Sheet > deposits retail → balance sheet > liabilities > customer advances\n",
      "RetainedEarningsAccumulatedDeficit | [mapped.1 (0.95)] Balance Sheet > retained earnings accumulated deficit → balance sheet > shareholders' equity > retained earnings (accumulated deficit)\n"
     ]
    },
    {
     "name": "stderr",
     "output_type": "stream",
     "text": [
      "Processing rows: 1269it [01:04, 16.94it/s]"
     ]
    },
    {
     "name": "stdout",
     "output_type": "stream",
     "text": [
      "RetainedEarningsAppropriated | [mapped.1 (0.83)] Balance Sheet > retained earnings appropriated → balance sheet > shareholders' equity > retained earnings (accumulated deficit)\n",
      "RetainedEarningsDeficitEliminated | [mapped.1 (0.83)] Balance Sheet > retained earnings deficit eliminated → balance sheet > shareholders' equity > retained earnings (accumulated deficit)\n",
      "RetainedEarningsUnappropriated | [mapped.1 (0.81)] Balance Sheet > retained earnings unappropriated → balance sheet > shareholders' equity > retained earnings (accumulated deficit)\n",
      "TreasuryStockReissuedAtLowerThanRepurchasePrice | [mapped.1 (0.83)] Equity Statement > treasury stock reissued at lower than repurchase price → equity statement > repurchase of common stock\n"
     ]
    },
    {
     "name": "stderr",
     "output_type": "stream",
     "text": [
      "Processing rows: 1275it [01:04, 20.73it/s]"
     ]
    },
    {
     "name": "stdout",
     "output_type": "stream",
     "text": [
      "PremiumsEarnedNet | [mapped.1 (0.80)] Income Statement > premiums earned net → income statement > net sales\n",
      "PaymentsForRoyalties | [mapped.1 (0.80)] Cash Flow Statement > payments for royalties → cash flow > cash interest paid\n",
      "ProceedsFromRoyaltiesReceived | [mapped.1 (0.79)] Cash Flow Statement > proceeds from royalties received → cash flow > cash interest paid\n",
      "RoyaltyExpense | [mapped.1 (0.81)] Income Statement > royalty expense → income statement > cost of revenue\n",
      "RoyaltyIncomeNonoperating | [mapped.1 (0.76)] Income Statement > royalty income nonoperating → income statement > interest income - non-operating\n"
     ]
    },
    {
     "name": "stderr",
     "output_type": "stream",
     "text": [
      "Processing rows: 1278it [01:04, 20.51it/s]"
     ]
    },
    {
     "name": "stdout",
     "output_type": "stream",
     "text": [
      "ProceedsFromSaleOfInterestInCorporateUnit | [mapped.1 (0.82)] Cash Flow Statement > proceeds from sale of interest in corporate unit → cash flow > investing activities > proceeds from sale > maturity of investments\n",
      "ProceedsFromSaleOfInterestInPartnershipUnit | [mapped.1 (0.80)] Cash Flow Statement > proceeds from sale of interest in partnership unit → cash flow > investing activities > proceeds from sale > maturity of investments\n",
      "ProceedsFromSaleMaturityAndCollectionsOfInvestments | [mapped.1 (0.92)] Cash Flow Statement > proceeds from sale maturity and collections of investments → cash flow > investing activities > proceeds from sale > maturity of investments\n",
      "ProceedsFromSaleOfFederalReserveStock | [mapped.1 (0.78)] Cash Flow Statement > proceeds from sale of federal reserve stock → cash flow > investing activities > proceeds from sale > maturity of investments\n",
      "ScheduleOfNoncashOrPartNoncashAcquisitionsTextBlock | [mapped.1 (0.80)] Cash Flow Statement > schedule of noncash or part noncash acquisitions text block → cash flow > operating activities > other non-cash items\n"
     ]
    },
    {
     "name": "stderr",
     "output_type": "stream",
     "text": [
      "Processing rows: 1284it [01:05, 20.91it/s]"
     ]
    },
    {
     "name": "stdout",
     "output_type": "stream",
     "text": [
      "ScheduleOfConversionsOfStockTextBlock | [mapped.1 (0.75)] Cash Flow Statement > schedule of conversions of stock text block → cash flow > operating activities > net income > starting line\n",
      "ScheduleOfDebtConversionsTextBlock | [mapped.1 (0.75)] Cash Flow Statement > schedule of debt conversions text block → cash flow > financing activities > short term debt, net\n",
      "ScheduleOfNoncashOrPartNoncashDivestituresTextBlock | [mapped.1 (0.78)] Cash Flow Statement > schedule of noncash or part noncash divestitures text block → cash flow > operating activities > other non-cash items\n",
      "ScheduleOfOtherSignificantNoncashTransactionsTextBlock | [mapped.1 (0.81)] Cash Flow Statement > schedule of other significant noncash transactions text block → cash flow > operating activities > other non-cash items\n",
      "SupplementalCashFlowInformationRelatedText | [mapped.1 (0.79)] Cash Flow Statement > supplemental cash flow information related text → cash flow > financing activities > other financing activities\n"
     ]
    },
    {
     "name": "stderr",
     "output_type": "stream",
     "text": [
      "Processing rows: 1289it [01:05, 18.83it/s]"
     ]
    },
    {
     "name": "stdout",
     "output_type": "stream",
     "text": [
      "SecuredDebtCurrent | [mapped.1 (0.82)] Balance Sheet > secured debt current → balance sheet > liabilities > other current liabilities\n",
      "SecuredDebt | [mapped.1 (0.80)] Balance Sheet > secured debt → balance sheet > liabilities > long term debt\n",
      "SecuredDemandNotes | [mapped.1 (0.76)] Balance Sheet > secured demand notes → balance sheet > assets > notes receivable - current\n",
      "SecuredLongTermDebt | [mapped.1 (0.87)] Balance Sheet > secured long term debt → balance sheet > liabilities > long term debt\n"
     ]
    },
    {
     "name": "stderr",
     "output_type": "stream",
     "text": [
      "Processing rows: 1293it [01:05, 17.17it/s]"
     ]
    },
    {
     "name": "stdout",
     "output_type": "stream",
     "text": [
      "AvailableForSaleSecuritiesDebtSecuritiesCurrent | [mapped.1 (0.78)] Balance Sheet > available for sale securities debt securities current → balance sheet > assets > other current assets\n",
      "SecuritiesBorrowed | [mapped.1 (0.78)] Balance Sheet > securities borrowed → balance sheet > shareholders' equity > treasury stock\n",
      "FinancialInstrumentsSoldNotYetPurchasedOtherSovereignGovernmentDebt | [mapped.1 (0.75)] Balance Sheet > financial instruments sold not yet purchased other sovereign government debt → balance sheet > liabilities > other current liabilities\n",
      "SecuritiesReceivedAsCollateral | [mapped.1 (0.79)] Balance Sheet > securities received as collateral → balance sheet > shareholders' equity > treasury stock\n"
     ]
    },
    {
     "name": "stderr",
     "output_type": "stream",
     "text": [
      "Processing rows: 1295it [01:05, 16.58it/s]"
     ]
    },
    {
     "name": "stdout",
     "output_type": "stream",
     "text": [
      "FinancialInstrumentsSoldNotYetPurchasedAtFairValue | [mapped.1 (0.77)] Balance Sheet > financial instruments sold not yet purchased at fair value → balance sheet > shareholders' equity > common stock\n",
      "SecuritizedRegulatoryTransitionAssetsNoncurrent | [mapped.1 (0.78)] Balance Sheet > securitized regulatory transition assets noncurrent → balance sheet > assets > other current assets\n",
      "SelfInsuranceReserve | [mapped.1 (0.75)] Balance Sheet > self insurance reserve → balance sheet > liabilities > other current liabilities\n",
      "SellingExpense | [mapped.1 (0.88)] Income Statement > selling expense → income statement > selling > general > admin expenses\n"
     ]
    },
    {
     "name": "stderr",
     "output_type": "stream",
     "text": [
      "Processing rows: 1301it [01:05, 20.14it/s]"
     ]
    },
    {
     "name": "stdout",
     "output_type": "stream",
     "text": [
      "SalesCommissionsAndFees | [mapped.1 (0.82)] Income Statement > sales commissions and fees → income statement > net sales\n",
      "SellingGeneralAndAdministrativeExpense | [mapped.1 (0.90)] Income Statement > selling general and administrative expense → income statement > selling > general > admin expenses\n",
      "SellingAndMarketingExpense | [mapped.1 (0.86)] Income Statement > selling and marketing expense → income statement > selling > general > admin expenses\n",
      "OtherSellingAndMarketingExpense | [mapped.1 (0.86)] Income Statement > other selling and marketing expense → income statement > selling > general > admin expenses\n",
      "SeniorNotesCurrent | [mapped.1 (0.78)] Balance Sheet > senior notes current → balance sheet > liabilities > other current liabilities\n"
     ]
    },
    {
     "name": "stderr",
     "output_type": "stream",
     "text": [
      "Processing rows: 1306it [01:06, 18.38it/s]"
     ]
    },
    {
     "name": "stdout",
     "output_type": "stream",
     "text": [
      "SeniorLongTermNotes | [mapped.1 (0.82)] Balance Sheet > senior long term notes → balance sheet > liabilities > long term debt\n",
      "SeparateAccountAssets | [mapped.1 (0.86)] Balance Sheet > separate account assets → balance sheet > assets > other current assets\n",
      "SeparateAccountsLiability | [mapped.1 (0.82)] Balance Sheet > separate accounts liability → balance sheet > liabilities > minority interest\n",
      "ServicingAssetAtAmortizedValue | [mapped.1 (0.78)] Balance Sheet > servicing asset at amortized value → balance sheet > assets > other current assets\n"
     ]
    },
    {
     "name": "stderr",
     "output_type": "stream",
     "text": [
      "Processing rows: 1310it [01:06, 17.68it/s]"
     ]
    },
    {
     "name": "stdout",
     "output_type": "stream",
     "text": [
      "ServicingAssetAtFairValueAdditions | [mapped.1 (0.80)] Cash Flow Statement > servicing asset at fair value additions → cash flow > operating activities > changes in other assets\n",
      "ServicingAssetAtFairValueAmount | [mapped.1 (0.80)] Balance Sheet > servicing asset at fair value amount → balance sheet > assets > goodwill\n",
      "ServicingLiabilityAtAmortizedValueBalance | [mapped.1 (0.78)] Balance Sheet > servicing liability at amortized value balance → balance sheet > liabilities > accounts payable\n",
      "ServicingLiabilityAtFairValueAmount | [mapped.1 (0.79)] Balance Sheet > servicing liability at fair value amount → balance sheet > liabilities > accounts payable\n"
     ]
    },
    {
     "name": "stderr",
     "output_type": "stream",
     "text": [
      "Processing rows: 1315it [01:06, 18.47it/s]"
     ]
    },
    {
     "name": "stdout",
     "output_type": "stream",
     "text": [
      "SharesSubjectToMandatoryRedemptionSettlementTermsAmount | [mapped.1 (0.77)] Balance Sheet > shares subject to mandatory redemption settlement terms amount → balance sheet > shareholders' equity > redeemable preferred stock\n",
      "ShareBasedCompensationArrangementByShareBasedPaymentAwardOptionsForfeituresInPeriod | [mapped.1 (0.78)] Equity Statement > share based compensation arrangement by share based payment award options forfeitures in period → equity statement > stock-based compensation\n",
      "ShareBasedCompensationArrangementByShareBasedPaymentAwardOptionsGrantsInPeriod | [mapped.1 (0.80)] Equity Statement > share based compensation arrangement by share based payment award options grants in period → equity statement > stock-based compensation\n",
      "ShortTermBorrowings | [mapped.1 (0.85)] Balance Sheet > short term borrowings → balance sheet > liabilities > notes payable > short term debt\n",
      "ShortTermInvestments | [mapped.1 (0.94)] Balance Sheet > short term investments → balance sheet > assets > short term investments\n"
     ]
    },
    {
     "name": "stderr",
     "output_type": "stream",
     "text": [
      "Processing rows: 1318it [01:06, 18.83it/s]"
     ]
    },
    {
     "name": "stdout",
     "output_type": "stream",
     "text": [
      "PaymentsToDevelopSoftware | [mapped.1 (0.77)] Cash Flow Statement > payments to develop software → cash flow > cash interest paid\n",
      "ProceedsFromOperatingActivities | [mapped.1 (0.83)] Cash Flow Statement > proceeds from operating activities → cash flow > investing activities > proceeds from sale > maturity of investments\n",
      "SpecialAssessmentBond | [mapped.1 (0.73)] Balance Sheet > special assessment bond → balance sheet > liabilities > minority interest\n",
      "SponsorFees | [mapped.1 (0.79)] Income Statement > sponsor fees → income statement > cost of revenue\n",
      "FinancialInstrumentsSoldNotYetPurchasedStateAndMunicipalGovernmentObligations | [mapped.1 (0.76)] Balance Sheet > financial instruments sold not yet purchased state and municipal government obligations → balance sheet > liabilities > other current liabilities\n"
     ]
    },
    {
     "name": "stderr",
     "output_type": "stream",
     "text": [
      "Processing rows: 1323it [01:07, 18.42it/s]"
     ]
    },
    {
     "name": "stdout",
     "output_type": "stream",
     "text": [
      "PaymentsOfStockIssuanceCosts | [mapped.1 (0.83)] Cash Flow Statement > payments of stock issuance costs → cash flow > financing activities > issuance of common stock\n",
      "StockholdersEquityNoteSubscriptionsReceivable | [mapped.1 (0.80)] Balance Sheet > stockholders equity note subscriptions receivable → balance sheet > shareholders' equity > redeemable preferred stock\n",
      "SubordinatedDebtCurrent | [mapped.1 (0.84)] Balance Sheet > subordinated debt current → balance sheet > liabilities > current portion of long term debt\n",
      "SubordinatedLongTermDebt | [mapped.1 (0.87)] Balance Sheet > subordinated long term debt → balance sheet > liabilities > current portion of long term debt\n"
     ]
    },
    {
     "name": "stderr",
     "output_type": "stream",
     "text": [
      "Processing rows: 1327it [01:07, 18.37it/s]"
     ]
    },
    {
     "name": "stdout",
     "output_type": "stream",
     "text": [
      "SubordinatedDebt | [mapped.1 (0.82)] Balance Sheet > subordinated debt → balance sheet > liabilities > minority interest\n",
      "ContributionOfProperty | [mapped.1 (0.78)] Cash Flow Statement > contribution of property → cash flow > cash taxes paid\n",
      "SupplementalDeferredPurchasePrice | [mapped.1 (0.73)] Cash Flow Statement > supplemental deferred purchase price → cash flow > financing activities > short term debt, net\n",
      "EscrowDepositsRelatedToPropertySales | [mapped.1 (0.76)] Cash Flow Statement > escrow deposits related to property sales → cash flow > investing activities > proceeds from sale > maturity of investments\n",
      "NotesReduction | [mapped.1 (0.76)] Cash Flow Statement > notes reduction → cash flow > operating activities > changes in other assets\n"
     ]
    },
    {
     "name": "stderr",
     "output_type": "stream",
     "text": [
      "Processing rows: 1332it [01:07, 19.60it/s]"
     ]
    },
    {
     "name": "stdout",
     "output_type": "stream",
     "text": [
      "TransferMortgagePayable | [mapped.1 (0.77)] Cash Flow Statement > transfer mortgage payable → cash flow > cash interest paid\n",
      "Supplies | [mapped.1 (0.84)] Balance Sheet > supplies → balance sheet > assets > inventories\n",
      "IncomeTaxesPaid | [mapped.1 (0.89)] Cash Flow Statement > income taxes paid → cash flow > cash taxes paid\n",
      "InventoryRealEstateTimeshareAvailableForSale | [mapped.1 (0.72)] Balance Sheet > inventory real estate timeshare available for sale → balance sheet > assets > inventories\n"
     ]
    },
    {
     "name": "stderr",
     "output_type": "stream",
     "text": [
      "Processing rows: 1337it [01:07, 19.79it/s]"
     ]
    },
    {
     "name": "stdout",
     "output_type": "stream",
     "text": [
      "AssetsCurrent | [mapped.1 (0.94)] Balance Sheet > assets current → balance sheet > assets > other current assets\n",
      "NoninterestExpense | [mapped.1 (0.89)] Income Statement > noninterest expense → income statement > other non-operating income (expense)\n",
      "RevenuesExcludingInterestAndDividends | [mapped.1 (0.84)] Income Statement > revenues excluding interest and dividends → income statement > interest income - non-operating\n",
      "AccountsReceivableGrossCurrent | [mapped.1 (0.83)] Balance Sheet > accounts receivable gross current → balance sheet > assets > notes receivable - current\n",
      "TradingGainsLosses | [mapped.1 (0.87)] Income Statement > trading gains losses → income statement > gain (loss) on sale of assets\n"
     ]
    },
    {
     "name": "stderr",
     "output_type": "stream",
     "text": [
      "Processing rows: 1343it [01:08, 21.54it/s]"
     ]
    },
    {
     "name": "stdout",
     "output_type": "stream",
     "text": [
      "TradingLiabilities | [mapped.1 (0.85)] Balance Sheet > trading liabilities → balance sheet > liabilities > other current liabilities\n",
      "LongTermTransitionBond | [mapped.1 (0.80)] Balance Sheet > long term transition bond → balance sheet > liabilities > long term debt\n",
      "TravelAndEntertainmentExpense | [mapped.1 (0.81)] Income Statement > travel and entertainment expense → income statement > other operating expenses\n",
      "TreasuryStockSharesRetired | [mapped.1 (0.85)] Equity Statement > treasury stock shares retired → equity statement > treasury stock activity\n",
      "StockIssuedDuringPeriodSharesTreasuryStockReissued | [mapped.1 (0.86)] Equity Statement > stock issued during period shares treasury stock reissued → equity statement > treasury stock activity\n"
     ]
    },
    {
     "name": "stderr",
     "output_type": "stream",
     "text": [
      "Processing rows: 1346it [01:08, 23.28it/s]"
     ]
    },
    {
     "name": "stdout",
     "output_type": "stream",
     "text": [
      "StockIssuedDuringPeriodValueTreasuryStockReissued | [mapped.1 (0.86)] Equity Statement > stock issued during period value treasury stock reissued → equity statement > treasury stock activity\n",
      "GainsLossesOnRestructuringOfDebt | [mapped.1 (0.81)] Income Statement > gains losses on restructuring of debt → income statement > gain (loss) on sale of assets\n",
      "TrusteeFees | [mapped.1 (0.75)] Income Statement > trustee fees → income statement > cost of revenue\n",
      "FinancialInstrumentsSoldNotYetPurchasedUSGovernmentAndAgencyObligations | [mapped.1 (0.77)] Balance Sheet > financial instruments sold not yet purchased us government and agency obligations → balance sheet > liabilities > other current liabilities\n",
      "UnamortizedLossReacquiredDebtNoncurrent | [mapped.1 (0.74)] Balance Sheet > unamortized loss reacquired debt noncurrent → balance sheet > assets > allowance for doubtful accounts\n"
     ]
    },
    {
     "name": "stderr",
     "output_type": "stream",
     "text": [
      "Processing rows: 1352it [01:08, 20.01it/s]"
     ]
    },
    {
     "name": "stdout",
     "output_type": "stream",
     "text": [
      "UnderwritingIncomeLoss | [mapped.1 (0.83)] Income Statement > underwriting income loss → income statement > gain (loss) on sale of assets\n",
      "UnsecuredDebtCurrent | [mapped.1 (0.84)] Balance Sheet > unsecured debt current → balance sheet > liabilities > current portion of long term debt\n",
      "UnsecuredDebt | [mapped.1 (0.81)] Balance Sheet > unsecured debt → balance sheet > liabilities > long term debt\n",
      "UnsecuredLongTermDebt | [mapped.1 (0.88)] Balance Sheet > unsecured long term debt → balance sheet > liabilities > long term debt\n"
     ]
    },
    {
     "name": "stderr",
     "output_type": "stream",
     "text": [
      "Processing rows: 1355it [01:08, 20.06it/s]"
     ]
    },
    {
     "name": "stdout",
     "output_type": "stream",
     "text": [
      "UnsolicitedTenderOfferCosts | [mapped.1 (0.77)] Income Statement > unsolicited tender offer costs → income statement > cost of revenue\n",
      "PaymentsForOperatingActivities | [mapped.1 (0.86)] Cash Flow Statement > payments for operating activities → cash flow > operating activities > changes in accounts payable\n",
      "ValueOfBusinessAcquiredVOBA | [mapped.1 (0.72)] Balance Sheet > value of business acquired voba → balance sheet > shareholders' equity > redeemable preferred stock\n",
      "WarehouseAgreementBorrowings | [mapped.1 (0.80)] Balance Sheet > warehouse agreement borrowings → balance sheet > liabilities > capital lease obligations\n"
     ]
    },
    {
     "name": "stderr",
     "output_type": "stream",
     "text": [
      "Processing rows: 1361it [01:09, 20.18it/s]"
     ]
    },
    {
     "name": "stdout",
     "output_type": "stream",
     "text": [
      "WarrantsAndRightsOutstanding | [mapped.1 (0.75)] Balance Sheet > warrants and rights outstanding → balance sheet > liabilities > accrued expenses\n",
      "WeightedAverageNumberOfDilutedSharesOutstanding | [mapped.1 (0.74)] Income Statement > weighted average number of diluted shares outstanding → income statement > preferred dividends\n",
      "WeightedAverageNumberDilutedSharesOutstandingAdjustment | [mapped.1 (0.74)] Income Statement > weighted average number diluted shares outstanding adjustment → income statement > depreciation > amortization\n",
      "WeightedAverageNumberOfSharesOutstandingBasic | [mapped.1 (0.74)] Income Statement > weighted average number of shares outstanding basic → income statement > net income available to common\n",
      "DepositsWholesale | [mapped.1 (0.74)] Balance Sheet > deposits wholesale → balance sheet > shareholders' equity > preferred stock\n"
     ]
    },
    {
     "name": "stderr",
     "output_type": "stream",
     "text": [
      "Processing rows: 1364it [01:09, 20.06it/s]"
     ]
    },
    {
     "name": "stdout",
     "output_type": "stream",
     "text": [
      "WithdrawalFromContractHoldersFunds | [mapped.1 (0.75)] Cash Flow Statement > withdrawal from contract holders funds → cash flow > investing activities > purchase of investments\n",
      "WriteOffOfDeferredDebtIssuanceCost | [mapped.1 (0.73)] Income Statement > write off of deferred debt issuance cost → income statement > cost of revenue\n",
      "DueFromBanks | [mapped.1 (0.76)] Balance Sheet > due from banks → balance sheet > assets > accounts receivable\n",
      "RestrictedCashAndCashEquivalentsNoncurrent | [mapped.1 (0.81)] Cash Flow Statement > restricted cash and cash equivalents noncurrent → cash flow > operating activities > other non-cash items\n"
     ]
    },
    {
     "name": "stderr",
     "output_type": "stream",
     "text": [
      "Processing rows: 1370it [01:09, 20.53it/s]"
     ]
    },
    {
     "name": "stdout",
     "output_type": "stream",
     "text": [
      "RestrictedCashAndCashEquivalentsNoncurrent | [mapped.1 (0.91)] Balance Sheet > restricted cash and cash equivalents noncurrent → balance sheet > assets > restricted cash - current\n",
      "ResearchAndDevelopmentExpense | [mapped.1 (0.93)] Income Statement > research and development expense → income statement > research & development\n",
      "Cash | [mapped.1 (0.81)] Cash Flow Statement > cash → cash flow > cash interest paid\n",
      "Cash | [mapped.1 (0.87)] Balance Sheet > cash → balance sheet > assets > cash & equivalents\n",
      "DisposalGroupIncludingDiscontinuedOperationCashAndCashEquivalents | [mapped.1 (0.78)] Cash Flow Statement > disposal group including discontinued operation cash and cash equivalents → cash flow > operating activities > depreciation > amortization\n"
     ]
    },
    {
     "name": "stderr",
     "output_type": "stream",
     "text": [
      "Processing rows: 1373it [01:09, 18.68it/s]"
     ]
    },
    {
     "name": "stdout",
     "output_type": "stream",
     "text": [
      "DisposalGroupIncludingDiscontinuedOperationCashAndCashEquivalents | [mapped.1 (0.79)] Balance Sheet > disposal group including discontinued operation cash and cash equivalents → balance sheet > assets > cash & equivalents\n",
      "DisposalGroupIncludingDiscontinuedOperationAccountsNotesAndLoansReceivableNet | [mapped.1 (0.75)] Balance Sheet > disposal group including discontinued operation accounts notes and loans receivable net → balance sheet > assets > goodwill\n",
      "DisposalGroupIncludingDiscontinuedOperationOtherCurrentAssets | [mapped.1 (0.81)] Balance Sheet > disposal group including discontinued operation other current assets → balance sheet > assets > other current assets\n",
      "DisposalGroupIncludingDiscontinuedOperationDeferredTaxAssets | [mapped.1 (0.76)] Balance Sheet > disposal group including discontinued operation deferred tax assets → balance sheet > assets > goodwill\n"
     ]
    },
    {
     "name": "stderr",
     "output_type": "stream",
     "text": [
      "Processing rows: 1375it [01:09, 17.98it/s]"
     ]
    },
    {
     "name": "stdout",
     "output_type": "stream",
     "text": [
      "DisposalGroupIncludingDiscontinuedOperationAccountsPayable | [mapped.1 (0.76)] Balance Sheet > disposal group including discontinued operation accounts payable → balance sheet > liabilities > accounts payable\n",
      "DisposalGroupIncludingDiscontinuedOperationAccruedLiabilities | [mapped.1 (0.76)] Balance Sheet > disposal group including discontinued operation accrued liabilities → balance sheet > liabilities > accrued expenses\n",
      "DisposalGroupIncludingDiscontinuedOperationPensionPlanBenefitObligation | [unmapped] Balance Sheet > disposal group including discontinued operation pension plan benefit obligation\n"
     ]
    },
    {
     "name": "stderr",
     "output_type": "stream",
     "text": [
      "Processing rows: 1377it [01:10, 14.13it/s]"
     ]
    },
    {
     "name": "stdout",
     "output_type": "stream",
     "text": [
      "DisposalGroupIncludingDiscontinuedOperationPensionPlanBenefitObligation | [mapped.2 (0.71)] Balance Sheet > DisposalGroupsIncludingDiscontinuedOperationsDisclosureTextBlock > ScheduleOfDisposalGroupsIncludingDiscontinuedOperationsIncomeStatementBalanceSheetAndAdditionalDisclosuresTextBlock > IncomeStatementBalanceSheetAndAdditionalDisclosuresByDisposalGroupsIncludingDiscontinuedOperationsTable > IncomeStatementBalanceSheetAndAdditionalDisclosuresByDisposalGroupsIncludingDiscontinuedOperationsLineItems > DisposalGroupIncludingDiscontinuedOperationPensionPlanBenefitObligation → balance sheet > liabilities > deferred income tax\n",
      "DisposalGroupIncludingDiscontinuedOperationPostretirementPlanBenefitObligation | [unmapped] Balance Sheet > disposal group including discontinued operation postretirement plan benefit obligation\n",
      "DisposalGroupIncludingDiscontinuedOperationPostretirementPlanBenefitObligation | [mapped.2 (0.71)] Balance Sheet > DisposalGroupsIncludingDiscontinuedOperationsDisclosureTextBlock > ScheduleOfDisposalGroupsIncludingDiscontinuedOperationsIncomeStatementBalanceSheetAndAdditionalDisclosuresTextBlock > IncomeStatementBalanceSheetAndAdditionalDisclosuresByDisposalGroupsIncludingDiscontinuedOperationsTable > IncomeStatementBalanceSheetAndAdditionalDisclosuresByDisposalGroupsIncludingDiscontinuedOperationsLineItems > DisposalGroupIncludingDiscontinuedOperationPostretirementPlanBenefitObligation → balance sheet > liabilities > deferred income tax\n"
     ]
    },
    {
     "name": "stderr",
     "output_type": "stream",
     "text": [
      "Processing rows: 1381it [01:10, 13.11it/s]"
     ]
    },
    {
     "name": "stdout",
     "output_type": "stream",
     "text": [
      "AvailableForSaleSecuritiesDebtSecuritiesNoncurrent | [mapped.1 (0.78)] Balance Sheet > available for sale securities debt securities noncurrent → balance sheet > assets > other current assets\n",
      "AvailableForSaleSecuritiesDebtSecurities | [mapped.1 (0.76)] Balance Sheet > available for sale securities debt securities → balance sheet > shareholders' equity > treasury stock\n",
      "HeldToMaturitySecuritiesFairValue | [mapped.1 (0.80)] Balance Sheet > held to maturity securities fair value → balance sheet > shareholders' equity > redeemable preferred stock\n",
      "GeneralPartnersCapitalAccountUnitsAuthorized | [mapped.1 (0.72)] Balance Sheet > general partners capital account units authorized → balance sheet > shareholders' equity > additional paid-in capital\n"
     ]
    },
    {
     "name": "stderr",
     "output_type": "stream",
     "text": [
      "Processing rows: 1386it [01:10, 15.49it/s]"
     ]
    },
    {
     "name": "stdout",
     "output_type": "stream",
     "text": [
      "GeneralPartnersCapitalAccountUnitsIssued | [mapped.1 (0.71)] Balance Sheet > general partners capital account units issued → balance sheet > shareholders' equity > treasury stock\n",
      "InducedConversionOfConvertibleDebtExpense | [mapped.1 (0.74)] Income Statement > induced conversion of convertible debt expense → income statement > depreciation > amortization\n",
      "Assets | [mapped.1 (0.92)] Balance Sheet > assets → balance sheet > assets > other current assets\n",
      "NotesAndLoansReceivableNetCurrent | [mapped.1 (0.89)] Balance Sheet > notes and loans receivable net current → balance sheet > assets > notes receivable - current\n"
     ]
    },
    {
     "name": "stderr",
     "output_type": "stream",
     "text": [
      "Processing rows: 1390it [01:10, 15.98it/s]"
     ]
    },
    {
     "name": "stdout",
     "output_type": "stream",
     "text": [
      "AllowanceForNotesAndLoansReceivableNoncurrent | [mapped.1 (0.71)] Balance Sheet > allowance for notes and loans receivable noncurrent → balance sheet > shareholders' equity > accumulated other comprehensive income\n",
      "NotesReceivableGross | [mapped.1 (0.83)] Balance Sheet > notes receivable gross → balance sheet > assets > notes receivable - current\n",
      "AccountsReceivableGross | [mapped.1 (0.84)] Balance Sheet > accounts receivable gross → balance sheet > assets > accounts receivable\n",
      "AllowanceForDoubtfulAccountsReceivable | [mapped.1 (0.71)] Balance Sheet > allowance for doubtful accounts receivable → balance sheet > shareholders' equity > retained earnings (accumulated deficit)\n"
     ]
    },
    {
     "name": "stderr",
     "output_type": "stream",
     "text": [
      "Processing rows: 1394it [01:11, 16.58it/s]"
     ]
    },
    {
     "name": "stdout",
     "output_type": "stream",
     "text": [
      "TradingSecuritiesDebt | [mapped.1 (0.79)] Balance Sheet > trading securities debt → balance sheet > shareholders' equity > treasury stock\n",
      "LongTermAccountsNotesAndLoansReceivableNetNoncurrent | [mapped.1 (0.82)] Balance Sheet > long term accounts notes and loans receivable net noncurrent → balance sheet > assets > notes receivable - long term\n",
      "PreferredStockSharesSubscribedButUnissuedValue | [mapped.1 (0.82)] Balance Sheet > preferred stock shares subscribed but unissued value → balance sheet > shareholders' equity > redeemable preferred stock\n",
      "PreferredStockSharesSubscribedButUnissuedSubscriptionsReceivable | [mapped.1 (0.80)] Balance Sheet > preferred stock shares subscribed but unissued subscriptions receivable → balance sheet > shareholders' equity > redeemable preferred stock\n"
     ]
    },
    {
     "name": "stderr",
     "output_type": "stream",
     "text": [
      "Processing rows: 1399it [01:11, 18.61it/s]"
     ]
    },
    {
     "name": "stdout",
     "output_type": "stream",
     "text": [
      "AssetRecoveryDamagedPropertyCostsNoncurrent | [mapped.1 (0.76)] Balance Sheet > asset recovery damaged property costs noncurrent → balance sheet > assets > other current assets\n",
      "PrepaidInterest | [mapped.1 (0.84)] Balance Sheet > prepaid interest → balance sheet > assets > prepaid expenses\n",
      "InvestmentIncomeInterest | [mapped.1 (0.89)] Income Statement > investment income interest → income statement > interest > investment income - operating\n",
      "InvestmentIncomeDividend | [mapped.1 (0.85)] Income Statement > investment income dividend → income statement > preferred dividends\n",
      "InvestmentIncomeInterestAndDividend | [mapped.1 (0.87)] Income Statement > investment income interest and dividend → income statement > interest > investment income - operating\n"
     ]
    },
    {
     "name": "stderr",
     "output_type": "stream",
     "text": [
      "Processing rows: 1402it [01:11, 19.46it/s]"
     ]
    },
    {
     "name": "stdout",
     "output_type": "stream",
     "text": [
      "InvestmentIncomeAmortizationOfDiscount | [mapped.1 (0.82)] Income Statement > investment income amortization of discount → income statement > depreciation > amortization\n",
      "InvestmentIncomeAmortizationOfPremium | [mapped.1 (0.83)] Income Statement > investment income amortization of premium → income statement > depreciation > amortization\n",
      "SecuritiesHeldAsCollateralAtFairValue | [mapped.1 (0.78)] Balance Sheet > securities held as collateral at fair value → balance sheet > shareholders' equity > redeemable preferred stock\n",
      "OtherLiabilitiesCurrent | [mapped.1 (0.95)] Balance Sheet > other liabilities current → balance sheet > liabilities > other current liabilities\n"
     ]
    },
    {
     "name": "stderr",
     "output_type": "stream",
     "text": [
      "Processing rows: 1407it [01:11, 18.70it/s]"
     ]
    },
    {
     "name": "stdout",
     "output_type": "stream",
     "text": [
      "OtherLiabilitiesNoncurrent | [mapped.1 (0.89)] Balance Sheet > other liabilities noncurrent → balance sheet > liabilities > other current liabilities\n",
      "OtherGeneralExpense | [mapped.1 (0.89)] Income Statement > other general expense → income statement > other non-operating income (expense)\n",
      "LiabilitiesOfBusinessTransferredUnderContractualArrangementNoncurrent | [mapped.1 (0.80)] Balance Sheet > liabilities of business transferred under contractual arrangement noncurrent → balance sheet > liabilities > other current liabilities\n",
      "LiabilitiesOfBusinessTransferredUnderContractualArrangementCurrent | [mapped.1 (0.84)] Balance Sheet > liabilities of business transferred under contractual arrangement current → balance sheet > liabilities > other current liabilities\n"
     ]
    },
    {
     "name": "stderr",
     "output_type": "stream",
     "text": [
      "Processing rows: 1412it [01:12, 19.98it/s]"
     ]
    },
    {
     "name": "stdout",
     "output_type": "stream",
     "text": [
      "TreasuryStockRestrictions | [mapped.1 (0.82)] Balance Sheet > treasury stock restrictions → balance sheet > shareholders' equity > treasury stock\n",
      "CostsOfFranchisorOwnedOutlets | [mapped.1 (0.79)] Income Statement > costs of franchisor owned outlets → income statement > cost of revenue\n",
      "CostsOfFranchisedOutlets | [mapped.1 (0.80)] Income Statement > costs of franchised outlets → income statement > cost of revenue\n",
      "Dividends | [mapped.1 (0.92)] Equity Statement > dividends → equity statement > preferred dividends\n",
      "CommonStockIssuedEmployeeTrustDeferred | [mapped.1 (0.77)] Balance Sheet > common stock issued employee trust deferred → balance sheet > shareholders' equity > treasury stock\n"
     ]
    },
    {
     "name": "stderr",
     "output_type": "stream",
     "text": [
      "Processing rows: 1417it [01:12, 20.98it/s]"
     ]
    },
    {
     "name": "stdout",
     "output_type": "stream",
     "text": [
      "LitigationReserveNoncurrent | [mapped.1 (0.77)] Balance Sheet > litigation reserve noncurrent → balance sheet > liabilities > other current liabilities\n",
      "CommonStockDividendsPerShareDeclared | [mapped.1 (0.83)] Income Statement > common stock dividends per share declared → income statement > preferred dividends\n",
      "CommonStockDividendsPerShareDeclared | [mapped.1 (0.92)] Equity Statement > common stock dividends per share declared → equity statement > common dividends declared\n",
      "ProceedsFromInsuranceSettlementOperatingActivities | [mapped.1 (0.77)] Cash Flow Statement > proceeds from insurance settlement operating activities → cash flow > investing activities > proceeds from sale > maturity of investments\n",
      "PaymentsForReinsurance | [mapped.1 (0.75)] Cash Flow Statement > payments for reinsurance → cash flow > cash interest paid\n"
     ]
    },
    {
     "name": "stderr",
     "output_type": "stream",
     "text": [
      "Processing rows: 1420it [01:12, 21.05it/s]"
     ]
    },
    {
     "name": "stdout",
     "output_type": "stream",
     "text": [
      "PaymentsForDepositsWithOtherInstitutions | [mapped.1 (0.76)] Cash Flow Statement > payments for deposits with other institutions → cash flow > financing activities > other financing activities\n",
      "PaymentsForLoans | [mapped.1 (0.82)] Cash Flow Statement > payments for loans → cash flow > cash interest paid\n",
      "ProceedsFromLicenseFeesReceived | [mapped.1 (0.78)] Cash Flow Statement > proceeds from license fees received → cash flow > cash taxes paid\n",
      "PaymentsForOtherTaxes | [mapped.1 (0.87)] Cash Flow Statement > payments for other taxes → cash flow > cash taxes paid\n",
      "PaymentsForRent | [mapped.1 (0.80)] Cash Flow Statement > payments for rent → cash flow > cash interest paid\n"
     ]
    },
    {
     "name": "stderr",
     "output_type": "stream",
     "text": [
      "Processing rows: 1426it [01:12, 22.25it/s]"
     ]
    },
    {
     "name": "stdout",
     "output_type": "stream",
     "text": [
      "PaymentsForTimeDeposits | [mapped.1 (0.75)] Cash Flow Statement > payments for time deposits → cash flow > financing activities > other financing activities\n",
      "LossOnContracts | [mapped.1 (0.84)] Income Statement > loss on contracts → income statement > gain (loss) on sale of assets\n",
      "EquityMethodInvestmentRealizedGainLossOnDisposal | [mapped.1 (0.79)] Income Statement > equity method investment realized gain loss on disposal → income statement > gain (loss) on sale of assets\n",
      "EquityMethodInvestmentRealizedGainLossOnDisposal | [mapped.1 (0.80)] Cash Flow Statement > equity method investment realized gain loss on disposal → cash flow > investing activities > proceeds from sale > maturity of investments\n",
      "PropertySubjectToOrAvailableForOperatingLeaseGross | [mapped.1 (0.80)] Balance Sheet > property subject to or available for operating lease gross → balance sheet > assets > property > plant > equipment\n"
     ]
    },
    {
     "name": "stderr",
     "output_type": "stream",
     "text": [
      "Processing rows: 1432it [01:13, 20.61it/s]"
     ]
    },
    {
     "name": "stdout",
     "output_type": "stream",
     "text": [
      "MachineryAndEquipmentGross | [mapped.1 (0.84)] Balance Sheet > machinery and equipment gross → balance sheet > assets > property > plant > equipment\n",
      "FederalFundsSoldAndSecuritiesBorrowedOrPurchasedUnderAgreementsToResellFairValueDisclosure | [mapped.1 (0.74)] Balance Sheet > federal funds sold and securities borrowed or purchased under agreements to resell fair value disclosure → balance sheet > assets > goodwill\n",
      "IncreaseDecreaseInOtherFossilFuelInventories | [mapped.1 (0.80)] Cash Flow Statement > increase decrease in other fossil fuel inventories → cash flow > operating activities > changes in inventories\n",
      "PaymentsForPostemploymentBenefits | [mapped.1 (0.77)] Cash Flow Statement > payments for postemployment benefits → cash flow > cash taxes paid\n",
      "IncomeLossFromEquityMethodInvestmentsNetOfDividendsOrDistributions | [mapped.1 (0.78)] Cash Flow Statement > income loss from equity method investments net of dividends or distributions → cash flow > investing activities > proceeds from sale > maturity of investments\n"
     ]
    },
    {
     "name": "stderr",
     "output_type": "stream",
     "text": [
      "Processing rows: 1435it [01:13, 20.25it/s]"
     ]
    },
    {
     "name": "stdout",
     "output_type": "stream",
     "text": [
      "ReclassificationsOfTemporaryToPermanentEquity | [mapped.1 (0.77)] Equity Statement > reclassifications of temporary to permanent equity → equity statement > convertible instrument adjustments\n",
      "PreferredStockRedemptionAmount | [mapped.1 (0.85)] Balance Sheet > preferred stock redemption amount → balance sheet > shareholders' equity > redeemable preferred stock\n",
      "OtherAdditionalCapital | [mapped.1 (0.91)] Balance Sheet > other additional capital → balance sheet > shareholders' equity > additional paid-in capital\n",
      "InterestsContinuedToBeHeldByTransferorFairValue | [mapped.1 (0.71)] Balance Sheet > interests continued to be held by transferor fair value → balance sheet > shareholders' equity > redeemable preferred stock\n"
     ]
    },
    {
     "name": "stderr",
     "output_type": "stream",
     "text": [
      "Processing rows: 1441it [01:13, 19.80it/s]"
     ]
    },
    {
     "name": "stdout",
     "output_type": "stream",
     "text": [
      "InventoryRealEstateLandAndLandDevelopmentCosts | [mapped.1 (0.78)] Balance Sheet > inventory real estate land and land development costs → balance sheet > assets > inventories\n",
      "InventoryOperativeBuilders | [mapped.1 (0.83)] Balance Sheet > inventory operative builders → balance sheet > assets > inventories\n",
      "ImpairmentOfOngoingProject | [mapped.1 (0.76)] Income Statement > impairment of ongoing project → income statement > depreciation > amortization\n",
      "ImpairmentOfOngoingProject | [mapped.1 (0.77)] Cash Flow Statement > impairment of ongoing project → cash flow > operating activities > changes in other liabilities\n",
      "CapitalLeaseObligationsIncurred | [mapped.1 (0.78)] Cash Flow Statement > capital lease obligations incurred → cash flow > investing activities > capital expenditures\n"
     ]
    },
    {
     "name": "stderr",
     "output_type": "stream",
     "text": [
      "Processing rows: 1444it [01:13, 18.97it/s]"
     ]
    },
    {
     "name": "stdout",
     "output_type": "stream",
     "text": [
      "TemporaryEquitySharesSubscribedButUnissuedSubscriptionsReceivable | [mapped.1 (0.76)] Balance Sheet > temporary equity shares subscribed but unissued subscriptions receivable → balance sheet > shareholders' equity > redeemable preferred stock\n",
      "TemporaryEquityShareSubscriptions | [mapped.1 (0.80)] Balance Sheet > temporary equity share subscriptions → balance sheet > shareholders' equity > redeemable preferred stock\n",
      "TemporaryEquitySharesSubscribedButUnissued | [mapped.1 (0.77)] Balance Sheet > temporary equity shares subscribed but unissued → balance sheet > shareholders' equity > redeemable preferred stock\n",
      "TemporaryEquitySharesAuthorized | [mapped.1 (0.81)] Balance Sheet > temporary equity shares authorized → balance sheet > shareholders' equity > redeemable preferred stock\n"
     ]
    },
    {
     "name": "stderr",
     "output_type": "stream",
     "text": [
      "Processing rows: 1448it [01:13, 17.63it/s]"
     ]
    },
    {
     "name": "stdout",
     "output_type": "stream",
     "text": [
      "TemporaryEquitySharesIssued | [mapped.1 (0.82)] Balance Sheet > temporary equity shares issued → balance sheet > shareholders' equity > treasury stock\n",
      "TemporaryEquitySharesOutstanding | [mapped.1 (0.83)] Balance Sheet > temporary equity shares outstanding → balance sheet > shareholders' equity > redeemable preferred stock\n",
      "SeniorNotes | [mapped.1 (0.78)] Balance Sheet > senior notes → balance sheet > shareholders' equity > preferred stock\n",
      "PreferredStockLiquidationPreference | [mapped.1 (0.85)] Balance Sheet > preferred stock liquidation preference → balance sheet > shareholders' equity > preferred stock\n"
     ]
    },
    {
     "name": "stderr",
     "output_type": "stream",
     "text": [
      "Processing rows: 1453it [01:14, 18.91it/s]"
     ]
    },
    {
     "name": "stdout",
     "output_type": "stream",
     "text": [
      "CommonStockConversionBasis | [mapped.1 (0.84)] Balance Sheet > common stock conversion basis → balance sheet > shareholders' equity > common stock\n",
      "NetCashProvidedByUsedInInvestingActivitiesContinuingOperations | [mapped.1 (0.84)] Cash Flow Statement > net cash provided by used in investing activities continuing operations → cash flow > investing activities > capital expenditures\n",
      "NetCashProvidedByUsedInFinancingActivitiesContinuingOperations | [mapped.1 (0.84)] Cash Flow Statement > net cash provided by used in financing activities continuing operations → cash flow > financing activities > other financing activities\n",
      "PaymentsToAcquireBuildings | [mapped.1 (0.82)] Cash Flow Statement > payments to acquire buildings → cash flow > investing activities > acquisitions\n",
      "PaymentsToAcquireLandHeldForUse | [mapped.1 (0.76)] Cash Flow Statement > payments to acquire land held for use → cash flow > cash interest paid\n"
     ]
    },
    {
     "name": "stderr",
     "output_type": "stream",
     "text": [
      "Processing rows: 1459it [01:14, 20.09it/s]"
     ]
    },
    {
     "name": "stdout",
     "output_type": "stream",
     "text": [
      "PaymentsToAcquireMachineryAndEquipment | [mapped.1 (0.79)] Cash Flow Statement > payments to acquire machinery and equipment → cash flow > investing activities > acquisitions\n",
      "PaymentsToAcquireFurnitureAndFixtures | [mapped.1 (0.77)] Cash Flow Statement > payments to acquire furniture and fixtures → cash flow > investing activities > purchase of investments\n",
      "ProceedsFromSaleOfLandHeldForUse | [mapped.1 (0.80)] Cash Flow Statement > proceeds from sale of land held for use → cash flow > investing activities > proceeds from sale > maturity of investments\n",
      "ProceedsFromSaleOfBuildings | [mapped.1 (0.83)] Cash Flow Statement > proceeds from sale of buildings → cash flow > investing activities > proceeds from sale > maturity of investments\n",
      "ProceedsFromSaleOfMachineryAndEquipment | [mapped.1 (0.83)] Cash Flow Statement > proceeds from sale of machinery and equipment → cash flow > investing activities > proceeds from sale > maturity of investments\n"
     ]
    },
    {
     "name": "stderr",
     "output_type": "stream",
     "text": [
      "Processing rows: 1462it [01:14, 20.41it/s]"
     ]
    },
    {
     "name": "stdout",
     "output_type": "stream",
     "text": [
      "ProceedsFromSaleOfFurnitureAndFixtures | [mapped.1 (0.80)] Cash Flow Statement > proceeds from sale of furniture and fixtures → cash flow > investing activities > proceeds from sale > maturity of investments\n",
      "ProceedsFromSaleOfOtherPropertyPlantAndEquipment | [mapped.1 (0.82)] Cash Flow Statement > proceeds from sale of other property plant and equipment → cash flow > investing activities > proceeds from sale > maturity of investments\n",
      "CashProvidedByUsedInOperatingActivitiesDiscontinuedOperations | [mapped.1 (0.81)] Cash Flow Statement > cash provided by used in operating activities discontinued operations → cash flow > operating activities > depreciation > amortization\n",
      "CashProvidedByUsedInInvestingActivitiesDiscontinuedOperations | [mapped.1 (0.82)] Cash Flow Statement > cash provided by used in investing activities discontinued operations → cash flow > investing activities > proceeds from sale > maturity of investments\n",
      "CashProvidedByUsedInFinancingActivitiesDiscontinuedOperations | [mapped.1 (0.83)] Cash Flow Statement > cash provided by used in financing activities discontinued operations → cash flow > financing activities > other financing activities\n"
     ]
    },
    {
     "name": "stderr",
     "output_type": "stream",
     "text": [
      "Processing rows: 1468it [01:14, 21.73it/s]"
     ]
    },
    {
     "name": "stdout",
     "output_type": "stream",
     "text": [
      "OtherComprehensiveIncomeDefinedBenefitPlanNetPriorServiceCostCreditArisingDuringPeriodBeforeTax | [mapped.1 (0.76)] Comprehensive Income > other comprehensive income defined benefit plan net prior service cost credit arising during period before tax → comprehensive income > other comprehensive income\n",
      "TreasuryStockValue | [mapped.1 (0.91)] Equity Statement > treasury stock value → equity statement > treasury stock activity\n",
      "TreasuryStockValue | [mapped.1 (0.89)] Balance Sheet > treasury stock value → balance sheet > shareholders' equity > treasury stock\n",
      "CashFlowSupplementalDisclosuresTextBlock | [mapped.1 (0.74)] Cash Flow Statement > cash flow supplemental disclosures text block → cash flow > financing activities > other financing activities\n",
      "PaymentsToAcquireAvailableForSaleSecuritiesDebt | [mapped.1 (0.78)] Cash Flow Statement > payments to acquire available for sale securities debt → cash flow > investing activities > acquisitions\n"
     ]
    },
    {
     "name": "stderr",
     "output_type": "stream",
     "text": [
      "Processing rows: 1471it [01:14, 21.01it/s]"
     ]
    },
    {
     "name": "stdout",
     "output_type": "stream",
     "text": [
      "ProceedsFromSaleOfAvailableForSaleSecuritiesDebt | [mapped.1 (0.81)] Cash Flow Statement > proceeds from sale of available for sale securities debt → cash flow > investing activities > proceeds from sale > maturity of investments\n",
      "ProceedsFromSaleOfNotesReceivable | [mapped.1 (0.80)] Cash Flow Statement > proceeds from sale of notes receivable → cash flow > investing activities > proceeds from sale > maturity of investments\n",
      "IncreaseDecreaseInFinancialInstrumentsSoldNotYetPurchased | [mapped.1 (0.78)] Cash Flow Statement > increase decrease in financial instruments sold not yet purchased → cash flow > investing activities > purchase of investments\n",
      "AccumulatedOtherComprehensiveIncomeLossAvailableForSaleSecuritiesAdjustmentNetOfTax | [mapped.1 (0.79)] Balance Sheet > accumulated other comprehensive income loss available for sale securities adjustment net of tax → balance sheet > shareholders' equity > accumulated other comprehensive income\n"
     ]
    },
    {
     "name": "stderr",
     "output_type": "stream",
     "text": [
      "Processing rows: 1477it [01:15, 21.09it/s]"
     ]
    },
    {
     "name": "stdout",
     "output_type": "stream",
     "text": [
      "AccumulatedOtherComprehensiveIncomeLossDefinedBenefitPensionAndOtherPostretirementPlansNetOfTax | [mapped.1 (0.76)] Balance Sheet > accumulated other comprehensive income loss defined benefit pension and other postretirement plans net of tax → balance sheet > shareholders' equity > accumulated other comprehensive income\n",
      "DebtIssuanceCostsIncurredDuringNoncashOrPartialNoncashTransaction | [mapped.1 (0.77)] Cash Flow Statement > debt issuance costs incurred during noncash or partial noncash transaction → cash flow > financing activities > short term debt, net\n",
      "NoncashOrPartNoncashDivestitureTypeOfConsiderationReceived | [mapped.1 (0.79)] Cash Flow Statement > noncash or part noncash divestiture type of consideration received → cash flow > operating activities > other non-cash items\n",
      "StockholdersEquityPeriodIncreaseDecrease | [mapped.1 (0.82)] Equity Statement > stockholders equity period increase decrease → equity statement > other equity adjustments\n",
      "AdjustmentsToAdditionalPaidInCapitalWarrantIssued | [mapped.1 (0.83)] Equity Statement > adjustments to additional paid in capital warrant issued → equity statement > other equity adjustments\n"
     ]
    },
    {
     "name": "stderr",
     "output_type": "stream",
     "text": [
      "Processing rows: 1483it [01:15, 20.98it/s]"
     ]
    },
    {
     "name": "stdout",
     "output_type": "stream",
     "text": [
      "IncreaseDecreaseInBrokerageReceivables | [mapped.1 (0.79)] Cash Flow Statement > increase decrease in brokerage receivables → cash flow > operating activities > changes in accounts receivable\n",
      "IncreaseDecreaseInPayablesToBrokerDealers | [mapped.1 (0.75)] Cash Flow Statement > increase decrease in payables to broker dealers → cash flow > operating activities > changes in accounts payable\n",
      "ProceedsFromSaleAndCollectionOfLeaseReceivables | [mapped.1 (0.81)] Cash Flow Statement > proceeds from sale and collection of lease receivables → cash flow > investing activities > proceeds from sale > maturity of investments\n",
      "ProceedsFromCollectionOfLeaseReceivables | [mapped.1 (0.77)] Cash Flow Statement > proceeds from collection of lease receivables → cash flow > investing activities > proceeds from sale > maturity of investments\n",
      "RegulatedEntityOtherAssetsNoncurrent | [mapped.1 (0.86)] Balance Sheet > regulated entity other assets noncurrent → balance sheet > assets > other current assets\n"
     ]
    },
    {
     "name": "stderr",
     "output_type": "stream",
     "text": [
      "Processing rows: 1486it [01:15, 21.24it/s]"
     ]
    },
    {
     "name": "stdout",
     "output_type": "stream",
     "text": [
      "GainLossOnSaleOfOtherLoansAndLeases | [mapped.1 (0.78)] Cash Flow Statement > gain loss on sale of other loans and leases → cash flow > operating activities > changes in other liabilities\n",
      "TreasuryStockCarryingBasis | [mapped.1 (0.88)] Equity Statement > treasury stock carrying basis → equity statement > treasury stock activity\n",
      "GeneralInsuranceExpense | [mapped.1 (0.83)] Income Statement > general insurance expense → income statement > other operating expenses\n",
      "CommonStockSharesSubscribedButUnissued | [mapped.1 (0.78)] Balance Sheet > common stock shares subscribed but unissued → balance sheet > shareholders' equity > common stock\n",
      "ProceedsFromSaleAndCollectionOfNotesReceivable | [mapped.1 (0.81)] Cash Flow Statement > proceeds from sale and collection of notes receivable → cash flow > investing activities > proceeds from sale > maturity of investments\n"
     ]
    },
    {
     "name": "stderr",
     "output_type": "stream",
     "text": [
      "Processing rows: 1492it [01:15, 21.21it/s]"
     ]
    },
    {
     "name": "stdout",
     "output_type": "stream",
     "text": [
      "ProceedsFromSaleAndCollectionOfOtherReceivables | [mapped.1 (0.82)] Cash Flow Statement > proceeds from sale and collection of other receivables → cash flow > investing activities > proceeds from sale > maturity of investments\n",
      "ProceedsFromCollectionOfOtherReceivables | [mapped.1 (0.78)] Cash Flow Statement > proceeds from collection of other receivables → cash flow > investing activities > proceeds from sale > maturity of investments\n",
      "ProceedsFromSaleAndCollectionOfLoansReceivable | [mapped.1 (0.81)] Cash Flow Statement > proceeds from sale and collection of loans receivable → cash flow > investing activities > proceeds from sale > maturity of investments\n",
      "ProceedsFromCollectionOfLoansReceivable | [mapped.1 (0.77)] Cash Flow Statement > proceeds from collection of loans receivable → cash flow > cash interest paid\n",
      "ProceedsFromMaturitiesPrepaymentsAndCallsOfSecuritiesOperatingActivities | [mapped.1 (0.83)] Cash Flow Statement > proceeds from maturities prepayments and calls of securities operating activities → cash flow > investing activities > proceeds from sale > maturity of investments\n"
     ]
    },
    {
     "name": "stderr",
     "output_type": "stream",
     "text": [
      "Processing rows: 1495it [01:16, 21.06it/s]"
     ]
    },
    {
     "name": "stdout",
     "output_type": "stream",
     "text": [
      "AdjustmentsToAdditionalPaidInCapitalStockSplit | [mapped.1 (0.86)] Equity Statement > adjustments to additional paid in capital stock split → equity statement > other equity adjustments\n",
      "PremiumsAndOtherReceivablesNet | [mapped.1 (0.82)] Balance Sheet > premiums and other receivables net → balance sheet > assets > accounts receivable\n",
      "DeferredPolicyAcquisitionCostsAndValueOfBusinessAcquired | [unmapped] Balance Sheet > deferred policy acquisition costs and value of business acquired\n"
     ]
    },
    {
     "name": "stderr",
     "output_type": "stream",
     "text": [
      "Processing rows: 1498it [01:16, 16.64it/s]"
     ]
    },
    {
     "name": "stdout",
     "output_type": "stream",
     "text": [
      "DeferredPolicyAcquisitionCostsAndValueOfBusinessAcquired | [mapped.2 (0.73)] Balance Sheet > StatementTable > StatementLineItems > DeferredPolicyAcquisitionCostsAndValueOfBusinessAcquired → balance sheet > shareholders' equity > redeemable preferred stock\n",
      "ReceivablesFromBrokersDealersAndClearingOrganizations | [mapped.1 (0.79)] Balance Sheet > receivables from brokers dealers and clearing organizations → balance sheet > assets > accounts receivable\n",
      "InvestmentRelatedLiabilities | [mapped.1 (0.85)] Balance Sheet > investment related liabilities → balance sheet > liabilities > other current liabilities\n",
      "DepreciationNonproduction | [mapped.1 (0.82)] Cash Flow Statement > depreciation nonproduction → cash flow > operating activities > depreciation > amortization\n"
     ]
    },
    {
     "name": "stderr",
     "output_type": "stream",
     "text": [
      "Processing rows: 1501it [01:16, 15.56it/s]"
     ]
    },
    {
     "name": "stdout",
     "output_type": "stream",
     "text": [
      "DepreciationNonproduction | [mapped.1 (0.86)] Income Statement > depreciation nonproduction → income statement > depreciation > amortization\n",
      "ConvertibleDebtNoncurrent | [unmapped] Balance Sheet > convertible debt noncurrent\n",
      "ConvertibleDebt | [unmapped] Balance Sheet > convertible debt\n"
     ]
    },
    {
     "name": "stderr",
     "output_type": "stream",
     "text": [
      "Processing rows: 1505it [01:16, 15.31it/s]"
     ]
    },
    {
     "name": "stdout",
     "output_type": "stream",
     "text": [
      "IncreaseDecreaseInDeferredIncomeTaxes | [mapped.1 (0.80)] Cash Flow Statement > increase decrease in deferred income taxes → cash flow > operating activities > deferred taxes\n",
      "IncreaseDecreaseInDeferredRevenue | [mapped.1 (0.81)] Cash Flow Statement > increase decrease in deferred revenue → cash flow > operating activities > deferred revenue\n",
      "DeferredRevenue | [mapped.1 (0.84)] Balance Sheet > deferred revenue → balance sheet > liabilities > deferred income tax\n",
      "OtherCostAndExpenseOperating | [mapped.1 (0.94)] Income Statement > other cost and expense operating → income statement > other operating expenses\n"
     ]
    },
    {
     "name": "stderr",
     "output_type": "stream",
     "text": [
      "Processing rows: 1509it [01:17, 16.22it/s]"
     ]
    },
    {
     "name": "stdout",
     "output_type": "stream",
     "text": [
      "OtherLongTermDebtNoncurrent | [mapped.1 (0.87)] Balance Sheet > other long term debt noncurrent → balance sheet > liabilities > other long term liabilities\n",
      "OtherLongTermDebt | [mapped.1 (0.91)] Balance Sheet > other long term debt → balance sheet > liabilities > other long term liabilities\n",
      "OtherAssetsNoncurrent | [mapped.1 (0.90)] Balance Sheet > other assets noncurrent → balance sheet > assets > other current assets\n",
      "PaymentsForProceedsFromOtherDeposits | [mapped.1 (0.78)] Cash Flow Statement > payments for proceeds from other deposits → cash flow > financing activities > other financing activities\n"
     ]
    },
    {
     "name": "stderr",
     "output_type": "stream",
     "text": [
      "Processing rows: 1514it [01:17, 18.67it/s]"
     ]
    },
    {
     "name": "stdout",
     "output_type": "stream",
     "text": [
      "OperatingExpenses | [mapped.1 (0.96)] Income Statement > operating expenses → income statement > other operating expenses\n",
      "AntidilutiveSecuritiesExcludedFromComputationOfEarningsPerShareAmount | [mapped.1 (0.70)] Income Statement > antidilutive securities excluded from computation of earnings per share amount → income statement > discontinued operations\n",
      "IncreaseDecreaseInBrokerDealerRelatedReceivablesPayablesNet | [mapped.1 (0.78)] Cash Flow Statement > increase decrease in broker dealer related receivables payables net → cash flow > operating activities > changes in accounts receivable\n",
      "OtherInvestmentsAndSecuritiesAtCost | [mapped.1 (0.83)] Balance Sheet > other investments and securities at cost → balance sheet > assets > short term investments\n",
      "IncreaseDecreaseInOtherOperatingLiabilities | [mapped.1 (0.86)] Cash Flow Statement > increase decrease in other operating liabilities → cash flow > operating activities > changes in other liabilities\n"
     ]
    },
    {
     "name": "stderr",
     "output_type": "stream",
     "text": [
      "Processing rows: 1519it [01:17, 17.72it/s]"
     ]
    },
    {
     "name": "stdout",
     "output_type": "stream",
     "text": [
      "ProceedsFromSaleAndCollectionOfFinanceReceivables | [mapped.1 (0.82)] Cash Flow Statement > proceeds from sale and collection of finance receivables → cash flow > investing activities > proceeds from sale > maturity of investments\n",
      "InvestmentIncomeNetAmortizationOfDiscountAndPremium | [mapped.1 (0.81)] Income Statement > investment income net amortization of discount and premium → income statement > depreciation > amortization\n",
      "IncreaseDecreaseInFundsHeldUnderReinsuranceAgreements | [unmapped] Cash Flow Statement > increase decrease in funds held under reinsurance agreements\n",
      "IncreaseDecreaseInFundsHeldUnderReinsuranceAgreements | [mapped.2 (0.71)] Cash Flow Statement > StatementTable > StatementLineItems > IncreaseDecreaseInFundsHeldUnderReinsuranceAgreements → cash flow > financing activities > other financing activities\n",
      "PreferredStockRedemptionPremium | [mapped.1 (0.85)] Income Statement > preferred stock redemption premium → income statement > preferred dividends\n"
     ]
    },
    {
     "name": "stderr",
     "output_type": "stream",
     "text": [
      "Processing rows: 1524it [01:17, 19.21it/s]"
     ]
    },
    {
     "name": "stdout",
     "output_type": "stream",
     "text": [
      "PreferredStockRedemptionPremium | [mapped.1 (0.87)] Equity Statement > preferred stock redemption premium → equity statement > preferred dividends\n",
      "PreferredStockConversionsInducements | [mapped.1 (0.84)] Income Statement > preferred stock conversions inducements → income statement > preferred dividends\n",
      "SpentNuclearFuelObligationNoncurrent | [mapped.1 (0.72)] Balance Sheet > spent nuclear fuel obligation noncurrent → balance sheet > liabilities > other current liabilities\n",
      "GainOnBusinessInterruptionInsuranceRecovery | [mapped.1 (0.77)] Income Statement > gain on business interruption insurance recovery → income statement > gain (loss) on sale of assets\n",
      "DeferredCompensationCashBasedArrangementsLiabilityCurrent | [mapped.1 (0.76)] Balance Sheet > deferred compensation cash based arrangements liability current → balance sheet > liabilities > other current liabilities\n"
     ]
    },
    {
     "name": "stderr",
     "output_type": "stream",
     "text": [
      "Processing rows: 1528it [01:18, 18.19it/s]"
     ]
    },
    {
     "name": "stdout",
     "output_type": "stream",
     "text": [
      "DeferredCompensationShareBasedArrangementsLiabilityCurrent | [mapped.1 (0.78)] Balance Sheet > deferred compensation share based arrangements liability current → balance sheet > liabilities > deferred income tax\n",
      "IncomeLossFromContinuingOperationsBeforeIncomeTaxesMinorityInterestAndIncomeLossFromEquityMethodInvestments | [mapped.1 (0.82)] Income Statement > income loss from continuing operations before income taxes minority interest and income loss from equity method investments → income statement > minority interest\n",
      "OtherDeferredCompensationArrangementsLiabilityCurrent | [mapped.1 (0.81)] Balance Sheet > other deferred compensation arrangements liability current → balance sheet > liabilities > other current liabilities\n",
      "DeferredRentCreditCurrent | [mapped.1 (0.77)] Balance Sheet > deferred rent credit current → balance sheet > liabilities > deferred income tax\n"
     ]
    },
    {
     "name": "stderr",
     "output_type": "stream",
     "text": [
      "Processing rows: 1532it [01:18, 17.72it/s]"
     ]
    },
    {
     "name": "stdout",
     "output_type": "stream",
     "text": [
      "DeferredRentCreditNoncurrent | [mapped.1 (0.76)] Balance Sheet > deferred rent credit noncurrent → balance sheet > liabilities > deferred income tax\n",
      "DeferredRentCredit | [mapped.1 (0.79)] Balance Sheet > deferred rent credit → balance sheet > liabilities > deferred income tax\n",
      "AccruedCappingClosurePostClosureAndEnvironmentalCostsNoncurrent | [mapped.1 (0.76)] Balance Sheet > accrued capping closure post closure and environmental costs noncurrent → balance sheet > liabilities > accrued expenses\n",
      "DeferredIncomeTaxesAndTaxCredits | [mapped.1 (0.85)] Cash Flow Statement > deferred income taxes and tax credits → cash flow > operating activities > deferred taxes\n"
     ]
    },
    {
     "name": "stderr",
     "output_type": "stream",
     "text": [
      "Processing rows: 1536it [01:18, 16.81it/s]"
     ]
    },
    {
     "name": "stdout",
     "output_type": "stream",
     "text": [
      "SecuritiesLoaned | [mapped.1 (0.77)] Balance Sheet > securities loaned → balance sheet > shareholders' equity > treasury stock\n",
      "UnearnedPremiums | [mapped.1 (0.76)] Balance Sheet > unearned premiums → balance sheet > liabilities > accrued expenses\n",
      "DeferredRentAssetNetCurrent | [mapped.1 (0.80)] Balance Sheet > deferred rent asset net current → balance sheet > assets > other current assets\n",
      "AccruedCappingClosurePostClosureAndEnvironmentalCosts | [mapped.1 (0.75)] Balance Sheet > accrued capping closure post closure and environmental costs → balance sheet > liabilities > accrued expenses\n"
     ]
    },
    {
     "name": "stderr",
     "output_type": "stream",
     "text": [
      "Processing rows: 1541it [01:18, 19.44it/s]"
     ]
    },
    {
     "name": "stdout",
     "output_type": "stream",
     "text": [
      "ReinsurancePayable | [mapped.1 (0.80)] Balance Sheet > reinsurance payable → balance sheet > liabilities > accounts payable\n",
      "CollateralizedFinancings | [mapped.1 (0.75)] Balance Sheet > collateralized financings → balance sheet > shareholders' equity > preferred stock\n",
      "CommonStockParOrStatedValuePerShare | [mapped.1 (0.86)] Balance Sheet > common stock par or stated value per share → balance sheet > shareholders' equity > common stock\n",
      "OtherComprehensiveIncomeReclassificationAdjustmentForHeldToMaturityTransferredToAvailableForSaleSecuritiesBeforeTax | [mapped.1 (0.79)] Comprehensive Income > other comprehensive income reclassification adjustment for held to maturity transferred to available for sale securities before tax → comprehensive income > other comprehensive income\n",
      "OtherComprehensiveIncomeReclassificationAdjustmentForHeldToMaturityTransferredToAvailableForSaleSecuritiesTax | [mapped.1 (0.79)] Comprehensive Income > other comprehensive income reclassification adjustment for held to maturity transferred to available for sale securities tax → comprehensive income > unrealized gain (loss) on securities\n",
      "OtherComprehensiveIncomeForeignCurrencyTransactionAndTranslationGainLossArisingDuringPeriodNetOfTax | [mapped.1 (0.83)] Comprehensive Income > other comprehensive income foreign currency transaction and translation gain loss arising during period net of tax → comprehensive income > foreign currency translation\n"
     ]
    },
    {
     "name": "stderr",
     "output_type": "stream",
     "text": [
      "Processing rows: 1544it [01:18, 21.46it/s]"
     ]
    },
    {
     "name": "stdout",
     "output_type": "stream",
     "text": [
      "OtherComprehensiveIncomeForeignCurrencyTranslationGainLossArisingDuringPeriodTax | [mapped.1 (0.85)] Comprehensive Income > other comprehensive income foreign currency translation gain loss arising during period tax → comprehensive income > foreign currency translation\n",
      "TreasuryStockDeferredEmployeeStockOwnershipPlan | [mapped.1 (0.86)] Balance Sheet > treasury stock deferred employee stock ownership plan → balance sheet > shareholders' equity > treasury stock\n",
      "InvestmentsAndCash | [mapped.1 (0.86)] Balance Sheet > investments and cash → balance sheet > assets > cash & equivalents\n",
      "ObligationToReturnSecuritiesReceivedAsCollateral | [mapped.1 (0.74)] Balance Sheet > obligation to return securities received as collateral → balance sheet > shareholders' equity > treasury stock\n"
     ]
    },
    {
     "name": "stderr",
     "output_type": "stream",
     "text": [
      "Processing rows: 1550it [01:19, 18.32it/s]"
     ]
    },
    {
     "name": "stdout",
     "output_type": "stream",
     "text": [
      "PreferredStockValueOutstanding | [mapped.1 (0.87)] Balance Sheet > preferred stock value outstanding → balance sheet > shareholders' equity > redeemable preferred stock\n",
      "CommonStockValueOutstanding | [mapped.1 (0.86)] Balance Sheet > common stock value outstanding → balance sheet > shareholders' equity > common stock\n",
      "FundsHeldForClients | [mapped.1 (0.78)] Balance Sheet > funds held for clients → balance sheet > assets > other current assets\n",
      "FundsHeldUnderReinsuranceAgreementsAsset | [mapped.1 (0.74)] Balance Sheet > funds held under reinsurance agreements asset → balance sheet > assets > other current assets\n"
     ]
    },
    {
     "name": "stderr",
     "output_type": "stream",
     "text": [
      "Processing rows: 1553it [01:19, 19.44it/s]"
     ]
    },
    {
     "name": "stdout",
     "output_type": "stream",
     "text": [
      "GainLossOnDerivativeInstrumentsHeldForTradingPurposesNet | [mapped.1 (0.83)] Income Statement > gain loss on derivative instruments held for trading purposes net → income statement > gain (loss) on sale of assets\n",
      "InsuranceRecoveries | [mapped.1 (0.78)] Income Statement > insurance recoveries → income statement > net sales\n",
      "GainLossOnSaleOfStockInSubsidiaryOrEquityMethodInvestee | [mapped.1 (0.85)] Income Statement > gain loss on sale of stock in subsidiary or equity method investee → income statement > gain (loss) on sale of assets\n",
      "GainLossOnSaleOfStockInSubsidiaryOrEquityMethodInvestee | [mapped.1 (0.79)] Cash Flow Statement > gain loss on sale of stock in subsidiary or equity method investee → cash flow > investing activities > proceeds from sale > maturity of investments\n",
      "SecuritiesSoldUnderAgreementsToRepurchase | [mapped.1 (0.75)] Balance Sheet > securities sold under agreements to repurchase → balance sheet > shareholders' equity > redeemable preferred stock\n"
     ]
    },
    {
     "name": "stderr",
     "output_type": "stream",
     "text": [
      "Processing rows: 1558it [01:19, 19.38it/s]"
     ]
    },
    {
     "name": "stdout",
     "output_type": "stream",
     "text": [
      "CollateralizedAgreements | [mapped.1 (0.76)] Balance Sheet > collateralized agreements → balance sheet > assets > other current assets\n",
      "OperatingCostsAndExpenses | [mapped.1 (0.94)] Income Statement > operating costs and expenses → income statement > other operating expenses\n",
      "UnearnedESOPShares | [mapped.1 (0.79)] Balance Sheet > unearned esop shares → balance sheet > shareholders' equity > treasury stock\n",
      "StockholdersEquity | [mapped.1 (0.90)] Balance Sheet > stockholders equity → balance sheet > shareholders' equity > common stock\n"
     ]
    },
    {
     "name": "stderr",
     "output_type": "stream",
     "text": [
      "Processing rows: 1562it [01:19, 18.35it/s]"
     ]
    },
    {
     "name": "stdout",
     "output_type": "stream",
     "text": [
      "FinancialInstrumentsOwnedUSGovernmentAndAgencyObligationsAtFairValue | [mapped.1 (0.75)] Balance Sheet > financial instruments owned us government and agency obligations at fair value → balance sheet > assets > cash & equivalents\n",
      "FinancialInstrumentsOwnedStateAndMunicipalGovernmentObligationsAtFairValue | [mapped.1 (0.74)] Balance Sheet > financial instruments owned state and municipal government obligations at fair value → balance sheet > assets > intangibles\n",
      "FinancialInstrumentsOwnedCorporateDebtAtFairValue | [mapped.1 (0.77)] Balance Sheet > financial instruments owned corporate debt at fair value → balance sheet > shareholders' equity > preferred stock\n",
      "FinancialInstrumentsOwnedCorporateEquitiesAtFairValue | [mapped.1 (0.80)] Balance Sheet > financial instruments owned corporate equities at fair value → balance sheet > shareholders' equity > preferred stock\n"
     ]
    },
    {
     "name": "stderr",
     "output_type": "stream",
     "text": [
      "Processing rows: 1566it [01:20, 17.13it/s]"
     ]
    },
    {
     "name": "stdout",
     "output_type": "stream",
     "text": [
      "FinancialInstrumentsOwnedPhysicalCommoditiesAtFairValue | [mapped.1 (0.78)] Balance Sheet > financial instruments owned physical commodities at fair value → balance sheet > assets > intangibles\n",
      "FinancialInstrumentsOwnedDerivativesAndOtherContractualAgreementsAtFairValue | [mapped.1 (0.76)] Balance Sheet > financial instruments owned derivatives and other contractual agreements at fair value → balance sheet > shareholders' equity > preferred stock\n",
      "FinancialInstrumentsOwnedPrincipalInvestmentsAtFairValue | [mapped.1 (0.78)] Balance Sheet > financial instruments owned principal investments at fair value → balance sheet > shareholders' equity > preferred stock\n",
      "FinancialInstrumentsOwnedOtherAtFairValue | [mapped.1 (0.80)] Balance Sheet > financial instruments owned other at fair value → balance sheet > shareholders' equity > preferred stock\n"
     ]
    },
    {
     "name": "stderr",
     "output_type": "stream",
     "text": [
      "Processing rows: 1571it [01:20, 19.12it/s]"
     ]
    },
    {
     "name": "stdout",
     "output_type": "stream",
     "text": [
      "FinancialInstrumentsOwnedAtFairValue | [mapped.1 (0.79)] Balance Sheet > financial instruments owned at fair value → balance sheet > shareholders' equity > preferred stock\n",
      "FinancialInstrumentsOwnedMortgagesMortgageBackedAndAssetBackedSecuritiesAtFairValue | [mapped.1 (0.75)] Balance Sheet > financial instruments owned mortgages mortgage backed and asset backed securities at fair value → balance sheet > shareholders' equity > preferred stock\n",
      "OtherComprehensiveIncomeForeignCurrencyTransactionAndTranslationGainLossBeforeReclassificationAndTax | [mapped.1 (0.86)] Comprehensive Income > other comprehensive income foreign currency transaction and translation gain loss before reclassification and tax → comprehensive income > foreign currency translation\n",
      "IncomeTaxExpenseBenefit | [mapped.1 (0.82)] Income Statement > income tax expense benefit → income statement > provision for income taxes\n",
      "FinancialInstrumentsOwnedOtherSovereignGovernmentObligationsAtFairValue | [mapped.1 (0.72)] Balance Sheet > financial instruments owned other sovereign government obligations at fair value → balance sheet > shareholders' equity > treasury stock\n"
     ]
    },
    {
     "name": "stderr",
     "output_type": "stream",
     "text": [
      "Processing rows: 1576it [01:20, 20.10it/s]"
     ]
    },
    {
     "name": "stdout",
     "output_type": "stream",
     "text": [
      "ForeignCurrencyTransactionGainLossBeforeTax | [mapped.1 (0.80)] Cash Flow Statement > foreign currency transaction gain loss before tax → cash flow > foreign exchange effects\n",
      "ForeignCurrencyTransactionGainLossBeforeTax | [mapped.1 (0.82)] Income Statement > foreign currency transaction gain loss before tax → income statement > gain (loss) on sale of assets\n",
      "PublicUtilitiesAllowanceForFundsUsedDuringConstructionAdditions | [mapped.1 (0.72)] Cash Flow Statement > public utilities allowance for funds used during construction additions → cash flow > investing activities > capital expenditures\n",
      "PublicUtilitiesAllowanceForFundsUsedDuringConstructionAdditions | [mapped.1 (0.71)] Income Statement > public utilities allowance for funds used during construction additions → income statement > provision for income taxes\n",
      "PensionAndOtherPostretirementBenefitContributions | [mapped.1 (0.76)] Cash Flow Statement > pension and other postretirement benefit contributions → cash flow > financing activities > repurchase > retirement of common stock\n"
     ]
    },
    {
     "name": "stderr",
     "output_type": "stream",
     "text": [
      "Processing rows: 1582it [01:20, 21.03it/s]"
     ]
    },
    {
     "name": "stdout",
     "output_type": "stream",
     "text": [
      "InterestCostsIncurred | [mapped.1 (0.86)] Income Statement > interest costs incurred → income statement > interest expense - operating\n",
      "ForeignCurrencyTransactionLossBeforeTax | [mapped.1 (0.81)] Cash Flow Statement > foreign currency transaction loss before tax → cash flow > foreign exchange effects\n",
      "ForeignCurrencyTransactionGainBeforeTax | [mapped.1 (0.81)] Cash Flow Statement > foreign currency transaction gain before tax → cash flow > foreign exchange effects\n",
      "ForeignCurrencyTransactionGainLossUnrealized | [mapped.1 (0.81)] Cash Flow Statement > foreign currency transaction gain loss unrealized → cash flow > foreign exchange effects\n",
      "PaymentsToAcquireMortgageBackedSecuritiesMBSCategorizedAsHeldToMaturity | [mapped.1 (0.76)] Cash Flow Statement > payments to acquire mortgage backed securities mbs categorized as held to maturity → cash flow > investing activities > proceeds from sale > maturity of investments\n"
     ]
    },
    {
     "name": "stderr",
     "output_type": "stream",
     "text": [
      "Processing rows: 1585it [01:21, 21.55it/s]"
     ]
    },
    {
     "name": "stdout",
     "output_type": "stream",
     "text": [
      "ProceedsFromCollectionOfRetainedInterestInSecuritizedReceivablesCategorizedAsHeldToMaturity | [mapped.1 (0.79)] Cash Flow Statement > proceeds from collection of retained interest in securitized receivables categorized as held to maturity → cash flow > investing activities > proceeds from sale > maturity of investments\n",
      "ProceedsFromCollectionOfRetainedInterestInSecuritizedReceivablesCategorizedAsAvailableForSale | [mapped.1 (0.76)] Cash Flow Statement > proceeds from collection of retained interest in securitized receivables categorized as available for sale → cash flow > investing activities > proceeds from sale > maturity of investments\n",
      "IncreaseDecreaseInInterestsContinuedToBeHeldByTransferorCurrent | [mapped.1 (0.78)] Cash Flow Statement > increase decrease in interests continued to be held by transferor current → cash flow > cash interest paid\n",
      "IncreaseDecreaseInInsuranceAssets | [mapped.1 (0.77)] Cash Flow Statement > increase decrease in insurance assets → cash flow > operating activities > changes in other assets\n",
      "IncreaseDecreaseInUnearnedPremiums | [mapped.1 (0.75)] Cash Flow Statement > increase decrease in unearned premiums → cash flow > operating activities > changes in other liabilities\n"
     ]
    },
    {
     "name": "stderr",
     "output_type": "stream",
     "text": [
      "Processing rows: 1591it [01:21, 20.07it/s]"
     ]
    },
    {
     "name": "stdout",
     "output_type": "stream",
     "text": [
      "GainLossOnSalesOfMortgageBackedSecuritiesMBS | [mapped.1 (0.82)] Income Statement > gain loss on sales of mortgage backed securities mbs → income statement > gain (loss) on sale of assets\n",
      "ShortTermBankLoansAndNotesPayable | [mapped.1 (0.88)] Balance Sheet > short term bank loans and notes payable → balance sheet > liabilities > notes payable > short term debt\n",
      "ShortTermNonBankLoansAndNotesPayable | [mapped.1 (0.87)] Balance Sheet > short term non bank loans and notes payable → balance sheet > liabilities > notes payable > short term debt\n",
      "ProceedsFromRefundsFromSuppliersOfMaterial | [mapped.1 (0.74)] Cash Flow Statement > proceeds from refunds from suppliers of material → cash flow > investing activities > proceeds from sale > maturity of investments\n"
     ]
    },
    {
     "name": "stderr",
     "output_type": "stream",
     "text": [
      "Processing rows: 1597it [01:21, 21.33it/s]"
     ]
    },
    {
     "name": "stdout",
     "output_type": "stream",
     "text": [
      "PreferredStockValue | [mapped.1 (0.90)] Balance Sheet > preferred stock value → balance sheet > shareholders' equity > preferred stock\n",
      "AdjustmentsToAdditionalPaidInCapitalConvertibleDebtWithConversionFeature | [mapped.1 (0.89)] Equity Statement > adjustments to additional paid in capital convertible debt with conversion feature → equity statement > convertible instrument adjustments\n",
      "OtherOperatingIncome | [mapped.1 (0.89)] Income Statement > other operating income → income statement > other operating expenses\n",
      "StockholdersEquityNoteSpinoffTransaction | [mapped.1 (0.83)] Equity Statement > stockholders equity note spinoff transaction → equity statement > issuance of common stock\n",
      "DepositsForeign | [mapped.1 (0.71)] Balance Sheet > deposits foreign → balance sheet > liabilities > customer advances\n",
      "RevenuesNetOfInterestExpense | [mapped.1 (0.87)] Income Statement > revenues net of interest expense → income statement > interest expense - operating\n"
     ]
    },
    {
     "name": "stderr",
     "output_type": "stream",
     "text": [
      "Processing rows: 1600it [01:21, 22.55it/s]"
     ]
    },
    {
     "name": "stdout",
     "output_type": "stream",
     "text": [
      "CommonStockDividendsPerShareCashPaid | [mapped.1 (0.84)] Income Statement > common stock dividends per share cash paid → income statement > preferred dividends\n",
      "OtherExpenses | [mapped.1 (0.93)] Income Statement > other expenses → income statement > other operating expenses\n",
      "EquipmentExpense | [mapped.1 (0.87)] Income Statement > equipment expense → income statement > other operating expenses\n",
      "GuarantyAssets | [mapped.1 (0.85)] Balance Sheet > guaranty assets → balance sheet > assets > goodwill\n",
      "TimeDeposits | [mapped.1 (0.75)] Balance Sheet > time deposits → balance sheet > liabilities > accrued expenses\n"
     ]
    },
    {
     "name": "stderr",
     "output_type": "stream",
     "text": [
      "Processing rows: 1606it [01:22, 20.37it/s]"
     ]
    },
    {
     "name": "stdout",
     "output_type": "stream",
     "text": [
      "DeferredCostsLeasingNet | [mapped.1 (0.74)] Balance Sheet > deferred costs leasing net → balance sheet > assets > accumulated depreciation\n",
      "IncreaseDecreaseInReceivablesUnderRepurchaseAgreements | [mapped.1 (0.74)] Cash Flow Statement > increase decrease in receivables under repurchase agreements → cash flow > financing activities > repurchase > retirement of common stock\n",
      "IncreaseDecreaseInSecuritiesBorrowed | [mapped.1 (0.76)] Cash Flow Statement > increase decrease in securities borrowed → cash flow > cash interest paid\n",
      "DerivativeLiabilities | [mapped.1 (0.85)] Balance Sheet > derivative liabilities → balance sheet > liabilities > other current liabilities\n",
      "IncreaseDecreaseInPayablesUnderRepurchaseAgreements | [mapped.1 (0.76)] Cash Flow Statement > increase decrease in payables under repurchase agreements → cash flow > financing activities > repurchase > retirement of common stock\n"
     ]
    },
    {
     "name": "stderr",
     "output_type": "stream",
     "text": [
      "Processing rows: 1612it [01:22, 20.21it/s]"
     ]
    },
    {
     "name": "stdout",
     "output_type": "stream",
     "text": [
      "IncreaseDecreaseInSecuritiesLoanedTransactions | [mapped.1 (0.76)] Cash Flow Statement > increase decrease in securities loaned transactions → cash flow > financing activities > other financing activities\n",
      "MinorityInterestDecreaseFromRedemptions | [mapped.1 (0.80)] Equity Statement > minority interest decrease from redemptions → equity statement > redeemable noncontrolling interest adjustments\n",
      "OtherIncome | [mapped.1 (0.87)] Income Statement > other income → income statement > other non-operating income (expense)\n",
      "PropertyPlantAndEquipmentOther | [mapped.1 (0.93)] Balance Sheet > property plant and equipment other → balance sheet > assets > property > plant > equipment\n",
      "DeferredCostsLeasingNetNoncurrent | [mapped.1 (0.75)] Balance Sheet > deferred costs leasing net noncurrent → balance sheet > assets > other current assets\n"
     ]
    },
    {
     "name": "stderr",
     "output_type": "stream",
     "text": [
      "Processing rows: 1615it [01:22, 19.80it/s]"
     ]
    },
    {
     "name": "stdout",
     "output_type": "stream",
     "text": [
      "DeferredCostsLeasingNetCurrent | [mapped.1 (0.74)] Balance Sheet > deferred costs leasing net current → balance sheet > assets > other current assets\n",
      "ProceedsFromSaleOfMortgageLoansHeldForSale | [mapped.1 (0.80)] Cash Flow Statement > proceeds from sale of mortgage loans held for sale → cash flow > investing activities > proceeds from sale > maturity of investments\n",
      "ProceedsFromSaleOfOtherLoansHeldForSale | [mapped.1 (0.80)] Cash Flow Statement > proceeds from sale of other loans held for sale → cash flow > investing activities > proceeds from sale > maturity of investments\n",
      "IncreaseDecreaseInAccountsAndOtherReceivables | [mapped.1 (0.83)] Cash Flow Statement > increase decrease in accounts and other receivables → cash flow > operating activities > changes in accounts receivable\n",
      "ProceedsFromCollectionOfMortgageLoansHeldForSale | [mapped.1 (0.79)] Cash Flow Statement > proceeds from collection of mortgage loans held for sale → cash flow > investing activities > proceeds from sale > maturity of investments\n"
     ]
    },
    {
     "name": "stderr",
     "output_type": "stream",
     "text": [
      "Processing rows: 1621it [01:22, 19.72it/s]"
     ]
    },
    {
     "name": "stdout",
     "output_type": "stream",
     "text": [
      "ProceedsFromCollectionOfLoansHeldForSale | [mapped.1 (0.80)] Cash Flow Statement > proceeds from collection of loans held for sale → cash flow > investing activities > proceeds from sale > maturity of investments\n",
      "ProceedsFromCollectionOfOtherLoansHeldForSale | [mapped.1 (0.79)] Cash Flow Statement > proceeds from collection of other loans held for sale → cash flow > financing activities > other financing activities\n",
      "OffMarketLeaseUnfavorable | [mapped.1 (0.77)] Balance Sheet > off market lease unfavorable → balance sheet > liabilities > capital lease obligations\n",
      "ProceedsFromSecuritizationsOfLoansHeldForSale | [mapped.1 (0.79)] Cash Flow Statement > proceeds from securitizations of loans held for sale → cash flow > investing activities > proceeds from sale > maturity of investments\n"
     ]
    },
    {
     "name": "stderr",
     "output_type": "stream",
     "text": [
      "Processing rows: 1624it [01:23, 19.64it/s]"
     ]
    },
    {
     "name": "stdout",
     "output_type": "stream",
     "text": [
      "ProceedsFromCollectionOfPolicyLoans | [mapped.1 (0.76)] Cash Flow Statement > proceeds from collection of policy loans → cash flow > cash interest paid\n",
      "PaymentsToFundPolicyLoans | [mapped.1 (0.77)] Cash Flow Statement > payments to fund policy loans → cash flow > cash interest paid\n",
      "PreferredStockConversionBasis | [mapped.1 (0.85)] Balance Sheet > preferred stock conversion basis → balance sheet > shareholders' equity > preferred stock\n",
      "DisposalGroupIncludingDiscontinuedOperationOtherNoncurrentAssets | [mapped.1 (0.79)] Balance Sheet > disposal group including discontinued operation other noncurrent assets → balance sheet > assets > other current assets\n"
     ]
    },
    {
     "name": "stderr",
     "output_type": "stream",
     "text": [
      "Processing rows: 1629it [01:23, 20.00it/s]"
     ]
    },
    {
     "name": "stdout",
     "output_type": "stream",
     "text": [
      "ProductWarrantyExpense | [mapped.1 (0.80)] Income Statement > product warranty expense → income statement > other operating expenses\n",
      "ProductWarrantyExpense | [mapped.1 (0.76)] Cash Flow Statement > product warranty expense → cash flow > cash interest paid\n",
      "BenefitsLossesAndExpenses | [mapped.1 (0.82)] Income Statement > benefits losses and expenses → income statement > gain (loss) on sale of assets\n",
      "ReceivablesFromClearingOrganizations | [mapped.1 (0.80)] Balance Sheet > receivables from clearing organizations → balance sheet > assets > accounts receivable\n",
      "DueFromCorrespondentBrokers | [mapped.1 (0.74)] Balance Sheet > due from correspondent brokers → balance sheet > assets > receivables - other > related party\n"
     ]
    },
    {
     "name": "stderr",
     "output_type": "stream",
     "text": [
      "Processing rows: 1634it [01:23, 18.13it/s]"
     ]
    },
    {
     "name": "stdout",
     "output_type": "stream",
     "text": [
      "GoodFaithAndMarginDepositsWithBrokerDealers | [mapped.1 (0.73)] Balance Sheet > good faith and margin deposits with broker dealers → balance sheet > shareholders' equity > preferred stock\n",
      "CommissionsAndFloorBrokerageReceivables | [mapped.1 (0.79)] Balance Sheet > commissions and floor brokerage receivables → balance sheet > assets > accounts receivable\n",
      "OtherReceivablesFromBrokerDealersAndClearingOrganizations | [mapped.1 (0.79)] Balance Sheet > other receivables from broker dealers and clearing organizations → balance sheet > assets > receivables - other > related party\n",
      "SecuritiesFailedToDeliver | [mapped.1 (0.71)] Balance Sheet > securities failed to deliver → balance sheet > shareholders' equity > treasury stock\n"
     ]
    },
    {
     "name": "stderr",
     "output_type": "stream",
     "text": [
      "Processing rows: 1638it [01:23, 17.15it/s]"
     ]
    },
    {
     "name": "stdout",
     "output_type": "stream",
     "text": [
      "SecuritiesFailedToReceive | [mapped.1 (0.72)] Balance Sheet > securities failed to receive → balance sheet > shareholders' equity > treasury stock\n",
      "CommissionsPayableToBrokerDealersAndClearingOrganizations | [mapped.1 (0.71)] Balance Sheet > commissions payable to broker dealers and clearing organizations → balance sheet > shareholders' equity > redeemable preferred stock\n",
      "OtherPayablesToBrokerDealersAndClearingOrganizations | [mapped.1 (0.77)] Balance Sheet > other payables to broker dealers and clearing organizations → balance sheet > shareholders' equity > additional paid-in capital\n",
      "DueToCorrespondentBrokers | [mapped.1 (0.74)] Balance Sheet > due to correspondent brokers → balance sheet > liabilities > customer advances\n"
     ]
    },
    {
     "name": "stderr",
     "output_type": "stream",
     "text": [
      "Processing rows: 1643it [01:24, 19.43it/s]"
     ]
    },
    {
     "name": "stdout",
     "output_type": "stream",
     "text": [
      "OtherSecuredFinancings | [mapped.1 (0.78)] Balance Sheet > other secured financings → balance sheet > shareholders' equity > additional paid-in capital\n",
      "PrincipalInvestmentGainsLosses | [mapped.1 (0.85)] Income Statement > principal investment gains losses → income statement > gain (loss) on sale of assets\n",
      "IncreaseDecreaseInRetailRelatedInventories | [mapped.1 (0.85)] Cash Flow Statement > increase decrease in retail related inventories → cash flow > operating activities > changes in inventories\n",
      "IncreaseDecreaseInFinishedGoodsAndWorkInProcessInventories | [mapped.1 (0.84)] Cash Flow Statement > increase decrease in finished goods and work in process inventories → cash flow > operating activities > changes in inventories\n",
      "IncreaseDecreaseInOtherFinancialInstrumentsUsedInOperatingActivities | [mapped.1 (0.84)] Cash Flow Statement > increase decrease in other financial instruments used in operating activities → cash flow > operating activities > changes in other assets\n"
     ]
    },
    {
     "name": "stderr",
     "output_type": "stream",
     "text": [
      "Processing rows: 1647it [01:24, 18.71it/s]"
     ]
    },
    {
     "name": "stdout",
     "output_type": "stream",
     "text": [
      "IncreaseDecreaseInDeferredLeasingFees | [mapped.1 (0.74)] Cash Flow Statement > increase decrease in deferred leasing fees → cash flow > operating activities > deferred revenue\n",
      "DisposalGroupIncludingDiscontinuedOperationOtherAssets | [mapped.1 (0.80)] Balance Sheet > disposal group including discontinued operation other assets → balance sheet > assets > goodwill\n",
      "DisposalGroupIncludingDiscontinuedOperationOtherLiabilities | [mapped.1 (0.77)] Balance Sheet > disposal group including discontinued operation other liabilities → balance sheet > liabilities > minority interest\n",
      "IncreaseDecreaseInMortgageLoansHeldForSale | [mapped.1 (0.72)] Cash Flow Statement > increase decrease in mortgage loans held for sale → cash flow > investing activities > proceeds from sale > maturity of investments\n"
     ]
    },
    {
     "name": "stderr",
     "output_type": "stream",
     "text": [
      "Processing rows: 1652it [01:24, 20.41it/s]"
     ]
    },
    {
     "name": "stdout",
     "output_type": "stream",
     "text": [
      "DisposalGroupIncludingDiscontinuedOperationDeferredTaxLiabilities | [mapped.1 (0.77)] Balance Sheet > disposal group including discontinued operation deferred tax liabilities → balance sheet > liabilities > deferred income tax\n",
      "PaymentsForMergerRelatedCosts | [mapped.1 (0.76)] Cash Flow Statement > payments for merger related costs → cash flow > investing activities > acquisitions\n",
      "ProceedsFromRepaymentsOfShortTermDebtMaturingInThreeMonthsOrLess | [mapped.1 (0.77)] Cash Flow Statement > proceeds from repayments of short term debt maturing in three months or less → cash flow > cash interest paid\n",
      "ProceedsFromShortTermDebtMaturingInThreeMonthsOrLess | [mapped.1 (0.84)] Cash Flow Statement > proceeds from short term debt maturing in three months or less → cash flow > financing activities > short term debt, net\n",
      "RepaymentsOfShortTermDebtMaturingInThreeMonthsOrLess | [mapped.1 (0.76)] Cash Flow Statement > repayments of short term debt maturing in three months or less → cash flow > financing activities > long term debt, net\n"
     ]
    },
    {
     "name": "stderr",
     "output_type": "stream",
     "text": [
      "Processing rows: 1655it [01:24, 21.14it/s]"
     ]
    },
    {
     "name": "stdout",
     "output_type": "stream",
     "text": [
      "ProceedsFromShortTermDebtMaturingInMoreThanThreeMonths | [mapped.1 (0.83)] Cash Flow Statement > proceeds from short term debt maturing in more than three months → cash flow > financing activities > short term debt, net\n",
      "RepaymentsOfShortTermDebtMaturingInMoreThanThreeMonths | [mapped.1 (0.79)] Cash Flow Statement > repayments of short term debt maturing in more than three months → cash flow > financing activities > long term debt, net\n",
      "ProceedsFromRepaymentsOfShortTermDebtMaturingInMoreThanThreeMonths | [mapped.1 (0.79)] Cash Flow Statement > proceeds from repayments of short term debt maturing in more than three months → cash flow > financing activities > long term debt, net\n",
      "RestructuringCostsAndAssetImpairmentCharges | [mapped.1 (0.79)] Cash Flow Statement > restructuring costs and asset impairment charges → cash flow > operating activities > changes in other liabilities\n",
      "CapitalExpendituresIncurredButNotYetPaid | [mapped.1 (0.81)] Cash Flow Statement > capital expenditures incurred but not yet paid → cash flow > investing activities > capital expenditures\n"
     ]
    },
    {
     "name": "stderr",
     "output_type": "stream",
     "text": [
      "Processing rows: 1661it [01:24, 22.36it/s]"
     ]
    },
    {
     "name": "stdout",
     "output_type": "stream",
     "text": [
      "ConstructionInProgressExpendituresIncurredButNotYetPaid | [mapped.1 (0.78)] Cash Flow Statement > construction in progress expenditures incurred but not yet paid → cash flow > cash taxes paid\n",
      "NetIncomeLossAllocatedToGeneralPartners | [mapped.1 (0.76)] Income Statement > net income loss allocated to general partners → income statement > gain (loss) on sale of assets\n",
      "NetIncomeLossAllocatedToLimitedPartners | [mapped.1 (0.76)] Income Statement > net income loss allocated to limited partners → income statement > net income available to common\n",
      "WeightedAverageGeneralPartnershipUnitsOutstanding | [mapped.1 (0.74)] Income Statement > weighted average general partnership units outstanding → income statement > equity in affiliates\n",
      "IncreaseDecreaseInPostemploymentObligations | [mapped.1 (0.78)] Cash Flow Statement > increase decrease in postemployment obligations → cash flow > operating activities > changes in other liabilities\n"
     ]
    },
    {
     "name": "stderr",
     "output_type": "stream",
     "text": [
      "Processing rows: 1664it [01:25, 21.38it/s]"
     ]
    },
    {
     "name": "stdout",
     "output_type": "stream",
     "text": [
      "RealizedInvestmentGainsLosses | [mapped.1 (0.80)] Cash Flow Statement > realized investment gains losses → cash flow > investing activities > proceeds from sale > maturity of investments\n",
      "PolicyholderFunds | [mapped.1 (0.77)] Balance Sheet > policyholder funds → balance sheet > shareholders' equity > preferred stock\n",
      "PaidInKindInterest | [mapped.1 (0.87)] Cash Flow Statement > paid in kind interest → cash flow > cash interest paid\n",
      "DeferredOfferingCosts | [mapped.1 (0.74)] Balance Sheet > deferred offering costs → balance sheet > shareholders' equity > treasury stock\n"
     ]
    },
    {
     "name": "stderr",
     "output_type": "stream",
     "text": [
      "Processing rows: 1670it [01:25, 20.21it/s]"
     ]
    },
    {
     "name": "stdout",
     "output_type": "stream",
     "text": [
      "JuniorSubordinatedDebentureOwedToUnconsolidatedSubsidiaryTrust | [mapped.1 (0.75)] Balance Sheet > junior subordinated debenture owed to unconsolidated subsidiary trust → balance sheet > liabilities > minority interest\n",
      "OtherRealEstateAndForeclosedAssets | [mapped.1 (0.84)] Balance Sheet > other real estate and foreclosed assets → balance sheet > assets > other current assets\n",
      "DisposalGroupNotDiscontinuedOperationLossGainOnWriteDown | [mapped.1 (0.76)] Cash Flow Statement > disposal group not discontinued operation loss gain on write down → cash flow > operating activities > depreciation > amortization\n",
      "DisposalGroupNotDiscontinuedOperationLossGainOnWriteDown | [mapped.1 (0.80)] Income Statement > disposal group not discontinued operation loss gain on write down → income statement > discontinued operations\n"
     ]
    },
    {
     "name": "stderr",
     "output_type": "stream",
     "text": [
      "Processing rows: 1673it [01:25, 19.14it/s]"
     ]
    },
    {
     "name": "stdout",
     "output_type": "stream",
     "text": [
      "CommonStockNoParValue | [mapped.1 (0.84)] Balance Sheet > common stock no par value → balance sheet > shareholders' equity > common stock\n",
      "LandImprovements | [mapped.1 (0.76)] Balance Sheet > land improvements → balance sheet > assets > property > plant > equipment\n",
      "AccountsAndNotesReceivableNet | [mapped.1 (0.87)] Balance Sheet > accounts and notes receivable net → balance sheet > assets > accounts receivable\n",
      "ReceivableFromOfficersAndDirectorsForIssuanceOfCapitalStock | [mapped.1 (0.78)] Balance Sheet > receivable from officers and directors for issuance of capital stock → balance sheet > shareholders' equity > treasury stock\n"
     ]
    },
    {
     "name": "stderr",
     "output_type": "stream",
     "text": [
      "Processing rows: 1679it [01:25, 21.16it/s]"
     ]
    },
    {
     "name": "stdout",
     "output_type": "stream",
     "text": [
      "ProceedsFromIssuanceOfSharesUnderIncentiveAndShareBasedCompensationPlans | [mapped.1 (0.77)] Cash Flow Statement > proceeds from issuance of shares under incentive and share based compensation plans → cash flow > financing activities > issuance of common stock\n",
      "OtherComprehensiveIncomeFinalizationOfPensionAndNonPensionPostretirementPlanValuationTax | [mapped.1 (0.80)] Comprehensive Income > other comprehensive income finalization of pension and non pension postretirement plan valuation tax → comprehensive income > pension > postretirement adjustments\n",
      "Communication | [mapped.1 (0.83)] Income Statement > communication → income statement > net sales\n",
      "InformationTechnologyAndDataProcessing | [mapped.1 (0.80)] Income Statement > information technology and data processing → income statement > research & development\n",
      "FederalReserveBankStock | [mapped.1 (0.81)] Balance Sheet > federal reserve bank stock → balance sheet > shareholders' equity > treasury stock\n"
     ]
    },
    {
     "name": "stderr",
     "output_type": "stream",
     "text": [
      "Processing rows: 1685it [01:26, 23.43it/s]"
     ]
    },
    {
     "name": "stdout",
     "output_type": "stream",
     "text": [
      "FederalFundsSoldAndSecuritiesPurchasedUnderAgreementsToResellPledgedAsCollateral | [mapped.1 (0.72)] Balance Sheet > federal funds sold and securities purchased under agreements to resell pledged as collateral → balance sheet > shareholders' equity > treasury stock\n",
      "StockIssuedDuringPeriodValueNewIssues | [mapped.1 (0.82)] Equity Statement > stock issued during period value new issues → equity statement > treasury stock activity\n",
      "StockIssuedDuringPeriodValueShareBasedCompensation | [mapped.1 (0.90)] Equity Statement > stock issued during period value share based compensation → equity statement > stock-based compensation\n",
      "StockIssuedDuringPeriodValueEmployeeStockPurchasePlan | [mapped.1 (0.82)] Equity Statement > stock issued during period value employee stock purchase plan → equity statement > issuance of common stock\n",
      "StockIssuedDuringPeriodValueEmployeeStockOwnershipPlan | [mapped.1 (0.81)] Equity Statement > stock issued during period value employee stock ownership plan → equity statement > issuance of common stock\n",
      "StockIssuedDuringPeriodValueRestrictedStockAwardGross | [mapped.1 (0.80)] Equity Statement > stock issued during period value restricted stock award gross → equity statement > common dividends declared\n",
      "StockIssuedDuringPeriodValueRestrictedStockAwardForfeitures | [mapped.1 (0.80)] Equity Statement > stock issued during period value restricted stock award forfeitures → equity statement > issuance of common stock\n"
     ]
    },
    {
     "name": "stderr",
     "output_type": "stream",
     "text": [
      "Processing rows: 1693it [01:26, 27.40it/s]"
     ]
    },
    {
     "name": "stdout",
     "output_type": "stream",
     "text": [
      "StockIssuedDuringPeriodValueRestrictedStockAwardNetOfForfeitures | [mapped.1 (0.79)] Equity Statement > stock issued during period value restricted stock award net of forfeitures → equity statement > issuance of common stock\n",
      "StockIssuedDuringPeriodValueAcquisitions | [mapped.1 (0.82)] Equity Statement > stock issued during period value acquisitions → equity statement > treasury stock activity\n",
      "StockIssuedDuringPeriodValueStockOptionsExercised | [mapped.1 (0.82)] Equity Statement > stock issued during period value stock options exercised → equity statement > issuance of common stock\n",
      "StockIssuedDuringPeriodValueConversionOfConvertibleSecurities | [mapped.1 (0.82)] Equity Statement > stock issued during period value conversion of convertible securities → equity statement > convertible instrument adjustments\n",
      "StockIssuedDuringPeriodValueStockDividend | [mapped.1 (0.85)] Equity Statement > stock issued during period value stock dividend → equity statement > preferred dividends\n",
      "StockIssuedDuringPeriodValueDividendReinvestmentPlan | [mapped.1 (0.84)] Equity Statement > stock issued during period value dividend reinvestment plan → equity statement > preferred dividends declared\n",
      "StockRepurchasedAndRetiredDuringPeriodValue | [mapped.1 (0.87)] Equity Statement > stock repurchased and retired during period value → equity statement > repurchase of common stock\n"
     ]
    },
    {
     "name": "stderr",
     "output_type": "stream",
     "text": [
      "Processing rows: 1696it [01:26, 24.82it/s]"
     ]
    },
    {
     "name": "stdout",
     "output_type": "stream",
     "text": [
      "StockIssuedDuringPeriodSharesNewIssues | [mapped.1 (0.84)] Equity Statement > stock issued during period shares new issues → equity statement > issuance of common stock\n",
      "ReplacementReserveEscrow | [mapped.1 (0.75)] Balance Sheet > replacement reserve escrow → balance sheet > shareholders' equity > treasury stock\n",
      "SecurityDepositLiability | [mapped.1 (0.78)] Balance Sheet > security deposit liability → balance sheet > liabilities > capital lease obligations\n",
      "StockIssuedDuringPeriodSharesShareBasedCompensation | [mapped.1 (0.91)] Equity Statement > stock issued during period shares share based compensation → equity statement > stock-based compensation\n",
      "StockIssuedDuringPeriodSharesEmployeeStockPurchasePlans | [mapped.1 (0.82)] Equity Statement > stock issued during period shares employee stock purchase plans → equity statement > issuance of common stock\n"
     ]
    },
    {
     "name": "stderr",
     "output_type": "stream",
     "text": [
      "Processing rows: 1703it [01:26, 28.24it/s]"
     ]
    },
    {
     "name": "stdout",
     "output_type": "stream",
     "text": [
      "StockIssuedDuringPeriodSharesRestrictedStockAwardGross | [mapped.1 (0.80)] Equity Statement > stock issued during period shares restricted stock award gross → equity statement > issuance of common stock\n",
      "StockIssuedDuringPeriodSharesRestrictedStockAwardForfeited | [mapped.1 (0.80)] Equity Statement > stock issued during period shares restricted stock award forfeited → equity statement > issuance of common stock\n",
      "StockIssuedDuringPeriodSharesRestrictedStockAwardNetOfForfeitures | [mapped.1 (0.80)] Equity Statement > stock issued during period shares restricted stock award net of forfeitures → equity statement > issuance of common stock\n",
      "StockIssuedDuringPeriodSharesAcquisitions | [mapped.1 (0.83)] Equity Statement > stock issued during period shares acquisitions → equity statement > issuance of common stock\n",
      "StockIssuedDuringPeriodSharesStockOptionsExercised | [mapped.1 (0.84)] Equity Statement > stock issued during period shares stock options exercised → equity statement > issuance of common stock\n",
      "StockIssuedDuringPeriodSharesConversionOfConvertibleSecurities | [mapped.1 (0.82)] Equity Statement > stock issued during period shares conversion of convertible securities → equity statement > convertible instrument adjustments\n",
      "StockIssuedDuringPeriodSharesDividendReinvestmentPlan | [mapped.1 (0.84)] Equity Statement > stock issued during period shares dividend reinvestment plan → equity statement > common dividends declared\n"
     ]
    },
    {
     "name": "stderr",
     "output_type": "stream",
     "text": [
      "Processing rows: 1711it [01:26, 29.40it/s]"
     ]
    },
    {
     "name": "stdout",
     "output_type": "stream",
     "text": [
      "StockIssuedDuringPeriodSharesStockSplits | [mapped.1 (0.83)] Equity Statement > stock issued during period shares stock splits → equity statement > common dividends declared\n",
      "StockIssuedDuringPeriodSharesReverseStockSplits | [mapped.1 (0.82)] Equity Statement > stock issued during period shares reverse stock splits → equity statement > preferred dividends declared\n",
      "StockRepurchasedAndRetiredDuringPeriodShares | [mapped.1 (0.88)] Equity Statement > stock repurchased and retired during period shares → equity statement > repurchase of common stock\n",
      "TreasuryStockSharesAcquired | [mapped.1 (0.88)] Equity Statement > treasury stock shares acquired → equity statement > treasury stock activity\n",
      "AdjustmentsToAdditionalPaidInCapitalDividendsInExcessOfRetainedEarnings | [mapped.1 (0.83)] Equity Statement > adjustments to additional paid in capital dividends in excess of retained earnings → equity statement > other equity adjustments\n",
      "ProceedsFromDistributionOfRestrictedCashFromPollutionControlBond | [mapped.1 (0.75)] Cash Flow Statement > proceeds from distribution of restricted cash from pollution control bond → cash flow > cash taxes paid\n"
     ]
    },
    {
     "name": "stderr",
     "output_type": "stream",
     "text": [
      "Processing rows: 1714it [01:27, 26.05it/s]"
     ]
    },
    {
     "name": "stdout",
     "output_type": "stream",
     "text": [
      "PaymentsForInvestmentInRestrictedCashFromPollutionControlBond | [mapped.1 (0.75)] Cash Flow Statement > payments for investment in restricted cash from pollution control bond → cash flow > cash interest paid\n",
      "ForeignCurrencyTransactionGainLossRealized | [mapped.1 (0.82)] Cash Flow Statement > foreign currency transaction gain loss realized → cash flow > foreign exchange effects\n",
      "AccumulatedDeferredInvestmentTaxCredit | [mapped.1 (0.82)] Balance Sheet > accumulated deferred investment tax credit → balance sheet > liabilities > deferred income tax\n",
      "LiabilityForUncertainTaxPositionsCurrent | [mapped.1 (0.83)] Balance Sheet > liability for uncertain tax positions current → balance sheet > liabilities > deferred income tax\n"
     ]
    },
    {
     "name": "stderr",
     "output_type": "stream",
     "text": [
      "Processing rows: 1720it [01:27, 21.75it/s]"
     ]
    },
    {
     "name": "stdout",
     "output_type": "stream",
     "text": [
      "LiabilityForUncertainTaxPositionsNoncurrent | [mapped.1 (0.82)] Balance Sheet > liability for uncertain tax positions noncurrent → balance sheet > liabilities > deferred income tax\n",
      "StockIssuedDuringPeriodSharesPeriodIncreaseDecrease | [mapped.1 (0.80)] Equity Statement > stock issued during period shares period increase decrease → equity statement > issuance of common stock\n",
      "DeferredCostsLeasingGross | [mapped.1 (0.74)] Balance Sheet > deferred costs leasing gross → balance sheet > assets > accumulated depreciation\n",
      "DeferredCostsLeasingAccumulatedAmortization | [mapped.1 (0.79)] Balance Sheet > deferred costs leasing accumulated amortization → balance sheet > liabilities > capital lease obligations\n",
      "StockIssuedDuringPeriodSharesEmployeeStockOwnershipPlan | [mapped.1 (0.82)] Equity Statement > stock issued during period shares employee stock ownership plan → equity statement > issuance of common stock\n"
     ]
    },
    {
     "name": "stderr",
     "output_type": "stream",
     "text": [
      "Processing rows: 1726it [01:27, 23.19it/s]"
     ]
    },
    {
     "name": "stdout",
     "output_type": "stream",
     "text": [
      "UnamortizedDebtIssuanceExpense | [mapped.1 (0.75)] Balance Sheet > unamortized debt issuance expense → balance sheet > assets > prepaid expenses\n",
      "StockRepurchasedDuringPeriodValue | [mapped.1 (0.89)] Equity Statement > stock repurchased during period value → equity statement > repurchase of common stock\n",
      "StockRepurchasedDuringPeriodShares | [mapped.1 (0.90)] Equity Statement > stock repurchased during period shares → equity statement > repurchase of common stock\n",
      "StockIssuedDuringPeriodValueConversionOfUnits | [mapped.1 (0.83)] Equity Statement > stock issued during period value conversion of units → equity statement > issuance of common stock\n",
      "StockIssuedDuringPeriodSharesConversionOfUnits | [mapped.1 (0.84)] Equity Statement > stock issued during period shares conversion of units → equity statement > issuance of common stock\n",
      "IncreaseDecreaseInPensionAndPostretirementObligations | [mapped.1 (0.76)] Cash Flow Statement > increase decrease in pension and postretirement obligations → cash flow > operating activities > changes in other liabilities\n"
     ]
    },
    {
     "name": "stderr",
     "output_type": "stream",
     "text": [
      "Processing rows: 1729it [01:27, 22.72it/s]"
     ]
    },
    {
     "name": "stdout",
     "output_type": "stream",
     "text": [
      "StockRedeemedOrCalledDuringPeriodValue | [mapped.1 (0.83)] Equity Statement > stock redeemed or called during period value → equity statement > preferred dividends declared\n",
      "PaymentOfFinancingAndStockIssuanceCosts | [mapped.1 (0.88)] Cash Flow Statement > payment of financing and stock issuance costs → cash flow > financing activities > issuance of common stock\n",
      "NoncashContributionExpense | [mapped.1 (0.76)] Cash Flow Statement > noncash contribution expense → cash flow > investing activities > capital expenditures\n",
      "IncomeTaxRefundsDiscontinuedOperations | [mapped.1 (0.76)] Cash Flow Statement > income tax refunds discontinued operations → cash flow > cash taxes paid\n",
      "InterestPaidDiscontinuedOperations | [mapped.1 (0.80)] Cash Flow Statement > interest paid discontinued operations → cash flow > cash interest paid\n"
     ]
    },
    {
     "name": "stderr",
     "output_type": "stream",
     "text": [
      "Processing rows: 1735it [01:28, 23.75it/s]"
     ]
    },
    {
     "name": "stdout",
     "output_type": "stream",
     "text": [
      "GainLossOnContractTermination | [mapped.1 (0.74)] Cash Flow Statement > gain loss on contract termination → cash flow > operating activities > changes in other liabilities\n",
      "GainLossOnContractTermination | [mapped.1 (0.82)] Income Statement > gain loss on contract termination → income statement > gain (loss) on sale of assets\n",
      "AdjustmentsToAdditionalPaidInCapitalStockIssuedIssuanceCosts | [mapped.1 (0.84)] Equity Statement > adjustments to additional paid in capital stock issued issuance costs → equity statement > other equity adjustments\n",
      "CostsAndExpenses | [mapped.1 (0.89)] Income Statement > costs and expenses → income statement > other operating expenses\n",
      "IncreaseDecreaseInRetainagePayable | [mapped.1 (0.77)] Cash Flow Statement > increase decrease in retainage payable → cash flow > operating activities > changes in accounts payable\n"
     ]
    },
    {
     "name": "stderr",
     "output_type": "stream",
     "text": [
      "Processing rows: 1741it [01:28, 22.45it/s]"
     ]
    },
    {
     "name": "stdout",
     "output_type": "stream",
     "text": [
      "AllowanceForFundsUsedDuringConstructionInvestingActivities | [mapped.1 (0.80)] Cash Flow Statement > allowance for funds used during construction investing activities → cash flow > investing activities > capital expenditures\n",
      "FixturesAndEquipmentGross | [mapped.1 (0.82)] Balance Sheet > fixtures and equipment gross → balance sheet > assets > property > plant > equipment\n",
      "SharesSubjectToMandatoryRedemptionSettlementTermsAmountNoncurrent | [mapped.1 (0.77)] Balance Sheet > shares subject to mandatory redemption settlement terms amount noncurrent → balance sheet > shareholders' equity > redeemable preferred stock\n",
      "AdjustmentsToAdditionalPaidInCapitalIncreaseInCarryingAmountOfRedeemablePreferredStock | [mapped.1 (0.82)] Equity Statement > adjustments to additional paid in capital increase in carrying amount of redeemable preferred stock → equity statement > other equity adjustments\n",
      "IncreaseInCarryingAmountOfRedeemablePreferredStock | [mapped.1 (0.80)] Equity Statement > increase in carrying amount of redeemable preferred stock → equity statement > preferred dividends\n"
     ]
    },
    {
     "name": "stderr",
     "output_type": "stream",
     "text": [
      "Processing rows: 1747it [01:28, 23.67it/s]"
     ]
    },
    {
     "name": "stdout",
     "output_type": "stream",
     "text": [
      "PaymentsForCapitalImprovements | [mapped.1 (0.78)] Cash Flow Statement > payments for capital improvements → cash flow > financing activities > other financing activities\n",
      "LossFromCatastrophes | [mapped.1 (0.81)] Income Statement > loss from catastrophes → income statement > gain (loss) on sale of assets\n",
      "InterestExpenseJuniorSubordinatedDebentures | [mapped.1 (0.81)] Income Statement > interest expense junior subordinated debentures → income statement > minority interest\n",
      "TreasuryStockValueAcquiredParValueMethod | [mapped.1 (0.84)] Equity Statement > treasury stock value acquired par value method → equity statement > treasury stock activity\n",
      "TreasuryStockValueAcquiredCostMethod | [mapped.1 (0.82)] Equity Statement > treasury stock value acquired cost method → equity statement > treasury stock activity\n",
      "PaymentsForProceedsFromLoansReceivable | [mapped.1 (0.79)] Cash Flow Statement > payments for proceeds from loans receivable → cash flow > cash interest paid\n"
     ]
    },
    {
     "name": "stderr",
     "output_type": "stream",
     "text": [
      "Processing rows: 1750it [01:28, 22.11it/s]"
     ]
    },
    {
     "name": "stdout",
     "output_type": "stream",
     "text": [
      "OtherNoncashIncomeTaxExpense | [mapped.1 (0.83)] Cash Flow Statement > other noncash income tax expense → cash flow > operating activities > other non-cash items\n",
      "ConstructionLoan | [mapped.1 (0.74)] Balance Sheet > construction loan → balance sheet > liabilities > long term debt\n",
      "ConstructionLoanNoncurrent | [mapped.1 (0.74)] Balance Sheet > construction loan noncurrent → balance sheet > liabilities > other current liabilities\n",
      "StockRedeemedOrCalledDuringPeriodShares | [mapped.1 (0.83)] Equity Statement > stock redeemed or called during period shares → equity statement > preferred dividends declared\n",
      "DividendsCommonStock | [mapped.1 (0.91)] Equity Statement > dividends common stock → equity statement > common dividends declared\n"
     ]
    },
    {
     "name": "stderr",
     "output_type": "stream",
     "text": [
      "Processing rows: 1756it [01:28, 23.36it/s]"
     ]
    },
    {
     "name": "stdout",
     "output_type": "stream",
     "text": [
      "DividendsPreferredStock | [mapped.1 (0.95)] Equity Statement > dividends preferred stock → equity statement > preferred dividends\n",
      "ConversionOfStockDescription | [mapped.1 (0.77)] Cash Flow Statement > conversion of stock description → cash flow > financing activities > issuance of common stock\n",
      "DebtConversionDescription | [mapped.1 (0.79)] Cash Flow Statement > debt conversion description → cash flow > financing activities > short term debt, net\n",
      "OtherSignificantNoncashTransactionDescription | [mapped.1 (0.83)] Cash Flow Statement > other significant noncash transaction description → cash flow > operating activities > other non-cash items\n",
      "NoncashOrPartNoncashAcquisitionDescription | [mapped.1 (0.80)] Cash Flow Statement > noncash or part noncash acquisition description → cash flow > operating activities > other non-cash items\n"
     ]
    },
    {
     "name": "stderr",
     "output_type": "stream",
     "text": [
      "Processing rows: 1759it [01:29, 22.86it/s]"
     ]
    },
    {
     "name": "stdout",
     "output_type": "stream",
     "text": [
      "PaymentsForSoftware | [mapped.1 (0.79)] Cash Flow Statement > payments for software → cash flow > cash interest paid\n",
      "DepositsAssetsCurrent | [mapped.1 (0.88)] Balance Sheet > deposits assets current → balance sheet > assets > other current assets\n",
      "DepositsAssets | [mapped.1 (0.87)] Balance Sheet > deposits assets → balance sheet > assets > inventories\n",
      "PreferredStockNoParValue | [mapped.1 (0.84)] Balance Sheet > preferred stock no par value → balance sheet > shareholders' equity > preferred stock\n"
     ]
    },
    {
     "name": "stderr",
     "output_type": "stream",
     "text": [
      "Processing rows: 1765it [01:29, 20.76it/s]"
     ]
    },
    {
     "name": "stdout",
     "output_type": "stream",
     "text": [
      "LitigationReserveCurrent | [mapped.1 (0.78)] Balance Sheet > litigation reserve current → balance sheet > liabilities > other current liabilities\n",
      "PostemploymentBenefitsLiabilityCurrent | [mapped.1 (0.79)] Balance Sheet > postemployment benefits liability current → balance sheet > liabilities > other current liabilities\n",
      "BusinessCombinationAcquisitionRelatedCosts | [mapped.1 (0.76)] Income Statement > business combination acquisition related costs → income statement > cost of revenue\n",
      "ProfitLoss | [mapped.1 (0.78)] Cash Flow Statement > profit loss → cash flow > operating activities > net income > starting line\n",
      "ProfitLoss | [mapped.1 (0.85)] Comprehensive Income > profit loss → comprehensive income > unrealized derivative gains (losses)\n"
     ]
    },
    {
     "name": "stderr",
     "output_type": "stream",
     "text": [
      "Processing rows: 1772it [01:29, 24.27it/s]"
     ]
    },
    {
     "name": "stdout",
     "output_type": "stream",
     "text": [
      "ProfitLoss | [mapped.1 (0.85)] Income Statement > profit loss → income statement > gain (loss) on sale of assets\n",
      "ProfitLoss | [mapped.1 (0.84)] Equity Statement > profit loss → equity statement > net income\n",
      "NetIncomeLossAttributableToNoncontrollingInterest | [mapped.1 (0.82)] Income Statement > net income loss attributable to noncontrolling interest → income statement > interest expense - non-operating\n",
      "NetIncomeLossAttributableToNoncontrollingInterest | [mapped.1 (0.83)] Comprehensive Income > net income loss attributable to noncontrolling interest → comprehensive income > unrealized derivative gains (losses)\n",
      "NetIncomeLossAttributableToNoncontrollingInterest | [mapped.1 (0.85)] Equity Statement > net income loss attributable to noncontrolling interest → equity statement > noncontrolling interest changes\n",
      "AccruedIncomeTaxesCurrent | [mapped.1 (0.83)] Balance Sheet > accrued income taxes current → balance sheet > liabilities > deferred income tax\n"
     ]
    },
    {
     "name": "stderr",
     "output_type": "stream",
     "text": [
      "Processing rows: 1775it [01:29, 22.06it/s]"
     ]
    },
    {
     "name": "stdout",
     "output_type": "stream",
     "text": [
      "AccruedIncomeTaxes | [mapped.1 (0.85)] Balance Sheet > accrued income taxes → balance sheet > liabilities > accrued expenses\n",
      "TimberAndTimberlands | [mapped.1 (0.76)] Balance Sheet > timber and timberlands → balance sheet > assets > property > plant > equipment\n",
      "TaxesExcludingIncomeAndExciseTaxes | [mapped.1 (0.83)] Income Statement > taxes excluding income and excise taxes → income statement > provision for income taxes\n",
      "RealEstateHeldforsale | [mapped.1 (0.79)] Balance Sheet > real estate heldforsale → balance sheet > assets > goodwill\n"
     ]
    },
    {
     "name": "stderr",
     "output_type": "stream",
     "text": [
      "Processing rows: 1778it [01:29, 20.71it/s]"
     ]
    },
    {
     "name": "stdout",
     "output_type": "stream",
     "text": [
      "TenantImprovements | [mapped.1 (0.78)] Balance Sheet > tenant improvements → balance sheet > shareholders' equity > other equity adjustments\n",
      "PaymentsOfDerivativeIssuanceCosts | [mapped.1 (0.77)] Cash Flow Statement > payments of derivative issuance costs → cash flow > financing activities > issuance of common stock\n",
      "DerivativeInstrumentsAndHedgesLiabilities | [mapped.1 (0.80)] Balance Sheet > derivative instruments and hedges liabilities → balance sheet > liabilities > other current liabilities\n",
      "HedgingLiabilitiesCurrent | [mapped.1 (0.86)] Balance Sheet > hedging liabilities current → balance sheet > liabilities > other current liabilities\n"
     ]
    },
    {
     "name": "stderr",
     "output_type": "stream",
     "text": [
      "Processing rows: 1784it [01:30, 21.35it/s]"
     ]
    },
    {
     "name": "stdout",
     "output_type": "stream",
     "text": [
      "IncomeLossFromContinuingOperationsIncludingPortionAttributableToNoncontrollingInterest | [mapped.1 (0.82)] Income Statement > income loss from continuing operations including portion attributable to noncontrolling interest → income statement > interest expense - non-operating\n",
      "IncomeLossFromContinuingOperationsAttributableToNoncontrollingEntity | [mapped.1 (0.80)] Income Statement > income loss from continuing operations attributable to noncontrolling entity → income statement > other non-operating income (expense)\n",
      "IncomeLossFromDiscontinuedOperationsNetOfTaxAttributableToReportingEntity | [mapped.1 (0.86)] Income Statement > income loss from discontinued operations net of tax attributable to reporting entity → income statement > discontinued operations\n",
      "IncomeLossFromDiscontinuedOperationsNetOfTaxAttributableToNoncontrollingInterest | [mapped.1 (0.82)] Income Statement > income loss from discontinued operations net of tax attributable to noncontrolling interest → income statement > discontinued operations\n",
      "DepreciationDepletionAndAmortization | [mapped.1 (0.88)] Cash Flow Statement > depreciation depletion and amortization → cash flow > operating activities > depreciation > amortization\n"
     ]
    },
    {
     "name": "stderr",
     "output_type": "stream",
     "text": [
      "Processing rows: 1791it [01:30, 23.90it/s]"
     ]
    },
    {
     "name": "stdout",
     "output_type": "stream",
     "text": [
      "NontradeReceivablesCurrent | [mapped.1 (0.86)] Balance Sheet > nontrade receivables current → balance sheet > assets > notes receivable - current\n",
      "AccumulatedDistributionsInExcessOfNetIncome | [mapped.1 (0.81)] Balance Sheet > accumulated distributions in excess of net income → balance sheet > shareholders' equity > accumulated other comprehensive income\n",
      "ComprehensiveIncomeNetOfTaxIncludingPortionAttributableToNoncontrollingInterest | [mapped.1 (0.80)] Comprehensive Income > comprehensive income net of tax including portion attributable to noncontrolling interest → comprehensive income > other comprehensive income\n",
      "ComprehensiveIncomeNetOfTaxAttributableToNoncontrollingInterest | [mapped.1 (0.79)] Comprehensive Income > comprehensive income net of tax attributable to noncontrolling interest → comprehensive income > other comprehensive income\n",
      "ComprehensiveIncomeNetOfTaxAttributableToNoncontrollingInterest | [mapped.1 (0.83)] Equity Statement > comprehensive income net of tax attributable to noncontrolling interest → equity statement > accumulated other comprehensive income\n",
      "StockholdersEquityIncludingPortionAttributableToNoncontrollingInterest | [mapped.1 (0.85)] Equity Statement > stockholders equity including portion attributable to noncontrolling interest → equity statement > redeemable noncontrolling interest adjustments\n"
     ]
    },
    {
     "name": "stderr",
     "output_type": "stream",
     "text": [
      "Processing rows: 1794it [01:30, 22.04it/s]"
     ]
    },
    {
     "name": "stdout",
     "output_type": "stream",
     "text": [
      "StockholdersEquityIncludingPortionAttributableToNoncontrollingInterest | [mapped.1 (0.83)] Balance Sheet > stockholders equity including portion attributable to noncontrolling interest → balance sheet > shareholders' equity > common stock\n",
      "Depletion | [mapped.1 (0.79)] Cash Flow Statement > depletion → cash flow > operating activities > depreciation > amortization\n",
      "CommitmentsAndContingencies | [mapped.1 (0.81)] Balance Sheet > commitments and contingencies → balance sheet > liabilities > other current liabilities\n",
      "RestrictedCashAndInvestmentsNoncurrent | [mapped.1 (0.92)] Balance Sheet > restricted cash and investments noncurrent → balance sheet > assets > restricted cash - current\n"
     ]
    },
    {
     "name": "stderr",
     "output_type": "stream",
     "text": [
      "Processing rows: 1797it [01:30, 19.99it/s]"
     ]
    },
    {
     "name": "stdout",
     "output_type": "stream",
     "text": [
      "RestrictedInvestmentsNoncurrent | [mapped.1 (0.87)] Balance Sheet > restricted investments noncurrent → balance sheet > assets > restricted cash - current\n",
      "OtherRestrictedAssetsNoncurrent | [mapped.1 (0.88)] Balance Sheet > other restricted assets noncurrent → balance sheet > assets > restricted cash - current\n",
      "RestrictedCashAndCashEquivalents | [mapped.1 (0.79)] Cash Flow Statement > restricted cash and cash equivalents → cash flow > cash interest paid\n",
      "RestrictedCashAndCashEquivalents | [mapped.1 (0.90)] Balance Sheet > restricted cash and cash equivalents → balance sheet > assets > restricted cash - current\n"
     ]
    },
    {
     "name": "stderr",
     "output_type": "stream",
     "text": [
      "Processing rows: 1803it [01:31, 21.41it/s]"
     ]
    },
    {
     "name": "stdout",
     "output_type": "stream",
     "text": [
      "OtherInvestments | [mapped.1 (0.85)] Balance Sheet > other investments → balance sheet > assets > other current assets\n",
      "ProceedsFromSaleAndCollectionOfLoansHeldforsale | [mapped.1 (0.81)] Cash Flow Statement > proceeds from sale and collection of loans heldforsale → cash flow > investing activities > proceeds from sale > maturity of investments\n",
      "DividendsCommonStockCash | [mapped.1 (0.90)] Equity Statement > dividends common stock cash → equity statement > common dividends declared\n",
      "DividendsCommonStockStock | [mapped.1 (0.90)] Equity Statement > dividends common stock stock → equity statement > common dividends declared\n",
      "DividendsCommonStockPaidinkind | [mapped.1 (0.86)] Equity Statement > dividends common stock paidinkind → equity statement > common dividends declared\n",
      "DividendsPreferredStockCash | [mapped.1 (0.93)] Equity Statement > dividends preferred stock cash → equity statement > preferred dividends\n",
      "DividendsPreferredStockStock | [mapped.1 (0.93)] Equity Statement > dividends preferred stock stock → equity statement > preferred dividends\n"
     ]
    },
    {
     "name": "stderr",
     "output_type": "stream",
     "text": [
      "Processing rows: 1810it [01:31, 24.24it/s]"
     ]
    },
    {
     "name": "stdout",
     "output_type": "stream",
     "text": [
      "DividendsPreferredStockPaidinkind | [mapped.1 (0.89)] Equity Statement > dividends preferred stock paidinkind → equity statement > preferred dividends\n",
      "PrepaidExpenseAndOtherAssets | [mapped.1 (0.96)] Balance Sheet > prepaid expense and other assets → balance sheet > assets > prepaid expenses\n",
      "DividendsCash | [mapped.1 (0.89)] Equity Statement > dividends cash → equity statement > preferred dividends\n",
      "DividendsStock | [mapped.1 (0.89)] Equity Statement > dividends stock → equity statement > preferred dividends\n",
      "DividendsPaidinkind | [mapped.1 (0.87)] Equity Statement > dividends paidinkind → equity statement > preferred dividends\n",
      "ProceedsFromSaleOfRealEstateHeldforinvestment | [mapped.1 (0.83)] Cash Flow Statement > proceeds from sale of real estate heldforinvestment → cash flow > investing activities > proceeds from sale > maturity of investments\n"
     ]
    },
    {
     "name": "stderr",
     "output_type": "stream",
     "text": [
      "Processing rows: 1816it [01:31, 22.55it/s]"
     ]
    },
    {
     "name": "stdout",
     "output_type": "stream",
     "text": [
      "AdjustmentsToReconcileNetIncomeLossToCashProvidedByUsedInOperatingActivities | [mapped.1 (0.81)] Cash Flow Statement > adjustments to reconcile net income loss to cash provided by used in operating activities → cash flow > operating activities > changes in other liabilities\n",
      "AdjustmentsNoncashItemsToReconcileNetIncomeLossToCashProvidedByUsedInOperatingActivities | [mapped.1 (0.83)] Cash Flow Statement > adjustments noncash items to reconcile net income loss to cash provided by used in operating activities → cash flow > operating activities > other non-cash items\n",
      "LongTermCommercialPaperCurrent | [mapped.1 (0.83)] Balance Sheet > long term commercial paper current → balance sheet > liabilities > other long term liabilities\n",
      "LongTermConstructionLoanCurrent | [mapped.1 (0.82)] Balance Sheet > long term construction loan current → balance sheet > liabilities > current portion of long term debt\n"
     ]
    },
    {
     "name": "stderr",
     "output_type": "stream",
     "text": [
      "Processing rows: 1819it [01:31, 21.28it/s]"
     ]
    },
    {
     "name": "stdout",
     "output_type": "stream",
     "text": [
      "WeightedAverageLimitedPartnershipUnitsOutstanding | [mapped.1 (0.76)] Income Statement > weighted average limited partnership units outstanding → income statement > equity in affiliates\n",
      "LongtermTransitionBondCurrent | [mapped.1 (0.81)] Balance Sheet > longterm transition bond current → balance sheet > liabilities > current portion of long term debt\n",
      "LongtermPollutionControlBondCurrent | [mapped.1 (0.77)] Balance Sheet > longterm pollution control bond current → balance sheet > liabilities > current portion of long term debt\n",
      "LongtermCommercialPaperCurrentAndNoncurrent | [mapped.1 (0.83)] Balance Sheet > longterm commercial paper current and noncurrent → balance sheet > liabilities > other long term liabilities\n"
     ]
    },
    {
     "name": "stderr",
     "output_type": "stream",
     "text": [
      "Processing rows: 1822it [01:32, 20.07it/s]"
     ]
    },
    {
     "name": "stdout",
     "output_type": "stream",
     "text": [
      "LongtermConstructionLoanCurrentAndNoncurrent | [mapped.1 (0.82)] Balance Sheet > longterm construction loan current and noncurrent → balance sheet > liabilities > current portion of long term debt\n",
      "LongtermTransitionBondCurrentAndNoncurrent | [mapped.1 (0.79)] Balance Sheet > longterm transition bond current and noncurrent → balance sheet > liabilities > current portion of long term debt\n",
      "LongtermPollutionControlBondCurrentAndNoncurrent | [mapped.1 (0.76)] Balance Sheet > longterm pollution control bond current and noncurrent → balance sheet > liabilities > current portion of long term debt\n",
      "JuniorSubordinatedDebentureOwedToUnconsolidatedSubsidiaryTrustCurrent | [mapped.1 (0.75)] Balance Sheet > junior subordinated debenture owed to unconsolidated subsidiary trust current → balance sheet > liabilities > minority interest\n"
     ]
    },
    {
     "name": "stderr",
     "output_type": "stream",
     "text": [
      "Processing rows: 1827it [01:32, 18.44it/s]"
     ]
    },
    {
     "name": "stdout",
     "output_type": "stream",
     "text": [
      "JuniorSubordinatedDebentureOwedToUnconsolidatedSubsidiaryTrustNoncurrent | [mapped.1 (0.76)] Balance Sheet > junior subordinated debenture owed to unconsolidated subsidiary trust noncurrent → balance sheet > liabilities > minority interest\n",
      "MediumtermNotesCurrent | [mapped.1 (0.81)] Balance Sheet > mediumterm notes current → balance sheet > liabilities > other current liabilities\n",
      "MediumtermNotesNoncurrent | [mapped.1 (0.79)] Balance Sheet > mediumterm notes noncurrent → balance sheet > liabilities > other current liabilities\n",
      "SpecialAssessmentBondCurrent | [mapped.1 (0.76)] Balance Sheet > special assessment bond current → balance sheet > liabilities > other current liabilities\n"
     ]
    },
    {
     "name": "stderr",
     "output_type": "stream",
     "text": [
      "Processing rows: 1831it [01:32, 17.50it/s]"
     ]
    },
    {
     "name": "stdout",
     "output_type": "stream",
     "text": [
      "SpecialAssessmentBondNoncurrent | [mapped.1 (0.74)] Balance Sheet > special assessment bond noncurrent → balance sheet > liabilities > other current liabilities\n",
      "FederalHomeLoanBankAdvancesCurrent | [mapped.1 (0.77)] Balance Sheet > federal home loan bank advances current → balance sheet > liabilities > customer advances\n",
      "LongtermFederalHomeLoanBankAdvancesNoncurrent | [mapped.1 (0.76)] Balance Sheet > longterm federal home loan bank advances noncurrent → balance sheet > liabilities > current portion of long term debt\n",
      "WeightedAverageLimitedPartnershipUnitsOutstandingDiluted | [mapped.1 (0.75)] Income Statement > weighted average limited partnership units outstanding diluted → income statement > equity in affiliates\n",
      "WeightedAverageNumerDilutedLimitedPartnershipUnitsOutstandingAdjustment | [mapped.1 (0.74)] Income Statement > weighted average numer diluted limited partnership units outstanding adjustment → income statement > equity in affiliates\n"
     ]
    },
    {
     "name": "stderr",
     "output_type": "stream",
     "text": [
      "Processing rows: 1837it [01:32, 20.95it/s]"
     ]
    },
    {
     "name": "stdout",
     "output_type": "stream",
     "text": [
      "GainsLossesOnSalesOfInvestmentRealEstate | [mapped.1 (0.80)] Cash Flow Statement > gains losses on sales of investment real estate → cash flow > investing activities > proceeds from sale > maturity of investments\n",
      "OtherComprehensiveIncomeForeignCurrencyTransactionAndTranslationAdjustmentBeforeTaxPortionAttributableToNoncontrollingInterest | [mapped.1 (0.83)] Comprehensive Income > other comprehensive income foreign currency transaction and translation adjustment before tax portion attributable to noncontrolling interest → comprehensive income > foreign currency translation\n",
      "OtherComprehensiveIncomeForeignCurrencyTransactionAndTranslationAdjustmentBeforeTaxPortionAttributableToParent | [mapped.1 (0.85)] Comprehensive Income > other comprehensive income foreign currency transaction and translation adjustment before tax portion attributable to parent → comprehensive income > foreign currency translation\n",
      "AccountsPayableCurrentAndNoncurrent | [mapped.1 (0.85)] Balance Sheet > accounts payable current and noncurrent → balance sheet > liabilities > accounts payable\n",
      "AccountsPayableAndAccruedLiabilitiesCurrentAndNoncurrent | [mapped.1 (0.87)] Balance Sheet > accounts payable and accrued liabilities current and noncurrent → balance sheet > liabilities > other current liabilities\n"
     ]
    },
    {
     "name": "stderr",
     "output_type": "stream",
     "text": [
      "Processing rows: 1842it [01:33, 18.22it/s]"
     ]
    },
    {
     "name": "stdout",
     "output_type": "stream",
     "text": [
      "AccrualForTaxesOtherThanIncomeTaxesCurrentAndNoncurrent | [mapped.1 (0.81)] Balance Sheet > accrual for taxes other than income taxes current and noncurrent → balance sheet > liabilities > other current liabilities\n",
      "AccruedLiabilitiesCurrentAndNoncurrent | [mapped.1 (0.87)] Balance Sheet > accrued liabilities current and noncurrent → balance sheet > liabilities > other current liabilities\n",
      "DividendsPayableCurrentAndNoncurrent | [mapped.1 (0.77)] Balance Sheet > dividends payable current and noncurrent → balance sheet > shareholders' equity > treasury stock\n",
      "EmployeeRelatedLiabilitiesCurrentAndNoncurrent | [mapped.1 (0.87)] Balance Sheet > employee related liabilities current and noncurrent → balance sheet > liabilities > other current liabilities\n"
     ]
    },
    {
     "name": "stderr",
     "output_type": "stream",
     "text": [
      "Processing rows: 1846it [01:33, 17.41it/s]"
     ]
    },
    {
     "name": "stdout",
     "output_type": "stream",
     "text": [
      "InterestAndDividendsPayableCurrentAndNoncurrent | [mapped.1 (0.79)] Balance Sheet > interest and dividends payable current and noncurrent → balance sheet > liabilities > other current liabilities\n",
      "InterestPayableCurrentAndNoncurrent | [mapped.1 (0.82)] Balance Sheet > interest payable current and noncurrent → balance sheet > liabilities > other current liabilities\n",
      "SalesAndExciseTaxPayableCurrentAndNoncurrent | [mapped.1 (0.78)] Balance Sheet > sales and excise tax payable current and noncurrent → balance sheet > liabilities > other current liabilities\n",
      "TaxesPayableCurrentAndNoncurrent | [mapped.1 (0.82)] Balance Sheet > taxes payable current and noncurrent → balance sheet > liabilities > other current liabilities\n"
     ]
    },
    {
     "name": "stderr",
     "output_type": "stream",
     "text": [
      "Processing rows: 1850it [01:33, 16.65it/s]"
     ]
    },
    {
     "name": "stdout",
     "output_type": "stream",
     "text": [
      "AccountsPayableCurrent | [mapped.1 (0.88)] Balance Sheet > accounts payable current → balance sheet > liabilities > accounts payable\n",
      "AccountsPayableAndAccruedLiabilitiesCurrent | [mapped.1 (0.90)] Balance Sheet > accounts payable and accrued liabilities current → balance sheet > liabilities > accounts payable\n",
      "AccrualForTaxesOtherThanIncomeTaxesCurrent | [mapped.1 (0.80)] Balance Sheet > accrual for taxes other than income taxes current → balance sheet > liabilities > deferred income tax\n",
      "AccruedLiabilitiesCurrent | [mapped.1 (0.90)] Balance Sheet > accrued liabilities current → balance sheet > liabilities > other current liabilities\n"
     ]
    },
    {
     "name": "stderr",
     "output_type": "stream",
     "text": [
      "Processing rows: 1854it [01:33, 16.51it/s]"
     ]
    },
    {
     "name": "stdout",
     "output_type": "stream",
     "text": [
      "DividendsPayableCurrent | [mapped.1 (0.79)] Balance Sheet > dividends payable current → balance sheet > shareholders' equity > redeemable preferred stock\n",
      "EmployeeRelatedLiabilitiesCurrent | [mapped.1 (0.88)] Balance Sheet > employee related liabilities current → balance sheet > liabilities > other current liabilities\n",
      "InterestAndDividendsPayableCurrent | [mapped.1 (0.80)] Balance Sheet > interest and dividends payable current → balance sheet > liabilities > accounts payable\n",
      "InterestPayableCurrent | [mapped.1 (0.82)] Balance Sheet > interest payable current → balance sheet > liabilities > accounts payable\n"
     ]
    },
    {
     "name": "stderr",
     "output_type": "stream",
     "text": [
      "Processing rows: 1859it [01:34, 19.14it/s]"
     ]
    },
    {
     "name": "stdout",
     "output_type": "stream",
     "text": [
      "SalesAndExciseTaxPayableCurrent | [mapped.1 (0.76)] Balance Sheet > sales and excise tax payable current → balance sheet > liabilities > other current liabilities\n",
      "TaxesPayableCurrent | [mapped.1 (0.82)] Balance Sheet > taxes payable current → balance sheet > liabilities > other current liabilities\n",
      "OtherComprehensiveIncomeDefinedBenefitPlansAdjustmentBeforeTaxPortionAttributableToNoncontrollingInterest | [mapped.1 (0.82)] Comprehensive Income > other comprehensive income defined benefit plans adjustment before tax portion attributable to noncontrolling interest → comprehensive income > pension > postretirement adjustments\n",
      "OtherComprehensiveIncomeDefinedBenefitPlansAdjustmentBeforeTaxPortionAttributableToParent | [mapped.1 (0.82)] Comprehensive Income > other comprehensive income defined benefit plans adjustment before tax portion attributable to parent → comprehensive income > pension > postretirement adjustments\n",
      "DepositsDomestic | [mapped.1 (0.70)] Balance Sheet > deposits domestic → balance sheet > liabilities > accounts payable\n",
      "OtherComprehensiveIncomeAvailableforsaleSecuritiesAdjustmentBeforeTaxPortionAttributableToNoncontrollingInterest | [mapped.1 (0.82)] Comprehensive Income > other comprehensive income availableforsale securities adjustment before tax portion attributable to noncontrolling interest → comprehensive income > other comprehensive income\n"
     ]
    },
    {
     "name": "stderr",
     "output_type": "stream",
     "text": [
      "Processing rows: 1867it [01:34, 28.40it/s]"
     ]
    },
    {
     "name": "stdout",
     "output_type": "stream",
     "text": [
      "OtherComprehensiveIncomeAvailableforsaleSecuritiesAdjustmentBeforeTaxPortionAttributableToParent | [mapped.1 (0.83)] Comprehensive Income > other comprehensive income availableforsale securities adjustment before tax portion attributable to parent → comprehensive income > other comprehensive income\n",
      "OtherComprehensiveIncomeLossBeforeTaxPortionAttributableToNoncontrollingInterest | [mapped.1 (0.83)] Comprehensive Income > other comprehensive income loss before tax portion attributable to noncontrolling interest → comprehensive income > unrealized derivative gains (losses)\n",
      "OtherComprehensiveIncomeLossBeforeTaxPortionAttributableToParent | [mapped.1 (0.82)] Comprehensive Income > other comprehensive income loss before tax portion attributable to parent → comprehensive income > other comprehensive income\n",
      "OtherComprehensiveIncomeLossTaxPortionAttributableToNoncontrollingInterest | [mapped.1 (0.81)] Comprehensive Income > other comprehensive income loss tax portion attributable to noncontrolling interest → comprehensive income > unrealized derivative gains (losses)\n",
      "OtherComprehensiveIncomeForeignCurrencyTranslationAdjustmentTaxPortionAttributableToNoncontrollingInterest | [mapped.1 (0.82)] Comprehensive Income > other comprehensive income foreign currency translation adjustment tax portion attributable to noncontrolling interest → comprehensive income > foreign currency translation\n",
      "OtherComprehensiveIncomeForeignCurrencyTranslationAdjustmentTaxPortionAttributableToParent | [mapped.1 (0.84)] Comprehensive Income > other comprehensive income foreign currency translation adjustment tax portion attributable to parent → comprehensive income > foreign currency translation\n",
      "OtherComprehensiveIncomeDefinedBenefitPlansTaxPortionAttributableToNoncontrollingInterest | [mapped.1 (0.79)] Comprehensive Income > other comprehensive income defined benefit plans tax portion attributable to noncontrolling interest → comprehensive income > other comprehensive income\n",
      "OtherComprehensiveIncomeDefinedBenefitPlansTaxPortionAttributableToParent | [mapped.1 (0.79)] Comprehensive Income > other comprehensive income defined benefit plans tax portion attributable to parent → comprehensive income > other comprehensive income\n"
     ]
    },
    {
     "name": "stderr",
     "output_type": "stream",
     "text": [
      "Processing rows: 1876it [01:34, 34.09it/s]"
     ]
    },
    {
     "name": "stdout",
     "output_type": "stream",
     "text": [
      "OtherComprehensiveIncomeAvailableforsaleSecuritiesTaxPortionAttributableToNoncontrollingInterest | [mapped.1 (0.84)] Comprehensive Income > other comprehensive income availableforsale securities tax portion attributable to noncontrolling interest → comprehensive income > other comprehensive income\n",
      "OtherComprehensiveIncomeAvailableforsaleSecuritiesTaxPortionAttributableToParent | [mapped.1 (0.85)] Comprehensive Income > other comprehensive income availableforsale securities tax portion attributable to parent → comprehensive income > other comprehensive income\n",
      "OtherComprehensiveIncomeLossNetOfTaxPortionAttributableToNoncontrollingInterest | [mapped.1 (0.81)] Comprehensive Income > other comprehensive income loss net of tax portion attributable to noncontrolling interest → comprehensive income > unrealized derivative gains (losses)\n",
      "OtherComprehensiveIncomeLossNetOfTaxPortionAttributableToParent | [mapped.1 (0.80)] Comprehensive Income > other comprehensive income loss net of tax portion attributable to parent → comprehensive income > other comprehensive income\n",
      "OtherComprehensiveIncomeForeignCurrencyTransactionAndTranslationAdjustmentNetOfTaxPortionAttributableToNoncontrollingInterest | [mapped.1 (0.82)] Comprehensive Income > other comprehensive income foreign currency transaction and translation adjustment net of tax portion attributable to noncontrolling interest → comprehensive income > foreign currency translation\n",
      "OtherComprehensiveIncomeForeignCurrencyTransactionAndTranslationAdjustmentNetOfTaxPortionAttributableToParent | [mapped.1 (0.84)] Comprehensive Income > other comprehensive income foreign currency transaction and translation adjustment net of tax portion attributable to parent → comprehensive income > foreign currency translation\n",
      "OtherComprehensiveIncomeDefinedBenefitPlansAdjustmentNetOfTaxPortionAttributableToNoncontrollingInterest | [mapped.1 (0.79)] Comprehensive Income > other comprehensive income defined benefit plans adjustment net of tax portion attributable to noncontrolling interest → comprehensive income > pension > postretirement adjustments\n",
      "OtherComprehensiveIncomeDefinedBenefitPlansAdjustmentNetOfTaxPortionAttributableToParent | [mapped.1 (0.79)] Comprehensive Income > other comprehensive income defined benefit plans adjustment net of tax portion attributable to parent → comprehensive income > pension > postretirement adjustments\n",
      "OtherComprehensiveIncomeAvailableforsaleSecuritiesAdjustmentNetOfTaxPortionAttributableToNoncontrollingInterest | [mapped.1 (0.82)] Comprehensive Income > other comprehensive income availableforsale securities adjustment net of tax portion attributable to noncontrolling interest → comprehensive income > other comprehensive income\n"
     ]
    },
    {
     "name": "stderr",
     "output_type": "stream",
     "text": [
      "Processing rows: 1880it [01:34, 29.73it/s]"
     ]
    },
    {
     "name": "stdout",
     "output_type": "stream",
     "text": [
      "OtherComprehensiveIncomeAvailableforsaleSecuritiesAdjustmentNetOfTaxPortionAttributableToParent | [mapped.1 (0.83)] Comprehensive Income > other comprehensive income availableforsale securities adjustment net of tax portion attributable to parent → comprehensive income > other comprehensive income\n",
      "PrepaidExpenseCurrentAndNoncurrent | [mapped.1 (0.86)] Balance Sheet > prepaid expense current and noncurrent → balance sheet > assets > prepaid expenses\n",
      "PostemploymentBenefitsLiabilityCurrentAndNoncurrent | [mapped.1 (0.81)] Balance Sheet > postemployment benefits liability current and noncurrent → balance sheet > liabilities > other current liabilities\n",
      "DefinedBenefitPlanAssetsForPlanBenefitsNoncurrent | [mapped.1 (0.80)] Balance Sheet > defined benefit plan assets for plan benefits noncurrent → balance sheet > assets > other current assets\n"
     ]
    },
    {
     "name": "stderr",
     "output_type": "stream",
     "text": [
      "Processing rows: 1884it [01:34, 24.21it/s]"
     ]
    },
    {
     "name": "stdout",
     "output_type": "stream",
     "text": [
      "PensionAndOtherPostretirementDefinedBenefitPlansLiabilitiesNoncurrent | [mapped.1 (0.79)] Balance Sheet > pension and other postretirement defined benefit plans liabilities noncurrent → balance sheet > liabilities > other current liabilities\n",
      "PensionAndOtherPostretirementDefinedBenefitPlansLiabilitiesCurrentAndNoncurrent | [mapped.1 (0.82)] Balance Sheet > pension and other postretirement defined benefit plans liabilities current and noncurrent → balance sheet > liabilities > other current liabilities\n",
      "DefinedBenefitPensionPlanLiabilitiesNoncurrent | [mapped.1 (0.78)] Balance Sheet > defined benefit pension plan liabilities noncurrent → balance sheet > liabilities > other current liabilities\n",
      "DefinedBenefitPensionPlanCurrentAndNoncurrentLiabilities | [mapped.1 (0.83)] Balance Sheet > defined benefit pension plan current and noncurrent liabilities → balance sheet > liabilities > other current liabilities\n"
     ]
    },
    {
     "name": "stderr",
     "output_type": "stream",
     "text": [
      "Processing rows: 1887it [01:35, 21.77it/s]"
     ]
    },
    {
     "name": "stdout",
     "output_type": "stream",
     "text": [
      "OtherPostretirementDefinedBenefitPlanLiabilitiesNoncurrent | [mapped.1 (0.80)] Balance Sheet > other postretirement defined benefit plan liabilities noncurrent → balance sheet > liabilities > other current liabilities\n",
      "OtherPostretirementDefinedBenefitPlanLiabilitiesCurrentAndNoncurrent | [mapped.1 (0.83)] Balance Sheet > other postretirement defined benefit plan liabilities current and noncurrent → balance sheet > liabilities > other current liabilities\n",
      "DeferredCompensationLiabilityClassifiedNoncurrent | [mapped.1 (0.77)] Balance Sheet > deferred compensation liability classified noncurrent → balance sheet > liabilities > deferred income tax\n",
      "DeferredCompensationLiabilityCurrentAndNoncurrent | [mapped.1 (0.82)] Balance Sheet > deferred compensation liability current and noncurrent → balance sheet > liabilities > other current liabilities\n"
     ]
    },
    {
     "name": "stderr",
     "output_type": "stream",
     "text": [
      "Processing rows: 1893it [01:35, 22.21it/s]"
     ]
    },
    {
     "name": "stdout",
     "output_type": "stream",
     "text": [
      "ProductionTaxExpense | [mapped.1 (0.84)] Income Statement > production tax expense → income statement > other operating expenses\n",
      "AdjustmentsToAdditionalPaidInCapitalSharebasedCompensationRequisiteServicePeriodRecognitionValue | [mapped.1 (0.82)] Equity Statement > adjustments to additional paid in capital sharebased compensation requisite service period recognition value → equity statement > other equity adjustments\n",
      "StockGrantedDuringPeriodValueSharebasedCompensation | [mapped.1 (0.87)] Equity Statement > stock granted during period value sharebased compensation → equity statement > stock-based compensation\n",
      "DistributionsPerGeneralPartnershipUnitOutstanding | [mapped.1 (0.73)] Income Statement > distributions per general partnership unit outstanding → income statement > equity in affiliates\n",
      "DistributionsPerLimitedPartnershipUnitOutstanding | [mapped.1 (0.75)] Income Statement > distributions per limited partnership unit outstanding → income statement > equity in affiliates\n",
      "AmortizationOfESOPAward | [mapped.1 (0.77)] Equity Statement > amortization of esop award → equity statement > other equity adjustments\n"
     ]
    },
    {
     "name": "stderr",
     "output_type": "stream",
     "text": [
      "Processing rows: 1899it [01:35, 22.89it/s]"
     ]
    },
    {
     "name": "stdout",
     "output_type": "stream",
     "text": [
      "ProceedsFromSaleOfLandHeldforinvestment | [mapped.1 (0.83)] Cash Flow Statement > proceeds from sale of land heldforinvestment → cash flow > investing activities > proceeds from sale > maturity of investments\n",
      "ProceedsFromSaleOfOtherRealEstateHeldforinvestment | [mapped.1 (0.83)] Cash Flow Statement > proceeds from sale of other real estate heldforinvestment → cash flow > investing activities > proceeds from sale > maturity of investments\n",
      "PaymentsForProceedsFromRealEstateHeldforinvestment | [mapped.1 (0.81)] Cash Flow Statement > payments for proceeds from real estate heldforinvestment → cash flow > investing activities > proceeds from sale > maturity of investments\n",
      "ImpairmentOfIntangibleAssetsFinitelived | [mapped.1 (0.75)] Cash Flow Statement > impairment of intangible assets finitelived → cash flow > operating activities > depreciation > amortization\n",
      "ImpairmentOfIntangibleAssetsFinitelived | [mapped.1 (0.75)] Income Statement > impairment of intangible assets finitelived → income statement > depreciation > amortization\n"
     ]
    },
    {
     "name": "stderr",
     "output_type": "stream",
     "text": [
      "Processing rows: 1905it [01:35, 24.10it/s]"
     ]
    },
    {
     "name": "stdout",
     "output_type": "stream",
     "text": [
      "ImpairmentOfIntangibleAssetsIndefinitelivedExcludingGoodwill | [mapped.1 (0.77)] Cash Flow Statement > impairment of intangible assets indefinitelived excluding goodwill → cash flow > operating activities > other non-cash items\n",
      "ImpairmentOfIntangibleAssetsIndefinitelivedExcludingGoodwill | [mapped.1 (0.77)] Income Statement > impairment of intangible assets indefinitelived excluding goodwill → income statement > other non-operating income (expense)\n",
      "StockholdersEquityOther | [mapped.1 (0.87)] Equity Statement > stockholders equity other → equity statement > issuance of common stock\n",
      "AntidilutiveSecuritiesExcludedFromComputationOfNetIncomePerOutstandingUnitAmount | [mapped.1 (0.73)] Income Statement > antidilutive securities excluded from computation of net income per outstanding unit amount → income statement > discontinued operations\n",
      "ProceedsFromIssuanceOfSharesUnderIncentiveAndShareBasedCompensationPlansIncludingStockOptions | [mapped.1 (0.77)] Cash Flow Statement > proceeds from issuance of shares under incentive and share based compensation plans including stock options → cash flow > financing activities > issuance of common stock\n",
      "PaymentsForDelayedTaxExemptExchange | [mapped.1 (0.78)] Cash Flow Statement > payments for delayed tax exempt exchange → cash flow > cash taxes paid\n"
     ]
    },
    {
     "name": "stderr",
     "output_type": "stream",
     "text": [
      "Processing rows: 1911it [01:36, 22.90it/s]"
     ]
    },
    {
     "name": "stdout",
     "output_type": "stream",
     "text": [
      "ProceedsFromDelayedTaxExemptExchange | [mapped.1 (0.77)] Cash Flow Statement > proceeds from delayed tax exempt exchange → cash flow > cash taxes paid\n",
      "PaymentsForDepositsOnRealEstateAcquisitions | [mapped.1 (0.79)] Cash Flow Statement > payments for deposits on real estate acquisitions → cash flow > investing activities > acquisitions\n",
      "ProceedsFromDepositsOnRealEstateSales | [mapped.1 (0.80)] Cash Flow Statement > proceeds from deposits on real estate sales → cash flow > investing activities > proceeds from sale > maturity of investments\n",
      "PaymentsToAcquireLimitedPartnershipInterests | [mapped.1 (0.78)] Cash Flow Statement > payments to acquire limited partnership interests → cash flow > investing activities > acquisitions\n",
      "ProceedsFromLimitedPartnershipInvestments | [mapped.1 (0.79)] Cash Flow Statement > proceeds from limited partnership investments → cash flow > investing activities > proceeds from sale > maturity of investments\n"
     ]
    },
    {
     "name": "stderr",
     "output_type": "stream",
     "text": [
      "Processing rows: 1914it [01:36, 22.60it/s]"
     ]
    },
    {
     "name": "stdout",
     "output_type": "stream",
     "text": [
      "PaymentsForMortgageDeposits | [mapped.1 (0.75)] Cash Flow Statement > payments for mortgage deposits → cash flow > financing activities > other financing activities\n",
      "ProceedsFromMortgageDeposits | [mapped.1 (0.77)] Cash Flow Statement > proceeds from mortgage deposits → cash flow > investing activities > proceeds from sale > maturity of investments\n",
      "PaymentsForNuclearFuel | [mapped.1 (0.74)] Cash Flow Statement > payments for nuclear fuel → cash flow > cash interest paid\n",
      "ProceedsFromNuclearFuel | [mapped.1 (0.76)] Cash Flow Statement > proceeds from nuclear fuel → cash flow > investing activities > proceeds from sale > maturity of investments\n",
      "PaymentsForOtherDeposits | [mapped.1 (0.78)] Cash Flow Statement > payments for other deposits → cash flow > financing activities > other financing activities\n"
     ]
    },
    {
     "name": "stderr",
     "output_type": "stream",
     "text": [
      "Processing rows: 1920it [01:36, 22.16it/s]"
     ]
    },
    {
     "name": "stdout",
     "output_type": "stream",
     "text": [
      "ProceedsFromOtherDeposits | [mapped.1 (0.78)] Cash Flow Statement > proceeds from other deposits → cash flow > financing activities > other financing activities\n",
      "PaymentsForPreviousAcquisition | [mapped.1 (0.81)] Cash Flow Statement > payments for previous acquisition → cash flow > investing activities > acquisitions\n",
      "ProceedsFromPreviousAcquisition | [mapped.1 (0.83)] Cash Flow Statement > proceeds from previous acquisition → cash flow > investing activities > acquisitions\n",
      "PaymentsForRemovalCosts | [mapped.1 (0.77)] Cash Flow Statement > payments for removal costs → cash flow > operating activities > changes in accounts payable\n",
      "ProceedsFromRemovalCosts | [mapped.1 (0.78)] Cash Flow Statement > proceeds from removal costs → cash flow > investing activities > proceeds from sale > maturity of investments\n"
     ]
    },
    {
     "name": "stderr",
     "output_type": "stream",
     "text": [
      "Processing rows: 1926it [01:36, 22.23it/s]"
     ]
    },
    {
     "name": "stdout",
     "output_type": "stream",
     "text": [
      "ProceedsFromDepositsAppliedToDebtRetirements | [mapped.1 (0.75)] Cash Flow Statement > proceeds from deposits applied to debt retirements → cash flow > financing activities > long term debt, net\n",
      "PaymentsForDepositsAppliedToDebtRetirements | [mapped.1 (0.72)] Cash Flow Statement > payments for deposits applied to debt retirements → cash flow > financing activities > long term debt, net\n",
      "ProceedsFromCollectionOfLongtermLoansToRelatedParties | [mapped.1 (0.81)] Cash Flow Statement > proceeds from collection of longterm loans to related parties → cash flow > financing activities > long term debt, net\n",
      "PaymentsToFundLongtermLoansToRelatedParties | [mapped.1 (0.82)] Cash Flow Statement > payments to fund longterm loans to related parties → cash flow > financing activities > long term debt, net\n",
      "PaymentsForHedgeFinancingActivities | [mapped.1 (0.81)] Cash Flow Statement > payments for hedge financing activities → cash flow > financing activities > other financing activities\n"
     ]
    },
    {
     "name": "stderr",
     "output_type": "stream",
     "text": [
      "Processing rows: 1929it [01:36, 22.06it/s]"
     ]
    },
    {
     "name": "stdout",
     "output_type": "stream",
     "text": [
      "ProceedsFromHedgeFinancingActivities | [mapped.1 (0.81)] Cash Flow Statement > proceeds from hedge financing activities → cash flow > financing activities > other financing activities\n",
      "PaymentsForHedgeInvestingActivities | [mapped.1 (0.81)] Cash Flow Statement > payments for hedge investing activities → cash flow > investing activities > purchase of investments\n",
      "ProceedsFromHedgeInvestingActivities | [mapped.1 (0.84)] Cash Flow Statement > proceeds from hedge investing activities → cash flow > investing activities > proceeds from sale > maturity of investments\n",
      "IncomeLossFromContinuingOperationsBeforeIncomeTaxesExtraordinaryItemsNoncontrollingInterest | [mapped.1 (0.81)] Income Statement > income loss from continuing operations before income taxes extraordinary items noncontrolling interest → income statement > interest expense - non-operating\n",
      "InventoryLIFOReservePeriodCharge | [mapped.1 (0.76)] Cash Flow Statement > inventory lifo reserve period charge → cash flow > operating activities > changes in inventories\n"
     ]
    },
    {
     "name": "stderr",
     "output_type": "stream",
     "text": [
      "Processing rows: 1935it [01:37, 21.40it/s]"
     ]
    },
    {
     "name": "stdout",
     "output_type": "stream",
     "text": [
      "InventoryLIFOReserveEffectOnIncomeNet | [mapped.1 (0.76)] Cash Flow Statement > inventory lifo reserve effect on income net → cash flow > operating activities > changes in inventories\n",
      "IncreaseDecreaseInMarketableSecuritiesRestricted | [mapped.1 (0.76)] Cash Flow Statement > increase decrease in marketable securities restricted → cash flow > operating activities > changes in other assets\n",
      "IncreaseDecreaseInPayablesToCustomers | [mapped.1 (0.79)] Cash Flow Statement > increase decrease in payables to customers → cash flow > operating activities > changes in accounts payable\n",
      "PartnersCapitalAttributableToNoncontrollingInterest | [mapped.1 (0.74)] Balance Sheet > partners capital attributable to noncontrolling interest → balance sheet > liabilities > minority interest\n"
     ]
    },
    {
     "name": "stderr",
     "output_type": "stream",
     "text": [
      "Processing rows: 1941it [01:37, 22.47it/s]"
     ]
    },
    {
     "name": "stdout",
     "output_type": "stream",
     "text": [
      "PartnersCapitalIncludingPortionAttributableToNoncontrollingInterest | [mapped.1 (0.78)] Balance Sheet > partners capital including portion attributable to noncontrolling interest → balance sheet > shareholders' equity > additional paid-in capital\n",
      "IncomeLossIncludingPortionAttributableToNoncontrollingInterest | [mapped.1 (0.80)] Income Statement > income loss including portion attributable to noncontrolling interest → income statement > interest expense - non-operating\n",
      "IncomeLossIncludingPortionAttributableToNoncontrollingInterest | [mapped.1 (0.79)] Cash Flow Statement > income loss including portion attributable to noncontrolling interest → cash flow > cash interest paid\n",
      "IncomeLossAttributableToNoncontrollingInterest | [mapped.1 (0.82)] Income Statement > income loss attributable to noncontrolling interest → income statement > interest income - non-operating\n",
      "IncomeLossAttributableToParent | [mapped.1 (0.80)] Income Statement > income loss attributable to parent → income statement > gain (loss) on sale of assets\n",
      "IncomeTaxExpenseBenefitContinuingOperationsDiscontinuedOperationsExtraordinaryItems | [mapped.1 (0.78)] Cash Flow Statement > income tax expense benefit continuing operations discontinued operations extraordinary items → cash flow > operating activities > deferred taxes\n"
     ]
    },
    {
     "name": "stderr",
     "output_type": "stream",
     "text": [
      "Processing rows: 1944it [01:37, 20.52it/s]"
     ]
    },
    {
     "name": "stdout",
     "output_type": "stream",
     "text": [
      "RedeemableNoncontrollingInterestEquityCommonCarryingAmount | [mapped.1 (0.81)] Balance Sheet > redeemable noncontrolling interest equity common carrying amount → balance sheet > shareholders' equity > redeemable preferred stock\n",
      "RedeemableNoncontrollingInterestEquityPreferredCarryingAmount | [mapped.1 (0.84)] Balance Sheet > redeemable noncontrolling interest equity preferred carrying amount → balance sheet > shareholders' equity > redeemable preferred stock\n",
      "RedeemableNoncontrollingInterestEquityOtherCarryingAmount | [mapped.1 (0.81)] Balance Sheet > redeemable noncontrolling interest equity other carrying amount → balance sheet > shareholders' equity > redeemable preferred stock\n",
      "RedeemableNoncontrollingInterestEquityCarryingAmount | [mapped.1 (0.81)] Balance Sheet > redeemable noncontrolling interest equity carrying amount → balance sheet > shareholders' equity > redeemable preferred stock\n"
     ]
    },
    {
     "name": "stderr",
     "output_type": "stream",
     "text": [
      "Processing rows: 1947it [01:37, 19.79it/s]"
     ]
    },
    {
     "name": "stdout",
     "output_type": "stream",
     "text": [
      "PaymentsForRepurchaseOfRedeemableNoncontrollingInterest | [mapped.1 (0.79)] Cash Flow Statement > payments for repurchase of redeemable noncontrolling interest → cash flow > cash interest paid\n",
      "TemporaryEquityValueExcludingAdditionalPaidInCapital | [mapped.1 (0.85)] Balance Sheet > temporary equity value excluding additional paid in capital → balance sheet > shareholders' equity > additional paid-in capital\n",
      "TemporaryEquityRedemptionPricePerShare | [mapped.1 (0.80)] Balance Sheet > temporary equity redemption price per share → balance sheet > shareholders' equity > redeemable preferred stock\n",
      "TemporaryEquityAggregateAmountOfRedemptionRequirement | [mapped.1 (0.74)] Balance Sheet > temporary equity aggregate amount of redemption requirement → balance sheet > shareholders' equity > redeemable preferred stock\n"
     ]
    },
    {
     "name": "stderr",
     "output_type": "stream",
     "text": [
      "Processing rows: 1952it [01:38, 17.99it/s]"
     ]
    },
    {
     "name": "stdout",
     "output_type": "stream",
     "text": [
      "TemporaryEquityParOrStatedValuePerShare | [mapped.1 (0.82)] Balance Sheet > temporary equity par or stated value per share → balance sheet > shareholders' equity > preferred stock\n",
      "TemporaryEquityLiquidationPreferencePerShare | [mapped.1 (0.83)] Balance Sheet > temporary equity liquidation preference per share → balance sheet > shareholders' equity > preferred stock\n",
      "TemporaryEquityLiquidationPreference | [mapped.1 (0.81)] Balance Sheet > temporary equity liquidation preference → balance sheet > shareholders' equity > preferred stock\n",
      "TemporaryEquityStockIssuedDuringPeriodValueNewIssues | [mapped.1 (0.81)] Equity Statement > temporary equity stock issued during period value new issues → equity statement > preferred dividends declared\n",
      "TemporaryEquityAccretionOfDividends | [mapped.1 (0.85)] Equity Statement > temporary equity accretion of dividends → equity statement > preferred dividends declared\n"
     ]
    },
    {
     "name": "stderr",
     "output_type": "stream",
     "text": [
      "Processing rows: 1958it [01:38, 21.34it/s]"
     ]
    },
    {
     "name": "stdout",
     "output_type": "stream",
     "text": [
      "TemporaryEquityAccretionToRedemptionValue | [mapped.1 (0.81)] Equity Statement > temporary equity accretion to redemption value → equity statement > redeemable noncontrolling interest adjustments\n",
      "GainOrLossOnSaleOfStockInSubsidiary | [mapped.1 (0.87)] Income Statement > gain or loss on sale of stock in subsidiary → income statement > gain (loss) on sale of assets\n",
      "GainOrLossOnSaleOfStockInSubsidiary | [mapped.1 (0.78)] Cash Flow Statement > gain or loss on sale of stock in subsidiary → cash flow > investing activities > proceeds from sale > maturity of investments\n",
      "TemporaryEquityIssuePeriodIncreaseOrDecrease | [mapped.1 (0.82)] Equity Statement > temporary equity issue period increase or decrease → equity statement > other equity adjustments\n",
      "GainOrLossOnSaleOfPreviouslyUnissuedStockBySubsidiary | [mapped.1 (0.85)] Income Statement > gain or loss on sale of previously unissued stock by subsidiary → income statement > gain (loss) on sale of assets\n"
     ]
    },
    {
     "name": "stderr",
     "output_type": "stream",
     "text": [
      "Processing rows: 1964it [01:38, 21.18it/s]"
     ]
    },
    {
     "name": "stdout",
     "output_type": "stream",
     "text": [
      "GainOrLossOnSaleOfPreviouslyUnissuedStockByEquityInvestee | [mapped.1 (0.84)] Income Statement > gain or loss on sale of previously unissued stock by equity investee → income statement > gain (loss) on sale of assets\n",
      "TemporaryEquityDividendsAdjustment | [mapped.1 (0.82)] Income Statement > temporary equity dividends adjustment → income statement > preferred dividends\n",
      "TemporaryEquityAccretionToRedemptionValueAdjustment | [mapped.1 (0.78)] Income Statement > temporary equity accretion to redemption value adjustment → income statement > depreciation > amortization\n",
      "PreferredStockRedemptionAmountFutureRedeemableSecurities | [mapped.1 (0.86)] Balance Sheet > preferred stock redemption amount future redeemable securities → balance sheet > shareholders' equity > redeemable preferred stock\n",
      "ProceedsFromSaleOfLongtermInvestments | [mapped.1 (0.85)] Cash Flow Statement > proceeds from sale of longterm investments → cash flow > investing activities > proceeds from sale > maturity of investments\n"
     ]
    },
    {
     "name": "stderr",
     "output_type": "stream",
     "text": [
      "Processing rows: 1970it [01:38, 23.01it/s]"
     ]
    },
    {
     "name": "stdout",
     "output_type": "stream",
     "text": [
      "PaymentsToAcquireLongtermInvestments | [mapped.1 (0.83)] Cash Flow Statement > payments to acquire longterm investments → cash flow > investing activities > acquisitions\n",
      "AdjustmentsToAdditionalPaidInCapitalStockIssuedOwnshareLendingArrangementIssuanceCosts | [mapped.1 (0.82)] Equity Statement > adjustments to additional paid in capital stock issued ownshare lending arrangement issuance costs → equity statement > other equity adjustments\n",
      "OtherAssets | [mapped.1 (0.93)] Balance Sheet > other assets → balance sheet > assets > other current assets\n",
      "TreasuryStockRetiredParValueMethodAmount | [mapped.1 (0.82)] Equity Statement > treasury stock retired par value method amount → equity statement > treasury stock activity\n",
      "TreasuryStockRetiredCostMethodAmount | [mapped.1 (0.81)] Equity Statement > treasury stock retired cost method amount → equity statement > treasury stock activity\n",
      "PreferredStockRedemptionDiscount | [mapped.1 (0.84)] Income Statement > preferred stock redemption discount → income statement > preferred dividends\n"
     ]
    },
    {
     "name": "stderr",
     "output_type": "stream",
     "text": [
      "Processing rows: 1973it [01:39, 18.80it/s]"
     ]
    },
    {
     "name": "stdout",
     "output_type": "stream",
     "text": [
      "PreferredStockRedemptionDiscount | [mapped.1 (0.86)] Equity Statement > preferred stock redemption discount → equity statement > preferred dividends\n",
      "FinancingReceivableAllowanceForCreditLosses | [unmapped] Balance Sheet > financing receivable allowance for credit losses\n",
      "CommonStockDividendsShares | [mapped.1 (0.91)] Equity Statement > common stock dividends shares → equity statement > common dividends declared\n"
     ]
    },
    {
     "name": "stderr",
     "output_type": "stream",
     "text": [
      "Processing rows: 1977it [01:39, 22.62it/s]"
     ]
    },
    {
     "name": "stdout",
     "output_type": "stream",
     "text": [
      "PreferredStockDividendsShares | [mapped.1 (0.94)] Equity Statement > preferred stock dividends shares → equity statement > preferred dividends\n",
      "StockDividendsShares | [mapped.1 (0.89)] Equity Statement > stock dividends shares → equity statement > preferred dividends\n",
      "RestrictedStockAwardForfeituresDividends | [mapped.1 (0.83)] Equity Statement > restricted stock award forfeitures dividends → equity statement > preferred dividends\n",
      "RestrictedStockAwardForfeitures | [mapped.1 (0.81)] Equity Statement > restricted stock award forfeitures → equity statement > preferred dividends declared\n",
      "InvestmentsAndOtherNoncurrentAssets | [mapped.1 (0.90)] Balance Sheet > investments and other noncurrent assets → balance sheet > assets > other current assets\n",
      "AdjustmentsToAdditionalPaidInCapitalOther | [mapped.1 (0.91)] Equity Statement > adjustments to additional paid in capital other → equity statement > other equity adjustments\n"
     ]
    },
    {
     "name": "stderr",
     "output_type": "stream",
     "text": [
      "Processing rows: 1983it [01:39, 23.37it/s]"
     ]
    },
    {
     "name": "stdout",
     "output_type": "stream",
     "text": [
      "StockholdersEquityOtherShares | [mapped.1 (0.85)] Equity Statement > stockholders equity other shares → equity statement > issuance of common stock\n",
      "NoncontrollingInterestIncreaseFromBusinessCombination | [mapped.1 (0.89)] Equity Statement > noncontrolling interest increase from business combination → equity statement > noncontrolling interest changes\n",
      "IncreaseDecreaseInAccountsPayableAndOtherOperatingLiabilities | [mapped.1 (0.85)] Cash Flow Statement > increase decrease in accounts payable and other operating liabilities → cash flow > operating activities > changes in other liabilities\n",
      "IncreaseDecreaseInAccruedLiabilitiesAndOtherOperatingLiabilities | [mapped.1 (0.86)] Cash Flow Statement > increase decrease in accrued liabilities and other operating liabilities → cash flow > operating activities > changes in other liabilities\n",
      "IncreaseDecreaseInAccountsReceivableAndOtherOperatingAssets | [mapped.1 (0.85)] Cash Flow Statement > increase decrease in accounts receivable and other operating assets → cash flow > operating activities > changes in accounts receivable\n"
     ]
    },
    {
     "name": "stderr",
     "output_type": "stream",
     "text": [
      "Processing rows: 1989it [01:39, 23.10it/s]"
     ]
    },
    {
     "name": "stdout",
     "output_type": "stream",
     "text": [
      "IncreaseDecreaseInInventoriesAndOtherOperatingAssets | [mapped.1 (0.88)] Cash Flow Statement > increase decrease in inventories and other operating assets → cash flow > operating activities > changes in inventories\n",
      "IncreaseDecreaseInRestructuringReserve | [mapped.1 (0.78)] Cash Flow Statement > increase decrease in restructuring reserve → cash flow > operating activities > changes in other assets\n",
      "IncreaseDecreaseInSelfInsuranceReserve | [mapped.1 (0.73)] Cash Flow Statement > increase decrease in self insurance reserve → cash flow > operating activities > changes in other liabilities\n",
      "IncreaseDecreaseInMaterialsAndSupplies | [mapped.1 (0.80)] Cash Flow Statement > increase decrease in materials and supplies → cash flow > operating activities > changes in inventories\n",
      "IncreaseDecreaseInInventoryForLongTermContractsOrPrograms | [mapped.1 (0.79)] Cash Flow Statement > increase decrease in inventory for long term contracts or programs → cash flow > operating activities > changes in inventories\n"
     ]
    },
    {
     "name": "stderr",
     "output_type": "stream",
     "text": [
      "Processing rows: 1992it [01:39, 21.34it/s]"
     ]
    },
    {
     "name": "stdout",
     "output_type": "stream",
     "text": [
      "PaymentsRelatedToTaxWithholdingForShareBasedCompensation | [mapped.1 (0.78)] Cash Flow Statement > payments related to tax withholding for share based compensation → cash flow > cash taxes paid\n",
      "UnbilledReceivablesCurrent | [mapped.1 (0.88)] Balance Sheet > unbilled receivables current → balance sheet > assets > notes receivable - current\n",
      "AccountsPayableAndOtherAccruedLiabilities | [mapped.1 (0.92)] Balance Sheet > accounts payable and other accrued liabilities → balance sheet > liabilities > accrued expenses\n",
      "ProceedsFromSalesOfBusinessAffiliateAndProductiveAssets | [mapped.1 (0.84)] Cash Flow Statement > proceeds from sales of business affiliate and productive assets → cash flow > investing activities > proceeds from sale > maturity of investments\n"
     ]
    },
    {
     "name": "stderr",
     "output_type": "stream",
     "text": [
      "Processing rows: 1995it [01:40, 20.96it/s]"
     ]
    },
    {
     "name": "stdout",
     "output_type": "stream",
     "text": [
      "PaymentsToAcquireBusinessTwoNetOfCashAcquired | [mapped.1 (0.80)] Cash Flow Statement > payments to acquire business two net of cash acquired → cash flow > investing activities > acquisitions\n",
      "PaymentsToAcquireBusinessThreeNetOfCashAcquired | [mapped.1 (0.79)] Cash Flow Statement > payments to acquire business three net of cash acquired → cash flow > investing activities > acquisitions\n",
      "AccountsAndOtherReceivablesNetCurrent | [mapped.1 (0.84)] Balance Sheet > accounts and other receivables net current → balance sheet > assets > notes receivable - current\n",
      "LiabilitiesOtherThanLongtermDebtNoncurrent | [mapped.1 (0.88)] Balance Sheet > liabilities other than longterm debt noncurrent → balance sheet > liabilities > other long term liabilities\n"
     ]
    },
    {
     "name": "stderr",
     "output_type": "stream",
     "text": [
      "Processing rows: 2001it [01:40, 20.40it/s]"
     ]
    },
    {
     "name": "stdout",
     "output_type": "stream",
     "text": [
      "OtherOperatingActivitiesCashFlowStatement | [mapped.1 (0.87)] Cash Flow Statement > other operating activities cash flow statement → cash flow > operating activities > other non-cash items\n",
      "CashAcquiredInExcessOfPaymentsToAcquireBusiness | [mapped.1 (0.81)] Cash Flow Statement > cash acquired in excess of payments to acquire business → cash flow > investing activities > acquisitions\n",
      "ProceedsFromDebtNetOfIssuanceCosts | [mapped.1 (0.81)] Cash Flow Statement > proceeds from debt net of issuance costs → cash flow > financing activities > short term debt, net\n",
      "PaymentsForProceedsFromPolicyLoans | [mapped.1 (0.78)] Cash Flow Statement > payments for proceeds from policy loans → cash flow > cash interest paid\n",
      "IncreaseDecreaseInIncomeTaxesPayableNetOfIncomeTaxesReceivable | [mapped.1 (0.76)] Cash Flow Statement > increase decrease in income taxes payable net of income taxes receivable → cash flow > cash taxes paid\n"
     ]
    },
    {
     "name": "stderr",
     "output_type": "stream",
     "text": [
      "Processing rows: 2007it [01:40, 20.83it/s]"
     ]
    },
    {
     "name": "stdout",
     "output_type": "stream",
     "text": [
      "IncreaseDecreaseInIncomeTaxes | [mapped.1 (0.77)] Cash Flow Statement > increase decrease in income taxes → cash flow > cash taxes paid\n",
      "IncreaseDecreaseInAccruedTaxesPayable | [mapped.1 (0.78)] Cash Flow Statement > increase decrease in accrued taxes payable → cash flow > cash taxes paid\n",
      "NetCashProvidedByUsedInContinuingOperations | [mapped.1 (0.81)] Cash Flow Statement > net cash provided by used in continuing operations → cash flow > operating activities > net income > starting line\n",
      "ProceedsFromWarrantExercises | [mapped.1 (0.78)] Cash Flow Statement > proceeds from warrant exercises → cash flow > investing activities > proceeds from sale > maturity of investments\n",
      "PaymentsOfDebtExtinguishmentCosts | [mapped.1 (0.76)] Cash Flow Statement > payments of debt extinguishment costs → cash flow > financing activities > short term debt, net\n"
     ]
    },
    {
     "name": "stderr",
     "output_type": "stream",
     "text": [
      "Processing rows: 2010it [01:40, 21.38it/s]"
     ]
    },
    {
     "name": "stdout",
     "output_type": "stream",
     "text": [
      "ProceedsFromIssuanceOfUnsecuredTaxExemptDebt | [mapped.1 (0.77)] Cash Flow Statement > proceeds from issuance of unsecured tax exempt debt → cash flow > financing activities > issuance of common stock\n",
      "AcceleratedShareRepurchaseProgramAdjustment | [mapped.1 (0.84)] Equity Statement > accelerated share repurchase program adjustment → equity statement > repurchase of common stock\n",
      "SurplusNotes | [mapped.1 (0.79)] Balance Sheet > surplus notes → balance sheet > liabilities > notes payable > short term debt\n",
      "CommonStockOtherSharesOutstanding | [mapped.1 (0.89)] Balance Sheet > common stock other shares outstanding → balance sheet > shareholders' equity > common stock\n"
     ]
    },
    {
     "name": "stderr",
     "output_type": "stream",
     "text": [
      "Processing rows: 2017it [01:41, 23.24it/s]"
     ]
    },
    {
     "name": "stdout",
     "output_type": "stream",
     "text": [
      "CommonStockOtherValueOutstanding | [mapped.1 (0.87)] Balance Sheet > common stock other value outstanding → balance sheet > shareholders' equity > common stock\n",
      "StockIssuedDuringPeriodSharesEmployeeBenefitPlan | [mapped.1 (0.81)] Equity Statement > stock issued during period shares employee benefit plan → equity statement > issuance of common stock\n",
      "StockIssuedDuringPeriodValueEmployeeBenefitPlan | [mapped.1 (0.81)] Equity Statement > stock issued during period value employee benefit plan → equity statement > stock-based compensation\n",
      "PreferredStockAccretionOfRedemptionDiscount | [mapped.1 (0.84)] Equity Statement > preferred stock accretion of redemption discount → equity statement > preferred dividends\n",
      "SharesOutstanding | [mapped.1 (0.86)] Equity Statement > shares outstanding → equity statement > issuance of common stock\n",
      "DividendsShareBasedCompensationCash | [mapped.1 (0.89)] Equity Statement > dividends share based compensation cash → equity statement > stock-based compensation\n"
     ]
    },
    {
     "name": "stderr",
     "output_type": "stream",
     "text": [
      "Processing rows: 2023it [01:41, 24.49it/s]"
     ]
    },
    {
     "name": "stdout",
     "output_type": "stream",
     "text": [
      "DividendsSharebasedCompensationStock | [mapped.1 (0.88)] Equity Statement > dividends sharebased compensation stock → equity statement > stock-based compensation\n",
      "DividendsSharebasedCompensationPaidInKind | [mapped.1 (0.86)] Equity Statement > dividends sharebased compensation paid in kind → equity statement > stock-based compensation\n",
      "DividendsShareBasedCompensation | [mapped.1 (0.91)] Equity Statement > dividends share based compensation → equity statement > stock-based compensation\n",
      "ProceedsFromSaleOfTradingSecuritiesHeldforinvestment | [mapped.1 (0.86)] Cash Flow Statement > proceeds from sale of trading securities heldforinvestment → cash flow > investing activities > proceeds from sale > maturity of investments\n",
      "ProceedsFromMaturitiesRepaymentsAndCallsOfTradingSecuritiesHeldforinvestment | [mapped.1 (0.85)] Cash Flow Statement > proceeds from maturities repayments and calls of trading securities heldforinvestment → cash flow > investing activities > proceeds from sale > maturity of investments\n",
      "PaymentsToAcquireTradingSecuritiesHeldforinvestment | [mapped.1 (0.82)] Cash Flow Statement > payments to acquire trading securities heldforinvestment → cash flow > investing activities > acquisitions\n"
     ]
    },
    {
     "name": "stderr",
     "output_type": "stream",
     "text": [
      "Processing rows: 2026it [01:41, 22.13it/s]"
     ]
    },
    {
     "name": "stdout",
     "output_type": "stream",
     "text": [
      "RepaymentsOfLongtermLoansFromVendors | [mapped.1 (0.80)] Cash Flow Statement > repayments of longterm loans from vendors → cash flow > financing activities > long term debt, net\n",
      "AdvanceRoyaltiesCurrent | [mapped.1 (0.78)] Balance Sheet > advance royalties current → balance sheet > assets > other current assets\n",
      "AdvanceRoyaltiesNoncurrent | [mapped.1 (0.78)] Balance Sheet > advance royalties noncurrent → balance sheet > assets > restricted cash - current\n",
      "ProceedsFromSecuritiesPurchasedUnderAgreementsToResell | [mapped.1 (0.82)] Cash Flow Statement > proceeds from securities purchased under agreements to resell → cash flow > investing activities > proceeds from sale > maturity of investments\n"
     ]
    },
    {
     "name": "stderr",
     "output_type": "stream",
     "text": [
      "Processing rows: 2032it [01:41, 23.04it/s]"
     ]
    },
    {
     "name": "stdout",
     "output_type": "stream",
     "text": [
      "PaymentsForSecuritiesPurchasedUnderAgreementsToResell | [mapped.1 (0.79)] Cash Flow Statement > payments for securities purchased under agreements to resell → cash flow > investing activities > proceeds from sale > maturity of investments\n",
      "IncreaseDecreaseInOptionPremiumContractsPayable | [mapped.1 (0.75)] Cash Flow Statement > increase decrease in option premium contracts payable → cash flow > operating activities > changes in other liabilities\n",
      "NoncontrollingInterestDecreaseFromDeconsolidation | [mapped.1 (0.87)] Equity Statement > noncontrolling interest decrease from deconsolidation → equity statement > noncontrolling interest changes\n",
      "FranchisorCosts | [mapped.1 (0.84)] Income Statement > franchisor costs → income statement > cost of revenue\n",
      "IncreaseDecreaseInDerivativeAssets | [mapped.1 (0.80)] Cash Flow Statement > increase decrease in derivative assets → cash flow > operating activities > changes in other assets\n"
     ]
    },
    {
     "name": "stderr",
     "output_type": "stream",
     "text": [
      "Processing rows: 2035it [01:41, 21.93it/s]"
     ]
    },
    {
     "name": "stdout",
     "output_type": "stream",
     "text": [
      "IncreaseDecreaseInDerivativeLiabilities | [mapped.1 (0.79)] Cash Flow Statement > increase decrease in derivative liabilities → cash flow > operating activities > changes in other liabilities\n",
      "IncreaseDecreaseInDerivativeAssetsAndLiabilities | [mapped.1 (0.80)] Cash Flow Statement > increase decrease in derivative assets and liabilities → cash flow > operating activities > changes in other assets\n",
      "PaymentsForDerivativeInstrumentInvestingActivities | [mapped.1 (0.80)] Cash Flow Statement > payments for derivative instrument investing activities → cash flow > investing activities > purchase of investments\n",
      "ProceedsFromDerivativeInstrumentInvestingActivities | [mapped.1 (0.83)] Cash Flow Statement > proceeds from derivative instrument investing activities → cash flow > investing activities > proceeds from sale > maturity of investments\n",
      "PaymentsForProceedsFromDerivativeInstrumentInvestingActivities | [mapped.1 (0.81)] Cash Flow Statement > payments for proceeds from derivative instrument investing activities → cash flow > investing activities > proceeds from sale > maturity of investments\n"
     ]
    },
    {
     "name": "stderr",
     "output_type": "stream",
     "text": [
      "Processing rows: 2041it [01:42, 21.62it/s]"
     ]
    },
    {
     "name": "stdout",
     "output_type": "stream",
     "text": [
      "PaymentsForDerivativeInstrumentFinancingActivities | [mapped.1 (0.82)] Cash Flow Statement > payments for derivative instrument financing activities → cash flow > financing activities > other financing activities\n",
      "ProceedsFromDerivativeInstrumentFinancingActivities | [mapped.1 (0.83)] Cash Flow Statement > proceeds from derivative instrument financing activities → cash flow > financing activities > other financing activities\n",
      "PaymentsForProceedsFromDerivativeInstrumentFinancingActivities | [mapped.1 (0.82)] Cash Flow Statement > payments for proceeds from derivative instrument financing activities → cash flow > financing activities > other financing activities\n",
      "CashFlowOperatingCapitalTableTextBlock | [mapped.1 (0.79)] Cash Flow Statement > cash flow operating capital table text block → cash flow > operating activities > net income > starting line\n",
      "RepaymentsOfDebt | [mapped.1 (0.82)] Cash Flow Statement > repayments of debt → cash flow > financing activities > long term debt, net\n"
     ]
    },
    {
     "name": "stderr",
     "output_type": "stream",
     "text": [
      "Processing rows: 2047it [01:42, 21.17it/s]"
     ]
    },
    {
     "name": "stdout",
     "output_type": "stream",
     "text": [
      "RepaymentsOfDebtAndCapitalLeaseObligations | [mapped.1 (0.81)] Cash Flow Statement > repayments of debt and capital lease obligations → cash flow > financing activities > long term debt, net\n",
      "ProceedsFromIssuanceOfDebt | [mapped.1 (0.81)] Cash Flow Statement > proceeds from issuance of debt → cash flow > financing activities > issuance of common stock\n",
      "PaymentsToAcquireRealEstateAndRealEstateJointVentures | [mapped.1 (0.80)] Cash Flow Statement > payments to acquire real estate and real estate joint ventures → cash flow > investing activities > acquisitions\n",
      "ProceedsFromRealEstateAndRealEstateJointVentures | [mapped.1 (0.79)] Cash Flow Statement > proceeds from real estate and real estate joint ventures → cash flow > investing activities > proceeds from sale > maturity of investments\n",
      "WeightedAverageLimitedPartnershipAndGeneralPartnershipUnitsOutstandingBasic | [mapped.1 (0.75)] Income Statement > weighted average limited partnership and general partnership units outstanding basic → income statement > net income available to common\n"
     ]
    },
    {
     "name": "stderr",
     "output_type": "stream",
     "text": [
      "Processing rows: 2053it [01:42, 23.66it/s]"
     ]
    },
    {
     "name": "stdout",
     "output_type": "stream",
     "text": [
      "IncreaseDecreaseInBookOverdrafts | [mapped.1 (0.74)] Cash Flow Statement > increase decrease in book overdrafts → cash flow > operating activities > changes in accounts receivable\n",
      "StockIssuedDuringPeriodValuePurchaseOfAssets | [mapped.1 (0.84)] Equity Statement > stock issued during period value purchase of assets → equity statement > issuance of common stock\n",
      "StockIssuedDuringPeriodSharesPurchaseOfAssets | [mapped.1 (0.85)] Equity Statement > stock issued during period shares purchase of assets → equity statement > issuance of common stock\n",
      "StockIssuedDuringPeriodValueOther | [mapped.1 (0.86)] Equity Statement > stock issued during period value other → equity statement > issuance of common stock\n",
      "StockIssuedDuringPeriodSharesOther | [mapped.1 (0.87)] Equity Statement > stock issued during period shares other → equity statement > issuance of common stock\n",
      "ScheduleOfCashFlowSupplementalDisclosuresTableTextBlock | [mapped.1 (0.71)] Cash Flow Statement > schedule of cash flow supplemental disclosures table text block → cash flow > operating activities > net income > starting line\n"
     ]
    },
    {
     "name": "stderr",
     "output_type": "stream",
     "text": [
      "Processing rows: 2056it [01:42, 22.77it/s]"
     ]
    },
    {
     "name": "stdout",
     "output_type": "stream",
     "text": [
      "PaymentsToAcquireAssetsInvestingActivities | [mapped.1 (0.88)] Cash Flow Statement > payments to acquire assets investing activities → cash flow > investing activities > acquisitions\n",
      "ProceedsFromSaleOfFinanceReceivables | [mapped.1 (0.81)] Cash Flow Statement > proceeds from sale of finance receivables → cash flow > investing activities > proceeds from sale > maturity of investments\n",
      "ProceedsFromCollectionOfFinanceReceivables | [mapped.1 (0.78)] Cash Flow Statement > proceeds from collection of finance receivables → cash flow > investing activities > proceeds from sale > maturity of investments\n",
      "ProceedsFromRepaymentsOfCommercialPaper | [mapped.1 (0.79)] Cash Flow Statement > proceeds from repayments of commercial paper → cash flow > cash interest paid\n",
      "ProceedsFromRepaymentsOfLinesOfCredit | [mapped.1 (0.80)] Cash Flow Statement > proceeds from repayments of lines of credit → cash flow > financing activities > other financing activities\n"
     ]
    },
    {
     "name": "stderr",
     "output_type": "stream",
     "text": [
      "Processing rows: 2062it [01:43, 22.57it/s]"
     ]
    },
    {
     "name": "stdout",
     "output_type": "stream",
     "text": [
      "IncreaseDecreaseInSecuritiesLendingPayable | [mapped.1 (0.75)] Cash Flow Statement > increase decrease in securities lending payable → cash flow > operating activities > changes in accounts payable\n",
      "IncreaseDecreaseInCollateralHeldUnderSecuritiesLending | [mapped.1 (0.74)] Cash Flow Statement > increase decrease in collateral held under securities lending → cash flow > financing activities > other financing activities\n",
      "ProceedsFromSalesOfAssetsInvestingActivities | [mapped.1 (0.90)] Cash Flow Statement > proceeds from sales of assets investing activities → cash flow > investing activities > proceeds from sale > maturity of investments\n",
      "NetIncomeLossAttributableToRedeemableNoncontrollingInterest | [mapped.1 (0.81)] Income Statement > net income loss attributable to redeemable noncontrolling interest → income statement > interest income - non-operating\n",
      "NetIncomeLossAttributableToRedeemableNoncontrollingInterest | [mapped.1 (0.87)] Equity Statement > net income loss attributable to redeemable noncontrolling interest → equity statement > redeemable noncontrolling interest adjustments\n"
     ]
    },
    {
     "name": "stderr",
     "output_type": "stream",
     "text": [
      "Processing rows: 2065it [01:43, 22.60it/s]"
     ]
    },
    {
     "name": "stdout",
     "output_type": "stream",
     "text": [
      "BusinessCombinationIntegrationRelatedCosts | [mapped.1 (0.78)] Income Statement > business combination integration related costs → income statement > cost of revenue\n",
      "SelfInsuranceReserveCurrent | [mapped.1 (0.77)] Balance Sheet > self insurance reserve current → balance sheet > liabilities > other current liabilities\n",
      "SelfInsuranceReserveNoncurrent | [mapped.1 (0.77)] Balance Sheet > self insurance reserve noncurrent → balance sheet > liabilities > other current liabilities\n",
      "GainOnSaleOfInvestments | [mapped.1 (0.86)] Cash Flow Statement > gain on sale of investments → cash flow > investing activities > proceeds from sale > maturity of investments\n"
     ]
    },
    {
     "name": "stderr",
     "output_type": "stream",
     "text": [
      "Processing rows: 2071it [01:43, 21.93it/s]"
     ]
    },
    {
     "name": "stdout",
     "output_type": "stream",
     "text": [
      "LossOnSaleOfInvestments | [mapped.1 (0.82)] Cash Flow Statement > loss on sale of investments → cash flow > investing activities > proceeds from sale > maturity of investments\n",
      "AmortizationAndDepreciationOfDecontaminatingAndDecommissioningAssets | [mapped.1 (0.84)] Cash Flow Statement > amortization and depreciation of decontaminating and decommissioning assets → cash flow > operating activities > depreciation > amortization\n",
      "AmortizationAndDepreciationOfDecontaminatingAndDecommissioningAssets | [mapped.1 (0.83)] Income Statement > amortization and depreciation of decontaminating and decommissioning assets → income statement > depreciation > amortization\n",
      "UtilitiesOperatingExpenseMaintenanceOperationsAndOtherCostsAndExpenses | [mapped.1 (0.87)] Income Statement > utilities operating expense maintenance operations and other costs and expenses → income statement > other operating expenses\n",
      "FeesAndCommissionsMortgageBankingAndServicing | [mapped.1 (0.74)] Income Statement > fees and commissions mortgage banking and servicing → income statement > interest > investment income - operating\n"
     ]
    },
    {
     "name": "stderr",
     "output_type": "stream",
     "text": [
      "Processing rows: 2078it [01:43, 25.03it/s]"
     ]
    },
    {
     "name": "stdout",
     "output_type": "stream",
     "text": [
      "IncreaseDecreaseInFuturePolicyBenefitReservesAndOtherInsuranceLiabilities | [mapped.1 (0.75)] Cash Flow Statement > increase decrease in future policy benefit reserves and other insurance liabilities → cash flow > operating activities > changes in other liabilities\n",
      "AdjustmentsToAdditionalPaidInCapitalShareBasedCompensationStockOptionsRequisiteServicePeriodRecognition | [mapped.1 (0.83)] Equity Statement > adjustments to additional paid in capital share based compensation stock options requisite service period recognition → equity statement > stock-based compensation\n",
      "AdjustmentsToAdditionalPaidInCapitalShareBasedCompensationEmployeeStockPurchaseProgramRequisiteServicePeriodRecognition | [mapped.1 (0.81)] Equity Statement > adjustments to additional paid in capital share based compensation employee stock purchase program requisite service period recognition → equity statement > stock-based compensation\n",
      "AdjustmentsToAdditionalPaidInCapitalShareBasedCompensationRestrictedStockUnitsRequisiteServicePeriodRecognition | [mapped.1 (0.82)] Equity Statement > adjustments to additional paid in capital share based compensation restricted stock units requisite service period recognition → equity statement > stock-based compensation\n",
      "AdjustmentsToAdditionalPaidInCapitalSharebasedCompensationOtherLongtermIncentivePlansRequisiteServicePeriodRecognition | [mapped.1 (0.80)] Equity Statement > adjustments to additional paid in capital sharebased compensation other longterm incentive plans requisite service period recognition → equity statement > stock-based compensation\n",
      "OtherOperatingIncomeExpenseNet | [mapped.1 (0.91)] Income Statement > other operating income expense net → income statement > other operating expenses\n"
     ]
    },
    {
     "name": "stderr",
     "output_type": "stream",
     "text": [
      "Processing rows: 2081it [01:43, 22.59it/s]"
     ]
    },
    {
     "name": "stdout",
     "output_type": "stream",
     "text": [
      "PaymentsToAcquireTimberlands | [mapped.1 (0.74)] Cash Flow Statement > payments to acquire timberlands → cash flow > investing activities > acquisitions\n",
      "DeferredCostsCurrentAndNoncurrent | [mapped.1 (0.79)] Balance Sheet > deferred costs current and noncurrent → balance sheet > assets > other current assets\n",
      "CustomerRefundLiabilityCurrent | [mapped.1 (0.82)] Balance Sheet > customer refund liability current → balance sheet > liabilities > other current liabilities\n",
      "IncreaseDecreaseInConstructionPayables | [mapped.1 (0.76)] Cash Flow Statement > increase decrease in construction payables → cash flow > operating activities > changes in accounts payable\n"
     ]
    },
    {
     "name": "stderr",
     "output_type": "stream",
     "text": [
      "Processing rows: 2087it [01:44, 22.02it/s]"
     ]
    },
    {
     "name": "stdout",
     "output_type": "stream",
     "text": [
      "ProceedsFromSaleAndMaturityOfTradingSecuritiesHeldforinvestment | [mapped.1 (0.90)] Cash Flow Statement > proceeds from sale and maturity of trading securities heldforinvestment → cash flow > investing activities > proceeds from sale > maturity of investments\n",
      "GoodwillAndIntangibleAssetImpairment | [mapped.1 (0.78)] Income Statement > goodwill and intangible asset impairment → income statement > depreciation > amortization\n",
      "OilAndGasPropertyFullCostMethodNet | [mapped.1 (0.75)] Balance Sheet > oil and gas property full cost method net → balance sheet > assets > property > plant > equipment\n",
      "CostsAndExpensesRelatedParty | [mapped.1 (0.85)] Income Statement > costs and expenses related party → income statement > other operating expenses\n",
      "ProceedsFromSaleMaturityAndCollectionOfShorttermInvestments | [mapped.1 (0.90)] Cash Flow Statement > proceeds from sale maturity and collection of shortterm investments → cash flow > investing activities > proceeds from sale > maturity of investments\n"
     ]
    },
    {
     "name": "stderr",
     "output_type": "stream",
     "text": [
      "Processing rows: 2090it [01:44, 21.84it/s]"
     ]
    },
    {
     "name": "stdout",
     "output_type": "stream",
     "text": [
      "ProceedsFromMaturitiesPrepaymentsAndCallsOfShorttermInvestments | [mapped.1 (0.83)] Cash Flow Statement > proceeds from maturities prepayments and calls of shortterm investments → cash flow > investing activities > proceeds from sale > maturity of investments\n",
      "PaymentsForProceedsFromLongtermInvestments | [mapped.1 (0.81)] Cash Flow Statement > payments for proceeds from longterm investments → cash flow > investing activities > proceeds from sale > maturity of investments\n",
      "IncreaseDecreaseInPrepaidTaxes | [mapped.1 (0.76)] Cash Flow Statement > increase decrease in prepaid taxes → cash flow > cash taxes paid\n",
      "CashAndCashEquivalentsAtCarryingValueIncludingDiscontinuedOperations | [mapped.1 (0.81)] Cash Flow Statement > cash and cash equivalents at carrying value including discontinued operations → cash flow > operating activities > depreciation > amortization\n",
      "AccountsReceivableFromSecuritization | [mapped.1 (0.83)] Balance Sheet > accounts receivable from securitization → balance sheet > assets > accounts receivable\n"
     ]
    },
    {
     "name": "stderr",
     "output_type": "stream",
     "text": [
      "Processing rows: 2096it [01:44, 21.89it/s]"
     ]
    },
    {
     "name": "stdout",
     "output_type": "stream",
     "text": [
      "OtherNoncashIncomeExpense | [mapped.1 (0.84)] Cash Flow Statement > other noncash income expense → cash flow > operating activities > other non-cash items\n",
      "ProceedsFromDebtMaturingInMoreThanThreeMonths | [mapped.1 (0.80)] Cash Flow Statement > proceeds from debt maturing in more than three months → cash flow > financing activities > long term debt, net\n",
      "RepaymentsOfDebtMaturingInMoreThanThreeMonths | [mapped.1 (0.80)] Cash Flow Statement > repayments of debt maturing in more than three months → cash flow > financing activities > long term debt, net\n",
      "ProceedsFromRepaymentsOfDebtMaturingInMoreThanThreeMonths | [mapped.1 (0.79)] Cash Flow Statement > proceeds from repayments of debt maturing in more than three months → cash flow > financing activities > long term debt, net\n",
      "ConversionOfStockAmountConverted1 | [mapped.1 (0.78)] Cash Flow Statement > conversion of stock amount converted1 → cash flow > operating activities > changes in other assets\n"
     ]
    },
    {
     "name": "stderr",
     "output_type": "stream",
     "text": [
      "Processing rows: 2102it [01:44, 21.80it/s]"
     ]
    },
    {
     "name": "stdout",
     "output_type": "stream",
     "text": [
      "ConversionOfStockAmountIssued1 | [mapped.1 (0.80)] Cash Flow Statement > conversion of stock amount issued1 → cash flow > financing activities > issuance of common stock\n",
      "ConversionOfStockSharesConverted1 | [mapped.1 (0.78)] Cash Flow Statement > conversion of stock shares converted1 → cash flow > financing activities > issuance of common stock\n",
      "ConversionOfStockSharesIssued1 | [mapped.1 (0.81)] Cash Flow Statement > conversion of stock shares issued1 → cash flow > financing activities > issuance of common stock\n",
      "DebtConversionConvertedInstrumentAmount1 | [mapped.1 (0.78)] Cash Flow Statement > debt conversion converted instrument amount1 → cash flow > financing activities > short term debt, net\n",
      "DebtConversionConvertedInstrumentSharesIssued1 | [mapped.1 (0.81)] Cash Flow Statement > debt conversion converted instrument shares issued1 → cash flow > financing activities > issuance of common stock\n"
     ]
    },
    {
     "name": "stderr",
     "output_type": "stream",
     "text": [
      "Processing rows: 2105it [01:45, 22.04it/s]"
     ]
    },
    {
     "name": "stdout",
     "output_type": "stream",
     "text": [
      "DebtConversionConvertedInstrumentWarrantsOrOptionsIssued1 | [mapped.1 (0.76)] Cash Flow Statement > debt conversion converted instrument warrants or options issued1 → cash flow > financing activities > short term debt, net\n",
      "DebtConversionOriginalDebtAmount1 | [mapped.1 (0.77)] Cash Flow Statement > debt conversion original debt amount1 → cash flow > financing activities > short term debt, net\n",
      "NoncashOrPartNoncashAcquisitionAccountsReceivableAcquired1 | [mapped.1 (0.78)] Cash Flow Statement > noncash or part noncash acquisition accounts receivable acquired1 → cash flow > investing activities > acquisitions\n",
      "NoncashOrPartNoncashAcquisitionDebtAssumed1 | [mapped.1 (0.80)] Cash Flow Statement > noncash or part noncash acquisition debt assumed1 → cash flow > investing activities > acquisitions\n",
      "NoncashOrPartNoncashAcquisitionEmployeeBenefitLiabilitiesAssumed1 | [mapped.1 (0.78)] Cash Flow Statement > noncash or part noncash acquisition employee benefit liabilities assumed1 → cash flow > operating activities > changes in other liabilities\n"
     ]
    },
    {
     "name": "stderr",
     "output_type": "stream",
     "text": [
      "Processing rows: 2111it [01:45, 22.95it/s]"
     ]
    },
    {
     "name": "stdout",
     "output_type": "stream",
     "text": [
      "NoncashOrPartNoncashAcquisitionFixedAssetsAcquired1 | [mapped.1 (0.82)] Cash Flow Statement > noncash or part noncash acquisition fixed assets acquired1 → cash flow > investing activities > acquisitions\n",
      "NoncashOrPartNoncashAcquisitionIntangibleAssetsAcquired1 | [mapped.1 (0.81)] Cash Flow Statement > noncash or part noncash acquisition intangible assets acquired1 → cash flow > investing activities > acquisitions\n",
      "NoncashOrPartNoncashAcquisitionInterestAcquired1 | [mapped.1 (0.82)] Cash Flow Statement > noncash or part noncash acquisition interest acquired1 → cash flow > investing activities > acquisitions\n",
      "NoncashOrPartNoncashAcquisitionInventoryAcquired1 | [mapped.1 (0.81)] Cash Flow Statement > noncash or part noncash acquisition inventory acquired1 → cash flow > investing activities > acquisitions\n",
      "NoncashOrPartNoncashAcquisitionInvestmentsAcquired1 | [mapped.1 (0.84)] Cash Flow Statement > noncash or part noncash acquisition investments acquired1 → cash flow > investing activities > acquisitions\n"
     ]
    },
    {
     "name": "stderr",
     "output_type": "stream",
     "text": [
      "Processing rows: 2117it [01:45, 22.87it/s]"
     ]
    },
    {
     "name": "stdout",
     "output_type": "stream",
     "text": [
      "NoncashOrPartNoncashAcquisitionNetNonmonetaryAssetsAcquiredLiabilitiesAssumed1 | [mapped.1 (0.80)] Cash Flow Statement > noncash or part noncash acquisition net nonmonetary assets acquired liabilities assumed1 → cash flow > investing activities > acquisitions\n",
      "NoncashOrPartNoncashAcquisitionNoncashFinancialOrEquityInstrumentConsiderationOptionsIssued1 | [mapped.1 (0.81)] Cash Flow Statement > noncash or part noncash acquisition noncash financial or equity instrument consideration options issued1 → cash flow > operating activities > other non-cash items\n",
      "NoncashOrPartNoncashAcquisitionNoncashFinancialOrEquityInstrumentConsiderationSharesIssued1 | [mapped.1 (0.80)] Cash Flow Statement > noncash or part noncash acquisition noncash financial or equity instrument consideration shares issued1 → cash flow > operating activities > other non-cash items\n",
      "NoncashOrPartNoncashAcquisitionNoncashFinancialOrEquityInstrumentConsiderationWarrantsIssued1 | [mapped.1 (0.79)] Cash Flow Statement > noncash or part noncash acquisition noncash financial or equity instrument consideration warrants issued1 → cash flow > operating activities > other non-cash items\n",
      "NoncashOrPartNoncashAcquisitionOtherAssetsAcquired1 | [mapped.1 (0.83)] Cash Flow Statement > noncash or part noncash acquisition other assets acquired1 → cash flow > investing activities > acquisitions\n"
     ]
    },
    {
     "name": "stderr",
     "output_type": "stream",
     "text": [
      "Processing rows: 2120it [01:45, 23.08it/s]"
     ]
    },
    {
     "name": "stdout",
     "output_type": "stream",
     "text": [
      "NoncashOrPartNoncashAcquisitionOtherLiabilitiesAssumed1 | [mapped.1 (0.82)] Cash Flow Statement > noncash or part noncash acquisition other liabilities assumed1 → cash flow > operating activities > changes in other liabilities\n",
      "NoncashOrPartNoncashAcquisitionPayablesAssumed1 | [mapped.1 (0.81)] Cash Flow Statement > noncash or part noncash acquisition payables assumed1 → cash flow > operating activities > other non-cash items\n",
      "NoncashOrPartNoncashAcquisitionValueOfAssetsAcquired1 | [mapped.1 (0.82)] Cash Flow Statement > noncash or part noncash acquisition value of assets acquired1 → cash flow > investing activities > acquisitions\n",
      "NoncashOrPartNoncashAcquisitionValueOfLiabilitiesAssumed1 | [mapped.1 (0.79)] Cash Flow Statement > noncash or part noncash acquisition value of liabilities assumed1 → cash flow > operating activities > changes in other liabilities\n",
      "NoncashOrPartNoncashDivestitureAmountOfConsiderationReceived1 | [mapped.1 (0.79)] Cash Flow Statement > noncash or part noncash divestiture amount of consideration received1 → cash flow > cash interest paid\n"
     ]
    },
    {
     "name": "stderr",
     "output_type": "stream",
     "text": [
      "Processing rows: 2126it [01:45, 24.20it/s]"
     ]
    },
    {
     "name": "stdout",
     "output_type": "stream",
     "text": [
      "OtherSignificantNoncashTransactionValueOfConsiderationGiven1 | [mapped.1 (0.81)] Cash Flow Statement > other significant noncash transaction value of consideration given1 → cash flow > operating activities > other non-cash items\n",
      "OtherSignificantNoncashTransactionValueOfConsiderationReceived1 | [mapped.1 (0.81)] Cash Flow Statement > other significant noncash transaction value of consideration received1 → cash flow > operating activities > other non-cash items\n",
      "TemporaryEquityEliminationAsPartofReorganization | [mapped.1 (0.78)] Equity Statement > temporary equity elimination as partof reorganization → equity statement > other equity adjustments\n",
      "TemporaryEquityOtherChanges | [mapped.1 (0.89)] Equity Statement > temporary equity other changes → equity statement > other equity adjustments\n",
      "TemporaryEquityInterestInSubsidiaryEarnings | [mapped.1 (0.80)] Equity Statement > temporary equity interest in subsidiary earnings → equity statement > preferred dividends declared\n",
      "TemporaryEquityForeignCurrencyTranslationAdjustments | [mapped.1 (0.85)] Equity Statement > temporary equity foreign currency translation adjustments → equity statement > convertible instrument adjustments\n"
     ]
    },
    {
     "name": "stderr",
     "output_type": "stream",
     "text": [
      "Processing rows: 2132it [01:46, 25.78it/s]"
     ]
    },
    {
     "name": "stdout",
     "output_type": "stream",
     "text": [
      "TemporaryEquityNetIncome | [mapped.1 (0.90)] Equity Statement > temporary equity net income → equity statement > net income\n",
      "AdjustmentsToAdditionalPaidInCapitalEquityComponentOfConvertibleDebtSubsequentAdjustments | [mapped.1 (0.88)] Equity Statement > adjustments to additional paid in capital equity component of convertible debt subsequent adjustments → equity statement > convertible instrument adjustments\n",
      "StockIssuedDuringPeriodValueConversionOfConvertibleSecuritiesNetOfAdjustments | [mapped.1 (0.87)] Equity Statement > stock issued during period value conversion of convertible securities net of adjustments → equity statement > convertible instrument adjustments\n",
      "InterestPaidCapitalized | [mapped.1 (0.87)] Cash Flow Statement > interest paid capitalized → cash flow > cash interest paid\n",
      "AssetsUnderManagementCarryingAmount | [mapped.1 (0.82)] Balance Sheet > assets under management carrying amount → balance sheet > assets > other current assets\n"
     ]
    },
    {
     "name": "stderr",
     "output_type": "stream",
     "text": [
      "Processing rows: 2138it [01:46, 24.62it/s]"
     ]
    },
    {
     "name": "stdout",
     "output_type": "stream",
     "text": [
      "ProceedsFromSaleMaturityAndCollectionOfLongtermInvestments | [mapped.1 (0.89)] Cash Flow Statement > proceeds from sale maturity and collection of longterm investments → cash flow > investing activities > proceeds from sale > maturity of investments\n",
      "ProceedsFromMaturitiesPrepaymentsAndCallsOfLongtermInvestments | [mapped.1 (0.82)] Cash Flow Statement > proceeds from maturities prepayments and calls of longterm investments → cash flow > investing activities > proceeds from sale > maturity of investments\n",
      "IncreaseDecreaseInRestrictedCashAndInvestmentsForOperatingActivities | [mapped.1 (0.80)] Cash Flow Statement > increase decrease in restricted cash and investments for operating activities → cash flow > investing activities > purchase of investments\n",
      "OtherComprehensiveIncomeLossPensionAndOtherPostretirementBenefitPlansBenefitPlanImprovementTaxEffect | [mapped.1 (0.81)] Comprehensive Income > other comprehensive income loss pension and other postretirement benefit plans benefit plan improvement tax effect → comprehensive income > pension > postretirement adjustments\n",
      "IncreaseDecreaseInOtherCurrentAssets | [mapped.1 (0.84)] Cash Flow Statement > increase decrease in other current assets → cash flow > operating activities > changes in other assets\n"
     ]
    },
    {
     "name": "stderr",
     "output_type": "stream",
     "text": [
      "Processing rows: 2141it [01:46, 23.32it/s]"
     ]
    },
    {
     "name": "stdout",
     "output_type": "stream",
     "text": [
      "IncreaseDecreaseInOtherNoncurrentAssets | [mapped.1 (0.84)] Cash Flow Statement > increase decrease in other noncurrent assets → cash flow > operating activities > changes in other assets\n",
      "IncreaseDecreaseInOtherCurrentLiabilities | [mapped.1 (0.84)] Cash Flow Statement > increase decrease in other current liabilities → cash flow > operating activities > changes in other liabilities\n",
      "IncreaseDecreaseInOtherNoncurrentLiabilities | [mapped.1 (0.83)] Cash Flow Statement > increase decrease in other noncurrent liabilities → cash flow > operating activities > changes in other liabilities\n",
      "IncreaseDecreaseInOtherCurrentAssetsAndLiabilitiesNet | [mapped.1 (0.83)] Cash Flow Statement > increase decrease in other current assets and liabilities net → cash flow > operating activities > changes in other liabilities\n",
      "IncreaseDecreaseInOtherNoncurrentAssetsAndLiabilitiesNet | [mapped.1 (0.82)] Cash Flow Statement > increase decrease in other noncurrent assets and liabilities net → cash flow > operating activities > changes in other assets\n"
     ]
    },
    {
     "name": "stderr",
     "output_type": "stream",
     "text": [
      "Processing rows: 2147it [01:46, 22.76it/s]"
     ]
    },
    {
     "name": "stdout",
     "output_type": "stream",
     "text": [
      "PaymentsForLeasingCostsCommissionsAndTenantImprovements | [mapped.1 (0.76)] Cash Flow Statement > payments for leasing costs commissions and tenant improvements → cash flow > financing activities > other financing activities\n",
      "UnrealizedGainLossOnInvestments | [mapped.1 (0.79)] Cash Flow Statement > unrealized gain loss on investments → cash flow > investing activities > proceeds from sale > maturity of investments\n",
      "UnrealizedGainLossOnDerivativesAndCommodityContracts | [mapped.1 (0.75)] Cash Flow Statement > unrealized gain loss on derivatives and commodity contracts → cash flow > investing activities > proceeds from sale > maturity of investments\n",
      "GainLossOnSaleOfInvestments | [mapped.1 (0.82)] Cash Flow Statement > gain loss on sale of investments → cash flow > investing activities > proceeds from sale > maturity of investments\n",
      "LiabilitiesAssumed1 | [mapped.1 (0.82)] Cash Flow Statement > liabilities assumed1 → cash flow > operating activities > changes in other liabilities\n"
     ]
    },
    {
     "name": "stderr",
     "output_type": "stream",
     "text": [
      "Processing rows: 2153it [01:47, 22.12it/s]"
     ]
    },
    {
     "name": "stdout",
     "output_type": "stream",
     "text": [
      "LineOfCreditAssumed1 | [mapped.1 (0.80)] Cash Flow Statement > line of credit assumed1 → cash flow > cash interest paid\n",
      "LoansAssumed1 | [mapped.1 (0.80)] Cash Flow Statement > loans assumed1 → cash flow > cash interest paid\n",
      "NotesAssumed1 | [mapped.1 (0.80)] Cash Flow Statement > notes assumed1 → cash flow > cash interest paid\n",
      "NotesIssued1 | [mapped.1 (0.81)] Cash Flow Statement > notes issued1 → cash flow > cash interest paid\n",
      "StockIssued1 | [mapped.1 (0.83)] Cash Flow Statement > stock issued1 → cash flow > financing activities > issuance of common stock\n"
     ]
    },
    {
     "name": "stderr",
     "output_type": "stream",
     "text": [
      "Processing rows: 2156it [01:47, 22.26it/s]"
     ]
    },
    {
     "name": "stdout",
     "output_type": "stream",
     "text": [
      "TransferOfLoansHeldForSaleToPortfolioLoans1 | [mapped.1 (0.76)] Cash Flow Statement > transfer of loans held for sale to portfolio loans1 → cash flow > investing activities > proceeds from sale > maturity of investments\n",
      "TransferOfPortfolioLoansAndLeasesToHeldForSale1 | [mapped.1 (0.79)] Cash Flow Statement > transfer of portfolio loans and leases to held for sale1 → cash flow > investing activities > proceeds from sale > maturity of investments\n",
      "TransferOfInvestments | [mapped.1 (0.84)] Cash Flow Statement > transfer of investments → cash flow > investing activities > purchase of investments\n",
      "TransferOfOtherRealEstate | [mapped.1 (0.80)] Cash Flow Statement > transfer of other real estate → cash flow > operating activities > changes in other assets\n",
      "MortgageLoanRelatedToPropertySales1 | [mapped.1 (0.77)] Cash Flow Statement > mortgage loan related to property sales1 → cash flow > financing activities > other financing activities\n"
     ]
    },
    {
     "name": "stderr",
     "output_type": "stream",
     "text": [
      "Processing rows: 2163it [01:47, 24.82it/s]"
     ]
    },
    {
     "name": "stdout",
     "output_type": "stream",
     "text": [
      "StockIssuedDuringPeriodValueShareBasedCompensationGross | [mapped.1 (0.88)] Equity Statement > stock issued during period value share based compensation gross → equity statement > stock-based compensation\n",
      "StockIssuedDuringPeriodValueShareBasedCompensationForfeited | [mapped.1 (0.85)] Equity Statement > stock issued during period value share based compensation forfeited → equity statement > stock-based compensation\n",
      "StockIssuedDuringPeriodSharesShareBasedCompensationGross | [mapped.1 (0.89)] Equity Statement > stock issued during period shares share based compensation gross → equity statement > stock-based compensation\n",
      "StockIssuedDuringPeriodSharesShareBasedCompensationForfeited | [mapped.1 (0.85)] Equity Statement > stock issued during period shares share based compensation forfeited → equity statement > stock-based compensation\n",
      "StockGrantedDuringPeriodValueSharebasedCompensationGross | [mapped.1 (0.86)] Equity Statement > stock granted during period value sharebased compensation gross → equity statement > stock-based compensation\n",
      "StockGrantedDuringPeriodValueSharebasedCompensationForfeited | [mapped.1 (0.83)] Equity Statement > stock granted during period value sharebased compensation forfeited → equity statement > stock-based compensation\n",
      "ShareBasedCompensationArrangementByShareBasedPaymentAwardOptionsGrantsInPeriodGross | [mapped.1 (0.79)] Equity Statement > share based compensation arrangement by share based payment award options grants in period gross → equity statement > stock-based compensation\n"
     ]
    },
    {
     "name": "stderr",
     "output_type": "stream",
     "text": [
      "Processing rows: 2170it [01:47, 25.88it/s]"
     ]
    },
    {
     "name": "stdout",
     "output_type": "stream",
     "text": [
      "WeightedAverageNumberOfLimitedPartnershipAndGeneralPartnershipUnitOutstandingBasicAndDiluted | [mapped.1 (0.72)] Income Statement > weighted average number of limited partnership and general partnership unit outstanding basic and diluted → income statement > equity in affiliates\n",
      "IncomeLossFromContinuingOperationsPerOutstandingLimitedPartnershipAndGeneralPartnershipUnitBasicAndDiluted | [mapped.1 (0.74)] Income Statement > income loss from continuing operations per outstanding limited partnership and general partnership unit basic and diluted → income statement > discontinued operations\n",
      "IncomeLossFromDiscontinuedOperationsNetOfTaxPerOutstandingLimitedPartnershipAndGeneralPartnershipUnitBasicAndDiluted | [mapped.1 (0.78)] Income Statement > income loss from discontinued operations net of tax per outstanding limited partnership and general partnership unit basic and diluted → income statement > discontinued operations\n",
      "NetIncomeLossPerOutstandingLimitedPartnershipAndGeneralPartnershipUnitBasicAndDiluted | [mapped.1 (0.74)] Income Statement > net income loss per outstanding limited partnership and general partnership unit basic and diluted → income statement > net income available to common\n",
      "PreferredStockDividendsPerShareDeclared | [mapped.1 (0.89)] Income Statement > preferred stock dividends per share declared → income statement > preferred dividends\n",
      "PreferredStockDividendsPerShareCashPaid | [mapped.1 (0.89)] Income Statement > preferred stock dividends per share cash paid → income statement > preferred dividends\n"
     ]
    },
    {
     "name": "stderr",
     "output_type": "stream",
     "text": [
      "Processing rows: 2176it [01:47, 25.02it/s]"
     ]
    },
    {
     "name": "stdout",
     "output_type": "stream",
     "text": [
      "PreferredStockDividendsIncomeStatementImpact | [mapped.1 (0.88)] Income Statement > preferred stock dividends income statement impact → income statement > preferred dividends\n",
      "IncomeLossFromContinuingOperationsPerOutstandingLimitedPartnershipAndGeneralPartnershipUnitBasic | [mapped.1 (0.76)] Income Statement > income loss from continuing operations per outstanding limited partnership and general partnership unit basic → income statement > discontinued operations\n",
      "IncomeLossFromDiscontinuedOperationsNetOfTaxPerOutstandingLimitedPartnershipAndGeneralPartnershipUnitBasic | [mapped.1 (0.80)] Income Statement > income loss from discontinued operations net of tax per outstanding limited partnership and general partnership unit basic → income statement > discontinued operations\n",
      "DistributionsPerLimitedPartnershipAndGeneralPartnershipUnitOutstandingBasic | [mapped.1 (0.73)] Income Statement > distributions per limited partnership and general partnership unit outstanding basic → income statement > net income available to common\n",
      "ProceedsFromAccountsReceivableSecuritization | [mapped.1 (0.78)] Cash Flow Statement > proceeds from accounts receivable securitization → cash flow > investing activities > proceeds from sale > maturity of investments\n"
     ]
    },
    {
     "name": "stderr",
     "output_type": "stream",
     "text": [
      "Processing rows: 2179it [01:48, 24.36it/s]"
     ]
    },
    {
     "name": "stdout",
     "output_type": "stream",
     "text": [
      "ProceedsFromRepaymentsOfAccountsReceivableSecuritization | [mapped.1 (0.78)] Cash Flow Statement > proceeds from repayments of accounts receivable securitization → cash flow > investing activities > proceeds from sale > maturity of investments\n",
      "RepaymentsOfAccountsReceivableSecuritization | [mapped.1 (0.79)] Cash Flow Statement > repayments of accounts receivable securitization → cash flow > operating activities > changes in accounts receivable\n",
      "SettlementOfAssetRetirementObligationsThroughNoncashPaymentsAmount | [mapped.1 (0.76)] Cash Flow Statement > settlement of asset retirement obligations through noncash payments amount → cash flow > operating activities > other non-cash items\n",
      "ServicingAsset | [mapped.1 (0.83)] Balance Sheet > servicing asset → balance sheet > assets > other current assets\n"
     ]
    },
    {
     "name": "stderr",
     "output_type": "stream",
     "text": [
      "Processing rows: 2182it [01:48, 21.75it/s]"
     ]
    },
    {
     "name": "stdout",
     "output_type": "stream",
     "text": [
      "ServicingLiability | [mapped.1 (0.80)] Balance Sheet > servicing liability → balance sheet > liabilities > other current liabilities\n",
      "ProgramRightsObligationsCurrent | [mapped.1 (0.79)] Balance Sheet > program rights obligations current → balance sheet > liabilities > other current liabilities\n",
      "ProgramRightsObligationsNoncurrent | [mapped.1 (0.79)] Balance Sheet > program rights obligations noncurrent → balance sheet > liabilities > other current liabilities\n",
      "ProgramRightsObligations | [mapped.1 (0.75)] Balance Sheet > program rights obligations → balance sheet > liabilities > capital lease obligations\n"
     ]
    },
    {
     "name": "stderr",
     "output_type": "stream",
     "text": [
      "Processing rows: 2188it [01:48, 20.38it/s]"
     ]
    },
    {
     "name": "stdout",
     "output_type": "stream",
     "text": [
      "ProceedsFromLoanOriginations1 | [mapped.1 (0.80)] Cash Flow Statement > proceeds from loan originations1 → cash flow > cash interest paid\n",
      "ProceedsFromLoanAndLeaseOriginationsAndPrincipalCollections1 | [mapped.1 (0.79)] Cash Flow Statement > proceeds from loan and lease originations and principal collections1 → cash flow > financing activities > other financing activities\n",
      "AuctionRateSecuritiesNoncurrent | [mapped.1 (0.78)] Balance Sheet > auction rate securities noncurrent → balance sheet > assets > other current assets\n",
      "StraightLineRent | [mapped.1 (0.78)] Cash Flow Statement > straight line rent → cash flow > operating activities > net income > starting line\n",
      "GainLossOnDispositionOfRealEstateDiscontinuedOperations | [mapped.1 (0.78)] Cash Flow Statement > gain loss on disposition of real estate discontinued operations → cash flow > operating activities > changes in other assets\n"
     ]
    },
    {
     "name": "stderr",
     "output_type": "stream",
     "text": [
      "Processing rows: 2191it [01:48, 19.75it/s]"
     ]
    },
    {
     "name": "stdout",
     "output_type": "stream",
     "text": [
      "OtherAdjustmentsToIncomeDiscontinuedOperations | [mapped.1 (0.83)] Cash Flow Statement > other adjustments to income discontinued operations → cash flow > operating activities > changes in other liabilities\n",
      "FinancialInstrumentsSoldNotYetPurchasedDerivativesAndOtherContracts | [mapped.1 (0.77)] Balance Sheet > financial instruments sold not yet purchased derivatives and other contracts → balance sheet > liabilities > other current liabilities\n",
      "AmortizationOfAboveAndBelowMarketLeases | [mapped.1 (0.81)] Cash Flow Statement > amortization of above and below market leases → cash flow > operating activities > depreciation > amortization\n",
      "LeasingCommissionsExpense | [mapped.1 (0.80)] Income Statement > leasing commissions expense → income statement > interest expense - operating\n"
     ]
    },
    {
     "name": "stderr",
     "output_type": "stream",
     "text": [
      "Processing rows: 2197it [01:49, 19.74it/s]"
     ]
    },
    {
     "name": "stdout",
     "output_type": "stream",
     "text": [
      "TemporaryEquityCarryingAmountAttributableToParent | [mapped.1 (0.79)] Balance Sheet > temporary equity carrying amount attributable to parent → balance sheet > shareholders' equity > other equity adjustments\n",
      "TemporaryEquityCarryingAmountIncludingPortionAttributableToNoncontrollingInterests | [mapped.1 (0.84)] Equity Statement > temporary equity carrying amount including portion attributable to noncontrolling interests → equity statement > redeemable noncontrolling interest adjustments\n",
      "TemporaryEquityCarryingAmountIncludingPortionAttributableToNoncontrollingInterests | [mapped.1 (0.80)] Balance Sheet > temporary equity carrying amount including portion attributable to noncontrolling interests → balance sheet > liabilities > minority interest\n",
      "ExcessStockSharesAuthorized | [mapped.1 (0.81)] Balance Sheet > excess stock shares authorized → balance sheet > shareholders' equity > treasury stock\n"
     ]
    },
    {
     "name": "stderr",
     "output_type": "stream",
     "text": [
      "Processing rows: 2201it [01:49, 18.85it/s]"
     ]
    },
    {
     "name": "stdout",
     "output_type": "stream",
     "text": [
      "ExcessStockSharesIssued | [mapped.1 (0.83)] Balance Sheet > excess stock shares issued → balance sheet > shareholders' equity > treasury stock\n",
      "ExcessStockSharesOutstanding | [mapped.1 (0.84)] Balance Sheet > excess stock shares outstanding → balance sheet > shareholders' equity > common stock\n",
      "CumulativeDividends | [mapped.1 (0.83)] Balance Sheet > cumulative dividends → balance sheet > shareholders' equity > accumulated other comprehensive income\n",
      "CostOfTrustAssetsSoldToPayExpenses | [mapped.1 (0.79)] Income Statement > cost of trust assets sold to pay expenses → income statement > gain (loss) on sale of assets\n"
     ]
    },
    {
     "name": "stderr",
     "output_type": "stream",
     "text": [
      "Processing rows: 2206it [01:49, 19.33it/s]"
     ]
    },
    {
     "name": "stdout",
     "output_type": "stream",
     "text": [
      "CumulativeEarningsDeficit | [mapped.1 (0.86)] Balance Sheet > cumulative earnings deficit → balance sheet > shareholders' equity > retained earnings (accumulated deficit)\n",
      "PaymentsForLeasingCosts | [mapped.1 (0.78)] Cash Flow Statement > payments for leasing costs → cash flow > financing activities > other financing activities\n",
      "PaymentsForTenantImprovements | [mapped.1 (0.77)] Cash Flow Statement > payments for tenant improvements → cash flow > operating activities > changes in accounts payable\n",
      "PaymentsForLeaseCommissions | [mapped.1 (0.77)] Cash Flow Statement > payments for lease commissions → cash flow > cash interest paid\n",
      "LoansAndLeasesReceivableNetReportedAmountCoveredAndNotCovered | [mapped.1 (0.75)] Balance Sheet > loans and leases receivable net reported amount covered and not covered → balance sheet > assets > accounts receivable\n"
     ]
    },
    {
     "name": "stderr",
     "output_type": "stream",
     "text": [
      "Processing rows: 2208it [01:49, 15.76it/s]"
     ]
    },
    {
     "name": "stdout",
     "output_type": "stream",
     "text": [
      "LoansAndLeasesReceivableGrossCarryingAmountCovered | [mapped.1 (0.73)] Balance Sheet > loans and leases receivable gross carrying amount covered → balance sheet > assets > accounts receivable\n",
      "LoansAndLeasesReceivableAllowanceCovered | [unmapped] Balance Sheet > loans and leases receivable allowance covered\n",
      "LoansAndLeasesReceivableNetReportedAmountCovered | [mapped.1 (0.74)] Balance Sheet > loans and leases receivable net reported amount covered → balance sheet > assets > accounts receivable\n"
     ]
    },
    {
     "name": "stderr",
     "output_type": "stream",
     "text": [
      "Processing rows: 2212it [01:49, 16.79it/s]"
     ]
    },
    {
     "name": "stdout",
     "output_type": "stream",
     "text": [
      "OtherRealEstateCovered | [mapped.1 (0.79)] Balance Sheet > other real estate covered → balance sheet > assets > other current assets\n",
      "PreferredStockLiquidationPreferenceValue | [mapped.1 (0.85)] Balance Sheet > preferred stock liquidation preference value → balance sheet > shareholders' equity > preferred stock\n",
      "InterestIncomeOther | [mapped.1 (0.87)] Income Statement > interest income other → income statement > interest income - non-operating\n",
      "ProceedsFromIssuanceOfPreferredStockPreferenceStockAndWarrants | [mapped.1 (0.82)] Cash Flow Statement > proceeds from issuance of preferred stock preference stock and warrants → cash flow > financing activities > issuance of common stock\n",
      "ProceedsFromIssuanceOfCommonStockDividendReinvestmentPlan | [mapped.1 (0.81)] Cash Flow Statement > proceeds from issuance of common stock dividend reinvestment plan → cash flow > financing activities > issuance of common stock\n"
     ]
    },
    {
     "name": "stderr",
     "output_type": "stream",
     "text": [
      "Processing rows: 2217it [01:50, 18.05it/s]"
     ]
    },
    {
     "name": "stdout",
     "output_type": "stream",
     "text": [
      "FederalHomeLoanBankStockAndFederalReserveBankStock | [mapped.1 (0.79)] Balance Sheet > federal home loan bank stock and federal reserve bank stock → balance sheet > shareholders' equity > treasury stock\n",
      "GainLossOnRepurchaseOfDebtInstrument | [mapped.1 (0.81)] Income Statement > gain loss on repurchase of debt instrument → income statement > gain (loss) on sale of assets\n",
      "ManagementFeePayable | [mapped.1 (0.80)] Balance Sheet > management fee payable → balance sheet > liabilities > accounts payable\n",
      "GainLossOnSaleOfBusiness | [mapped.1 (0.77)] Cash Flow Statement > gain loss on sale of business → cash flow > investing activities > proceeds from sale > maturity of investments\n",
      "GainLossOnSaleOfBusiness | [mapped.1 (0.91)] Income Statement > gain loss on sale of business → income statement > gain (loss) on sale of assets\n"
     ]
    },
    {
     "name": "stderr",
     "output_type": "stream",
     "text": [
      "Processing rows: 2223it [01:50, 22.11it/s]"
     ]
    },
    {
     "name": "stdout",
     "output_type": "stream",
     "text": [
      "NetIncomeLossAttributableToNonredeemableNoncontrollingInterest | [mapped.1 (0.82)] Income Statement > net income loss attributable to nonredeemable noncontrolling interest → income statement > interest income - non-operating\n",
      "NetIncomeLossAttributableToNonredeemableNoncontrollingInterest | [mapped.1 (0.85)] Equity Statement > net income loss attributable to nonredeemable noncontrolling interest → equity statement > redeemable noncontrolling interest adjustments\n",
      "MarketDataRevenue | [mapped.1 (0.86)] Income Statement > market data revenue → income statement > cost of revenue\n",
      "StockIssuedDuringPeriodValueIssuedForServices | [mapped.1 (0.84)] Equity Statement > stock issued during period value issued for services → equity statement > issuance of common stock\n",
      "StockIssuedDuringPeriodSharesIssuedForServices | [mapped.1 (0.83)] Equity Statement > stock issued during period shares issued for services → equity statement > issuance of common stock\n"
     ]
    },
    {
     "name": "stderr",
     "output_type": "stream",
     "text": [
      "Processing rows: 2226it [01:50, 21.10it/s]"
     ]
    },
    {
     "name": "stdout",
     "output_type": "stream",
     "text": [
      "FDICIndemnificationAsset | [mapped.1 (0.75)] Balance Sheet > fdic indemnification asset → balance sheet > assets > goodwill\n",
      "OtherRealEstateNonCovered | [mapped.1 (0.79)] Balance Sheet > other real estate non covered → balance sheet > assets > other current assets\n",
      "AccretionExpenseIncludingAssetRetirementObligations | [mapped.1 (0.80)] Cash Flow Statement > accretion expense including asset retirement obligations → cash flow > operating activities > depreciation > amortization\n",
      "AccretionExpenseIncludingAssetRetirementObligations | [mapped.1 (0.78)] Income Statement > accretion expense including asset retirement obligations → income statement > depreciation > amortization\n"
     ]
    },
    {
     "name": "stderr",
     "output_type": "stream",
     "text": [
      "Processing rows: 2231it [01:50, 17.82it/s]"
     ]
    },
    {
     "name": "stdout",
     "output_type": "stream",
     "text": [
      "DepositsMoneyMarketDepositsAndNegotiableOrderOfWithdrawalNOW | [unmapped] Balance Sheet > deposits money market deposits and negotiable order of withdrawal now\n",
      "DepositsMoneyMarketDepositsAndNegotiableOrderOfWithdrawalNOW | [mapped.2 (0.73)] Balance Sheet > StatementTable > StatementLineItems > DepositsMoneyMarketDepositsAndNegotiableOrderOfWithdrawalNOW → balance sheet > liabilities > customer advances\n",
      "LandAndLandImprovements | [mapped.1 (0.78)] Balance Sheet > land and land improvements → balance sheet > assets > property > plant > equipment\n",
      "MembersEquity | [mapped.1 (0.82)] Balance Sheet > members equity → balance sheet > shareholders' equity > common stock\n"
     ]
    },
    {
     "name": "stderr",
     "output_type": "stream",
     "text": [
      "Processing rows: 2234it [01:51, 19.26it/s]"
     ]
    },
    {
     "name": "stdout",
     "output_type": "stream",
     "text": [
      "InterestCostsCapitalizedAdjustment | [mapped.1 (0.80)] Income Statement > interest costs capitalized adjustment → income statement > interest expense - operating\n",
      "ProceedsFromEquityMethodInvestmentDividendsOrDistributionsReturnOfCapital | [mapped.1 (0.82)] Cash Flow Statement > proceeds from equity method investment dividends or distributions return of capital → cash flow > investing activities > proceeds from sale > maturity of investments\n",
      "ProceedsFromRecoveriesOfLoanPreviouslyChargedOff | [mapped.1 (0.78)] Cash Flow Statement > proceeds from recoveries of loan previously charged off → cash flow > cash interest paid\n",
      "OtherComprehensiveIncomeLossPensionAndOtherPostretirementBenefitPlansNetUnamortizedGainLossArisingDuringPeriodBeforeTax | [mapped.1 (0.81)] Comprehensive Income > other comprehensive income loss pension and other postretirement benefit plans net unamortized gain loss arising during period before tax → comprehensive income > unrealized derivative gains (losses)\n",
      "OtherComprehensiveIncomeLossFinalizationOfPensionAndNonPensionPostretirementPlanValuationBeforeTax | [mapped.1 (0.81)] Comprehensive Income > other comprehensive income loss finalization of pension and non pension postretirement plan valuation before tax → comprehensive income > pension > postretirement adjustments\n",
      "OtherComprehensiveIncomeLossFinalizationOfPensionAndNonPensionPostretirementPlanValuationNetOfTax | [mapped.1 (0.79)] Comprehensive Income > other comprehensive income loss finalization of pension and non pension postretirement plan valuation net of tax → comprehensive income > unrealized derivative gains (losses)\n"
     ]
    },
    {
     "name": "stderr",
     "output_type": "stream",
     "text": [
      "Processing rows: 2241it [01:51, 22.50it/s]"
     ]
    },
    {
     "name": "stdout",
     "output_type": "stream",
     "text": [
      "TransferToInvestments | [mapped.1 (0.84)] Cash Flow Statement > transfer to investments → cash flow > investing activities > purchase of investments\n",
      "TransferToOtherRealEstate | [mapped.1 (0.79)] Cash Flow Statement > transfer to other real estate → cash flow > operating activities > changes in other assets\n",
      "ProceedsFromSaleOfTrustAssetsToPayExpenses | [mapped.1 (0.80)] Cash Flow Statement > proceeds from sale of trust assets to pay expenses → cash flow > investing activities > proceeds from sale > maturity of investments\n",
      "DefinedBenefitPlanRecognizedNetGainLossDueToSettlements1 | [mapped.1 (0.74)] Income Statement > defined benefit plan recognized net gain loss due to settlements1 → income statement > gain (loss) on sale of assets\n",
      "HedgingLiabilitiesNoncurrent | [mapped.1 (0.81)] Balance Sheet > hedging liabilities noncurrent → balance sheet > liabilities > other current liabilities\n"
     ]
    },
    {
     "name": "stderr",
     "output_type": "stream",
     "text": [
      "Processing rows: 2244it [01:51, 19.95it/s]"
     ]
    },
    {
     "name": "stdout",
     "output_type": "stream",
     "text": [
      "EnergyMarketingContractLiabilitiesNoncurrent | [mapped.1 (0.76)] Balance Sheet > energy marketing contract liabilities noncurrent → balance sheet > liabilities > other current liabilities\n",
      "DerivativeInstrumentsAndHedgesLiabilitiesNoncurrent | [mapped.1 (0.81)] Balance Sheet > derivative instruments and hedges liabilities noncurrent → balance sheet > liabilities > other current liabilities\n",
      "GainLossOnSalesOfAssetsAndAssetImpairmentCharges | [mapped.1 (0.80)] Cash Flow Statement > gain loss on sales of assets and asset impairment charges → cash flow > operating activities > changes in other assets\n",
      "GainLossOnSalesOfAssetsAndAssetImpairmentCharges | [mapped.1 (0.91)] Income Statement > gain loss on sales of assets and asset impairment charges → income statement > gain (loss) on sale of assets\n"
     ]
    },
    {
     "name": "stderr",
     "output_type": "stream",
     "text": [
      "Processing rows: 2250it [01:51, 20.62it/s]"
     ]
    },
    {
     "name": "stdout",
     "output_type": "stream",
     "text": [
      "DepreciationAndAmortizationDiscontinuedOperations | [mapped.1 (0.87)] Cash Flow Statement > depreciation and amortization discontinued operations → cash flow > operating activities > depreciation > amortization\n",
      "EscrowDepositDisbursementsRelatedToPropertyAcquisition1 | [mapped.1 (0.74)] Cash Flow Statement > escrow deposit disbursements related to property acquisition1 → cash flow > investing activities > purchase of investments\n",
      "PaymentsForProceedsFromFederalReserveBankStock | [mapped.1 (0.76)] Cash Flow Statement > payments for proceeds from federal reserve bank stock → cash flow > financing activities > issuance of common stock\n",
      "PaymentsToAcquireFederalHomeLoanBankStock | [mapped.1 (0.74)] Cash Flow Statement > payments to acquire federal home loan bank stock → cash flow > investing activities > acquisitions\n",
      "ProceedsFromSaleOfFederalHomeLoanBankStock | [mapped.1 (0.76)] Cash Flow Statement > proceeds from sale of federal home loan bank stock → cash flow > investing activities > proceeds from sale > maturity of investments\n"
     ]
    },
    {
     "name": "stderr",
     "output_type": "stream",
     "text": [
      "Processing rows: 2258it [01:52, 27.11it/s]"
     ]
    },
    {
     "name": "stdout",
     "output_type": "stream",
     "text": [
      "OtherComprehensiveIncomeLossPensionAndOtherPostretirementBenefitPlansBeforeReclassificationAdjustmentsTax | [mapped.1 (0.86)] Comprehensive Income > other comprehensive income loss pension and other postretirement benefit plans before reclassification adjustments tax → comprehensive income > pension > postretirement adjustments\n",
      "OtherComprehensiveIncomeLossAvailableForSaleSecuritiesBeforeReclassificationAdjustmentsTax | [mapped.1 (0.82)] Comprehensive Income > other comprehensive income loss available for sale securities before reclassification adjustments tax → comprehensive income > unrealized gain (loss) on securities\n",
      "OtherComprehensiveIncomeLossPensionAndOtherPostretirementBenefitPlansAdjustmentBeforeReclassificationAdjustmentsAndTax | [mapped.1 (0.88)] Comprehensive Income > other comprehensive income loss pension and other postretirement benefit plans adjustment before reclassification adjustments and tax → comprehensive income > pension > postretirement adjustments\n",
      "OtherComprehensiveIncomeLossAvailableForSaleSecuritiesAdjustmentBeforeReclassificationAdjustmentsAndTax | [mapped.1 (0.83)] Comprehensive Income > other comprehensive income loss available for sale securities adjustment before reclassification adjustments and tax → comprehensive income > unrealized gain (loss) on securities\n",
      "OtherComprehensiveIncomeLossPensionAndOtherPostretirementBenefitPlansAdjustmentBeforeReclassificationAdjustmentsNetOfTax | [mapped.1 (0.87)] Comprehensive Income > other comprehensive income loss pension and other postretirement benefit plans adjustment before reclassification adjustments net of tax → comprehensive income > pension > postretirement adjustments\n",
      "OtherComprehensiveIncomeLossAvailableForSaleSecuritiesAdjustmentBeforeReclassificationAdjustmentsNetOfTax | [mapped.1 (0.81)] Comprehensive Income > other comprehensive income loss available for sale securities adjustment before reclassification adjustments net of tax → comprehensive income > unrealized gain (loss) on securities\n",
      "OtherComprehensiveIncomeLossTransfersFromHeldToMaturityToAvailableForSaleSecuritiesNetOfTax | [mapped.1 (0.83)] Comprehensive Income > other comprehensive income loss transfers from held to maturity to available for sale securities net of tax → comprehensive income > unrealized gain (loss) on securities\n",
      "OtherComprehensiveIncomeLossAvailableForSaleSecuritiesAdjustmentBeforeTax | [mapped.1 (0.84)] Comprehensive Income > other comprehensive income loss available for sale securities adjustment before tax → comprehensive income > unrealized gain (loss) on securities\n"
     ]
    },
    {
     "name": "stderr",
     "output_type": "stream",
     "text": [
      "Processing rows: 2266it [01:52, 31.44it/s]"
     ]
    },
    {
     "name": "stdout",
     "output_type": "stream",
     "text": [
      "OtherComprehensiveIncomeLossAvailableForSaleSecuritiesAdjustmentNetOfTax | [mapped.1 (0.83)] Comprehensive Income > other comprehensive income loss available for sale securities adjustment net of tax → comprehensive income > unrealized gain (loss) on securities\n",
      "OtherComprehensiveIncomeLossBeforeTax | [mapped.1 (0.87)] Comprehensive Income > other comprehensive income loss before tax → comprehensive income > other comprehensive income\n",
      "OtherComprehensiveIncomeLossPensionAndOtherPostretirementBenefitPlansAdjustmentBeforeTax | [mapped.1 (0.89)] Comprehensive Income > other comprehensive income loss pension and other postretirement benefit plans adjustment before tax → comprehensive income > pension > postretirement adjustments\n",
      "OtherComprehensiveIncomeLossPensionAndOtherPostretirementBenefitPlansAdjustmentNetOfTax | [mapped.1 (0.86)] Comprehensive Income > other comprehensive income loss pension and other postretirement benefit plans adjustment net of tax → comprehensive income > pension > postretirement adjustments\n",
      "OtherComprehensiveIncomeLossForeignCurrencyTransactionAndTranslationAdjustmentBeforeTax | [mapped.1 (0.86)] Comprehensive Income > other comprehensive income loss foreign currency transaction and translation adjustment before tax → comprehensive income > foreign currency translation\n",
      "OtherComprehensiveIncomeLossForeignCurrencyTransactionAndTranslationAdjustmentNetOfTax | [mapped.1 (0.84)] Comprehensive Income > other comprehensive income loss foreign currency transaction and translation adjustment net of tax → comprehensive income > foreign currency translation\n",
      "OtherComprehensiveIncomeLossNetOfTax | [mapped.1 (0.83)] Comprehensive Income > other comprehensive income loss net of tax → comprehensive income > other comprehensive income\n",
      "OtherComprehensiveIncomeLossNetOfTax | [mapped.1 (0.85)] Equity Statement > other comprehensive income loss net of tax → equity statement > accumulated other comprehensive income\n"
     ]
    },
    {
     "name": "stderr",
     "output_type": "stream",
     "text": [
      "Processing rows: 2274it [01:52, 33.39it/s]"
     ]
    },
    {
     "name": "stdout",
     "output_type": "stream",
     "text": [
      "OtherComprehensiveIncomeLossForeignCurrencyTranslationAdjustmentTax | [mapped.1 (0.85)] Comprehensive Income > other comprehensive income loss foreign currency translation adjustment tax → comprehensive income > foreign currency translation\n",
      "OtherComprehensiveIncomeLossAvailableForSaleSecuritiesTax | [mapped.1 (0.84)] Comprehensive Income > other comprehensive income loss available for sale securities tax → comprehensive income > unrealized gain (loss) on securities\n",
      "OtherComprehensiveIncomeLossPensionAndOtherPostretirementBenefitPlansTax | [mapped.1 (0.81)] Comprehensive Income > other comprehensive income loss pension and other postretirement benefit plans tax → comprehensive income > pension > postretirement adjustments\n",
      "OtherComprehensiveIncomeLossTaxPortionAttributableToParent1 | [mapped.1 (0.80)] Comprehensive Income > other comprehensive income loss tax portion attributable to parent1 → comprehensive income > other comprehensive income\n",
      "AdjustmentsToAdditionalPaidInCapitalEquityComponentOfConvertibleDebt | [mapped.1 (0.89)] Equity Statement > adjustments to additional paid in capital equity component of convertible debt → equity statement > convertible instrument adjustments\n",
      "NoncontrollingInterestIncreaseFromSubsidiaryEquityIssuance | [mapped.1 (0.88)] Equity Statement > noncontrolling interest increase from subsidiary equity issuance → equity statement > noncontrolling interest changes\n",
      "NoncontrollingInterestIncreaseFromSaleOfParentEquityInterest | [mapped.1 (0.88)] Equity Statement > noncontrolling interest increase from sale of parent equity interest → equity statement > noncontrolling interest changes\n"
     ]
    },
    {
     "name": "stderr",
     "output_type": "stream",
     "text": [
      "Processing rows: 2278it [01:52, 28.15it/s]"
     ]
    },
    {
     "name": "stdout",
     "output_type": "stream",
     "text": [
      "IncreaseDecreaseInPrepaidRoyalties | [mapped.1 (0.74)] Cash Flow Statement > increase decrease in prepaid royalties → cash flow > cash interest paid\n",
      "IncreaseDecreaseInPrepaidInsurance | [mapped.1 (0.72)] Cash Flow Statement > increase decrease in prepaid insurance → cash flow > operating activities > changes in other liabilities\n",
      "IncreaseDecreaseInPrepaidAdvertising | [mapped.1 (0.72)] Cash Flow Statement > increase decrease in prepaid advertising → cash flow > operating activities > changes in other assets\n",
      "IncreaseDecreaseInPrepaidSupplies | [mapped.1 (0.76)] Cash Flow Statement > increase decrease in prepaid supplies → cash flow > operating activities > changes in inventories\n",
      "IncreaseDecreaseInPrepaidInterest | [mapped.1 (0.79)] Cash Flow Statement > increase decrease in prepaid interest → cash flow > cash interest paid\n"
     ]
    },
    {
     "name": "stderr",
     "output_type": "stream",
     "text": [
      "Processing rows: 2284it [01:52, 25.98it/s]"
     ]
    },
    {
     "name": "stdout",
     "output_type": "stream",
     "text": [
      "IncreaseDecreaseInPrepaidExpensesOther | [mapped.1 (0.78)] Cash Flow Statement > increase decrease in prepaid expenses other → cash flow > operating activities > changes in other assets\n",
      "PremiumsWrittenGross | [mapped.1 (0.77)] Income Statement > premiums written gross → income statement > net sales\n",
      "PresentValueOfFutureInsuranceProfitsAmortizationExpense1 | [mapped.1 (0.79)] Income Statement > present value of future insurance profits amortization expense1 → income statement > depreciation > amortization\n",
      "PresentValueOfFutureInsuranceProfitsAmortizationExpense1 | [mapped.1 (0.77)] Cash Flow Statement > present value of future insurance profits amortization expense1 → cash flow > operating activities > depreciation > amortization\n",
      "BusinessExitCosts1 | [mapped.1 (0.77)] Cash Flow Statement > business exit costs1 → cash flow > operating activities > changes in other liabilities\n"
     ]
    },
    {
     "name": "stderr",
     "output_type": "stream",
     "text": [
      "Processing rows: 2287it [01:53, 25.07it/s]"
     ]
    },
    {
     "name": "stdout",
     "output_type": "stream",
     "text": [
      "BusinessExitCosts1 | [mapped.1 (0.81)] Income Statement > business exit costs1 → income statement > cost of revenue\n",
      "SeveranceCosts1 | [mapped.1 (0.75)] Cash Flow Statement > severance costs1 → cash flow > operating activities > changes in other liabilities\n",
      "SeveranceCosts1 | [mapped.1 (0.78)] Income Statement > severance costs1 → income statement > cost of revenue\n",
      "GainLossOnDispositionOfAssets1 | [mapped.1 (0.80)] Cash Flow Statement > gain loss on disposition of assets1 → cash flow > operating activities > changes in other assets\n",
      "GainLossOnDispositionOfAssets1 | [mapped.1 (0.90)] Income Statement > gain loss on disposition of assets1 → income statement > gain (loss) on sale of assets\n"
     ]
    },
    {
     "name": "stderr",
     "output_type": "stream",
     "text": [
      "Processing rows: 2293it [01:53, 25.19it/s]"
     ]
    },
    {
     "name": "stdout",
     "output_type": "stream",
     "text": [
      "DiscontinuedOperationGainLossOnDisposalOfDiscontinuedOperationNetOfTaxPerBasicShare | [mapped.1 (0.79)] Income Statement > discontinued operation gain loss on disposal of discontinued operation net of tax per basic share → income statement > discontinued operations\n",
      "DiscontinuedOperationIncomeLossFromDiscontinuedOperationNetOfTaxPerBasicShare | [mapped.1 (0.81)] Income Statement > discontinued operation income loss from discontinued operation net of tax per basic share → income statement > discontinued operations\n",
      "DiscontinuedOperationGainLossOnDisposalOfDiscontinuedOperationNetOfTaxPerDilutedShare | [mapped.1 (0.78)] Income Statement > discontinued operation gain loss on disposal of discontinued operation net of tax per diluted share → income statement > discontinued operations\n",
      "DiscontinuedOperationIncomeLossFromDiscontinuedOperationNetOfTaxPerDilutedShare | [mapped.1 (0.79)] Income Statement > discontinued operation income loss from discontinued operation net of tax per diluted share → income statement > discontinued operations\n",
      "NetIncomeLossIncludingPortionAttributableToNonredeemableNoncontrollingInterest | [mapped.1 (0.85)] Equity Statement > net income loss including portion attributable to nonredeemable noncontrolling interest → equity statement > redeemable noncontrolling interest adjustments\n",
      "GrossInvestmentIncomeOperating | [mapped.1 (0.90)] Income Statement > gross investment income operating → income statement > interest > investment income - operating\n"
     ]
    },
    {
     "name": "stderr",
     "output_type": "stream",
     "text": [
      "Processing rows: 2299it [01:53, 22.24it/s]"
     ]
    },
    {
     "name": "stdout",
     "output_type": "stream",
     "text": [
      "FairValueAdjustmentOfWarrants | [mapped.1 (0.72)] Cash Flow Statement > fair value adjustment of warrants → cash flow > operating activities > changes in accounts payable\n",
      "MembersCapital | [mapped.1 (0.77)] Balance Sheet > members capital → balance sheet > shareholders' equity > common stock\n",
      "MembersEquityAttributableToNoncontrollingInterest | [mapped.1 (0.78)] Balance Sheet > members equity attributable to noncontrolling interest → balance sheet > liabilities > minority interest\n",
      "NotesReceivableByOwnerToLimitedLiabilityCompanyLLC | [mapped.1 (0.79)] Balance Sheet > notes receivable by owner to limited liability company llc → balance sheet > assets > notes receivable - current\n"
     ]
    },
    {
     "name": "stderr",
     "output_type": "stream",
     "text": [
      "Processing rows: 2302it [01:53, 20.06it/s]"
     ]
    },
    {
     "name": "stdout",
     "output_type": "stream",
     "text": [
      "BusinessCombinationContingentConsiderationAsset | [mapped.1 (0.76)] Balance Sheet > business combination contingent consideration asset → balance sheet > shareholders' equity > redeemable preferred stock\n",
      "BusinessCombinationContingentConsiderationLiability | [mapped.1 (0.77)] Balance Sheet > business combination contingent consideration liability → balance sheet > liabilities > minority interest\n",
      "DisposalGroupIncludingDiscontinuedOperationAccountsPayableAndAccruedLiabilities | [mapped.1 (0.77)] Balance Sheet > disposal group including discontinued operation accounts payable and accrued liabilities → balance sheet > liabilities > accounts payable\n",
      "DisposalGroupIncludingDiscontinuedOperationPrepaidAndOtherAssetsCurrent | [mapped.1 (0.77)] Balance Sheet > disposal group including discontinued operation prepaid and other assets current → balance sheet > assets > prepaid expenses\n"
     ]
    },
    {
     "name": "stderr",
     "output_type": "stream",
     "text": [
      "Processing rows: 2305it [01:53, 18.69it/s]"
     ]
    },
    {
     "name": "stdout",
     "output_type": "stream",
     "text": [
      "DisposalGroupIncludingDiscontinuedOperationPrepaidAndOtherAssets | [mapped.1 (0.77)] Balance Sheet > disposal group including discontinued operation prepaid and other assets → balance sheet > assets > prepaid expenses\n",
      "DisposalGroupIncludingDiscontinuedOperationDeferredRevenue | [mapped.1 (0.72)] Balance Sheet > disposal group including discontinued operation deferred revenue → balance sheet > liabilities > deferred income tax\n",
      "CashIncludingDiscontinuedOperations | [mapped.1 (0.83)] Cash Flow Statement > cash including discontinued operations → cash flow > operating activities > depreciation > amortization\n",
      "DisposalGroupIncludingDiscontinuedOperationCash | [mapped.1 (0.78)] Cash Flow Statement > disposal group including discontinued operation cash → cash flow > operating activities > depreciation > amortization\n"
     ]
    },
    {
     "name": "stderr",
     "output_type": "stream",
     "text": [
      "Processing rows: 2311it [01:54, 20.46it/s]"
     ]
    },
    {
     "name": "stdout",
     "output_type": "stream",
     "text": [
      "PaymentsForPurchaseOfOtherAssets1 | [mapped.1 (0.82)] Cash Flow Statement > payments for purchase of other assets1 → cash flow > investing activities > purchase of investments\n",
      "ProceedsFromSaleOfOtherAssets1 | [mapped.1 (0.84)] Cash Flow Statement > proceeds from sale of other assets1 → cash flow > investing activities > proceeds from sale > maturity of investments\n",
      "DividendIncomeSecuritiesOperatingTaxable | [mapped.1 (0.80)] Income Statement > dividend income securities operating taxable → income statement > interest > investment income - operating\n",
      "DividendIncomeSecuritiesOperatingTaxExempt | [mapped.1 (0.78)] Income Statement > dividend income securities operating tax exempt → income statement > interest > investment income - operating\n",
      "DividendIncomeSecuritiesOperatingTaxAdvantaged | [mapped.1 (0.77)] Income Statement > dividend income securities operating tax advantaged → income statement > preferred dividends\n"
     ]
    },
    {
     "name": "stderr",
     "output_type": "stream",
     "text": [
      "Processing rows: 2318it [01:54, 23.82it/s]"
     ]
    },
    {
     "name": "stdout",
     "output_type": "stream",
     "text": [
      "InterestIncomeSecuritiesCorporateDebtOperating | [mapped.1 (0.85)] Income Statement > interest income securities corporate debt operating → income statement > interest > investment income - operating\n",
      "NoncontrollingInterestInNetIncomeLossJointVenturePartnersNonredeemable | [mapped.1 (0.78)] Income Statement > noncontrolling interest in net income loss joint venture partners nonredeemable → income statement > interest income - non-operating\n",
      "NoncontrollingInterestInNetIncomeLossJointVenturePartnersNonredeemable | [mapped.1 (0.81)] Equity Statement > noncontrolling interest in net income loss joint venture partners nonredeemable → equity statement > redeemable noncontrolling interest adjustments\n",
      "NoncontrollingInterestInNetIncomeLossLimitedPartnershipsNonredeemable | [mapped.1 (0.79)] Income Statement > noncontrolling interest in net income loss limited partnerships nonredeemable → income statement > interest income - non-operating\n",
      "NoncontrollingInterestInNetIncomeLossLimitedPartnershipsNonredeemable | [mapped.1 (0.84)] Equity Statement > noncontrolling interest in net income loss limited partnerships nonredeemable → equity statement > redeemable noncontrolling interest adjustments\n",
      "NoncontrollingInterestInNetIncomeLossOperatingPartnershipsNonredeemable | [mapped.1 (0.80)] Income Statement > noncontrolling interest in net income loss operating partnerships nonredeemable → income statement > interest income - non-operating\n",
      "NoncontrollingInterestInNetIncomeLossOperatingPartnershipsNonredeemable | [mapped.1 (0.82)] Equity Statement > noncontrolling interest in net income loss operating partnerships nonredeemable → equity statement > redeemable noncontrolling interest adjustments\n"
     ]
    },
    {
     "name": "stderr",
     "output_type": "stream",
     "text": [
      "Processing rows: 2324it [01:54, 25.98it/s]"
     ]
    },
    {
     "name": "stdout",
     "output_type": "stream",
     "text": [
      "NoncontrollingInterestInNetIncomeLossOtherNoncontrollingInterestsNonredeemable | [mapped.1 (0.80)] Income Statement > noncontrolling interest in net income loss other noncontrolling interests nonredeemable → income statement > interest income - non-operating\n",
      "NoncontrollingInterestInNetIncomeLossOtherNoncontrollingInterestsNonredeemable | [mapped.1 (0.85)] Equity Statement > noncontrolling interest in net income loss other noncontrolling interests nonredeemable → equity statement > redeemable noncontrolling interest adjustments\n",
      "NoncontrollingInterestInNetIncomeLossPreferredUnitHoldersNonredeemable | [mapped.1 (0.79)] Income Statement > noncontrolling interest in net income loss preferred unit holders nonredeemable → income statement > interest income - non-operating\n",
      "NoncontrollingInterestInNetIncomeLossPreferredUnitHoldersNonredeemable | [mapped.1 (0.86)] Equity Statement > noncontrolling interest in net income loss preferred unit holders nonredeemable → equity statement > redeemable noncontrolling interest adjustments\n",
      "NoncontrollingInterestInNetIncomeLossJointVenturePartnersRedeemable | [mapped.1 (0.74)] Income Statement > noncontrolling interest in net income loss joint venture partners redeemable → income statement > interest income - non-operating\n",
      "NoncontrollingInterestInNetIncomeLossJointVenturePartnersRedeemable | [mapped.1 (0.81)] Equity Statement > noncontrolling interest in net income loss joint venture partners redeemable → equity statement > redeemable noncontrolling interest adjustments\n"
     ]
    },
    {
     "name": "stderr",
     "output_type": "stream",
     "text": [
      "Processing rows: 2328it [01:54, 26.90it/s]"
     ]
    },
    {
     "name": "stdout",
     "output_type": "stream",
     "text": [
      "NoncontrollingInterestInNetIncomeLossLimitedPartnershipsRedeemable | [mapped.1 (0.76)] Income Statement > noncontrolling interest in net income loss limited partnerships redeemable → income statement > interest income - non-operating\n",
      "NoncontrollingInterestInNetIncomeLossLimitedPartnershipsRedeemable | [mapped.1 (0.84)] Equity Statement > noncontrolling interest in net income loss limited partnerships redeemable → equity statement > redeemable noncontrolling interest adjustments\n",
      "NoncontrollingInterestInNetIncomeLossOperatingPartnershipsRedeemable | [mapped.1 (0.77)] Income Statement > noncontrolling interest in net income loss operating partnerships redeemable → income statement > interest income - non-operating\n",
      "NoncontrollingInterestInNetIncomeLossOperatingPartnershipsRedeemable | [mapped.1 (0.81)] Equity Statement > noncontrolling interest in net income loss operating partnerships redeemable → equity statement > redeemable noncontrolling interest adjustments\n",
      "NoncontrollingInterestInNetIncomeLossOtherNoncontrollingInterestsRedeemable | [mapped.1 (0.78)] Income Statement > noncontrolling interest in net income loss other noncontrolling interests redeemable → income statement > interest income - non-operating\n",
      "NoncontrollingInterestInNetIncomeLossOtherNoncontrollingInterestsRedeemable | [mapped.1 (0.86)] Equity Statement > noncontrolling interest in net income loss other noncontrolling interests redeemable → equity statement > redeemable noncontrolling interest adjustments\n"
     ]
    },
    {
     "name": "stderr",
     "output_type": "stream",
     "text": [
      "Processing rows: 2335it [01:55, 25.12it/s]"
     ]
    },
    {
     "name": "stdout",
     "output_type": "stream",
     "text": [
      "NoncontrollingInterestInNetIncomeLossPreferredUnitHoldersRedeemable | [mapped.1 (0.76)] Income Statement > noncontrolling interest in net income loss preferred unit holders redeemable → income statement > preferred dividends\n",
      "NoncontrollingInterestInNetIncomeLossPreferredUnitHoldersRedeemable | [mapped.1 (0.85)] Equity Statement > noncontrolling interest in net income loss preferred unit holders redeemable → equity statement > redeemable noncontrolling interest adjustments\n",
      "ReinsuranceRecoverablesGross | [mapped.1 (0.73)] Balance Sheet > reinsurance recoverables gross → balance sheet > assets > intangibles\n",
      "ReinsuranceRecoverablesAllowance | [mapped.1 (0.72)] Balance Sheet > reinsurance recoverables allowance → balance sheet > shareholders' equity > redeemable preferred stock\n",
      "BusinessCombinationContingentConsiderationArrangementsChangeInAmountOfContingentConsiderationAsset1 | [mapped.1 (0.79)] Cash Flow Statement > business combination contingent consideration arrangements change in amount of contingent consideration asset1 → cash flow > operating activities > changes in other liabilities\n"
     ]
    },
    {
     "name": "stderr",
     "output_type": "stream",
     "text": [
      "Processing rows: 2338it [01:55, 23.79it/s]"
     ]
    },
    {
     "name": "stdout",
     "output_type": "stream",
     "text": [
      "BusinessCombinationContingentConsiderationArrangementsChangeInAmountOfContingentConsiderationLiability1 | [mapped.1 (0.80)] Cash Flow Statement > business combination contingent consideration arrangements change in amount of contingent consideration liability1 → cash flow > operating activities > changes in other liabilities\n",
      "CommonUnitIssued | [mapped.1 (0.79)] Balance Sheet > common unit issued → balance sheet > shareholders' equity > common stock\n",
      "LimitedLiabilityCompanyLLCPreferredUnitIssued | [mapped.1 (0.78)] Balance Sheet > limited liability company llc preferred unit issued → balance sheet > shareholders' equity > redeemable preferred stock\n",
      "CommonUnitAuthorized | [mapped.1 (0.78)] Balance Sheet > common unit authorized → balance sheet > shareholders' equity > common stock\n"
     ]
    },
    {
     "name": "stderr",
     "output_type": "stream",
     "text": [
      "Processing rows: 2344it [01:55, 19.22it/s]"
     ]
    },
    {
     "name": "stdout",
     "output_type": "stream",
     "text": [
      "LimitedLiabilityCompanyLLCPreferredUnitAuthorized | [mapped.1 (0.76)] Balance Sheet > limited liability company llc preferred unit authorized → balance sheet > shareholders' equity > redeemable preferred stock\n",
      "CommonUnitOutstanding | [mapped.1 (0.80)] Balance Sheet > common unit outstanding → balance sheet > shareholders' equity > common stock\n",
      "LimitedLiabilityCompanyLLCPreferredUnitOutstanding | [mapped.1 (0.80)] Balance Sheet > limited liability company llc preferred unit outstanding → balance sheet > shareholders' equity > redeemable preferred stock\n",
      "CommonUnitIssuanceValue | [mapped.1 (0.80)] Balance Sheet > common unit issuance value → balance sheet > shareholders' equity > common stock\n"
     ]
    },
    {
     "name": "stderr",
     "output_type": "stream",
     "text": [
      "Processing rows: 2349it [01:55, 20.41it/s]"
     ]
    },
    {
     "name": "stdout",
     "output_type": "stream",
     "text": [
      "LimitedLiabilityCompanyLLCPreferredUnitIssuanceValue | [mapped.1 (0.78)] Balance Sheet > limited liability company llc preferred unit issuance value → balance sheet > shareholders' equity > redeemable preferred stock\n",
      "IncomeLossFromDiscontinuedOperationsNetOfTaxPerOutstandingGeneralPartnershipUnit1 | [mapped.1 (0.80)] Income Statement > income loss from discontinued operations net of tax per outstanding general partnership unit1 → income statement > discontinued operations\n",
      "IncomeLossFromDiscontinuedOperationsNetOfTaxPerOutstandingLimitedPartnershipUnitBasic | [mapped.1 (0.81)] Income Statement > income loss from discontinued operations net of tax per outstanding limited partnership unit basic → income statement > discontinued operations\n",
      "IncomeLossFromDiscontinuedOperationsNetOfTaxPerOutstandingLimitedPartnershipUnitDiluted1 | [mapped.1 (0.80)] Income Statement > income loss from discontinued operations net of tax per outstanding limited partnership unit diluted1 → income statement > discontinued operations\n",
      "DeferredTaxExpenseFromStockOptionsExercised | [mapped.1 (0.84)] Cash Flow Statement > deferred tax expense from stock options exercised → cash flow > operating activities > deferred taxes\n",
      "OtherComprehensiveIncomeLossForeignCurrencyTransactionAndTranslationReclassificationAdjustmentFromAOCIRealizedUponSaleOrLiquidationBeforeTax | [mapped.1 (0.82)] Comprehensive Income > other comprehensive income loss foreign currency transaction and translation reclassification adjustment from aoci realized upon sale or liquidation before tax → comprehensive income > foreign currency translation\n"
     ]
    },
    {
     "name": "stderr",
     "output_type": "stream",
     "text": [
      "Processing rows: 2357it [01:56, 27.69it/s]"
     ]
    },
    {
     "name": "stdout",
     "output_type": "stream",
     "text": [
      "OtherComprehensiveIncomeLossForeignCurrencyTransactionAndTranslationReclassificationAdjustmentFromAOCIRealizedUponSaleOrLiquidationNetOfTax | [mapped.1 (0.81)] Comprehensive Income > other comprehensive income loss foreign currency transaction and translation reclassification adjustment from aoci realized upon sale or liquidation net of tax → comprehensive income > foreign currency translation\n",
      "OtherComprehensiveIncomeLossForeignCurrencyTransactionAndTranslationReclassificationAdjustmentFromAOCIRealizedUponSaleOrLiquidationTax | [mapped.1 (0.82)] Comprehensive Income > other comprehensive income loss foreign currency transaction and translation reclassification adjustment from aoci realized upon sale or liquidation tax → comprehensive income > foreign currency translation\n",
      "OtherComprehensiveIncomeLossReclassificationAdjustmentFromAOCIForSaleOfSecuritiesBeforeTax | [mapped.1 (0.80)] Comprehensive Income > other comprehensive income loss reclassification adjustment from aoci for sale of securities before tax → comprehensive income > unrealized gain (loss) on securities\n",
      "OtherComprehensiveIncomeLossReclassificationAdjustmentFromAOCIForSaleOfSecuritiesNetOfTax | [mapped.1 (0.79)] Comprehensive Income > other comprehensive income loss reclassification adjustment from aoci for sale of securities net of tax → comprehensive income > unrealized gain (loss) on securities\n",
      "OtherComprehensiveIncomeLossReclassificationAdjustmentFromAOCIForSaleOfSecuritiesTax | [mapped.1 (0.80)] Comprehensive Income > other comprehensive income loss reclassification adjustment from aoci for sale of securities tax → comprehensive income > unrealized gain (loss) on securities\n",
      "OtherComprehensiveIncomeLossReclassificationAdjustmentFromAOCIForWritedownOfSecuritiesBeforeTax | [mapped.1 (0.80)] Comprehensive Income > other comprehensive income loss reclassification adjustment from aoci for writedown of securities before tax → comprehensive income > unrealized gain (loss) on securities\n",
      "OtherComprehensiveIncomeLossReclassificationAdjustmentFromAOCIForWritedownOfSecuritiesNetOfTax | [mapped.1 (0.79)] Comprehensive Income > other comprehensive income loss reclassification adjustment from aoci for writedown of securities net of tax → comprehensive income > unrealized gain (loss) on securities\n",
      "OtherComprehensiveIncomeLossReclassificationAdjustmentFromAOCIForWritedownOfSecuritiesTax | [mapped.1 (0.80)] Comprehensive Income > other comprehensive income loss reclassification adjustment from aoci for writedown of securities tax → comprehensive income > unrealized gain (loss) on securities\n"
     ]
    },
    {
     "name": "stderr",
     "output_type": "stream",
     "text": [
      "Processing rows: 2365it [01:56, 31.74it/s]"
     ]
    },
    {
     "name": "stdout",
     "output_type": "stream",
     "text": [
      "OtherComprehensiveIncomeLossReclassificationAdjustmentFromAOCIPensionAndOtherPostretirementBenefitPlansForNetGainLossBeforeTax | [mapped.1 (0.82)] Comprehensive Income > other comprehensive income loss reclassification adjustment from aoci pension and other postretirement benefit plans for net gain loss before tax → comprehensive income > pension > postretirement adjustments\n",
      "OtherComprehensiveIncomeLossAmortizationAdjustmentFromAOCIPensionAndOtherPostretirementBenefitPlansForNetPriorServiceCostCreditBeforeTax | [mapped.1 (0.82)] Comprehensive Income > other comprehensive income loss amortization adjustment from aoci pension and other postretirement benefit plans for net prior service cost credit before tax → comprehensive income > pension > postretirement adjustments\n",
      "OtherComprehensiveIncomeLossReclassificationAdjustmentFromAOCIPensionAndOtherPostretirementBenefitPlansForNetTransitionAssetObligationBeforeTax | [mapped.1 (0.84)] Comprehensive Income > other comprehensive income loss reclassification adjustment from aoci pension and other postretirement benefit plans for net transition asset obligation before tax → comprehensive income > pension > postretirement adjustments\n",
      "OtherComprehensiveIncomeLossReclassificationAdjustmentFromAOCIPensionAndOtherPostretirementBenefitPlansBeforeTax | [mapped.1 (0.86)] Comprehensive Income > other comprehensive income loss reclassification adjustment from aoci pension and other postretirement benefit plans before tax → comprehensive income > pension > postretirement adjustments\n",
      "OtherComprehensiveIncomeLossReclassificationAdjustmentFromAOCIPensionAndOtherPostretirementBenefitPlansForNetGainLossNetOfTax | [mapped.1 (0.82)] Comprehensive Income > other comprehensive income loss reclassification adjustment from aoci pension and other postretirement benefit plans for net gain loss net of tax → comprehensive income > pension > postretirement adjustments\n",
      "OtherComprehensiveIncomeLossAmortizationAdjustmentFromAOCIPensionAndOtherPostretirementBenefitPlansForNetPriorServiceCostCreditNetOfTax | [mapped.1 (0.82)] Comprehensive Income > other comprehensive income loss amortization adjustment from aoci pension and other postretirement benefit plans for net prior service cost credit net of tax → comprehensive income > pension > postretirement adjustments\n",
      "OtherComprehensiveIncomeLossReclassificationAdjustmentFromAOCIPensionAndOtherPostretirementBenefitPlansForNetTransitionAssetObligationNetOfTax | [mapped.1 (0.82)] Comprehensive Income > other comprehensive income loss reclassification adjustment from aoci pension and other postretirement benefit plans for net transition asset obligation net of tax → comprehensive income > pension > postretirement adjustments\n",
      "OtherComprehensiveIncomeLossReclassificationAdjustmentFromAOCIPensionAndOtherPostretirementBenefitPlansNetOfTax | [mapped.1 (0.83)] Comprehensive Income > other comprehensive income loss reclassification adjustment from aoci pension and other postretirement benefit plans net of tax → comprehensive income > pension > postretirement adjustments\n"
     ]
    },
    {
     "name": "stderr",
     "output_type": "stream",
     "text": [
      "Processing rows: 2369it [01:56, 33.87it/s]"
     ]
    },
    {
     "name": "stdout",
     "output_type": "stream",
     "text": [
      "OtherComprehensiveIncomeLossReclassificationAdjustmentFromAOCIPensionAndOtherPostretirementBenefitPlansForNetGainLossTax | [mapped.1 (0.82)] Comprehensive Income > other comprehensive income loss reclassification adjustment from aoci pension and other postretirement benefit plans for net gain loss tax → comprehensive income > pension > postretirement adjustments\n",
      "OtherComprehensiveIncomeLossAmortizationAdjustmentFromAOCIPensionAndOtherPostretirementBenefitPlansForNetPriorServiceCostCreditTax | [mapped.1 (0.82)] Comprehensive Income > other comprehensive income loss amortization adjustment from aoci pension and other postretirement benefit plans for net prior service cost credit tax → comprehensive income > pension > postretirement adjustments\n",
      "OtherComprehensiveIncomeLossReclassificationAdjustmentFromAOCIPensionAndOtherPostretirementBenefitPlansForNetTransitionAssetObligationTax | [mapped.1 (0.83)] Comprehensive Income > other comprehensive income loss reclassification adjustment from aoci pension and other postretirement benefit plans for net transition asset obligation tax → comprehensive income > pension > postretirement adjustments\n",
      "OtherComprehensiveIncomeLossReclassificationAdjustmentFromAOCIPensionAndOtherPostretirementBenefitPlansTax | [mapped.1 (0.84)] Comprehensive Income > other comprehensive income loss reclassification adjustment from aoci pension and other postretirement benefit plans tax → comprehensive income > pension > postretirement adjustments\n",
      "LimitedLiabilityCompanyLlcMembersEquityIncludingPortionAttributableToNoncontrollingInterest | [mapped.1 (0.79)] Balance Sheet > limited liability company llc members equity including portion attributable to noncontrolling interest → balance sheet > liabilities > minority interest\n",
      "IncreaseDecreaseInUnearnedPremiumsNet | [mapped.1 (0.73)] Income Statement > increase decrease in unearned premiums net → income statement > depreciation > amortization\n"
     ]
    },
    {
     "name": "stderr",
     "output_type": "stream",
     "text": [
      "Processing rows: 2377it [01:56, 29.01it/s]"
     ]
    },
    {
     "name": "stdout",
     "output_type": "stream",
     "text": [
      "IncomeLossFromContinuingOperationsPerOutstandingGeneralPartnershipUnitNetOfTax | [mapped.1 (0.74)] Income Statement > income loss from continuing operations per outstanding general partnership unit net of tax → income statement > gain (loss) on sale of assets\n",
      "IncomeLossFromContinuingOperationsPerOutstandingLimitedPartnershipUnitBasicNetOfTax | [mapped.1 (0.75)] Income Statement > income loss from continuing operations per outstanding limited partnership unit basic net of tax → income statement > gain (loss) on sale of assets\n",
      "NetIncomeLossPerOutstandingGeneralPartnershipUnitNetOfTax | [mapped.1 (0.76)] Income Statement > net income loss per outstanding general partnership unit net of tax → income statement > gain (loss) on sale of assets\n",
      "NetIncomeLossPerOutstandingLimitedPartnershipUnitBasicNetOfTax | [mapped.1 (0.76)] Income Statement > net income loss per outstanding limited partnership unit basic net of tax → income statement > gain (loss) on sale of assets\n",
      "NetIncomeLossNetOfTaxPerOutstandingLimitedPartnershipUnitDiluted | [mapped.1 (0.74)] Income Statement > net income loss net of tax per outstanding limited partnership unit diluted → income statement > gain (loss) on sale of assets\n",
      "IncomeLossFromContinuingOperationsNetOfTaxPerOutstandingLimitedPartnershipUnitDiluted | [mapped.1 (0.73)] Income Statement > income loss from continuing operations net of tax per outstanding limited partnership unit diluted → income statement > gain (loss) on sale of assets\n"
     ]
    },
    {
     "name": "stderr",
     "output_type": "stream",
     "text": [
      "Processing rows: 2381it [01:56, 27.12it/s]"
     ]
    },
    {
     "name": "stdout",
     "output_type": "stream",
     "text": [
      "NetIncomeLossPerOutstandingLimitedPartnershipAndGeneralPartnershipUnitBasic | [mapped.1 (0.76)] Income Statement > net income loss per outstanding limited partnership and general partnership unit basic → income statement > net sales\n",
      "ProceedsFromSaleOfOtherAssetsInvestingActivities | [mapped.1 (0.89)] Cash Flow Statement > proceeds from sale of other assets investing activities → cash flow > investing activities > proceeds from sale > maturity of investments\n",
      "LongTermDebtAndCapitalLeaseObligationsIncludingCurrentMaturities | [mapped.1 (0.90)] Balance Sheet > long term debt and capital lease obligations including current maturities → balance sheet > liabilities > capital lease obligations\n",
      "DisposalGroupIncludingDiscontinuedOperationGoodwillNoncurrent | [mapped.1 (0.79)] Balance Sheet > disposal group including discontinued operation goodwill noncurrent → balance sheet > assets > goodwill\n"
     ]
    },
    {
     "name": "stderr",
     "output_type": "stream",
     "text": [
      "Processing rows: 2384it [01:57, 22.91it/s]"
     ]
    },
    {
     "name": "stdout",
     "output_type": "stream",
     "text": [
      "DisposalGroupIncludingDiscontinuedOperationGoodwillCurrent | [mapped.1 (0.81)] Balance Sheet > disposal group including discontinued operation goodwill current → balance sheet > assets > goodwill\n",
      "DisposalGroupIncludingDiscontinuedOperationGoodwill1 | [mapped.1 (0.82)] Balance Sheet > disposal group including discontinued operation goodwill1 → balance sheet > assets > goodwill\n",
      "DisposalGroupIncludingDiscontinuedOperationPropertyPlantAndEquipmentNoncurrent | [mapped.1 (0.79)] Balance Sheet > disposal group including discontinued operation property plant and equipment noncurrent → balance sheet > assets > property > plant > equipment\n",
      "DisposalGroupIncludingDiscontinuedOperationPropertyPlantAndEquipmentCurrent | [mapped.1 (0.81)] Balance Sheet > disposal group including discontinued operation property plant and equipment current → balance sheet > assets > property > plant > equipment\n"
     ]
    },
    {
     "name": "stderr",
     "output_type": "stream",
     "text": [
      "Processing rows: 2390it [01:57, 19.26it/s]"
     ]
    },
    {
     "name": "stdout",
     "output_type": "stream",
     "text": [
      "DisposalGroupIncludingDiscontinuedOperationPropertyPlantAndEquipment | [mapped.1 (0.82)] Balance Sheet > disposal group including discontinued operation property plant and equipment → balance sheet > assets > property > plant > equipment\n",
      "DisposalGroupIncludingDiscontinuedOperationIntangibleAssetsNoncurrent | [mapped.1 (0.76)] Balance Sheet > disposal group including discontinued operation intangible assets noncurrent → balance sheet > assets > goodwill\n",
      "DisposalGroupIncludingDiscontinuedOperationIntangibleAssetsCurrent | [mapped.1 (0.78)] Balance Sheet > disposal group including discontinued operation intangible assets current → balance sheet > assets > intangibles\n",
      "DisposalGroupIncludingDiscontinuedOperationIntangibleAssets | [mapped.1 (0.77)] Balance Sheet > disposal group including discontinued operation intangible assets → balance sheet > assets > intangibles\n"
     ]
    },
    {
     "name": "stderr",
     "output_type": "stream",
     "text": [
      "Processing rows: 2393it [01:57, 18.80it/s]"
     ]
    },
    {
     "name": "stdout",
     "output_type": "stream",
     "text": [
      "DisposalGroupIncludingDiscontinuedOperationInventoryNoncurrent | [mapped.1 (0.76)] Balance Sheet > disposal group including discontinued operation inventory noncurrent → balance sheet > assets > inventories\n",
      "DisposalGroupIncludingDiscontinuedOperationInventory1 | [mapped.1 (0.79)] Balance Sheet > disposal group including discontinued operation inventory1 → balance sheet > assets > inventories\n",
      "UndistributedEarningsLossAllocatedToParticipatingSecuritiesBasic | [mapped.1 (0.75)] Income Statement > undistributed earnings loss allocated to participating securities basic → income statement > gain (loss) on sale of assets\n",
      "BusinessCombinationContingentConsiderationAssetCurrent | [mapped.1 (0.80)] Balance Sheet > business combination contingent consideration asset current → balance sheet > assets > other current assets\n"
     ]
    },
    {
     "name": "stderr",
     "output_type": "stream",
     "text": [
      "Processing rows: 2397it [01:57, 17.61it/s]"
     ]
    },
    {
     "name": "stdout",
     "output_type": "stream",
     "text": [
      "BusinessCombinationContingentConsiderationAssetNoncurrent | [mapped.1 (0.78)] Balance Sheet > business combination contingent consideration asset noncurrent → balance sheet > assets > other current assets\n",
      "BusinessCombinationContingentConsiderationLiabilityCurrent | [mapped.1 (0.80)] Balance Sheet > business combination contingent consideration liability current → balance sheet > liabilities > other current liabilities\n",
      "BusinessCombinationContingentConsiderationLiabilityNoncurrent | [mapped.1 (0.79)] Balance Sheet > business combination contingent consideration liability noncurrent → balance sheet > liabilities > other current liabilities\n",
      "DisposalGroupIncludingDiscontinuedOperationAccruedIncomeTaxPayable | [mapped.1 (0.74)] Balance Sheet > disposal group including discontinued operation accrued income tax payable → balance sheet > liabilities > deferred income tax\n"
     ]
    },
    {
     "name": "stderr",
     "output_type": "stream",
     "text": [
      "Processing rows: 2399it [01:58, 17.11it/s]"
     ]
    },
    {
     "name": "stdout",
     "output_type": "stream",
     "text": [
      "DisposalGroupIncludingDiscontinuedOperationAssetsNoncurrent | [mapped.1 (0.78)] Balance Sheet > disposal group including discontinued operation assets noncurrent → balance sheet > assets > goodwill\n",
      "AmortizationMethodQualifiedAffordableHousingProjectInvestments | [unmapped] Balance Sheet > amortization method qualified affordable housing project investments\n",
      "AmortizationMethodQualifiedAffordableHousingProjectInvestments | [mapped.2 (0.73)] Balance Sheet > StatementTable > StatementLineItems > AmortizationMethodQualifiedAffordableHousingProjectInvestments → balance sheet > assets > inventories\n",
      "QualifiedAffordableHousingProjectInvestmentsCommitment | [unmapped] Balance Sheet > qualified affordable housing project investments commitment\n"
     ]
    },
    {
     "name": "stderr",
     "output_type": "stream",
     "text": [
      "Processing rows: 2403it [01:58, 14.34it/s]"
     ]
    },
    {
     "name": "stdout",
     "output_type": "stream",
     "text": [
      "QualifiedAffordableHousingProjectInvestmentsCommitment | [mapped.2 (0.74)] Balance Sheet > StatementTable > StatementLineItems > QualifiedAffordableHousingProjectInvestmentsCommitment → balance sheet > liabilities > accrued expenses\n",
      "DisposalGroupIncludingDiscontinuedOperationInventoryCurrent | [mapped.1 (0.77)] Balance Sheet > disposal group including discontinued operation inventory current → balance sheet > assets > inventories\n",
      "TradeAndLoansReceivablesHeldForSaleNetNotPartOfDisposalGroup | [mapped.1 (0.71)] Balance Sheet > trade and loans receivables held for sale net not part of disposal group → balance sheet > assets > receivables - other > related party\n",
      "AssetsHeldForSaleNotPartOfDisposalGroupCurrentOther | [mapped.1 (0.82)] Balance Sheet > assets held for sale not part of disposal group current other → balance sheet > assets > other current assets\n"
     ]
    },
    {
     "name": "stderr",
     "output_type": "stream",
     "text": [
      "Processing rows: 2407it [01:58, 15.20it/s]"
     ]
    },
    {
     "name": "stdout",
     "output_type": "stream",
     "text": [
      "AssetsHeldForSaleNotPartOfDisposalGroupCurrent | [mapped.1 (0.81)] Balance Sheet > assets held for sale not part of disposal group current → balance sheet > assets > other current assets\n",
      "AssetsHeldForSaleNotPartOfDisposalGroupOther | [mapped.1 (0.80)] Balance Sheet > assets held for sale not part of disposal group other → balance sheet > assets > other current assets\n",
      "AssetsHeldForSaleNotPartOfDisposalGroup | [mapped.1 (0.78)] Balance Sheet > assets held for sale not part of disposal group → balance sheet > assets > goodwill\n",
      "CommonStockSharesAuthorizedUnlimited | [mapped.1 (0.81)] Balance Sheet > common stock shares authorized unlimited → balance sheet > shareholders' equity > common stock\n"
     ]
    },
    {
     "name": "stderr",
     "output_type": "stream",
     "text": [
      "Processing rows: 2411it [01:58, 16.45it/s]"
     ]
    },
    {
     "name": "stdout",
     "output_type": "stream",
     "text": [
      "PreferredStockSharesAuthorizedUnlimited | [mapped.1 (0.83)] Balance Sheet > preferred stock shares authorized unlimited → balance sheet > shareholders' equity > redeemable preferred stock\n",
      "GainLossOnDispositionOfOtherFinancialAssets | [mapped.1 (0.89)] Income Statement > gain loss on disposition of other financial assets → income statement > gain (loss) on sale of assets\n",
      "DeferredIncomeTaxAssetsNet | [mapped.1 (0.78)] Balance Sheet > deferred income tax assets net → balance sheet > assets > intangibles\n",
      "DeferredIncomeTaxLiabilitiesNet | [mapped.1 (0.93)] Balance Sheet > deferred income tax liabilities net → balance sheet > liabilities > deferred income tax\n"
     ]
    },
    {
     "name": "stderr",
     "output_type": "stream",
     "text": [
      "Processing rows: 2415it [01:59, 16.74it/s]"
     ]
    },
    {
     "name": "stdout",
     "output_type": "stream",
     "text": [
      "IncreaseDecreaseInLiabilityForClaimsAndClaimsAdjustmentExpenseReserve | [mapped.1 (0.78)] Cash Flow Statement > increase decrease in liability for claims and claims adjustment expense reserve → cash flow > operating activities > changes in other liabilities\n",
      "TreasuryStockCommonShares | [mapped.1 (0.90)] Balance Sheet > treasury stock common shares → balance sheet > shareholders' equity > treasury stock\n",
      "TreasuryStockPreferredShares | [mapped.1 (0.90)] Balance Sheet > treasury stock preferred shares → balance sheet > shareholders' equity > treasury stock\n",
      "TreasuryStockCommonValue | [mapped.1 (0.89)] Equity Statement > treasury stock common value → equity statement > treasury stock activity\n"
     ]
    },
    {
     "name": "stderr",
     "output_type": "stream",
     "text": [
      "Processing rows: 2420it [01:59, 18.61it/s]"
     ]
    },
    {
     "name": "stdout",
     "output_type": "stream",
     "text": [
      "TreasuryStockCommonValue | [mapped.1 (0.88)] Balance Sheet > treasury stock common value → balance sheet > shareholders' equity > treasury stock\n",
      "TreasuryStockPreferredValue | [mapped.1 (0.89)] Equity Statement > treasury stock preferred value → equity statement > treasury stock activity\n",
      "TreasuryStockPreferredValue | [mapped.1 (0.88)] Balance Sheet > treasury stock preferred value → balance sheet > shareholders' equity > treasury stock\n",
      "GainsLossesOnExtinguishmentOfDebtBeforeWriteOffOfDeferredDebtIssuanceCost | [mapped.1 (0.75)] Income Statement > gains losses on extinguishment of debt before write off of deferred debt issuance cost → income statement > gain (loss) on sale of assets\n"
     ]
    },
    {
     "name": "stderr",
     "output_type": "stream",
     "text": [
      "Processing rows: 2425it [01:59, 19.32it/s]"
     ]
    },
    {
     "name": "stdout",
     "output_type": "stream",
     "text": [
      "LeaseDepositLiability | [mapped.1 (0.85)] Balance Sheet > lease deposit liability → balance sheet > liabilities > capital lease obligations\n",
      "ProceedsFromLeasePayments | [mapped.1 (0.79)] Cash Flow Statement > proceeds from lease payments → cash flow > cash interest paid\n",
      "DirectFinancingLeaseImpairmentLoss | [mapped.1 (0.75)] Income Statement > direct financing lease impairment loss → income statement > gain (loss) on sale of assets\n",
      "SubleaseIncome | [mapped.1 (0.80)] Income Statement > sublease income → income statement > minority interest\n",
      "ContractWithCustomerAssetAccumulatedAllowanceForCreditLoss | [mapped.1 (0.72)] Balance Sheet > contract with customer asset accumulated allowance for credit loss → balance sheet > shareholders' equity > retained earnings (accumulated deficit)\n"
     ]
    },
    {
     "name": "stderr",
     "output_type": "stream",
     "text": [
      "Processing rows: 2429it [01:59, 18.35it/s]"
     ]
    },
    {
     "name": "stdout",
     "output_type": "stream",
     "text": [
      "ContractWithCustomerAssetAccumulatedAllowanceForCreditLossCurrent | [mapped.1 (0.72)] Balance Sheet > contract with customer asset accumulated allowance for credit loss current → balance sheet > shareholders' equity > retained earnings (accumulated deficit)\n",
      "ContractWithCustomerAssetAccumulatedAllowanceForCreditLossNoncurrent | [mapped.1 (0.71)] Balance Sheet > contract with customer asset accumulated allowance for credit loss noncurrent → balance sheet > shareholders' equity > retained earnings (accumulated deficit)\n",
      "ContractWithCustomerAssetGrossNoncurrent | [mapped.1 (0.78)] Balance Sheet > contract with customer asset gross noncurrent → balance sheet > assets > other current assets\n",
      "ContractWithCustomerAssetCreditLossExpense | [mapped.1 (0.80)] Income Statement > contract with customer asset credit loss expense → income statement > gain (loss) on sale of assets\n"
     ]
    },
    {
     "name": "stderr",
     "output_type": "stream",
     "text": [
      "Processing rows: 2433it [02:00, 17.69it/s]"
     ]
    },
    {
     "name": "stdout",
     "output_type": "stream",
     "text": [
      "ContractWithCustomerAssetGrossCurrent | [mapped.1 (0.78)] Balance Sheet > contract with customer asset gross current → balance sheet > assets > other current assets\n",
      "ContractWithCustomerAssetGross | [mapped.1 (0.79)] Balance Sheet > contract with customer asset gross → balance sheet > assets > intangibles\n",
      "ContractWithCustomerAssetNet | [mapped.1 (0.78)] Balance Sheet > contract with customer asset net → balance sheet > assets > accounts receivable\n",
      "ContractWithCustomerAssetNetCurrent | [mapped.1 (0.79)] Balance Sheet > contract with customer asset net current → balance sheet > assets > other current assets\n"
     ]
    },
    {
     "name": "stderr",
     "output_type": "stream",
     "text": [
      "Processing rows: 2438it [02:00, 18.87it/s]"
     ]
    },
    {
     "name": "stdout",
     "output_type": "stream",
     "text": [
      "ContractWithCustomerAssetNetNoncurrent | [mapped.1 (0.78)] Balance Sheet > contract with customer asset net noncurrent → balance sheet > assets > other current assets\n",
      "CapitalizedContractCostNet | [mapped.1 (0.72)] Balance Sheet > capitalized contract cost net → balance sheet > shareholders' equity > additional paid-in capital\n",
      "GainLossOnTerminationOfLease | [mapped.1 (0.76)] Cash Flow Statement > gain loss on termination of lease → cash flow > operating activities > changes in other liabilities\n",
      "GainLossOnTerminationOfLease | [mapped.1 (0.81)] Income Statement > gain loss on termination of lease → income statement > gain (loss) on sale of assets\n",
      "PensionExpenseReversalOfExpenseNoncash | [mapped.1 (0.76)] Cash Flow Statement > pension expense reversal of expense noncash → cash flow > operating activities > other non-cash items\n"
     ]
    },
    {
     "name": "stderr",
     "output_type": "stream",
     "text": [
      "Processing rows: 2442it [02:00, 18.03it/s]"
     ]
    },
    {
     "name": "stdout",
     "output_type": "stream",
     "text": [
      "ContractWithCustomerLiabilityCurrent | [mapped.1 (0.85)] Balance Sheet > contract with customer liability current → balance sheet > liabilities > other current liabilities\n",
      "ContractWithCustomerLiabilityNoncurrent | [mapped.1 (0.82)] Balance Sheet > contract with customer liability noncurrent → balance sheet > liabilities > other current liabilities\n",
      "ContractWithCustomerLiability | [mapped.1 (0.83)] Balance Sheet > contract with customer liability → balance sheet > liabilities > customer advances\n",
      "PaymentForContingentConsiderationLiabilityFinancingActivities | [mapped.1 (0.81)] Cash Flow Statement > payment for contingent consideration liability financing activities → cash flow > financing activities > other financing activities\n"
     ]
    },
    {
     "name": "stderr",
     "output_type": "stream",
     "text": [
      "Processing rows: 2445it [02:00, 18.60it/s]"
     ]
    },
    {
     "name": "stdout",
     "output_type": "stream",
     "text": [
      "PaymentForContingentConsiderationLiabilityInvestingActivities | [mapped.1 (0.79)] Cash Flow Statement > payment for contingent consideration liability investing activities → cash flow > investing activities > purchase of investments\n",
      "PaymentForContingentConsiderationLiabilityOperatingActivities | [mapped.1 (0.80)] Cash Flow Statement > payment for contingent consideration liability operating activities → cash flow > operating activities > changes in other liabilities\n",
      "FinanceLeaseRightOfUseAsset | [mapped.1 (0.76)] Balance Sheet > finance lease right of use asset → balance sheet > assets > other current assets\n",
      "OperatingLeaseRightOfUseAsset | [mapped.1 (0.78)] Balance Sheet > operating lease right of use asset → balance sheet > assets > property > plant > equipment\n"
     ]
    },
    {
     "name": "stderr",
     "output_type": "stream",
     "text": [
      "Processing rows: 2450it [02:00, 20.92it/s]"
     ]
    },
    {
     "name": "stdout",
     "output_type": "stream",
     "text": [
      "RevenueFromContractWithCustomerIncludingAssessedTax | [mapped.1 (0.81)] Income Statement > revenue from contract with customer including assessed tax → income statement > cost of revenue\n",
      "LeaseIncome | [mapped.1 (0.80)] Income Statement > lease income → income statement > net sales\n",
      "SalesTypeLeaseInterestIncomeLeaseReceivable | [mapped.1 (0.77)] Income Statement > sales type lease interest income lease receivable → income statement > interest > investment income - operating\n",
      "SalesTypeLeaseInterestIncomeUnguaranteedResidualAsset | [mapped.1 (0.77)] Income Statement > sales type lease interest income unguaranteed residual asset → income statement > interest income - non-operating\n",
      "SalesTypeLeaseRevenue | [mapped.1 (0.82)] Income Statement > sales type lease revenue → income statement > net sales\n",
      "DirectFinancingLeaseRevenue | [mapped.1 (0.77)] Income Statement > direct financing lease revenue → income statement > cost of revenue\n"
     ]
    },
    {
     "name": "stderr",
     "output_type": "stream",
     "text": [
      "Processing rows: 2456it [02:01, 21.04it/s]"
     ]
    },
    {
     "name": "stdout",
     "output_type": "stream",
     "text": [
      "CostOfGoodsSoldDirectFinancingLease | [mapped.1 (0.78)] Income Statement > cost of goods sold direct financing lease → income statement > cost of revenue\n",
      "CostOfGoodsSoldSalesTypeLease | [mapped.1 (0.81)] Income Statement > cost of goods sold sales type lease → income statement > cost of revenue\n",
      "RestrictedCashCurrent | [mapped.1 (0.96)] Balance Sheet > restricted cash current → balance sheet > assets > restricted cash - current\n",
      "RestrictedCashEquivalentsCurrent | [mapped.1 (0.92)] Balance Sheet > restricted cash equivalents current → balance sheet > assets > restricted cash - current\n"
     ]
    },
    {
     "name": "stderr",
     "output_type": "stream",
     "text": [
      "Processing rows: 2459it [02:01, 19.52it/s]"
     ]
    },
    {
     "name": "stdout",
     "output_type": "stream",
     "text": [
      "RestrictedCashNoncurrent | [mapped.1 (0.92)] Balance Sheet > restricted cash noncurrent → balance sheet > assets > restricted cash - current\n",
      "RestrictedCashEquivalentsNoncurrent | [mapped.1 (0.90)] Balance Sheet > restricted cash equivalents noncurrent → balance sheet > assets > restricted cash - current\n",
      "RestrictedCash | [mapped.1 (0.92)] Balance Sheet > restricted cash → balance sheet > assets > restricted cash - current\n",
      "RestrictedCashEquivalents | [mapped.1 (0.89)] Balance Sheet > restricted cash equivalents → balance sheet > assets > restricted cash - current\n"
     ]
    },
    {
     "name": "stderr",
     "output_type": "stream",
     "text": [
      "Processing rows: 2464it [02:01, 20.11it/s]"
     ]
    },
    {
     "name": "stdout",
     "output_type": "stream",
     "text": [
      "CashCashEquivalentsRestrictedCashAndRestrictedCashEquivalentsPeriodIncreaseDecreaseExcludingExchangeRateEffect | [mapped.1 (0.82)] Cash Flow Statement > cash cash equivalents restricted cash and restricted cash equivalents period increase decrease excluding exchange rate effect → cash flow > foreign exchange effects\n",
      "EffectOfExchangeRateOnCashCashEquivalentsRestrictedCashAndRestrictedCashEquivalents | [mapped.1 (0.85)] Cash Flow Statement > effect of exchange rate on cash cash equivalents restricted cash and restricted cash equivalents → cash flow > foreign exchange effects\n",
      "EffectOfExchangeRateOnCashCashEquivalentsRestrictedCashAndRestrictedCashEquivalentsDisposalGroupIncludingDiscontinuedOperations | [mapped.1 (0.81)] Cash Flow Statement > effect of exchange rate on cash cash equivalents restricted cash and restricted cash equivalents disposal group including discontinued operations → cash flow > foreign exchange effects\n",
      "EffectOfExchangeRateOnCashCashEquivalentsRestrictedCashAndRestrictedCashEquivalentsIncludingDisposalGroupAndDiscontinuedOperations | [mapped.1 (0.82)] Cash Flow Statement > effect of exchange rate on cash cash equivalents restricted cash and restricted cash equivalents including disposal group and discontinued operations → cash flow > foreign exchange effects\n",
      "CashCashEquivalentsRestrictedCashAndRestrictedCashEquivalentsPeriodIncreaseDecreaseIncludingExchangeRateEffect | [mapped.1 (0.82)] Cash Flow Statement > cash cash equivalents restricted cash and restricted cash equivalents period increase decrease including exchange rate effect → cash flow > foreign exchange effects\n"
     ]
    },
    {
     "name": "stderr",
     "output_type": "stream",
     "text": [
      "Processing rows: 2470it [02:01, 21.82it/s]"
     ]
    },
    {
     "name": "stdout",
     "output_type": "stream",
     "text": [
      "CashCashEquivalentsRestrictedCashAndRestrictedCashEquivalents | [mapped.1 (0.75)] Cash Flow Statement > cash cash equivalents restricted cash and restricted cash equivalents → cash flow > cash interest paid\n",
      "CashCashEquivalentsRestrictedCashAndRestrictedCashEquivalentsIncludingDisposalGroupAndDiscontinuedOperations | [mapped.1 (0.76)] Cash Flow Statement > cash cash equivalents restricted cash and restricted cash equivalents including disposal group and discontinued operations → cash flow > operating activities > depreciation > amortization\n",
      "CashCashEquivalentsRestrictedCashAndRestrictedCashEquivalentsDisposalGroupIncludingDiscontinuedOperations | [mapped.1 (0.76)] Cash Flow Statement > cash cash equivalents restricted cash and restricted cash equivalents disposal group including discontinued operations → cash flow > operating activities > depreciation > amortization\n",
      "RestrictedCashAndCashEquivalentsCurrentNatureOfRestrictionDescription | [mapped.1 (0.72)] Cash Flow Statement > restricted cash and cash equivalents current nature of restriction description → cash flow > operating activities > other non-cash items\n",
      "RestrictedCashAndCashEquivalentsNoncurrentNatureOfRestrictionDescription | [mapped.1 (0.76)] Cash Flow Statement > restricted cash and cash equivalents noncurrent nature of restriction description → cash flow > operating activities > other non-cash items\n"
     ]
    },
    {
     "name": "stderr",
     "output_type": "stream",
     "text": [
      "Processing rows: 2473it [02:02, 21.85it/s]"
     ]
    },
    {
     "name": "stdout",
     "output_type": "stream",
     "text": [
      "OperatingLeasePayments | [mapped.1 (0.81)] Cash Flow Statement > operating lease payments → cash flow > operating activities > depreciation > amortization\n",
      "OperatingLeasePaymentsUse | [mapped.1 (0.80)] Cash Flow Statement > operating lease payments use → cash flow > operating activities > depreciation > amortization\n",
      "ShortTermLeasePayments | [mapped.1 (0.82)] Cash Flow Statement > short term lease payments → cash flow > financing activities > short term debt, net\n",
      "FinanceLeasePrincipalPayments | [mapped.1 (0.78)] Cash Flow Statement > finance lease principal payments → cash flow > financing activities > other financing activities\n",
      "SalesTypeLeaseImpairmentLoss | [mapped.1 (0.82)] Income Statement > sales type lease impairment loss → income statement > gain (loss) on sale of assets\n"
     ]
    },
    {
     "name": "stderr",
     "output_type": "stream",
     "text": [
      "Processing rows: 2479it [02:02, 22.51it/s]"
     ]
    },
    {
     "name": "stdout",
     "output_type": "stream",
     "text": [
      "SalesTypeLeaseInitialDirectCostExpenseCommencement | [mapped.1 (0.76)] Income Statement > sales type lease initial direct cost expense commencement → income statement > selling > general > admin expenses\n",
      "SalesTypeLeaseInterestIncome | [mapped.1 (0.81)] Income Statement > sales type lease interest income → income statement > interest > investment income - operating\n",
      "SalesTypeLeaseLeaseIncome | [mapped.1 (0.80)] Income Statement > sales type lease lease income → income statement > net sales\n",
      "SalesTypeLeaseSellingProfitLoss | [mapped.1 (0.76)] Cash Flow Statement > sales type lease selling profit loss → cash flow > operating activities > depreciation > amortization\n",
      "SalesTypeLeaseSellingProfitLoss | [mapped.1 (0.83)] Income Statement > sales type lease selling profit loss → income statement > gain (loss) on sale of assets\n"
     ]
    },
    {
     "name": "stderr",
     "output_type": "stream",
     "text": [
      "Processing rows: 2485it [02:02, 23.25it/s]"
     ]
    },
    {
     "name": "stdout",
     "output_type": "stream",
     "text": [
      "SalesTypeLeaseVariableLeaseIncome | [mapped.1 (0.78)] Income Statement > sales type lease variable lease income → income statement > net sales\n",
      "EmployeeBenefitsAndShareBasedCompensationNoncash | [mapped.1 (0.80)] Cash Flow Statement > employee benefits and share based compensation noncash → cash flow > operating activities > other non-cash items\n",
      "OperatingLeaseExpense | [mapped.1 (0.87)] Income Statement > operating lease expense → income statement > other operating expenses\n",
      "OperatingLeaseInitialDirectCostExpenseOverTerm | [mapped.1 (0.79)] Income Statement > operating lease initial direct cost expense over term → income statement > interest expense - operating\n",
      "OperatingLeaseLeaseIncome | [mapped.1 (0.83)] Income Statement > operating lease lease income → income statement > interest > investment income - operating\n"
     ]
    },
    {
     "name": "stderr",
     "output_type": "stream",
     "text": [
      "Processing rows: 2488it [02:02, 22.77it/s]"
     ]
    },
    {
     "name": "stdout",
     "output_type": "stream",
     "text": [
      "FinanceLeaseRightOfUseAssetAmortization | [mapped.1 (0.81)] Income Statement > finance lease right of use asset amortization → income statement > depreciation > amortization\n",
      "FinanceLeaseRightOfUseAssetAmortization | [mapped.1 (0.80)] Cash Flow Statement > finance lease right of use asset amortization → cash flow > operating activities > depreciation > amortization\n",
      "DirectFinancingLeaseInterestIncome | [mapped.1 (0.78)] Income Statement > direct financing lease interest income → income statement > interest > investment income - operating\n",
      "DirectFinancingLeaseLeaseIncome | [mapped.1 (0.74)] Income Statement > direct financing lease lease income → income statement > interest > investment income - operating\n",
      "DirectFinancingLeaseSellingLoss | [mapped.1 (0.76)] Cash Flow Statement > direct financing lease selling loss → cash flow > financing activities > other financing activities\n"
     ]
    },
    {
     "name": "stderr",
     "output_type": "stream",
     "text": [
      "Processing rows: 2494it [02:02, 21.63it/s]"
     ]
    },
    {
     "name": "stdout",
     "output_type": "stream",
     "text": [
      "DirectFinancingLeaseSellingLoss | [mapped.1 (0.79)] Income Statement > direct financing lease selling loss → income statement > gain (loss) on sale of assets\n",
      "DirectFinancingLeaseVariableLeaseIncome | [mapped.1 (0.73)] Income Statement > direct financing lease variable lease income → income statement > interest > investment income - operating\n",
      "FinanceLeaseLiability | [mapped.1 (0.89)] Balance Sheet > finance lease liability → balance sheet > liabilities > capital lease obligations\n",
      "FinanceLeaseLiabilityCurrent | [mapped.1 (0.86)] Balance Sheet > finance lease liability current → balance sheet > liabilities > capital lease obligations\n"
     ]
    },
    {
     "name": "stderr",
     "output_type": "stream",
     "text": [
      "Processing rows: 2497it [02:03, 21.14it/s]"
     ]
    },
    {
     "name": "stdout",
     "output_type": "stream",
     "text": [
      "FinanceLeaseLiabilityNoncurrent | [mapped.1 (0.86)] Balance Sheet > finance lease liability noncurrent → balance sheet > liabilities > capital lease obligations\n",
      "SaleAndLeasebackTransactionGainLossNet | [mapped.1 (0.78)] Cash Flow Statement > sale and leaseback transaction gain loss net → cash flow > investing activities > proceeds from sale > maturity of investments\n",
      "SaleAndLeasebackTransactionGainLossNet | [mapped.1 (0.86)] Income Statement > sale and leaseback transaction gain loss net → income statement > gain (loss) on sale of assets\n",
      "FinanceLeaseImpairmentLoss | [mapped.1 (0.76)] Cash Flow Statement > finance lease impairment loss → cash flow > operating activities > changes in other liabilities\n",
      "FinanceLeaseImpairmentLoss | [mapped.1 (0.78)] Income Statement > finance lease impairment loss → income statement > gain (loss) on sale of assets\n"
     ]
    },
    {
     "name": "stderr",
     "output_type": "stream",
     "text": [
      "Processing rows: 2503it [02:03, 22.01it/s]"
     ]
    },
    {
     "name": "stdout",
     "output_type": "stream",
     "text": [
      "OperatingLeaseImpairmentLoss | [mapped.1 (0.79)] Cash Flow Statement > operating lease impairment loss → cash flow > operating activities > changes in other liabilities\n",
      "OperatingLeaseImpairmentLoss | [mapped.1 (0.79)] Income Statement > operating lease impairment loss → income statement > gain (loss) on sale of assets\n",
      "FinanceLeaseInterestExpense | [mapped.1 (0.85)] Income Statement > finance lease interest expense → income statement > interest expense - operating\n",
      "FinanceLeaseInterestPaymentOnLiability | [mapped.1 (0.81)] Cash Flow Statement > finance lease interest payment on liability → cash flow > cash interest paid\n",
      "NetInvestmentInLease | [mapped.1 (0.75)] Balance Sheet > net investment in lease → balance sheet > assets > long term investments\n"
     ]
    },
    {
     "name": "stderr",
     "output_type": "stream",
     "text": [
      "Processing rows: 2506it [02:03, 19.93it/s]"
     ]
    },
    {
     "name": "stdout",
     "output_type": "stream",
     "text": [
      "NetInvestmentInLeaseCurrent | [mapped.1 (0.78)] Balance Sheet > net investment in lease current → balance sheet > assets > other current assets\n",
      "NetInvestmentInLeaseNoncurrent | [mapped.1 (0.76)] Balance Sheet > net investment in lease noncurrent → balance sheet > assets > other current assets\n",
      "OperatingLeaseLiability | [mapped.1 (0.86)] Balance Sheet > operating lease liability → balance sheet > liabilities > capital lease obligations\n",
      "OperatingLeaseLiabilityNoncurrent | [mapped.1 (0.84)] Balance Sheet > operating lease liability noncurrent → balance sheet > liabilities > capital lease obligations\n"
     ]
    },
    {
     "name": "stderr",
     "output_type": "stream",
     "text": [
      "Processing rows: 2512it [02:03, 20.05it/s]"
     ]
    },
    {
     "name": "stdout",
     "output_type": "stream",
     "text": [
      "RestrictedCashAndCashEquivalentsCurrentAssetStatementOfFinancialPositionExtensibleList | [mapped.1 (0.74)] Cash Flow Statement > restricted cash and cash equivalents current asset statement of financial position extensible list → cash flow > operating activities > changes in other assets\n",
      "RestrictedCashAndCashEquivalentsNoncurrentAssetStatementOfFinancialPositionExtensibleList | [mapped.1 (0.76)] Cash Flow Statement > restricted cash and cash equivalents noncurrent asset statement of financial position extensible list → cash flow > operating activities > other non-cash items\n",
      "RestrictedCashAndCashEquivalentsAssetStatementOfFinancialPositionExtensibleList | [mapped.1 (0.73)] Cash Flow Statement > restricted cash and cash equivalents asset statement of financial position extensible list → cash flow > operating activities > changes in other assets\n",
      "AccumulatedOtherComprehensiveIncomeLossFinancialLiabilityFairValueOptionAfterTax | [mapped.1 (0.83)] Balance Sheet > accumulated other comprehensive income loss financial liability fair value option after tax → balance sheet > shareholders' equity > accumulated other comprehensive income\n",
      "OtherComprehensiveIncomeLossFinancialLiabilityFairValueOptionAfterTaxAndReclassificationAdjustment | [mapped.1 (0.79)] Comprehensive Income > other comprehensive income loss financial liability fair value option after tax and reclassification adjustment → comprehensive income > unrealized derivative gains (losses)\n",
      "OtherComprehensiveIncomeLossFinancialLiabilityFairValueOptionAfterTaxAndReclassificationAdjustmentAttributableToNoncontrollingInterest | [mapped.1 (0.79)] Comprehensive Income > other comprehensive income loss financial liability fair value option after tax and reclassification adjustment attributable to noncontrolling interest → comprehensive income > unrealized derivative gains (losses)\n"
     ]
    },
    {
     "name": "stderr",
     "output_type": "stream",
     "text": [
      "Processing rows: 2521it [02:04, 28.53it/s]"
     ]
    },
    {
     "name": "stdout",
     "output_type": "stream",
     "text": [
      "OtherComprehensiveIncomeLossFinancialLiabilityFairValueOptionAfterTaxAndReclassificationAdjustmentAttributableToParent | [mapped.1 (0.78)] Comprehensive Income > other comprehensive income loss financial liability fair value option after tax and reclassification adjustment attributable to parent → comprehensive income > other comprehensive income\n",
      "OtherComprehensiveIncomeLossFinancialLiabilityFairValueOptionAfterReclassificationAdjustmentTax | [mapped.1 (0.78)] Comprehensive Income > other comprehensive income loss financial liability fair value option after reclassification adjustment tax → comprehensive income > unrealized derivative gains (losses)\n",
      "OtherComprehensiveIncomeLossFinancialLiabilityFairValueOptionAfterReclassificationAdjustmentTaxAttributableToNoncontrollingInterest | [mapped.1 (0.78)] Comprehensive Income > other comprehensive income loss financial liability fair value option after reclassification adjustment tax attributable to noncontrolling interest → comprehensive income > unrealized derivative gains (losses)\n",
      "OtherComprehensiveIncomeLossFinancialLiabilityFairValueOptionAfterReclassificationAdjustmentTaxAttributableToParent | [mapped.1 (0.77)] Comprehensive Income > other comprehensive income loss financial liability fair value option after reclassification adjustment tax attributable to parent → comprehensive income > other comprehensive income\n",
      "OtherComprehensiveIncomeLossFinancialLiabilityFairValueOptionBeforeTaxAfterReclassificationAdjustment | [mapped.1 (0.78)] Comprehensive Income > other comprehensive income loss financial liability fair value option before tax after reclassification adjustment → comprehensive income > unrealized derivative gains (losses)\n",
      "OtherComprehensiveIncomeLossFinancialLiabilityFairValueOptionBeforeTaxAfterReclassificationAdjustmentAttributableToNoncontrollingInterest | [mapped.1 (0.79)] Comprehensive Income > other comprehensive income loss financial liability fair value option before tax after reclassification adjustment attributable to noncontrolling interest → comprehensive income > unrealized derivative gains (losses)\n",
      "OtherComprehensiveIncomeLossFinancialLiabilityFairValueOptionBeforeTaxAfterReclassificationAdjustmentAttributableToParent | [mapped.1 (0.77)] Comprehensive Income > other comprehensive income loss financial liability fair value option before tax after reclassification adjustment attributable to parent → comprehensive income > other comprehensive income\n",
      "OtherComprehensiveIncomeLossFinancialLiabilityFairValueOptionReclassificationAdjustmentFromAociForDerecognitionAfterTax | [mapped.1 (0.78)] Comprehensive Income > other comprehensive income loss financial liability fair value option reclassification adjustment from aoci for derecognition after tax → comprehensive income > unrealized derivative gains (losses)\n",
      "OtherComprehensiveIncomeLossFinancialLiabilityFairValueOptionReclassificationAdjustmentFromAociForDerecognitionBeforeTax | [mapped.1 (0.78)] Comprehensive Income > other comprehensive income loss financial liability fair value option reclassification adjustment from aoci for derecognition before tax → comprehensive income > unrealized derivative gains (losses)\n"
     ]
    },
    {
     "name": "stderr",
     "output_type": "stream",
     "text": [
      "Processing rows: 2530it [02:04, 33.00it/s]"
     ]
    },
    {
     "name": "stdout",
     "output_type": "stream",
     "text": [
      "OtherComprehensiveIncomeLossFinancialLiabilityFairValueOptionReclassificationAdjustmentFromAociForDerecognitionTax | [mapped.1 (0.76)] Comprehensive Income > other comprehensive income loss financial liability fair value option reclassification adjustment from aoci for derecognition tax → comprehensive income > unrealized derivative gains (losses)\n",
      "OtherComprehensiveIncomeLossFinancialLiabilityFairValueOptionUnrealizedGainLossArisingDuringPeriodAfterTax | [mapped.1 (0.84)] Comprehensive Income > other comprehensive income loss financial liability fair value option unrealized gain loss arising during period after tax → comprehensive income > unrealized derivative gains (losses)\n",
      "OtherComprehensiveIncomeLossFinancialLiabilityFairValueOptionUnrealizedGainLossArisingDuringPeriodBeforeTax | [mapped.1 (0.83)] Comprehensive Income > other comprehensive income loss financial liability fair value option unrealized gain loss arising during period before tax → comprehensive income > unrealized derivative gains (losses)\n",
      "OtherComprehensiveIncomeLossFinancialLiabilityFairValueOptionUnrealizedGainLossArisingDuringPeriodTax | [mapped.1 (0.83)] Comprehensive Income > other comprehensive income loss financial liability fair value option unrealized gain loss arising during period tax → comprehensive income > unrealized derivative gains (losses)\n",
      "OtherComprehensiveIncomeLossReclassificationAdjustmentFromAociForInvestmentTransferredFromAvailableForSaleToEquityMethodAfterTax | [mapped.1 (0.78)] Comprehensive Income > other comprehensive income loss reclassification adjustment from aoci for investment transferred from available for sale to equity method after tax → comprehensive income > unrealized derivative gains (losses)\n",
      "OtherComprehensiveIncomeLossReclassificationAdjustmentFromAociForInvestmentTransferredFromAvailableForSaleToEquityMethodBeforeTax | [mapped.1 (0.78)] Comprehensive Income > other comprehensive income loss reclassification adjustment from aoci for investment transferred from available for sale to equity method before tax → comprehensive income > unrealized derivative gains (losses)\n",
      "OtherComprehensiveIncomeLossReclassificationAdjustmentFromAociForInvestmentTransferredFromAvailableForSaleToEquityMethodTax | [mapped.1 (0.77)] Comprehensive Income > other comprehensive income loss reclassification adjustment from aoci for investment transferred from available for sale to equity method tax → comprehensive income > unrealized derivative gains (losses)\n",
      "VariableLeasePayment | [mapped.1 (0.75)] Cash Flow Statement > variable lease payment → cash flow > cash interest paid\n"
     ]
    },
    {
     "name": "stderr",
     "output_type": "stream",
     "text": [
      "Processing rows: 2534it [02:04, 29.74it/s]"
     ]
    },
    {
     "name": "stdout",
     "output_type": "stream",
     "text": [
      "InterestCreditedToPolicyOwnerAccount | [mapped.1 (0.80)] Cash Flow Statement > interest credited to policy owner account → cash flow > cash interest paid\n",
      "ConsiderationReceivedForBeneficialInterestObtainedForTransferringFinancialAsset | [mapped.1 (0.79)] Cash Flow Statement > consideration received for beneficial interest obtained for transferring financial asset → cash flow > cash interest paid\n",
      "OtherPostretirementBenefitsExpenseReversalOfExpenseNoncash | [mapped.1 (0.77)] Cash Flow Statement > other postretirement benefits expense reversal of expense noncash → cash flow > operating activities > other non-cash items\n",
      "PaymentToAcquireLifeInsurancePolicyOperatingActivities | [mapped.1 (0.76)] Cash Flow Statement > payment to acquire life insurance policy operating activities → cash flow > investing activities > purchase of investments\n",
      "PensionAndOtherPostretirementBenefitsExpenseReversalOfExpenseNoncash | [mapped.1 (0.76)] Cash Flow Statement > pension and other postretirement benefits expense reversal of expense noncash → cash flow > operating activities > other non-cash items\n"
     ]
    },
    {
     "name": "stderr",
     "output_type": "stream",
     "text": [
      "Processing rows: 2541it [02:04, 25.43it/s]"
     ]
    },
    {
     "name": "stdout",
     "output_type": "stream",
     "text": [
      "NetPeriodicDefinedBenefitsExpenseReversalOfExpenseExcludingServiceCostComponent | [mapped.1 (0.73)] Income Statement > net periodic defined benefits expense reversal of expense excluding service cost component → income statement > interest expense - non-operating\n",
      "NoncashOrPartNoncashAcquisitionNoncashFinancialOrEquityInstrumentConsiderationDueDateYear | [mapped.1 (0.79)] Cash Flow Statement > noncash or part noncash acquisition noncash financial or equity instrument consideration due date year → cash flow > operating activities > other non-cash items\n",
      "DebtConversionConvertedInstrumentExpirationOrDueDateYear | [mapped.1 (0.74)] Cash Flow Statement > debt conversion converted instrument expiration or due date year → cash flow > financing activities > short term debt, net\n",
      "DebtConversionConvertedInstrumentIssuanceDateYear | [mapped.1 (0.74)] Cash Flow Statement > debt conversion converted instrument issuance date year → cash flow > financing activities > short term debt, net\n",
      "DebtConversionOriginalDebtDueDateOfDebtYear | [mapped.1 (0.76)] Cash Flow Statement > debt conversion original debt due date of debt year → cash flow > financing activities > short term debt, net\n"
     ]
    },
    {
     "name": "stderr",
     "output_type": "stream",
     "text": [
      "Processing rows: 2544it [02:04, 24.62it/s]"
     ]
    },
    {
     "name": "stdout",
     "output_type": "stream",
     "text": [
      "DebtConversionOriginalDebtIssuanceDateOfDebtYear | [mapped.1 (0.74)] Cash Flow Statement > debt conversion original debt issuance date of debt year → cash flow > financing activities > short term debt, net\n",
      "IncreaseDecreaseInDebtSecuritiesTrading | [mapped.1 (0.75)] Cash Flow Statement > increase decrease in debt securities trading → cash flow > financing activities > short term debt, net\n",
      "DebtSecuritiesRealizedGainLoss | [mapped.1 (0.79)] Income Statement > debt securities realized gain loss → income statement > gain (loss) on sale of assets\n",
      "DebtSecurities | [mapped.1 (0.80)] Balance Sheet > debt securities → balance sheet > shareholders' equity > treasury stock\n",
      "InterestIncomeDebtSecuritiesTradingOperating | [mapped.1 (0.83)] Income Statement > interest income debt securities trading operating → income statement > interest > investment income - operating\n"
     ]
    },
    {
     "name": "stderr",
     "output_type": "stream",
     "text": [
      "Processing rows: 2550it [02:05, 23.65it/s]"
     ]
    },
    {
     "name": "stdout",
     "output_type": "stream",
     "text": [
      "InterestIncomeDebtSecuritiesAvailableForSaleOperating | [mapped.1 (0.81)] Income Statement > interest income debt securities available for sale operating → income statement > interest > investment income - operating\n",
      "InterestIncomeDebtSecuritiesOperating | [mapped.1 (0.87)] Income Statement > interest income debt securities operating → income statement > interest > investment income - operating\n",
      "DividendIncomeEquitySecuritiesOperating | [mapped.1 (0.82)] Income Statement > dividend income equity securities operating → income statement > preferred dividends\n",
      "DebtAndEquitySecuritiesRealizedGainLoss | [mapped.1 (0.77)] Cash Flow Statement > debt and equity securities realized gain loss → cash flow > financing activities > short term debt, net\n",
      "DebtAndEquitySecuritiesRealizedGainLoss | [mapped.1 (0.79)] Income Statement > debt and equity securities realized gain loss → income statement > gain (loss) on sale of assets\n"
     ]
    },
    {
     "name": "stderr",
     "output_type": "stream",
     "text": [
      "Processing rows: 2553it [02:05, 22.18it/s]"
     ]
    },
    {
     "name": "stdout",
     "output_type": "stream",
     "text": [
      "DebtSecuritiesCurrent | [mapped.1 (0.80)] Balance Sheet > debt securities current → balance sheet > assets > other current assets\n",
      "DebtSecuritiesNoncurrent | [mapped.1 (0.79)] Balance Sheet > debt securities noncurrent → balance sheet > assets > other current assets\n",
      "CapitalizedContractCostNetCurrent | [mapped.1 (0.72)] Balance Sheet > capitalized contract cost net current → balance sheet > assets > restricted cash - current\n",
      "CapitalizedContractCostNetNoncurrent | [mapped.1 (0.72)] Balance Sheet > capitalized contract cost net noncurrent → balance sheet > assets > restricted cash - current\n"
     ]
    },
    {
     "name": "stderr",
     "output_type": "stream",
     "text": [
      "Processing rows: 2559it [02:05, 20.51it/s]"
     ]
    },
    {
     "name": "stdout",
     "output_type": "stream",
     "text": [
      "HealthCareOrganizationAccountsReceivableDueFromThirdPartyPayorRetroactiveAdjustment | [mapped.1 (0.73)] Balance Sheet > health care organization accounts receivable due from third party payor retroactive adjustment → balance sheet > assets > receivables - other > related party\n",
      "InventoryFirmPurchaseCommitmentLoss | [mapped.1 (0.78)] Income Statement > inventory firm purchase commitment loss → income statement > gain (loss) on sale of assets\n",
      "IncreaseDecreaseInContractWithCustomerAsset | [mapped.1 (0.78)] Cash Flow Statement > increase decrease in contract with customer asset → cash flow > operating activities > changes in other assets\n",
      "IncreaseDecreaseInContractWithCustomerLiability | [mapped.1 (0.78)] Cash Flow Statement > increase decrease in contract with customer liability → cash flow > operating activities > changes in other liabilities\n",
      "TypeOfRevenueExtensibleList | [mapped.1 (0.76)] Income Statement > type of revenue extensible list → income statement > net income available to common\n"
     ]
    },
    {
     "name": "stderr",
     "output_type": "stream",
     "text": [
      "Processing rows: 2565it [02:05, 22.15it/s]"
     ]
    },
    {
     "name": "stdout",
     "output_type": "stream",
     "text": [
      "TypeOfCostGoodOrServiceExtensibleList | [mapped.1 (0.77)] Income Statement > type of cost good or service extensible list → income statement > net income available to common\n",
      "MerchantMarineOperatingDifferentialSubsidy | [mapped.1 (0.71)] Income Statement > merchant marine operating differential subsidy → income statement > interest > investment income - operating\n",
      "CostDirectMaterial | [mapped.1 (0.80)] Income Statement > cost direct material → income statement > net sales\n",
      "CostDirectLabor | [mapped.1 (0.80)] Income Statement > cost direct labor → income statement > cost of revenue\n",
      "CostDepletion | [mapped.1 (0.78)] Cash Flow Statement > cost depletion → cash flow > operating activities > depreciation > amortization\n"
     ]
    },
    {
     "name": "stderr",
     "output_type": "stream",
     "text": [
      "Processing rows: 2571it [02:06, 23.99it/s]"
     ]
    },
    {
     "name": "stdout",
     "output_type": "stream",
     "text": [
      "CostDepletion | [mapped.1 (0.81)] Income Statement > cost depletion → income statement > depreciation > amortization\n",
      "CostDepreciationAmortizationAndDepletion | [mapped.1 (0.90)] Income Statement > cost depreciation amortization and depletion → income statement > depreciation > amortization\n",
      "CostMaintenance | [mapped.1 (0.82)] Income Statement > cost maintenance → income statement > other operating expenses\n",
      "AociLossCashFlowHedgeCumulativeGainLossAfterTax | [mapped.1 (0.74)] Balance Sheet > aoci loss cash flow hedge cumulative gain loss after tax → balance sheet > liabilities > deferred income tax\n",
      "OtherComprehensiveIncomeLossCashFlowHedgeGainLossBeforeReclassificationAndTax | [mapped.1 (0.84)] Comprehensive Income > other comprehensive income loss cash flow hedge gain loss before reclassification and tax → comprehensive income > unrealized derivative gains (losses)\n",
      "OtherComprehensiveIncomeLossCashFlowHedgeGainLossBeforeReclassificationAfterTax | [mapped.1 (0.84)] Comprehensive Income > other comprehensive income loss cash flow hedge gain loss before reclassification after tax → comprehensive income > unrealized derivative gains (losses)\n"
     ]
    },
    {
     "name": "stderr",
     "output_type": "stream",
     "text": [
      "Processing rows: 2580it [02:06, 31.20it/s]"
     ]
    },
    {
     "name": "stdout",
     "output_type": "stream",
     "text": [
      "OtherComprehensiveIncomeLossCashFlowHedgeGainLossBeforeReclassificationTax | [mapped.1 (0.83)] Comprehensive Income > other comprehensive income loss cash flow hedge gain loss before reclassification tax → comprehensive income > unrealized derivative gains (losses)\n",
      "OtherComprehensiveIncomeLossCashFlowHedgeGainLossAfterReclassificationBeforeTax | [mapped.1 (0.84)] Comprehensive Income > other comprehensive income loss cash flow hedge gain loss after reclassification before tax → comprehensive income > unrealized derivative gains (losses)\n",
      "OtherComprehensiveIncomeLossCashFlowHedgeGainLossAfterReclassificationAndTax | [mapped.1 (0.84)] Comprehensive Income > other comprehensive income loss cash flow hedge gain loss after reclassification and tax → comprehensive income > unrealized derivative gains (losses)\n",
      "OtherComprehensiveIncomeLossCashFlowHedgeGainLossAfterReclassificationTax | [mapped.1 (0.83)] Comprehensive Income > other comprehensive income loss cash flow hedge gain loss after reclassification tax → comprehensive income > unrealized derivative gains (losses)\n",
      "OtherComprehensiveIncomeLossCashFlowHedgeGainLossAfterReclassificationBeforeTaxNoncontrollingInterest | [mapped.1 (0.83)] Comprehensive Income > other comprehensive income loss cash flow hedge gain loss after reclassification before tax noncontrolling interest → comprehensive income > unrealized derivative gains (losses)\n",
      "OtherComprehensiveIncomeLossCashFlowHedgeGainLossAfterReclassificationBeforeTaxParent | [mapped.1 (0.83)] Comprehensive Income > other comprehensive income loss cash flow hedge gain loss after reclassification before tax parent → comprehensive income > unrealized derivative gains (losses)\n",
      "OtherComprehensiveIncomeLossCashFlowHedgeGainLossReclassificationBeforeTax | [mapped.1 (0.83)] Comprehensive Income > other comprehensive income loss cash flow hedge gain loss reclassification before tax → comprehensive income > unrealized derivative gains (losses)\n",
      "OtherComprehensiveIncomeLossCashFlowHedgeGainLossReclassificationAfterTax | [mapped.1 (0.83)] Comprehensive Income > other comprehensive income loss cash flow hedge gain loss reclassification after tax → comprehensive income > unrealized derivative gains (losses)\n",
      "OtherComprehensiveIncomeLossCashFlowHedgeGainLossReclassificationTax | [mapped.1 (0.82)] Comprehensive Income > other comprehensive income loss cash flow hedge gain loss reclassification tax → comprehensive income > unrealized derivative gains (losses)\n"
     ]
    },
    {
     "name": "stderr",
     "output_type": "stream",
     "text": [
      "Processing rows: 2588it [02:06, 34.44it/s]"
     ]
    },
    {
     "name": "stdout",
     "output_type": "stream",
     "text": [
      "OtherComprehensiveIncomeLossCashFlowHedgeGainLossAfterReclassificationTaxNoncontrollingInterest | [mapped.1 (0.83)] Comprehensive Income > other comprehensive income loss cash flow hedge gain loss after reclassification tax noncontrolling interest → comprehensive income > unrealized derivative gains (losses)\n",
      "OtherComprehensiveIncomeLossCashFlowHedgeGainLossAfterReclassificationAndTaxNoncontrollingInterest | [mapped.1 (0.84)] Comprehensive Income > other comprehensive income loss cash flow hedge gain loss after reclassification and tax noncontrolling interest → comprehensive income > unrealized derivative gains (losses)\n",
      "OtherComprehensiveIncomeLossCashFlowHedgeGainLossAfterReclassificationAndTaxParent | [mapped.1 (0.83)] Comprehensive Income > other comprehensive income loss cash flow hedge gain loss after reclassification and tax parent → comprehensive income > unrealized derivative gains (losses)\n",
      "OtherComprehensiveIncomeLossCashFlowHedgeGainLossAfterReclassificationTaxParent | [mapped.1 (0.82)] Comprehensive Income > other comprehensive income loss cash flow hedge gain loss after reclassification tax parent → comprehensive income > unrealized derivative gains (losses)\n",
      "OtherComprehensiveIncomeLossDerivativeExcludedComponentIncreaseDecreaseAfterAdjustmentsBeforeTax | [mapped.1 (0.82)] Comprehensive Income > other comprehensive income loss derivative excluded component increase decrease after adjustments before tax → comprehensive income > unrealized derivative gains (losses)\n",
      "OtherComprehensiveIncomeLossDerivativeExcludedComponentIncreaseDecreaseAfterAdjustmentsBeforeTaxParent | [mapped.1 (0.81)] Comprehensive Income > other comprehensive income loss derivative excluded component increase decrease after adjustments before tax parent → comprehensive income > unrealized derivative gains (losses)\n",
      "OtherComprehensiveIncomeLossDerivativeExcludedComponentIncreaseDecreaseBeforeAdjustmentsAfterTax | [mapped.1 (0.82)] Comprehensive Income > other comprehensive income loss derivative excluded component increase decrease before adjustments after tax → comprehensive income > unrealized derivative gains (losses)\n",
      "OtherComprehensiveIncomeLossDerivativeExcludedComponentIncreaseDecreaseAdjustmentsAfterTax | [mapped.1 (0.83)] Comprehensive Income > other comprehensive income loss derivative excluded component increase decrease adjustments after tax → comprehensive income > unrealized derivative gains (losses)\n"
     ]
    },
    {
     "name": "stderr",
     "output_type": "stream",
     "text": [
      "Processing rows: 2592it [02:06, 35.54it/s]"
     ]
    },
    {
     "name": "stdout",
     "output_type": "stream",
     "text": [
      "OtherComprehensiveIncomeLossDerivativeExcludedComponentIncreaseDecreaseAfterAdjustmentsAndTax | [mapped.1 (0.83)] Comprehensive Income > other comprehensive income loss derivative excluded component increase decrease after adjustments and tax → comprehensive income > unrealized derivative gains (losses)\n",
      "OtherComprehensiveIncomeLossDerivativeExcludedComponentIncreaseDecreaseAfterAdjustmentsAndTaxParent | [mapped.1 (0.81)] Comprehensive Income > other comprehensive income loss derivative excluded component increase decrease after adjustments and tax parent → comprehensive income > unrealized derivative gains (losses)\n",
      "OtherComprehensiveIncomeLossDerivativeExcludedComponentIncreaseDecreaseBeforeAdjustmentsTax | [mapped.1 (0.82)] Comprehensive Income > other comprehensive income loss derivative excluded component increase decrease before adjustments tax → comprehensive income > unrealized derivative gains (losses)\n",
      "OtherComprehensiveIncomeLossDerivativeExcludedComponentIncreaseDecreaseAdjustmentsTax | [mapped.1 (0.81)] Comprehensive Income > other comprehensive income loss derivative excluded component increase decrease adjustments tax → comprehensive income > unrealized derivative gains (losses)\n",
      "AociDerivativeQualifyingAsHedgeExcludedComponentAfterTax | [mapped.1 (0.72)] Balance Sheet > aoci derivative qualifying as hedge excluded component after tax → balance sheet > liabilities > deferred income tax\n",
      "OtherComprehensiveIncomeLossCashFlowHedgeReclassificationForDiscontinuanceBeforeTax | [mapped.1 (0.82)] Comprehensive Income > other comprehensive income loss cash flow hedge reclassification for discontinuance before tax → comprehensive income > unrealized derivative gains (losses)\n"
     ]
    },
    {
     "name": "stderr",
     "output_type": "stream",
     "text": [
      "Processing rows: 2600it [02:06, 31.69it/s]"
     ]
    },
    {
     "name": "stdout",
     "output_type": "stream",
     "text": [
      "OtherComprehensiveIncomeLossNetInvestmentHedgeGainLossBeforeReclassificationAndTax | [mapped.1 (0.83)] Comprehensive Income > other comprehensive income loss net investment hedge gain loss before reclassification and tax → comprehensive income > unrealized derivative gains (losses)\n",
      "OtherComprehensiveIncomeLossNetInvestmentHedgeGainLossReclassificationBeforeTax | [mapped.1 (0.83)] Comprehensive Income > other comprehensive income loss net investment hedge gain loss reclassification before tax → comprehensive income > unrealized derivative gains (losses)\n",
      "OtherComprehensiveIncomeLossDerivativeExcludedComponentIncreaseDecreaseAfterAdjustmentsTax | [mapped.1 (0.82)] Comprehensive Income > other comprehensive income loss derivative excluded component increase decrease after adjustments tax → comprehensive income > unrealized derivative gains (losses)\n",
      "OtherComprehensiveIncomeLossDerivativeExcludedComponentIncreaseDecreaseBeforeAdjustmentsAndTax | [mapped.1 (0.83)] Comprehensive Income > other comprehensive income loss derivative excluded component increase decrease before adjustments and tax → comprehensive income > unrealized derivative gains (losses)\n",
      "OtherComprehensiveIncomeLossDerivativeExcludedComponentIncreaseDecreaseAdjustmentsBeforeTax | [mapped.1 (0.83)] Comprehensive Income > other comprehensive income loss derivative excluded component increase decrease adjustments before tax → comprehensive income > unrealized derivative gains (losses)\n",
      "EquitySecuritiesFvNi | [mapped.1 (0.78)] Balance Sheet > equity securities fv ni → balance sheet > shareholders' equity > preferred stock\n",
      "EquitySecuritiesFvNiRealizedGainLoss | [mapped.1 (0.78)] Income Statement > equity securities fv ni realized gain loss → income statement > gain (loss) on sale of assets\n"
     ]
    },
    {
     "name": "stderr",
     "output_type": "stream",
     "text": [
      "Processing rows: 2604it [02:07, 30.34it/s]"
     ]
    },
    {
     "name": "stdout",
     "output_type": "stream",
     "text": [
      "IncreaseDecreaseInEquitySecuritiesFvNi | [mapped.1 (0.76)] Cash Flow Statement > increase decrease in equity securities fv ni → cash flow > operating activities > changes in other assets\n",
      "OtherComprehensiveIncomeLossDerivativeExcludedComponentIncreaseDecreaseAfterAdjustmentsTaxParent | [mapped.1 (0.81)] Comprehensive Income > other comprehensive income loss derivative excluded component increase decrease after adjustments tax parent → comprehensive income > unrealized derivative gains (losses)\n",
      "OtherComprehensiveIncomeLossDerivativeExcludedComponentIncreaseDecreaseAfterAdjustmentsBeforeTaxNoncontrollingInterest1 | [mapped.1 (0.83)] Comprehensive Income > other comprehensive income loss derivative excluded component increase decrease after adjustments before tax noncontrolling interest1 → comprehensive income > unrealized derivative gains (losses)\n",
      "OtherComprehensiveIncomeLossDerivativeExcludedComponentIncreaseDecreaseAfterAdjustmentsAndTaxNoncontrollingInterest1 | [mapped.1 (0.84)] Comprehensive Income > other comprehensive income loss derivative excluded component increase decrease after adjustments and tax noncontrolling interest1 → comprehensive income > unrealized derivative gains (losses)\n",
      "OtherComprehensiveIncomeLossDerivativeExcludedComponentIncreaseDecreaseAfterAdjustmentsTaxNoncontrollingInterest1 | [mapped.1 (0.83)] Comprehensive Income > other comprehensive income loss derivative excluded component increase decrease after adjustments tax noncontrolling interest1 → comprehensive income > unrealized derivative gains (losses)\n",
      "MarketRiskBenefitAfterIncreaseDecreaseFromInstrumentSpecificCreditRisk | [unmapped] Balance Sheet > market risk benefit after increase decrease from instrument specific credit risk\n"
     ]
    },
    {
     "name": "stderr",
     "output_type": "stream",
     "text": [
      "Processing rows: 2611it [02:07, 23.81it/s]"
     ]
    },
    {
     "name": "stdout",
     "output_type": "stream",
     "text": [
      "MarketRiskBenefitAfterIncreaseDecreaseFromInstrumentSpecificCreditRisk | [mapped.2 (0.73)] Balance Sheet > StatementTable > StatementLineItems > MarketRiskBenefitAfterIncreaseDecreaseFromInstrumentSpecificCreditRisk → balance sheet > shareholders' equity > common stock\n",
      "AdditionalLiabilityLongDurationInsuranceBeforeReinsuranceAfterDiscountRateChange | [mapped.1 (0.74)] Balance Sheet > additional liability long duration insurance before reinsurance after discount rate change → balance sheet > liabilities > other long term liabilities\n",
      "RevenueFromContractWithCustomerProductAndServiceExtensibleList | [mapped.1 (0.79)] Income Statement > revenue from contract with customer product and service extensible list → income statement > net sales\n",
      "RevenueNotFromContractWithCustomer | [mapped.1 (0.82)] Income Statement > revenue not from contract with customer → income statement > other non-operating income (expense)\n",
      "RevenueNotFromContractWithCustomerOther | [mapped.1 (0.84)] Income Statement > revenue not from contract with customer other → income statement > other non-operating income (expense)\n"
     ]
    },
    {
     "name": "stderr",
     "output_type": "stream",
     "text": [
      "Processing rows: 2614it [02:07, 21.04it/s]"
     ]
    },
    {
     "name": "stdout",
     "output_type": "stream",
     "text": [
      "DeferredIncome | [mapped.1 (0.90)] Balance Sheet > deferred income → balance sheet > liabilities > deferred income tax\n",
      "DeferredIncomeCurrent | [mapped.1 (0.86)] Balance Sheet > deferred income current → balance sheet > liabilities > deferred income tax\n",
      "DeferredIncomeNoncurrent | [mapped.1 (0.84)] Balance Sheet > deferred income noncurrent → balance sheet > liabilities > deferred income tax\n",
      "AociLiabilityForFuturePolicyBenefitAfterTax | [mapped.1 (0.76)] Balance Sheet > aoci liability for future policy benefit after tax → balance sheet > liabilities > deferred income tax\n"
     ]
    },
    {
     "name": "stderr",
     "output_type": "stream",
     "text": [
      "Processing rows: 2617it [02:07, 20.29it/s]"
     ]
    },
    {
     "name": "stdout",
     "output_type": "stream",
     "text": [
      "AociMarketRiskBenefitInstrumentSpecificCreditRiskAfterTax | [mapped.1 (0.74)] Balance Sheet > aoci market risk benefit instrument specific credit risk after tax → balance sheet > liabilities > deferred income tax\n",
      "PremiumReceivableCreditLossExpenseReversal | [mapped.1 (0.75)] Income Statement > premium receivable credit loss expense reversal → income statement > gain (loss) on sale of assets\n",
      "DebtSecuritiesHeldToMaturityAllowanceForCreditLoss | [mapped.1 (0.71)] Balance Sheet > debt securities held to maturity allowance for credit loss → balance sheet > shareholders' equity > treasury stock\n",
      "DebtSecuritiesHeldToMaturityAllowanceForCreditLossCurrent | [mapped.1 (0.72)] Balance Sheet > debt securities held to maturity allowance for credit loss current → balance sheet > shareholders' equity > treasury stock\n"
     ]
    },
    {
     "name": "stderr",
     "output_type": "stream",
     "text": [
      "Processing rows: 2623it [02:08, 20.46it/s]"
     ]
    },
    {
     "name": "stdout",
     "output_type": "stream",
     "text": [
      "DebtSecuritiesHeldToMaturityAllowanceForCreditLossNoncurrent | [mapped.1 (0.71)] Balance Sheet > debt securities held to maturity allowance for credit loss noncurrent → balance sheet > shareholders' equity > treasury stock\n",
      "NetInvestmentInLeaseCreditLossExpenseReversal | [mapped.1 (0.74)] Income Statement > net investment in lease credit loss expense reversal → income statement > gain (loss) on sale of assets\n",
      "ReinsuranceRecoverableCreditLossExpenseReversal | [mapped.1 (0.75)] Income Statement > reinsurance recoverable credit loss expense reversal → income statement > discontinued operations\n",
      "OciMarketRiskBenefitInstrumentSpecificCreditRiskAdjustmentFromAociForDerecognitionBeforeTax | [mapped.1 (0.76)] Comprehensive Income > oci market risk benefit instrument specific credit risk adjustment from aoci for derecognition before tax → comprehensive income > pension > postretirement adjustments\n",
      "OciMarketRiskBenefitInstrumentSpecificCreditRiskAdjustmentFromAociForDerecognitionAfterTax | [mapped.1 (0.77)] Comprehensive Income > oci market risk benefit instrument specific credit risk adjustment from aoci for derecognition after tax → comprehensive income > pension > postretirement adjustments\n",
      "OciMarketRiskBenefitInstrumentSpecificCreditRiskAdjustmentFromAociTax | [mapped.1 (0.77)] Comprehensive Income > oci market risk benefit instrument specific credit risk adjustment from aoci tax → comprehensive income > pension > postretirement adjustments\n"
     ]
    },
    {
     "name": "stderr",
     "output_type": "stream",
     "text": [
      "Processing rows: 2631it [02:08, 27.14it/s]"
     ]
    },
    {
     "name": "stdout",
     "output_type": "stream",
     "text": [
      "CostOfGoodsAndServiceExcludingDepreciationDepletionAndAmortization | [mapped.1 (0.83)] Income Statement > cost of goods and service excluding depreciation depletion and amortization → income statement > depreciation > amortization\n",
      "OciLiabilityForFuturePolicyBenefitGainLossAfterReclassificationAdjustmentAndTax | [mapped.1 (0.79)] Comprehensive Income > oci liability for future policy benefit gain loss after reclassification adjustment and tax → comprehensive income > unrealized derivative gains (losses)\n",
      "OciLiabilityForFuturePolicyBenefitGainLossAfterReclassificationAdjustmentAndTaxParent | [mapped.1 (0.78)] Comprehensive Income > oci liability for future policy benefit gain loss after reclassification adjustment and tax parent → comprehensive income > unrealized derivative gains (losses)\n",
      "OciLiabilityForFuturePolicyBenefitGainLossAfterReclassificationAdjustmentAndTaxNoncontrollingInterest | [mapped.1 (0.79)] Comprehensive Income > oci liability for future policy benefit gain loss after reclassification adjustment and tax noncontrolling interest → comprehensive income > unrealized derivative gains (losses)\n",
      "OciLiabilityForFuturePolicyBenefitGainLossBeforeReclassificationAdjustmentAfterTax | [mapped.1 (0.80)] Comprehensive Income > oci liability for future policy benefit gain loss before reclassification adjustment after tax → comprehensive income > unrealized derivative gains (losses)\n",
      "OciLiabilityForFuturePolicyBenefitGainLossBeforeReclassificationAdjustmentAndTax | [mapped.1 (0.80)] Comprehensive Income > oci liability for future policy benefit gain loss before reclassification adjustment and tax → comprehensive income > unrealized derivative gains (losses)\n",
      "OciLiabilityForFuturePolicyBenefitGainLossBeforeReclassificationAdjustmentTax | [mapped.1 (0.79)] Comprehensive Income > oci liability for future policy benefit gain loss before reclassification adjustment tax → comprehensive income > unrealized derivative gains (losses)\n",
      "OciLiabilityForFuturePolicyBenefitGainLossAfterReclassificationAdjustmentBeforeTax | [mapped.1 (0.79)] Comprehensive Income > oci liability for future policy benefit gain loss after reclassification adjustment before tax → comprehensive income > unrealized derivative gains (losses)\n"
     ]
    },
    {
     "name": "stderr",
     "output_type": "stream",
     "text": [
      "Processing rows: 2639it [02:08, 32.44it/s]"
     ]
    },
    {
     "name": "stdout",
     "output_type": "stream",
     "text": [
      "OciLiabilityForFuturePolicyBenefitGainLossAfterReclassificationAdjustmentBeforeTaxNoncontrollingInterest | [mapped.1 (0.79)] Comprehensive Income > oci liability for future policy benefit gain loss after reclassification adjustment before tax noncontrolling interest → comprehensive income > unrealized derivative gains (losses)\n",
      "OciLiabilityForFuturePolicyBenefitGainLossAfterReclassificationAdjustmentBeforeTaxParent | [mapped.1 (0.78)] Comprehensive Income > oci liability for future policy benefit gain loss after reclassification adjustment before tax parent → comprehensive income > unrealized derivative gains (losses)\n",
      "OciLiabilityForFuturePolicyBenefitGainLossReclassificationAdjustmentFromAociAfterTax | [mapped.1 (0.79)] Comprehensive Income > oci liability for future policy benefit gain loss reclassification adjustment from aoci after tax → comprehensive income > pension > postretirement adjustments\n",
      "OciLiabilityForFuturePolicyBenefitGainLossReclassificationAdjustmentFromAociBeforeTax | [mapped.1 (0.78)] Comprehensive Income > oci liability for future policy benefit gain loss reclassification adjustment from aoci before tax → comprehensive income > pension > postretirement adjustments\n",
      "OciLiabilityForFuturePolicyBenefitGainLossReclassificationAdjustmentFromAociTax | [mapped.1 (0.77)] Comprehensive Income > oci liability for future policy benefit gain loss reclassification adjustment from aoci tax → comprehensive income > pension > postretirement adjustments\n",
      "OciMarketRiskBenefitInstrumentSpecificCreditRiskGainLossAfterAdjustmentsAndTax | [mapped.1 (0.80)] Comprehensive Income > oci market risk benefit instrument specific credit risk gain loss after adjustments and tax → comprehensive income > unrealized derivative gains (losses)\n",
      "OciMarketRiskBenefitInstrumentSpecificCreditRiskGainLossAfterAdjustmentsAndTaxNoncontrollingInterest | [mapped.1 (0.80)] Comprehensive Income > oci market risk benefit instrument specific credit risk gain loss after adjustments and tax noncontrolling interest → comprehensive income > unrealized derivative gains (losses)\n",
      "OciMarketRiskBenefitInstrumentSpecificCreditRiskGainLossAfterAdjustmentsAndTaxParent | [mapped.1 (0.79)] Comprehensive Income > oci market risk benefit instrument specific credit risk gain loss after adjustments and tax parent → comprehensive income > unrealized derivative gains (losses)\n",
      "OciMarketRiskBenefitInstrumentSpecificCreditRiskGainLossBeforeAdjustmentsAfterTax | [mapped.1 (0.80)] Comprehensive Income > oci market risk benefit instrument specific credit risk gain loss before adjustments after tax → comprehensive income > unrealized derivative gains (losses)\n"
     ]
    },
    {
     "name": "stderr",
     "output_type": "stream",
     "text": [
      "Processing rows: 2647it [02:08, 35.81it/s]"
     ]
    },
    {
     "name": "stdout",
     "output_type": "stream",
     "text": [
      "OciMarketRiskBenefitInstrumentSpecificCreditRiskGainLossBeforeAdjustmentsAndTax | [mapped.1 (0.81)] Comprehensive Income > oci market risk benefit instrument specific credit risk gain loss before adjustments and tax → comprehensive income > unrealized derivative gains (losses)\n",
      "OciMarketRiskBenefitInstrumentSpecificCreditRiskGainLossAfterAdjustmentsBeforeTax | [mapped.1 (0.80)] Comprehensive Income > oci market risk benefit instrument specific credit risk gain loss after adjustments before tax → comprehensive income > unrealized derivative gains (losses)\n",
      "OciMarketRiskBenefitInstrumentSpecificCreditRiskGainLossAfterAdjustmentsBeforeTaxNoncontrollingInterest | [mapped.1 (0.80)] Comprehensive Income > oci market risk benefit instrument specific credit risk gain loss after adjustments before tax noncontrolling interest → comprehensive income > unrealized derivative gains (losses)\n",
      "OciMarketRiskBenefitInstrumentSpecificCreditRiskGainLossAfterAdjustmentsBeforeTaxParent | [mapped.1 (0.79)] Comprehensive Income > oci market risk benefit instrument specific credit risk gain loss after adjustments before tax parent → comprehensive income > unrealized derivative gains (losses)\n",
      "OciMarketRiskBenefitInstrumentSpecificCreditRiskGainLossReclassificationAdjustmentFromAociAfterTax | [mapped.1 (0.77)] Comprehensive Income > oci market risk benefit instrument specific credit risk gain loss reclassification adjustment from aoci after tax → comprehensive income > unrealized derivative gains (losses)\n",
      "OciMarketRiskBenefitInstrumentSpecificCreditRiskGainLossReclassificationAdjustmentFromAociBeforeTax | [mapped.1 (0.78)] Comprehensive Income > oci market risk benefit instrument specific credit risk gain loss reclassification adjustment from aoci before tax → comprehensive income > unrealized derivative gains (losses)\n",
      "OciMarketRiskBenefitInstrumentSpecificCreditRiskGainLossBeforeAdjustmentsTax | [mapped.1 (0.80)] Comprehensive Income > oci market risk benefit instrument specific credit risk gain loss before adjustments tax → comprehensive income > unrealized derivative gains (losses)\n",
      "OciMarketRiskBenefitInstrumentSpecificCreditRiskGainLossReclassificationAdjustmentFromAociTax | [mapped.1 (0.77)] Comprehensive Income > oci market risk benefit instrument specific credit risk gain loss reclassification adjustment from aoci tax → comprehensive income > unrealized gain (loss) on securities\n",
      "OciMarketRiskBenefitInstrumentSpecificCreditRiskGainLossAfterAdjustmentsTax | [mapped.1 (0.79)] Comprehensive Income > oci market risk benefit instrument specific credit risk gain loss after adjustments tax → comprehensive income > unrealized derivative gains (losses)\n"
     ]
    },
    {
     "name": "stderr",
     "output_type": "stream",
     "text": [
      "Processing rows: 2657it [02:09, 36.48it/s]"
     ]
    },
    {
     "name": "stdout",
     "output_type": "stream",
     "text": [
      "OciMarketRiskBenefitInstrumentSpecificCreditRiskGainLossAfterAdjustmentsTaxParent | [mapped.1 (0.79)] Comprehensive Income > oci market risk benefit instrument specific credit risk gain loss after adjustments tax parent → comprehensive income > unrealized derivative gains (losses)\n",
      "OciMarketRiskBenefitInstrumentSpecificCreditRiskGainLossAfterAdjustmentsTaxNoncontrollingInterest | [mapped.1 (0.79)] Comprehensive Income > oci market risk benefit instrument specific credit risk gain loss after adjustments tax noncontrolling interest → comprehensive income > unrealized derivative gains (losses)\n",
      "OciLiabilityForFuturePolicyBenefitGainLossAfterReclassificationAdjustmentTaxParent | [mapped.1 (0.77)] Comprehensive Income > oci liability for future policy benefit gain loss after reclassification adjustment tax parent → comprehensive income > unrealized derivative gains (losses)\n",
      "OciLiabilityForFuturePolicyBenefitGainLossAfterReclassificationAdjustmentTaxNoncontrollingInterest | [mapped.1 (0.78)] Comprehensive Income > oci liability for future policy benefit gain loss after reclassification adjustment tax noncontrolling interest → comprehensive income > unrealized derivative gains (losses)\n",
      "OciLiabilityForFuturePolicyBenefitGainLossAfterReclassificationAdjustmentTax | [mapped.1 (0.78)] Comprehensive Income > oci liability for future policy benefit gain loss after reclassification adjustment tax → comprehensive income > unrealized derivative gains (losses)\n",
      "RevenueNotFromContractWithCustomerExcludingInterestIncome | [mapped.1 (0.86)] Income Statement > revenue not from contract with customer excluding interest income → income statement > interest income - non-operating\n"
     ]
    },
    {
     "name": "stderr",
     "output_type": "stream",
     "text": [
      "Processing rows: 2661it [02:09, 27.29it/s]"
     ]
    },
    {
     "name": "stdout",
     "output_type": "stream",
     "text": [
      "FinancingReceivableAccruedInterestAfterAllowanceForCreditLoss | [mapped.1 (0.72)] Balance Sheet > financing receivable accrued interest after allowance for credit loss → balance sheet > shareholders' equity > retained earnings (accumulated deficit)\n",
      "AccountsReceivableNoncurrentAccruedInterestAfterAllowanceForCreditLoss | [mapped.1 (0.75)] Balance Sheet > accounts receivable noncurrent accrued interest after allowance for credit loss → balance sheet > assets > allowance for doubtful accounts\n",
      "DebtSecuritiesHeldToMaturityAccruedInterestAfterAllowanceForCreditLoss | [mapped.1 (0.73)] Balance Sheet > debt securities held to maturity accrued interest after allowance for credit loss → balance sheet > shareholders' equity > retained earnings (accumulated deficit)\n",
      "NetInvestmentInLeaseAccruedInterestAfterAllowanceForCreditLoss | [mapped.1 (0.75)] Balance Sheet > net investment in lease accrued interest after allowance for credit loss → balance sheet > assets > accumulated depreciation\n"
     ]
    },
    {
     "name": "stderr",
     "output_type": "stream",
     "text": [
      "Processing rows: 2665it [02:09, 23.36it/s]"
     ]
    },
    {
     "name": "stdout",
     "output_type": "stream",
     "text": [
      "SalesTypeLeaseNetInvestmentInLeaseAccruedInterestAfterAllowanceForCreditLoss | [mapped.1 (0.72)] Balance Sheet > sales type lease net investment in lease accrued interest after allowance for credit loss → balance sheet > assets > accumulated depreciation\n",
      "DirectFinancingLeaseNetInvestmentInLeaseAccruedInterestAfterAllowanceForCreditLoss | [mapped.1 (0.70)] Balance Sheet > direct financing lease net investment in lease accrued interest after allowance for credit loss → balance sheet > assets > accumulated depreciation\n",
      "FinancialAssetAmortizedCostAccruedInterestAfterAllowanceForCreditLoss | [mapped.1 (0.76)] Balance Sheet > financial asset amortized cost accrued interest after allowance for credit loss → balance sheet > assets > accumulated depreciation\n",
      "DebtSecuritiesAvailableForSaleAccruedInterestAfterAllowanceForCreditLoss | [mapped.1 (0.72)] Balance Sheet > debt securities available for sale accrued interest after allowance for credit loss → balance sheet > shareholders' equity > retained earnings (accumulated deficit)\n"
     ]
    },
    {
     "name": "stderr",
     "output_type": "stream",
     "text": [
      "Processing rows: 2672it [02:09, 26.01it/s]"
     ]
    },
    {
     "name": "stdout",
     "output_type": "stream",
     "text": [
      "DebtSecuritiesAvailableForSaleAccruedInterestAfterAllowanceForCreditLossCurrent | [mapped.1 (0.73)] Balance Sheet > debt securities available for sale accrued interest after allowance for credit loss current → balance sheet > shareholders' equity > retained earnings (accumulated deficit)\n",
      "DebtSecuritiesAvailableForSaleAccruedInterestAfterAllowanceForCreditLossNoncurrent | [mapped.1 (0.73)] Balance Sheet > debt securities available for sale accrued interest after allowance for credit loss noncurrent → balance sheet > assets > other current assets\n",
      "OciDebtSecuritiesAvailableForSaleTransferToHeldToMaturityAdjustmentFromAociForAmortizationOfGainLossBeforeTax | [mapped.1 (0.78)] Comprehensive Income > oci debt securities available for sale transfer to held to maturity adjustment from aoci for amortization of gain loss before tax → comprehensive income > unrealized gain (loss) on securities\n",
      "OciDebtSecuritiesAvailableForSaleTransferToHeldToMaturityAdjustmentFromAociForAmortizationOfGainLossTax | [mapped.1 (0.77)] Comprehensive Income > oci debt securities available for sale transfer to held to maturity adjustment from aoci for amortization of gain loss tax → comprehensive income > unrealized gain (loss) on securities\n",
      "OciDebtSecuritiesAvailableForSaleTransferToHeldToMaturityAdjustmentFromAociForAmortizationOfGainLossAfterTax | [mapped.1 (0.78)] Comprehensive Income > oci debt securities available for sale transfer to held to maturity adjustment from aoci for amortization of gain loss after tax → comprehensive income > unrealized gain (loss) on securities\n",
      "OciEquityMethodInvestmentBeforeTax | [mapped.1 (0.80)] Comprehensive Income > oci equity method investment before tax → comprehensive income > other comprehensive income\n",
      "OciEquityMethodInvestmentTax | [mapped.1 (0.77)] Comprehensive Income > oci equity method investment tax → comprehensive income > other comprehensive income\n"
     ]
    },
    {
     "name": "stderr",
     "output_type": "stream",
     "text": [
      "Processing rows: 2675it [02:09, 21.99it/s]"
     ]
    },
    {
     "name": "stdout",
     "output_type": "stream",
     "text": [
      "OciEquityMethodInvestmentAfterTax | [mapped.1 (0.80)] Comprehensive Income > oci equity method investment after tax → comprehensive income > other comprehensive income\n",
      "EntertainmentLicenseAgreementForProgramMaterialLiability | [unmapped] Balance Sheet > entertainment license agreement for program material liability\n",
      "EntertainmentLicenseAgreementForProgramMaterialLiability | [mapped.2 (0.75)] Balance Sheet > StatementTable > StatementLineItems > EntertainmentLicenseAgreementForProgramMaterialLiability → balance sheet > liabilities > accounts payable\n",
      "EntertainmentLicenseAgreementForProgramMaterialLiabilityCurrent | [mapped.1 (0.74)] Balance Sheet > entertainment license agreement for program material liability current → balance sheet > liabilities > other current liabilities\n"
     ]
    },
    {
     "name": "stderr",
     "output_type": "stream",
     "text": [
      "Processing rows: 2678it [02:10, 21.83it/s]"
     ]
    },
    {
     "name": "stdout",
     "output_type": "stream",
     "text": [
      "EntertainmentLicenseAgreementForProgramMaterialLiabilityNoncurrent | [mapped.1 (0.72)] Balance Sheet > entertainment license agreement for program material liability noncurrent → balance sheet > liabilities > other current liabilities\n",
      "OperatingLeaseRightOfUseAssetAmortizationExpense | [mapped.1 (0.81)] Cash Flow Statement > operating lease right of use asset amortization expense → cash flow > operating activities > depreciation > amortization\n",
      "ProceedsFromLeasePaymentSalesTypeAndDirectFinancingLeasesInvestingActivity | [mapped.1 (0.81)] Cash Flow Statement > proceeds from lease payment sales type and direct financing leases investing activity → cash flow > financing activities > other financing activities\n",
      "PropertyPlantAndEquipmentCollectionsNotCapitalized | [mapped.1 (0.81)] Balance Sheet > property plant and equipment collections not capitalized → balance sheet > assets > property > plant > equipment\n",
      "DebtSecuritiesHeldToMaturityAmortizedCostAfterAllowanceForCreditLoss | [mapped.1 (0.71)] Balance Sheet > debt securities held to maturity amortized cost after allowance for credit loss → balance sheet > assets > accumulated depreciation\n"
     ]
    },
    {
     "name": "stderr",
     "output_type": "stream",
     "text": [
      "Processing rows: 2684it [02:10, 19.08it/s]"
     ]
    },
    {
     "name": "stdout",
     "output_type": "stream",
     "text": [
      "DebtSecuritiesHeldToMaturityAmortizedCostAfterAllowanceForCreditLossCurrent | [mapped.1 (0.71)] Balance Sheet > debt securities held to maturity amortized cost after allowance for credit loss current → balance sheet > shareholders' equity > treasury stock\n",
      "DebtSecuritiesHeldToMaturityAmortizedCostAfterAllowanceForCreditLossNoncurrent | [mapped.1 (0.71)] Balance Sheet > debt securities held to maturity amortized cost after allowance for credit loss noncurrent → balance sheet > assets > restricted cash - long term\n",
      "EquitySecuritiesFVNINoncurrent | [mapped.1 (0.78)] Balance Sheet > equity securities fvni noncurrent → balance sheet > shareholders' equity > treasury stock\n",
      "EquitySecuritiesFvNiCurrentAndNoncurrent | [mapped.1 (0.79)] Balance Sheet > equity securities fv ni current and noncurrent → balance sheet > assets > other current assets\n"
     ]
    },
    {
     "name": "stderr",
     "output_type": "stream",
     "text": [
      "Processing rows: 2687it [02:10, 18.87it/s]"
     ]
    },
    {
     "name": "stdout",
     "output_type": "stream",
     "text": [
      "IncreaseDecreaseInOperatingLeaseLiability | [mapped.1 (0.81)] Cash Flow Statement > increase decrease in operating lease liability → cash flow > operating activities > changes in other liabilities\n",
      "PropertyPlantAndEquipmentExcludingLessorAssetUnderOperatingLeaseBeforeAccumulatedDepreciation | [mapped.1 (0.84)] Balance Sheet > property plant and equipment excluding lessor asset under operating lease before accumulated depreciation → balance sheet > assets > property > plant > equipment\n",
      "AssetAcquisitionContingentConsiderationLiabilityCurrent | [mapped.1 (0.79)] Balance Sheet > asset acquisition contingent consideration liability current → balance sheet > liabilities > other current liabilities\n",
      "AssetAcquisitionContingentConsiderationLiabilityNoncurrent | [mapped.1 (0.77)] Balance Sheet > asset acquisition contingent consideration liability noncurrent → balance sheet > liabilities > other current liabilities\n"
     ]
    },
    {
     "name": "stderr",
     "output_type": "stream",
     "text": [
      "Processing rows: 2691it [02:10, 17.98it/s]"
     ]
    },
    {
     "name": "stdout",
     "output_type": "stream",
     "text": [
      "AssetAcquisitionContingentConsiderationLiability | [mapped.1 (0.77)] Balance Sheet > asset acquisition contingent consideration liability → balance sheet > liabilities > minority interest\n",
      "FinancingReceivableExcludingAccruedInterestBeforeAllowanceForCreditLoss | [mapped.1 (0.73)] Balance Sheet > financing receivable excluding accrued interest before allowance for credit loss → balance sheet > assets > allowance for doubtful accounts\n",
      "FinancingReceivableExcludingAccruedInterestBeforeAllowanceForCreditLossCurrent | [mapped.1 (0.73)] Balance Sheet > financing receivable excluding accrued interest before allowance for credit loss current → balance sheet > assets > restricted cash - current\n",
      "FinancingReceivableExcludingAccruedInterestBeforeAllowanceForCreditLossNoncurrent | [mapped.1 (0.72)] Balance Sheet > financing receivable excluding accrued interest before allowance for credit loss noncurrent → balance sheet > assets > allowance for doubtful accounts\n"
     ]
    },
    {
     "name": "stderr",
     "output_type": "stream",
     "text": [
      "Processing rows: 2695it [02:11, 17.66it/s]"
     ]
    },
    {
     "name": "stdout",
     "output_type": "stream",
     "text": [
      "DebtSecuritiesHeldToMaturityExcludingAccruedInterestBeforeAllowanceForCreditLoss | [mapped.1 (0.72)] Balance Sheet > debt securities held to maturity excluding accrued interest before allowance for credit loss → balance sheet > assets > restricted cash - long term\n",
      "DebtSecuritiesHeldToMaturityExcludingAccruedInterestBeforeAllowanceForCreditLossCurrent | [mapped.1 (0.75)] Balance Sheet > debt securities held to maturity excluding accrued interest before allowance for credit loss current → balance sheet > assets > restricted cash - current\n",
      "DebtSecuritiesHeldToMaturityExcludingAccruedInterestBeforeAllowanceForCreditLossNoncurrent | [mapped.1 (0.74)] Balance Sheet > debt securities held to maturity excluding accrued interest before allowance for credit loss noncurrent → balance sheet > assets > restricted cash - current\n",
      "NetInvestmentInLeaseExcludingAccruedInterestBeforeAllowanceForCreditLoss | [mapped.1 (0.75)] Balance Sheet > net investment in lease excluding accrued interest before allowance for credit loss → balance sheet > assets > allowance for doubtful accounts\n"
     ]
    },
    {
     "name": "stderr",
     "output_type": "stream",
     "text": [
      "Processing rows: 2699it [02:11, 17.45it/s]"
     ]
    },
    {
     "name": "stdout",
     "output_type": "stream",
     "text": [
      "NetInvestmentInLeaseExcludingAccruedInterestBeforeAllowanceForCreditLossCurrent | [mapped.1 (0.75)] Balance Sheet > net investment in lease excluding accrued interest before allowance for credit loss current → balance sheet > assets > restricted cash - current\n",
      "NetInvestmentInLeaseExcludingAccruedInterestBeforeAllowanceForCreditLossNoncurrent | [mapped.1 (0.74)] Balance Sheet > net investment in lease excluding accrued interest before allowance for credit loss noncurrent → balance sheet > assets > allowance for doubtful accounts\n",
      "SalesTypeLeaseNetInvestmentInLeaseExcludingAccruedInterestBeforeAllowanceForCreditLoss | [mapped.1 (0.71)] Balance Sheet > sales type lease net investment in lease excluding accrued interest before allowance for credit loss → balance sheet > assets > accumulated depreciation\n",
      "SalesTypeLeaseNetInvestmentInLeaseExcludingAccruedInterestBeforeAllowanceForCreditLossCurrent | [mapped.1 (0.72)] Balance Sheet > sales type lease net investment in lease excluding accrued interest before allowance for credit loss current → balance sheet > assets > restricted cash - current\n"
     ]
    },
    {
     "name": "stderr",
     "output_type": "stream",
     "text": [
      "Processing rows: 2701it [02:11, 17.15it/s]"
     ]
    },
    {
     "name": "stdout",
     "output_type": "stream",
     "text": [
      "SalesTypeLeaseNetInvestmentInLeaseExcludingAccruedInterestBeforeAllowanceForCreditLossNoncurrent | [mapped.1 (0.72)] Balance Sheet > sales type lease net investment in lease excluding accrued interest before allowance for credit loss noncurrent → balance sheet > assets > restricted cash - current\n",
      "DirectFinancingLeaseNetInvestmentInLeaseExcludingAccruedInterestBeforeAllowanceForCreditLoss | [unmapped] Balance Sheet > direct financing lease net investment in lease excluding accrued interest before allowance for credit loss\n",
      "DirectFinancingLeaseNetInvestmentInLeaseExcludingAccruedInterestBeforeAllowanceForCreditLoss | [mapped.2 (0.73)] Balance Sheet > StatementTable > StatementLineItems > DirectFinancingLeaseNetInvestmentInLeaseExcludingAccruedInterestBeforeAllowanceForCreditLoss → balance sheet > assets > restricted cash - current\n"
     ]
    },
    {
     "name": "stderr",
     "output_type": "stream",
     "text": [
      "Processing rows: 2705it [02:11, 14.59it/s]"
     ]
    },
    {
     "name": "stdout",
     "output_type": "stream",
     "text": [
      "DirectFinancingLeaseNetInvestmentInLeaseExcludingAccruedInterestBeforeAllowanceForCreditLossCurrent | [mapped.1 (0.71)] Balance Sheet > direct financing lease net investment in lease excluding accrued interest before allowance for credit loss current → balance sheet > assets > restricted cash - current\n",
      "DirectFinancingLeaseNetInvestmentInLeaseExcludingAccruedInterestBeforeAllowanceForCreditLossNoncurrent | [mapped.1 (0.71)] Balance Sheet > direct financing lease net investment in lease excluding accrued interest before allowance for credit loss noncurrent → balance sheet > assets > restricted cash - current\n",
      "DebtSecuritiesAvailableForSaleAmortizedCostExcludingAccruedInterestBeforeAllowanceForCreditLoss | [mapped.1 (0.71)] Balance Sheet > debt securities available for sale amortized cost excluding accrued interest before allowance for credit loss → balance sheet > shareholders' equity > redeemable preferred stock\n",
      "DebtSecuritiesAvailableForSaleAmortizedCostExcludingAccruedInterestBeforeAllowanceForCreditLossCurrent | [mapped.1 (0.73)] Balance Sheet > debt securities available for sale amortized cost excluding accrued interest before allowance for credit loss current → balance sheet > assets > other current assets\n"
     ]
    },
    {
     "name": "stderr",
     "output_type": "stream",
     "text": [
      "Processing rows: 2709it [02:12, 15.67it/s]"
     ]
    },
    {
     "name": "stdout",
     "output_type": "stream",
     "text": [
      "DebtSecuritiesAvailableForSaleAmortizedCostExcludingAccruedInterestBeforeAllowanceForCreditLossNoncurrent | [mapped.1 (0.72)] Balance Sheet > debt securities available for sale amortized cost excluding accrued interest before allowance for credit loss noncurrent → balance sheet > assets > restricted cash - current\n",
      "FinancingReceivableAllowanceForCreditLossExcludingAccruedInterest | [mapped.1 (0.70)] Balance Sheet > financing receivable allowance for credit loss excluding accrued interest → balance sheet > shareholders' equity > retained earnings (accumulated deficit)\n",
      "FinancingReceivableAllowanceForCreditLossExcludingAccruedInterestCurrent | [mapped.1 (0.71)] Balance Sheet > financing receivable allowance for credit loss excluding accrued interest current → balance sheet > shareholders' equity > retained earnings (accumulated deficit)\n",
      "FinancingReceivableAllowanceForCreditLossExcludingAccruedInterestNoncurrent | [unmapped] Balance Sheet > financing receivable allowance for credit loss excluding accrued interest noncurrent\n"
     ]
    },
    {
     "name": "stderr",
     "output_type": "stream",
     "text": [
      "Processing rows: 2713it [02:12, 14.70it/s]"
     ]
    },
    {
     "name": "stdout",
     "output_type": "stream",
     "text": [
      "FinancingReceivableAllowanceForCreditLossExcludingAccruedInterestNoncurrent | [mapped.2 (0.72)] Balance Sheet > StatementTable > StatementLineItems > FinancingReceivableAllowanceForCreditLossExcludingAccruedInterestNoncurrent → balance sheet > shareholders' equity > redeemable preferred stock\n",
      "DebtSecuritiesHeldToMaturityAllowanceForCreditLossExcludingAccruedInterest | [mapped.1 (0.72)] Balance Sheet > debt securities held to maturity allowance for credit loss excluding accrued interest → balance sheet > shareholders' equity > retained earnings (accumulated deficit)\n",
      "DebtSecuritiesHeldToMaturityAllowanceForCreditLossExcludingAccruedInterestCurrent | [mapped.1 (0.72)] Balance Sheet > debt securities held to maturity allowance for credit loss excluding accrued interest current → balance sheet > shareholders' equity > retained earnings (accumulated deficit)\n",
      "DebtSecuritiesHeldToMaturityAllowanceForCreditLossExcludingAccruedInterestNoncurrent | [mapped.1 (0.71)] Balance Sheet > debt securities held to maturity allowance for credit loss excluding accrued interest noncurrent → balance sheet > shareholders' equity > retained earnings (accumulated deficit)\n"
     ]
    },
    {
     "name": "stderr",
     "output_type": "stream",
     "text": [
      "Processing rows: 2715it [02:12, 15.26it/s]"
     ]
    },
    {
     "name": "stdout",
     "output_type": "stream",
     "text": [
      "NetInvestmentInLeaseAllowanceForCreditLossExcludingAccruedInterest | [mapped.1 (0.71)] Balance Sheet > net investment in lease allowance for credit loss excluding accrued interest → balance sheet > shareholders' equity > retained earnings (accumulated deficit)\n",
      "NetInvestmentInLeaseAllowanceForCreditLossExcludingAccruedInterestCurrent | [mapped.1 (0.72)] Balance Sheet > net investment in lease allowance for credit loss excluding accrued interest current → balance sheet > shareholders' equity > retained earnings (accumulated deficit)\n",
      "NetInvestmentInLeaseAllowanceForCreditLossExcludingAccruedInterestNoncurrent | [mapped.1 (0.71)] Balance Sheet > net investment in lease allowance for credit loss excluding accrued interest noncurrent → balance sheet > shareholders' equity > retained earnings (accumulated deficit)\n",
      "SalesTypeLeaseNetInvestmentInLeaseAllowanceForCreditLossExcludingAccruedInterest | [unmapped] Balance Sheet > sales type lease net investment in lease allowance for credit loss excluding accrued interest\n"
     ]
    },
    {
     "name": "stderr",
     "output_type": "stream",
     "text": [
      "Processing rows: 2717it [02:12, 12.80it/s]"
     ]
    },
    {
     "name": "stdout",
     "output_type": "stream",
     "text": [
      "SalesTypeLeaseNetInvestmentInLeaseAllowanceForCreditLossExcludingAccruedInterest | [mapped.2 (0.73)] Balance Sheet > StatementTable > StatementLineItems > SalesTypeLeaseNetInvestmentInLeaseAllowanceForCreditLossExcludingAccruedInterest → balance sheet > shareholders' equity > retained earnings (accumulated deficit)\n",
      "SalesTypeLeaseNetInvestmentInLeaseAllowanceForCreditLossExcludingAccruedInterestCurrent | [unmapped] Balance Sheet > sales type lease net investment in lease allowance for credit loss excluding accrued interest current\n",
      "SalesTypeLeaseNetInvestmentInLeaseAllowanceForCreditLossExcludingAccruedInterestCurrent | [mapped.2 (0.73)] Balance Sheet > StatementTable > StatementLineItems > SalesTypeLeaseNetInvestmentInLeaseAllowanceForCreditLossExcludingAccruedInterestCurrent → balance sheet > shareholders' equity > retained earnings (accumulated deficit)\n"
     ]
    },
    {
     "name": "stderr",
     "output_type": "stream",
     "text": [
      "Processing rows: 2719it [02:12, 10.23it/s]"
     ]
    },
    {
     "name": "stdout",
     "output_type": "stream",
     "text": [
      "SalesTypeLeaseNetInvestmentInLeaseAllowanceForCreditLossExcludingAccruedInterestNoncurrent | [unmapped] Balance Sheet > sales type lease net investment in lease allowance for credit loss excluding accrued interest noncurrent\n",
      "SalesTypeLeaseNetInvestmentInLeaseAllowanceForCreditLossExcludingAccruedInterestNoncurrent | [mapped.2 (0.73)] Balance Sheet > StatementTable > StatementLineItems > SalesTypeLeaseNetInvestmentInLeaseAllowanceForCreditLossExcludingAccruedInterestNoncurrent → balance sheet > shareholders' equity > retained earnings (accumulated deficit)\n",
      "DirectFinancingLeaseNetInvestmentInLeaseAllowanceForCreditLossExcludingAccruedInterest | [unmapped] Balance Sheet > direct financing lease net investment in lease allowance for credit loss excluding accrued interest\n"
     ]
    },
    {
     "name": "stderr",
     "output_type": "stream",
     "text": [
      "Processing rows: 2721it [02:13,  8.60it/s]"
     ]
    },
    {
     "name": "stdout",
     "output_type": "stream",
     "text": [
      "DirectFinancingLeaseNetInvestmentInLeaseAllowanceForCreditLossExcludingAccruedInterest | [mapped.2 (0.70)] Balance Sheet > StatementTable > StatementLineItems > DirectFinancingLeaseNetInvestmentInLeaseAllowanceForCreditLossExcludingAccruedInterest → balance sheet > shareholders' equity > accumulated other comprehensive income\n",
      "DirectFinancingLeaseNetInvestmentInLeaseAllowanceForCreditLossExcludingAccruedInterestCurrent | [unmapped] Balance Sheet > direct financing lease net investment in lease allowance for credit loss excluding accrued interest current\n",
      "DirectFinancingLeaseNetInvestmentInLeaseAllowanceForCreditLossExcludingAccruedInterestCurrent | [mapped.2 (0.71)] Balance Sheet > StatementTable > StatementLineItems > DirectFinancingLeaseNetInvestmentInLeaseAllowanceForCreditLossExcludingAccruedInterestCurrent → balance sheet > shareholders' equity > retained earnings (accumulated deficit)\n"
     ]
    },
    {
     "name": "stderr",
     "output_type": "stream",
     "text": [
      "Processing rows: 2723it [02:13,  8.72it/s]"
     ]
    },
    {
     "name": "stdout",
     "output_type": "stream",
     "text": [
      "DirectFinancingLeaseNetInvestmentInLeaseAllowanceForCreditLossExcludingAccruedInterestNoncurrent | [unmapped] Balance Sheet > direct financing lease net investment in lease allowance for credit loss excluding accrued interest noncurrent\n",
      "DirectFinancingLeaseNetInvestmentInLeaseAllowanceForCreditLossExcludingAccruedInterestNoncurrent | [mapped.2 (0.70)] Balance Sheet > StatementTable > StatementLineItems > DirectFinancingLeaseNetInvestmentInLeaseAllowanceForCreditLossExcludingAccruedInterestNoncurrent → balance sheet > shareholders' equity > retained earnings (accumulated deficit)\n",
      "DebtSecuritiesAvailableForSaleAmortizedCostAllowanceForCreditLossExcludingAccruedInterest | [mapped.1 (0.71)] Balance Sheet > debt securities available for sale amortized cost allowance for credit loss excluding accrued interest → balance sheet > shareholders' equity > redeemable preferred stock\n"
     ]
    },
    {
     "name": "stderr",
     "output_type": "stream",
     "text": [
      "Processing rows: 2728it [02:13, 12.97it/s]"
     ]
    },
    {
     "name": "stdout",
     "output_type": "stream",
     "text": [
      "DebtSecuritiesAvailableForSaleAmortizedCostAllowanceForCreditLossExcludingAccruedInterestCurrent | [mapped.1 (0.71)] Balance Sheet > debt securities available for sale amortized cost allowance for credit loss excluding accrued interest current → balance sheet > shareholders' equity > redeemable preferred stock\n",
      "DebtSecuritiesAvailableForSaleAmortizedCostAllowanceForCreditLossExcludingAccruedInterestNoncurrent | [mapped.1 (0.71)] Balance Sheet > debt securities available for sale amortized cost allowance for credit loss excluding accrued interest noncurrent → balance sheet > shareholders' equity > treasury stock\n",
      "PaymentsToAcquireEquitySecuritiesFvNi | [mapped.1 (0.77)] Cash Flow Statement > payments to acquire equity securities fv ni → cash flow > investing activities > acquisitions\n",
      "ProceedsFromSaleOfEquitySecuritiesFvNi | [mapped.1 (0.81)] Cash Flow Statement > proceeds from sale of equity securities fv ni → cash flow > investing activities > proceeds from sale > maturity of investments\n",
      "AdjustmentToAdditionalPaidInCapitalConvertibleDebtInstrumentIssuedAtSubstantialPremium | [mapped.1 (0.89)] Equity Statement > adjustment to additional paid in capital convertible debt instrument issued at substantial premium → equity statement > convertible instrument adjustments\n"
     ]
    },
    {
     "name": "stderr",
     "output_type": "stream",
     "text": [
      "Processing rows: 2732it [02:13, 14.76it/s]"
     ]
    },
    {
     "name": "stdout",
     "output_type": "stream",
     "text": [
      "AccountsReceivableExcludingAccruedInterestBeforeAllowanceForCreditLossNoncurrent | [mapped.1 (0.75)] Balance Sheet > accounts receivable excluding accrued interest before allowance for credit loss noncurrent → balance sheet > assets > allowance for doubtful accounts\n",
      "AccountsReceivableAllowanceForCreditLossExcludingAccruedInterestNoncurrent | [mapped.1 (0.71)] Balance Sheet > accounts receivable allowance for credit loss excluding accrued interest noncurrent → balance sheet > shareholders' equity > retained earnings (accumulated deficit)\n",
      "FinancingReceivableExcludingAccruedInterestAfterAllowanceForCreditLoss | [mapped.1 (0.73)] Balance Sheet > financing receivable excluding accrued interest after allowance for credit loss → balance sheet > assets > allowance for doubtful accounts\n",
      "AccountsReceivableExcludingAccruedInterestAfterAllowanceForCreditLossNoncurrent | [mapped.1 (0.75)] Balance Sheet > accounts receivable excluding accrued interest after allowance for credit loss noncurrent → balance sheet > assets > allowance for doubtful accounts\n"
     ]
    },
    {
     "name": "stderr",
     "output_type": "stream",
     "text": [
      "Processing rows: 2734it [02:14, 15.25it/s]"
     ]
    },
    {
     "name": "stdout",
     "output_type": "stream",
     "text": [
      "DebtSecuritiesHeldToMaturityExcludingAccruedInterestAfterAllowanceForCreditLoss | [mapped.1 (0.72)] Balance Sheet > debt securities held to maturity excluding accrued interest after allowance for credit loss → balance sheet > shareholders' equity > retained earnings (accumulated deficit)\n",
      "SalesTypeLeaseNetInvestmentInLeaseExcludingAccruedInterestAfterAllowanceForCreditLoss | [mapped.1 (0.71)] Balance Sheet > sales type lease net investment in lease excluding accrued interest after allowance for credit loss → balance sheet > assets > allowance for doubtful accounts\n",
      "DirectFinancingLeaseNetInvestmentInLeaseExcludingAccruedInterestAfterAllowanceForCreditLoss | [unmapped] Balance Sheet > direct financing lease net investment in lease excluding accrued interest after allowance for credit loss\n",
      "DirectFinancingLeaseNetInvestmentInLeaseExcludingAccruedInterestAfterAllowanceForCreditLoss | [mapped.2 (0.72)] Balance Sheet > StatementTable > StatementLineItems > DirectFinancingLeaseNetInvestmentInLeaseExcludingAccruedInterestAfterAllowanceForCreditLoss → balance sheet > assets > restricted cash - current\n"
     ]
    },
    {
     "name": "stderr",
     "output_type": "stream",
     "text": [
      "Processing rows: 2738it [02:14, 14.47it/s]"
     ]
    },
    {
     "name": "stdout",
     "output_type": "stream",
     "text": [
      "NetInvestmentInLeaseExcludingAccruedInterestAfterAllowanceForCreditLoss | [mapped.1 (0.75)] Balance Sheet > net investment in lease excluding accrued interest after allowance for credit loss → balance sheet > assets > allowance for doubtful accounts\n",
      "DebtSecuritiesAvailableForSaleAmortizedCostExcludingAccruedInterestAfterAllowanceForCreditLoss | [mapped.1 (0.71)] Balance Sheet > debt securities available for sale amortized cost excluding accrued interest after allowance for credit loss → balance sheet > shareholders' equity > retained earnings (accumulated deficit)\n",
      "DebtSecuritiesAvailableForSaleExcludingAccruedInterest | [mapped.1 (0.73)] Balance Sheet > debt securities available for sale excluding accrued interest → balance sheet > shareholders' equity > treasury stock\n",
      "DebtSecuritiesAvailableForSaleExcludingAccruedInterestCurrent | [mapped.1 (0.76)] Balance Sheet > debt securities available for sale excluding accrued interest current → balance sheet > assets > restricted cash - current\n"
     ]
    },
    {
     "name": "stderr",
     "output_type": "stream",
     "text": [
      "Processing rows: 2742it [02:14, 15.48it/s]"
     ]
    },
    {
     "name": "stdout",
     "output_type": "stream",
     "text": [
      "DebtSecuritiesAvailableForSaleExcludingAccruedInterestNoncurrent | [mapped.1 (0.75)] Balance Sheet > debt securities available for sale excluding accrued interest noncurrent → balance sheet > assets > restricted cash - current\n",
      "FinancingReceivableExcludingAccruedInterestAfterAllowanceForCreditLossCurrent | [mapped.1 (0.72)] Balance Sheet > financing receivable excluding accrued interest after allowance for credit loss current → balance sheet > assets > allowance for doubtful accounts\n",
      "DebtSecuritiesHeldToMaturityExcludingAccruedInterestAfterAllowanceForCreditLossCurrent | [mapped.1 (0.74)] Balance Sheet > debt securities held to maturity excluding accrued interest after allowance for credit loss current → balance sheet > assets > restricted cash - current\n",
      "SalesTypeLeaseNetInvestmentInLeaseExcludingAccruedInterestAfterAllowanceForCreditLossCurrent | [mapped.1 (0.72)] Balance Sheet > sales type lease net investment in lease excluding accrued interest after allowance for credit loss current → balance sheet > assets > restricted cash - current\n"
     ]
    },
    {
     "name": "stderr",
     "output_type": "stream",
     "text": [
      "Processing rows: 2746it [02:14, 16.13it/s]"
     ]
    },
    {
     "name": "stdout",
     "output_type": "stream",
     "text": [
      "DirectFinancingLeaseNetInvestmentInLeaseExcludingAccruedInterestAfterAllowanceForCreditLossCurrent | [mapped.1 (0.71)] Balance Sheet > direct financing lease net investment in lease excluding accrued interest after allowance for credit loss current → balance sheet > assets > restricted cash - current\n",
      "NetInvestmentInLeaseExcludingAccruedInterestAfterAllowanceForCreditLossCurrent | [mapped.1 (0.74)] Balance Sheet > net investment in lease excluding accrued interest after allowance for credit loss current → balance sheet > assets > allowance for doubtful accounts\n",
      "DebtSecuritiesAvailableForSaleAmortizedCostExcludingAccruedInterestAfterAllowanceForCreditLossCurrent | [mapped.1 (0.73)] Balance Sheet > debt securities available for sale amortized cost excluding accrued interest after allowance for credit loss current → balance sheet > assets > other current assets\n",
      "FinancingReceivableExcludingAccruedInterestAfterAllowanceForCreditLossNoncurrent | [mapped.1 (0.72)] Balance Sheet > financing receivable excluding accrued interest after allowance for credit loss noncurrent → balance sheet > assets > allowance for doubtful accounts\n"
     ]
    },
    {
     "name": "stderr",
     "output_type": "stream",
     "text": [
      "Processing rows: 2750it [02:15, 16.52it/s]"
     ]
    },
    {
     "name": "stdout",
     "output_type": "stream",
     "text": [
      "DebtSecuritiesHeldToMaturityExcludingAccruedInterestAfterAllowanceForCreditLossNoncurrent | [mapped.1 (0.73)] Balance Sheet > debt securities held to maturity excluding accrued interest after allowance for credit loss noncurrent → balance sheet > assets > restricted cash - current\n",
      "SalesTypeLeaseNetInvestmentInLeaseExcludingAccruedInterestAfterAllowanceForCreditLossNoncurrent | [mapped.1 (0.71)] Balance Sheet > sales type lease net investment in lease excluding accrued interest after allowance for credit loss noncurrent → balance sheet > assets > restricted cash - current\n",
      "DirectFinancingLeaseNetInvestmentInLeaseExcludingAccruedInterestAfterAllowanceForCreditLossNoncurrent | [mapped.1 (0.71)] Balance Sheet > direct financing lease net investment in lease excluding accrued interest after allowance for credit loss noncurrent → balance sheet > assets > restricted cash - current\n",
      "NetInvestmentInLeaseExcludingAccruedInterestAfterAllowanceForCreditLossNoncurrent | [mapped.1 (0.74)] Balance Sheet > net investment in lease excluding accrued interest after allowance for credit loss noncurrent → balance sheet > assets > allowance for doubtful accounts\n"
     ]
    },
    {
     "name": "stderr",
     "output_type": "stream",
     "text": [
      "Processing rows: 2756it [02:15, 21.07it/s]"
     ]
    },
    {
     "name": "stdout",
     "output_type": "stream",
     "text": [
      "DebtSecuritiesAvailableForSaleAmortizedCostExcludingAccruedInterestAfterAllowanceForCreditLossNoncurrent | [mapped.1 (0.72)] Balance Sheet > debt securities available for sale amortized cost excluding accrued interest after allowance for credit loss noncurrent → balance sheet > assets > other current assets\n",
      "AociCashFlowHedgeReferenceRateReformIncreaseDecreaseBeforeTax | [mapped.1 (0.75)] Equity Statement > aoci cash flow hedge reference rate reform increase decrease before tax → equity statement > convertible instrument adjustments\n",
      "AociCashFlowHedgeReferenceRateReformIncreaseDecreaseAfterTax | [mapped.1 (0.73)] Equity Statement > aoci cash flow hedge reference rate reform increase decrease after tax → equity statement > convertible instrument adjustments\n",
      "EquityClassifiedWrittenCallOptionModificationDecreaseInNetIncomeLossToCommonShareholderAmount | [mapped.1 (0.72)] Income Statement > equity classified written call option modification decrease in net income loss to common shareholder amount → income statement > gain (loss) on sale of assets\n",
      "EquityClassifiedWrittenCallOptionModificationEquityIssuanceIncreaseDecreaseInEquityAmount | [mapped.1 (0.79)] Equity Statement > equity classified written call option modification equity issuance increase decrease in equity amount → equity statement > other equity adjustments\n",
      "EquityClassifiedWrittenCallOptionModificationDebtOriginationIncreaseInEquityAmount | [mapped.1 (0.79)] Equity Statement > equity classified written call option modification debt origination increase in equity amount → equity statement > other equity adjustments\n",
      "EquityClassifiedWrittenCallOptionModificationDebtModificationIncreaseDecreaseInEquityAmount | [mapped.1 (0.77)] Equity Statement > equity classified written call option modification debt modification increase decrease in equity amount → equity statement > other equity adjustments\n"
     ]
    },
    {
     "name": "stderr",
     "output_type": "stream",
     "text": [
      "Processing rows: 2763it [02:15, 23.52it/s]"
     ]
    },
    {
     "name": "stdout",
     "output_type": "stream",
     "text": [
      "EquityClassifiedWrittenCallOptionModificationDividendIncreaseDecreaseInEquityAmount | [mapped.1 (0.79)] Equity Statement > equity classified written call option modification dividend increase decrease in equity amount → equity statement > other equity adjustments\n",
      "WarrantDownRoundFeatureDecreaseInNetIncomeLossToCommonShareholderAmount | [unmapped] Income Statement > warrant down round feature decrease in net income loss to common shareholder amount\n",
      "WarrantDownRoundFeatureDecreaseInNetIncomeLossToCommonShareholderAmount | [mapped.2 (0.72)] Income Statement > WarrantDownRoundFeatureDecreaseInNetIncomeLossToCommonShareholderAmount → income statement > discontinued operations\n",
      "WarrantDownRoundFeatureIncreaseDecreaseInEquityAmount1 | [mapped.1 (0.79)] Equity Statement > warrant down round feature increase decrease in equity amount1 → equity statement > other equity adjustments\n",
      "StockOptionDownRoundFeatureDecreaseInNetIncomeLossToCommonShareholderAmount | [mapped.1 (0.70)] Income Statement > stock option down round feature decrease in net income loss to common shareholder amount → income statement > net income available to common\n",
      "StockOptionDownRoundFeatureIncreaseDecreaseInEquityAmount1 | [mapped.1 (0.79)] Equity Statement > stock option down round feature increase decrease in equity amount1 → equity statement > other equity adjustments\n"
     ]
    },
    {
     "name": "stderr",
     "output_type": "stream",
     "text": [
      "Processing rows: 2766it [02:15, 23.58it/s]"
     ]
    },
    {
     "name": "stdout",
     "output_type": "stream",
     "text": [
      "PreferredStockConvertibleDownRoundFeatureDecreaseInNetIncomeLossToCommonShareholderAmount | [mapped.1 (0.74)] Income Statement > preferred stock convertible down round feature decrease in net income loss to common shareholder amount → income statement > preferred dividends\n",
      "PreferredStockConvertibleDownRoundFeatureIncreaseDecreaseInEquityAmount1 | [mapped.1 (0.81)] Equity Statement > preferred stock convertible down round feature increase decrease in equity amount1 → equity statement > convertible instrument adjustments\n",
      "DebtSecuritiesAvailableForSalePledgedStatusExtensibleEnumeration | [mapped.1 (0.73)] Balance Sheet > debt securities available for sale pledged status extensible enumeration → balance sheet > shareholders' equity > treasury stock\n",
      "DebtSecuritiesAvailableForSalePledgingPurposeExtensibleEnumeration | [mapped.1 (0.72)] Balance Sheet > debt securities available for sale pledging purpose extensible enumeration → balance sheet > shareholders' equity > treasury stock\n",
      "DebtSecuritiesTradingPledgedStatusExtensibleEnumeration | [mapped.1 (0.75)] Balance Sheet > debt securities trading pledged status extensible enumeration → balance sheet > shareholders' equity > treasury stock\n"
     ]
    },
    {
     "name": "stderr",
     "output_type": "stream",
     "text": [
      "Processing rows: 2772it [02:16, 19.65it/s]"
     ]
    },
    {
     "name": "stdout",
     "output_type": "stream",
     "text": [
      "DebtSecuritiesTradingPledgingPurposeExtensibleEnumeration | [mapped.1 (0.73)] Balance Sheet > debt securities trading pledging purpose extensible enumeration → balance sheet > shareholders' equity > treasury stock\n",
      "DebtSecuritiesHeldToMaturityPledgedStatusExtensibleEnumeration | [mapped.1 (0.74)] Balance Sheet > debt securities held to maturity pledged status extensible enumeration → balance sheet > shareholders' equity > treasury stock\n",
      "DebtSecuritiesHeldToMaturityPledgingPurposeExtensibleEnumeration | [mapped.1 (0.73)] Balance Sheet > debt securities held to maturity pledging purpose extensible enumeration → balance sheet > shareholders' equity > redeemable preferred stock\n",
      "DebtSecuritiesPledgedStatusExtensibleEnumeration | [mapped.1 (0.73)] Balance Sheet > debt securities pledged status extensible enumeration → balance sheet > shareholders' equity > treasury stock\n"
     ]
    },
    {
     "name": "stderr",
     "output_type": "stream",
     "text": [
      "Processing rows: 2775it [02:16, 18.83it/s]"
     ]
    },
    {
     "name": "stdout",
     "output_type": "stream",
     "text": [
      "DebtSecuritiesPledgingPurposeExtensibleEnumeration | [mapped.1 (0.72)] Balance Sheet > debt securities pledging purpose extensible enumeration → balance sheet > shareholders' equity > treasury stock\n",
      "CashAndCashEquivalentsPledgedStatusExtensibleEnumeration | [mapped.1 (0.82)] Balance Sheet > cash and cash equivalents pledged status extensible enumeration → balance sheet > assets > cash & equivalents\n",
      "CashAndCashEquivalentsPledgingPurposeExtensibleEnumeration | [mapped.1 (0.81)] Balance Sheet > cash and cash equivalents pledging purpose extensible enumeration → balance sheet > assets > cash & equivalents\n",
      "OtherAssetsPledgingPurposeExtensibleEnumeration | [mapped.1 (0.79)] Balance Sheet > other assets pledging purpose extensible enumeration → balance sheet > assets > other current assets\n"
     ]
    },
    {
     "name": "stderr",
     "output_type": "stream",
     "text": [
      "Processing rows: 2779it [02:16, 17.95it/s]"
     ]
    },
    {
     "name": "stdout",
     "output_type": "stream",
     "text": [
      "AssetsPledgingPurposeExtensibleEnumeration | [mapped.1 (0.79)] Balance Sheet > assets pledging purpose extensible enumeration → balance sheet > assets > intangibles\n",
      "FinancingReceivablePledgedStatusExtensibleEnumeration | [mapped.1 (0.74)] Balance Sheet > financing receivable pledged status extensible enumeration → balance sheet > assets > accounts receivable\n",
      "FinancingReceivablePledgingPurposeExtensibleEnumeration | [mapped.1 (0.73)] Balance Sheet > financing receivable pledging purpose extensible enumeration → balance sheet > assets > accounts receivable\n",
      "LongTermDebtCurrentRecourseStatusExtensibleEnumeration | [mapped.1 (0.82)] Balance Sheet > long term debt current recourse status extensible enumeration → balance sheet > liabilities > current portion of long term debt\n"
     ]
    },
    {
     "name": "stderr",
     "output_type": "stream",
     "text": [
      "Processing rows: 2783it [02:16, 17.57it/s]"
     ]
    },
    {
     "name": "stdout",
     "output_type": "stream",
     "text": [
      "LongTermDebtNoncurrentRecourseStatusExtensibleEnumeration | [mapped.1 (0.80)] Balance Sheet > long term debt noncurrent recourse status extensible enumeration → balance sheet > liabilities > long term debt\n",
      "LongTermDebtRecourseStatusExtensibleEnumeration | [mapped.1 (0.80)] Balance Sheet > long term debt recourse status extensible enumeration → balance sheet > liabilities > long term debt\n",
      "ShortTermDebtRecourseStatusExtensibleEnumeration | [mapped.1 (0.79)] Balance Sheet > short term debt recourse status extensible enumeration → balance sheet > liabilities > notes payable > short term debt\n",
      "GainLossOnExtinguishmentDebtRecourseStatusExtensibleEnumeration | [mapped.1 (0.79)] Income Statement > gain loss on extinguishment debt recourse status extensible enumeration → income statement > gain (loss) on sale of assets\n"
     ]
    },
    {
     "name": "stderr",
     "output_type": "stream",
     "text": [
      "Processing rows: 2788it [02:17, 18.41it/s]"
     ]
    },
    {
     "name": "stdout",
     "output_type": "stream",
     "text": [
      "EquitySecuritiesFvNiPledgedStatusExtensibleEnumeration | [mapped.1 (0.76)] Balance Sheet > equity securities fv ni pledged status extensible enumeration → balance sheet > shareholders' equity > redeemable preferred stock\n",
      "EquitySecuritiesFvNiPledgingPurposeExtensibleEnumeration | [mapped.1 (0.74)] Balance Sheet > equity securities fv ni pledging purpose extensible enumeration → balance sheet > shareholders' equity > redeemable preferred stock\n",
      "GovernmentAssistanceAmount | [mapped.1 (0.78)] Income Statement > government assistance amount → income statement > provision for income taxes\n",
      "GovernmentAssistanceAmountCumulative | [mapped.1 (0.73)] Balance Sheet > government assistance amount cumulative → balance sheet > shareholders' equity > accumulated other comprehensive income\n"
     ]
    },
    {
     "name": "stderr",
     "output_type": "stream",
     "text": [
      "Processing rows: 2794it [02:17, 22.50it/s]"
     ]
    },
    {
     "name": "stdout",
     "output_type": "stream",
     "text": [
      "GovernmentAssistanceAmountCumulativeCurrent | [mapped.1 (0.75)] Balance Sheet > government assistance amount cumulative current → balance sheet > assets > other current assets\n",
      "GovernmentAssistanceAmountCumulativeNoncurrent | [mapped.1 (0.75)] Balance Sheet > government assistance amount cumulative noncurrent → balance sheet > assets > restricted cash - current\n",
      "OciEquityMethodInvestmentBeforeTaxParent | [mapped.1 (0.79)] Comprehensive Income > oci equity method investment before tax parent → comprehensive income > other comprehensive income\n",
      "OciEquityMethodInvestmentTaxParent | [mapped.1 (0.78)] Comprehensive Income > oci equity method investment tax parent → comprehensive income > other comprehensive income\n",
      "OciEquityMethodInvestmentAfterTaxParent | [mapped.1 (0.80)] Comprehensive Income > oci equity method investment after tax parent → comprehensive income > other comprehensive income\n",
      "OciEquityMethodInvestmentBeforeTaxNoncontrollingInterest | [mapped.1 (0.78)] Comprehensive Income > oci equity method investment before tax noncontrolling interest → comprehensive income > other comprehensive income\n",
      "OciEquityMethodInvestmentTaxNoncontrollingInterest | [mapped.1 (0.77)] Comprehensive Income > oci equity method investment tax noncontrolling interest → comprehensive income > other comprehensive income\n"
     ]
    },
    {
     "name": "stderr",
     "output_type": "stream",
     "text": [
      "Processing rows: 2798it [02:17, 26.51it/s]"
     ]
    },
    {
     "name": "stdout",
     "output_type": "stream",
     "text": [
      "OciEquityMethodInvestmentAfterTaxNoncontrollingInterest | [mapped.1 (0.78)] Comprehensive Income > oci equity method investment after tax noncontrolling interest → comprehensive income > other comprehensive income\n",
      "DebtSecuritiesHeldToMaturityTransferToAvailableForSaleAllowanceForCreditLossAccumulatedExpenseReversal | [mapped.1 (0.78)] Equity Statement > debt securities held to maturity transfer to available for sale allowance for credit loss accumulated expense reversal → equity statement > convertible instrument adjustments\n",
      "DebtSecuritiesAvailableForSaleTransferredFromHeldToMaturityAllowanceForCreditLossAccumulatedExpense | [mapped.1 (0.76)] Equity Statement > debt securities available for sale transferred from held to maturity allowance for credit loss accumulated expense → equity statement > treasury stock activity\n",
      "IncentiveFeePayable | [mapped.1 (0.76)] Balance Sheet > incentive fee payable → balance sheet > liabilities > accounts payable\n",
      "IncreaseDecreaseInManagementFeePayable | [mapped.1 (0.76)] Cash Flow Statement > increase decrease in management fee payable → cash flow > operating activities > changes in accounts payable\n"
     ]
    },
    {
     "name": "stderr",
     "output_type": "stream",
     "text": [
      "Processing rows: 2804it [02:17, 22.72it/s]"
     ]
    },
    {
     "name": "stdout",
     "output_type": "stream",
     "text": [
      "IncreaseDecreaseInIncentiveFeePayable | [mapped.1 (0.75)] Cash Flow Statement > increase decrease in incentive fee payable → cash flow > operating activities > changes in accounts payable\n",
      "IncreaseDecreaseInReceivableForInvestmentSold | [mapped.1 (0.77)] Cash Flow Statement > increase decrease in receivable for investment sold → cash flow > investing activities > proceeds from sale > maturity of investments\n",
      "IncreaseDecreaseInPayableForInvestmentPurchased | [mapped.1 (0.80)] Cash Flow Statement > increase decrease in payable for investment purchased → cash flow > investing activities > purchase of investments\n",
      "IncreaseDecreaseInManagementAndIncentiveFeesPayable | [mapped.1 (0.76)] Cash Flow Statement > increase decrease in management and incentive fees payable → cash flow > operating activities > changes in accounts payable\n",
      "CashCashEquivalentsRestrictedCashAndRestrictedCashEquivalentsPeriodIncreaseDecreaseIncludingExchangeRateEffectContinuingOperations | [mapped.1 (0.79)] Cash Flow Statement > cash cash equivalents restricted cash and restricted cash equivalents period increase decrease including exchange rate effect continuing operations → cash flow > foreign exchange effects\n"
     ]
    },
    {
     "name": "stderr",
     "output_type": "stream",
     "text": [
      "Processing rows: 2810it [02:17, 21.47it/s]"
     ]
    },
    {
     "name": "stdout",
     "output_type": "stream",
     "text": [
      "CashCashEquivalentsRestrictedCashAndRestrictedCashEquivalentsPeriodIncreaseDecreaseIncludingExchangeRateEffectDisposalGroupIncludingDiscontinuedOperations | [mapped.1 (0.76)] Cash Flow Statement > cash cash equivalents restricted cash and restricted cash equivalents period increase decrease including exchange rate effect disposal group including discontinued operations → cash flow > foreign exchange effects\n",
      "CashCashEquivalentsRestrictedCashAndRestrictedCashEquivalentsPeriodIncreaseDecreaseExcludingExchangeRateEffectContinuingOperations | [mapped.1 (0.79)] Cash Flow Statement > cash cash equivalents restricted cash and restricted cash equivalents period increase decrease excluding exchange rate effect continuing operations → cash flow > foreign exchange effects\n",
      "CashCashEquivalentsRestrictedCashAndRestrictedCashEquivalentsPeriodIncreaseDecreaseExcludingExchangeRateEffectDisposalGroupIncludingDiscontinuedOperations | [mapped.1 (0.76)] Cash Flow Statement > cash cash equivalents restricted cash and restricted cash equivalents period increase decrease excluding exchange rate effect disposal group including discontinued operations → cash flow > foreign exchange effects\n",
      "OtherLiabilityCurrentRelatedPartyTypeExtensibleEnumeration | [mapped.1 (0.82)] Balance Sheet > other liability current related party type extensible enumeration → balance sheet > assets > receivables - other > related party\n",
      "OtherLiabilityNoncurrentRelatedPartyTypeExtensibleEnumeration | [mapped.1 (0.82)] Balance Sheet > other liability noncurrent related party type extensible enumeration → balance sheet > assets > receivables - other > related party\n"
     ]
    },
    {
     "name": "stderr",
     "output_type": "stream",
     "text": [
      "Processing rows: 2813it [02:18, 20.30it/s]"
     ]
    },
    {
     "name": "stdout",
     "output_type": "stream",
     "text": [
      "OtherLiabilityRelatedPartyTypeExtensibleEnumeration | [mapped.1 (0.81)] Balance Sheet > other liability related party type extensible enumeration → balance sheet > assets > receivables - other > related party\n",
      "OtherLiabilityCurrentRelatedPartyCounterpartyNameExtensibleEnumeration | [mapped.1 (0.80)] Balance Sheet > other liability current related party counterparty name extensible enumeration → balance sheet > assets > receivables - other > related party\n",
      "OtherLiabilityNoncurrentRelatedPartyCounterpartyNameExtensibleEnumeration | [mapped.1 (0.80)] Balance Sheet > other liability noncurrent related party counterparty name extensible enumeration → balance sheet > assets > receivables - other > related party\n",
      "OtherLiabilityRelatedPartyCounterpartyNameExtensibleEnumeration | [mapped.1 (0.79)] Balance Sheet > other liability related party counterparty name extensible enumeration → balance sheet > assets > receivables - other > related party\n"
     ]
    },
    {
     "name": "stderr",
     "output_type": "stream",
     "text": [
      "Processing rows: 2818it [02:18, 18.43it/s]"
     ]
    },
    {
     "name": "stdout",
     "output_type": "stream",
     "text": [
      "AccountsAndFinancingReceivablesAfterAllowanceForCreditLossCurrentRelatedPartyTypeExtensibleEnumeration | [mapped.1 (0.78)] Balance Sheet > accounts and financing receivables after allowance for credit loss current related party type extensible enumeration → balance sheet > assets > receivables - other > related party\n",
      "AccountsAndFinancingReceivablesAfterAllowanceForCreditLossNoncurrentRelatedPartyTypeExtensibleEnumeration | [mapped.1 (0.80)] Balance Sheet > accounts and financing receivables after allowance for credit loss noncurrent related party type extensible enumeration → balance sheet > assets > receivables - other > related party\n",
      "AccountsAndFinancingReceivablesAfterAllowanceForCreditLossRelatedPartyTypeExtensibleEnumeration | [mapped.1 (0.76)] Balance Sheet > accounts and financing receivables after allowance for credit loss related party type extensible enumeration → balance sheet > assets > receivables - other > related party\n",
      "AccountsAndFinancingReceivablesAfterAllowanceForCreditLossCurrentRelatedPartyCounterpartyNameExtensibleEnumeration | [mapped.1 (0.78)] Balance Sheet > accounts and financing receivables after allowance for credit loss current related party counterparty name extensible enumeration → balance sheet > assets > receivables - other > related party\n"
     ]
    },
    {
     "name": "stderr",
     "output_type": "stream",
     "text": [
      "Processing rows: 2822it [02:18, 17.82it/s]"
     ]
    },
    {
     "name": "stdout",
     "output_type": "stream",
     "text": [
      "AccountsAndFinancingReceivablesAfterAllowanceForCreditLossNoncurrentRelatedPartyCounterpartyNameExtensibleEnumeration | [mapped.1 (0.78)] Balance Sheet > accounts and financing receivables after allowance for credit loss noncurrent related party counterparty name extensible enumeration → balance sheet > assets > receivables - other > related party\n",
      "AccountsAndFinancingReceivablesAfterAllowanceForCreditLossRelatedPartyCounterpartyNameExtensibleEnumeration | [mapped.1 (0.76)] Balance Sheet > accounts and financing receivables after allowance for credit loss related party counterparty name extensible enumeration → balance sheet > assets > receivables - other > related party\n",
      "AccountsReceivableAfterAllowanceForCreditLossCurrentRelatedPartyTypeExtensibleEnumeration | [mapped.1 (0.79)] Balance Sheet > accounts receivable after allowance for credit loss current related party type extensible enumeration → balance sheet > assets > receivables - other > related party\n",
      "AccountsReceivableAfterAllowanceForCreditLossNoncurrentRelatedPartyTypeExtensibleEnumeration | [mapped.1 (0.80)] Balance Sheet > accounts receivable after allowance for credit loss noncurrent related party type extensible enumeration → balance sheet > assets > receivables - other > related party\n"
     ]
    },
    {
     "name": "stderr",
     "output_type": "stream",
     "text": [
      "Processing rows: 2826it [02:18, 17.28it/s]"
     ]
    },
    {
     "name": "stdout",
     "output_type": "stream",
     "text": [
      "AccountsReceivableAfterAllowanceForCreditLossRelatedPartyTypeExtensibleEnumeration | [mapped.1 (0.77)] Balance Sheet > accounts receivable after allowance for credit loss related party type extensible enumeration → balance sheet > assets > receivables - other > related party\n",
      "AccountsReceivableAfterAllowanceForCreditLossCurrentRelatedPartyCounterpartyNameExtensibleEnumeration | [mapped.1 (0.78)] Balance Sheet > accounts receivable after allowance for credit loss current related party counterparty name extensible enumeration → balance sheet > assets > receivables - other > related party\n",
      "AccountsReceivableAfterAllowanceForCreditLossNoncurrentRelatedPartyCounterpartyNameExtensibleEnumeration | [mapped.1 (0.79)] Balance Sheet > accounts receivable after allowance for credit loss noncurrent related party counterparty name extensible enumeration → balance sheet > assets > receivables - other > related party\n",
      "AccountsReceivableAfterAllowanceForCreditLossRelatedPartyCounterpartyNameExtensibleEnumeration | [mapped.1 (0.78)] Balance Sheet > accounts receivable after allowance for credit loss related party counterparty name extensible enumeration → balance sheet > assets > receivables - other > related party\n"
     ]
    },
    {
     "name": "stderr",
     "output_type": "stream",
     "text": [
      "Processing rows: 2830it [02:19, 17.06it/s]"
     ]
    },
    {
     "name": "stdout",
     "output_type": "stream",
     "text": [
      "FinancingReceivableAfterAllowanceForCreditLossCurrentRelatedPartyTypeExtensibleEnumeration | [mapped.1 (0.77)] Balance Sheet > financing receivable after allowance for credit loss current related party type extensible enumeration → balance sheet > assets > receivables - other > related party\n",
      "FinancingReceivableAfterAllowanceForCreditLossNoncurrentRelatedPartyTypeExtensibleEnumeration | [mapped.1 (0.78)] Balance Sheet > financing receivable after allowance for credit loss noncurrent related party type extensible enumeration → balance sheet > assets > receivables - other > related party\n",
      "FinancingReceivableAfterAllowanceForCreditLossRelatedPartyTypeExtensibleEnumeration | [mapped.1 (0.75)] Balance Sheet > financing receivable after allowance for credit loss related party type extensible enumeration → balance sheet > assets > receivables - other > related party\n",
      "FinancingReceivableAfterAllowanceForCreditLossCurrentRelatedPartyCounterpartyNameExtensibleEnumeration | [mapped.1 (0.75)] Balance Sheet > financing receivable after allowance for credit loss current related party counterparty name extensible enumeration → balance sheet > assets > receivables - other > related party\n"
     ]
    },
    {
     "name": "stderr",
     "output_type": "stream",
     "text": [
      "Processing rows: 2834it [02:19, 17.05it/s]"
     ]
    },
    {
     "name": "stdout",
     "output_type": "stream",
     "text": [
      "FinancingReceivableAfterAllowanceForCreditLossNoncurrentRelatedPartyCounterpartyNameExtensibleEnumeration | [mapped.1 (0.76)] Balance Sheet > financing receivable after allowance for credit loss noncurrent related party counterparty name extensible enumeration → balance sheet > assets > receivables - other > related party\n",
      "FinancingReceivableAfterAllowanceForCreditLossRelatedPartyCounterpartyNameExtensibleEnumeration | [mapped.1 (0.75)] Balance Sheet > financing receivable after allowance for credit loss related party counterparty name extensible enumeration → balance sheet > assets > receivables - other > related party\n",
      "AccountsPayableCurrentRelatedPartyTypeExtensibleEnumeration | [mapped.1 (0.79)] Balance Sheet > accounts payable current related party type extensible enumeration → balance sheet > assets > receivables - other > related party\n",
      "AccountsPayableNoncurrentRelatedPartyTypeExtensibleEnumeration | [mapped.1 (0.81)] Balance Sheet > accounts payable noncurrent related party type extensible enumeration → balance sheet > assets > receivables - other > related party\n"
     ]
    },
    {
     "name": "stderr",
     "output_type": "stream",
     "text": [
      "Processing rows: 2838it [02:19, 16.91it/s]"
     ]
    },
    {
     "name": "stdout",
     "output_type": "stream",
     "text": [
      "AccountsPayableRelatedPartyTypeExtensibleEnumeration | [mapped.1 (0.80)] Balance Sheet > accounts payable related party type extensible enumeration → balance sheet > assets > receivables - other > related party\n",
      "AccountsPayableCurrentRelatedPartyCounterpartyNameExtensibleEnumeration | [mapped.1 (0.78)] Balance Sheet > accounts payable current related party counterparty name extensible enumeration → balance sheet > assets > receivables - other > related party\n",
      "AccountsPayableNoncurrentRelatedPartyCounterpartyNameExtensibleEnumeration | [mapped.1 (0.79)] Balance Sheet > accounts payable noncurrent related party counterparty name extensible enumeration → balance sheet > assets > receivables - other > related party\n",
      "AccountsPayableRelatedPartyCounterpartyNameExtensibleEnumeration | [mapped.1 (0.78)] Balance Sheet > accounts payable related party counterparty name extensible enumeration → balance sheet > assets > receivables - other > related party\n"
     ]
    },
    {
     "name": "stderr",
     "output_type": "stream",
     "text": [
      "Processing rows: 2842it [02:19, 17.01it/s]"
     ]
    },
    {
     "name": "stdout",
     "output_type": "stream",
     "text": [
      "NotesPayableCurrentRelatedPartyTypeExtensibleEnumeration | [mapped.1 (0.79)] Balance Sheet > notes payable current related party type extensible enumeration → balance sheet > assets > notes receivable - current\n",
      "NotesPayableNoncurrentRelatedPartyTypeExtensibleEnumeration | [mapped.1 (0.80)] Balance Sheet > notes payable noncurrent related party type extensible enumeration → balance sheet > assets > receivables - other > related party\n",
      "NotesPayableRelatedPartyTypeExtensibleEnumeration | [mapped.1 (0.79)] Balance Sheet > notes payable related party type extensible enumeration → balance sheet > assets > receivables - other > related party\n",
      "NotesPayableCurrentRelatedPartyCounterpartyNameExtensibleEnumeration | [mapped.1 (0.78)] Balance Sheet > notes payable current related party counterparty name extensible enumeration → balance sheet > assets > receivables - other > related party\n"
     ]
    },
    {
     "name": "stderr",
     "output_type": "stream",
     "text": [
      "Processing rows: 2847it [02:20, 19.28it/s]"
     ]
    },
    {
     "name": "stdout",
     "output_type": "stream",
     "text": [
      "NotesPayableNoncurrentRelatedPartyCounterpartyNameExtensibleEnumeration | [mapped.1 (0.78)] Balance Sheet > notes payable noncurrent related party counterparty name extensible enumeration → balance sheet > assets > receivables - other > related party\n",
      "NotesPayableRelatedPartyCounterpartyNameExtensibleEnumeration | [mapped.1 (0.77)] Balance Sheet > notes payable related party counterparty name extensible enumeration → balance sheet > assets > receivables - other > related party\n",
      "RevenueRelatedPartyTypeExtensibleEnumeration | [mapped.1 (0.74)] Income Statement > revenue related party type extensible enumeration → income statement > net income available to common\n",
      "RevenueRelatedPartyCounterpartyNameExtensibleEnumeration | [mapped.1 (0.73)] Income Statement > revenue related party counterparty name extensible enumeration → income statement > equity in affiliates\n",
      "CostOfRevenueRelatedPartyTypeExtensibleEnumeration | [mapped.1 (0.81)] Income Statement > cost of revenue related party type extensible enumeration → income statement > cost of revenue\n"
     ]
    },
    {
     "name": "stderr",
     "output_type": "stream",
     "text": [
      "Processing rows: 2853it [02:20, 22.66it/s]"
     ]
    },
    {
     "name": "stdout",
     "output_type": "stream",
     "text": [
      "CostOfRevenueRelatedPartyCounterpartyNameExtensibleEnumeration | [mapped.1 (0.79)] Income Statement > cost of revenue related party counterparty name extensible enumeration → income statement > cost of revenue\n",
      "OperatingCostAndExpenseRelatedPartyTypeExtensibleEnumeration | [mapped.1 (0.81)] Income Statement > operating cost and expense related party type extensible enumeration → income statement > other operating expenses\n",
      "OperatingCostAndExpenseRelatedPartyCounterpartyNameExtensibleEnumeration | [mapped.1 (0.79)] Income Statement > operating cost and expense related party counterparty name extensible enumeration → income statement > other operating expenses\n",
      "SellingGeneralAndAdministrativeExpensesRelatedPartyTypeExtensibleEnumeration | [mapped.1 (0.84)] Income Statement > selling general and administrative expenses related party type extensible enumeration → income statement > selling > general > admin expenses\n",
      "SellingGeneralAndAdministrativeExpensesRelatedPartyCounterpartyNameExtensibleEnumeration | [mapped.1 (0.84)] Income Statement > selling general and administrative expenses related party counterparty name extensible enumeration → income statement > selling > general > admin expenses\n",
      "OtherOperatingIncomeRelatedPartyTypeExtensibleEnumeration | [mapped.1 (0.79)] Income Statement > other operating income related party type extensible enumeration → income statement > other operating expenses\n"
     ]
    },
    {
     "name": "stderr",
     "output_type": "stream",
     "text": [
      "Processing rows: 2856it [02:20, 23.78it/s]"
     ]
    },
    {
     "name": "stdout",
     "output_type": "stream",
     "text": [
      "OtherOperatingIncomeRelatedPartyCounterpartyNameExtensibleEnumeration | [mapped.1 (0.76)] Income Statement > other operating income related party counterparty name extensible enumeration → income statement > other operating expenses\n",
      "InterestIncomeOperatingRelatedPartyTypeExtensibleEnumeration | [mapped.1 (0.83)] Income Statement > interest income operating related party type extensible enumeration → income statement > interest expense - operating\n",
      "InterestIncomeOperatingRelatedPartyCounterpartyNameExtensibleEnumeration | [mapped.1 (0.80)] Income Statement > interest income operating related party counterparty name extensible enumeration → income statement > interest > investment income - operating\n",
      "InterestExpenseOperatingRelatedPartyTypeExtensibleEnumeration | [mapped.1 (0.84)] Income Statement > interest expense operating related party type extensible enumeration → income statement > interest expense - operating\n",
      "InterestExpenseOperatingRelatedPartyCounterpartyNameExtensibleEnumeration | [mapped.1 (0.82)] Income Statement > interest expense operating related party counterparty name extensible enumeration → income statement > interest expense - operating\n"
     ]
    },
    {
     "name": "stderr",
     "output_type": "stream",
     "text": [
      "Processing rows: 2862it [02:20, 21.76it/s]"
     ]
    },
    {
     "name": "stdout",
     "output_type": "stream",
     "text": [
      "SupplierFinanceProgramObligation | [mapped.1 (0.73)] Balance Sheet > supplier finance program obligation → balance sheet > liabilities > capital lease obligations\n",
      "SupplierFinanceProgramObligationCurrent | [mapped.1 (0.76)] Balance Sheet > supplier finance program obligation current → balance sheet > liabilities > other current liabilities\n",
      "SupplierFinanceProgramObligationNoncurrent | [mapped.1 (0.74)] Balance Sheet > supplier finance program obligation noncurrent → balance sheet > liabilities > other current liabilities\n",
      "LeaseholdImprovementUnderlyingAssetUnderCommonControlIncreaseDecreaseInEquity | [mapped.1 (0.78)] Equity Statement > leasehold improvement underlying asset under common control increase decrease in equity → equity statement > other equity adjustments\n"
     ]
    },
    {
     "name": "stderr",
     "output_type": "stream",
     "text": [
      "Processing rows: 2865it [02:20, 19.67it/s]"
     ]
    },
    {
     "name": "stdout",
     "output_type": "stream",
     "text": [
      "DisposalGroupIncludingDiscontinuedOperationSeparateAccountAsset | [mapped.1 (0.77)] Balance Sheet > disposal group including discontinued operation separate account asset → balance sheet > assets > goodwill\n",
      "DisposalGroupIncludingDiscontinuedOperationSeparateAccountLiability | [mapped.1 (0.75)] Balance Sheet > disposal group including discontinued operation separate account liability → balance sheet > liabilities > minority interest\n",
      "DisposalGroupIncludingDiscontinuedOperationLiabilityForClaimsAndClaimsAdjustmentExpense | [mapped.1 (0.72)] Balance Sheet > disposal group including discontinued operation liability for claims and claims adjustment expense → balance sheet > liabilities > accrued expenses\n",
      "DisposalGroupIncludingDiscontinuedOperationDeferredPolicyAcquisitionCost | [unmapped] Balance Sheet > disposal group including discontinued operation deferred policy acquisition cost\n",
      "DisposalGroupIncludingDiscontinuedOperationDeferredPolicyAcquisitionCost | [mapped.2 (0.71)] Balance Sheet > StatementTable > StatementLineItems > DisposalGroupIncludingDiscontinuedOperationDeferredPolicyAcquisitionCost → balance sheet > assets > restricted cash - current\n",
      "DisposalGroupIncludingDiscontinuedOperationInvestment | [mapped.1 (0.75)] Balance Sheet > disposal group including discontinued operation investment → balance sheet > assets > goodwill\n",
      "DisposalGroupIncludingDiscontinuedOperationLiabilityForFuturePolicyBenefitBeforeReinsurance | [unmapped] Balance Sheet > disposal group including discontinued operation liability for future policy benefit before reinsurance\n"
     ]
    },
    {
     "name": "stderr",
     "output_type": "stream",
     "text": [
      "Processing rows: 2870it [02:21, 14.51it/s]"
     ]
    },
    {
     "name": "stdout",
     "output_type": "stream",
     "text": [
      "DisposalGroupIncludingDiscontinuedOperationLiabilityForFuturePolicyBenefitBeforeReinsurance | [mapped.2 (0.71)] Balance Sheet > StatementTable > StatementLineItems > DisposalGroupIncludingDiscontinuedOperationLiabilityForFuturePolicyBenefitBeforeReinsurance → balance sheet > liabilities > deferred income tax\n",
      "DisposalGroupIncludingDiscontinuedOperationLiabilityForUnpaidClaimsAndClaimsAdjustmentExpense | [mapped.1 (0.72)] Balance Sheet > disposal group including discontinued operation liability for unpaid claims and claims adjustment expense → balance sheet > liabilities > accrued expenses\n",
      "DisposalGroupIncludingDiscontinuedOperationPremiumReceivableAfterAllowanceForCreditLoss | [mapped.1 (0.71)] Balance Sheet > disposal group including discontinued operation premium receivable after allowance for credit loss → balance sheet > assets > allowance for doubtful accounts\n",
      "DisposalGroupIncludingDiscontinuedOperationReinsuranceRecoverableIncludingReinsurancePremiumPaid | [unmapped] Balance Sheet > disposal group including discontinued operation reinsurance recoverable including reinsurance premium paid\n"
     ]
    },
    {
     "name": "stderr",
     "output_type": "stream",
     "text": [
      "Processing rows: 2874it [02:21, 13.99it/s]"
     ]
    },
    {
     "name": "stdout",
     "output_type": "stream",
     "text": [
      "DisposalGroupIncludingDiscontinuedOperationReinsuranceRecoverableIncludingReinsurancePremiumPaid | [mapped.2 (0.70)] Balance Sheet > StatementTable > StatementLineItems > DisposalGroupIncludingDiscontinuedOperationReinsuranceRecoverableIncludingReinsurancePremiumPaid → balance sheet > assets > prepaid expenses\n",
      "TitlePlantCost | [mapped.1 (0.81)] Balance Sheet > title plant cost → balance sheet > assets > property > plant > equipment\n",
      "RealEstateAcquiredInsuranceClaimSettlement | [mapped.1 (0.71)] Balance Sheet > real estate acquired insurance claim settlement → balance sheet > assets > accumulated depreciation\n",
      "InvestmentRelatedPartyExtensibleEnumeration | [mapped.1 (0.78)] Balance Sheet > investment related party extensible enumeration → balance sheet > assets > receivables - other > related party\n"
     ]
    },
    {
     "name": "stderr",
     "output_type": "stream",
     "text": [
      "Processing rows: 2879it [02:21, 16.77it/s]"
     ]
    },
    {
     "name": "stdout",
     "output_type": "stream",
     "text": [
      "GovernmentAssistanceOperatingExpense | [mapped.1 (0.84)] Income Statement > government assistance operating expense → income statement > interest expense - operating\n",
      "GovernmentAssistanceExpense | [mapped.1 (0.79)] Income Statement > government assistance expense → income statement > unusual expense (income)\n",
      "GovernmentAssistanceLiability | [mapped.1 (0.76)] Balance Sheet > government assistance liability → balance sheet > liabilities > accounts payable\n",
      "GovernmentAssistanceOperatingIncome | [mapped.1 (0.82)] Income Statement > government assistance operating income → income statement > interest > investment income - operating\n",
      "GovernmentAssistanceLiabilityCurrent | [mapped.1 (0.79)] Balance Sheet > government assistance liability current → balance sheet > liabilities > other current liabilities\n"
     ]
    },
    {
     "name": "stderr",
     "output_type": "stream",
     "text": [
      "Processing rows: 2882it [02:22, 18.06it/s]"
     ]
    },
    {
     "name": "stdout",
     "output_type": "stream",
     "text": [
      "GovernmentAssistanceNonoperatingIncome | [mapped.1 (0.83)] Income Statement > government assistance nonoperating income → income statement > interest income - non-operating\n",
      "GovernmentAssistanceLiabilityNoncurrent | [mapped.1 (0.78)] Balance Sheet > government assistance liability noncurrent → balance sheet > liabilities > other current liabilities\n",
      "GovernmentAssistanceNonoperatingExpense | [mapped.1 (0.85)] Income Statement > government assistance nonoperating expense → income statement > interest expense - non-operating\n",
      "CryptoAssetFairValueNoncurrent | [mapped.1 (0.78)] Balance Sheet > crypto asset fair value noncurrent → balance sheet > assets > other current assets\n"
     ]
    },
    {
     "name": "stderr",
     "output_type": "stream",
     "text": [
      "Processing rows: 2886it [02:22, 18.22it/s]"
     ]
    },
    {
     "name": "stdout",
     "output_type": "stream",
     "text": [
      "PaymentForAcquisitionCryptoAsset | [mapped.1 (0.76)] Cash Flow Statement > payment for acquisition crypto asset → cash flow > investing activities > acquisitions\n",
      "ProceedsFromDisposalCryptoAsset | [mapped.1 (0.79)] Cash Flow Statement > proceeds from disposal crypto asset → cash flow > investing activities > proceeds from sale > maturity of investments\n",
      "CryptoAssetFairValue | [mapped.1 (0.76)] Balance Sheet > crypto asset fair value → balance sheet > assets > cash & equivalents\n",
      "ProceedsFromCryptoAssetOperatingActivity | [mapped.1 (0.80)] Cash Flow Statement > proceeds from crypto asset operating activity → cash flow > investing activities > proceeds from sale > maturity of investments\n"
     ]
    },
    {
     "name": "stderr",
     "output_type": "stream",
     "text": [
      "Processing rows: 2891it [02:22, 19.22it/s]"
     ]
    },
    {
     "name": "stdout",
     "output_type": "stream",
     "text": [
      "CryptoAssetFairValueCurrent | [mapped.1 (0.78)] Balance Sheet > crypto asset fair value current → balance sheet > assets > other current assets\n",
      "IncomeTaxPaidAfterRefundReceivedForeignJurisdictionExtensibleEnumeration | [mapped.1 (0.79)] Cash Flow Statement > income tax paid after refund received foreign jurisdiction extensible enumeration → cash flow > cash taxes paid\n",
      "IncomeTaxPaidForeignAfterRefundReceived | [mapped.1 (0.81)] Cash Flow Statement > income tax paid foreign after refund received → cash flow > cash taxes paid\n",
      "ProceedsFromIncomeTaxRefundForeign | [mapped.1 (0.78)] Cash Flow Statement > proceeds from income tax refund foreign → cash flow > cash taxes paid\n",
      "IncomeTaxPaidForeignBeforeRefundReceived | [mapped.1 (0.81)] Cash Flow Statement > income tax paid foreign before refund received → cash flow > cash taxes paid\n"
     ]
    },
    {
     "name": "stderr",
     "output_type": "stream",
     "text": [
      "Processing rows: 2897it [02:22, 20.70it/s]"
     ]
    },
    {
     "name": "stdout",
     "output_type": "stream",
     "text": [
      "ProceedsFromIncomeTaxRefundFederal | [mapped.1 (0.79)] Cash Flow Statement > proceeds from income tax refund federal → cash flow > cash taxes paid\n",
      "IncomeTaxPaidStateAndLocalBeforeRefundReceived | [mapped.1 (0.82)] Cash Flow Statement > income tax paid state and local before refund received → cash flow > cash taxes paid\n",
      "IncomeTaxPaidAfterRefundReceivedStateAndLocalJurisdictionsExtensibleEnumeration | [mapped.1 (0.79)] Cash Flow Statement > income tax paid after refund received state and local jurisdictions extensible enumeration → cash flow > cash taxes paid\n",
      "IncomeTaxPaidFederalBeforeRefundReceived | [mapped.1 (0.82)] Cash Flow Statement > income tax paid federal before refund received → cash flow > cash taxes paid\n",
      "IncomeTaxPaidFederalAfterRefundReceived | [mapped.1 (0.83)] Cash Flow Statement > income tax paid federal after refund received → cash flow > cash taxes paid\n"
     ]
    },
    {
     "name": "stderr",
     "output_type": "stream",
     "text": [
      "Processing rows: 2900it [02:22, 21.49it/s]"
     ]
    },
    {
     "name": "stdout",
     "output_type": "stream",
     "text": [
      "IncomeTaxPaidStateAndLocalAfterRefundReceived | [mapped.1 (0.83)] Cash Flow Statement > income tax paid state and local after refund received → cash flow > cash taxes paid\n",
      "ProceedsFromIncomeTaxRefundStateAndLocal | [mapped.1 (0.80)] Cash Flow Statement > proceeds from income tax refund state and local → cash flow > cash taxes paid\n",
      "InterestExpenseNonoperating | [mapped.1 (0.88)] Income Statement > interest expense nonoperating → income statement > interest expense - non-operating\n",
      "InterestExpenseOperating | [mapped.1 (0.98)] Income Statement > interest expense operating → income statement > interest expense - operating\n",
      "PaymentForAdvanceForConstructionFinancingActivity | [mapped.1 (0.80)] Cash Flow Statement > payment for advance for construction financing activity → cash flow > financing activities > other financing activities\n"
     ]
    },
    {
     "name": "stderr",
     "output_type": "stream",
     "text": [
      "Processing rows: 2906it [02:23, 22.96it/s]"
     ]
    },
    {
     "name": "stdout",
     "output_type": "stream",
     "text": [
      "ProceedsFromAdvanceForAndContributionInAidOfConstructionFinancingActivity | [mapped.1 (0.81)] Cash Flow Statement > proceeds from advance for and contribution in aid of construction financing activity → cash flow > financing activities > other financing activities\n",
      "InterestExpenseMandatorilyRedeemableFinancialInstrumentLiabilityClassified | [mapped.1 (0.75)] Income Statement > interest expense mandatorily redeemable financial instrument liability classified → income statement > interest expense - operating\n",
      "RedeemableNoncontrollingInterestEquityEliminationOfAccretionDeconsolidationOfSubsidiary | [mapped.1 (0.83)] Equity Statement > redeemable noncontrolling interest equity elimination of accretion deconsolidation of subsidiary → equity statement > redeemable noncontrolling interest adjustments\n",
      "IncreaseDecreaseInIncentiveFeePayableCapitalGainBased | [mapped.1 (0.73)] Cash Flow Statement > increase decrease in incentive fee payable capital gain based → cash flow > operating activities > changes in other assets\n",
      "IncentiveFeePayableCapitalGainBased | [mapped.1 (0.74)] Balance Sheet > incentive fee payable capital gain based → balance sheet > shareholders' equity > redeemable preferred stock\n"
     ]
    },
    {
     "name": "stderr",
     "output_type": "stream",
     "text": [
      "Processing rows: 2912it [02:23, 21.03it/s]"
     ]
    },
    {
     "name": "stdout",
     "output_type": "stream",
     "text": [
      "IncreaseDecreaseInProfessionalFeePayable | [mapped.1 (0.74)] Cash Flow Statement > increase decrease in professional fee payable → cash flow > operating activities > changes in accounts payable\n",
      "IncreaseDecreaseInAdministrativeFeePayable | [mapped.1 (0.76)] Cash Flow Statement > increase decrease in administrative fee payable → cash flow > operating activities > changes in accounts payable\n",
      "IncentiveFeePayableIncomeBased | [mapped.1 (0.75)] Balance Sheet > incentive fee payable income based → balance sheet > liabilities > deferred income tax\n",
      "OrganizationalAndOfferingCostsExpense | [mapped.1 (0.82)] Income Statement > organizational and offering costs expense → income statement > other operating expenses\n",
      "OrganizationalCostExpense | [mapped.1 (0.86)] Income Statement > organizational cost expense → income statement > other operating expenses\n"
     ]
    },
    {
     "name": "stderr",
     "output_type": "stream",
     "text": [
      "Processing rows: 2914it [02:23, 20.29it/s]"
     ]
    },
    {
     "name": "stdout",
     "output_type": "stream",
     "text": [
      "IncreaseDecreaseInIncentiveFeePayableIncomeBased | [mapped.1 (0.74)] Cash Flow Statement > increase decrease in incentive fee payable income based → cash flow > operating activities > changes in accounts payable\n",
      "ManagementAndIncentiveFeesPayable | [mapped.1 (0.77)] Balance Sheet > management and incentive fees payable → balance sheet > liabilities > accounts payable\n"
     ]
    },
    {
     "name": "stderr",
     "output_type": "stream",
     "text": [
      "\n"
     ]
    }
   ],
   "source": [
    "import csv\n",
    "import json\n",
    "import torch\n",
    "from tqdm import tqdm\n",
    "from sentence_transformers import SentenceTransformer, util\n",
    "\n",
    "# === CONFIG ===\n",
    "MODEL_NAME = \"BAAI/bge-large-en-v1.5\"\n",
    "INPUT_CSV = \"data/WITH_TAXONOMY_HIERARCHY_us_gaap_2025_with_all_statements_and_hierarchy.csv\"\n",
    "OFSS_JSON = \"../shared/open_financial_statement_schema.json\"\n",
    "OUTPUT_CSV = \"data/with_ofss_ids.csv\"\n",
    "SIMILARITY_THRESHOLD = 0.7\n",
    "\n",
    "# === DEVICE SETUP ===\n",
    "if torch.backends.mps.is_available():\n",
    "    device = \"mps\"\n",
    "elif torch.cuda.is_available():\n",
    "    device = \"cuda\"\n",
    "else:\n",
    "    device = \"cpu\"\n",
    "\n",
    "model = SentenceTransformer(MODEL_NAME, device=device)\n",
    "\n",
    "# === FLATTEN NESTED OFSS MAP ===\n",
    "def flatten_ofss(d, parent_key=\"\"):\n",
    "    flat = {}\n",
    "    for k, v in d.items():\n",
    "        new_key = f\"{parent_key}/{k}\" if parent_key else k\n",
    "        if isinstance(v, dict):\n",
    "            flat.update(flatten_ofss(v, new_key))\n",
    "        else:\n",
    "            flat[new_key] = v\n",
    "    return flat\n",
    "\n",
    "def normalize_stmt_prefix(stmt):\n",
    "    stmt_prefix = stmt.lower().replace(\" statement\", \"\")\n",
    "    return stmt_prefix\n",
    "\n",
    "# Enhanced validation rules\n",
    "def is_valid_mapping(stmt, balance, tag, mapped_name):\n",
    "    stmt = stmt.lower()\n",
    "    balance = str(balance).lower()\n",
    "    mapped = mapped_name.lower()\n",
    "    tag = tag.lower()\n",
    "\n",
    "    # === Balance Sheet Validation ===\n",
    "    # Prevent debit items mapping to liabilities/equity accounts\n",
    "    if stmt == \"balance sheet\":\n",
    "        if balance == \"debit\" and any(x in mapped for x in [\n",
    "            \"liabilities\", \"payable\", \"accrued\", \"common stock\"\n",
    "        ]):\n",
    "            return False\n",
    "\n",
    "        # Prevent credit items mapping to asset accounts\n",
    "        if balance == \"credit\" and any(x in mapped for x in [\n",
    "            \"assets\", \"cash\", \"inventory\", \"receivable\"\n",
    "        ]):\n",
    "            return False\n",
    "\n",
    "        # Commercial paper should not be classified as shareholders' equity\n",
    "        if \"commercial paper\" in tag and \"shareholders' equity\" in mapped:\n",
    "            return False\n",
    "\n",
    "        # Allowances should not map to liabilities\n",
    "        if \"allowance\" in tag and \"liabilities\" in mapped:\n",
    "            return False\n",
    "\n",
    "        # Treasury stock should only map to equity contexts\n",
    "        if \"treasury stock\" in tag and not (\n",
    "            \"shareholders' equity\" in mapped or \"equity statement\" in mapped\n",
    "        ):\n",
    "            return False\n",
    "        \n",
    "        # Treasury stock must not be classified as assets or cash\n",
    "        if \"treasury stock\" in tag and any(x in mapped for x in [\"asset\", \"cash\"]):\n",
    "            return False\n",
    "        \n",
    "        # Restrictions on treasury stock should not be mapped to asset classes\n",
    "        if \"restriction\" in tag and \"treasury stock\" in tag and any(\n",
    "            x in mapped for x in [\"cash\", \"asset\", \"receivable\"]\n",
    "        ):\n",
    "            return False\n",
    "\n",
    "        # Collateral should not map to goodwill (unrelated asset types)\n",
    "        if \"collateral\" in tag and \"goodwill\" in mapped:\n",
    "            return False\n",
    "\n",
    "        # Derivative contracts should not map to minority interest\n",
    "        if \"derivatives and other contracts\" in tag and \"minority interest\" in mapped:\n",
    "            return False\n",
    "\n",
    "        # Customer contracts should not map to property\n",
    "        if \"contract with customer\" in tag and \"property\" in mapped:\n",
    "            return False\n",
    "        \n",
    "        # Balance Sheet: retail deposits ≠ customer advances\n",
    "        if \"deposits retail\" in tag and \"customer advances\" in mapped:\n",
    "            return False\n",
    "\n",
    "        # Convertible notes must retain convertible classification\n",
    "        if \"convertible\" in tag and \"convertible\" not in mapped:\n",
    "            return False\n",
    "        \n",
    "        # Discontinued operation assets ≠ generic 'other current assets'\n",
    "        if \"discontinued operation\" in tag and \"other current assets\" in mapped:\n",
    "            return False\n",
    "        \n",
    "        # Assets held for sale must not be grouped under 'other current assets'\n",
    "        if \"assets held for sale\" in tag and \"other current assets\" in mapped:\n",
    "            return False\n",
    "        \n",
    "        # Assets held for sale must not be grouped under 'other current assets'\n",
    "        if \"assets held for sale\" in tag and \"other current assets\" in mapped:\n",
    "            return False\n",
    "\n",
    "        # Cumulative dividends ≠ accumulated other comprehensive income\n",
    "        if \"cumulative dividends\" in tag and \"other comprehensive income\" in mapped:\n",
    "            return False\n",
    "\n",
    "        # Bank-owned life insurance ≠ other long term assets\n",
    "        if \"bank owned life insurance\" in tag and \"long term assets\" in mapped:\n",
    "            return False\n",
    "\n",
    "        # Allowance for loans receivable must not map to empty or unrelated areas\n",
    "        if \"allowance\" in tag and \"receivable\" in tag and mapped.strip() == \"\":\n",
    "            return False\n",
    "\n",
    "        # Construction loans ≠ other current liabilities\n",
    "        if \"construction loan\" in tag and \"other current liabilities\" in mapped:\n",
    "            return False\n",
    "\n",
    "        # Market risk benefit ≠ equity accounts\n",
    "        if \"market risk benefit\" in tag and any(x in mapped for x in [\"equity\", \"common stock\"]):\n",
    "            return False\n",
    "        \n",
    "        # Loan receivable allowance must not map to interest expense\n",
    "        if \"allowance\" in tag and \"loan\" in tag and \"interest expense\" in mapped:\n",
    "            return False\n",
    "\n",
    "        # Deferred income tax asset should not map to cash or equivalents\n",
    "        if \"deferred tax asset\" in tag and \"cash\" in mapped:\n",
    "            return False\n",
    "\n",
    "        # Preferred equity ≠ shareholders' equity total\n",
    "        if \"preferred equity\" in tag and \"shareholders' equity\" in mapped and \"total\" in mapped:\n",
    "            return False\n",
    "\n",
    "        # Pension asset ≠ other current assets\n",
    "        if \"pension\" in tag and \"asset\" in tag and \"other current assets\" in mapped:\n",
    "            return False\n",
    "\n",
    "        # Advances to suppliers should not map to inventories\n",
    "        if \"advance to supplier\" in tag and \"inventory\" in mapped:\n",
    "            return False\n",
    "\n",
    "        # Advances to suppliers ≠ inventory\n",
    "        if \"advance to supplier\" in tag and \"inventory\" in mapped:\n",
    "            return False\n",
    "\n",
    "        # Deferred revenue ≠ equity\n",
    "        if \"deferred revenue\" in tag and \"equity\" in mapped:\n",
    "            return False\n",
    "\n",
    "        # Investment tax credit ≠ cash\n",
    "        if \"investment tax credit\" in tag and \"cash\" in mapped:\n",
    "            return False\n",
    "\n",
    "        # Allowance for doubtful accounts ≠ other current assets\n",
    "        if \"allowance\" in tag and \"doubtful\" in tag and \"other current assets\" in mapped:\n",
    "            return False\n",
    "\n",
    "        # Lease asset should not map to deferred revenue\n",
    "        if \"lease\" in tag and \"asset\" in tag and \"deferred revenue\" in mapped:\n",
    "            return False\n",
    "\n",
    "        # Treasury stock assets must not map to intangible assets\n",
    "        if \"treasury stock\" in tag and \"intangible\" in mapped:\n",
    "            return False\n",
    "\n",
    "        # Deferred tax liabilities ≠ equity\n",
    "        if \"deferred tax liability\" in tag and \"equity\" in mapped:\n",
    "            return False\n",
    "\n",
    "        # Noncontrolling interest ≠ accumulated other comprehensive income\n",
    "        if \"noncontrolling interest\" in tag and \"comprehensive income\" in mapped:\n",
    "            return False\n",
    "\n",
    "        # Advances to affiliates ≠ inventory\n",
    "        if \"advance\" in tag and \"affiliate\" in tag and \"inventory\" in mapped:\n",
    "            return False\n",
    "\n",
    "        # Receivables-related allowances must not map to cash or other current assets\n",
    "        if \"allowance\" in tag and any(x in mapped for x in [\"cash\", \"other current assets\"]):\n",
    "            return False\n",
    "\n",
    "        # Lease receivable ≠ other long term assets\n",
    "        if \"lease receivable\" in tag and \"other long term assets\" in mapped:\n",
    "            return False\n",
    "\n",
    "        # Advances to related parties ≠ inventories\n",
    "        if \"advance\" in tag and \"related party\" in tag and \"inventory\" in mapped:\n",
    "            return False\n",
    "\n",
    "        # Intangibles with definite life ≠ goodwill\n",
    "        if \"definite lived\" in tag and \"goodwill\" in mapped:\n",
    "            return False\n",
    "\n",
    "\n",
    "\n",
    "\n",
    "    # === Cash Flow Statement Validation ===\n",
    "    if stmt == \"cash flow statement\":\n",
    "        investing_keywords = [\n",
    "            \"acquire\", \"investment\", \"purchase\", \"building\", \"property\",\n",
    "            \"fund\", \"financing\", \"debt\", \"deposit\", \"debt reduction\",\n",
    "            \"proceeds\", \"advance\", \"contribution\"\n",
    "        ]\n",
    "        financing_keywords = [\"distribution\", \"dividend\", \"redeemable securities\"]\n",
    "\n",
    "        # Block investing or financing terms mapping to operating activities\n",
    "        if any(keyword in tag for keyword in investing_keywords) and \"operating activities\" in mapped:\n",
    "            return False\n",
    "        if any(keyword in tag for keyword in financing_keywords) and \"operating activities\" in mapped:\n",
    "            return False\n",
    "\n",
    "        # Subordinated debt repayment should not map to debt issuance\n",
    "        if \"repayments of subordinated debt\" in tag and \"debt issued\" in mapped:\n",
    "            return False\n",
    "\n",
    "        # Date-related metadata should not map to cash flows\n",
    "        if \"original debt issuance date\" in tag and \"debt issued\" in mapped:\n",
    "            return False\n",
    "\n",
    "        # Deposits should not be mapped to interest income\n",
    "        if \"deposit\" in tag and \"interest\" in mapped:\n",
    "            return False\n",
    "\n",
    "        # Advances and contributions should not map to interest income\n",
    "        if (\"advance\" in tag or \"contribution\" in tag) and \"interest\" in mapped:\n",
    "            return False\n",
    "\n",
    "        # Unrealized gain/loss should not map to investment purchases\n",
    "        if \"gainloss\" in tag and \"purchase of investments\" in mapped:\n",
    "            return False\n",
    "\n",
    "        # Depreciation should not relate to discontinued ops or regulatory assets\n",
    "        if \"discontinued operations\" in tag and \"depreciation\" in mapped:\n",
    "            return False\n",
    "        if \"regulatory assets and liabilities\" in tag and \"depreciation\" in mapped:\n",
    "            return False\n",
    "\n",
    "        # Dividend-related receivables should not map to interest\n",
    "        if \"dividends receivable\" in tag and \"interest\" in mapped:\n",
    "            return False\n",
    "\n",
    "        # Withdrawals from contract holders should not be interest\n",
    "        if \"withdrawal from contract holders\" in tag and \"interest\" in mapped:\n",
    "            return False\n",
    "\n",
    "        # Proceeds from secured credit lines ≠ short-term debt issuance\n",
    "        if \"secured lines of credit\" in tag and \"short term debt issued\" in mapped:\n",
    "            return False\n",
    "\n",
    "        # Postemployment benefit payments ≠ tax payments\n",
    "        if \"postemployment benefits\" in tag and \"taxes paid\" in mapped:\n",
    "            return False\n",
    "\n",
    "        # Specific: annuity/investment repayments ≠ debt issuance\n",
    "        if \"repayments of annuities and investment certificates\" in tag and \"debt issued\" in mapped:\n",
    "            return False\n",
    "\n",
    "        # General: any repayment tag should not map to debt issuance\n",
    "        if \"repayment\" in tag and \"debt issued\" in mapped:\n",
    "            return False\n",
    "        \n",
    "        # Lease acquisition costs ≠ business acquisitions\n",
    "        if \"lease acquisition\" in tag and \"acquisition of business\" in mapped:\n",
    "            return False\n",
    "        \n",
    "        # Specific short-term debt repayments ≠ net short-term debt changes\n",
    "        if \"repayment\" in tag and \"short term debt, net\" in mapped:\n",
    "            return False\n",
    "\n",
    "        # Deferred purchase price ≠ short-term debt issuance\n",
    "        if \"deferred purchase price\" in tag and \"short term debt issued\" in mapped:\n",
    "            return False\n",
    "\n",
    "        # Deferred purchase price ≠ short-term debt issuance\n",
    "        if \"deferred purchase price\" in tag and \"short term debt issued\" in mapped:\n",
    "            return False\n",
    "\n",
    "        # Real estate deposits ≠ acquisition of business\n",
    "        if \"real estate\" in tag and \"deposits\" in tag and \"acquisition of business\" in mapped:\n",
    "            return False\n",
    "\n",
    "        # Repayments on lease ≠ equity issuance\n",
    "        if \"lease\" in tag and \"proceeds\" in tag and \"issuance of common\" in mapped:\n",
    "            return False\n",
    "\n",
    "        # Notes receivable ≠ accounts receivable\n",
    "        if \"notes receivable\" in tag and \"accounts receivable\" in mapped:\n",
    "            return False\n",
    "\n",
    "        # Loan issuance ≠ business acquisition\n",
    "        if \"loan\" in tag and \"issuance\" in tag and \"acquisition of business\" in mapped:\n",
    "            return False\n",
    "\n",
    "        # Contribution of property ≠ investing outflows\n",
    "        if \"contribution\" in tag and \"property\" in tag and \"investing\" in mapped:\n",
    "            return False\n",
    "\n",
    "        # Payment of legal settlement ≠ tax payment\n",
    "        if \"legal settlement\" in tag and \"taxes paid\" in mapped:\n",
    "            return False\n",
    "\n",
    "        # Purchase of insurance policies ≠ investment securities\n",
    "        if \"insurance\" in tag and \"purchase\" in tag and \"investment securities\" in mapped:\n",
    "            return False\n",
    "\n",
    "        # Business acquisition ≠ repayment of debt\n",
    "        if \"acquisition\" in tag and \"repayment\" in mapped:\n",
    "            return False\n",
    "\n",
    "        # Purchase of insurance ≠ investment purchase\n",
    "        if \"insurance\" in tag and \"purchase\" in tag and \"investment\" in mapped:\n",
    "            return False\n",
    "\n",
    "        # Real estate construction deposits ≠ acquisition of business\n",
    "        if \"deposit\" in tag and \"construction\" in tag and \"real estate\" in tag and \"acquisition of business\" in mapped:\n",
    "            return False\n",
    "\n",
    "        # Payment of preferred dividends ≠ issuance of debt\n",
    "        if \"dividend\" in tag and \"preferred\" in tag and \"debt issued\" in mapped:\n",
    "            return False\n",
    "\n",
    "        # Purchase of time deposits ≠ property acquisition\n",
    "        if \"time deposit\" in tag and \"property\" in mapped:\n",
    "            return False\n",
    "\n",
    "        # Insurance settlement ≠ investing activities\n",
    "        if \"insurance settlement\" in tag and \"investing\" in mapped:\n",
    "            return False\n",
    "\n",
    "        # Repurchase of convertible debt ≠ common stock issuance\n",
    "        if \"convertible\" in tag and \"repurchase\" in tag and \"issuance of common\" in mapped:\n",
    "            return False\n",
    "\n",
    "        # Loans to affiliates ≠ purchase of equity\n",
    "        if \"loan\" in tag and \"affiliate\" in tag and \"purchase of equity\" in mapped:\n",
    "            return False\n",
    "\n",
    "        # Construction-related deposits ≠ business acquisitions\n",
    "        if \"deposit\" in tag and \"construction\" in tag and \"acquisition of business\" in mapped:\n",
    "            return False\n",
    "\n",
    "        # Purchase of insurance policies ≠ investing cash outflows for securities\n",
    "        if \"insurance\" in tag and \"purchase\" in tag and \"investment\" in mapped:\n",
    "            return False\n",
    "\n",
    "        # Business combination tax adjustments ≠ acquisition cash flow\n",
    "        if \"tax\" in tag and \"business combination\" in tag and \"acquisition\" in mapped:\n",
    "            return False\n",
    "\n",
    "        # Contributions to employee stock plans ≠ equity issuance\n",
    "        if \"employee stock\" in tag and \"contribution\" in tag and \"issuance of common\" in mapped:\n",
    "            return False\n",
    "\n",
    "\n",
    "\n",
    "\n",
    "    # === Comprehensive Income Validation ===\n",
    "    # Must map to a comprehensive income context\n",
    "    if stmt == \"comprehensive income\":\n",
    "        if \"comprehensive income\" not in mapped:\n",
    "            return False\n",
    "\n",
    "    # === Equity Statement Validation ===\n",
    "    # Must map to an equity-related section\n",
    "    if stmt == \"equity statement\":\n",
    "        if not (\"equity statement\" in mapped or \"shareholders' equity\" in mapped):\n",
    "            return False\n",
    "        \n",
    "        # Equity Statement: total equity incl. NCI ≠ redeemable noncontrolling interest\n",
    "        if \"stockholders equity including portion attributable to noncontrolling\" in tag and \"redeemable noncontrolling interest\" in mapped:\n",
    "            return False\n",
    "\n",
    "    # === Income Statement Validation ===\n",
    "    # Lease income should relate to interest or lease concepts\n",
    "    if stmt == \"income statement\":\n",
    "        if \"lease income\" in tag and \"interest\" not in mapped and \"lease\" not in mapped:\n",
    "            return False\n",
    "\n",
    "        # Income from continuing ops should not be tied to minority interest\n",
    "        if \"income loss from continuing operations before income taxes\" in tag and \"minority interest\" in mapped:\n",
    "            return False\n",
    "\n",
    "        # Interest/dividend income should not map to preferred dividends\n",
    "        if \"interest and dividend income\" in tag and \"preferred dividends\" in mapped:\n",
    "            return False\n",
    "\n",
    "        # Bank-owned life insurance ≠ net sales\n",
    "        if \"bank owned life insurance\" in tag and \"net sales\" in mapped:\n",
    "            return False\n",
    "\n",
    "        # Interest expense should not map to any kind of interest income\n",
    "        if \"interest expense\" in tag and \"interest income\" in mapped:\n",
    "            return False\n",
    "\n",
    "        # Nonrecurring income should not be classified as investment income\n",
    "        if \"nonrecurring income\" in tag and \"investment income\" in mapped:\n",
    "            return False\n",
    "\n",
    "        # Asset-related income ≠ investment income\n",
    "        if \"asset related income\" in tag and \"investment income\" in mapped:\n",
    "            return False\n",
    "\n",
    "        # Noncontrolling interest should not be mapped to interest expense\n",
    "        if \"noncontrolling interest\" in tag and \"interest expense\" in mapped:\n",
    "            return False\n",
    "        \n",
    "        # Consumer loan interest income ≠ investment income\n",
    "        if (\"interest and fee income\" in tag and \"loan\" in tag and\n",
    "            \"investment income\" in mapped):\n",
    "            return False\n",
    "        \n",
    "        # Production taxes should not be classified under ambiguous 'other' expenses\n",
    "        if \"production tax\" in tag and \"other operating expenses\" in mapped:\n",
    "            return False\n",
    "        \n",
    "        # Variable lease income ≠ net income\n",
    "        if \"lease income\" in tag and \"net income\" in mapped:\n",
    "            return False\n",
    "        \n",
    "        # Variable lease income ≠ net income\n",
    "        if \"lease income\" in tag and \"net income\" in mapped:\n",
    "            return False\n",
    "\n",
    "        # Repo interest income ≠ investment income\n",
    "        if \"securities purchased under agreements to resell\" in tag and \"investment income\" in mapped:\n",
    "            return False\n",
    "\n",
    "        # Lease-related loan interest ≠ investment income\n",
    "        if \"lease financing\" in tag and \"investment income\" in mapped:\n",
    "            return False\n",
    "\n",
    "        # Preferred dividends ≠ interest and dividend income\n",
    "        if \"preferred dividends\" in mapped and \"interest and dividend income\" in tag:\n",
    "            return False\n",
    "\n",
    "        # Continuing operations income ≠ minority interest\n",
    "        if \"continuing operations\" in tag and \"minority interest\" in mapped:\n",
    "            return False\n",
    "\n",
    "        # Sale of assets ≠ issuance of common stock\n",
    "        if \"sale of\" in tag and \"issuance of common\" in mapped:\n",
    "            return False\n",
    "\n",
    "        # Non-interest income ≠ non-operating income\n",
    "        if \"noninterest income\" in tag and \"non-operating\" in mapped:\n",
    "            return False\n",
    "\n",
    "        # Marketing and advertising ≠ cost of revenue\n",
    "        if \"advertising\" in tag and \"cost of revenue\" in mapped:\n",
    "            return False\n",
    "        \n",
    "        # Preferred dividends should not map to net sales\n",
    "        if \"preferred dividends\" in tag and \"net sales\" in mapped:\n",
    "            return False\n",
    "\n",
    "        # Lease termination gain ≠ cost of revenue\n",
    "        if \"lease termination\" in tag and \"cost of revenue\" in mapped:\n",
    "            return False\n",
    "\n",
    "        # Insurance proceeds ≠ other operating income\n",
    "        if \"insurance proceeds\" in tag and \"operating income\" in mapped:\n",
    "            return False\n",
    "\n",
    "        # Bank charges ≠ non-operating expense\n",
    "        if \"bank charge\" in tag and \"non-operating\" in mapped:\n",
    "            return False\n",
    "\n",
    "        # Restructuring expenses ≠ depreciation or amortization\n",
    "        if \"restructuring\" in tag and any(x in mapped for x in [\"depreciation\", \"amortization\"]):\n",
    "            return False\n",
    "\n",
    "        # Other income ≠ minority interest\n",
    "        if \"other income\" in tag and \"minority interest\" in mapped:\n",
    "            return False\n",
    "\n",
    "        # Interest expense ≠ preferred dividends\n",
    "        if \"interest expense\" in tag and \"preferred dividends\" in mapped:\n",
    "            return False\n",
    "\n",
    "        # Cost of services ≠ general and admin\n",
    "        if \"cost of services\" in tag and \"general\" in mapped and \"admin\" in mapped:\n",
    "            return False\n",
    "\n",
    "        # Gain on debt extinguishment ≠ minority interest\n",
    "        if \"extinguishment of debt\" in tag and \"minority interest\" in mapped:\n",
    "            return False\n",
    "\n",
    "        # Interest income ≠ preferred dividends\n",
    "        if \"interest income\" in tag and \"preferred dividends\" in mapped:\n",
    "            return False\n",
    "\n",
    "        # Other comprehensive income ≠ operating revenue\n",
    "        if \"other comprehensive income\" in tag and \"operating\" in mapped:\n",
    "            return False\n",
    "\n",
    "        # Tax credit income ≠ investment income\n",
    "        if \"tax credit\" in tag and \"investment income\" in mapped:\n",
    "            return False\n",
    "\n",
    "        # Non-interest income ≠ cost of revenue\n",
    "        if \"noninterest\" in tag and \"cost of revenue\" in mapped:\n",
    "            return False\n",
    "\n",
    "        # Legal expense ≠ general and admin if specific\n",
    "        if \"legal expense\" in tag and \"general\" in mapped and \"admin\" in mapped and \"settlement\" not in tag:\n",
    "            return False\n",
    "\n",
    "        # Interest and dividends on bank balances ≠ investment income\n",
    "        if \"interest\" in tag and \"bank\" in tag and \"investment income\" in mapped:\n",
    "            return False\n",
    "\n",
    "        # Net periodic pension cost ≠ net income\n",
    "        if \"pension cost\" in tag and \"net income\" in mapped:\n",
    "            return False\n",
    "\n",
    "        # Gain on sale of discontinued ops ≠ other operating income\n",
    "        if \"discontinued\" in tag and \"gain\" in tag and \"operating income\" in mapped:\n",
    "            return False\n",
    "\n",
    "        # Other regulatory adjustments ≠ income from operations\n",
    "        if \"regulatory\" in tag and \"adjustment\" in tag and \"income from operations\" in mapped:\n",
    "            return False\n",
    "\n",
    "        # Debt extinguishment gain/loss ≠ operating income\n",
    "        if \"extinguishment of debt\" in tag and \"operating income\" in mapped:\n",
    "            return False\n",
    "\n",
    "        # Income from joint ventures ≠ interest income\n",
    "        if \"joint venture\" in tag and \"interest income\" in mapped:\n",
    "            return False\n",
    "\n",
    "        # Other regulatory adjustments ≠ income from operations\n",
    "        if \"regulatory\" in tag and \"adjustment\" in tag and \"operating income\" in mapped:\n",
    "            return False\n",
    "\n",
    "\n",
    "\n",
    "    return True\n",
    "\n",
    "with open(OFSS_JSON, \"r\") as f:\n",
    "    nested_ofss = json.load(f)\n",
    "\n",
    "flat_ofss = flatten_ofss(nested_ofss)\n",
    "ofss_names = list(flat_ofss.keys())\n",
    "ofss_ids = [flat_ofss[name] for name in ofss_names]\n",
    "ofss_embeddings = model.encode([s.lower() for s in ofss_names], convert_to_tensor=True)\n",
    "\n",
    "# === STATEMENT NORMALIZATION ===\n",
    "# STATEMENT_NORMALIZATION = {\n",
    "#     \"Equity Statement\": \"Balance Sheet\",\n",
    "#     \"Comprehensive Income\": \"Income Statement\"\n",
    "# }\n",
    "\n",
    "def clean_path(raw):\n",
    "    tokens = raw.split(\" > \")\n",
    "    tokens = [t for t in tokens if not t.lower().endswith(\"abstract\")]\n",
    "    tokens = [t.replace(\"us-gaap_\", \"\").replace(\"_\", \" \") for t in tokens]\n",
    "    return \" > \".join(tokens)\n",
    "\n",
    "# === MATCH FUNCTION ===\n",
    "def try_match(query_str, stmt, balance, tag):\n",
    "    query_emb = model.encode(query_str.lower(), convert_to_tensor=True)\n",
    "    allowed_indices = [\n",
    "        i for i, name in enumerate(ofss_names)\n",
    "        if normalize_stmt_prefix(name.lower().split(\"/\")[0]) == normalize_stmt_prefix(stmt)\n",
    "    ]\n",
    "    if not allowed_indices:\n",
    "        return None, None, None\n",
    "\n",
    "    filtered_embeddings = ofss_embeddings[allowed_indices]\n",
    "    cos_scores = util.cos_sim(query_emb, filtered_embeddings)[0]\n",
    "\n",
    "    # Rank all candidates by similarity\n",
    "    ranked_candidates = sorted(\n",
    "        zip(allowed_indices, cos_scores),\n",
    "        key=lambda x: x[1],\n",
    "        reverse=True\n",
    "    )\n",
    "\n",
    "    # Check each candidate explicitly for accounting validity\n",
    "    for candidate_idx, candidate_score in ranked_candidates:\n",
    "        if candidate_score < SIMILARITY_THRESHOLD:\n",
    "            break  # All remaining candidates will be below threshold\n",
    "\n",
    "        mapped_name = ofss_names[candidate_idx].lower().replace(\"/\", \" > \")\n",
    "\n",
    "        # Explicit validation check\n",
    "        if is_valid_mapping(stmt, balance, tag, mapped_name):\n",
    "            return candidate_idx, candidate_score.item(), mapped_name\n",
    "\n",
    "    # If no valid candidates found\n",
    "    return None, None, None\n",
    "\n",
    "\n",
    "# === PROCESS CSV ===\n",
    "output_rows = []\n",
    "with open(INPUT_CSV, newline=\"\") as f:\n",
    "    reader = csv.DictReader(f)\n",
    "    for row in tqdm(reader, desc=\"Processing rows\"):\n",
    "        stmt = row[\"statement_type\"].strip()\n",
    "        # stmt = STATEMENT_NORMALIZATION.get(stmt, stmt)\n",
    "\n",
    "        tag = row[\"tag\"]\n",
    "        balance = row[\"balance\"]\n",
    "        desc = row.get(\"description\", \"\").strip()\n",
    "        path_raw = row[\"taxonomy_hierarchy\"].strip()\n",
    "\n",
    "        row[\"ofss_id\"] = \"\"\n",
    "        row[\"ofss_flattened_name\"] = \"\"\n",
    "        row[\"map_approach\"] = \"\"\n",
    "\n",
    "        if not stmt or not path_raw:\n",
    "            print(f\"{tag} | [SKIPPED: missing statement or path]\")\n",
    "            output_rows.append(row)\n",
    "            continue\n",
    "\n",
    "        has_match = False\n",
    "\n",
    "        # --- Approach 1: Description only ---\n",
    "        if desc:\n",
    "            query1 = f\"{stmt} > {desc}\"\n",
    "            idx, score, name = try_match(query1, stmt, balance, tag)\n",
    "            if idx is not None:\n",
    "                has_match = True\n",
    "\n",
    "                row[\"ofss_id\"] = str(ofss_ids[idx])\n",
    "                row[\"ofss_flattened_name\"] = name.lower().replace(\"/\", \" > \")\n",
    "                row[\"map_approach\"] = \"1\"\n",
    "                row['score'] = score\n",
    "                print(f\"{tag} | [mapped.1 ({score:.2f})] {query1} → {row['ofss_flattened_name']}\")\n",
    "            else:\n",
    "                print(f\"{tag} | [unmapped] {query1}\")\n",
    "        else:\n",
    "            print(f\"{tag} | [unmapped: no description]\")\n",
    "\n",
    "        # --- Approach 2: Taxonomy path ---\n",
    "        if has_match == False:\n",
    "            path = clean_path(path_raw)\n",
    "            query2 = f\"{stmt} > {path}\"\n",
    "            idx, score, name = try_match(query2, stmt, balance, tag)\n",
    "            if idx is not None:\n",
    "                row[\"ofss_id\"] = str(ofss_ids[idx])\n",
    "                row[\"ofss_flattened_name\"] = name.lower().replace(\"/\", \" > \")\n",
    "                row[\"map_approach\"] = \"2\"\n",
    "                row['score'] = score\n",
    "                print(f\"{tag} | [mapped.2 ({score:.2f})] {query2} → {row['ofss_flattened_name']}\")\n",
    "\n",
    "        output_rows.append(row)\n",
    "\n",
    "# === SAVE TO CSV ===\n",
    "fieldnames = list(output_rows[0].keys())\n",
    "with open(OUTPUT_CSV, \"w\", newline=\"\") as f:\n",
    "    writer = csv.DictWriter(f, fieldnames=fieldnames)\n",
    "    writer.writeheader()\n",
    "    writer.writerows(output_rows)\n"
   ]
  },
  {
   "cell_type": "code",
   "execution_count": null,
   "metadata": {},
   "outputs": [],
   "source": [
    "# import pandas as pd\n",
    "\n",
    "# # Load existing CSV\n",
    "# df = pd.read_csv(OUTPUT_CSV)\n",
    "\n",
    "\n",
    "\n",
    "\n",
    "# # Identify invalid mappings\n",
    "# invalid_mask = ~df.apply(is_valid_mapping, axis=1)\n",
    "# invalid_entries = df[invalid_mask]\n",
    "\n",
    "# # Display number of invalid entries\n",
    "# print(f\"Found {len(invalid_entries)} invalid entries.\")\n",
    "\n",
    "# # Clear mappings for invalid entries to allow manual review or reprocessing\n",
    "# df.loc[invalid_mask, [\"ofss_id\", \"ofss_flattened_name\", \"map_approach\", \"score\"]] = \"\"\n",
    "\n",
    "# # Save the corrected CSV\n",
    "# df.to_csv(\"data/with_ofss_ids_corrected.csv\", index=False)\n",
    "\n",
    "# # Show sample of corrections made for verification\n",
    "# invalid_entries.sample(min(10, len(invalid_entries)), random_state=42)[['tag', 'statement_type', 'description', 'ofss_flattened_name', 'score']]"
   ]
  },
  {
   "cell_type": "code",
   "execution_count": null,
   "metadata": {},
   "outputs": [],
   "source": []
  }
 ],
 "metadata": {
  "kernelspec": {
   "display_name": "Python 3 (ipykernel)",
   "language": "python",
   "name": "python3"
  },
  "language_info": {
   "codemirror_mode": {
    "name": "ipython",
    "version": 3
   },
   "file_extension": ".py",
   "mimetype": "text/x-python",
   "name": "python",
   "nbconvert_exporter": "python",
   "pygments_lexer": "ipython3",
   "version": "3.12.9"
  }
 },
 "nbformat": 4,
 "nbformat_minor": 2
}
