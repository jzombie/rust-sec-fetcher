{
 "cells": [
  {
   "cell_type": "code",
   "execution_count": null,
   "metadata": {},
   "outputs": [],
   "source": [
    "import logging\n",
    "from db import DB\n",
    "from utils.os import load_csv, load_json\n",
    "from utils.pytorch import seed_everything\n",
    "from models.pytorch.us_gaap_alignment.ingest import upsert_us_gaap_concepts, insert_ofss_data, upsert_ofss_concept_mappings\n",
    "\n",
    "\n",
    "db = DB()"
   ]
  },
  {
   "cell_type": "code",
   "execution_count": null,
   "metadata": {},
   "outputs": [],
   "source": [
    "logging.info(\"Ingesting US GAAP concepts\")\n",
    "\n",
    "csv_file = 'data/2025_GAAP_Concepts.csv'\n",
    "\n",
    "csv_data = load_csv(csv_file)\n",
    "upsert_us_gaap_concepts(db, csv_data)"
   ]
  },
  {
   "cell_type": "code",
   "execution_count": null,
   "metadata": {},
   "outputs": [],
   "source": [
    "logging.info(\"Ingesting OFSS schema\")\n",
    "\n",
    "schema_file = '../shared/open_financial_statement_schema.json'\n",
    "\n",
    "schema_data = load_json(schema_file)\n",
    "insert_ofss_data(db, schema_data)"
   ]
  },
  {
   "cell_type": "code",
   "execution_count": null,
   "metadata": {},
   "outputs": [],
   "source": [
    "logging.info(\"Ingest OFSS concept mappings\")\n",
    "\n",
    "csv_file = 'data/with_ofss_ids.csv'\n",
    "\n",
    "csv_data = load_csv(csv_file)\n",
    "upsert_ofss_concept_mappings(db, csv_data)"
   ]
  },
  {
   "cell_type": "code",
   "execution_count": null,
   "metadata": {},
   "outputs": [],
   "source": []
  }
 ],
 "metadata": {
  "kernelspec": {
   "display_name": "Python 3 (ipykernel)",
   "language": "python",
   "name": "python3"
  },
  "language_info": {
   "codemirror_mode": {
    "name": "ipython",
    "version": 3
   },
   "file_extension": ".py",
   "mimetype": "text/x-python",
   "name": "python",
   "nbconvert_exporter": "python",
   "pygments_lexer": "ipython3",
   "version": "3.12.9"
  }
 },
 "nbformat": 4,
 "nbformat_minor": 2
}
