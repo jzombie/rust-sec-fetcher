{
 "cells": [
  {
   "cell_type": "code",
   "execution_count": null,
   "metadata": {},
   "outputs": [],
   "source": [
    "from db import DB\n",
    "from utils.os import load_json\n",
    "from models.pytorch.us_gaap_alignment.ingest import insert_ofss_data\n",
    "\n",
    "\n",
    "db = DB()\n",
    "\n",
    "# Path to OFSS schema file\n",
    "schema_file = '../shared/open_financial_statement_schema.json'\n",
    "\n",
    "# Load the schema from the JSON file\n",
    "schema_data = load_json(schema_file)\n",
    "\n",
    "# Insert the data into the database\n",
    "insert_ofss_data(db, schema_data)"
   ]
  },
  {
   "cell_type": "code",
   "execution_count": null,
   "metadata": {},
   "outputs": [],
   "source": []
  }
 ],
 "metadata": {
  "kernelspec": {
   "display_name": "Python 3 (ipykernel)",
   "language": "python",
   "name": "python3"
  },
  "language_info": {
   "codemirror_mode": {
    "name": "ipython",
    "version": 3
   },
   "file_extension": ".py",
   "mimetype": "text/x-python",
   "name": "python",
   "nbconvert_exporter": "python",
   "pygments_lexer": "ipython3",
   "version": "3.12.9"
  }
 },
 "nbformat": 4,
 "nbformat_minor": 2
}
