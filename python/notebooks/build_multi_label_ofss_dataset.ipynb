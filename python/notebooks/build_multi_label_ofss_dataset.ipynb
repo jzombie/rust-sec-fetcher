{
 "cells": [
  {
   "cell_type": "code",
   "execution_count": null,
   "metadata": {},
   "outputs": [],
   "source": [
    "import pandas as pd\n",
    "from db import DB\n",
    "from utils import generate_us_gaap_description \n",
    "\n",
    "db = DB()\n",
    "\n",
    "queries = {\n",
    "    \"train\": \"\"\"\n",
    "        SELECT\n",
    "            v.text AS input_text,\n",
    "            COALESCE(t.balance_type_id, 0) AS balance_type_id,\n",
    "            COALESCE(t.period_type_id, 0) AS period_type_id,\n",
    "            GROUP_CONCAT(DISTINCT m.ofss_category_id ORDER BY m.ofss_category_id) AS labels\n",
    "        FROM us_gaap_tag_description_variation v\n",
    "        JOIN us_gaap_tag t ON t.id = v.us_gaap_tag_id\n",
    "        JOIN us_gaap_tag_ofss_category m ON m.us_gaap_tag_id = t.id\n",
    "        GROUP BY v.text, t.balance_type_id, t.period_type_id\n",
    "    \"\"\",\n",
    "    \"val\": \"\"\"\n",
    "        SELECT\n",
    "            t.name AS input_text,\n",
    "            COALESCE(t.balance_type_id, 0) AS balance_type_id,\n",
    "            COALESCE(t.period_type_id, 0) AS period_type_id,\n",
    "            GROUP_CONCAT(DISTINCT m.ofss_category_id ORDER BY m.ofss_category_id) AS labels\n",
    "        FROM us_gaap_tag t\n",
    "        JOIN us_gaap_tag_ofss_category m ON m.us_gaap_tag_id = t.id\n",
    "        GROUP BY t.name, t.balance_type_id, t.period_type_id\n",
    "    \"\"\"\n",
    "}\n",
    "\n",
    "def build_dataset(name: str, query: str):\n",
    "    df = db.get(query, [\"input_text\", \"balance_type_id\", \"period_type_id\", \"labels\"])\n",
    "    \n",
    "    if name == \"val\":\n",
    "        # Apply generate_us_gaap_description to input_text for validation dataset\n",
    "        df[\"input_text\"] = df[\"input_text\"].apply(generate_us_gaap_description)\n",
    "\n",
    "    # Process the labels\n",
    "    df[\"labels\"] = df[\"labels\"].apply(lambda s: [int(x) for x in s.split(\",\")] if s else [])\n",
    "\n",
    "    # Limit to a maximum of 2 labels per row\n",
    "    df[\"labels\"] = df[\"labels\"].apply(lambda x: x[:2])\n",
    "    \n",
    "    # Save as JSONL\n",
    "    df.to_json(f\"data/{name}.jsonl\", orient=\"records\", lines=True)\n",
    "    print(f\"{name}.jsonl saved with {len(df)} rows.\")\n",
    "\n",
    "if __name__ == \"__main__\":\n",
    "    for split, sql in queries.items():\n",
    "        build_dataset(split, sql)\n"
   ]
  },
  {
   "cell_type": "code",
   "execution_count": null,
   "metadata": {},
   "outputs": [],
   "source": []
  }
 ],
 "metadata": {
  "kernelspec": {
   "display_name": "Python 3 (ipykernel)",
   "language": "python",
   "name": "python3"
  },
  "language_info": {
   "codemirror_mode": {
    "name": "ipython",
    "version": 3
   },
   "file_extension": ".py",
   "mimetype": "text/x-python",
   "name": "python",
   "nbconvert_exporter": "python",
   "pygments_lexer": "ipython3",
   "version": "3.12.9"
  }
 },
 "nbformat": 4,
 "nbformat_minor": 2
}
