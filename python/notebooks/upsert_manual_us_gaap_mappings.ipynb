{
 "cells": [
  {
   "cell_type": "code",
   "execution_count": null,
   "metadata": {},
   "outputs": [],
   "source": [
    "from db import DB\n",
    "from utils.pytorch import seed_everything, get_device\n",
    "from models.pytorch.us_gaap_alignment import UsGaapAlignmentModel\n",
    "from models.pytorch.us_gaap_alignment.inference import ingest_automated_inference\n",
    "\n",
    "\n",
    "device = get_device()\n",
    "\n",
    "db = DB()\n",
    "\n",
    "# Load reference dataset\n",
    "dataset_path = \"data/us_gaap_concepts_with_variations_and_embeddings.jsonl\"\n",
    "\n",
    "model = UsGaapAlignmentModel.from_pretrained(\n",
    "    \"data/pretrained\",\n",
    "    device=device\n",
    ")"
   ]
  },
  {
   "cell_type": "code",
   "execution_count": null,
   "metadata": {},
   "outputs": [],
   "source": [
    "ingest_automated_inference(db, dataset_path, model, device)"
   ]
  },
  {
   "cell_type": "code",
   "execution_count": null,
   "metadata": {},
   "outputs": [],
   "source": []
  }
 ],
 "metadata": {
  "kernelspec": {
   "display_name": "Python 3 (ipykernel)",
   "language": "python",
   "name": "python3"
  },
  "language_info": {
   "codemirror_mode": {
    "name": "ipython",
    "version": 3
   },
   "file_extension": ".py",
   "mimetype": "text/x-python",
   "name": "python",
   "nbconvert_exporter": "python",
   "pygments_lexer": "ipython3",
   "version": "3.12.9"
  }
 },
 "nbformat": 4,
 "nbformat_minor": 2
}
