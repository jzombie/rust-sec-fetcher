{
 "cells": [
  {
   "cell_type": "markdown",
   "id": "e96c8a08",
   "metadata": {},
   "source": [
    "# Locate US GAAP Concepts\n",
    "\n",
    "Scans fetched files for given US GAAP concept value."
   ]
  },
  {
   "cell_type": "code",
   "execution_count": null,
   "id": "67d3dd13",
   "metadata": {},
   "outputs": [],
   "source": [
    "import os\n",
    "import pandas as pd\n",
    "from tqdm import tqdm\n",
    "\n",
    "# === Step 1: Set your target tag ===\n",
    "target_tag = \"AccountsReceivableGrossNoncurrent\"  # <-- Change this to your desired tag name\n",
    "data_dir = \"../data/us-gaap\"\n",
    "\n",
    "# === Step 2: Recursively search all CSV files with progress bar ===\n",
    "matches = []\n",
    "csv_files = []\n",
    "\n",
    "for root, _, files in os.walk(data_dir):\n",
    "    for file in files:\n",
    "        if file.endswith(\".csv\"):\n",
    "            csv_files.append(os.path.join(root, file))\n",
    "\n",
    "for csv_path in tqdm(csv_files, desc=\"Scanning CSV files\"):\n",
    "    try:\n",
    "        df = pd.read_csv(csv_path, low_memory=False)\n",
    "\n",
    "        if target_tag in df.columns:\n",
    "            matches.append((csv_path, df[target_tag].dropna().tolist()))\n",
    "    except Exception as e:\n",
    "        print(f\"⚠️ Skipped {csv_path} due to error: {e}\")\n",
    "\n",
    "# === Step 3: Display results ===\n",
    "if not matches:\n",
    "    print(f\"No files found with column '{target_tag}'.\")\n",
    "else:\n",
    "    for path, values in matches:\n",
    "        print(f\"\\n📄 File: {path}\")\n",
    "        print(f\"🔍 {target_tag} Values:\")\n",
    "        for v in values[:20]:  # Limit preview to 20 values per file\n",
    "            print(f\"  - {v}\")\n"
   ]
  },
  {
   "cell_type": "code",
   "execution_count": null,
   "id": "1d8f98f8",
   "metadata": {},
   "outputs": [],
   "source": []
  }
 ],
 "metadata": {
  "kernelspec": {
   "display_name": "Python 3 (ipykernel)",
   "language": "python",
   "name": "python3"
  },
  "language_info": {
   "codemirror_mode": {
    "name": "ipython",
    "version": 3
   },
   "file_extension": ".py",
   "mimetype": "text/x-python",
   "name": "python",
   "nbconvert_exporter": "python",
   "pygments_lexer": "ipython3",
   "version": "3.12.9"
  }
 },
 "nbformat": 4,
 "nbformat_minor": 5
}
