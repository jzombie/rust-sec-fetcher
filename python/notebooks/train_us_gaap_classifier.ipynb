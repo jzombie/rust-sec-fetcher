{
 "cells": [
  {
   "cell_type": "code",
   "execution_count": null,
   "metadata": {},
   "outputs": [
    {
     "name": "stderr",
     "output_type": "stream",
     "text": [
      "/Volumes/2TB Storage Vault/rust-sec-fetcher/python/venv/lib/python3.12/site-packages/tqdm/auto.py:21: TqdmWarning: IProgress not found. Please update jupyter and ipywidgets. See https://ipywidgets.readthedocs.io/en/stable/user_install.html\n",
      "  from .autonotebook import tqdm as notebook_tqdm\n"
     ]
    },
    {
     "name": "stdout",
     "output_type": "stream",
     "text": [
      "Using device: mps\n"
     ]
    }
   ],
   "source": [
    "import random\n",
    "import os\n",
    "import json\n",
    "import torch\n",
    "import optuna\n",
    "import math\n",
    "from collections import Counter\n",
    "from torch.utils.data import Dataset, DataLoader\n",
    "from sklearn.model_selection import StratifiedShuffleSplit\n",
    "from sentence_transformers import SentenceTransformer\n",
    "import pytorch_lightning as pl\n",
    "from pytorch_lightning.callbacks import EarlyStopping, ModelCheckpoint\n",
    "from pytorch_lightning.loggers import TensorBoardLogger\n",
    "from pytorch_lightning.callbacks import Callback\n",
    "from torchmetrics.classification import MulticlassAccuracy\n",
    "\n",
    "# === SEED ===\n",
    "SEED = 42\n",
    "def seed_everything(seed: int):\n",
    "    random.seed(seed)\n",
    "    np.random.seed(seed)\n",
    "    torch.manual_seed(seed)\n",
    "    if torch.cuda.is_available():\n",
    "        torch.cuda.manual_seed_all(seed)\n",
    "    pl.seed_everything(seed, workers=True)\n",
    "\n",
    "# === CONFIG ===\n",
    "DATASET_PATH = \"data/us_gaap_multilabel_training_data.json\"\n",
    "MODEL_NAME = \"BAAI/bge-large-en-v1.5\"\n",
    "OUTPUT_PATH = \"data/fine_tuned_gaap_classifier\"\n",
    "os.makedirs(OUTPUT_PATH, exist_ok=True)\n",
    "OPTUNA_DB_PATH = os.path.join(OUTPUT_PATH, \"optuna_study.db\")\n",
    "BATCH_SIZE = 16\n",
    "EPOCHS = 100\n",
    "PATIENCE = 3\n",
    "VALIDATION_SPLIT = 0.2\n",
    "\n",
    "device = \"mps\" if torch.backends.mps.is_available() else \"cpu\"\n",
    "print(f\"Using device: {device}\")\n",
    "\n",
    "with open(DATASET_PATH, \"r\") as f:\n",
    "    data = json.load(f)\n",
    "\n",
    "def label_hash(entry):\n",
    "    return f\"{entry['labels']['statement_type']}_{entry['labels']['balance']}_{entry['labels']['period_type']}\"\n",
    "\n",
    "def get_split():\n",
    "    label_hashes = [label_hash(d) for d in data]\n",
    "    hash_counts = Counter(label_hashes)\n",
    "    common_data, common_labels, rare_data = [], [], []\n",
    "    for i, lh in enumerate(label_hashes):\n",
    "        if hash_counts[lh] >= 2:\n",
    "            common_data.append(data[i])\n",
    "            common_labels.append(lh)\n",
    "        else:\n",
    "            rare_data.append(data[i])\n",
    "    splitter = StratifiedShuffleSplit(n_splits=1, test_size=VALIDATION_SPLIT, random_state=42)\n",
    "    train_idx, val_idx = next(splitter.split(common_data, common_labels))\n",
    "    train_data = [common_data[i] for i in train_idx]\n",
    "    val_data = [common_data[i] for i in val_idx]\n",
    "    train_data.extend(rare_data)\n",
    "    return train_data, val_data\n",
    "\n",
    "class MultiLabelDataset(Dataset):\n",
    "    def __init__(self, data):\n",
    "        self.samples = [\n",
    "            (d[\"text\"], torch.tensor([\n",
    "                d[\"labels\"][\"statement_type\"],\n",
    "                d[\"labels\"][\"balance\"],\n",
    "                d[\"labels\"][\"period_type\"]\n",
    "            ], dtype=torch.long))\n",
    "            for d in data\n",
    "        ]\n",
    "    def __len__(self):\n",
    "        return len(self.samples)\n",
    "    def __getitem__(self, idx):\n",
    "        return self.samples[idx]\n",
    "\n",
    "def collate_fn(batch):\n",
    "    texts, labels = zip(*batch)\n",
    "    return list(texts), torch.stack(labels)\n",
    "\n",
    "class GAAPClassifier(pl.LightningModule):\n",
    "    def __init__(self, lr, weight_decay, model_name):\n",
    "        super().__init__()\n",
    "        self.lr = lr\n",
    "        self.weight_decay = weight_decay\n",
    "        self.model_name = model_name\n",
    "        self.encoder = SentenceTransformer(model_name, device=device)\n",
    "        dim = self.encoder.get_sentence_embedding_dimension()\n",
    "        self.head_st = torch.nn.Linear(dim, 3) # Dependent on number of classes\n",
    "        self.head_bal = torch.nn.Linear(dim, 3) # Dependent on number of classes\n",
    "        self.head_pt = torch.nn.Linear(dim, 3) # Dependent on number of classes\n",
    "        self.loss_fn = torch.nn.CrossEntropyLoss()\n",
    "        self.save_hyperparameters()\n",
    "\n",
    "        self.acc_st = MulticlassAccuracy(num_classes=3, average='micro')\n",
    "        self.acc_bal = MulticlassAccuracy(num_classes=3, average='micro')\n",
    "        self.acc_pt = MulticlassAccuracy(num_classes=3, average='micro')\n",
    "\n",
    "\n",
    "    def forward(self, texts):\n",
    "        with torch.no_grad():\n",
    "            embeddings = self.encoder.encode(\n",
    "                texts, convert_to_tensor=True, device=device\n",
    "            )\n",
    "        out_st = self.head_st(embeddings)\n",
    "        out_bal = self.head_bal(embeddings)\n",
    "        out_pt = self.head_pt(embeddings)\n",
    "        return out_st, out_bal, out_pt\n",
    "\n",
    "    def compute_loss(self, outputs, labels):\n",
    "        out_st, out_bal, out_pt = outputs\n",
    "        loss_0 = self.loss_fn(out_st, labels[:, 0])\n",
    "        loss_1 = self.loss_fn(out_bal, labels[:, 1])\n",
    "        loss_2 = self.loss_fn(out_pt, labels[:, 2])\n",
    "        return loss_0 + loss_1 + loss_2, (loss_0, loss_1, loss_2)\n",
    "\n",
    "    def training_step(self, batch, batch_idx):\n",
    "        texts, labels = batch\n",
    "        outputs = self(texts)\n",
    "        loss, (l0, l1, l2) = self.compute_loss(outputs, labels)\n",
    "        self.log(\"train/loss\", loss, prog_bar=True)\n",
    "        self.log(\"train/loss_statement_type\", l0)\n",
    "        self.log(\"train/loss_balance\", l1)\n",
    "        self.log(\"train/loss_period_type\", l2)\n",
    "\n",
    "        pred_st = torch.argmax(outputs[0], dim=1)\n",
    "        pred_bal = torch.argmax(outputs[1], dim=1)\n",
    "        pred_pt = torch.argmax(outputs[2], dim=1)\n",
    "\n",
    "        self.log(\"train/acc_statement_type\", self.acc_st(pred_st, labels[:, 0]))\n",
    "        self.log(\"train/acc_balance\", self.acc_bal(pred_bal, labels[:, 1]))\n",
    "        self.log(\"train/acc_period_type\", self.acc_pt(pred_pt, labels[:, 2]))\n",
    "\n",
    "        return loss\n",
    "\n",
    "    def validation_step(self, batch, batch_idx):\n",
    "        texts, labels = batch\n",
    "        outputs = self(texts)\n",
    "        loss, (l0, l1, l2) = self.compute_loss(outputs, labels)\n",
    "        self.log(\"val/loss\", loss, prog_bar=True)\n",
    "        self.log(\"val/loss_statement_type\", l0)\n",
    "        self.log(\"val/loss_balance\", l1)\n",
    "        self.log(\"val/loss_period_type\", l2)\n",
    "\n",
    "        pred_st = torch.argmax(outputs[0], dim=1)\n",
    "        pred_bal = torch.argmax(outputs[1], dim=1)\n",
    "        pred_pt = torch.argmax(outputs[2], dim=1)\n",
    "\n",
    "        self.log(\"val/acc_statement_type\", self.acc_st(pred_st, labels[:, 0]))\n",
    "        self.log(\"val/acc_balance\", self.acc_bal(pred_bal, labels[:, 1]))\n",
    "        self.log(\"val/acc_period_type\", self.acc_pt(pred_pt, labels[:, 2]))\n",
    "\n",
    "        return loss\n",
    "\n",
    "    def configure_optimizers(self):\n",
    "        params = list(self.head_st.parameters()) + \\\n",
    "                 list(self.head_bal.parameters()) + \\\n",
    "                 list(self.head_pt.parameters())\n",
    "        return torch.optim.AdamW(\n",
    "            params,\n",
    "            lr=self.lr,\n",
    "            weight_decay=self.weight_decay\n",
    "        )\n",
    "\n",
    "class SafePruningCallback(Callback):\n",
    "    def __init__(self, trial, monitor: str = \"val/loss\"):\n",
    "        super().__init__()\n",
    "        self.trial = trial\n",
    "        self.monitor = monitor\n",
    "\n",
    "    def on_validation_end(self, trainer, pl_module):\n",
    "        current = trainer.callback_metrics.get(self.monitor)\n",
    "        if current is None:\n",
    "            return\n",
    "        self.trial.report(current, step=trainer.global_step)\n",
    "        if self.trial.should_prune():\n",
    "            raise optuna.TrialPruned()\n",
    "\n",
    "def objective(trial):\n",
    "    lr = trial.suggest_float(\"lr\", 1e-6, 1e-3, log=True)\n",
    "    weight_decay = trial.suggest_float(\"weight_decay\", 0.0, 0.1)\n",
    "\n",
    "    train_data, val_data = get_split()\n",
    "    train_loader = DataLoader(MultiLabelDataset(train_data),\n",
    "                              batch_size=BATCH_SIZE,\n",
    "                              shuffle=True,\n",
    "                              collate_fn=collate_fn)\n",
    "    val_loader = DataLoader(MultiLabelDataset(val_data),\n",
    "                            batch_size=BATCH_SIZE,\n",
    "                            shuffle=False,\n",
    "                            collate_fn=collate_fn)\n",
    "\n",
    "    model = GAAPClassifier(lr=lr, weight_decay=weight_decay,\n",
    "                           model_name=MODEL_NAME)\n",
    "\n",
    "    log_dir = os.path.join(OUTPUT_PATH, f\"trial_{trial.number}\")\n",
    "    logger = TensorBoardLogger(save_dir=log_dir, name=\"logs\")\n",
    "\n",
    "    early_stop = EarlyStopping(monitor=\"val/loss\", patience=PATIENCE, mode=\"min\")\n",
    "    checkpoint_cb = ModelCheckpoint(\n",
    "        dirpath=os.path.join(log_dir, \"checkpoints\"),\n",
    "        filename=\"best\",\n",
    "        monitor=\"val/loss\",\n",
    "        mode=\"min\",\n",
    "        save_top_k=1,\n",
    "        save_weights_only=True\n",
    "    )\n",
    "\n",
    "    trainer = pl.Trainer(\n",
    "        logger=logger,\n",
    "        max_epochs=EPOCHS,\n",
    "        enable_checkpointing=True,\n",
    "        callbacks=[\n",
    "            early_stop,\n",
    "            checkpoint_cb,\n",
    "            SafePruningCallback(trial, monitor=\"val/loss\")\n",
    "        ],\n",
    "        log_every_n_steps=1,\n",
    "        accelerator=\"auto\",\n",
    "        devices=1\n",
    "    )\n",
    "\n",
    "    trainer.fit(model, train_dataloaders=train_loader, val_dataloaders=val_loader)\n",
    "    print(\"Best checkpoint:\", checkpoint_cb.best_model_path)\n",
    "    return trainer.callback_metrics[\"val/loss\"].item()\n"
   ]
  },
  {
   "cell_type": "code",
   "execution_count": null,
   "metadata": {},
   "outputs": [
    {
     "name": "stderr",
     "output_type": "stream",
     "text": [
      "[I 2025-03-22 12:41:53,281] A new study created in RDB with name: gaap_tuning\n",
      "GPU available: True (mps), used: True\n",
      "TPU available: False, using: 0 TPU cores\n",
      "HPU available: False, using: 0 HPUs\n",
      "\n",
      "  | Name     | Type                | Params | Mode \n",
      "---------------------------------------------------------\n",
      "0 | encoder  | SentenceTransformer | 335 M  | train\n",
      "1 | head_st  | Linear              | 3.1 K  | train\n",
      "2 | head_bal | Linear              | 3.1 K  | train\n",
      "3 | head_pt  | Linear              | 3.1 K  | train\n",
      "4 | loss_fn  | CrossEntropyLoss    | 0      | train\n",
      "5 | acc_st   | MulticlassAccuracy  | 0      | train\n",
      "6 | acc_bal  | MulticlassAccuracy  | 0      | train\n",
      "7 | acc_pt   | MulticlassAccuracy  | 0      | train\n",
      "---------------------------------------------------------\n",
      "335 M     Trainable params\n",
      "0         Non-trainable params\n",
      "335 M     Total params\n",
      "1,340.604 Total estimated model params size (MB)\n",
      "11        Modules in train mode\n",
      "444       Modules in eval mode\n"
     ]
    },
    {
     "name": "stdout",
     "output_type": "stream",
     "text": [
      "Sanity Checking DataLoader 0:   0%|                       | 0/2 [00:00<?, ?it/s]"
     ]
    },
    {
     "name": "stderr",
     "output_type": "stream",
     "text": [
      "/Volumes/2TB Storage Vault/rust-sec-fetcher/python/venv/lib/python3.12/site-packages/pytorch_lightning/trainer/connectors/data_connector.py:425: The 'val_dataloader' does not have many workers which may be a bottleneck. Consider increasing the value of the `num_workers` argument` to `num_workers=9` in the `DataLoader` to improve performance.\n"
     ]
    },
    {
     "name": "stdout",
     "output_type": "stream",
     "text": [
      "                                                                                "
     ]
    },
    {
     "name": "stderr",
     "output_type": "stream",
     "text": [
      "/Volumes/2TB Storage Vault/rust-sec-fetcher/python/venv/lib/python3.12/site-packages/pytorch_lightning/trainer/connectors/data_connector.py:425: The 'train_dataloader' does not have many workers which may be a bottleneck. Consider increasing the value of the `num_workers` argument` to `num_workers=9` in the `DataLoader` to improve performance.\n"
     ]
    },
    {
     "name": "stdout",
     "output_type": "stream",
     "text": [
      "Epoch 99: 100%|█| 146/146 [00:17<00:00,  8.31it/s, v_num=0, train/loss=0.891, va"
     ]
    },
    {
     "name": "stderr",
     "output_type": "stream",
     "text": [
      "`Trainer.fit` stopped: `max_epochs=100` reached.\n"
     ]
    },
    {
     "name": "stdout",
     "output_type": "stream",
     "text": [
      "Epoch 99: 100%|█| 146/146 [00:17<00:00,  8.31it/s, v_num=0, train/loss=0.891, va\n"
     ]
    },
    {
     "name": "stderr",
     "output_type": "stream",
     "text": [
      "[I 2025-03-22 13:15:57,269] Trial 0 finished with value: 1.0321216583251953 and parameters: {'lr': 0.0009333139875643538, 'weight_decay': 0.019802078910064514}. Best is trial 0 with value: 1.0321216583251953.\n"
     ]
    },
    {
     "name": "stdout",
     "output_type": "stream",
     "text": [
      "Best checkpoint: /Volumes/2TB Storage Vault/rust-sec-fetcher/python/data/fine_tuned_gaap_classifier/trial_0/checkpoints/best.ckpt\n"
     ]
    },
    {
     "name": "stderr",
     "output_type": "stream",
     "text": [
      "GPU available: True (mps), used: True\n",
      "TPU available: False, using: 0 TPU cores\n",
      "HPU available: False, using: 0 HPUs\n",
      "\n",
      "  | Name     | Type                | Params | Mode \n",
      "---------------------------------------------------------\n",
      "0 | encoder  | SentenceTransformer | 335 M  | train\n",
      "1 | head_st  | Linear              | 3.1 K  | train\n",
      "2 | head_bal | Linear              | 3.1 K  | train\n",
      "3 | head_pt  | Linear              | 3.1 K  | train\n",
      "4 | loss_fn  | CrossEntropyLoss    | 0      | train\n",
      "5 | acc_st   | MulticlassAccuracy  | 0      | train\n",
      "6 | acc_bal  | MulticlassAccuracy  | 0      | train\n",
      "7 | acc_pt   | MulticlassAccuracy  | 0      | train\n",
      "---------------------------------------------------------\n",
      "335 M     Trainable params\n",
      "0         Non-trainable params\n",
      "335 M     Total params\n",
      "1,340.604 Total estimated model params size (MB)\n",
      "11        Modules in train mode\n",
      "444       Modules in eval mode\n"
     ]
    },
    {
     "name": "stdout",
     "output_type": "stream",
     "text": [
      "Sanity Checking DataLoader 0:   0%|                       | 0/2 [00:00<?, ?it/s]"
     ]
    },
    {
     "name": "stderr",
     "output_type": "stream",
     "text": [
      "/Volumes/2TB Storage Vault/rust-sec-fetcher/python/venv/lib/python3.12/site-packages/pytorch_lightning/trainer/connectors/data_connector.py:425: The 'val_dataloader' does not have many workers which may be a bottleneck. Consider increasing the value of the `num_workers` argument` to `num_workers=9` in the `DataLoader` to improve performance.\n"
     ]
    },
    {
     "name": "stdout",
     "output_type": "stream",
     "text": [
      "                                                                                "
     ]
    },
    {
     "name": "stderr",
     "output_type": "stream",
     "text": [
      "/Volumes/2TB Storage Vault/rust-sec-fetcher/python/venv/lib/python3.12/site-packages/pytorch_lightning/trainer/connectors/data_connector.py:425: The 'train_dataloader' does not have many workers which may be a bottleneck. Consider increasing the value of the `num_workers` argument` to `num_workers=9` in the `DataLoader` to improve performance.\n"
     ]
    },
    {
     "name": "stdout",
     "output_type": "stream",
     "text": [
      "Epoch 35:  40%|▍| 59/146 [00:05<00:08, 10.16it/s, v_num=0, train/loss=1.700, val"
     ]
    }
   ],
   "source": [
    "study = optuna.create_study(\n",
    "     direction=\"minimize\",\n",
    "     study_name=\"gaap_tuning\",\n",
    "     storage=f\"sqlite:///{OPTUNA_DB_PATH}\",\n",
    "     load_if_exists=True\n",
    ")\n",
    "study.optimize(objective, n_trials=50)\n",
    "print(\"Best params:\", study.best_params)\n",
    "\n",
    "print(\"Best trial:\")\n",
    "best_trial = study.best_trial\n",
    "print(\"  Value: %.6f\" % best_trial.value)\n",
    "print(\"  Params:\")\n",
    "for k, v in best_trial.params.items():\n",
    "    print(\"    %s: %s\" % (k, v))\n",
    "\n"
   ]
  },
  {
   "cell_type": "code",
   "execution_count": null,
   "metadata": {},
   "outputs": [],
   "source": []
  }
 ],
 "metadata": {
  "kernelspec": {
   "display_name": "Python 3 (ipykernel)",
   "language": "python",
   "name": "python3"
  },
  "language_info": {
   "codemirror_mode": {
    "name": "ipython",
    "version": 3
   },
   "file_extension": ".py",
   "mimetype": "text/x-python",
   "name": "python",
   "nbconvert_exporter": "python",
   "pygments_lexer": "ipython3",
   "version": "3.12.5"
  }
 },
 "nbformat": 4,
 "nbformat_minor": 2
}
