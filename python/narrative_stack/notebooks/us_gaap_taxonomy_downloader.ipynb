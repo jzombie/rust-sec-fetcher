{
 "cells": [
  {
   "cell_type": "code",
   "execution_count": null,
   "id": "7df0a506",
   "metadata": {},
   "outputs": [],
   "source": [
    "import zipfile\n",
    "import requests\n",
    "from pathlib import Path\n",
    "from utils.csv import excel_to_csv\n",
    "\n",
    "# TODO: Adjust as necessary\n",
    "YEAR = 2025\n",
    "\n",
    "# More information: https://www.fasb.org/page/detail?pageId=/projects/FASB-Taxonomies/2025-gaap-financial-reporting-taxonomy.html\n",
    "# Terms of use: https://accountingfoundation.org/page/detail?pageId=/terms-of-use.html\n",
    "xlsx_path = Path(f\"data/{YEAR}_GAAP_Taxonomy.xlsx\")\n",
    "csv_path = Path(f\"data/{YEAR}_GAAP_Concepts.csv\")\n",
    "zip_url = f\"https://xbrl.fasb.org/resources/annualrelease/{YEAR}/GAAP_Taxonomy.zip\"\n",
    "zip_path = Path(f\"data/GAAP_Taxonomy_{YEAR}.zip\")\n",
    "\n",
    "headers = {\n",
    "    \"User-Agent\": (\n",
    "        \"Mozilla/5.0 (Windows NT 10.0; Win64; x64) \"\n",
    "        \"AppleWebKit/537.36 (KHTML, like Gecko) \"\n",
    "        \"Chrome/114.0.0.0 Safari/537.36\"\n",
    "    ),\n",
    "    \"Accept\": \"application/zip\",\n",
    "    \"Referer\": \"https://xbrl.fasb.org/\",\n",
    "}\n",
    "\n",
    "# Ensure data dir exists\n",
    "xlsx_path.parent.mkdir(parents=True, exist_ok=True)\n",
    "\n",
    "# Download and unzip if the Excel file is not present\n",
    "if not xlsx_path.exists():\n",
    "    print(\"Downloading taxonomy zip...\")\n",
    "    resp = requests.get(zip_url, headers=headers)\n",
    "    resp.raise_for_status()\n",
    "    zip_path.write_bytes(resp.content)\n",
    "\n",
    "    print(\"Extracting Excel file...\")\n",
    "    with zipfile.ZipFile(zip_path, \"r\") as zip_ref:\n",
    "        for file in zip_ref.namelist():\n",
    "            if file.lower().endswith(\".xlsx\"):\n",
    "                zip_ref.extract(file, path=xlsx_path.parent)\n",
    "                Path(xlsx_path.parent / file).rename(xlsx_path)\n",
    "                break\n",
    "\n",
    "# Convert to CSV\n",
    "excel_to_csv(xlsx_path, \"Concepts\", csv_path)"
   ]
  }
 ],
 "metadata": {
  "kernelspec": {
   "display_name": "Python 3 (ipykernel)",
   "language": "python",
   "name": "python3"
  },
  "language_info": {
   "codemirror_mode": {
    "name": "ipython",
    "version": 3
   },
   "file_extension": ".py",
   "mimetype": "text/x-python",
   "name": "python",
   "nbconvert_exporter": "python",
   "pygments_lexer": "ipython3",
   "version": "3.12.3"
  }
 },
 "nbformat": 4,
 "nbformat_minor": 5
}
