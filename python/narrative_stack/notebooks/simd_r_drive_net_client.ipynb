{
 "cells": [
  {
   "cell_type": "code",
   "execution_count": null,
   "id": "8e5753f9",
   "metadata": {},
   "outputs": [],
   "source": [
    "from simd_r_drive_net_client import DataStoreNetClient"
   ]
  },
  {
   "cell_type": "code",
   "execution_count": null,
   "id": "26e40a2f",
   "metadata": {},
   "outputs": [],
   "source": [
    "client = DataStoreNetClient(\"127.0.0.1:59594\")"
   ]
  },
  {
   "cell_type": "code",
   "execution_count": null,
   "id": "2bbed0ad",
   "metadata": {},
   "outputs": [],
   "source": [
    "# client.batch_write([\n",
    "#     (b\"testing\", b\"1234\"),\n",
    "#     (b\"testing1\", b\"12345\")\n",
    "\n",
    "# ])\n",
    "\n",
    "client.write(b\"hello\", bytes(1024 * 1))\n",
    "# client.read(b\"testing1\")\n",
    "\n",
    "# display(client.read(b\"__triplet_count__\"))"
   ]
  },
  {
   "cell_type": "code",
   "execution_count": null,
   "id": "dbb83157",
   "metadata": {},
   "outputs": [],
   "source": []
  }
 ],
 "metadata": {
  "kernelspec": {
   "display_name": "Python 3 (ipykernel)",
   "language": "python",
   "name": "python3"
  },
  "language_info": {
   "codemirror_mode": {
    "name": "ipython",
    "version": 3
   },
   "file_extension": ".py",
   "mimetype": "text/x-python",
   "name": "python",
   "nbconvert_exporter": "python",
   "pygments_lexer": "ipython3",
   "version": "3.12.3"
  }
 },
 "nbformat": 4,
 "nbformat_minor": 5
}
