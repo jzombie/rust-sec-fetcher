{
 "cells": [
  {
   "cell_type": "code",
   "execution_count": 7,
   "id": "8e5753f9",
   "metadata": {},
   "outputs": [],
   "source": [
    "from simd_r_drive_ws_client import DataStoreWsClient"
   ]
  },
  {
   "cell_type": "code",
   "execution_count": 8,
   "id": "26e40a2f",
   "metadata": {},
   "outputs": [],
   "source": [
    "client = DataStoreWsClient(\"127.0.0.1:59349\")\n",
    "# client = DataStoreWsClient(\"192.168.0.10:3000\")"
   ]
  },
  {
   "cell_type": "code",
   "execution_count": 9,
   "id": "2bbed0ad",
   "metadata": {},
   "outputs": [
    {
     "data": {
      "text/plain": [
       "False"
      ]
     },
     "execution_count": 9,
     "metadata": {},
     "output_type": "execute_result"
    }
   ],
   "source": [
    "# client.batch_write([\n",
    "#     (b\"testing1221\", b\"hello there!!!!\"),\n",
    "#     (b\"testing1\", b\"12345\"),\n",
    "#     (b\"testing2\", b\"12345\"),\n",
    "#     (b\"bytes\", bytes(1024))\n",
    "# ])\n",
    "\n",
    "client.stage_write(b\"hello\", b\"world\")\n",
    "\n",
    "\n",
    "# print(\"reading\")\n",
    "# for i in range(1, 1000):\n",
    "#     print(i)\n",
    "#     client.write(i.to_bytes(4), i.to_bytes(4))\n",
    "\n",
    "#     client.read(i.to_bytes(4))\n",
    "\n",
    "# display(client.read(b\"__triplet_count__\"))"
   ]
  },
  {
   "cell_type": "code",
   "execution_count": null,
   "id": "c3964779",
   "metadata": {},
   "outputs": [],
   "source": [
    "client.stage_write_flush()"
   ]
  },
  {
   "cell_type": "code",
   "execution_count": null,
   "id": "dbb83157",
   "metadata": {},
   "outputs": [],
   "source": [
    "# len(client.read(b\"bytes\"))\n",
    "client.read(b\"hello\")"
   ]
  },
  {
   "cell_type": "code",
   "execution_count": null,
   "id": "193596fd",
   "metadata": {},
   "outputs": [],
   "source": []
  }
 ],
 "metadata": {
  "kernelspec": {
   "display_name": "Python 3 (ipykernel)",
   "language": "python",
   "name": "python3"
  },
  "language_info": {
   "codemirror_mode": {
    "name": "ipython",
    "version": 3
   },
   "file_extension": ".py",
   "mimetype": "text/x-python",
   "name": "python",
   "nbconvert_exporter": "python",
   "pygments_lexer": "ipython3",
   "version": "3.12.3"
  }
 },
 "nbformat": 4,
 "nbformat_minor": 5
}
