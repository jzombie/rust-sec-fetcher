{
 "cells": [
  {
   "cell_type": "code",
   "execution_count": null,
   "id": "8e5753f9",
   "metadata": {},
   "outputs": [],
   "source": [
    "import logging\n",
    "from config import simd_r_drive_server_config\n",
    "from simd_r_drive_ws_client import DataStoreWsClient\n",
    "import simd_r_drive_ws_client\n",
    "\n",
    "# simd_r_drive_ws_client.setup_logging(logging.info)"
   ]
  },
  {
   "cell_type": "code",
   "execution_count": null,
   "id": "26e40a2f",
   "metadata": {},
   "outputs": [],
   "source": [
    "from us_gaap_store import UsGaapStore\n",
    "\n",
    "client = DataStoreWsClient(simd_r_drive_server_config.host, simd_r_drive_server_config.port)\n",
    "us_gaap_store = UsGaapStore(client)\n"
   ]
  },
  {
   "cell_type": "code",
   "execution_count": null,
   "id": "71edd3bc",
   "metadata": {},
   "outputs": [],
   "source": [
    "us_gaap_store.batch_lookup_stage1_latents_by_indices([1,2,3])"
   ]
  },
  {
   "cell_type": "code",
   "execution_count": null,
   "id": "a5758fb0",
   "metadata": {},
   "outputs": [],
   "source": [
    "len(client)\n",
    "# client.file_size()"
   ]
  },
  {
   "cell_type": "code",
   "execution_count": null,
   "id": "86acc295",
   "metadata": {},
   "outputs": [],
   "source": [
    "from us_gaap_store import UsGaapStore\n",
    "us_gaap_store = UsGaapStore(client)\n",
    "\n",
    "us_gaap_store.lookup_by_index(36_000_000)"
   ]
  },
  {
   "cell_type": "code",
   "execution_count": null,
   "id": "4ef0270a",
   "metadata": {},
   "outputs": [],
   "source": []
  },
  {
   "cell_type": "code",
   "execution_count": null,
   "id": "08b6a61f",
   "metadata": {},
   "outputs": [],
   "source": [
    "client.file_size()"
   ]
  },
  {
   "cell_type": "code",
   "execution_count": null,
   "id": "96fea5f5",
   "metadata": {},
   "outputs": [],
   "source": [
    "del client"
   ]
  },
  {
   "cell_type": "code",
   "execution_count": null,
   "id": "861128de",
   "metadata": {},
   "outputs": [],
   "source": [
    "import time\n",
    "from typing import Dict, List, Union, Any, Optional, Tuple\n",
    "\n",
    "\n",
    "print(\"-\" * 20)\n",
    "\n",
    "\n",
    "\n",
    "client.batch_write([\n",
    "    (b\"testing1221\", b\"hello there!!!!\"),\n",
    "    (b\"testing1\", b\"12345\"),\n",
    "    (b\"testing2\", b\"12345\"),\n",
    "    (b\"bytes\", bytes(1024)),\n",
    "    (b\"name\", b\"jeremy\")\n",
    "])\n",
    "\n",
    "client.batch_read_structured([{\n",
    "    \"my_name\": b\"name\",\n",
    "}, {\n",
    "    \"my_name\": b\"testing2\",\n",
    "}])\n",
    "\n"
   ]
  },
  {
   "cell_type": "code",
   "execution_count": null,
   "id": "64ff17bd",
   "metadata": {},
   "outputs": [],
   "source": [
    "from simd_r_drive_ws_client import DataStoreWsClient\n",
    "import os, secrets, time, sys\n",
    "\n",
    "\n",
    "\n",
    "# ── 1.  Prepare a *big* payload  ─────────────────────────────────────────\n",
    "#\n",
    "# • 200 000 keys, each key ≈ 10 bytes  →  ~2 MB of key-names\n",
    "# • 64-byte value per key              →  ~12 MB of payload\n",
    "#   (big enough to burst an 8 or 16 MiB frame cap)\n",
    "\n",
    "KEYS     = [f\"key-{i}\".encode() for i in range(100)]\n",
    "PAYLOAD  = secrets.token_bytes(64)\n",
    "\n",
    "print(f\"Writing {len(KEYS)} keys …\")\n",
    "start = time.perf_counter()\n",
    "\n",
    "# for k in KEYS:\n",
    "#     c.write(k, PAYLOAD)           # tiny individual writes = no problem\n",
    "client.batch_write(list(zip(KEYS, [PAYLOAD] * len(KEYS))))\n",
    "# print(f\"✓ wrote in {time.perf_counter()-start:.1f}s\")\n",
    "\n",
    "# ── 2.  Add one missing key so we get a None in the output  ──────────────\n",
    "batch_query = KEYS + [b\"missing-key\"]\n",
    "\n",
    "print(\"\\nIssuing giant batch_read … (this is expected to blow up)\")\n",
    "try:\n",
    "    _ = client.batch_read(batch_query)     #  ← BOOM (if frame too large)\n",
    "    print(\"❗  Surprisingly succeeded – your frame cap is already high.\")\n",
    "except Exception as e:\n",
    "    print(\"💥  batch_read raised:\", e)\n",
    "    print(\"Most likely the server closed the frame early → decoder saw an \"\n",
    "          \"invalid tag byte and bailed out.\")\n"
   ]
  },
  {
   "cell_type": "code",
   "execution_count": null,
   "id": "ec03abb4",
   "metadata": {},
   "outputs": [],
   "source": []
  },
  {
   "cell_type": "code",
   "execution_count": null,
   "id": "2bbed0ad",
   "metadata": {},
   "outputs": [],
   "source": [
    "client.batch_write([\n",
    "    (b\"testing1221\", b\"hello there!!!!\"),\n",
    "    (b\"testing1\", b\"12345\"),\n",
    "    (b\"testing2\", b\"12345\"),\n",
    "    (b\"bytes\", bytes(1024))\n",
    "])\n",
    "\n",
    "# client.stage_write(b\"hello\", b\"world\")\n",
    "\n",
    "\n",
    "# print(\"reading\")\n",
    "# for i in range(1, 1000):\n",
    "#     print(i)\n",
    "#     client.write(i.to_bytes(4), i.to_bytes(4))\n",
    "\n",
    "#     client.read(i.to_bytes(4))\n",
    "\n",
    "display(client.read(b\"testing1221\"))"
   ]
  },
  {
   "cell_type": "code",
   "execution_count": null,
   "id": "dbb83157",
   "metadata": {},
   "outputs": [],
   "source": [
    "# len(client.read(b\"bytes\"))\n",
    "client.read(b\"testing1221\")"
   ]
  },
  {
   "cell_type": "code",
   "execution_count": null,
   "id": "193596fd",
   "metadata": {},
   "outputs": [],
   "source": []
  }
 ],
 "metadata": {
  "kernelspec": {
   "display_name": ".venv",
   "language": "python",
   "name": "python3"
  },
  "language_info": {
   "codemirror_mode": {
    "name": "ipython",
    "version": 3
   },
   "file_extension": ".py",
   "mimetype": "text/x-python",
   "name": "python",
   "nbconvert_exporter": "python",
   "pygments_lexer": "ipython3",
   "version": "3.12.9"
  }
 },
 "nbformat": 4,
 "nbformat_minor": 5
}
